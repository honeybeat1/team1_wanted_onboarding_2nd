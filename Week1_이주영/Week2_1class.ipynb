{
 "cells": [
  {
   "cell_type": "markdown",
   "source": [
    "## 2021.08.07 "
   ],
   "metadata": {}
  },
  {
   "cell_type": "markdown",
   "source": [
    "# 2주차 과제\n",
    "- ## 자비스앤빌런스 과제\n",
    "    - 자비스앤빌런스 : 인공지능 경리\n",
    "    - 회사 조사 \n",
    "    - 예상환급액, 수수료\n",
    "    - 공개되어 있는 기준점을 참고하는 것보다 기준의 공통적인 요소를 가지고 진행하는 것이 좋다.\n",
    "    - 기존 자료에 국한되어서 보지말고 기준을 만들고 그 기준에 따라서 분석하는 것이 중요하다.\n",
    "    - 기준을 잡을 때 고객에 입장해서 보는 코호트 기준\n",
    "    - 서비스라면 조금 구매하는 고객, 많이 구매하는 고객 등등 -> 많이 구매하는 고객을 늘리는 것 중요\n",
    "    - 공통된 특성을 기준으로 잡아서 점수차이를 만들어서 점수 기반으로 분석하는 것 좋은 것같다."
   ],
   "metadata": {}
  },
  {
   "cell_type": "code",
   "execution_count": null,
   "source": [
    "코호트  : 특정기간 동안 공통된 특성이나 경험을 갖는 사용자 집단."
   ],
   "outputs": [],
   "metadata": {}
  },
  {
   "cell_type": "markdown",
   "source": [
    "# 머신러닝 & 사이킷런"
   ],
   "metadata": {}
  },
  {
   "cell_type": "markdown",
   "source": [
    "## 1. 머신러닝이란?"
   ],
   "metadata": {}
  },
  {
   "cell_type": "markdown",
   "source": [
    "## 머신러닝 : 데이터를 이용해서 예측 또는 분류를 수행하는 알고리즘을 구현하는 기법\n",
    "      데이터 -> 머신러닝 모델 -> 예측 또는 분류"
   ],
   "metadata": {}
  },
  {
   "cell_type": "markdown",
   "source": [
    "## 머신러닝이 필요한 이우\n",
    "- 인간이 정확히 하나하나 로직을 지정해주기 어려운 복잡한 문제를 데이터 기반한 학습을 통해서 해결할 수 있다.\n",
    "ex) 어떤 사용자에게 무슨 광고를 보여주는 것이 최적의 광고 배분 전략일까?\n",
    "    \n",
    "- 머신러닝 알고리즘을 사용할 때 가장 중요한 부분은 머신러닝 모델이 잘 학습할 수 있도록 적절한 특징 (Feature)를 설정해주는 것"
   ],
   "metadata": {}
  },
  {
   "cell_type": "markdown",
   "source": [
    "## 예측모델의 필요성\n",
    "- 데이터 분석을 통한 정교한 예측 모델을 갖고 있는 경우, 중요한 비지니스적 의사결정을 안정적이고 계획적으로 수행할 수 있다.\n",
    "예제1) 다음달에 휴대폰 판매량은 얼마나 될까?\n",
    "예측값 -> 생산계획 및 재고관리 전략 수립\n",
    "예제 2) 광고비를 100만원 더 집행하면 얼마나 많은 유저를 추가적으로 획득할 수 있을까?\n",
    "예측값 -> "
   ],
   "metadata": {}
  },
  {
   "cell_type": "markdown",
   "source": [],
   "metadata": {}
  },
  {
   "cell_type": "markdown",
   "source": [],
   "metadata": {}
  },
  {
   "cell_type": "markdown",
   "source": [],
   "metadata": {}
  }
 ],
 "metadata": {
  "orig_nbformat": 4,
  "language_info": {
   "name": "python",
   "version": "3.9.6"
  },
  "kernelspec": {
   "name": "python3",
   "display_name": "Python 3.9.6 64-bit ('work': conda)"
  },
  "interpreter": {
   "hash": "c63e62520d79bf01d5c1e69a957a402dab95e73f88f10f6fd0e357dcf107d99b"
  }
 },
 "nbformat": 4,
 "nbformat_minor": 2
}