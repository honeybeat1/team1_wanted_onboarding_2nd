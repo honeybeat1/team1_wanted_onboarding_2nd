{
 "cells": [
  {
   "cell_type": "markdown",
   "source": [
    "### 작성자: AISchool (http://aischool.ai/), Daniel Park"
   ],
   "metadata": {}
  },
  {
   "cell_type": "markdown",
   "source": [
    "# 2장. 쉽게 사용하는 데이터 분석 공구세트 Pandas, Numpy\n",
    "#### 엑셀은 이제 안녕. Python으로 진정한 데이터 사이언티스트로 거듭나자  \n",
    "- 엑셀과 같은 행과 열을 가진 Table 데이터를 다루는 패키지, Numpy와 Pandas  \n",
    "- Numpy와 Pandas를 이용하여 데이터를 나누고, 필터링하고, 정렬해보자  \n",
    "- 원티드 실제 DB의 데이터를 살펴보자! 국민연금 사업장 데이터로 배우는 데이터 분석의 첫 단추, EDA  \n",
    "- 1912년 타이타닉 사고의 데이터를 살펴보자!  \n",
    "\n",
    "**(학습 내용: Numpy, Pandas, Series, DataFrame, Indexing, csv 읽고 쓰기, merge, Kaggle, EDA(Exploratory Data Analysis), plot)**"
   ],
   "metadata": {}
  },
  {
   "cell_type": "markdown",
   "source": [
    "## 2.1. 쉽게 사용하는 데이터 분석 공구세트 (PPT 진행)"
   ],
   "metadata": {}
  },
  {
   "cell_type": "markdown",
   "source": [
    "## 2.2 도구들의 기초 개념 잡기"
   ],
   "metadata": {}
  },
  {
   "cell_type": "markdown",
   "source": [
    "### Numpy"
   ],
   "metadata": {}
  },
  {
   "cell_type": "markdown",
   "source": [
    "#### numpy 기본 1. 다차원 배열 만들기"
   ],
   "metadata": {}
  },
  {
   "cell_type": "code",
   "execution_count": 8,
   "source": [
    "# numpy 임포트\n",
    "import numpy as np"
   ],
   "outputs": [],
   "metadata": {}
  },
  {
   "cell_type": "code",
   "execution_count": 9,
   "source": [
    "# 1차원 배열 생성하기\n",
    "넘파이_배열1 = np.array([1,2,3,4])\n",
    "넘파이_배열1"
   ],
   "outputs": [
    {
     "output_type": "execute_result",
     "data": {
      "text/plain": [
       "array([1, 2, 3, 4])"
      ]
     },
     "metadata": {},
     "execution_count": 9
    }
   ],
   "metadata": {}
  },
  {
   "cell_type": "code",
   "execution_count": 10,
   "source": [
    "# 2차원 배열 생성하기\n",
    "넘파이_배열2 = np.array([[1,2,3,4],[11,12,13,14]])\n",
    "넘파이_배열2"
   ],
   "outputs": [
    {
     "output_type": "execute_result",
     "data": {
      "text/plain": [
       "array([[ 1,  2,  3,  4],\n",
       "       [11, 12, 13, 14]])"
      ]
     },
     "metadata": {},
     "execution_count": 10
    }
   ],
   "metadata": {}
  },
  {
   "cell_type": "code",
   "execution_count": 11,
   "source": [
    "# 3차원 배열 생성하기\n",
    "넘파이_배열3 = np.array([ [[1,2,3,4],[11,12,13,14]],\n",
    "                [[21,22,23,24],[31,32,33,34]] ])\n",
    "넘파이_배열3"
   ],
   "outputs": [
    {
     "output_type": "execute_result",
     "data": {
      "text/plain": [
       "array([[[ 1,  2,  3,  4],\n",
       "        [11, 12, 13, 14]],\n",
       "\n",
       "       [[21, 22, 23, 24],\n",
       "        [31, 32, 33, 34]]])"
      ]
     },
     "metadata": {},
     "execution_count": 11
    }
   ],
   "metadata": {}
  },
  {
   "cell_type": "code",
   "execution_count": 12,
   "source": [
    "# 배열의 모양 보기\n",
    "print(넘파이_배열1.shape)\n",
    "print(넘파이_배열2.shape)\n",
    "print(넘파이_배열3.shape)"
   ],
   "outputs": [
    {
     "output_type": "stream",
     "name": "stdout",
     "text": [
      "(4,)\n",
      "(2, 4)\n",
      "(2, 2, 4)\n"
     ]
    }
   ],
   "metadata": {}
  },
  {
   "cell_type": "code",
   "execution_count": 13,
   "source": [
    "z1 = np.zeros([4])    # 0 으로 채운 배열 만들기\n",
    "o2 = np.ones([3,4])   # 1 로 채운 배열 만들기\n",
    "r2 = np.random.randn(2,3)   # 랜덤한 숫자 배열 만들기"
   ],
   "outputs": [],
   "metadata": {}
  },
  {
   "cell_type": "code",
   "execution_count": 14,
   "source": [
    "z1, o2, r2"
   ],
   "outputs": [
    {
     "output_type": "execute_result",
     "data": {
      "text/plain": [
       "(array([0., 0., 0., 0.]),\n",
       " array([[1., 1., 1., 1.],\n",
       "        [1., 1., 1., 1.],\n",
       "        [1., 1., 1., 1.]]),\n",
       " array([[ 0.0402547 , -0.08507593,  0.88660565],\n",
       "        [-0.43065279,  0.82563845,  0.01431215]]))"
      ]
     },
     "metadata": {},
     "execution_count": 14
    }
   ],
   "metadata": {}
  },
  {
   "cell_type": "code",
   "execution_count": 15,
   "source": [
    "# 배열의 모양 보기\n",
    "print(z1.shape)\n",
    "print(o2.shape)\n",
    "print(r2.shape)"
   ],
   "outputs": [
    {
     "output_type": "stream",
     "name": "stdout",
     "text": [
      "(4,)\n",
      "(3, 4)\n",
      "(2, 3)\n"
     ]
    }
   ],
   "metadata": {}
  },
  {
   "cell_type": "code",
   "execution_count": 16,
   "source": [
    "# 무척 큰 4차원 배열 생성해보기\n",
    "r4 = np.random.randn(2,2,4,5).round(3)\n",
    "r4"
   ],
   "outputs": [
    {
     "output_type": "execute_result",
     "data": {
      "text/plain": [
       "array([[[[ 0.589,  1.187,  0.176, -0.246,  0.179],\n",
       "         [-0.478, -1.146,  0.724, -0.151, -1.601],\n",
       "         [-1.308, -0.734,  0.776,  0.085, -0.976],\n",
       "         [ 1.311, -1.668, -1.122, -1.09 , -0.358]],\n",
       "\n",
       "        [[ 0.205, -0.76 , -0.236,  0.394,  0.385],\n",
       "         [-0.959, -1.043,  0.841,  0.186, -0.595],\n",
       "         [-1.17 ,  1.007, -2.02 ,  1.205, -1.255],\n",
       "         [ 0.98 ,  0.82 ,  0.323, -1.686, -0.325]]],\n",
       "\n",
       "\n",
       "       [[[ 0.449, -2.085, -0.414,  0.26 , -1.198],\n",
       "         [-0.208, -0.718,  0.467,  0.644,  0.682],\n",
       "         [ 0.954,  0.513,  2.057, -1.403,  0.909],\n",
       "         [ 0.202,  0.201,  0.408,  2.635,  1.096]],\n",
       "\n",
       "        [[ 0.777, -1.045,  0.14 , -0.15 , -0.706],\n",
       "         [-0.166, -0.311, -0.793,  0.008,  0.838],\n",
       "         [-1.946,  0.251,  0.059, -0.074, -0.291],\n",
       "         [-0.777,  0.252,  1.034, -0.391, -1.324]]]])"
      ]
     },
     "metadata": {},
     "execution_count": 16
    }
   ],
   "metadata": {}
  },
  {
   "cell_type": "markdown",
   "source": [
    "##### <연습문제 2-1>\n",
    "1  3  5  7  9  \n",
    "2  4  6  8  10  \n",
    "  \n",
    "형태의 2x5 행렬을 만들어 보세요"
   ],
   "metadata": {}
  },
  {
   "cell_type": "code",
   "execution_count": 17,
   "source": [
    "np.array([[1,3,5,7,9],[2,4,6,8,10]])"
   ],
   "outputs": [
    {
     "output_type": "execute_result",
     "data": {
      "text/plain": [
       "array([[ 1,  3,  5,  7,  9],\n",
       "       [ 2,  4,  6,  8, 10]])"
      ]
     },
     "metadata": {},
     "execution_count": 17
    }
   ],
   "metadata": {}
  },
  {
   "cell_type": "code",
   "execution_count": null,
   "source": [],
   "outputs": [],
   "metadata": {}
  },
  {
   "cell_type": "markdown",
   "source": [
    "#### numpy 기본 2. Indexing과 Slicing"
   ],
   "metadata": {}
  },
  {
   "cell_type": "code",
   "execution_count": 18,
   "source": [
    "r4"
   ],
   "outputs": [
    {
     "output_type": "execute_result",
     "data": {
      "text/plain": [
       "array([[[[ 0.589,  1.187,  0.176, -0.246,  0.179],\n",
       "         [-0.478, -1.146,  0.724, -0.151, -1.601],\n",
       "         [-1.308, -0.734,  0.776,  0.085, -0.976],\n",
       "         [ 1.311, -1.668, -1.122, -1.09 , -0.358]],\n",
       "\n",
       "        [[ 0.205, -0.76 , -0.236,  0.394,  0.385],\n",
       "         [-0.959, -1.043,  0.841,  0.186, -0.595],\n",
       "         [-1.17 ,  1.007, -2.02 ,  1.205, -1.255],\n",
       "         [ 0.98 ,  0.82 ,  0.323, -1.686, -0.325]]],\n",
       "\n",
       "\n",
       "       [[[ 0.449, -2.085, -0.414,  0.26 , -1.198],\n",
       "         [-0.208, -0.718,  0.467,  0.644,  0.682],\n",
       "         [ 0.954,  0.513,  2.057, -1.403,  0.909],\n",
       "         [ 0.202,  0.201,  0.408,  2.635,  1.096]],\n",
       "\n",
       "        [[ 0.777, -1.045,  0.14 , -0.15 , -0.706],\n",
       "         [-0.166, -0.311, -0.793,  0.008,  0.838],\n",
       "         [-1.946,  0.251,  0.059, -0.074, -0.291],\n",
       "         [-0.777,  0.252,  1.034, -0.391, -1.324]]]])"
      ]
     },
     "metadata": {},
     "execution_count": 18
    }
   ],
   "metadata": {}
  },
  {
   "cell_type": "code",
   "execution_count": 21,
   "source": [
    "# r4 배열에서, [두번째][첫번째] 접근해서 가져오기\n",
    "r4[1][0]"
   ],
   "outputs": [
    {
     "output_type": "execute_result",
     "data": {
      "text/plain": [
       "array([[ 0.449, -2.085, -0.414,  0.26 , -1.198],\n",
       "       [-0.208, -0.718,  0.467,  0.644,  0.682],\n",
       "       [ 0.954,  0.513,  2.057, -1.403,  0.909],\n",
       "       [ 0.202,  0.201,  0.408,  2.635,  1.096]])"
      ]
     },
     "metadata": {},
     "execution_count": 21
    }
   ],
   "metadata": {}
  },
  {
   "cell_type": "code",
   "execution_count": 22,
   "source": [
    "r4[1][0][2]"
   ],
   "outputs": [
    {
     "output_type": "execute_result",
     "data": {
      "text/plain": [
       "array([ 0.954,  0.513,  2.057, -1.403,  0.909])"
      ]
     },
     "metadata": {},
     "execution_count": 22
    }
   ],
   "metadata": {}
  },
  {
   "cell_type": "code",
   "execution_count": 23,
   "source": [
    "r4[1][0][2][4]"
   ],
   "outputs": [
    {
     "output_type": "execute_result",
     "data": {
      "text/plain": [
       "0.909"
      ]
     },
     "metadata": {},
     "execution_count": 23
    }
   ],
   "metadata": {}
  },
  {
   "cell_type": "code",
   "execution_count": 24,
   "source": [
    "r4[1][0][2][0:4:2]"
   ],
   "outputs": [
    {
     "output_type": "execute_result",
     "data": {
      "text/plain": [
       "array([0.954, 2.057])"
      ]
     },
     "metadata": {},
     "execution_count": 24
    }
   ],
   "metadata": {}
  },
  {
   "cell_type": "code",
   "execution_count": 27,
   "source": [
    "r4"
   ],
   "outputs": [
    {
     "output_type": "execute_result",
     "data": {
      "text/plain": [
       "array([[[[ 0.589,  1.187,  0.176, -0.246,  0.179],\n",
       "         [-0.478, -1.146,  0.724, -0.151, -1.601],\n",
       "         [-1.308, -0.734,  0.776,  0.085, -0.976],\n",
       "         [ 1.311, -1.668, -1.122, -1.09 , -0.358]],\n",
       "\n",
       "        [[ 0.205, -0.76 , -0.236,  0.394,  0.385],\n",
       "         [-0.959, -1.043,  0.841,  0.186, -0.595],\n",
       "         [-1.17 ,  1.007, -2.02 ,  1.205, -1.255],\n",
       "         [ 0.98 ,  0.82 ,  0.323, -1.686, -0.325]]],\n",
       "\n",
       "\n",
       "       [[[ 0.449, -2.085, -0.414,  0.26 , -1.198],\n",
       "         [-0.208, -0.718,  0.467,  0.644,  0.682],\n",
       "         [ 0.954,  0.513,  2.057, -1.403,  0.909],\n",
       "         [ 0.202,  0.201,  0.408,  2.635,  1.096]],\n",
       "\n",
       "        [[ 0.777, -1.045,  0.14 , -0.15 , -0.706],\n",
       "         [-0.166, -0.311, -0.793,  0.008,  0.838],\n",
       "         [-1.946,  0.251,  0.059, -0.074, -0.291],\n",
       "         [-0.777,  0.252,  1.034, -0.391, -1.324]]]])"
      ]
     },
     "metadata": {},
     "execution_count": 27
    }
   ],
   "metadata": {}
  },
  {
   "cell_type": "code",
   "execution_count": 28,
   "source": [
    "r4[1][0][1:4:2]"
   ],
   "outputs": [
    {
     "output_type": "execute_result",
     "data": {
      "text/plain": [
       "array([[-0.208, -0.718,  0.467,  0.644,  0.682],\n",
       "       [ 0.202,  0.201,  0.408,  2.635,  1.096]])"
      ]
     },
     "metadata": {},
     "execution_count": 28
    }
   ],
   "metadata": {}
  },
  {
   "cell_type": "code",
   "execution_count": 45,
   "source": [
    "# Indexing과 Slicing 같이 적용하기\n",
    "r4[1][0][1:4:2][1][3:]"
   ],
   "outputs": [
    {
     "output_type": "execute_result",
     "data": {
      "text/plain": [
       "array([2.635, 1.096])"
      ]
     },
     "metadata": {},
     "execution_count": 45
    }
   ],
   "metadata": {}
  },
  {
   "cell_type": "code",
   "execution_count": 30,
   "source": [
    "r4[1,0][1:4:2][1,3:]   # 모두 다 짬뽕!!"
   ],
   "outputs": [
    {
     "output_type": "execute_result",
     "data": {
      "text/plain": [
       "array([2.635, 1.096])"
      ]
     },
     "metadata": {},
     "execution_count": 30
    }
   ],
   "metadata": {}
  },
  {
   "cell_type": "markdown",
   "source": [
    "#### numpy 기본 3. 배열 간 연산, Broadcasting, Aggregation"
   ],
   "metadata": {}
  },
  {
   "cell_type": "code",
   "execution_count": 46,
   "source": [
    "arr = np.array([[1,2,3,4],[10,11,12,13]])\n",
    "arr"
   ],
   "outputs": [
    {
     "output_type": "execute_result",
     "data": {
      "text/plain": [
       "array([[ 1,  2,  3,  4],\n",
       "       [10, 11, 12, 13]])"
      ]
     },
     "metadata": {},
     "execution_count": 46
    }
   ],
   "metadata": {}
  },
  {
   "cell_type": "code",
   "execution_count": 47,
   "source": [
    "arr + arr    # 배열끼리 연산하기 (＋－*/ 모두 가능)"
   ],
   "outputs": [
    {
     "output_type": "execute_result",
     "data": {
      "text/plain": [
       "array([[ 2,  4,  6,  8],\n",
       "       [20, 22, 24, 26]])"
      ]
     },
     "metadata": {},
     "execution_count": 47
    }
   ],
   "metadata": {}
  },
  {
   "cell_type": "code",
   "execution_count": 48,
   "source": [
    "arr + 20     # 덧셈 브로드캐스팅"
   ],
   "outputs": [
    {
     "output_type": "execute_result",
     "data": {
      "text/plain": [
       "array([[21, 22, 23, 24],\n",
       "       [30, 31, 32, 33]])"
      ]
     },
     "metadata": {},
     "execution_count": 48
    }
   ],
   "metadata": {}
  },
  {
   "cell_type": "code",
   "execution_count": 49,
   "source": [
    "arr * 100    # 곱셈 브로드캐스팅"
   ],
   "outputs": [
    {
     "output_type": "execute_result",
     "data": {
      "text/plain": [
       "array([[ 100,  200,  300,  400],\n",
       "       [1000, 1100, 1200, 1300]])"
      ]
     },
     "metadata": {},
     "execution_count": 49
    }
   ],
   "metadata": {}
  },
  {
   "cell_type": "code",
   "execution_count": 50,
   "source": [
    "# 배열 전체의 덧셈, 평균, 곱셈, 최댓값, 최솟값\n",
    "arr.sum(), arr.mean(), arr.prod(), arr.max(), arr.min()"
   ],
   "outputs": [
    {
     "output_type": "execute_result",
     "data": {
      "text/plain": [
       "(56, 7.0, 411840, 13, 1)"
      ]
     },
     "metadata": {},
     "execution_count": 50
    }
   ],
   "metadata": {}
  },
  {
   "cell_type": "code",
   "execution_count": 52,
   "source": [
    "arr"
   ],
   "outputs": [
    {
     "output_type": "execute_result",
     "data": {
      "text/plain": [
       "array([[ 1,  2,  3,  4],\n",
       "       [10, 11, 12, 13]])"
      ]
     },
     "metadata": {},
     "execution_count": 52
    }
   ],
   "metadata": {}
  },
  {
   "cell_type": "code",
   "execution_count": 51,
   "source": [
    "# 배열에서의 최대인 원소의 번호, 최소인 원소의 번호\n",
    "arr.argmax(), arr[1].argmax(), arr.argmin()"
   ],
   "outputs": [
    {
     "output_type": "execute_result",
     "data": {
      "text/plain": [
       "(7, 3, 0)"
      ]
     },
     "metadata": {},
     "execution_count": 51
    }
   ],
   "metadata": {}
  },
  {
   "cell_type": "code",
   "execution_count": 37,
   "source": [
    "# 특정 축(차원)으로 덧셈 수행하기\n",
    "arr.sum(axis=0), arr.sum(axis=1)"
   ],
   "outputs": [
    {
     "output_type": "execute_result",
     "data": {
      "text/plain": [
       "(array([11, 13, 15, 17]), array([10, 46]))"
      ]
     },
     "metadata": {},
     "execution_count": 37
    }
   ],
   "metadata": {}
  },
  {
   "cell_type": "code",
   "execution_count": 38,
   "source": [
    "# Indexing + Slicing + Aggregation 응용\n",
    "arr[1].min(), arr[1][2:].sum()"
   ],
   "outputs": [
    {
     "output_type": "execute_result",
     "data": {
      "text/plain": [
       "(10, 25)"
      ]
     },
     "metadata": {},
     "execution_count": 38
    }
   ],
   "metadata": {}
  },
  {
   "cell_type": "markdown",
   "source": [
    "#### numpy 기본 4. 고급 Broadcasting"
   ],
   "metadata": {}
  },
  {
   "cell_type": "code",
   "execution_count": 39,
   "source": [
    "arr1 = np.array([[0,0,0],[10,10,10],[20,20,20],[30,30,30]])\n",
    "arr2 = np.array([[0,1,2],[0,1,2],[0,1,2],[0,1,2]])\n",
    "arr1.shape, arr2.shape"
   ],
   "outputs": [
    {
     "output_type": "execute_result",
     "data": {
      "text/plain": [
       "((4, 3), (4, 3))"
      ]
     },
     "metadata": {},
     "execution_count": 39
    }
   ],
   "metadata": {}
  },
  {
   "cell_type": "code",
   "execution_count": 40,
   "source": [
    "arr1 + arr2          # (4x3)  +  (4x3)"
   ],
   "outputs": [
    {
     "output_type": "execute_result",
     "data": {
      "text/plain": [
       "array([[ 0,  1,  2],\n",
       "       [10, 11, 12],\n",
       "       [20, 21, 22],\n",
       "       [30, 31, 32]])"
      ]
     },
     "metadata": {},
     "execution_count": 40
    }
   ],
   "metadata": {}
  },
  {
   "cell_type": "code",
   "execution_count": 41,
   "source": [
    "arr1 + np.array([0,1,2])     # (4x3) + (1x3)"
   ],
   "outputs": [
    {
     "output_type": "execute_result",
     "data": {
      "text/plain": [
       "array([[ 0,  1,  2],\n",
       "       [10, 11, 12],\n",
       "       [20, 21, 22],\n",
       "       [30, 31, 32]])"
      ]
     },
     "metadata": {},
     "execution_count": 41
    }
   ],
   "metadata": {}
  },
  {
   "cell_type": "code",
   "execution_count": 42,
   "source": [
    "#  (4x1) + (1x3)\n",
    "np.array([[0],[10],[20],[30]]) + np.array([0,1,2])"
   ],
   "outputs": [
    {
     "output_type": "execute_result",
     "data": {
      "text/plain": [
       "array([[ 0,  1,  2],\n",
       "       [10, 11, 12],\n",
       "       [20, 21, 22],\n",
       "       [30, 31, 32]])"
      ]
     },
     "metadata": {},
     "execution_count": 42
    }
   ],
   "metadata": {}
  },
  {
   "cell_type": "markdown",
   "source": [
    "### Pandas"
   ],
   "metadata": {}
  },
  {
   "cell_type": "markdown",
   "source": [
    "#### pandas 기본 1. 『 Series 』 행×값 데이터 "
   ],
   "metadata": {}
  },
  {
   "cell_type": "code",
   "execution_count": 54,
   "source": [
    "#pandas 임포트\n",
    "import pandas as pd\n",
    "my_series = pd.read_csv(\"/Users/ijuyeong/Downloads/project/stock.adj_close.csv\")\n",
    "my_series"
   ],
   "outputs": [
    {
     "output_type": "execute_result",
     "data": {
      "text/plain": [
       "       Symbol  2018-06-01  2018-06-04  2018-06-05  2018-06-07  2018-06-08  \\\n",
       "0     A000020     11550.0     11750.0     11700.0     11650.0     11500.0   \n",
       "1     A000030     15500.0     15950.0     16050.0     16500.0     16600.0   \n",
       "2     A000040      2992.0      3021.0      3025.0      3069.0      3045.0   \n",
       "3     A000050     13200.0     13550.0     13600.0     13800.0     13800.0   \n",
       "4     A000060     20050.0     20050.0     20150.0     20050.0     20400.0   \n",
       "...       ...         ...         ...         ...         ...         ...   \n",
       "2269  A950160     38600.0     36400.0     36350.0     38700.0     40200.0   \n",
       "2270  A950170     13850.0     14250.0     14450.0     14300.0     14150.0   \n",
       "2271  A950180         NaN         NaN         NaN         NaN         NaN   \n",
       "2272  A950190         NaN         NaN         NaN         NaN         NaN   \n",
       "2273  A950200         NaN         NaN         NaN         NaN         NaN   \n",
       "\n",
       "      2018-06-11  2018-06-12  2018-06-14  2018-06-15  ...  2020-09-07  \\\n",
       "0        11500.0     11650.0     12000.0     11800.0  ...     25550.0   \n",
       "1        16650.0     16850.0     16500.0     16100.0  ...     14800.0   \n",
       "2         2984.0      2976.0      3033.0      3033.0  ...       980.0   \n",
       "3        13800.0     13650.0     13850.0     14500.0  ...     11100.0   \n",
       "4        20150.0     20700.0     20950.0     20150.0  ...     12700.0   \n",
       "...          ...         ...         ...         ...  ...         ...   \n",
       "2269     39250.0     38300.0     38350.0     39000.0  ...      9540.0   \n",
       "2270     13650.0     14050.0     13600.0     13550.0  ...      4040.0   \n",
       "2271         NaN         NaN         NaN         NaN  ...     13200.0   \n",
       "2272         NaN         NaN         NaN         NaN  ...     32200.0   \n",
       "2273         NaN         NaN         NaN         NaN  ...     16750.0   \n",
       "\n",
       "      2020-09-08  2020-09-09  2020-09-10  2020-09-11  2020-09-14  2020-09-15  \\\n",
       "0        23650.0     24550.0     25950.0     26750.0     26300.0     25400.0   \n",
       "1        14800.0     14800.0     14800.0     14800.0     14800.0     14800.0   \n",
       "2          932.0       741.0       875.0       840.0       860.0       833.0   \n",
       "3        11350.0     11550.0     11500.0     11550.0     11300.0     11300.0   \n",
       "4        12700.0     12650.0     12700.0     12800.0     13000.0     13200.0   \n",
       "...          ...         ...         ...         ...         ...         ...   \n",
       "2269      9540.0      9540.0      9540.0      9540.0      9540.0      9540.0   \n",
       "2270      4050.0      4245.0      4275.0      4200.0      4195.0      4070.0   \n",
       "2271     13150.0     13100.0     13150.0     13100.0     13900.0     13250.0   \n",
       "2272     31200.0     30400.0     30500.0     30150.0     30050.0     31450.0   \n",
       "2273     16950.0     17250.0     17100.0     17350.0     17450.0     15800.0   \n",
       "\n",
       "      2020-09-16  2020-09-17  2020-09-18  \n",
       "0        25050.0     25300.0     25050.0  \n",
       "1        14800.0     14800.0     14800.0  \n",
       "2          817.0       812.0       796.0  \n",
       "3        11050.0     10900.0     10750.0  \n",
       "4        13150.0     13150.0     13200.0  \n",
       "...          ...         ...         ...  \n",
       "2269      9540.0      8010.0      8010.0  \n",
       "2270      4045.0      4015.0      4055.0  \n",
       "2271     13350.0     13550.0     13450.0  \n",
       "2272     31750.0     31200.0     30350.0  \n",
       "2273     15100.0     14700.0     14550.0  \n",
       "\n",
       "[2274 rows x 569 columns]"
      ],
      "text/html": [
       "<div>\n",
       "<style scoped>\n",
       "    .dataframe tbody tr th:only-of-type {\n",
       "        vertical-align: middle;\n",
       "    }\n",
       "\n",
       "    .dataframe tbody tr th {\n",
       "        vertical-align: top;\n",
       "    }\n",
       "\n",
       "    .dataframe thead th {\n",
       "        text-align: right;\n",
       "    }\n",
       "</style>\n",
       "<table border=\"1\" class=\"dataframe\">\n",
       "  <thead>\n",
       "    <tr style=\"text-align: right;\">\n",
       "      <th></th>\n",
       "      <th>Symbol</th>\n",
       "      <th>2018-06-01</th>\n",
       "      <th>2018-06-04</th>\n",
       "      <th>2018-06-05</th>\n",
       "      <th>2018-06-07</th>\n",
       "      <th>2018-06-08</th>\n",
       "      <th>2018-06-11</th>\n",
       "      <th>2018-06-12</th>\n",
       "      <th>2018-06-14</th>\n",
       "      <th>2018-06-15</th>\n",
       "      <th>...</th>\n",
       "      <th>2020-09-07</th>\n",
       "      <th>2020-09-08</th>\n",
       "      <th>2020-09-09</th>\n",
       "      <th>2020-09-10</th>\n",
       "      <th>2020-09-11</th>\n",
       "      <th>2020-09-14</th>\n",
       "      <th>2020-09-15</th>\n",
       "      <th>2020-09-16</th>\n",
       "      <th>2020-09-17</th>\n",
       "      <th>2020-09-18</th>\n",
       "    </tr>\n",
       "  </thead>\n",
       "  <tbody>\n",
       "    <tr>\n",
       "      <th>0</th>\n",
       "      <td>A000020</td>\n",
       "      <td>11550.0</td>\n",
       "      <td>11750.0</td>\n",
       "      <td>11700.0</td>\n",
       "      <td>11650.0</td>\n",
       "      <td>11500.0</td>\n",
       "      <td>11500.0</td>\n",
       "      <td>11650.0</td>\n",
       "      <td>12000.0</td>\n",
       "      <td>11800.0</td>\n",
       "      <td>...</td>\n",
       "      <td>25550.0</td>\n",
       "      <td>23650.0</td>\n",
       "      <td>24550.0</td>\n",
       "      <td>25950.0</td>\n",
       "      <td>26750.0</td>\n",
       "      <td>26300.0</td>\n",
       "      <td>25400.0</td>\n",
       "      <td>25050.0</td>\n",
       "      <td>25300.0</td>\n",
       "      <td>25050.0</td>\n",
       "    </tr>\n",
       "    <tr>\n",
       "      <th>1</th>\n",
       "      <td>A000030</td>\n",
       "      <td>15500.0</td>\n",
       "      <td>15950.0</td>\n",
       "      <td>16050.0</td>\n",
       "      <td>16500.0</td>\n",
       "      <td>16600.0</td>\n",
       "      <td>16650.0</td>\n",
       "      <td>16850.0</td>\n",
       "      <td>16500.0</td>\n",
       "      <td>16100.0</td>\n",
       "      <td>...</td>\n",
       "      <td>14800.0</td>\n",
       "      <td>14800.0</td>\n",
       "      <td>14800.0</td>\n",
       "      <td>14800.0</td>\n",
       "      <td>14800.0</td>\n",
       "      <td>14800.0</td>\n",
       "      <td>14800.0</td>\n",
       "      <td>14800.0</td>\n",
       "      <td>14800.0</td>\n",
       "      <td>14800.0</td>\n",
       "    </tr>\n",
       "    <tr>\n",
       "      <th>2</th>\n",
       "      <td>A000040</td>\n",
       "      <td>2992.0</td>\n",
       "      <td>3021.0</td>\n",
       "      <td>3025.0</td>\n",
       "      <td>3069.0</td>\n",
       "      <td>3045.0</td>\n",
       "      <td>2984.0</td>\n",
       "      <td>2976.0</td>\n",
       "      <td>3033.0</td>\n",
       "      <td>3033.0</td>\n",
       "      <td>...</td>\n",
       "      <td>980.0</td>\n",
       "      <td>932.0</td>\n",
       "      <td>741.0</td>\n",
       "      <td>875.0</td>\n",
       "      <td>840.0</td>\n",
       "      <td>860.0</td>\n",
       "      <td>833.0</td>\n",
       "      <td>817.0</td>\n",
       "      <td>812.0</td>\n",
       "      <td>796.0</td>\n",
       "    </tr>\n",
       "    <tr>\n",
       "      <th>3</th>\n",
       "      <td>A000050</td>\n",
       "      <td>13200.0</td>\n",
       "      <td>13550.0</td>\n",
       "      <td>13600.0</td>\n",
       "      <td>13800.0</td>\n",
       "      <td>13800.0</td>\n",
       "      <td>13800.0</td>\n",
       "      <td>13650.0</td>\n",
       "      <td>13850.0</td>\n",
       "      <td>14500.0</td>\n",
       "      <td>...</td>\n",
       "      <td>11100.0</td>\n",
       "      <td>11350.0</td>\n",
       "      <td>11550.0</td>\n",
       "      <td>11500.0</td>\n",
       "      <td>11550.0</td>\n",
       "      <td>11300.0</td>\n",
       "      <td>11300.0</td>\n",
       "      <td>11050.0</td>\n",
       "      <td>10900.0</td>\n",
       "      <td>10750.0</td>\n",
       "    </tr>\n",
       "    <tr>\n",
       "      <th>4</th>\n",
       "      <td>A000060</td>\n",
       "      <td>20050.0</td>\n",
       "      <td>20050.0</td>\n",
       "      <td>20150.0</td>\n",
       "      <td>20050.0</td>\n",
       "      <td>20400.0</td>\n",
       "      <td>20150.0</td>\n",
       "      <td>20700.0</td>\n",
       "      <td>20950.0</td>\n",
       "      <td>20150.0</td>\n",
       "      <td>...</td>\n",
       "      <td>12700.0</td>\n",
       "      <td>12700.0</td>\n",
       "      <td>12650.0</td>\n",
       "      <td>12700.0</td>\n",
       "      <td>12800.0</td>\n",
       "      <td>13000.0</td>\n",
       "      <td>13200.0</td>\n",
       "      <td>13150.0</td>\n",
       "      <td>13150.0</td>\n",
       "      <td>13200.0</td>\n",
       "    </tr>\n",
       "    <tr>\n",
       "      <th>...</th>\n",
       "      <td>...</td>\n",
       "      <td>...</td>\n",
       "      <td>...</td>\n",
       "      <td>...</td>\n",
       "      <td>...</td>\n",
       "      <td>...</td>\n",
       "      <td>...</td>\n",
       "      <td>...</td>\n",
       "      <td>...</td>\n",
       "      <td>...</td>\n",
       "      <td>...</td>\n",
       "      <td>...</td>\n",
       "      <td>...</td>\n",
       "      <td>...</td>\n",
       "      <td>...</td>\n",
       "      <td>...</td>\n",
       "      <td>...</td>\n",
       "      <td>...</td>\n",
       "      <td>...</td>\n",
       "      <td>...</td>\n",
       "      <td>...</td>\n",
       "    </tr>\n",
       "    <tr>\n",
       "      <th>2269</th>\n",
       "      <td>A950160</td>\n",
       "      <td>38600.0</td>\n",
       "      <td>36400.0</td>\n",
       "      <td>36350.0</td>\n",
       "      <td>38700.0</td>\n",
       "      <td>40200.0</td>\n",
       "      <td>39250.0</td>\n",
       "      <td>38300.0</td>\n",
       "      <td>38350.0</td>\n",
       "      <td>39000.0</td>\n",
       "      <td>...</td>\n",
       "      <td>9540.0</td>\n",
       "      <td>9540.0</td>\n",
       "      <td>9540.0</td>\n",
       "      <td>9540.0</td>\n",
       "      <td>9540.0</td>\n",
       "      <td>9540.0</td>\n",
       "      <td>9540.0</td>\n",
       "      <td>9540.0</td>\n",
       "      <td>8010.0</td>\n",
       "      <td>8010.0</td>\n",
       "    </tr>\n",
       "    <tr>\n",
       "      <th>2270</th>\n",
       "      <td>A950170</td>\n",
       "      <td>13850.0</td>\n",
       "      <td>14250.0</td>\n",
       "      <td>14450.0</td>\n",
       "      <td>14300.0</td>\n",
       "      <td>14150.0</td>\n",
       "      <td>13650.0</td>\n",
       "      <td>14050.0</td>\n",
       "      <td>13600.0</td>\n",
       "      <td>13550.0</td>\n",
       "      <td>...</td>\n",
       "      <td>4040.0</td>\n",
       "      <td>4050.0</td>\n",
       "      <td>4245.0</td>\n",
       "      <td>4275.0</td>\n",
       "      <td>4200.0</td>\n",
       "      <td>4195.0</td>\n",
       "      <td>4070.0</td>\n",
       "      <td>4045.0</td>\n",
       "      <td>4015.0</td>\n",
       "      <td>4055.0</td>\n",
       "    </tr>\n",
       "    <tr>\n",
       "      <th>2271</th>\n",
       "      <td>A950180</td>\n",
       "      <td>NaN</td>\n",
       "      <td>NaN</td>\n",
       "      <td>NaN</td>\n",
       "      <td>NaN</td>\n",
       "      <td>NaN</td>\n",
       "      <td>NaN</td>\n",
       "      <td>NaN</td>\n",
       "      <td>NaN</td>\n",
       "      <td>NaN</td>\n",
       "      <td>...</td>\n",
       "      <td>13200.0</td>\n",
       "      <td>13150.0</td>\n",
       "      <td>13100.0</td>\n",
       "      <td>13150.0</td>\n",
       "      <td>13100.0</td>\n",
       "      <td>13900.0</td>\n",
       "      <td>13250.0</td>\n",
       "      <td>13350.0</td>\n",
       "      <td>13550.0</td>\n",
       "      <td>13450.0</td>\n",
       "    </tr>\n",
       "    <tr>\n",
       "      <th>2272</th>\n",
       "      <td>A950190</td>\n",
       "      <td>NaN</td>\n",
       "      <td>NaN</td>\n",
       "      <td>NaN</td>\n",
       "      <td>NaN</td>\n",
       "      <td>NaN</td>\n",
       "      <td>NaN</td>\n",
       "      <td>NaN</td>\n",
       "      <td>NaN</td>\n",
       "      <td>NaN</td>\n",
       "      <td>...</td>\n",
       "      <td>32200.0</td>\n",
       "      <td>31200.0</td>\n",
       "      <td>30400.0</td>\n",
       "      <td>30500.0</td>\n",
       "      <td>30150.0</td>\n",
       "      <td>30050.0</td>\n",
       "      <td>31450.0</td>\n",
       "      <td>31750.0</td>\n",
       "      <td>31200.0</td>\n",
       "      <td>30350.0</td>\n",
       "    </tr>\n",
       "    <tr>\n",
       "      <th>2273</th>\n",
       "      <td>A950200</td>\n",
       "      <td>NaN</td>\n",
       "      <td>NaN</td>\n",
       "      <td>NaN</td>\n",
       "      <td>NaN</td>\n",
       "      <td>NaN</td>\n",
       "      <td>NaN</td>\n",
       "      <td>NaN</td>\n",
       "      <td>NaN</td>\n",
       "      <td>NaN</td>\n",
       "      <td>...</td>\n",
       "      <td>16750.0</td>\n",
       "      <td>16950.0</td>\n",
       "      <td>17250.0</td>\n",
       "      <td>17100.0</td>\n",
       "      <td>17350.0</td>\n",
       "      <td>17450.0</td>\n",
       "      <td>15800.0</td>\n",
       "      <td>15100.0</td>\n",
       "      <td>14700.0</td>\n",
       "      <td>14550.0</td>\n",
       "    </tr>\n",
       "  </tbody>\n",
       "</table>\n",
       "<p>2274 rows × 569 columns</p>\n",
       "</div>"
      ]
     },
     "metadata": {},
     "execution_count": 54
    }
   ],
   "metadata": {}
  },
  {
   "cell_type": "markdown",
   "source": [
    "##### &nbsp;&nbsp;&nbsp;&nbsp;&nbsp; 아래 블럭은 그냥 실행해주세요!! 주가 데이터를 불러오고, series 하나를 추출합니다.."
   ],
   "metadata": {}
  },
  {
   "cell_type": "markdown",
   "source": [
    "#### pandas 기본 2. 『 Series 』   접근, 연산, 생성"
   ],
   "metadata": {}
  },
  {
   "cell_type": "code",
   "execution_count": 59,
   "source": [
    "my_series['2020-09-15'] "
   ],
   "outputs": [
    {
     "output_type": "execute_result",
     "data": {
      "text/plain": [
       "0       25400.0\n",
       "1       14800.0\n",
       "2         833.0\n",
       "3       11300.0\n",
       "4       13200.0\n",
       "         ...   \n",
       "2269     9540.0\n",
       "2270     4070.0\n",
       "2271    13250.0\n",
       "2272    31450.0\n",
       "2273    15800.0\n",
       "Name: 2020-09-15, Length: 2274, dtype: float64"
      ]
     },
     "metadata": {},
     "execution_count": 59
    }
   ],
   "metadata": {}
  },
  {
   "cell_type": "code",
   "execution_count": 58,
   "source": [
    "my_series.loc['2020-09-15']   # 인덱스로 접근"
   ],
   "outputs": [
    {
     "output_type": "error",
     "ename": "KeyError",
     "evalue": "'2020-09-15'",
     "traceback": [
      "\u001b[0;31m---------------------------------------------------------------------------\u001b[0m",
      "\u001b[0;31mKeyError\u001b[0m                                  Traceback (most recent call last)",
      "\u001b[0;32m/var/folders/44/crx333nn0lvgs_gnbz2k_qym0000gn/T/ipykernel_32384/1811639634.py\u001b[0m in \u001b[0;36m<module>\u001b[0;34m\u001b[0m\n\u001b[0;32m----> 1\u001b[0;31m \u001b[0mmy_series\u001b[0m\u001b[0;34m.\u001b[0m\u001b[0mloc\u001b[0m\u001b[0;34m[\u001b[0m\u001b[0;34m'2020-09-15'\u001b[0m\u001b[0;34m]\u001b[0m   \u001b[0;31m# 인덱스로 접근\u001b[0m\u001b[0;34m\u001b[0m\u001b[0;34m\u001b[0m\u001b[0m\n\u001b[0m",
      "\u001b[0;32m~/miniforge3/envs/tf5/lib/python3.8/site-packages/pandas/core/indexing.py\u001b[0m in \u001b[0;36m__getitem__\u001b[0;34m(self, key)\u001b[0m\n\u001b[1;32m    929\u001b[0m \u001b[0;34m\u001b[0m\u001b[0m\n\u001b[1;32m    930\u001b[0m             \u001b[0mmaybe_callable\u001b[0m \u001b[0;34m=\u001b[0m \u001b[0mcom\u001b[0m\u001b[0;34m.\u001b[0m\u001b[0mapply_if_callable\u001b[0m\u001b[0;34m(\u001b[0m\u001b[0mkey\u001b[0m\u001b[0;34m,\u001b[0m \u001b[0mself\u001b[0m\u001b[0;34m.\u001b[0m\u001b[0mobj\u001b[0m\u001b[0;34m)\u001b[0m\u001b[0;34m\u001b[0m\u001b[0;34m\u001b[0m\u001b[0m\n\u001b[0;32m--> 931\u001b[0;31m             \u001b[0;32mreturn\u001b[0m \u001b[0mself\u001b[0m\u001b[0;34m.\u001b[0m\u001b[0m_getitem_axis\u001b[0m\u001b[0;34m(\u001b[0m\u001b[0mmaybe_callable\u001b[0m\u001b[0;34m,\u001b[0m \u001b[0maxis\u001b[0m\u001b[0;34m=\u001b[0m\u001b[0maxis\u001b[0m\u001b[0;34m)\u001b[0m\u001b[0;34m\u001b[0m\u001b[0;34m\u001b[0m\u001b[0m\n\u001b[0m\u001b[1;32m    932\u001b[0m \u001b[0;34m\u001b[0m\u001b[0m\n\u001b[1;32m    933\u001b[0m     \u001b[0;32mdef\u001b[0m \u001b[0m_is_scalar_access\u001b[0m\u001b[0;34m(\u001b[0m\u001b[0mself\u001b[0m\u001b[0;34m,\u001b[0m \u001b[0mkey\u001b[0m\u001b[0;34m:\u001b[0m \u001b[0mtuple\u001b[0m\u001b[0;34m)\u001b[0m\u001b[0;34m:\u001b[0m\u001b[0;34m\u001b[0m\u001b[0;34m\u001b[0m\u001b[0m\n",
      "\u001b[0;32m~/miniforge3/envs/tf5/lib/python3.8/site-packages/pandas/core/indexing.py\u001b[0m in \u001b[0;36m_getitem_axis\u001b[0;34m(self, key, axis)\u001b[0m\n\u001b[1;32m   1162\u001b[0m         \u001b[0;31m# fall thru to straight lookup\u001b[0m\u001b[0;34m\u001b[0m\u001b[0;34m\u001b[0m\u001b[0;34m\u001b[0m\u001b[0m\n\u001b[1;32m   1163\u001b[0m         \u001b[0mself\u001b[0m\u001b[0;34m.\u001b[0m\u001b[0m_validate_key\u001b[0m\u001b[0;34m(\u001b[0m\u001b[0mkey\u001b[0m\u001b[0;34m,\u001b[0m \u001b[0maxis\u001b[0m\u001b[0;34m)\u001b[0m\u001b[0;34m\u001b[0m\u001b[0;34m\u001b[0m\u001b[0m\n\u001b[0;32m-> 1164\u001b[0;31m         \u001b[0;32mreturn\u001b[0m \u001b[0mself\u001b[0m\u001b[0;34m.\u001b[0m\u001b[0m_get_label\u001b[0m\u001b[0;34m(\u001b[0m\u001b[0mkey\u001b[0m\u001b[0;34m,\u001b[0m \u001b[0maxis\u001b[0m\u001b[0;34m=\u001b[0m\u001b[0maxis\u001b[0m\u001b[0;34m)\u001b[0m\u001b[0;34m\u001b[0m\u001b[0;34m\u001b[0m\u001b[0m\n\u001b[0m\u001b[1;32m   1165\u001b[0m \u001b[0;34m\u001b[0m\u001b[0m\n\u001b[1;32m   1166\u001b[0m     \u001b[0;32mdef\u001b[0m \u001b[0m_get_slice_axis\u001b[0m\u001b[0;34m(\u001b[0m\u001b[0mself\u001b[0m\u001b[0;34m,\u001b[0m \u001b[0mslice_obj\u001b[0m\u001b[0;34m:\u001b[0m \u001b[0mslice\u001b[0m\u001b[0;34m,\u001b[0m \u001b[0maxis\u001b[0m\u001b[0;34m:\u001b[0m \u001b[0mint\u001b[0m\u001b[0;34m)\u001b[0m\u001b[0;34m:\u001b[0m\u001b[0;34m\u001b[0m\u001b[0;34m\u001b[0m\u001b[0m\n",
      "\u001b[0;32m~/miniforge3/envs/tf5/lib/python3.8/site-packages/pandas/core/indexing.py\u001b[0m in \u001b[0;36m_get_label\u001b[0;34m(self, label, axis)\u001b[0m\n\u001b[1;32m   1111\u001b[0m     \u001b[0;32mdef\u001b[0m \u001b[0m_get_label\u001b[0m\u001b[0;34m(\u001b[0m\u001b[0mself\u001b[0m\u001b[0;34m,\u001b[0m \u001b[0mlabel\u001b[0m\u001b[0;34m,\u001b[0m \u001b[0maxis\u001b[0m\u001b[0;34m:\u001b[0m \u001b[0mint\u001b[0m\u001b[0;34m)\u001b[0m\u001b[0;34m:\u001b[0m\u001b[0;34m\u001b[0m\u001b[0;34m\u001b[0m\u001b[0m\n\u001b[1;32m   1112\u001b[0m         \u001b[0;31m# GH#5667 this will fail if the label is not present in the axis.\u001b[0m\u001b[0;34m\u001b[0m\u001b[0;34m\u001b[0m\u001b[0;34m\u001b[0m\u001b[0m\n\u001b[0;32m-> 1113\u001b[0;31m         \u001b[0;32mreturn\u001b[0m \u001b[0mself\u001b[0m\u001b[0;34m.\u001b[0m\u001b[0mobj\u001b[0m\u001b[0;34m.\u001b[0m\u001b[0mxs\u001b[0m\u001b[0;34m(\u001b[0m\u001b[0mlabel\u001b[0m\u001b[0;34m,\u001b[0m \u001b[0maxis\u001b[0m\u001b[0;34m=\u001b[0m\u001b[0maxis\u001b[0m\u001b[0;34m)\u001b[0m\u001b[0;34m\u001b[0m\u001b[0;34m\u001b[0m\u001b[0m\n\u001b[0m\u001b[1;32m   1114\u001b[0m \u001b[0;34m\u001b[0m\u001b[0m\n\u001b[1;32m   1115\u001b[0m     \u001b[0;32mdef\u001b[0m \u001b[0m_handle_lowerdim_multi_index_axis0\u001b[0m\u001b[0;34m(\u001b[0m\u001b[0mself\u001b[0m\u001b[0;34m,\u001b[0m \u001b[0mtup\u001b[0m\u001b[0;34m:\u001b[0m \u001b[0mtuple\u001b[0m\u001b[0;34m)\u001b[0m\u001b[0;34m:\u001b[0m\u001b[0;34m\u001b[0m\u001b[0;34m\u001b[0m\u001b[0m\n",
      "\u001b[0;32m~/miniforge3/envs/tf5/lib/python3.8/site-packages/pandas/core/generic.py\u001b[0m in \u001b[0;36mxs\u001b[0;34m(self, key, axis, level, drop_level)\u001b[0m\n\u001b[1;32m   3771\u001b[0m                 \u001b[0;32mraise\u001b[0m \u001b[0mTypeError\u001b[0m\u001b[0;34m(\u001b[0m\u001b[0;34mf\"Expected label or tuple of labels, got {key}\"\u001b[0m\u001b[0;34m)\u001b[0m \u001b[0;32mfrom\u001b[0m \u001b[0me\u001b[0m\u001b[0;34m\u001b[0m\u001b[0;34m\u001b[0m\u001b[0m\n\u001b[1;32m   3772\u001b[0m         \u001b[0;32melse\u001b[0m\u001b[0;34m:\u001b[0m\u001b[0;34m\u001b[0m\u001b[0;34m\u001b[0m\u001b[0m\n\u001b[0;32m-> 3773\u001b[0;31m             \u001b[0mloc\u001b[0m \u001b[0;34m=\u001b[0m \u001b[0mindex\u001b[0m\u001b[0;34m.\u001b[0m\u001b[0mget_loc\u001b[0m\u001b[0;34m(\u001b[0m\u001b[0mkey\u001b[0m\u001b[0;34m)\u001b[0m\u001b[0;34m\u001b[0m\u001b[0;34m\u001b[0m\u001b[0m\n\u001b[0m\u001b[1;32m   3774\u001b[0m \u001b[0;34m\u001b[0m\u001b[0m\n\u001b[1;32m   3775\u001b[0m             \u001b[0;32mif\u001b[0m \u001b[0misinstance\u001b[0m\u001b[0;34m(\u001b[0m\u001b[0mloc\u001b[0m\u001b[0;34m,\u001b[0m \u001b[0mnp\u001b[0m\u001b[0;34m.\u001b[0m\u001b[0mndarray\u001b[0m\u001b[0;34m)\u001b[0m\u001b[0;34m:\u001b[0m\u001b[0;34m\u001b[0m\u001b[0;34m\u001b[0m\u001b[0m\n",
      "\u001b[0;32m~/miniforge3/envs/tf5/lib/python3.8/site-packages/pandas/core/indexes/range.py\u001b[0m in \u001b[0;36mget_loc\u001b[0;34m(self, key, method, tolerance)\u001b[0m\n\u001b[1;32m    386\u001b[0m                 \u001b[0;32mexcept\u001b[0m \u001b[0mValueError\u001b[0m \u001b[0;32mas\u001b[0m \u001b[0merr\u001b[0m\u001b[0;34m:\u001b[0m\u001b[0;34m\u001b[0m\u001b[0;34m\u001b[0m\u001b[0m\n\u001b[1;32m    387\u001b[0m                     \u001b[0;32mraise\u001b[0m \u001b[0mKeyError\u001b[0m\u001b[0;34m(\u001b[0m\u001b[0mkey\u001b[0m\u001b[0;34m)\u001b[0m \u001b[0;32mfrom\u001b[0m \u001b[0merr\u001b[0m\u001b[0;34m\u001b[0m\u001b[0;34m\u001b[0m\u001b[0m\n\u001b[0;32m--> 388\u001b[0;31m             \u001b[0;32mraise\u001b[0m \u001b[0mKeyError\u001b[0m\u001b[0;34m(\u001b[0m\u001b[0mkey\u001b[0m\u001b[0;34m)\u001b[0m\u001b[0;34m\u001b[0m\u001b[0;34m\u001b[0m\u001b[0m\n\u001b[0m\u001b[1;32m    389\u001b[0m         \u001b[0;32mreturn\u001b[0m \u001b[0msuper\u001b[0m\u001b[0;34m(\u001b[0m\u001b[0;34m)\u001b[0m\u001b[0;34m.\u001b[0m\u001b[0mget_loc\u001b[0m\u001b[0;34m(\u001b[0m\u001b[0mkey\u001b[0m\u001b[0;34m,\u001b[0m \u001b[0mmethod\u001b[0m\u001b[0;34m=\u001b[0m\u001b[0mmethod\u001b[0m\u001b[0;34m,\u001b[0m \u001b[0mtolerance\u001b[0m\u001b[0;34m=\u001b[0m\u001b[0mtolerance\u001b[0m\u001b[0;34m)\u001b[0m\u001b[0;34m\u001b[0m\u001b[0;34m\u001b[0m\u001b[0m\n\u001b[1;32m    390\u001b[0m \u001b[0;34m\u001b[0m\u001b[0m\n",
      "\u001b[0;31mKeyError\u001b[0m: '2020-09-15'"
     ]
    }
   ],
   "metadata": {}
  },
  {
   "cell_type": "code",
   "execution_count": 56,
   "source": [
    "my_series.iloc[4]    # 배열 번호로 접근"
   ],
   "outputs": [
    {
     "output_type": "execute_result",
     "data": {
      "text/plain": [
       "Symbol        A000060\n",
       "2018-06-01    20050.0\n",
       "2018-06-04    20050.0\n",
       "2018-06-05    20150.0\n",
       "2018-06-07    20050.0\n",
       "               ...   \n",
       "2020-09-14    13000.0\n",
       "2020-09-15    13200.0\n",
       "2020-09-16    13150.0\n",
       "2020-09-17    13150.0\n",
       "2020-09-18    13200.0\n",
       "Name: 4, Length: 569, dtype: object"
      ]
     },
     "metadata": {},
     "execution_count": 56
    }
   ],
   "metadata": {}
  },
  {
   "cell_type": "code",
   "execution_count": 60,
   "source": [
    "my_series.loc['2020-09-15':'2020-09-17']  # 인덱스로 Slicing"
   ],
   "outputs": [
    {
     "output_type": "execute_result",
     "data": {
      "text/plain": [
       "Empty DataFrame\n",
       "Columns: [Symbol, 2018-06-01, 2018-06-04, 2018-06-05, 2018-06-07, 2018-06-08, 2018-06-11, 2018-06-12, 2018-06-14, 2018-06-15, 2018-06-18, 2018-06-19, 2018-06-20, 2018-06-21, 2018-06-22, 2018-06-25, 2018-06-26, 2018-06-27, 2018-06-28, 2018-06-29, 2018-07-02, 2018-07-03, 2018-07-04, 2018-07-05, 2018-07-06, 2018-07-09, 2018-07-10, 2018-07-11, 2018-07-12, 2018-07-13, 2018-07-16, 2018-07-17, 2018-07-18, 2018-07-19, 2018-07-20, 2018-07-23, 2018-07-24, 2018-07-25, 2018-07-26, 2018-07-27, 2018-07-30, 2018-07-31, 2018-08-01, 2018-08-02, 2018-08-03, 2018-08-06, 2018-08-07, 2018-08-08, 2018-08-09, 2018-08-10, 2018-08-13, 2018-08-14, 2018-08-16, 2018-08-17, 2018-08-20, 2018-08-21, 2018-08-22, 2018-08-23, 2018-08-24, 2018-08-27, 2018-08-28, 2018-08-29, 2018-08-30, 2018-08-31, 2018-09-03, 2018-09-04, 2018-09-05, 2018-09-06, 2018-09-07, 2018-09-10, 2018-09-11, 2018-09-12, 2018-09-13, 2018-09-14, 2018-09-17, 2018-09-18, 2018-09-19, 2018-09-20, 2018-09-21, 2018-09-27, 2018-09-28, 2018-10-01, 2018-10-02, 2018-10-04, 2018-10-05, 2018-10-08, 2018-10-10, 2018-10-11, 2018-10-12, 2018-10-15, 2018-10-16, 2018-10-17, 2018-10-18, 2018-10-19, 2018-10-22, 2018-10-23, 2018-10-24, 2018-10-25, 2018-10-26, 2018-10-29, ...]\n",
       "Index: []\n",
       "\n",
       "[0 rows x 569 columns]"
      ],
      "text/html": [
       "<div>\n",
       "<style scoped>\n",
       "    .dataframe tbody tr th:only-of-type {\n",
       "        vertical-align: middle;\n",
       "    }\n",
       "\n",
       "    .dataframe tbody tr th {\n",
       "        vertical-align: top;\n",
       "    }\n",
       "\n",
       "    .dataframe thead th {\n",
       "        text-align: right;\n",
       "    }\n",
       "</style>\n",
       "<table border=\"1\" class=\"dataframe\">\n",
       "  <thead>\n",
       "    <tr style=\"text-align: right;\">\n",
       "      <th></th>\n",
       "      <th>Symbol</th>\n",
       "      <th>2018-06-01</th>\n",
       "      <th>2018-06-04</th>\n",
       "      <th>2018-06-05</th>\n",
       "      <th>2018-06-07</th>\n",
       "      <th>2018-06-08</th>\n",
       "      <th>2018-06-11</th>\n",
       "      <th>2018-06-12</th>\n",
       "      <th>2018-06-14</th>\n",
       "      <th>2018-06-15</th>\n",
       "      <th>...</th>\n",
       "      <th>2020-09-07</th>\n",
       "      <th>2020-09-08</th>\n",
       "      <th>2020-09-09</th>\n",
       "      <th>2020-09-10</th>\n",
       "      <th>2020-09-11</th>\n",
       "      <th>2020-09-14</th>\n",
       "      <th>2020-09-15</th>\n",
       "      <th>2020-09-16</th>\n",
       "      <th>2020-09-17</th>\n",
       "      <th>2020-09-18</th>\n",
       "    </tr>\n",
       "  </thead>\n",
       "  <tbody>\n",
       "  </tbody>\n",
       "</table>\n",
       "<p>0 rows × 569 columns</p>\n",
       "</div>"
      ]
     },
     "metadata": {},
     "execution_count": 60
    }
   ],
   "metadata": {}
  },
  {
   "cell_type": "markdown",
   "source": [
    "my_series.iloc[4:7]    # 배열 번호로 Slicing (끝 포함 X)"
   ],
   "metadata": {}
  },
  {
   "cell_type": "code",
   "execution_count": 62,
   "source": [
    "my_series.iloc[4:] + my_series.iloc[4:]"
   ],
   "outputs": [
    {
     "output_type": "execute_result",
     "data": {
      "text/plain": [
       "              Symbol  2018-06-01  2018-06-04  2018-06-05  2018-06-07  \\\n",
       "4     A000060A000060     40100.0     40100.0     40300.0     40100.0   \n",
       "5     A000070A000070    240000.0    246000.0    247000.0    249000.0   \n",
       "6     A000080A000080     40400.0     40800.0     40700.0     42000.0   \n",
       "7     A000100A000100     89958.0     85378.0     82812.0     82996.0   \n",
       "8     A000120A000120    296000.0    306000.0    305000.0    308000.0   \n",
       "...              ...         ...         ...         ...         ...   \n",
       "2269  A950160A950160     77200.0     72800.0     72700.0     77400.0   \n",
       "2270  A950170A950170     27700.0     28500.0     28900.0     28600.0   \n",
       "2271  A950180A950180         NaN         NaN         NaN         NaN   \n",
       "2272  A950190A950190         NaN         NaN         NaN         NaN   \n",
       "2273  A950200A950200         NaN         NaN         NaN         NaN   \n",
       "\n",
       "      2018-06-08  2018-06-11  2018-06-12  2018-06-14  2018-06-15  ...  \\\n",
       "4        40800.0     40300.0     41400.0     41900.0     40300.0  ...   \n",
       "5       247000.0    250000.0    243000.0    236000.0    242000.0  ...   \n",
       "6        41500.0     41700.0     41400.0     41300.0     41200.0  ...   \n",
       "7        83912.0     84278.0     84828.0     83546.0     83180.0  ...   \n",
       "8       308000.0    323000.0    323000.0    313000.0    304000.0  ...   \n",
       "...          ...         ...         ...         ...         ...  ...   \n",
       "2269     80400.0     78500.0     76600.0     76700.0     78000.0  ...   \n",
       "2270     28300.0     27300.0     28100.0     27200.0     27100.0  ...   \n",
       "2271         NaN         NaN         NaN         NaN         NaN  ...   \n",
       "2272         NaN         NaN         NaN         NaN         NaN  ...   \n",
       "2273         NaN         NaN         NaN         NaN         NaN  ...   \n",
       "\n",
       "      2020-09-07  2020-09-08  2020-09-09  2020-09-10  2020-09-11  2020-09-14  \\\n",
       "4        25400.0     25400.0     25300.0     25400.0     25600.0     26000.0   \n",
       "5       134400.0    136000.0    133000.0    132600.0    130800.0    135000.0   \n",
       "6        73400.0     76100.0     74100.0     75200.0     74700.0     74600.0   \n",
       "7       130400.0    131000.0    128000.0    129000.0    133200.0    131400.0   \n",
       "8       320000.0    312000.0    316000.0    312000.0    313000.0    316000.0   \n",
       "...          ...         ...         ...         ...         ...         ...   \n",
       "2269     19080.0     19080.0     19080.0     19080.0     19080.0     19080.0   \n",
       "2270      8080.0      8100.0      8490.0      8550.0      8400.0      8390.0   \n",
       "2271     26400.0     26300.0     26200.0     26300.0     26200.0     27800.0   \n",
       "2272     64400.0     62400.0     60800.0     61000.0     60300.0     60100.0   \n",
       "2273     33500.0     33900.0     34500.0     34200.0     34700.0     34900.0   \n",
       "\n",
       "      2020-09-15  2020-09-16  2020-09-17  2020-09-18  \n",
       "4        26400.0     26300.0     26300.0     26400.0  \n",
       "5       132400.0    130800.0    129000.0    128800.0  \n",
       "6        77000.0     75900.0     74300.0     73700.0  \n",
       "7       137400.0    136800.0    132800.0    133200.0  \n",
       "8       325000.0    355000.0    359000.0    364000.0  \n",
       "...          ...         ...         ...         ...  \n",
       "2269     19080.0     19080.0     16020.0     16020.0  \n",
       "2270      8140.0      8090.0      8030.0      8110.0  \n",
       "2271     26500.0     26700.0     27100.0     26900.0  \n",
       "2272     62900.0     63500.0     62400.0     60700.0  \n",
       "2273     31600.0     30200.0     29400.0     29100.0  \n",
       "\n",
       "[2270 rows x 569 columns]"
      ],
      "text/html": [
       "<div>\n",
       "<style scoped>\n",
       "    .dataframe tbody tr th:only-of-type {\n",
       "        vertical-align: middle;\n",
       "    }\n",
       "\n",
       "    .dataframe tbody tr th {\n",
       "        vertical-align: top;\n",
       "    }\n",
       "\n",
       "    .dataframe thead th {\n",
       "        text-align: right;\n",
       "    }\n",
       "</style>\n",
       "<table border=\"1\" class=\"dataframe\">\n",
       "  <thead>\n",
       "    <tr style=\"text-align: right;\">\n",
       "      <th></th>\n",
       "      <th>Symbol</th>\n",
       "      <th>2018-06-01</th>\n",
       "      <th>2018-06-04</th>\n",
       "      <th>2018-06-05</th>\n",
       "      <th>2018-06-07</th>\n",
       "      <th>2018-06-08</th>\n",
       "      <th>2018-06-11</th>\n",
       "      <th>2018-06-12</th>\n",
       "      <th>2018-06-14</th>\n",
       "      <th>2018-06-15</th>\n",
       "      <th>...</th>\n",
       "      <th>2020-09-07</th>\n",
       "      <th>2020-09-08</th>\n",
       "      <th>2020-09-09</th>\n",
       "      <th>2020-09-10</th>\n",
       "      <th>2020-09-11</th>\n",
       "      <th>2020-09-14</th>\n",
       "      <th>2020-09-15</th>\n",
       "      <th>2020-09-16</th>\n",
       "      <th>2020-09-17</th>\n",
       "      <th>2020-09-18</th>\n",
       "    </tr>\n",
       "  </thead>\n",
       "  <tbody>\n",
       "    <tr>\n",
       "      <th>4</th>\n",
       "      <td>A000060A000060</td>\n",
       "      <td>40100.0</td>\n",
       "      <td>40100.0</td>\n",
       "      <td>40300.0</td>\n",
       "      <td>40100.0</td>\n",
       "      <td>40800.0</td>\n",
       "      <td>40300.0</td>\n",
       "      <td>41400.0</td>\n",
       "      <td>41900.0</td>\n",
       "      <td>40300.0</td>\n",
       "      <td>...</td>\n",
       "      <td>25400.0</td>\n",
       "      <td>25400.0</td>\n",
       "      <td>25300.0</td>\n",
       "      <td>25400.0</td>\n",
       "      <td>25600.0</td>\n",
       "      <td>26000.0</td>\n",
       "      <td>26400.0</td>\n",
       "      <td>26300.0</td>\n",
       "      <td>26300.0</td>\n",
       "      <td>26400.0</td>\n",
       "    </tr>\n",
       "    <tr>\n",
       "      <th>5</th>\n",
       "      <td>A000070A000070</td>\n",
       "      <td>240000.0</td>\n",
       "      <td>246000.0</td>\n",
       "      <td>247000.0</td>\n",
       "      <td>249000.0</td>\n",
       "      <td>247000.0</td>\n",
       "      <td>250000.0</td>\n",
       "      <td>243000.0</td>\n",
       "      <td>236000.0</td>\n",
       "      <td>242000.0</td>\n",
       "      <td>...</td>\n",
       "      <td>134400.0</td>\n",
       "      <td>136000.0</td>\n",
       "      <td>133000.0</td>\n",
       "      <td>132600.0</td>\n",
       "      <td>130800.0</td>\n",
       "      <td>135000.0</td>\n",
       "      <td>132400.0</td>\n",
       "      <td>130800.0</td>\n",
       "      <td>129000.0</td>\n",
       "      <td>128800.0</td>\n",
       "    </tr>\n",
       "    <tr>\n",
       "      <th>6</th>\n",
       "      <td>A000080A000080</td>\n",
       "      <td>40400.0</td>\n",
       "      <td>40800.0</td>\n",
       "      <td>40700.0</td>\n",
       "      <td>42000.0</td>\n",
       "      <td>41500.0</td>\n",
       "      <td>41700.0</td>\n",
       "      <td>41400.0</td>\n",
       "      <td>41300.0</td>\n",
       "      <td>41200.0</td>\n",
       "      <td>...</td>\n",
       "      <td>73400.0</td>\n",
       "      <td>76100.0</td>\n",
       "      <td>74100.0</td>\n",
       "      <td>75200.0</td>\n",
       "      <td>74700.0</td>\n",
       "      <td>74600.0</td>\n",
       "      <td>77000.0</td>\n",
       "      <td>75900.0</td>\n",
       "      <td>74300.0</td>\n",
       "      <td>73700.0</td>\n",
       "    </tr>\n",
       "    <tr>\n",
       "      <th>7</th>\n",
       "      <td>A000100A000100</td>\n",
       "      <td>89958.0</td>\n",
       "      <td>85378.0</td>\n",
       "      <td>82812.0</td>\n",
       "      <td>82996.0</td>\n",
       "      <td>83912.0</td>\n",
       "      <td>84278.0</td>\n",
       "      <td>84828.0</td>\n",
       "      <td>83546.0</td>\n",
       "      <td>83180.0</td>\n",
       "      <td>...</td>\n",
       "      <td>130400.0</td>\n",
       "      <td>131000.0</td>\n",
       "      <td>128000.0</td>\n",
       "      <td>129000.0</td>\n",
       "      <td>133200.0</td>\n",
       "      <td>131400.0</td>\n",
       "      <td>137400.0</td>\n",
       "      <td>136800.0</td>\n",
       "      <td>132800.0</td>\n",
       "      <td>133200.0</td>\n",
       "    </tr>\n",
       "    <tr>\n",
       "      <th>8</th>\n",
       "      <td>A000120A000120</td>\n",
       "      <td>296000.0</td>\n",
       "      <td>306000.0</td>\n",
       "      <td>305000.0</td>\n",
       "      <td>308000.0</td>\n",
       "      <td>308000.0</td>\n",
       "      <td>323000.0</td>\n",
       "      <td>323000.0</td>\n",
       "      <td>313000.0</td>\n",
       "      <td>304000.0</td>\n",
       "      <td>...</td>\n",
       "      <td>320000.0</td>\n",
       "      <td>312000.0</td>\n",
       "      <td>316000.0</td>\n",
       "      <td>312000.0</td>\n",
       "      <td>313000.0</td>\n",
       "      <td>316000.0</td>\n",
       "      <td>325000.0</td>\n",
       "      <td>355000.0</td>\n",
       "      <td>359000.0</td>\n",
       "      <td>364000.0</td>\n",
       "    </tr>\n",
       "    <tr>\n",
       "      <th>...</th>\n",
       "      <td>...</td>\n",
       "      <td>...</td>\n",
       "      <td>...</td>\n",
       "      <td>...</td>\n",
       "      <td>...</td>\n",
       "      <td>...</td>\n",
       "      <td>...</td>\n",
       "      <td>...</td>\n",
       "      <td>...</td>\n",
       "      <td>...</td>\n",
       "      <td>...</td>\n",
       "      <td>...</td>\n",
       "      <td>...</td>\n",
       "      <td>...</td>\n",
       "      <td>...</td>\n",
       "      <td>...</td>\n",
       "      <td>...</td>\n",
       "      <td>...</td>\n",
       "      <td>...</td>\n",
       "      <td>...</td>\n",
       "      <td>...</td>\n",
       "    </tr>\n",
       "    <tr>\n",
       "      <th>2269</th>\n",
       "      <td>A950160A950160</td>\n",
       "      <td>77200.0</td>\n",
       "      <td>72800.0</td>\n",
       "      <td>72700.0</td>\n",
       "      <td>77400.0</td>\n",
       "      <td>80400.0</td>\n",
       "      <td>78500.0</td>\n",
       "      <td>76600.0</td>\n",
       "      <td>76700.0</td>\n",
       "      <td>78000.0</td>\n",
       "      <td>...</td>\n",
       "      <td>19080.0</td>\n",
       "      <td>19080.0</td>\n",
       "      <td>19080.0</td>\n",
       "      <td>19080.0</td>\n",
       "      <td>19080.0</td>\n",
       "      <td>19080.0</td>\n",
       "      <td>19080.0</td>\n",
       "      <td>19080.0</td>\n",
       "      <td>16020.0</td>\n",
       "      <td>16020.0</td>\n",
       "    </tr>\n",
       "    <tr>\n",
       "      <th>2270</th>\n",
       "      <td>A950170A950170</td>\n",
       "      <td>27700.0</td>\n",
       "      <td>28500.0</td>\n",
       "      <td>28900.0</td>\n",
       "      <td>28600.0</td>\n",
       "      <td>28300.0</td>\n",
       "      <td>27300.0</td>\n",
       "      <td>28100.0</td>\n",
       "      <td>27200.0</td>\n",
       "      <td>27100.0</td>\n",
       "      <td>...</td>\n",
       "      <td>8080.0</td>\n",
       "      <td>8100.0</td>\n",
       "      <td>8490.0</td>\n",
       "      <td>8550.0</td>\n",
       "      <td>8400.0</td>\n",
       "      <td>8390.0</td>\n",
       "      <td>8140.0</td>\n",
       "      <td>8090.0</td>\n",
       "      <td>8030.0</td>\n",
       "      <td>8110.0</td>\n",
       "    </tr>\n",
       "    <tr>\n",
       "      <th>2271</th>\n",
       "      <td>A950180A950180</td>\n",
       "      <td>NaN</td>\n",
       "      <td>NaN</td>\n",
       "      <td>NaN</td>\n",
       "      <td>NaN</td>\n",
       "      <td>NaN</td>\n",
       "      <td>NaN</td>\n",
       "      <td>NaN</td>\n",
       "      <td>NaN</td>\n",
       "      <td>NaN</td>\n",
       "      <td>...</td>\n",
       "      <td>26400.0</td>\n",
       "      <td>26300.0</td>\n",
       "      <td>26200.0</td>\n",
       "      <td>26300.0</td>\n",
       "      <td>26200.0</td>\n",
       "      <td>27800.0</td>\n",
       "      <td>26500.0</td>\n",
       "      <td>26700.0</td>\n",
       "      <td>27100.0</td>\n",
       "      <td>26900.0</td>\n",
       "    </tr>\n",
       "    <tr>\n",
       "      <th>2272</th>\n",
       "      <td>A950190A950190</td>\n",
       "      <td>NaN</td>\n",
       "      <td>NaN</td>\n",
       "      <td>NaN</td>\n",
       "      <td>NaN</td>\n",
       "      <td>NaN</td>\n",
       "      <td>NaN</td>\n",
       "      <td>NaN</td>\n",
       "      <td>NaN</td>\n",
       "      <td>NaN</td>\n",
       "      <td>...</td>\n",
       "      <td>64400.0</td>\n",
       "      <td>62400.0</td>\n",
       "      <td>60800.0</td>\n",
       "      <td>61000.0</td>\n",
       "      <td>60300.0</td>\n",
       "      <td>60100.0</td>\n",
       "      <td>62900.0</td>\n",
       "      <td>63500.0</td>\n",
       "      <td>62400.0</td>\n",
       "      <td>60700.0</td>\n",
       "    </tr>\n",
       "    <tr>\n",
       "      <th>2273</th>\n",
       "      <td>A950200A950200</td>\n",
       "      <td>NaN</td>\n",
       "      <td>NaN</td>\n",
       "      <td>NaN</td>\n",
       "      <td>NaN</td>\n",
       "      <td>NaN</td>\n",
       "      <td>NaN</td>\n",
       "      <td>NaN</td>\n",
       "      <td>NaN</td>\n",
       "      <td>NaN</td>\n",
       "      <td>...</td>\n",
       "      <td>33500.0</td>\n",
       "      <td>33900.0</td>\n",
       "      <td>34500.0</td>\n",
       "      <td>34200.0</td>\n",
       "      <td>34700.0</td>\n",
       "      <td>34900.0</td>\n",
       "      <td>31600.0</td>\n",
       "      <td>30200.0</td>\n",
       "      <td>29400.0</td>\n",
       "      <td>29100.0</td>\n",
       "    </tr>\n",
       "  </tbody>\n",
       "</table>\n",
       "<p>2270 rows × 569 columns</p>\n",
       "</div>"
      ]
     },
     "metadata": {},
     "execution_count": 62
    }
   ],
   "metadata": {}
  },
  {
   "cell_type": "code",
   "execution_count": 63,
   "source": [
    "my_series.loc['2020-09-15'::2] + 30000  # Scalar Broadcasting"
   ],
   "outputs": [
    {
     "output_type": "error",
     "ename": "TypeError",
     "evalue": "can only concatenate str (not \"int\") to str",
     "traceback": [
      "\u001b[0;31m---------------------------------------------------------------------------\u001b[0m",
      "\u001b[0;31mTypeError\u001b[0m                                 Traceback (most recent call last)",
      "\u001b[0;32m~/miniforge3/envs/tf5/lib/python3.8/site-packages/pandas/core/ops/array_ops.py\u001b[0m in \u001b[0;36m_na_arithmetic_op\u001b[0;34m(left, right, op, is_cmp)\u001b[0m\n\u001b[1;32m    165\u001b[0m     \u001b[0;32mtry\u001b[0m\u001b[0;34m:\u001b[0m\u001b[0;34m\u001b[0m\u001b[0;34m\u001b[0m\u001b[0m\n\u001b[0;32m--> 166\u001b[0;31m         \u001b[0mresult\u001b[0m \u001b[0;34m=\u001b[0m \u001b[0mfunc\u001b[0m\u001b[0;34m(\u001b[0m\u001b[0mleft\u001b[0m\u001b[0;34m,\u001b[0m \u001b[0mright\u001b[0m\u001b[0;34m)\u001b[0m\u001b[0;34m\u001b[0m\u001b[0;34m\u001b[0m\u001b[0m\n\u001b[0m\u001b[1;32m    167\u001b[0m     \u001b[0;32mexcept\u001b[0m \u001b[0mTypeError\u001b[0m\u001b[0;34m:\u001b[0m\u001b[0;34m\u001b[0m\u001b[0;34m\u001b[0m\u001b[0m\n",
      "\u001b[0;32m~/miniforge3/envs/tf5/lib/python3.8/site-packages/pandas/core/computation/expressions.py\u001b[0m in \u001b[0;36mevaluate\u001b[0;34m(op, a, b, use_numexpr)\u001b[0m\n\u001b[1;32m    238\u001b[0m             \u001b[0;31m# error: \"None\" not callable\u001b[0m\u001b[0;34m\u001b[0m\u001b[0;34m\u001b[0m\u001b[0;34m\u001b[0m\u001b[0m\n\u001b[0;32m--> 239\u001b[0;31m             \u001b[0;32mreturn\u001b[0m \u001b[0m_evaluate\u001b[0m\u001b[0;34m(\u001b[0m\u001b[0mop\u001b[0m\u001b[0;34m,\u001b[0m \u001b[0mop_str\u001b[0m\u001b[0;34m,\u001b[0m \u001b[0ma\u001b[0m\u001b[0;34m,\u001b[0m \u001b[0mb\u001b[0m\u001b[0;34m)\u001b[0m  \u001b[0;31m# type: ignore[misc]\u001b[0m\u001b[0;34m\u001b[0m\u001b[0;34m\u001b[0m\u001b[0m\n\u001b[0m\u001b[1;32m    240\u001b[0m     \u001b[0;32mreturn\u001b[0m \u001b[0m_evaluate_standard\u001b[0m\u001b[0;34m(\u001b[0m\u001b[0mop\u001b[0m\u001b[0;34m,\u001b[0m \u001b[0mop_str\u001b[0m\u001b[0;34m,\u001b[0m \u001b[0ma\u001b[0m\u001b[0;34m,\u001b[0m \u001b[0mb\u001b[0m\u001b[0;34m)\u001b[0m\u001b[0;34m\u001b[0m\u001b[0;34m\u001b[0m\u001b[0m\n",
      "\u001b[0;32m~/miniforge3/envs/tf5/lib/python3.8/site-packages/pandas/core/computation/expressions.py\u001b[0m in \u001b[0;36m_evaluate_standard\u001b[0;34m(op, op_str, a, b)\u001b[0m\n\u001b[1;32m     68\u001b[0m         \u001b[0m_store_test_result\u001b[0m\u001b[0;34m(\u001b[0m\u001b[0;32mFalse\u001b[0m\u001b[0;34m)\u001b[0m\u001b[0;34m\u001b[0m\u001b[0;34m\u001b[0m\u001b[0m\n\u001b[0;32m---> 69\u001b[0;31m     \u001b[0;32mreturn\u001b[0m \u001b[0mop\u001b[0m\u001b[0;34m(\u001b[0m\u001b[0ma\u001b[0m\u001b[0;34m,\u001b[0m \u001b[0mb\u001b[0m\u001b[0;34m)\u001b[0m\u001b[0;34m\u001b[0m\u001b[0;34m\u001b[0m\u001b[0m\n\u001b[0m\u001b[1;32m     70\u001b[0m \u001b[0;34m\u001b[0m\u001b[0m\n",
      "\u001b[0;31mTypeError\u001b[0m: can only concatenate str (not \"int\") to str",
      "\nDuring handling of the above exception, another exception occurred:\n",
      "\u001b[0;31mTypeError\u001b[0m                                 Traceback (most recent call last)",
      "\u001b[0;32m/var/folders/44/crx333nn0lvgs_gnbz2k_qym0000gn/T/ipykernel_32384/423009907.py\u001b[0m in \u001b[0;36m<module>\u001b[0;34m\u001b[0m\n\u001b[0;32m----> 1\u001b[0;31m \u001b[0mmy_series\u001b[0m\u001b[0;34m.\u001b[0m\u001b[0mloc\u001b[0m\u001b[0;34m[\u001b[0m\u001b[0;34m'2020-09-15'\u001b[0m\u001b[0;34m:\u001b[0m\u001b[0;34m:\u001b[0m\u001b[0;36m2\u001b[0m\u001b[0;34m]\u001b[0m \u001b[0;34m+\u001b[0m \u001b[0;36m30000\u001b[0m  \u001b[0;31m# Scalar Broadcasting\u001b[0m\u001b[0;34m\u001b[0m\u001b[0;34m\u001b[0m\u001b[0m\n\u001b[0m",
      "\u001b[0;32m~/miniforge3/envs/tf5/lib/python3.8/site-packages/pandas/core/ops/common.py\u001b[0m in \u001b[0;36mnew_method\u001b[0;34m(self, other)\u001b[0m\n\u001b[1;32m     67\u001b[0m         \u001b[0mother\u001b[0m \u001b[0;34m=\u001b[0m \u001b[0mitem_from_zerodim\u001b[0m\u001b[0;34m(\u001b[0m\u001b[0mother\u001b[0m\u001b[0;34m)\u001b[0m\u001b[0;34m\u001b[0m\u001b[0;34m\u001b[0m\u001b[0m\n\u001b[1;32m     68\u001b[0m \u001b[0;34m\u001b[0m\u001b[0m\n\u001b[0;32m---> 69\u001b[0;31m         \u001b[0;32mreturn\u001b[0m \u001b[0mmethod\u001b[0m\u001b[0;34m(\u001b[0m\u001b[0mself\u001b[0m\u001b[0;34m,\u001b[0m \u001b[0mother\u001b[0m\u001b[0;34m)\u001b[0m\u001b[0;34m\u001b[0m\u001b[0;34m\u001b[0m\u001b[0m\n\u001b[0m\u001b[1;32m     70\u001b[0m \u001b[0;34m\u001b[0m\u001b[0m\n\u001b[1;32m     71\u001b[0m     \u001b[0;32mreturn\u001b[0m \u001b[0mnew_method\u001b[0m\u001b[0;34m\u001b[0m\u001b[0;34m\u001b[0m\u001b[0m\n",
      "\u001b[0;32m~/miniforge3/envs/tf5/lib/python3.8/site-packages/pandas/core/arraylike.py\u001b[0m in \u001b[0;36m__add__\u001b[0;34m(self, other)\u001b[0m\n\u001b[1;32m     90\u001b[0m     \u001b[0;34m@\u001b[0m\u001b[0munpack_zerodim_and_defer\u001b[0m\u001b[0;34m(\u001b[0m\u001b[0;34m\"__add__\"\u001b[0m\u001b[0;34m)\u001b[0m\u001b[0;34m\u001b[0m\u001b[0;34m\u001b[0m\u001b[0m\n\u001b[1;32m     91\u001b[0m     \u001b[0;32mdef\u001b[0m \u001b[0m__add__\u001b[0m\u001b[0;34m(\u001b[0m\u001b[0mself\u001b[0m\u001b[0;34m,\u001b[0m \u001b[0mother\u001b[0m\u001b[0;34m)\u001b[0m\u001b[0;34m:\u001b[0m\u001b[0;34m\u001b[0m\u001b[0;34m\u001b[0m\u001b[0m\n\u001b[0;32m---> 92\u001b[0;31m         \u001b[0;32mreturn\u001b[0m \u001b[0mself\u001b[0m\u001b[0;34m.\u001b[0m\u001b[0m_arith_method\u001b[0m\u001b[0;34m(\u001b[0m\u001b[0mother\u001b[0m\u001b[0;34m,\u001b[0m \u001b[0moperator\u001b[0m\u001b[0;34m.\u001b[0m\u001b[0madd\u001b[0m\u001b[0;34m)\u001b[0m\u001b[0;34m\u001b[0m\u001b[0;34m\u001b[0m\u001b[0m\n\u001b[0m\u001b[1;32m     93\u001b[0m \u001b[0;34m\u001b[0m\u001b[0m\n\u001b[1;32m     94\u001b[0m     \u001b[0;34m@\u001b[0m\u001b[0munpack_zerodim_and_defer\u001b[0m\u001b[0;34m(\u001b[0m\u001b[0;34m\"__radd__\"\u001b[0m\u001b[0;34m)\u001b[0m\u001b[0;34m\u001b[0m\u001b[0;34m\u001b[0m\u001b[0m\n",
      "\u001b[0;32m~/miniforge3/envs/tf5/lib/python3.8/site-packages/pandas/core/frame.py\u001b[0m in \u001b[0;36m_arith_method\u001b[0;34m(self, other, op)\u001b[0m\n\u001b[1;32m   6859\u001b[0m         \u001b[0mself\u001b[0m\u001b[0;34m,\u001b[0m \u001b[0mother\u001b[0m \u001b[0;34m=\u001b[0m \u001b[0mops\u001b[0m\u001b[0;34m.\u001b[0m\u001b[0malign_method_FRAME\u001b[0m\u001b[0;34m(\u001b[0m\u001b[0mself\u001b[0m\u001b[0;34m,\u001b[0m \u001b[0mother\u001b[0m\u001b[0;34m,\u001b[0m \u001b[0maxis\u001b[0m\u001b[0;34m,\u001b[0m \u001b[0mflex\u001b[0m\u001b[0;34m=\u001b[0m\u001b[0;32mTrue\u001b[0m\u001b[0;34m,\u001b[0m \u001b[0mlevel\u001b[0m\u001b[0;34m=\u001b[0m\u001b[0;32mNone\u001b[0m\u001b[0;34m)\u001b[0m\u001b[0;34m\u001b[0m\u001b[0;34m\u001b[0m\u001b[0m\n\u001b[1;32m   6860\u001b[0m \u001b[0;34m\u001b[0m\u001b[0m\n\u001b[0;32m-> 6861\u001b[0;31m         \u001b[0mnew_data\u001b[0m \u001b[0;34m=\u001b[0m \u001b[0mself\u001b[0m\u001b[0;34m.\u001b[0m\u001b[0m_dispatch_frame_op\u001b[0m\u001b[0;34m(\u001b[0m\u001b[0mother\u001b[0m\u001b[0;34m,\u001b[0m \u001b[0mop\u001b[0m\u001b[0;34m,\u001b[0m \u001b[0maxis\u001b[0m\u001b[0;34m=\u001b[0m\u001b[0maxis\u001b[0m\u001b[0;34m)\u001b[0m\u001b[0;34m\u001b[0m\u001b[0;34m\u001b[0m\u001b[0m\n\u001b[0m\u001b[1;32m   6862\u001b[0m         \u001b[0;32mreturn\u001b[0m \u001b[0mself\u001b[0m\u001b[0;34m.\u001b[0m\u001b[0m_construct_result\u001b[0m\u001b[0;34m(\u001b[0m\u001b[0mnew_data\u001b[0m\u001b[0;34m)\u001b[0m\u001b[0;34m\u001b[0m\u001b[0;34m\u001b[0m\u001b[0m\n\u001b[1;32m   6863\u001b[0m \u001b[0;34m\u001b[0m\u001b[0m\n",
      "\u001b[0;32m~/miniforge3/envs/tf5/lib/python3.8/site-packages/pandas/core/frame.py\u001b[0m in \u001b[0;36m_dispatch_frame_op\u001b[0;34m(self, right, func, axis)\u001b[0m\n\u001b[1;32m   6886\u001b[0m             \u001b[0;31m# i.e. scalar, faster than checking np.ndim(right) == 0\u001b[0m\u001b[0;34m\u001b[0m\u001b[0;34m\u001b[0m\u001b[0;34m\u001b[0m\u001b[0m\n\u001b[1;32m   6887\u001b[0m             \u001b[0;32mwith\u001b[0m \u001b[0mnp\u001b[0m\u001b[0;34m.\u001b[0m\u001b[0merrstate\u001b[0m\u001b[0;34m(\u001b[0m\u001b[0mall\u001b[0m\u001b[0;34m=\u001b[0m\u001b[0;34m\"ignore\"\u001b[0m\u001b[0;34m)\u001b[0m\u001b[0;34m:\u001b[0m\u001b[0;34m\u001b[0m\u001b[0;34m\u001b[0m\u001b[0m\n\u001b[0;32m-> 6888\u001b[0;31m                 \u001b[0mbm\u001b[0m \u001b[0;34m=\u001b[0m \u001b[0mself\u001b[0m\u001b[0;34m.\u001b[0m\u001b[0m_mgr\u001b[0m\u001b[0;34m.\u001b[0m\u001b[0mapply\u001b[0m\u001b[0;34m(\u001b[0m\u001b[0marray_op\u001b[0m\u001b[0;34m,\u001b[0m \u001b[0mright\u001b[0m\u001b[0;34m=\u001b[0m\u001b[0mright\u001b[0m\u001b[0;34m)\u001b[0m\u001b[0;34m\u001b[0m\u001b[0;34m\u001b[0m\u001b[0m\n\u001b[0m\u001b[1;32m   6889\u001b[0m             \u001b[0;32mreturn\u001b[0m \u001b[0mtype\u001b[0m\u001b[0;34m(\u001b[0m\u001b[0mself\u001b[0m\u001b[0;34m)\u001b[0m\u001b[0;34m(\u001b[0m\u001b[0mbm\u001b[0m\u001b[0;34m)\u001b[0m\u001b[0;34m\u001b[0m\u001b[0;34m\u001b[0m\u001b[0m\n\u001b[1;32m   6890\u001b[0m \u001b[0;34m\u001b[0m\u001b[0m\n",
      "\u001b[0;32m~/miniforge3/envs/tf5/lib/python3.8/site-packages/pandas/core/internals/managers.py\u001b[0m in \u001b[0;36mapply\u001b[0;34m(self, f, align_keys, ignore_failures, **kwargs)\u001b[0m\n\u001b[1;32m    323\u001b[0m             \u001b[0;32mtry\u001b[0m\u001b[0;34m:\u001b[0m\u001b[0;34m\u001b[0m\u001b[0;34m\u001b[0m\u001b[0m\n\u001b[1;32m    324\u001b[0m                 \u001b[0;32mif\u001b[0m \u001b[0mcallable\u001b[0m\u001b[0;34m(\u001b[0m\u001b[0mf\u001b[0m\u001b[0;34m)\u001b[0m\u001b[0;34m:\u001b[0m\u001b[0;34m\u001b[0m\u001b[0;34m\u001b[0m\u001b[0m\n\u001b[0;32m--> 325\u001b[0;31m                     \u001b[0mapplied\u001b[0m \u001b[0;34m=\u001b[0m \u001b[0mb\u001b[0m\u001b[0;34m.\u001b[0m\u001b[0mapply\u001b[0m\u001b[0;34m(\u001b[0m\u001b[0mf\u001b[0m\u001b[0;34m,\u001b[0m \u001b[0;34m**\u001b[0m\u001b[0mkwargs\u001b[0m\u001b[0;34m)\u001b[0m\u001b[0;34m\u001b[0m\u001b[0;34m\u001b[0m\u001b[0m\n\u001b[0m\u001b[1;32m    326\u001b[0m                 \u001b[0;32melse\u001b[0m\u001b[0;34m:\u001b[0m\u001b[0;34m\u001b[0m\u001b[0;34m\u001b[0m\u001b[0m\n\u001b[1;32m    327\u001b[0m                     \u001b[0mapplied\u001b[0m \u001b[0;34m=\u001b[0m \u001b[0mgetattr\u001b[0m\u001b[0;34m(\u001b[0m\u001b[0mb\u001b[0m\u001b[0;34m,\u001b[0m \u001b[0mf\u001b[0m\u001b[0;34m)\u001b[0m\u001b[0;34m(\u001b[0m\u001b[0;34m**\u001b[0m\u001b[0mkwargs\u001b[0m\u001b[0;34m)\u001b[0m\u001b[0;34m\u001b[0m\u001b[0;34m\u001b[0m\u001b[0m\n",
      "\u001b[0;32m~/miniforge3/envs/tf5/lib/python3.8/site-packages/pandas/core/internals/blocks.py\u001b[0m in \u001b[0;36mapply\u001b[0;34m(self, func, **kwargs)\u001b[0m\n\u001b[1;32m    380\u001b[0m         \"\"\"\n\u001b[1;32m    381\u001b[0m         \u001b[0;32mwith\u001b[0m \u001b[0mnp\u001b[0m\u001b[0;34m.\u001b[0m\u001b[0merrstate\u001b[0m\u001b[0;34m(\u001b[0m\u001b[0mall\u001b[0m\u001b[0;34m=\u001b[0m\u001b[0;34m\"ignore\"\u001b[0m\u001b[0;34m)\u001b[0m\u001b[0;34m:\u001b[0m\u001b[0;34m\u001b[0m\u001b[0;34m\u001b[0m\u001b[0m\n\u001b[0;32m--> 382\u001b[0;31m             \u001b[0mresult\u001b[0m \u001b[0;34m=\u001b[0m \u001b[0mfunc\u001b[0m\u001b[0;34m(\u001b[0m\u001b[0mself\u001b[0m\u001b[0;34m.\u001b[0m\u001b[0mvalues\u001b[0m\u001b[0;34m,\u001b[0m \u001b[0;34m**\u001b[0m\u001b[0mkwargs\u001b[0m\u001b[0;34m)\u001b[0m\u001b[0;34m\u001b[0m\u001b[0;34m\u001b[0m\u001b[0m\n\u001b[0m\u001b[1;32m    383\u001b[0m \u001b[0;34m\u001b[0m\u001b[0m\n\u001b[1;32m    384\u001b[0m         \u001b[0;32mreturn\u001b[0m \u001b[0mself\u001b[0m\u001b[0;34m.\u001b[0m\u001b[0m_split_op_result\u001b[0m\u001b[0;34m(\u001b[0m\u001b[0mresult\u001b[0m\u001b[0;34m)\u001b[0m\u001b[0;34m\u001b[0m\u001b[0;34m\u001b[0m\u001b[0m\n",
      "\u001b[0;32m~/miniforge3/envs/tf5/lib/python3.8/site-packages/pandas/core/ops/array_ops.py\u001b[0m in \u001b[0;36marithmetic_op\u001b[0;34m(left, right, op)\u001b[0m\n\u001b[1;32m    222\u001b[0m         \u001b[0m_bool_arith_check\u001b[0m\u001b[0;34m(\u001b[0m\u001b[0mop\u001b[0m\u001b[0;34m,\u001b[0m \u001b[0mleft\u001b[0m\u001b[0;34m,\u001b[0m \u001b[0mright\u001b[0m\u001b[0;34m)\u001b[0m\u001b[0;34m\u001b[0m\u001b[0;34m\u001b[0m\u001b[0m\n\u001b[1;32m    223\u001b[0m \u001b[0;34m\u001b[0m\u001b[0m\n\u001b[0;32m--> 224\u001b[0;31m         \u001b[0mres_values\u001b[0m \u001b[0;34m=\u001b[0m \u001b[0m_na_arithmetic_op\u001b[0m\u001b[0;34m(\u001b[0m\u001b[0mleft\u001b[0m\u001b[0;34m,\u001b[0m \u001b[0mright\u001b[0m\u001b[0;34m,\u001b[0m \u001b[0mop\u001b[0m\u001b[0;34m)\u001b[0m\u001b[0;34m\u001b[0m\u001b[0;34m\u001b[0m\u001b[0m\n\u001b[0m\u001b[1;32m    225\u001b[0m \u001b[0;34m\u001b[0m\u001b[0m\n\u001b[1;32m    226\u001b[0m     \u001b[0;32mreturn\u001b[0m \u001b[0mres_values\u001b[0m\u001b[0;34m\u001b[0m\u001b[0;34m\u001b[0m\u001b[0m\n",
      "\u001b[0;32m~/miniforge3/envs/tf5/lib/python3.8/site-packages/pandas/core/ops/array_ops.py\u001b[0m in \u001b[0;36m_na_arithmetic_op\u001b[0;34m(left, right, op, is_cmp)\u001b[0m\n\u001b[1;32m    171\u001b[0m             \u001b[0;31m# Don't do this for comparisons, as that will handle complex numbers\u001b[0m\u001b[0;34m\u001b[0m\u001b[0;34m\u001b[0m\u001b[0;34m\u001b[0m\u001b[0m\n\u001b[1;32m    172\u001b[0m             \u001b[0;31m#  incorrectly, see GH#32047\u001b[0m\u001b[0;34m\u001b[0m\u001b[0;34m\u001b[0m\u001b[0;34m\u001b[0m\u001b[0m\n\u001b[0;32m--> 173\u001b[0;31m             \u001b[0mresult\u001b[0m \u001b[0;34m=\u001b[0m \u001b[0m_masked_arith_op\u001b[0m\u001b[0;34m(\u001b[0m\u001b[0mleft\u001b[0m\u001b[0;34m,\u001b[0m \u001b[0mright\u001b[0m\u001b[0;34m,\u001b[0m \u001b[0mop\u001b[0m\u001b[0;34m)\u001b[0m\u001b[0;34m\u001b[0m\u001b[0;34m\u001b[0m\u001b[0m\n\u001b[0m\u001b[1;32m    174\u001b[0m         \u001b[0;32melse\u001b[0m\u001b[0;34m:\u001b[0m\u001b[0;34m\u001b[0m\u001b[0;34m\u001b[0m\u001b[0m\n\u001b[1;32m    175\u001b[0m             \u001b[0;32mraise\u001b[0m\u001b[0;34m\u001b[0m\u001b[0;34m\u001b[0m\u001b[0m\n",
      "\u001b[0;32m~/miniforge3/envs/tf5/lib/python3.8/site-packages/pandas/core/ops/array_ops.py\u001b[0m in \u001b[0;36m_masked_arith_op\u001b[0;34m(x, y, op)\u001b[0m\n\u001b[1;32m    129\u001b[0m \u001b[0;34m\u001b[0m\u001b[0m\n\u001b[1;32m    130\u001b[0m         \u001b[0;32mif\u001b[0m \u001b[0mmask\u001b[0m\u001b[0;34m.\u001b[0m\u001b[0many\u001b[0m\u001b[0;34m(\u001b[0m\u001b[0;34m)\u001b[0m\u001b[0;34m:\u001b[0m\u001b[0;34m\u001b[0m\u001b[0;34m\u001b[0m\u001b[0m\n\u001b[0;32m--> 131\u001b[0;31m             \u001b[0mresult\u001b[0m\u001b[0;34m[\u001b[0m\u001b[0mmask\u001b[0m\u001b[0;34m]\u001b[0m \u001b[0;34m=\u001b[0m \u001b[0mop\u001b[0m\u001b[0;34m(\u001b[0m\u001b[0mxrav\u001b[0m\u001b[0;34m[\u001b[0m\u001b[0mmask\u001b[0m\u001b[0;34m]\u001b[0m\u001b[0;34m,\u001b[0m \u001b[0my\u001b[0m\u001b[0;34m)\u001b[0m\u001b[0;34m\u001b[0m\u001b[0;34m\u001b[0m\u001b[0m\n\u001b[0m\u001b[1;32m    132\u001b[0m \u001b[0;34m\u001b[0m\u001b[0m\n\u001b[1;32m    133\u001b[0m     \u001b[0mnp\u001b[0m\u001b[0;34m.\u001b[0m\u001b[0mputmask\u001b[0m\u001b[0;34m(\u001b[0m\u001b[0mresult\u001b[0m\u001b[0;34m,\u001b[0m \u001b[0;34m~\u001b[0m\u001b[0mmask\u001b[0m\u001b[0;34m,\u001b[0m \u001b[0mnp\u001b[0m\u001b[0;34m.\u001b[0m\u001b[0mnan\u001b[0m\u001b[0;34m)\u001b[0m\u001b[0;34m\u001b[0m\u001b[0;34m\u001b[0m\u001b[0m\n",
      "\u001b[0;31mTypeError\u001b[0m: can only concatenate str (not \"int\") to str"
     ]
    }
   ],
   "metadata": {}
  },
  {
   "cell_type": "code",
   "execution_count": null,
   "source": [
    "my_series.iloc[4:].mean()    # 평균 aggregation"
   ],
   "outputs": [
    {
     "output_type": "error",
     "ename": "NameError",
     "evalue": "name 'my_series' is not defined",
     "traceback": [
      "\u001b[0;31m---------------------------------------------------------------------------\u001b[0m",
      "\u001b[0;31mNameError\u001b[0m                                 Traceback (most recent call last)",
      "\u001b[0;32m/var/folders/44/crx333nn0lvgs_gnbz2k_qym0000gn/T/ipykernel_85434/348201205.py\u001b[0m in \u001b[0;36m<module>\u001b[0;34m\u001b[0m\n\u001b[0;32m----> 1\u001b[0;31m \u001b[0mmy_series\u001b[0m\u001b[0;34m.\u001b[0m\u001b[0miloc\u001b[0m\u001b[0;34m[\u001b[0m\u001b[0;36m4\u001b[0m\u001b[0;34m:\u001b[0m\u001b[0;34m]\u001b[0m\u001b[0;34m.\u001b[0m\u001b[0mmean\u001b[0m\u001b[0;34m(\u001b[0m\u001b[0;34m)\u001b[0m    \u001b[0;31m# 평균 aggregation\u001b[0m\u001b[0;34m\u001b[0m\u001b[0;34m\u001b[0m\u001b[0m\n\u001b[0m",
      "\u001b[0;31mNameError\u001b[0m: name 'my_series' is not defined"
     ]
    }
   ],
   "metadata": {}
  },
  {
   "cell_type": "code",
   "execution_count": null,
   "source": [
    "new_sr = pd.Series([11,22,3,45], name='apple',\n",
    "                   index=['a','b','xs','e11'])\n",
    "new_sr"
   ],
   "outputs": [],
   "metadata": {}
  },
  {
   "cell_type": "markdown",
   "source": [
    "#### pandas 기본 3. 『 DataFrame 』 행×열 데이터 "
   ],
   "metadata": {}
  },
  {
   "cell_type": "markdown",
   "source": [
    "##### &nbsp;&nbsp;&nbsp;&nbsp;&nbsp; 아래 블럭은 그냥 실행해주세요!! 불러온 주가 데이터에서 불러오고, dataframe 하나를 추출합니다.."
   ],
   "metadata": {}
  },
  {
   "cell_type": "code",
   "execution_count": null,
   "source": [
    "my_df = 주가_데이터.T.loc['2020-09-09':,'A005900':'A006000']"
   ],
   "outputs": [],
   "metadata": {}
  },
  {
   "cell_type": "code",
   "execution_count": null,
   "source": [
    "my_df"
   ],
   "outputs": [],
   "metadata": {}
  },
  {
   "cell_type": "code",
   "execution_count": null,
   "source": [],
   "outputs": [],
   "metadata": {}
  },
  {
   "cell_type": "markdown",
   "source": [],
   "metadata": {}
  },
  {
   "cell_type": "code",
   "execution_count": null,
   "source": [],
   "outputs": [],
   "metadata": {}
  },
  {
   "cell_type": "markdown",
   "source": [
    "#### pandas 기본 4. 『 DataFrame 』  접근"
   ],
   "metadata": {}
  },
  {
   "cell_type": "markdown",
   "source": [
    "my_df.loc['2020-09-15', 'A005930']   # .loc 단일 원소 접근"
   ],
   "metadata": {}
  },
  {
   "cell_type": "code",
   "execution_count": null,
   "source": [
    "# .loc [ 인덱스, 컬럼 slice ] 로 접근  →  Series 반환\n",
    "my_df.loc['2020-09-15', 'A005930':'A005950']"
   ],
   "outputs": [],
   "metadata": {}
  },
  {
   "cell_type": "code",
   "execution_count": null,
   "source": [
    "# .loc [ 인덱스 slice, 컬럼이름 ] 으로 접근  →  Series 반환\n",
    "my_df.loc['2020-09-15':'2020-09-18', 'A005930']"
   ],
   "outputs": [],
   "metadata": {}
  },
  {
   "cell_type": "code",
   "execution_count": null,
   "source": [
    "#  .loc [ index slice, column slice ]  →  DataFrame 반환\n",
    "my_df.loc['2020-09-14':'2020-09-18':2, 'A005940':'A005980']"
   ],
   "outputs": [],
   "metadata": {}
  },
  {
   "cell_type": "code",
   "execution_count": null,
   "source": [
    "# .iloc [ index, column slice ]  으로 접근  →  Series 반환\n",
    "my_df.iloc[0, 3:]  "
   ],
   "outputs": [],
   "metadata": {}
  },
  {
   "cell_type": "code",
   "execution_count": null,
   "source": [
    "#  .iloc [ index slice, column slice ]  →  DataFrame 반환\n",
    "my_df.iloc[4:7:2, 1:4]"
   ],
   "outputs": [],
   "metadata": {}
  },
  {
   "cell_type": "markdown",
   "source": [
    "##### <연습문제 2-2>\n",
    "my_df에서 A005950 종목의  2020-09-16의 주가를 뽑아보세요"
   ],
   "metadata": {}
  },
  {
   "cell_type": "code",
   "execution_count": null,
   "source": [],
   "outputs": [],
   "metadata": {}
  },
  {
   "cell_type": "markdown",
   "source": [
    "##### <연습문제 2-3>\n",
    "my_df에서 A005950 종목의  2020-09-10 ~ 2020-09-15 의 주가를 뽑아보세요"
   ],
   "metadata": {}
  },
  {
   "cell_type": "code",
   "execution_count": null,
   "source": [],
   "outputs": [],
   "metadata": {}
  },
  {
   "cell_type": "markdown",
   "source": [
    "##### <연습문제 2-4>\n",
    "my_df에서 A005930과 A005950 종목의  2020-09-10 ~ 2020-09-17 의 주가를 **이틀 간격**으로 뽑아보세요"
   ],
   "metadata": {}
  },
  {
   "cell_type": "code",
   "execution_count": null,
   "source": [],
   "outputs": [],
   "metadata": {}
  },
  {
   "cell_type": "markdown",
   "source": [
    "#### pandas 기본 5. 『 DataFrame 』  접근 2,  연산"
   ],
   "metadata": {}
  },
  {
   "cell_type": "code",
   "execution_count": null,
   "source": [
    "# ::으로 모든 원소 지칭\n",
    "my_df.loc[::, 'A005930']"
   ],
   "outputs": [],
   "metadata": {}
  },
  {
   "cell_type": "code",
   "execution_count": null,
   "source": [
    "# : 한번만 사용 가능\n",
    "my_df.iloc[5, :]"
   ],
   "outputs": [],
   "metadata": {}
  },
  {
   "cell_type": "code",
   "execution_count": null,
   "source": [
    "# shape 보기\n",
    "my_df.iloc[5, :].shape"
   ],
   "outputs": [],
   "metadata": {}
  },
  {
   "cell_type": "code",
   "execution_count": null,
   "source": [
    "my_df.iloc[5:, ::3]"
   ],
   "outputs": [],
   "metadata": {}
  },
  {
   "cell_type": "code",
   "execution_count": null,
   "source": [
    "my_df.iloc[5:, ::3].shape"
   ],
   "outputs": [],
   "metadata": {}
  },
  {
   "cell_type": "code",
   "execution_count": null,
   "source": [
    "my_df.iloc[::4].loc[:, 'A005950':]"
   ],
   "outputs": [],
   "metadata": {}
  },
  {
   "cell_type": "code",
   "execution_count": null,
   "source": [
    "my_df.loc['2020-09-09'::4].iloc[:,2:]"
   ],
   "outputs": [],
   "metadata": {}
  },
  {
   "cell_type": "code",
   "execution_count": null,
   "source": [
    "my_df_2 = my_df.loc[:'2020-09-11','A005960':]"
   ],
   "outputs": [],
   "metadata": {}
  },
  {
   "cell_type": "code",
   "execution_count": null,
   "source": [
    "my_df_2"
   ],
   "outputs": [],
   "metadata": {}
  },
  {
   "cell_type": "code",
   "execution_count": null,
   "source": [
    "my_df_2 * 1.30   # Broadcasting"
   ],
   "outputs": [],
   "metadata": {}
  },
  {
   "cell_type": "code",
   "execution_count": null,
   "source": [
    "my_df_2.mean(axis=0)  # 평균 Agg"
   ],
   "outputs": [],
   "metadata": {}
  },
  {
   "cell_type": "markdown",
   "source": [
    "##### <연습문제 2-5>\n",
    "my_df에서 A005950종목의 전체 기간의 주가의 평균을 구해보시오"
   ],
   "metadata": {}
  },
  {
   "cell_type": "code",
   "execution_count": null,
   "source": [],
   "outputs": [],
   "metadata": {}
  },
  {
   "cell_type": "markdown",
   "source": [
    "##### <연습문제 2-6>\n",
    "my_df에서 A005980종목 2020-09-14 이후 주가의 일별 상한가를 구해보세요 (상한가: 30% 상승)"
   ],
   "metadata": {}
  },
  {
   "cell_type": "code",
   "execution_count": null,
   "source": [],
   "outputs": [],
   "metadata": {}
  },
  {
   "cell_type": "markdown",
   "source": [
    "##### <연습문제 2-7>\n",
    "my_df에서 모든 종목의 2020-09-17 ~ 2020-09-24 기간의 수익률을 구해보세요 (% 단위)"
   ],
   "metadata": {}
  },
  {
   "cell_type": "code",
   "execution_count": null,
   "source": [],
   "outputs": [],
   "metadata": {}
  },
  {
   "cell_type": "markdown",
   "source": [
    "#### pandas 기본 6. 『 DataFrame 』  연산 2,  정렬"
   ],
   "metadata": {}
  },
  {
   "cell_type": "markdown",
   "source": [
    "#### pandas 기본 7. 『 DataFrame 』  만들기,  행 열 추가하기"
   ],
   "metadata": {}
  },
  {
   "cell_type": "code",
   "execution_count": null,
   "source": [
    "# 데이터 인덱스, 컬럼으로 DataFrame 생성하기\n",
    "pd.DataFrame([[0,1,2],[3,4,5]], \n",
    "             index=['00','11'],\n",
    "             columns=['a','b','c'])"
   ],
   "outputs": [],
   "metadata": {}
  },
  {
   "cell_type": "code",
   "execution_count": null,
   "source": [
    "# 넘파이 배열로 DataFrame 생성하기\n",
    "pd.DataFrame(np.ones((3,5)))"
   ],
   "outputs": [],
   "metadata": {}
  },
  {
   "cell_type": "code",
   "execution_count": null,
   "source": [
    "trafic_data = pd.DataFrame(\n",
    "    [[9800,5500],[10200,6600]],\n",
    "    index=['10/22','10/23'],\n",
    "    columns=['원티드','사람인'])\n",
    "trafic_data   # trafic_data 라는 DataFrame 생성"
   ],
   "outputs": [],
   "metadata": {}
  },
  {
   "cell_type": "markdown",
   "source": [
    "##### 새로운 열 추가"
   ],
   "metadata": {}
  },
  {
   "cell_type": "code",
   "execution_count": null,
   "source": [
    "# 새로운 '잡플래닛' 열 (빈 데이터) 추가하기\n",
    "trafic_data.loc[:,'잡플래닛'] = np.nan\n",
    "trafic_data"
   ],
   "outputs": [],
   "metadata": {}
  },
  {
   "cell_type": "code",
   "execution_count": null,
   "source": [
    "# 새로운 '잡코리아' 열 데이터 추가하기\n",
    "trafic_data.loc[:,'잡코리아'] = [980, 1020]\n",
    "trafic_data"
   ],
   "outputs": [],
   "metadata": {}
  },
  {
   "cell_type": "code",
   "execution_count": null,
   "source": [
    "# 숫자를 하나만 주면 broadcast 된다.\n",
    "trafic_data.loc[:,'스펙업'] = 20000\n",
    "trafic_data"
   ],
   "outputs": [],
   "metadata": {}
  },
  {
   "cell_type": "markdown",
   "source": [
    "##### 새로운 행 추가"
   ],
   "metadata": {}
  },
  {
   "cell_type": "code",
   "execution_count": null,
   "source": [
    "# 새로운 10/24 행 데이터추가하기\n",
    "trafic_data.loc['10/24'] = [12500,4520,3000,\n",
    "                           780, 21000]\n",
    "trafic_data"
   ],
   "outputs": [],
   "metadata": {}
  },
  {
   "cell_type": "code",
   "execution_count": null,
   "source": [
    "# 값을 하나만 지정하면, broadcast 된다\n",
    "trafic_data.loc['10/25'] = 2000\n",
    "trafic_data"
   ],
   "outputs": [],
   "metadata": {}
  },
  {
   "cell_type": "code",
   "execution_count": null,
   "source": [
    "trafic_data.loc['10/22', '잡플래닛'] = 99\n",
    "trafic_data"
   ],
   "outputs": [],
   "metadata": {}
  },
  {
   "cell_type": "markdown",
   "source": [
    "##### <연습문제 2-10>\n",
    "trafic_data에  '중고나라' 열 데이터를 추가하고, 50000으로 값을 지정해주세요"
   ],
   "metadata": {}
  },
  {
   "cell_type": "code",
   "execution_count": null,
   "source": [],
   "outputs": [],
   "metadata": {}
  },
  {
   "cell_type": "markdown",
   "source": [
    "##### <연습문제 2-11>\n",
    "trafic_data의  '중고나라', 10/24, 10/25 트래픽을 75000의 값을 지정해주세요"
   ],
   "metadata": {}
  },
  {
   "cell_type": "code",
   "execution_count": null,
   "source": [],
   "outputs": [],
   "metadata": {}
  },
  {
   "cell_type": "markdown",
   "source": [
    "#### matplotlib으로 그래프 그리기"
   ],
   "metadata": {}
  },
  {
   "cell_type": "code",
   "execution_count": null,
   "source": [
    "# matplotlib 임포트,  주피터 출력설정,  한글 글꼴 지정\n",
    "import matplotlib.pyplot as plt\n",
    "%matplotlib inline\n",
    "\n",
    "plt.rcParams['font.family'] = 'Malgun Gothic'  # (Windows 용) 한글 출력을 위한 글꼴 설정\n",
    "#plt.rcParams['font.family'] = 'AppleGothic'  # (MAC, 리눅스 용)"
   ],
   "outputs": [],
   "metadata": {}
  },
  {
   "cell_type": "code",
   "execution_count": null,
   "source": [
    "my_df.loc[:,'A005930'].plot();  # Series 그래프"
   ],
   "outputs": [],
   "metadata": {}
  },
  {
   "cell_type": "code",
   "execution_count": null,
   "source": [
    "my_df.plot(grid=True);  # DataFrame 그래프"
   ],
   "outputs": [],
   "metadata": {}
  },
  {
   "cell_type": "code",
   "execution_count": null,
   "source": [
    "my_df_2.plot(kind='bar', title='주가 흐름');"
   ],
   "outputs": [],
   "metadata": {}
  },
  {
   "cell_type": "code",
   "execution_count": null,
   "source": [
    "trafic_data.plot(kind='scatter', grid=True,\n",
    "                 x='원티드', y='사람인');"
   ],
   "outputs": [],
   "metadata": {}
  },
  {
   "cell_type": "code",
   "execution_count": null,
   "source": [
    "trafic_data.plot(subplots=True);"
   ],
   "outputs": [],
   "metadata": {}
  },
  {
   "cell_type": "markdown",
   "source": [
    "##### <연습문제 2-12>\n",
    "trafic_data에서  '중고나라'의 일자별 Bar 그래프를 그려보세요"
   ],
   "metadata": {}
  },
  {
   "cell_type": "markdown",
   "source": [
    "#### seaborn 으로 데이터 분포 살펴보기"
   ],
   "metadata": {}
  },
  {
   "cell_type": "code",
   "execution_count": null,
   "source": [
    "# seaborn 임포트,  한글 글꼴 지정\n",
    "import seaborn as sns\n",
    "sns.set()\n",
    "plt.rc('font', family='Malgun Gothic')"
   ],
   "outputs": [],
   "metadata": {}
  },
  {
   "cell_type": "code",
   "execution_count": null,
   "source": [
    "tips = sns.load_dataset('tips')  # 내장 데이터 셋 불러오기"
   ],
   "outputs": [],
   "metadata": {}
  },
  {
   "cell_type": "code",
   "execution_count": null,
   "source": [
    "tips.head()    # dataframe의 앞부분만 살펴보기"
   ],
   "outputs": [],
   "metadata": {}
  },
  {
   "cell_type": "code",
   "execution_count": null,
   "source": [
    "sns.countplot(data=tips, x='day');\n",
    "plt.title('요일별 팁을 준 횟수');"
   ],
   "outputs": [],
   "metadata": {}
  },
  {
   "cell_type": "code",
   "execution_count": null,
   "source": [
    "sns.boxplot(data=tips, x='day', y='tip');\n",
    "plt.title('요일별 팁의 Box Plot');"
   ],
   "outputs": [],
   "metadata": {}
  },
  {
   "cell_type": "code",
   "execution_count": null,
   "source": [
    "sns.scatterplot(data=tips, x='total_bill', y='tip');\n",
    "plt.title('식사 금액과 팁의 관계');"
   ],
   "outputs": [],
   "metadata": {}
  },
  {
   "cell_type": "code",
   "execution_count": null,
   "source": [
    "sns.jointplot(data=tips, x=\"total_bill\", y=\"tip\");\n",
    "plt.suptitle(\"식사 금액과 팁의 관계 Joint Plot\", y=1.02);"
   ],
   "outputs": [],
   "metadata": {}
  },
  {
   "cell_type": "code",
   "execution_count": null,
   "source": [
    "sns.boxplot(data=tips, x='day', y='tip');\n",
    "plt.title('요일별 팁의 Box Plot');"
   ],
   "outputs": [],
   "metadata": {}
  },
  {
   "cell_type": "code",
   "execution_count": null,
   "source": [
    "sns.violinplot(data=tips, x=\"day\", y=\"tip\", hue=\"sex\")\n",
    "plt.title(\"요일 별, 성별 팁의 Violin Plot\")\n",
    "plt.show()"
   ],
   "outputs": [],
   "metadata": {}
  },
  {
   "cell_type": "code",
   "execution_count": null,
   "source": [
    "sns.distplot(tips.tip, kde=True, rug=True);\n",
    "plt.title('팁의 분포');"
   ],
   "outputs": [],
   "metadata": {}
  },
  {
   "cell_type": "markdown",
   "source": [
    "##### <연습문제 2-13>\n",
    "성별 별로, 팁을 준 횟수를 차트로 그려보세요"
   ],
   "metadata": {}
  },
  {
   "cell_type": "code",
   "execution_count": null,
   "source": [],
   "outputs": [],
   "metadata": {}
  },
  {
   "cell_type": "markdown",
   "source": [
    "## 2.3. 공구세트로 데이터 분석을 시작해보자!"
   ],
   "metadata": {}
  },
  {
   "cell_type": "markdown",
   "source": [
    "#### 데이터 파일 불러오기, csv파일로 저장하기"
   ],
   "metadata": {}
  },
  {
   "cell_type": "code",
   "execution_count": null,
   "source": [
    "# dataframe을 csv 파일로 저장\n",
    "my_df_2.to_csv('my_df_2.csv')\n",
    "\n",
    "# 한글이 포함된 경우, 엑셀을 위해 인코딩 지정\n",
    "my_df_2.to_csv('my_df_2.csv', encoding='cp949')"
   ],
   "outputs": [],
   "metadata": {}
  },
  {
   "cell_type": "code",
   "execution_count": null,
   "source": [
    "# csv 파일을 dataframe으로 불러오기\n",
    "readed_df = pd.read_csv('my_df_2.csv')\n",
    "\n",
    "# encoding 지정하여 한글이 포함된 csv 파일 불러오기\n",
    "readed_df = pd.read_csv('my_df_2.csv', encoding='cp949',\n",
    "                       index_col=0)\n",
    "readed_df"
   ],
   "outputs": [],
   "metadata": {}
  },
  {
   "cell_type": "code",
   "execution_count": null,
   "source": [
    "readed_df"
   ],
   "outputs": [],
   "metadata": {}
  }
 ],
 "metadata": {
  "orig_nbformat": 4,
  "language_info": {
   "name": "python",
   "version": "3.8.10",
   "mimetype": "text/x-python",
   "codemirror_mode": {
    "name": "ipython",
    "version": 3
   },
   "pygments_lexer": "ipython3",
   "nbconvert_exporter": "python",
   "file_extension": ".py"
  },
  "kernelspec": {
   "name": "python3",
   "display_name": "Python 3.8.10 64-bit ('tf5': conda)"
  },
  "interpreter": {
   "hash": "458585c05631fc9916fc043438c608db830f77ac9d82eb82815d2d93d2f079f9"
  }
 },
 "nbformat": 4,
 "nbformat_minor": 2
}