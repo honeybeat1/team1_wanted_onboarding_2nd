{
 "cells": [
  {
   "cell_type": "markdown",
   "source": [
    "### 작성자: AISchool (http://aischool.ai/), Daniel Park"
   ],
   "metadata": {}
  },
  {
   "cell_type": "markdown",
   "source": [
    "# 2장. 쉽게 사용하는 데이터 분석 공구세트 Pandas, Numpy\n",
    "#### 엑셀은 이제 안녕. Python으로 진정한 데이터 사이언티스트로 거듭나자  \n",
    "- 엑셀과 같은 행과 열을 가진 Table 데이터를 다루는 패키지, Numpy와 Pandas  \n",
    "- Numpy와 Pandas를 이용하여 데이터를 나누고, 필터링하고, 정렬해보자  \n",
    "- 원티드 실제 DB의 데이터를 살펴보자! 국민연금 사업장 데이터로 배우는 데이터 분석의 첫 단추, EDA  \n",
    "- 1912년 타이타닉 사고의 데이터를 살펴보자!  \n",
    "\n",
    "**(학습 내용: Numpy, Pandas, Series, DataFrame, Indexing, csv 읽고 쓰기, merge, Kaggle, EDA(Exploratory Data Analysis), plot)**"
   ],
   "metadata": {}
  },
  {
   "cell_type": "markdown",
   "source": [
    "## 2.1. 쉽게 사용하는 데이터 분석 공구세트 (PPT 진행)"
   ],
   "metadata": {}
  },
  {
   "cell_type": "markdown",
   "source": [
    "## 2.2 도구들의 기초 개념 잡기"
   ],
   "metadata": {}
  },
  {
   "cell_type": "markdown",
   "source": [
    "### Numpy"
   ],
   "metadata": {}
  },
  {
   "cell_type": "markdown",
   "source": [
    "#### numpy 기본 1. 다차원 배열 만들기"
   ],
   "metadata": {}
  },
  {
   "cell_type": "code",
   "execution_count": 2,
   "source": [
    "# numpy 임포트\n",
    "import numpy as np"
   ],
   "outputs": [],
   "metadata": {}
  },
  {
   "cell_type": "code",
   "execution_count": 3,
   "source": [
    "# 1차원 배열 생성하기\n",
    "넘파이_배열1 = np.array([1,2,3,4])\n",
    "넘파이_배열1"
   ],
   "outputs": [
    {
     "output_type": "execute_result",
     "data": {
      "text/plain": [
       "array([1, 2, 3, 4])"
      ]
     },
     "metadata": {},
     "execution_count": 3
    }
   ],
   "metadata": {}
  },
  {
   "cell_type": "code",
   "execution_count": 4,
   "source": [
    "# 2차원 배열 생성하기\n",
    "넘파이_배열2 = np.array([[1,2,3,4],[11,12,13,14]])\n",
    "넘파이_배열2"
   ],
   "outputs": [
    {
     "output_type": "execute_result",
     "data": {
      "text/plain": [
       "array([[ 1,  2,  3,  4],\n",
       "       [11, 12, 13, 14]])"
      ]
     },
     "metadata": {},
     "execution_count": 4
    }
   ],
   "metadata": {}
  },
  {
   "cell_type": "code",
   "execution_count": 5,
   "source": [
    "# 3차원 배열 생성하기\n",
    "넘파이_배열3 = np.array([ [[1,2,3,4],[11,12,13,14]],\n",
    "                [[21,22,23,24],[31,32,33,34]] ])\n",
    "넘파이_배열3"
   ],
   "outputs": [
    {
     "output_type": "execute_result",
     "data": {
      "text/plain": [
       "array([[[ 1,  2,  3,  4],\n",
       "        [11, 12, 13, 14]],\n",
       "\n",
       "       [[21, 22, 23, 24],\n",
       "        [31, 32, 33, 34]]])"
      ]
     },
     "metadata": {},
     "execution_count": 5
    }
   ],
   "metadata": {}
  },
  {
   "cell_type": "code",
   "execution_count": 6,
   "source": [
    "# 배열의 모양 보기\n",
    "print(넘파이_배열1.shape)\n",
    "print(넘파이_배열2.shape)\n",
    "print(넘파이_배열3.shape)"
   ],
   "outputs": [
    {
     "output_type": "stream",
     "name": "stdout",
     "text": [
      "(4,)\n",
      "(2, 4)\n",
      "(2, 2, 4)\n"
     ]
    }
   ],
   "metadata": {}
  },
  {
   "cell_type": "code",
   "execution_count": 7,
   "source": [
    "z1 = np.zeros([4])    # 0 으로 채운 배열 만들기\n",
    "o2 = np.ones([3,4])   # 1 로 채운 배열 만들기\n",
    "r2 = np.random.randn(2,3)   # 랜덤한 숫자 배열 만들기"
   ],
   "outputs": [],
   "metadata": {}
  },
  {
   "cell_type": "code",
   "execution_count": 8,
   "source": [
    "z1, o2, r2"
   ],
   "outputs": [
    {
     "output_type": "execute_result",
     "data": {
      "text/plain": [
       "(array([0., 0., 0., 0.]),\n",
       " array([[1., 1., 1., 1.],\n",
       "        [1., 1., 1., 1.],\n",
       "        [1., 1., 1., 1.]]),\n",
       " array([[ 1.09790222, -0.16514134,  1.38229084],\n",
       "        [-0.15647137,  0.92219996,  1.7164067 ]]))"
      ]
     },
     "metadata": {},
     "execution_count": 8
    }
   ],
   "metadata": {}
  },
  {
   "cell_type": "code",
   "execution_count": 9,
   "source": [
    "# 배열의 모양 보기\n",
    "print(z1.shape)\n",
    "print(o2.shape)\n",
    "print(r2.shape)"
   ],
   "outputs": [
    {
     "output_type": "stream",
     "name": "stdout",
     "text": [
      "(4,)\n",
      "(3, 4)\n",
      "(2, 3)\n"
     ]
    }
   ],
   "metadata": {}
  },
  {
   "cell_type": "code",
   "execution_count": 10,
   "source": [
    "# 무척 큰 4차원 배열 생성해보기\n",
    "r4 = np.random.randn(2,2,4,5).round(3)\n",
    "r4"
   ],
   "outputs": [
    {
     "output_type": "execute_result",
     "data": {
      "text/plain": [
       "array([[[[-1.855, -0.305, -1.078, -1.551, -0.226],\n",
       "         [-0.639,  1.217, -0.66 ,  0.062,  1.058],\n",
       "         [ 1.982, -0.031,  2.112, -0.003, -0.494],\n",
       "         [ 0.623, -0.399,  0.617,  0.964, -1.605]],\n",
       "\n",
       "        [[ 0.796,  0.298,  0.523,  0.706,  1.462],\n",
       "         [ 2.891,  0.79 ,  0.335, -0.63 ,  0.361],\n",
       "         [-0.819, -0.73 ,  0.178,  0.095,  0.796],\n",
       "         [-1.442,  1.256,  0.991,  1.386,  0.022]]],\n",
       "\n",
       "\n",
       "       [[[-0.398, -0.433, -0.664,  0.56 ,  0.577],\n",
       "         [-2.934, -0.483,  1.619, -1.417, -0.309],\n",
       "         [ 0.958,  2.327, -0.664,  0.116, -1.605],\n",
       "         [-1.025, -0.681,  0.636, -0.152,  0.306]],\n",
       "\n",
       "        [[ 1.182,  0.959, -1.964, -0.33 ,  0.913],\n",
       "         [-0.712,  1.259,  2.157, -0.088, -0.512],\n",
       "         [ 0.022,  0.318,  1.846,  0.019,  0.37 ],\n",
       "         [-0.627, -0.033,  0.034,  1.568,  0.376]]]])"
      ]
     },
     "metadata": {},
     "execution_count": 10
    }
   ],
   "metadata": {}
  },
  {
   "cell_type": "markdown",
   "source": [
    "##### <연습문제 2-1>\n",
    "1  3  5  7  9  \n",
    "2  4  6  8  10  \n",
    "  \n",
    "형태의 2x5 행렬을 만들어 보세요"
   ],
   "metadata": {}
  },
  {
   "cell_type": "code",
   "execution_count": 11,
   "source": [
    "np.array([[1,3,5,7,9],[2,4,6,8,10]])"
   ],
   "outputs": [
    {
     "output_type": "execute_result",
     "data": {
      "text/plain": [
       "array([[ 1,  3,  5,  7,  9],\n",
       "       [ 2,  4,  6,  8, 10]])"
      ]
     },
     "metadata": {},
     "execution_count": 11
    }
   ],
   "metadata": {}
  },
  {
   "cell_type": "code",
   "execution_count": null,
   "source": [],
   "outputs": [],
   "metadata": {}
  },
  {
   "cell_type": "markdown",
   "source": [
    "#### numpy 기본 2. Indexing과 Slicing"
   ],
   "metadata": {}
  },
  {
   "cell_type": "code",
   "execution_count": 12,
   "source": [
    "r4"
   ],
   "outputs": [
    {
     "output_type": "execute_result",
     "data": {
      "text/plain": [
       "array([[[[-1.855, -0.305, -1.078, -1.551, -0.226],\n",
       "         [-0.639,  1.217, -0.66 ,  0.062,  1.058],\n",
       "         [ 1.982, -0.031,  2.112, -0.003, -0.494],\n",
       "         [ 0.623, -0.399,  0.617,  0.964, -1.605]],\n",
       "\n",
       "        [[ 0.796,  0.298,  0.523,  0.706,  1.462],\n",
       "         [ 2.891,  0.79 ,  0.335, -0.63 ,  0.361],\n",
       "         [-0.819, -0.73 ,  0.178,  0.095,  0.796],\n",
       "         [-1.442,  1.256,  0.991,  1.386,  0.022]]],\n",
       "\n",
       "\n",
       "       [[[-0.398, -0.433, -0.664,  0.56 ,  0.577],\n",
       "         [-2.934, -0.483,  1.619, -1.417, -0.309],\n",
       "         [ 0.958,  2.327, -0.664,  0.116, -1.605],\n",
       "         [-1.025, -0.681,  0.636, -0.152,  0.306]],\n",
       "\n",
       "        [[ 1.182,  0.959, -1.964, -0.33 ,  0.913],\n",
       "         [-0.712,  1.259,  2.157, -0.088, -0.512],\n",
       "         [ 0.022,  0.318,  1.846,  0.019,  0.37 ],\n",
       "         [-0.627, -0.033,  0.034,  1.568,  0.376]]]])"
      ]
     },
     "metadata": {},
     "execution_count": 12
    }
   ],
   "metadata": {}
  },
  {
   "cell_type": "code",
   "execution_count": 13,
   "source": [
    "# r4 배열에서, [두번째][첫번째] 접근해서 가져오기\n",
    "r4[1][0]"
   ],
   "outputs": [
    {
     "output_type": "execute_result",
     "data": {
      "text/plain": [
       "array([[-0.398, -0.433, -0.664,  0.56 ,  0.577],\n",
       "       [-2.934, -0.483,  1.619, -1.417, -0.309],\n",
       "       [ 0.958,  2.327, -0.664,  0.116, -1.605],\n",
       "       [-1.025, -0.681,  0.636, -0.152,  0.306]])"
      ]
     },
     "metadata": {},
     "execution_count": 13
    }
   ],
   "metadata": {}
  },
  {
   "cell_type": "code",
   "execution_count": 14,
   "source": [
    "r4[1][0][2]"
   ],
   "outputs": [
    {
     "output_type": "execute_result",
     "data": {
      "text/plain": [
       "array([ 0.958,  2.327, -0.664,  0.116, -1.605])"
      ]
     },
     "metadata": {},
     "execution_count": 14
    }
   ],
   "metadata": {}
  },
  {
   "cell_type": "code",
   "execution_count": 15,
   "source": [
    "r4[1][0][2][4]"
   ],
   "outputs": [
    {
     "output_type": "execute_result",
     "data": {
      "text/plain": [
       "-1.605"
      ]
     },
     "metadata": {},
     "execution_count": 15
    }
   ],
   "metadata": {}
  },
  {
   "cell_type": "code",
   "execution_count": 16,
   "source": [
    "r4[1][0][2][0:4:2]"
   ],
   "outputs": [
    {
     "output_type": "execute_result",
     "data": {
      "text/plain": [
       "array([ 0.958, -0.664])"
      ]
     },
     "metadata": {},
     "execution_count": 16
    }
   ],
   "metadata": {}
  },
  {
   "cell_type": "code",
   "execution_count": 17,
   "source": [
    "r4"
   ],
   "outputs": [
    {
     "output_type": "execute_result",
     "data": {
      "text/plain": [
       "array([[[[-1.855, -0.305, -1.078, -1.551, -0.226],\n",
       "         [-0.639,  1.217, -0.66 ,  0.062,  1.058],\n",
       "         [ 1.982, -0.031,  2.112, -0.003, -0.494],\n",
       "         [ 0.623, -0.399,  0.617,  0.964, -1.605]],\n",
       "\n",
       "        [[ 0.796,  0.298,  0.523,  0.706,  1.462],\n",
       "         [ 2.891,  0.79 ,  0.335, -0.63 ,  0.361],\n",
       "         [-0.819, -0.73 ,  0.178,  0.095,  0.796],\n",
       "         [-1.442,  1.256,  0.991,  1.386,  0.022]]],\n",
       "\n",
       "\n",
       "       [[[-0.398, -0.433, -0.664,  0.56 ,  0.577],\n",
       "         [-2.934, -0.483,  1.619, -1.417, -0.309],\n",
       "         [ 0.958,  2.327, -0.664,  0.116, -1.605],\n",
       "         [-1.025, -0.681,  0.636, -0.152,  0.306]],\n",
       "\n",
       "        [[ 1.182,  0.959, -1.964, -0.33 ,  0.913],\n",
       "         [-0.712,  1.259,  2.157, -0.088, -0.512],\n",
       "         [ 0.022,  0.318,  1.846,  0.019,  0.37 ],\n",
       "         [-0.627, -0.033,  0.034,  1.568,  0.376]]]])"
      ]
     },
     "metadata": {},
     "execution_count": 17
    }
   ],
   "metadata": {}
  },
  {
   "cell_type": "code",
   "execution_count": 18,
   "source": [
    "r4[1][0][1:4:2]"
   ],
   "outputs": [
    {
     "output_type": "execute_result",
     "data": {
      "text/plain": [
       "array([[-2.934, -0.483,  1.619, -1.417, -0.309],\n",
       "       [-1.025, -0.681,  0.636, -0.152,  0.306]])"
      ]
     },
     "metadata": {},
     "execution_count": 18
    }
   ],
   "metadata": {}
  },
  {
   "cell_type": "code",
   "execution_count": 19,
   "source": [
    "# Indexing과 Slicing 같이 적용하기\n",
    "r4[1][0][1:4:2][1][3:]"
   ],
   "outputs": [
    {
     "output_type": "execute_result",
     "data": {
      "text/plain": [
       "array([-0.152,  0.306])"
      ]
     },
     "metadata": {},
     "execution_count": 19
    }
   ],
   "metadata": {}
  },
  {
   "cell_type": "code",
   "execution_count": 20,
   "source": [
    "r4[1,0][1:4:2][1,3:]   # 모두 다 짬뽕!!"
   ],
   "outputs": [
    {
     "output_type": "execute_result",
     "data": {
      "text/plain": [
       "array([-0.152,  0.306])"
      ]
     },
     "metadata": {},
     "execution_count": 20
    }
   ],
   "metadata": {}
  },
  {
   "cell_type": "markdown",
   "source": [
    "#### numpy 기본 3. 배열 간 연산, Broadcasting, Aggregation"
   ],
   "metadata": {}
  },
  {
   "cell_type": "code",
   "execution_count": 21,
   "source": [
    "arr = np.array([[1,2,3,4],[10,11,12,13]])\n",
    "arr"
   ],
   "outputs": [
    {
     "output_type": "execute_result",
     "data": {
      "text/plain": [
       "array([[ 1,  2,  3,  4],\n",
       "       [10, 11, 12, 13]])"
      ]
     },
     "metadata": {},
     "execution_count": 21
    }
   ],
   "metadata": {}
  },
  {
   "cell_type": "code",
   "execution_count": 22,
   "source": [
    "arr + arr    # 배열끼리 연산하기 (＋－*/ 모두 가능)"
   ],
   "outputs": [
    {
     "output_type": "execute_result",
     "data": {
      "text/plain": [
       "array([[ 2,  4,  6,  8],\n",
       "       [20, 22, 24, 26]])"
      ]
     },
     "metadata": {},
     "execution_count": 22
    }
   ],
   "metadata": {}
  },
  {
   "cell_type": "code",
   "execution_count": 23,
   "source": [
    "arr + 20     # 덧셈 브로드캐스팅"
   ],
   "outputs": [
    {
     "output_type": "execute_result",
     "data": {
      "text/plain": [
       "array([[21, 22, 23, 24],\n",
       "       [30, 31, 32, 33]])"
      ]
     },
     "metadata": {},
     "execution_count": 23
    }
   ],
   "metadata": {}
  },
  {
   "cell_type": "code",
   "execution_count": 24,
   "source": [
    "arr * 100    # 곱셈 브로드캐스팅"
   ],
   "outputs": [
    {
     "output_type": "execute_result",
     "data": {
      "text/plain": [
       "array([[ 100,  200,  300,  400],\n",
       "       [1000, 1100, 1200, 1300]])"
      ]
     },
     "metadata": {},
     "execution_count": 24
    }
   ],
   "metadata": {}
  },
  {
   "cell_type": "code",
   "execution_count": 25,
   "source": [
    "# 배열 전체의 덧셈, 평균, 곱셈, 최댓값, 최솟값\n",
    "arr.sum(), arr.mean(), arr.prod(), arr.max(), arr.min()"
   ],
   "outputs": [
    {
     "output_type": "execute_result",
     "data": {
      "text/plain": [
       "(56, 7.0, 411840, 13, 1)"
      ]
     },
     "metadata": {},
     "execution_count": 25
    }
   ],
   "metadata": {}
  },
  {
   "cell_type": "code",
   "execution_count": 26,
   "source": [
    "arr"
   ],
   "outputs": [
    {
     "output_type": "execute_result",
     "data": {
      "text/plain": [
       "array([[ 1,  2,  3,  4],\n",
       "       [10, 11, 12, 13]])"
      ]
     },
     "metadata": {},
     "execution_count": 26
    }
   ],
   "metadata": {}
  },
  {
   "cell_type": "code",
   "execution_count": 27,
   "source": [
    "# 배열에서의 최대인 원소의 번호, 최소인 원소의 번호\n",
    "arr.argmax(), arr[1].argmax(), arr.argmin()"
   ],
   "outputs": [
    {
     "output_type": "execute_result",
     "data": {
      "text/plain": [
       "(7, 3, 0)"
      ]
     },
     "metadata": {},
     "execution_count": 27
    }
   ],
   "metadata": {}
  },
  {
   "cell_type": "code",
   "execution_count": 28,
   "source": [
    "# 특정 축(차원)으로 덧셈 수행하기\n",
    "arr.sum(axis=0), arr.sum(axis=1)"
   ],
   "outputs": [
    {
     "output_type": "execute_result",
     "data": {
      "text/plain": [
       "(array([11, 13, 15, 17]), array([10, 46]))"
      ]
     },
     "metadata": {},
     "execution_count": 28
    }
   ],
   "metadata": {}
  },
  {
   "cell_type": "code",
   "execution_count": 29,
   "source": [
    "# Indexing + Slicing + Aggregation 응용\n",
    "arr[1].min(), arr[1][2:].sum()"
   ],
   "outputs": [
    {
     "output_type": "execute_result",
     "data": {
      "text/plain": [
       "(10, 25)"
      ]
     },
     "metadata": {},
     "execution_count": 29
    }
   ],
   "metadata": {}
  },
  {
   "cell_type": "markdown",
   "source": [
    "#### numpy 기본 4. 고급 Broadcasting"
   ],
   "metadata": {}
  },
  {
   "cell_type": "code",
   "execution_count": 30,
   "source": [
    "arr1 = np.array([[0,0,0],[10,10,10],[20,20,20],[30,30,30]])\n",
    "arr2 = np.array([[0,1,2],[0,1,2],[0,1,2],[0,1,2]])\n",
    "arr1.shape, arr2.shape"
   ],
   "outputs": [
    {
     "output_type": "execute_result",
     "data": {
      "text/plain": [
       "((4, 3), (4, 3))"
      ]
     },
     "metadata": {},
     "execution_count": 30
    }
   ],
   "metadata": {}
  },
  {
   "cell_type": "code",
   "execution_count": 31,
   "source": [
    "arr1 + arr2          # (4x3)  +  (4x3)"
   ],
   "outputs": [
    {
     "output_type": "execute_result",
     "data": {
      "text/plain": [
       "array([[ 0,  1,  2],\n",
       "       [10, 11, 12],\n",
       "       [20, 21, 22],\n",
       "       [30, 31, 32]])"
      ]
     },
     "metadata": {},
     "execution_count": 31
    }
   ],
   "metadata": {}
  },
  {
   "cell_type": "code",
   "execution_count": 32,
   "source": [
    "arr1 + np.array([0,1,2])     # (4x3) + (1x3)"
   ],
   "outputs": [
    {
     "output_type": "execute_result",
     "data": {
      "text/plain": [
       "array([[ 0,  1,  2],\n",
       "       [10, 11, 12],\n",
       "       [20, 21, 22],\n",
       "       [30, 31, 32]])"
      ]
     },
     "metadata": {},
     "execution_count": 32
    }
   ],
   "metadata": {}
  },
  {
   "cell_type": "code",
   "execution_count": 33,
   "source": [
    "#  (4x1) + (1x3)\n",
    "np.array([[0],[10],[20],[30]]) + np.array([0,1,2])"
   ],
   "outputs": [
    {
     "output_type": "execute_result",
     "data": {
      "text/plain": [
       "array([[ 0,  1,  2],\n",
       "       [10, 11, 12],\n",
       "       [20, 21, 22],\n",
       "       [30, 31, 32]])"
      ]
     },
     "metadata": {},
     "execution_count": 33
    }
   ],
   "metadata": {}
  },
  {
   "cell_type": "markdown",
   "source": [
    "### Pandas"
   ],
   "metadata": {}
  },
  {
   "cell_type": "markdown",
   "source": [
    "#### pandas 기본 1. 『 Series 』 행×값 데이터 "
   ],
   "metadata": {}
  },
  {
   "cell_type": "code",
   "execution_count": 34,
   "source": [
    "#pandas 임포트\n",
    "import pandas as pd\n",
    "my_series = pd.read_csv(\"/Users/ijuyeong/Downloads/project/stock.adj_close.csv\")\n",
    "my_series"
   ],
   "outputs": [
    {
     "output_type": "execute_result",
     "data": {
      "text/plain": [
       "       Symbol  2018-06-01  2018-06-04  2018-06-05  2018-06-07  2018-06-08  \\\n",
       "0     A000020     11550.0     11750.0     11700.0     11650.0     11500.0   \n",
       "1     A000030     15500.0     15950.0     16050.0     16500.0     16600.0   \n",
       "2     A000040      2992.0      3021.0      3025.0      3069.0      3045.0   \n",
       "3     A000050     13200.0     13550.0     13600.0     13800.0     13800.0   \n",
       "4     A000060     20050.0     20050.0     20150.0     20050.0     20400.0   \n",
       "...       ...         ...         ...         ...         ...         ...   \n",
       "2269  A950160     38600.0     36400.0     36350.0     38700.0     40200.0   \n",
       "2270  A950170     13850.0     14250.0     14450.0     14300.0     14150.0   \n",
       "2271  A950180         NaN         NaN         NaN         NaN         NaN   \n",
       "2272  A950190         NaN         NaN         NaN         NaN         NaN   \n",
       "2273  A950200         NaN         NaN         NaN         NaN         NaN   \n",
       "\n",
       "      2018-06-11  2018-06-12  2018-06-14  2018-06-15  ...  2020-09-07  \\\n",
       "0        11500.0     11650.0     12000.0     11800.0  ...     25550.0   \n",
       "1        16650.0     16850.0     16500.0     16100.0  ...     14800.0   \n",
       "2         2984.0      2976.0      3033.0      3033.0  ...       980.0   \n",
       "3        13800.0     13650.0     13850.0     14500.0  ...     11100.0   \n",
       "4        20150.0     20700.0     20950.0     20150.0  ...     12700.0   \n",
       "...          ...         ...         ...         ...  ...         ...   \n",
       "2269     39250.0     38300.0     38350.0     39000.0  ...      9540.0   \n",
       "2270     13650.0     14050.0     13600.0     13550.0  ...      4040.0   \n",
       "2271         NaN         NaN         NaN         NaN  ...     13200.0   \n",
       "2272         NaN         NaN         NaN         NaN  ...     32200.0   \n",
       "2273         NaN         NaN         NaN         NaN  ...     16750.0   \n",
       "\n",
       "      2020-09-08  2020-09-09  2020-09-10  2020-09-11  2020-09-14  2020-09-15  \\\n",
       "0        23650.0     24550.0     25950.0     26750.0     26300.0     25400.0   \n",
       "1        14800.0     14800.0     14800.0     14800.0     14800.0     14800.0   \n",
       "2          932.0       741.0       875.0       840.0       860.0       833.0   \n",
       "3        11350.0     11550.0     11500.0     11550.0     11300.0     11300.0   \n",
       "4        12700.0     12650.0     12700.0     12800.0     13000.0     13200.0   \n",
       "...          ...         ...         ...         ...         ...         ...   \n",
       "2269      9540.0      9540.0      9540.0      9540.0      9540.0      9540.0   \n",
       "2270      4050.0      4245.0      4275.0      4200.0      4195.0      4070.0   \n",
       "2271     13150.0     13100.0     13150.0     13100.0     13900.0     13250.0   \n",
       "2272     31200.0     30400.0     30500.0     30150.0     30050.0     31450.0   \n",
       "2273     16950.0     17250.0     17100.0     17350.0     17450.0     15800.0   \n",
       "\n",
       "      2020-09-16  2020-09-17  2020-09-18  \n",
       "0        25050.0     25300.0     25050.0  \n",
       "1        14800.0     14800.0     14800.0  \n",
       "2          817.0       812.0       796.0  \n",
       "3        11050.0     10900.0     10750.0  \n",
       "4        13150.0     13150.0     13200.0  \n",
       "...          ...         ...         ...  \n",
       "2269      9540.0      8010.0      8010.0  \n",
       "2270      4045.0      4015.0      4055.0  \n",
       "2271     13350.0     13550.0     13450.0  \n",
       "2272     31750.0     31200.0     30350.0  \n",
       "2273     15100.0     14700.0     14550.0  \n",
       "\n",
       "[2274 rows x 569 columns]"
      ],
      "text/html": [
       "<div>\n",
       "<style scoped>\n",
       "    .dataframe tbody tr th:only-of-type {\n",
       "        vertical-align: middle;\n",
       "    }\n",
       "\n",
       "    .dataframe tbody tr th {\n",
       "        vertical-align: top;\n",
       "    }\n",
       "\n",
       "    .dataframe thead th {\n",
       "        text-align: right;\n",
       "    }\n",
       "</style>\n",
       "<table border=\"1\" class=\"dataframe\">\n",
       "  <thead>\n",
       "    <tr style=\"text-align: right;\">\n",
       "      <th></th>\n",
       "      <th>Symbol</th>\n",
       "      <th>2018-06-01</th>\n",
       "      <th>2018-06-04</th>\n",
       "      <th>2018-06-05</th>\n",
       "      <th>2018-06-07</th>\n",
       "      <th>2018-06-08</th>\n",
       "      <th>2018-06-11</th>\n",
       "      <th>2018-06-12</th>\n",
       "      <th>2018-06-14</th>\n",
       "      <th>2018-06-15</th>\n",
       "      <th>...</th>\n",
       "      <th>2020-09-07</th>\n",
       "      <th>2020-09-08</th>\n",
       "      <th>2020-09-09</th>\n",
       "      <th>2020-09-10</th>\n",
       "      <th>2020-09-11</th>\n",
       "      <th>2020-09-14</th>\n",
       "      <th>2020-09-15</th>\n",
       "      <th>2020-09-16</th>\n",
       "      <th>2020-09-17</th>\n",
       "      <th>2020-09-18</th>\n",
       "    </tr>\n",
       "  </thead>\n",
       "  <tbody>\n",
       "    <tr>\n",
       "      <th>0</th>\n",
       "      <td>A000020</td>\n",
       "      <td>11550.0</td>\n",
       "      <td>11750.0</td>\n",
       "      <td>11700.0</td>\n",
       "      <td>11650.0</td>\n",
       "      <td>11500.0</td>\n",
       "      <td>11500.0</td>\n",
       "      <td>11650.0</td>\n",
       "      <td>12000.0</td>\n",
       "      <td>11800.0</td>\n",
       "      <td>...</td>\n",
       "      <td>25550.0</td>\n",
       "      <td>23650.0</td>\n",
       "      <td>24550.0</td>\n",
       "      <td>25950.0</td>\n",
       "      <td>26750.0</td>\n",
       "      <td>26300.0</td>\n",
       "      <td>25400.0</td>\n",
       "      <td>25050.0</td>\n",
       "      <td>25300.0</td>\n",
       "      <td>25050.0</td>\n",
       "    </tr>\n",
       "    <tr>\n",
       "      <th>1</th>\n",
       "      <td>A000030</td>\n",
       "      <td>15500.0</td>\n",
       "      <td>15950.0</td>\n",
       "      <td>16050.0</td>\n",
       "      <td>16500.0</td>\n",
       "      <td>16600.0</td>\n",
       "      <td>16650.0</td>\n",
       "      <td>16850.0</td>\n",
       "      <td>16500.0</td>\n",
       "      <td>16100.0</td>\n",
       "      <td>...</td>\n",
       "      <td>14800.0</td>\n",
       "      <td>14800.0</td>\n",
       "      <td>14800.0</td>\n",
       "      <td>14800.0</td>\n",
       "      <td>14800.0</td>\n",
       "      <td>14800.0</td>\n",
       "      <td>14800.0</td>\n",
       "      <td>14800.0</td>\n",
       "      <td>14800.0</td>\n",
       "      <td>14800.0</td>\n",
       "    </tr>\n",
       "    <tr>\n",
       "      <th>2</th>\n",
       "      <td>A000040</td>\n",
       "      <td>2992.0</td>\n",
       "      <td>3021.0</td>\n",
       "      <td>3025.0</td>\n",
       "      <td>3069.0</td>\n",
       "      <td>3045.0</td>\n",
       "      <td>2984.0</td>\n",
       "      <td>2976.0</td>\n",
       "      <td>3033.0</td>\n",
       "      <td>3033.0</td>\n",
       "      <td>...</td>\n",
       "      <td>980.0</td>\n",
       "      <td>932.0</td>\n",
       "      <td>741.0</td>\n",
       "      <td>875.0</td>\n",
       "      <td>840.0</td>\n",
       "      <td>860.0</td>\n",
       "      <td>833.0</td>\n",
       "      <td>817.0</td>\n",
       "      <td>812.0</td>\n",
       "      <td>796.0</td>\n",
       "    </tr>\n",
       "    <tr>\n",
       "      <th>3</th>\n",
       "      <td>A000050</td>\n",
       "      <td>13200.0</td>\n",
       "      <td>13550.0</td>\n",
       "      <td>13600.0</td>\n",
       "      <td>13800.0</td>\n",
       "      <td>13800.0</td>\n",
       "      <td>13800.0</td>\n",
       "      <td>13650.0</td>\n",
       "      <td>13850.0</td>\n",
       "      <td>14500.0</td>\n",
       "      <td>...</td>\n",
       "      <td>11100.0</td>\n",
       "      <td>11350.0</td>\n",
       "      <td>11550.0</td>\n",
       "      <td>11500.0</td>\n",
       "      <td>11550.0</td>\n",
       "      <td>11300.0</td>\n",
       "      <td>11300.0</td>\n",
       "      <td>11050.0</td>\n",
       "      <td>10900.0</td>\n",
       "      <td>10750.0</td>\n",
       "    </tr>\n",
       "    <tr>\n",
       "      <th>4</th>\n",
       "      <td>A000060</td>\n",
       "      <td>20050.0</td>\n",
       "      <td>20050.0</td>\n",
       "      <td>20150.0</td>\n",
       "      <td>20050.0</td>\n",
       "      <td>20400.0</td>\n",
       "      <td>20150.0</td>\n",
       "      <td>20700.0</td>\n",
       "      <td>20950.0</td>\n",
       "      <td>20150.0</td>\n",
       "      <td>...</td>\n",
       "      <td>12700.0</td>\n",
       "      <td>12700.0</td>\n",
       "      <td>12650.0</td>\n",
       "      <td>12700.0</td>\n",
       "      <td>12800.0</td>\n",
       "      <td>13000.0</td>\n",
       "      <td>13200.0</td>\n",
       "      <td>13150.0</td>\n",
       "      <td>13150.0</td>\n",
       "      <td>13200.0</td>\n",
       "    </tr>\n",
       "    <tr>\n",
       "      <th>...</th>\n",
       "      <td>...</td>\n",
       "      <td>...</td>\n",
       "      <td>...</td>\n",
       "      <td>...</td>\n",
       "      <td>...</td>\n",
       "      <td>...</td>\n",
       "      <td>...</td>\n",
       "      <td>...</td>\n",
       "      <td>...</td>\n",
       "      <td>...</td>\n",
       "      <td>...</td>\n",
       "      <td>...</td>\n",
       "      <td>...</td>\n",
       "      <td>...</td>\n",
       "      <td>...</td>\n",
       "      <td>...</td>\n",
       "      <td>...</td>\n",
       "      <td>...</td>\n",
       "      <td>...</td>\n",
       "      <td>...</td>\n",
       "      <td>...</td>\n",
       "    </tr>\n",
       "    <tr>\n",
       "      <th>2269</th>\n",
       "      <td>A950160</td>\n",
       "      <td>38600.0</td>\n",
       "      <td>36400.0</td>\n",
       "      <td>36350.0</td>\n",
       "      <td>38700.0</td>\n",
       "      <td>40200.0</td>\n",
       "      <td>39250.0</td>\n",
       "      <td>38300.0</td>\n",
       "      <td>38350.0</td>\n",
       "      <td>39000.0</td>\n",
       "      <td>...</td>\n",
       "      <td>9540.0</td>\n",
       "      <td>9540.0</td>\n",
       "      <td>9540.0</td>\n",
       "      <td>9540.0</td>\n",
       "      <td>9540.0</td>\n",
       "      <td>9540.0</td>\n",
       "      <td>9540.0</td>\n",
       "      <td>9540.0</td>\n",
       "      <td>8010.0</td>\n",
       "      <td>8010.0</td>\n",
       "    </tr>\n",
       "    <tr>\n",
       "      <th>2270</th>\n",
       "      <td>A950170</td>\n",
       "      <td>13850.0</td>\n",
       "      <td>14250.0</td>\n",
       "      <td>14450.0</td>\n",
       "      <td>14300.0</td>\n",
       "      <td>14150.0</td>\n",
       "      <td>13650.0</td>\n",
       "      <td>14050.0</td>\n",
       "      <td>13600.0</td>\n",
       "      <td>13550.0</td>\n",
       "      <td>...</td>\n",
       "      <td>4040.0</td>\n",
       "      <td>4050.0</td>\n",
       "      <td>4245.0</td>\n",
       "      <td>4275.0</td>\n",
       "      <td>4200.0</td>\n",
       "      <td>4195.0</td>\n",
       "      <td>4070.0</td>\n",
       "      <td>4045.0</td>\n",
       "      <td>4015.0</td>\n",
       "      <td>4055.0</td>\n",
       "    </tr>\n",
       "    <tr>\n",
       "      <th>2271</th>\n",
       "      <td>A950180</td>\n",
       "      <td>NaN</td>\n",
       "      <td>NaN</td>\n",
       "      <td>NaN</td>\n",
       "      <td>NaN</td>\n",
       "      <td>NaN</td>\n",
       "      <td>NaN</td>\n",
       "      <td>NaN</td>\n",
       "      <td>NaN</td>\n",
       "      <td>NaN</td>\n",
       "      <td>...</td>\n",
       "      <td>13200.0</td>\n",
       "      <td>13150.0</td>\n",
       "      <td>13100.0</td>\n",
       "      <td>13150.0</td>\n",
       "      <td>13100.0</td>\n",
       "      <td>13900.0</td>\n",
       "      <td>13250.0</td>\n",
       "      <td>13350.0</td>\n",
       "      <td>13550.0</td>\n",
       "      <td>13450.0</td>\n",
       "    </tr>\n",
       "    <tr>\n",
       "      <th>2272</th>\n",
       "      <td>A950190</td>\n",
       "      <td>NaN</td>\n",
       "      <td>NaN</td>\n",
       "      <td>NaN</td>\n",
       "      <td>NaN</td>\n",
       "      <td>NaN</td>\n",
       "      <td>NaN</td>\n",
       "      <td>NaN</td>\n",
       "      <td>NaN</td>\n",
       "      <td>NaN</td>\n",
       "      <td>...</td>\n",
       "      <td>32200.0</td>\n",
       "      <td>31200.0</td>\n",
       "      <td>30400.0</td>\n",
       "      <td>30500.0</td>\n",
       "      <td>30150.0</td>\n",
       "      <td>30050.0</td>\n",
       "      <td>31450.0</td>\n",
       "      <td>31750.0</td>\n",
       "      <td>31200.0</td>\n",
       "      <td>30350.0</td>\n",
       "    </tr>\n",
       "    <tr>\n",
       "      <th>2273</th>\n",
       "      <td>A950200</td>\n",
       "      <td>NaN</td>\n",
       "      <td>NaN</td>\n",
       "      <td>NaN</td>\n",
       "      <td>NaN</td>\n",
       "      <td>NaN</td>\n",
       "      <td>NaN</td>\n",
       "      <td>NaN</td>\n",
       "      <td>NaN</td>\n",
       "      <td>NaN</td>\n",
       "      <td>...</td>\n",
       "      <td>16750.0</td>\n",
       "      <td>16950.0</td>\n",
       "      <td>17250.0</td>\n",
       "      <td>17100.0</td>\n",
       "      <td>17350.0</td>\n",
       "      <td>17450.0</td>\n",
       "      <td>15800.0</td>\n",
       "      <td>15100.0</td>\n",
       "      <td>14700.0</td>\n",
       "      <td>14550.0</td>\n",
       "    </tr>\n",
       "  </tbody>\n",
       "</table>\n",
       "<p>2274 rows × 569 columns</p>\n",
       "</div>"
      ]
     },
     "metadata": {},
     "execution_count": 34
    }
   ],
   "metadata": {}
  },
  {
   "cell_type": "markdown",
   "source": [
    "##### &nbsp;&nbsp;&nbsp;&nbsp;&nbsp; 아래 블럭은 그냥 실행해주세요!! 주가 데이터를 불러오고, series 하나를 추출합니다.."
   ],
   "metadata": {}
  },
  {
   "cell_type": "markdown",
   "source": [
    "#### pandas 기본 2. 『 Series 』   접근, 연산, 생성"
   ],
   "metadata": {}
  },
  {
   "cell_type": "code",
   "execution_count": 35,
   "source": [
    "my_series['2020-09-15'] "
   ],
   "outputs": [
    {
     "output_type": "execute_result",
     "data": {
      "text/plain": [
       "0       25400.0\n",
       "1       14800.0\n",
       "2         833.0\n",
       "3       11300.0\n",
       "4       13200.0\n",
       "         ...   \n",
       "2269     9540.0\n",
       "2270     4070.0\n",
       "2271    13250.0\n",
       "2272    31450.0\n",
       "2273    15800.0\n",
       "Name: 2020-09-15, Length: 2274, dtype: float64"
      ]
     },
     "metadata": {},
     "execution_count": 35
    }
   ],
   "metadata": {}
  },
  {
   "cell_type": "code",
   "execution_count": 36,
   "source": [
    "my_series.loc['2020-09-15']   # 인덱스로 접근"
   ],
   "outputs": [
    {
     "output_type": "error",
     "ename": "KeyError",
     "evalue": "'2020-09-15'",
     "traceback": [
      "\u001b[0;31m---------------------------------------------------------------------------\u001b[0m",
      "\u001b[0;31mKeyError\u001b[0m                                  Traceback (most recent call last)",
      "\u001b[0;32m/var/folders/44/crx333nn0lvgs_gnbz2k_qym0000gn/T/ipykernel_17518/1811639634.py\u001b[0m in \u001b[0;36m<module>\u001b[0;34m\u001b[0m\n\u001b[0;32m----> 1\u001b[0;31m \u001b[0mmy_series\u001b[0m\u001b[0;34m.\u001b[0m\u001b[0mloc\u001b[0m\u001b[0;34m[\u001b[0m\u001b[0;34m'2020-09-15'\u001b[0m\u001b[0;34m]\u001b[0m   \u001b[0;31m# 인덱스로 접근\u001b[0m\u001b[0;34m\u001b[0m\u001b[0;34m\u001b[0m\u001b[0m\n\u001b[0m",
      "\u001b[0;32m~/miniforge3/envs/work/lib/python3.9/site-packages/pandas/core/indexing.py\u001b[0m in \u001b[0;36m__getitem__\u001b[0;34m(self, key)\u001b[0m\n\u001b[1;32m    929\u001b[0m \u001b[0;34m\u001b[0m\u001b[0m\n\u001b[1;32m    930\u001b[0m             \u001b[0mmaybe_callable\u001b[0m \u001b[0;34m=\u001b[0m \u001b[0mcom\u001b[0m\u001b[0;34m.\u001b[0m\u001b[0mapply_if_callable\u001b[0m\u001b[0;34m(\u001b[0m\u001b[0mkey\u001b[0m\u001b[0;34m,\u001b[0m \u001b[0mself\u001b[0m\u001b[0;34m.\u001b[0m\u001b[0mobj\u001b[0m\u001b[0;34m)\u001b[0m\u001b[0;34m\u001b[0m\u001b[0;34m\u001b[0m\u001b[0m\n\u001b[0;32m--> 931\u001b[0;31m             \u001b[0;32mreturn\u001b[0m \u001b[0mself\u001b[0m\u001b[0;34m.\u001b[0m\u001b[0m_getitem_axis\u001b[0m\u001b[0;34m(\u001b[0m\u001b[0mmaybe_callable\u001b[0m\u001b[0;34m,\u001b[0m \u001b[0maxis\u001b[0m\u001b[0;34m=\u001b[0m\u001b[0maxis\u001b[0m\u001b[0;34m)\u001b[0m\u001b[0;34m\u001b[0m\u001b[0;34m\u001b[0m\u001b[0m\n\u001b[0m\u001b[1;32m    932\u001b[0m \u001b[0;34m\u001b[0m\u001b[0m\n\u001b[1;32m    933\u001b[0m     \u001b[0;32mdef\u001b[0m \u001b[0m_is_scalar_access\u001b[0m\u001b[0;34m(\u001b[0m\u001b[0mself\u001b[0m\u001b[0;34m,\u001b[0m \u001b[0mkey\u001b[0m\u001b[0;34m:\u001b[0m \u001b[0mtuple\u001b[0m\u001b[0;34m)\u001b[0m\u001b[0;34m:\u001b[0m\u001b[0;34m\u001b[0m\u001b[0;34m\u001b[0m\u001b[0m\n",
      "\u001b[0;32m~/miniforge3/envs/work/lib/python3.9/site-packages/pandas/core/indexing.py\u001b[0m in \u001b[0;36m_getitem_axis\u001b[0;34m(self, key, axis)\u001b[0m\n\u001b[1;32m   1162\u001b[0m         \u001b[0;31m# fall thru to straight lookup\u001b[0m\u001b[0;34m\u001b[0m\u001b[0;34m\u001b[0m\u001b[0;34m\u001b[0m\u001b[0m\n\u001b[1;32m   1163\u001b[0m         \u001b[0mself\u001b[0m\u001b[0;34m.\u001b[0m\u001b[0m_validate_key\u001b[0m\u001b[0;34m(\u001b[0m\u001b[0mkey\u001b[0m\u001b[0;34m,\u001b[0m \u001b[0maxis\u001b[0m\u001b[0;34m)\u001b[0m\u001b[0;34m\u001b[0m\u001b[0;34m\u001b[0m\u001b[0m\n\u001b[0;32m-> 1164\u001b[0;31m         \u001b[0;32mreturn\u001b[0m \u001b[0mself\u001b[0m\u001b[0;34m.\u001b[0m\u001b[0m_get_label\u001b[0m\u001b[0;34m(\u001b[0m\u001b[0mkey\u001b[0m\u001b[0;34m,\u001b[0m \u001b[0maxis\u001b[0m\u001b[0;34m=\u001b[0m\u001b[0maxis\u001b[0m\u001b[0;34m)\u001b[0m\u001b[0;34m\u001b[0m\u001b[0;34m\u001b[0m\u001b[0m\n\u001b[0m\u001b[1;32m   1165\u001b[0m \u001b[0;34m\u001b[0m\u001b[0m\n\u001b[1;32m   1166\u001b[0m     \u001b[0;32mdef\u001b[0m \u001b[0m_get_slice_axis\u001b[0m\u001b[0;34m(\u001b[0m\u001b[0mself\u001b[0m\u001b[0;34m,\u001b[0m \u001b[0mslice_obj\u001b[0m\u001b[0;34m:\u001b[0m \u001b[0mslice\u001b[0m\u001b[0;34m,\u001b[0m \u001b[0maxis\u001b[0m\u001b[0;34m:\u001b[0m \u001b[0mint\u001b[0m\u001b[0;34m)\u001b[0m\u001b[0;34m:\u001b[0m\u001b[0;34m\u001b[0m\u001b[0;34m\u001b[0m\u001b[0m\n",
      "\u001b[0;32m~/miniforge3/envs/work/lib/python3.9/site-packages/pandas/core/indexing.py\u001b[0m in \u001b[0;36m_get_label\u001b[0;34m(self, label, axis)\u001b[0m\n\u001b[1;32m   1111\u001b[0m     \u001b[0;32mdef\u001b[0m \u001b[0m_get_label\u001b[0m\u001b[0;34m(\u001b[0m\u001b[0mself\u001b[0m\u001b[0;34m,\u001b[0m \u001b[0mlabel\u001b[0m\u001b[0;34m,\u001b[0m \u001b[0maxis\u001b[0m\u001b[0;34m:\u001b[0m \u001b[0mint\u001b[0m\u001b[0;34m)\u001b[0m\u001b[0;34m:\u001b[0m\u001b[0;34m\u001b[0m\u001b[0;34m\u001b[0m\u001b[0m\n\u001b[1;32m   1112\u001b[0m         \u001b[0;31m# GH#5667 this will fail if the label is not present in the axis.\u001b[0m\u001b[0;34m\u001b[0m\u001b[0;34m\u001b[0m\u001b[0;34m\u001b[0m\u001b[0m\n\u001b[0;32m-> 1113\u001b[0;31m         \u001b[0;32mreturn\u001b[0m \u001b[0mself\u001b[0m\u001b[0;34m.\u001b[0m\u001b[0mobj\u001b[0m\u001b[0;34m.\u001b[0m\u001b[0mxs\u001b[0m\u001b[0;34m(\u001b[0m\u001b[0mlabel\u001b[0m\u001b[0;34m,\u001b[0m \u001b[0maxis\u001b[0m\u001b[0;34m=\u001b[0m\u001b[0maxis\u001b[0m\u001b[0;34m)\u001b[0m\u001b[0;34m\u001b[0m\u001b[0;34m\u001b[0m\u001b[0m\n\u001b[0m\u001b[1;32m   1114\u001b[0m \u001b[0;34m\u001b[0m\u001b[0m\n\u001b[1;32m   1115\u001b[0m     \u001b[0;32mdef\u001b[0m \u001b[0m_handle_lowerdim_multi_index_axis0\u001b[0m\u001b[0;34m(\u001b[0m\u001b[0mself\u001b[0m\u001b[0;34m,\u001b[0m \u001b[0mtup\u001b[0m\u001b[0;34m:\u001b[0m \u001b[0mtuple\u001b[0m\u001b[0;34m)\u001b[0m\u001b[0;34m:\u001b[0m\u001b[0;34m\u001b[0m\u001b[0;34m\u001b[0m\u001b[0m\n",
      "\u001b[0;32m~/miniforge3/envs/work/lib/python3.9/site-packages/pandas/core/generic.py\u001b[0m in \u001b[0;36mxs\u001b[0;34m(self, key, axis, level, drop_level)\u001b[0m\n\u001b[1;32m   3771\u001b[0m                 \u001b[0;32mraise\u001b[0m \u001b[0mTypeError\u001b[0m\u001b[0;34m(\u001b[0m\u001b[0;34mf\"Expected label or tuple of labels, got {key}\"\u001b[0m\u001b[0;34m)\u001b[0m \u001b[0;32mfrom\u001b[0m \u001b[0me\u001b[0m\u001b[0;34m\u001b[0m\u001b[0;34m\u001b[0m\u001b[0m\n\u001b[1;32m   3772\u001b[0m         \u001b[0;32melse\u001b[0m\u001b[0;34m:\u001b[0m\u001b[0;34m\u001b[0m\u001b[0;34m\u001b[0m\u001b[0m\n\u001b[0;32m-> 3773\u001b[0;31m             \u001b[0mloc\u001b[0m \u001b[0;34m=\u001b[0m \u001b[0mindex\u001b[0m\u001b[0;34m.\u001b[0m\u001b[0mget_loc\u001b[0m\u001b[0;34m(\u001b[0m\u001b[0mkey\u001b[0m\u001b[0;34m)\u001b[0m\u001b[0;34m\u001b[0m\u001b[0;34m\u001b[0m\u001b[0m\n\u001b[0m\u001b[1;32m   3774\u001b[0m \u001b[0;34m\u001b[0m\u001b[0m\n\u001b[1;32m   3775\u001b[0m             \u001b[0;32mif\u001b[0m \u001b[0misinstance\u001b[0m\u001b[0;34m(\u001b[0m\u001b[0mloc\u001b[0m\u001b[0;34m,\u001b[0m \u001b[0mnp\u001b[0m\u001b[0;34m.\u001b[0m\u001b[0mndarray\u001b[0m\u001b[0;34m)\u001b[0m\u001b[0;34m:\u001b[0m\u001b[0;34m\u001b[0m\u001b[0;34m\u001b[0m\u001b[0m\n",
      "\u001b[0;32m~/miniforge3/envs/work/lib/python3.9/site-packages/pandas/core/indexes/range.py\u001b[0m in \u001b[0;36mget_loc\u001b[0;34m(self, key, method, tolerance)\u001b[0m\n\u001b[1;32m    386\u001b[0m                 \u001b[0;32mexcept\u001b[0m \u001b[0mValueError\u001b[0m \u001b[0;32mas\u001b[0m \u001b[0merr\u001b[0m\u001b[0;34m:\u001b[0m\u001b[0;34m\u001b[0m\u001b[0;34m\u001b[0m\u001b[0m\n\u001b[1;32m    387\u001b[0m                     \u001b[0;32mraise\u001b[0m \u001b[0mKeyError\u001b[0m\u001b[0;34m(\u001b[0m\u001b[0mkey\u001b[0m\u001b[0;34m)\u001b[0m \u001b[0;32mfrom\u001b[0m \u001b[0merr\u001b[0m\u001b[0;34m\u001b[0m\u001b[0;34m\u001b[0m\u001b[0m\n\u001b[0;32m--> 388\u001b[0;31m             \u001b[0;32mraise\u001b[0m \u001b[0mKeyError\u001b[0m\u001b[0;34m(\u001b[0m\u001b[0mkey\u001b[0m\u001b[0;34m)\u001b[0m\u001b[0;34m\u001b[0m\u001b[0;34m\u001b[0m\u001b[0m\n\u001b[0m\u001b[1;32m    389\u001b[0m         \u001b[0;32mreturn\u001b[0m \u001b[0msuper\u001b[0m\u001b[0;34m(\u001b[0m\u001b[0;34m)\u001b[0m\u001b[0;34m.\u001b[0m\u001b[0mget_loc\u001b[0m\u001b[0;34m(\u001b[0m\u001b[0mkey\u001b[0m\u001b[0;34m,\u001b[0m \u001b[0mmethod\u001b[0m\u001b[0;34m=\u001b[0m\u001b[0mmethod\u001b[0m\u001b[0;34m,\u001b[0m \u001b[0mtolerance\u001b[0m\u001b[0;34m=\u001b[0m\u001b[0mtolerance\u001b[0m\u001b[0;34m)\u001b[0m\u001b[0;34m\u001b[0m\u001b[0;34m\u001b[0m\u001b[0m\n\u001b[1;32m    390\u001b[0m \u001b[0;34m\u001b[0m\u001b[0m\n",
      "\u001b[0;31mKeyError\u001b[0m: '2020-09-15'"
     ]
    }
   ],
   "metadata": {}
  },
  {
   "cell_type": "code",
   "execution_count": 37,
   "source": [
    "my_series.iloc[4]    # 배열 번호로 접근"
   ],
   "outputs": [
    {
     "output_type": "execute_result",
     "data": {
      "text/plain": [
       "Symbol        A000060\n",
       "2018-06-01    20050.0\n",
       "2018-06-04    20050.0\n",
       "2018-06-05    20150.0\n",
       "2018-06-07    20050.0\n",
       "               ...   \n",
       "2020-09-14    13000.0\n",
       "2020-09-15    13200.0\n",
       "2020-09-16    13150.0\n",
       "2020-09-17    13150.0\n",
       "2020-09-18    13200.0\n",
       "Name: 4, Length: 569, dtype: object"
      ]
     },
     "metadata": {},
     "execution_count": 37
    }
   ],
   "metadata": {}
  },
  {
   "cell_type": "code",
   "execution_count": 60,
   "source": [
    "my_series.loc['2020-09-15':'2020-09-17']  # 인덱스로 Slicing"
   ],
   "outputs": [
    {
     "output_type": "execute_result",
     "data": {
      "text/plain": [
       "Empty DataFrame\n",
       "Columns: [Symbol, 2018-06-01, 2018-06-04, 2018-06-05, 2018-06-07, 2018-06-08, 2018-06-11, 2018-06-12, 2018-06-14, 2018-06-15, 2018-06-18, 2018-06-19, 2018-06-20, 2018-06-21, 2018-06-22, 2018-06-25, 2018-06-26, 2018-06-27, 2018-06-28, 2018-06-29, 2018-07-02, 2018-07-03, 2018-07-04, 2018-07-05, 2018-07-06, 2018-07-09, 2018-07-10, 2018-07-11, 2018-07-12, 2018-07-13, 2018-07-16, 2018-07-17, 2018-07-18, 2018-07-19, 2018-07-20, 2018-07-23, 2018-07-24, 2018-07-25, 2018-07-26, 2018-07-27, 2018-07-30, 2018-07-31, 2018-08-01, 2018-08-02, 2018-08-03, 2018-08-06, 2018-08-07, 2018-08-08, 2018-08-09, 2018-08-10, 2018-08-13, 2018-08-14, 2018-08-16, 2018-08-17, 2018-08-20, 2018-08-21, 2018-08-22, 2018-08-23, 2018-08-24, 2018-08-27, 2018-08-28, 2018-08-29, 2018-08-30, 2018-08-31, 2018-09-03, 2018-09-04, 2018-09-05, 2018-09-06, 2018-09-07, 2018-09-10, 2018-09-11, 2018-09-12, 2018-09-13, 2018-09-14, 2018-09-17, 2018-09-18, 2018-09-19, 2018-09-20, 2018-09-21, 2018-09-27, 2018-09-28, 2018-10-01, 2018-10-02, 2018-10-04, 2018-10-05, 2018-10-08, 2018-10-10, 2018-10-11, 2018-10-12, 2018-10-15, 2018-10-16, 2018-10-17, 2018-10-18, 2018-10-19, 2018-10-22, 2018-10-23, 2018-10-24, 2018-10-25, 2018-10-26, 2018-10-29, ...]\n",
       "Index: []\n",
       "\n",
       "[0 rows x 569 columns]"
      ],
      "text/html": [
       "<div>\n",
       "<style scoped>\n",
       "    .dataframe tbody tr th:only-of-type {\n",
       "        vertical-align: middle;\n",
       "    }\n",
       "\n",
       "    .dataframe tbody tr th {\n",
       "        vertical-align: top;\n",
       "    }\n",
       "\n",
       "    .dataframe thead th {\n",
       "        text-align: right;\n",
       "    }\n",
       "</style>\n",
       "<table border=\"1\" class=\"dataframe\">\n",
       "  <thead>\n",
       "    <tr style=\"text-align: right;\">\n",
       "      <th></th>\n",
       "      <th>Symbol</th>\n",
       "      <th>2018-06-01</th>\n",
       "      <th>2018-06-04</th>\n",
       "      <th>2018-06-05</th>\n",
       "      <th>2018-06-07</th>\n",
       "      <th>2018-06-08</th>\n",
       "      <th>2018-06-11</th>\n",
       "      <th>2018-06-12</th>\n",
       "      <th>2018-06-14</th>\n",
       "      <th>2018-06-15</th>\n",
       "      <th>...</th>\n",
       "      <th>2020-09-07</th>\n",
       "      <th>2020-09-08</th>\n",
       "      <th>2020-09-09</th>\n",
       "      <th>2020-09-10</th>\n",
       "      <th>2020-09-11</th>\n",
       "      <th>2020-09-14</th>\n",
       "      <th>2020-09-15</th>\n",
       "      <th>2020-09-16</th>\n",
       "      <th>2020-09-17</th>\n",
       "      <th>2020-09-18</th>\n",
       "    </tr>\n",
       "  </thead>\n",
       "  <tbody>\n",
       "  </tbody>\n",
       "</table>\n",
       "<p>0 rows × 569 columns</p>\n",
       "</div>"
      ]
     },
     "metadata": {},
     "execution_count": 60
    }
   ],
   "metadata": {}
  },
  {
   "cell_type": "markdown",
   "source": [
    "my_series.iloc[4:7]    # 배열 번호로 Slicing (끝 포함 X)"
   ],
   "metadata": {}
  },
  {
   "cell_type": "code",
   "execution_count": 62,
   "source": [
    "my_series.iloc[4:] + my_series.iloc[4:]"
   ],
   "outputs": [
    {
     "output_type": "execute_result",
     "data": {
      "text/plain": [
       "              Symbol  2018-06-01  2018-06-04  2018-06-05  2018-06-07  \\\n",
       "4     A000060A000060     40100.0     40100.0     40300.0     40100.0   \n",
       "5     A000070A000070    240000.0    246000.0    247000.0    249000.0   \n",
       "6     A000080A000080     40400.0     40800.0     40700.0     42000.0   \n",
       "7     A000100A000100     89958.0     85378.0     82812.0     82996.0   \n",
       "8     A000120A000120    296000.0    306000.0    305000.0    308000.0   \n",
       "...              ...         ...         ...         ...         ...   \n",
       "2269  A950160A950160     77200.0     72800.0     72700.0     77400.0   \n",
       "2270  A950170A950170     27700.0     28500.0     28900.0     28600.0   \n",
       "2271  A950180A950180         NaN         NaN         NaN         NaN   \n",
       "2272  A950190A950190         NaN         NaN         NaN         NaN   \n",
       "2273  A950200A950200         NaN         NaN         NaN         NaN   \n",
       "\n",
       "      2018-06-08  2018-06-11  2018-06-12  2018-06-14  2018-06-15  ...  \\\n",
       "4        40800.0     40300.0     41400.0     41900.0     40300.0  ...   \n",
       "5       247000.0    250000.0    243000.0    236000.0    242000.0  ...   \n",
       "6        41500.0     41700.0     41400.0     41300.0     41200.0  ...   \n",
       "7        83912.0     84278.0     84828.0     83546.0     83180.0  ...   \n",
       "8       308000.0    323000.0    323000.0    313000.0    304000.0  ...   \n",
       "...          ...         ...         ...         ...         ...  ...   \n",
       "2269     80400.0     78500.0     76600.0     76700.0     78000.0  ...   \n",
       "2270     28300.0     27300.0     28100.0     27200.0     27100.0  ...   \n",
       "2271         NaN         NaN         NaN         NaN         NaN  ...   \n",
       "2272         NaN         NaN         NaN         NaN         NaN  ...   \n",
       "2273         NaN         NaN         NaN         NaN         NaN  ...   \n",
       "\n",
       "      2020-09-07  2020-09-08  2020-09-09  2020-09-10  2020-09-11  2020-09-14  \\\n",
       "4        25400.0     25400.0     25300.0     25400.0     25600.0     26000.0   \n",
       "5       134400.0    136000.0    133000.0    132600.0    130800.0    135000.0   \n",
       "6        73400.0     76100.0     74100.0     75200.0     74700.0     74600.0   \n",
       "7       130400.0    131000.0    128000.0    129000.0    133200.0    131400.0   \n",
       "8       320000.0    312000.0    316000.0    312000.0    313000.0    316000.0   \n",
       "...          ...         ...         ...         ...         ...         ...   \n",
       "2269     19080.0     19080.0     19080.0     19080.0     19080.0     19080.0   \n",
       "2270      8080.0      8100.0      8490.0      8550.0      8400.0      8390.0   \n",
       "2271     26400.0     26300.0     26200.0     26300.0     26200.0     27800.0   \n",
       "2272     64400.0     62400.0     60800.0     61000.0     60300.0     60100.0   \n",
       "2273     33500.0     33900.0     34500.0     34200.0     34700.0     34900.0   \n",
       "\n",
       "      2020-09-15  2020-09-16  2020-09-17  2020-09-18  \n",
       "4        26400.0     26300.0     26300.0     26400.0  \n",
       "5       132400.0    130800.0    129000.0    128800.0  \n",
       "6        77000.0     75900.0     74300.0     73700.0  \n",
       "7       137400.0    136800.0    132800.0    133200.0  \n",
       "8       325000.0    355000.0    359000.0    364000.0  \n",
       "...          ...         ...         ...         ...  \n",
       "2269     19080.0     19080.0     16020.0     16020.0  \n",
       "2270      8140.0      8090.0      8030.0      8110.0  \n",
       "2271     26500.0     26700.0     27100.0     26900.0  \n",
       "2272     62900.0     63500.0     62400.0     60700.0  \n",
       "2273     31600.0     30200.0     29400.0     29100.0  \n",
       "\n",
       "[2270 rows x 569 columns]"
      ],
      "text/html": [
       "<div>\n",
       "<style scoped>\n",
       "    .dataframe tbody tr th:only-of-type {\n",
       "        vertical-align: middle;\n",
       "    }\n",
       "\n",
       "    .dataframe tbody tr th {\n",
       "        vertical-align: top;\n",
       "    }\n",
       "\n",
       "    .dataframe thead th {\n",
       "        text-align: right;\n",
       "    }\n",
       "</style>\n",
       "<table border=\"1\" class=\"dataframe\">\n",
       "  <thead>\n",
       "    <tr style=\"text-align: right;\">\n",
       "      <th></th>\n",
       "      <th>Symbol</th>\n",
       "      <th>2018-06-01</th>\n",
       "      <th>2018-06-04</th>\n",
       "      <th>2018-06-05</th>\n",
       "      <th>2018-06-07</th>\n",
       "      <th>2018-06-08</th>\n",
       "      <th>2018-06-11</th>\n",
       "      <th>2018-06-12</th>\n",
       "      <th>2018-06-14</th>\n",
       "      <th>2018-06-15</th>\n",
       "      <th>...</th>\n",
       "      <th>2020-09-07</th>\n",
       "      <th>2020-09-08</th>\n",
       "      <th>2020-09-09</th>\n",
       "      <th>2020-09-10</th>\n",
       "      <th>2020-09-11</th>\n",
       "      <th>2020-09-14</th>\n",
       "      <th>2020-09-15</th>\n",
       "      <th>2020-09-16</th>\n",
       "      <th>2020-09-17</th>\n",
       "      <th>2020-09-18</th>\n",
       "    </tr>\n",
       "  </thead>\n",
       "  <tbody>\n",
       "    <tr>\n",
       "      <th>4</th>\n",
       "      <td>A000060A000060</td>\n",
       "      <td>40100.0</td>\n",
       "      <td>40100.0</td>\n",
       "      <td>40300.0</td>\n",
       "      <td>40100.0</td>\n",
       "      <td>40800.0</td>\n",
       "      <td>40300.0</td>\n",
       "      <td>41400.0</td>\n",
       "      <td>41900.0</td>\n",
       "      <td>40300.0</td>\n",
       "      <td>...</td>\n",
       "      <td>25400.0</td>\n",
       "      <td>25400.0</td>\n",
       "      <td>25300.0</td>\n",
       "      <td>25400.0</td>\n",
       "      <td>25600.0</td>\n",
       "      <td>26000.0</td>\n",
       "      <td>26400.0</td>\n",
       "      <td>26300.0</td>\n",
       "      <td>26300.0</td>\n",
       "      <td>26400.0</td>\n",
       "    </tr>\n",
       "    <tr>\n",
       "      <th>5</th>\n",
       "      <td>A000070A000070</td>\n",
       "      <td>240000.0</td>\n",
       "      <td>246000.0</td>\n",
       "      <td>247000.0</td>\n",
       "      <td>249000.0</td>\n",
       "      <td>247000.0</td>\n",
       "      <td>250000.0</td>\n",
       "      <td>243000.0</td>\n",
       "      <td>236000.0</td>\n",
       "      <td>242000.0</td>\n",
       "      <td>...</td>\n",
       "      <td>134400.0</td>\n",
       "      <td>136000.0</td>\n",
       "      <td>133000.0</td>\n",
       "      <td>132600.0</td>\n",
       "      <td>130800.0</td>\n",
       "      <td>135000.0</td>\n",
       "      <td>132400.0</td>\n",
       "      <td>130800.0</td>\n",
       "      <td>129000.0</td>\n",
       "      <td>128800.0</td>\n",
       "    </tr>\n",
       "    <tr>\n",
       "      <th>6</th>\n",
       "      <td>A000080A000080</td>\n",
       "      <td>40400.0</td>\n",
       "      <td>40800.0</td>\n",
       "      <td>40700.0</td>\n",
       "      <td>42000.0</td>\n",
       "      <td>41500.0</td>\n",
       "      <td>41700.0</td>\n",
       "      <td>41400.0</td>\n",
       "      <td>41300.0</td>\n",
       "      <td>41200.0</td>\n",
       "      <td>...</td>\n",
       "      <td>73400.0</td>\n",
       "      <td>76100.0</td>\n",
       "      <td>74100.0</td>\n",
       "      <td>75200.0</td>\n",
       "      <td>74700.0</td>\n",
       "      <td>74600.0</td>\n",
       "      <td>77000.0</td>\n",
       "      <td>75900.0</td>\n",
       "      <td>74300.0</td>\n",
       "      <td>73700.0</td>\n",
       "    </tr>\n",
       "    <tr>\n",
       "      <th>7</th>\n",
       "      <td>A000100A000100</td>\n",
       "      <td>89958.0</td>\n",
       "      <td>85378.0</td>\n",
       "      <td>82812.0</td>\n",
       "      <td>82996.0</td>\n",
       "      <td>83912.0</td>\n",
       "      <td>84278.0</td>\n",
       "      <td>84828.0</td>\n",
       "      <td>83546.0</td>\n",
       "      <td>83180.0</td>\n",
       "      <td>...</td>\n",
       "      <td>130400.0</td>\n",
       "      <td>131000.0</td>\n",
       "      <td>128000.0</td>\n",
       "      <td>129000.0</td>\n",
       "      <td>133200.0</td>\n",
       "      <td>131400.0</td>\n",
       "      <td>137400.0</td>\n",
       "      <td>136800.0</td>\n",
       "      <td>132800.0</td>\n",
       "      <td>133200.0</td>\n",
       "    </tr>\n",
       "    <tr>\n",
       "      <th>8</th>\n",
       "      <td>A000120A000120</td>\n",
       "      <td>296000.0</td>\n",
       "      <td>306000.0</td>\n",
       "      <td>305000.0</td>\n",
       "      <td>308000.0</td>\n",
       "      <td>308000.0</td>\n",
       "      <td>323000.0</td>\n",
       "      <td>323000.0</td>\n",
       "      <td>313000.0</td>\n",
       "      <td>304000.0</td>\n",
       "      <td>...</td>\n",
       "      <td>320000.0</td>\n",
       "      <td>312000.0</td>\n",
       "      <td>316000.0</td>\n",
       "      <td>312000.0</td>\n",
       "      <td>313000.0</td>\n",
       "      <td>316000.0</td>\n",
       "      <td>325000.0</td>\n",
       "      <td>355000.0</td>\n",
       "      <td>359000.0</td>\n",
       "      <td>364000.0</td>\n",
       "    </tr>\n",
       "    <tr>\n",
       "      <th>...</th>\n",
       "      <td>...</td>\n",
       "      <td>...</td>\n",
       "      <td>...</td>\n",
       "      <td>...</td>\n",
       "      <td>...</td>\n",
       "      <td>...</td>\n",
       "      <td>...</td>\n",
       "      <td>...</td>\n",
       "      <td>...</td>\n",
       "      <td>...</td>\n",
       "      <td>...</td>\n",
       "      <td>...</td>\n",
       "      <td>...</td>\n",
       "      <td>...</td>\n",
       "      <td>...</td>\n",
       "      <td>...</td>\n",
       "      <td>...</td>\n",
       "      <td>...</td>\n",
       "      <td>...</td>\n",
       "      <td>...</td>\n",
       "      <td>...</td>\n",
       "    </tr>\n",
       "    <tr>\n",
       "      <th>2269</th>\n",
       "      <td>A950160A950160</td>\n",
       "      <td>77200.0</td>\n",
       "      <td>72800.0</td>\n",
       "      <td>72700.0</td>\n",
       "      <td>77400.0</td>\n",
       "      <td>80400.0</td>\n",
       "      <td>78500.0</td>\n",
       "      <td>76600.0</td>\n",
       "      <td>76700.0</td>\n",
       "      <td>78000.0</td>\n",
       "      <td>...</td>\n",
       "      <td>19080.0</td>\n",
       "      <td>19080.0</td>\n",
       "      <td>19080.0</td>\n",
       "      <td>19080.0</td>\n",
       "      <td>19080.0</td>\n",
       "      <td>19080.0</td>\n",
       "      <td>19080.0</td>\n",
       "      <td>19080.0</td>\n",
       "      <td>16020.0</td>\n",
       "      <td>16020.0</td>\n",
       "    </tr>\n",
       "    <tr>\n",
       "      <th>2270</th>\n",
       "      <td>A950170A950170</td>\n",
       "      <td>27700.0</td>\n",
       "      <td>28500.0</td>\n",
       "      <td>28900.0</td>\n",
       "      <td>28600.0</td>\n",
       "      <td>28300.0</td>\n",
       "      <td>27300.0</td>\n",
       "      <td>28100.0</td>\n",
       "      <td>27200.0</td>\n",
       "      <td>27100.0</td>\n",
       "      <td>...</td>\n",
       "      <td>8080.0</td>\n",
       "      <td>8100.0</td>\n",
       "      <td>8490.0</td>\n",
       "      <td>8550.0</td>\n",
       "      <td>8400.0</td>\n",
       "      <td>8390.0</td>\n",
       "      <td>8140.0</td>\n",
       "      <td>8090.0</td>\n",
       "      <td>8030.0</td>\n",
       "      <td>8110.0</td>\n",
       "    </tr>\n",
       "    <tr>\n",
       "      <th>2271</th>\n",
       "      <td>A950180A950180</td>\n",
       "      <td>NaN</td>\n",
       "      <td>NaN</td>\n",
       "      <td>NaN</td>\n",
       "      <td>NaN</td>\n",
       "      <td>NaN</td>\n",
       "      <td>NaN</td>\n",
       "      <td>NaN</td>\n",
       "      <td>NaN</td>\n",
       "      <td>NaN</td>\n",
       "      <td>...</td>\n",
       "      <td>26400.0</td>\n",
       "      <td>26300.0</td>\n",
       "      <td>26200.0</td>\n",
       "      <td>26300.0</td>\n",
       "      <td>26200.0</td>\n",
       "      <td>27800.0</td>\n",
       "      <td>26500.0</td>\n",
       "      <td>26700.0</td>\n",
       "      <td>27100.0</td>\n",
       "      <td>26900.0</td>\n",
       "    </tr>\n",
       "    <tr>\n",
       "      <th>2272</th>\n",
       "      <td>A950190A950190</td>\n",
       "      <td>NaN</td>\n",
       "      <td>NaN</td>\n",
       "      <td>NaN</td>\n",
       "      <td>NaN</td>\n",
       "      <td>NaN</td>\n",
       "      <td>NaN</td>\n",
       "      <td>NaN</td>\n",
       "      <td>NaN</td>\n",
       "      <td>NaN</td>\n",
       "      <td>...</td>\n",
       "      <td>64400.0</td>\n",
       "      <td>62400.0</td>\n",
       "      <td>60800.0</td>\n",
       "      <td>61000.0</td>\n",
       "      <td>60300.0</td>\n",
       "      <td>60100.0</td>\n",
       "      <td>62900.0</td>\n",
       "      <td>63500.0</td>\n",
       "      <td>62400.0</td>\n",
       "      <td>60700.0</td>\n",
       "    </tr>\n",
       "    <tr>\n",
       "      <th>2273</th>\n",
       "      <td>A950200A950200</td>\n",
       "      <td>NaN</td>\n",
       "      <td>NaN</td>\n",
       "      <td>NaN</td>\n",
       "      <td>NaN</td>\n",
       "      <td>NaN</td>\n",
       "      <td>NaN</td>\n",
       "      <td>NaN</td>\n",
       "      <td>NaN</td>\n",
       "      <td>NaN</td>\n",
       "      <td>...</td>\n",
       "      <td>33500.0</td>\n",
       "      <td>33900.0</td>\n",
       "      <td>34500.0</td>\n",
       "      <td>34200.0</td>\n",
       "      <td>34700.0</td>\n",
       "      <td>34900.0</td>\n",
       "      <td>31600.0</td>\n",
       "      <td>30200.0</td>\n",
       "      <td>29400.0</td>\n",
       "      <td>29100.0</td>\n",
       "    </tr>\n",
       "  </tbody>\n",
       "</table>\n",
       "<p>2270 rows × 569 columns</p>\n",
       "</div>"
      ]
     },
     "metadata": {},
     "execution_count": 62
    }
   ],
   "metadata": {}
  },
  {
   "cell_type": "code",
   "execution_count": null,
   "source": [
    "my_series.loc['2020-09-15'::2] + 30000  # Scalar Broadcasting"
   ],
   "outputs": [],
   "metadata": {}
  },
  {
   "cell_type": "code",
   "execution_count": 39,
   "source": [
    "my_series.iloc[4:].mean()    # 평균 aggregation"
   ],
   "outputs": [
    {
     "output_type": "stream",
     "name": "stderr",
     "text": [
      "/var/folders/44/crx333nn0lvgs_gnbz2k_qym0000gn/T/ipykernel_17518/348201205.py:1: FutureWarning: Dropping of nuisance columns in DataFrame reductions (with 'numeric_only=None') is deprecated; in a future version this will raise TypeError.  Select only valid columns before calling the reduction.\n",
      "  my_series.iloc[4:].mean()    # 평균 aggregation\n"
     ]
    },
    {
     "output_type": "execute_result",
     "data": {
      "text/plain": [
       "2018-06-01    25455.895080\n",
       "2018-06-04    25479.855283\n",
       "2018-06-05    25513.074111\n",
       "2018-06-07    25901.826413\n",
       "2018-06-08    25711.799400\n",
       "                  ...     \n",
       "2020-09-14    22529.014576\n",
       "2020-09-15    22645.088339\n",
       "2020-09-16    22528.718322\n",
       "2020-09-17    22261.551587\n",
       "2020-09-18    22344.558150\n",
       "Length: 568, dtype: float64"
      ]
     },
     "metadata": {},
     "execution_count": 39
    }
   ],
   "metadata": {}
  },
  {
   "cell_type": "code",
   "execution_count": 40,
   "source": [
    "new_sr = pd.Series([11,22,3,45], name='apple',\n",
    "                   index=['a','b','xs','e11'])\n",
    "new_sr"
   ],
   "outputs": [
    {
     "output_type": "execute_result",
     "data": {
      "text/plain": [
       "a      11\n",
       "b      22\n",
       "xs      3\n",
       "e11    45\n",
       "Name: apple, dtype: int64"
      ]
     },
     "metadata": {},
     "execution_count": 40
    }
   ],
   "metadata": {}
  },
  {
   "cell_type": "markdown",
   "source": [
    "#### pandas 기본 3. 『 DataFrame 』 행×열 데이터 "
   ],
   "metadata": {}
  },
  {
   "cell_type": "markdown",
   "source": [
    "##### &nbsp;&nbsp;&nbsp;&nbsp;&nbsp; 아래 블럭은 그냥 실행해주세요!! 불러온 주가 데이터에서 불러오고, dataframe 하나를 추출합니다.."
   ],
   "metadata": {}
  },
  {
   "cell_type": "code",
   "execution_count": 86,
   "source": [
    "주가_데이터=pd.read_csv(\"./stock.adj_close.csv\")\n",
    "주가_데이터"
   ],
   "outputs": [
    {
     "output_type": "execute_result",
     "data": {
      "text/plain": [
       "       Symbol  2018-06-01  2018-06-04  2018-06-05  2018-06-07  2018-06-08  \\\n",
       "0     A000020     11550.0     11750.0     11700.0     11650.0     11500.0   \n",
       "1     A000030     15500.0     15950.0     16050.0     16500.0     16600.0   \n",
       "2     A000040      2992.0      3021.0      3025.0      3069.0      3045.0   \n",
       "3     A000050     13200.0     13550.0     13600.0     13800.0     13800.0   \n",
       "4     A000060     20050.0     20050.0     20150.0     20050.0     20400.0   \n",
       "...       ...         ...         ...         ...         ...         ...   \n",
       "2269  A950160     38600.0     36400.0     36350.0     38700.0     40200.0   \n",
       "2270  A950170     13850.0     14250.0     14450.0     14300.0     14150.0   \n",
       "2271  A950180         NaN         NaN         NaN         NaN         NaN   \n",
       "2272  A950190         NaN         NaN         NaN         NaN         NaN   \n",
       "2273  A950200         NaN         NaN         NaN         NaN         NaN   \n",
       "\n",
       "      2018-06-11  2018-06-12  2018-06-14  2018-06-15  ...  2020-09-07  \\\n",
       "0        11500.0     11650.0     12000.0     11800.0  ...     25550.0   \n",
       "1        16650.0     16850.0     16500.0     16100.0  ...     14800.0   \n",
       "2         2984.0      2976.0      3033.0      3033.0  ...       980.0   \n",
       "3        13800.0     13650.0     13850.0     14500.0  ...     11100.0   \n",
       "4        20150.0     20700.0     20950.0     20150.0  ...     12700.0   \n",
       "...          ...         ...         ...         ...  ...         ...   \n",
       "2269     39250.0     38300.0     38350.0     39000.0  ...      9540.0   \n",
       "2270     13650.0     14050.0     13600.0     13550.0  ...      4040.0   \n",
       "2271         NaN         NaN         NaN         NaN  ...     13200.0   \n",
       "2272         NaN         NaN         NaN         NaN  ...     32200.0   \n",
       "2273         NaN         NaN         NaN         NaN  ...     16750.0   \n",
       "\n",
       "      2020-09-08  2020-09-09  2020-09-10  2020-09-11  2020-09-14  2020-09-15  \\\n",
       "0        23650.0     24550.0     25950.0     26750.0     26300.0     25400.0   \n",
       "1        14800.0     14800.0     14800.0     14800.0     14800.0     14800.0   \n",
       "2          932.0       741.0       875.0       840.0       860.0       833.0   \n",
       "3        11350.0     11550.0     11500.0     11550.0     11300.0     11300.0   \n",
       "4        12700.0     12650.0     12700.0     12800.0     13000.0     13200.0   \n",
       "...          ...         ...         ...         ...         ...         ...   \n",
       "2269      9540.0      9540.0      9540.0      9540.0      9540.0      9540.0   \n",
       "2270      4050.0      4245.0      4275.0      4200.0      4195.0      4070.0   \n",
       "2271     13150.0     13100.0     13150.0     13100.0     13900.0     13250.0   \n",
       "2272     31200.0     30400.0     30500.0     30150.0     30050.0     31450.0   \n",
       "2273     16950.0     17250.0     17100.0     17350.0     17450.0     15800.0   \n",
       "\n",
       "      2020-09-16  2020-09-17  2020-09-18  \n",
       "0        25050.0     25300.0     25050.0  \n",
       "1        14800.0     14800.0     14800.0  \n",
       "2          817.0       812.0       796.0  \n",
       "3        11050.0     10900.0     10750.0  \n",
       "4        13150.0     13150.0     13200.0  \n",
       "...          ...         ...         ...  \n",
       "2269      9540.0      8010.0      8010.0  \n",
       "2270      4045.0      4015.0      4055.0  \n",
       "2271     13350.0     13550.0     13450.0  \n",
       "2272     31750.0     31200.0     30350.0  \n",
       "2273     15100.0     14700.0     14550.0  \n",
       "\n",
       "[2274 rows x 569 columns]"
      ],
      "text/html": [
       "<div>\n",
       "<style scoped>\n",
       "    .dataframe tbody tr th:only-of-type {\n",
       "        vertical-align: middle;\n",
       "    }\n",
       "\n",
       "    .dataframe tbody tr th {\n",
       "        vertical-align: top;\n",
       "    }\n",
       "\n",
       "    .dataframe thead th {\n",
       "        text-align: right;\n",
       "    }\n",
       "</style>\n",
       "<table border=\"1\" class=\"dataframe\">\n",
       "  <thead>\n",
       "    <tr style=\"text-align: right;\">\n",
       "      <th></th>\n",
       "      <th>Symbol</th>\n",
       "      <th>2018-06-01</th>\n",
       "      <th>2018-06-04</th>\n",
       "      <th>2018-06-05</th>\n",
       "      <th>2018-06-07</th>\n",
       "      <th>2018-06-08</th>\n",
       "      <th>2018-06-11</th>\n",
       "      <th>2018-06-12</th>\n",
       "      <th>2018-06-14</th>\n",
       "      <th>2018-06-15</th>\n",
       "      <th>...</th>\n",
       "      <th>2020-09-07</th>\n",
       "      <th>2020-09-08</th>\n",
       "      <th>2020-09-09</th>\n",
       "      <th>2020-09-10</th>\n",
       "      <th>2020-09-11</th>\n",
       "      <th>2020-09-14</th>\n",
       "      <th>2020-09-15</th>\n",
       "      <th>2020-09-16</th>\n",
       "      <th>2020-09-17</th>\n",
       "      <th>2020-09-18</th>\n",
       "    </tr>\n",
       "  </thead>\n",
       "  <tbody>\n",
       "    <tr>\n",
       "      <th>0</th>\n",
       "      <td>A000020</td>\n",
       "      <td>11550.0</td>\n",
       "      <td>11750.0</td>\n",
       "      <td>11700.0</td>\n",
       "      <td>11650.0</td>\n",
       "      <td>11500.0</td>\n",
       "      <td>11500.0</td>\n",
       "      <td>11650.0</td>\n",
       "      <td>12000.0</td>\n",
       "      <td>11800.0</td>\n",
       "      <td>...</td>\n",
       "      <td>25550.0</td>\n",
       "      <td>23650.0</td>\n",
       "      <td>24550.0</td>\n",
       "      <td>25950.0</td>\n",
       "      <td>26750.0</td>\n",
       "      <td>26300.0</td>\n",
       "      <td>25400.0</td>\n",
       "      <td>25050.0</td>\n",
       "      <td>25300.0</td>\n",
       "      <td>25050.0</td>\n",
       "    </tr>\n",
       "    <tr>\n",
       "      <th>1</th>\n",
       "      <td>A000030</td>\n",
       "      <td>15500.0</td>\n",
       "      <td>15950.0</td>\n",
       "      <td>16050.0</td>\n",
       "      <td>16500.0</td>\n",
       "      <td>16600.0</td>\n",
       "      <td>16650.0</td>\n",
       "      <td>16850.0</td>\n",
       "      <td>16500.0</td>\n",
       "      <td>16100.0</td>\n",
       "      <td>...</td>\n",
       "      <td>14800.0</td>\n",
       "      <td>14800.0</td>\n",
       "      <td>14800.0</td>\n",
       "      <td>14800.0</td>\n",
       "      <td>14800.0</td>\n",
       "      <td>14800.0</td>\n",
       "      <td>14800.0</td>\n",
       "      <td>14800.0</td>\n",
       "      <td>14800.0</td>\n",
       "      <td>14800.0</td>\n",
       "    </tr>\n",
       "    <tr>\n",
       "      <th>2</th>\n",
       "      <td>A000040</td>\n",
       "      <td>2992.0</td>\n",
       "      <td>3021.0</td>\n",
       "      <td>3025.0</td>\n",
       "      <td>3069.0</td>\n",
       "      <td>3045.0</td>\n",
       "      <td>2984.0</td>\n",
       "      <td>2976.0</td>\n",
       "      <td>3033.0</td>\n",
       "      <td>3033.0</td>\n",
       "      <td>...</td>\n",
       "      <td>980.0</td>\n",
       "      <td>932.0</td>\n",
       "      <td>741.0</td>\n",
       "      <td>875.0</td>\n",
       "      <td>840.0</td>\n",
       "      <td>860.0</td>\n",
       "      <td>833.0</td>\n",
       "      <td>817.0</td>\n",
       "      <td>812.0</td>\n",
       "      <td>796.0</td>\n",
       "    </tr>\n",
       "    <tr>\n",
       "      <th>3</th>\n",
       "      <td>A000050</td>\n",
       "      <td>13200.0</td>\n",
       "      <td>13550.0</td>\n",
       "      <td>13600.0</td>\n",
       "      <td>13800.0</td>\n",
       "      <td>13800.0</td>\n",
       "      <td>13800.0</td>\n",
       "      <td>13650.0</td>\n",
       "      <td>13850.0</td>\n",
       "      <td>14500.0</td>\n",
       "      <td>...</td>\n",
       "      <td>11100.0</td>\n",
       "      <td>11350.0</td>\n",
       "      <td>11550.0</td>\n",
       "      <td>11500.0</td>\n",
       "      <td>11550.0</td>\n",
       "      <td>11300.0</td>\n",
       "      <td>11300.0</td>\n",
       "      <td>11050.0</td>\n",
       "      <td>10900.0</td>\n",
       "      <td>10750.0</td>\n",
       "    </tr>\n",
       "    <tr>\n",
       "      <th>4</th>\n",
       "      <td>A000060</td>\n",
       "      <td>20050.0</td>\n",
       "      <td>20050.0</td>\n",
       "      <td>20150.0</td>\n",
       "      <td>20050.0</td>\n",
       "      <td>20400.0</td>\n",
       "      <td>20150.0</td>\n",
       "      <td>20700.0</td>\n",
       "      <td>20950.0</td>\n",
       "      <td>20150.0</td>\n",
       "      <td>...</td>\n",
       "      <td>12700.0</td>\n",
       "      <td>12700.0</td>\n",
       "      <td>12650.0</td>\n",
       "      <td>12700.0</td>\n",
       "      <td>12800.0</td>\n",
       "      <td>13000.0</td>\n",
       "      <td>13200.0</td>\n",
       "      <td>13150.0</td>\n",
       "      <td>13150.0</td>\n",
       "      <td>13200.0</td>\n",
       "    </tr>\n",
       "    <tr>\n",
       "      <th>...</th>\n",
       "      <td>...</td>\n",
       "      <td>...</td>\n",
       "      <td>...</td>\n",
       "      <td>...</td>\n",
       "      <td>...</td>\n",
       "      <td>...</td>\n",
       "      <td>...</td>\n",
       "      <td>...</td>\n",
       "      <td>...</td>\n",
       "      <td>...</td>\n",
       "      <td>...</td>\n",
       "      <td>...</td>\n",
       "      <td>...</td>\n",
       "      <td>...</td>\n",
       "      <td>...</td>\n",
       "      <td>...</td>\n",
       "      <td>...</td>\n",
       "      <td>...</td>\n",
       "      <td>...</td>\n",
       "      <td>...</td>\n",
       "      <td>...</td>\n",
       "    </tr>\n",
       "    <tr>\n",
       "      <th>2269</th>\n",
       "      <td>A950160</td>\n",
       "      <td>38600.0</td>\n",
       "      <td>36400.0</td>\n",
       "      <td>36350.0</td>\n",
       "      <td>38700.0</td>\n",
       "      <td>40200.0</td>\n",
       "      <td>39250.0</td>\n",
       "      <td>38300.0</td>\n",
       "      <td>38350.0</td>\n",
       "      <td>39000.0</td>\n",
       "      <td>...</td>\n",
       "      <td>9540.0</td>\n",
       "      <td>9540.0</td>\n",
       "      <td>9540.0</td>\n",
       "      <td>9540.0</td>\n",
       "      <td>9540.0</td>\n",
       "      <td>9540.0</td>\n",
       "      <td>9540.0</td>\n",
       "      <td>9540.0</td>\n",
       "      <td>8010.0</td>\n",
       "      <td>8010.0</td>\n",
       "    </tr>\n",
       "    <tr>\n",
       "      <th>2270</th>\n",
       "      <td>A950170</td>\n",
       "      <td>13850.0</td>\n",
       "      <td>14250.0</td>\n",
       "      <td>14450.0</td>\n",
       "      <td>14300.0</td>\n",
       "      <td>14150.0</td>\n",
       "      <td>13650.0</td>\n",
       "      <td>14050.0</td>\n",
       "      <td>13600.0</td>\n",
       "      <td>13550.0</td>\n",
       "      <td>...</td>\n",
       "      <td>4040.0</td>\n",
       "      <td>4050.0</td>\n",
       "      <td>4245.0</td>\n",
       "      <td>4275.0</td>\n",
       "      <td>4200.0</td>\n",
       "      <td>4195.0</td>\n",
       "      <td>4070.0</td>\n",
       "      <td>4045.0</td>\n",
       "      <td>4015.0</td>\n",
       "      <td>4055.0</td>\n",
       "    </tr>\n",
       "    <tr>\n",
       "      <th>2271</th>\n",
       "      <td>A950180</td>\n",
       "      <td>NaN</td>\n",
       "      <td>NaN</td>\n",
       "      <td>NaN</td>\n",
       "      <td>NaN</td>\n",
       "      <td>NaN</td>\n",
       "      <td>NaN</td>\n",
       "      <td>NaN</td>\n",
       "      <td>NaN</td>\n",
       "      <td>NaN</td>\n",
       "      <td>...</td>\n",
       "      <td>13200.0</td>\n",
       "      <td>13150.0</td>\n",
       "      <td>13100.0</td>\n",
       "      <td>13150.0</td>\n",
       "      <td>13100.0</td>\n",
       "      <td>13900.0</td>\n",
       "      <td>13250.0</td>\n",
       "      <td>13350.0</td>\n",
       "      <td>13550.0</td>\n",
       "      <td>13450.0</td>\n",
       "    </tr>\n",
       "    <tr>\n",
       "      <th>2272</th>\n",
       "      <td>A950190</td>\n",
       "      <td>NaN</td>\n",
       "      <td>NaN</td>\n",
       "      <td>NaN</td>\n",
       "      <td>NaN</td>\n",
       "      <td>NaN</td>\n",
       "      <td>NaN</td>\n",
       "      <td>NaN</td>\n",
       "      <td>NaN</td>\n",
       "      <td>NaN</td>\n",
       "      <td>...</td>\n",
       "      <td>32200.0</td>\n",
       "      <td>31200.0</td>\n",
       "      <td>30400.0</td>\n",
       "      <td>30500.0</td>\n",
       "      <td>30150.0</td>\n",
       "      <td>30050.0</td>\n",
       "      <td>31450.0</td>\n",
       "      <td>31750.0</td>\n",
       "      <td>31200.0</td>\n",
       "      <td>30350.0</td>\n",
       "    </tr>\n",
       "    <tr>\n",
       "      <th>2273</th>\n",
       "      <td>A950200</td>\n",
       "      <td>NaN</td>\n",
       "      <td>NaN</td>\n",
       "      <td>NaN</td>\n",
       "      <td>NaN</td>\n",
       "      <td>NaN</td>\n",
       "      <td>NaN</td>\n",
       "      <td>NaN</td>\n",
       "      <td>NaN</td>\n",
       "      <td>NaN</td>\n",
       "      <td>...</td>\n",
       "      <td>16750.0</td>\n",
       "      <td>16950.0</td>\n",
       "      <td>17250.0</td>\n",
       "      <td>17100.0</td>\n",
       "      <td>17350.0</td>\n",
       "      <td>17450.0</td>\n",
       "      <td>15800.0</td>\n",
       "      <td>15100.0</td>\n",
       "      <td>14700.0</td>\n",
       "      <td>14550.0</td>\n",
       "    </tr>\n",
       "  </tbody>\n",
       "</table>\n",
       "<p>2274 rows × 569 columns</p>\n",
       "</div>"
      ]
     },
     "metadata": {},
     "execution_count": 86
    }
   ],
   "metadata": {}
  },
  {
   "cell_type": "code",
   "execution_count": 95,
   "source": [
    "주가_데이터 = 주가_데이터.set_index(\"Symbol\")\n",
    "my_df = 주가_데이터.T.loc['2020-09-09':,'A005900':'A006000']"
   ],
   "outputs": [],
   "metadata": {}
  },
  {
   "cell_type": "code",
   "execution_count": 96,
   "source": [
    "my_df"
   ],
   "outputs": [
    {
     "output_type": "execute_result",
     "data": {
      "text/plain": [
       "Symbol      A005930  A005940  A005950  A005960  A005980  A005990\n",
       "2020-09-09  58400.0   9190.0   9080.0  11000.0    671.0   7990.0\n",
       "2020-09-10  59200.0   9280.0   9280.0  11150.0    671.0   7960.0\n",
       "2020-09-11  59000.0   9270.0   9360.0  11050.0    671.0   8120.0\n",
       "2020-09-14  60400.0   9370.0   9400.0  11200.0    671.0   8200.0\n",
       "2020-09-15  61000.0   9470.0   9390.0  11350.0    671.0   8180.0\n",
       "2020-09-16  61000.0   9530.0   9080.0  11250.0    671.0   8180.0\n",
       "2020-09-17  59500.0   9320.0   8880.0  11000.0    671.0   8000.0\n",
       "2020-09-18  59300.0   9320.0   9070.0  10850.0    671.0   8020.0"
      ],
      "text/html": [
       "<div>\n",
       "<style scoped>\n",
       "    .dataframe tbody tr th:only-of-type {\n",
       "        vertical-align: middle;\n",
       "    }\n",
       "\n",
       "    .dataframe tbody tr th {\n",
       "        vertical-align: top;\n",
       "    }\n",
       "\n",
       "    .dataframe thead th {\n",
       "        text-align: right;\n",
       "    }\n",
       "</style>\n",
       "<table border=\"1\" class=\"dataframe\">\n",
       "  <thead>\n",
       "    <tr style=\"text-align: right;\">\n",
       "      <th>Symbol</th>\n",
       "      <th>A005930</th>\n",
       "      <th>A005940</th>\n",
       "      <th>A005950</th>\n",
       "      <th>A005960</th>\n",
       "      <th>A005980</th>\n",
       "      <th>A005990</th>\n",
       "    </tr>\n",
       "  </thead>\n",
       "  <tbody>\n",
       "    <tr>\n",
       "      <th>2020-09-09</th>\n",
       "      <td>58400.0</td>\n",
       "      <td>9190.0</td>\n",
       "      <td>9080.0</td>\n",
       "      <td>11000.0</td>\n",
       "      <td>671.0</td>\n",
       "      <td>7990.0</td>\n",
       "    </tr>\n",
       "    <tr>\n",
       "      <th>2020-09-10</th>\n",
       "      <td>59200.0</td>\n",
       "      <td>9280.0</td>\n",
       "      <td>9280.0</td>\n",
       "      <td>11150.0</td>\n",
       "      <td>671.0</td>\n",
       "      <td>7960.0</td>\n",
       "    </tr>\n",
       "    <tr>\n",
       "      <th>2020-09-11</th>\n",
       "      <td>59000.0</td>\n",
       "      <td>9270.0</td>\n",
       "      <td>9360.0</td>\n",
       "      <td>11050.0</td>\n",
       "      <td>671.0</td>\n",
       "      <td>8120.0</td>\n",
       "    </tr>\n",
       "    <tr>\n",
       "      <th>2020-09-14</th>\n",
       "      <td>60400.0</td>\n",
       "      <td>9370.0</td>\n",
       "      <td>9400.0</td>\n",
       "      <td>11200.0</td>\n",
       "      <td>671.0</td>\n",
       "      <td>8200.0</td>\n",
       "    </tr>\n",
       "    <tr>\n",
       "      <th>2020-09-15</th>\n",
       "      <td>61000.0</td>\n",
       "      <td>9470.0</td>\n",
       "      <td>9390.0</td>\n",
       "      <td>11350.0</td>\n",
       "      <td>671.0</td>\n",
       "      <td>8180.0</td>\n",
       "    </tr>\n",
       "    <tr>\n",
       "      <th>2020-09-16</th>\n",
       "      <td>61000.0</td>\n",
       "      <td>9530.0</td>\n",
       "      <td>9080.0</td>\n",
       "      <td>11250.0</td>\n",
       "      <td>671.0</td>\n",
       "      <td>8180.0</td>\n",
       "    </tr>\n",
       "    <tr>\n",
       "      <th>2020-09-17</th>\n",
       "      <td>59500.0</td>\n",
       "      <td>9320.0</td>\n",
       "      <td>8880.0</td>\n",
       "      <td>11000.0</td>\n",
       "      <td>671.0</td>\n",
       "      <td>8000.0</td>\n",
       "    </tr>\n",
       "    <tr>\n",
       "      <th>2020-09-18</th>\n",
       "      <td>59300.0</td>\n",
       "      <td>9320.0</td>\n",
       "      <td>9070.0</td>\n",
       "      <td>10850.0</td>\n",
       "      <td>671.0</td>\n",
       "      <td>8020.0</td>\n",
       "    </tr>\n",
       "  </tbody>\n",
       "</table>\n",
       "</div>"
      ]
     },
     "metadata": {},
     "execution_count": 96
    }
   ],
   "metadata": {}
  },
  {
   "cell_type": "markdown",
   "source": [
    "#### pandas 기본 4. 『 DataFrame 』  접근"
   ],
   "metadata": {}
  },
  {
   "cell_type": "markdown",
   "source": [
    "my_df.loc['2020-09-15', 'A005930']   # .loc 단일 원소 접근"
   ],
   "metadata": {}
  },
  {
   "cell_type": "code",
   "execution_count": 97,
   "source": [
    "# .loc [ 인덱스, 컬럼 slice ] 로 접근  →  Series 반환\n",
    "my_df.loc['2020-09-15', 'A005930':'A005950']"
   ],
   "outputs": [
    {
     "output_type": "execute_result",
     "data": {
      "text/plain": [
       "Symbol\n",
       "A005930    61000.0\n",
       "A005940     9470.0\n",
       "A005950     9390.0\n",
       "Name: 2020-09-15, dtype: float64"
      ]
     },
     "metadata": {},
     "execution_count": 97
    }
   ],
   "metadata": {}
  },
  {
   "cell_type": "code",
   "execution_count": 98,
   "source": [
    "# .loc [ 인덱스 slice, 컬럼이름 ] 으로 접근  →  Series 반환\n",
    "my_df.loc['2020-09-15':'2020-09-18', 'A005930']"
   ],
   "outputs": [
    {
     "output_type": "execute_result",
     "data": {
      "text/plain": [
       "2020-09-15    61000.0\n",
       "2020-09-16    61000.0\n",
       "2020-09-17    59500.0\n",
       "2020-09-18    59300.0\n",
       "Name: A005930, dtype: float64"
      ]
     },
     "metadata": {},
     "execution_count": 98
    }
   ],
   "metadata": {}
  },
  {
   "cell_type": "code",
   "execution_count": 99,
   "source": [
    "#  .loc [ index slice, column slice ]  →  DataFrame 반환\n",
    "my_df.loc['2020-09-14':'2020-09-18':2, 'A005940':'A005980']"
   ],
   "outputs": [
    {
     "output_type": "execute_result",
     "data": {
      "text/plain": [
       "Symbol      A005940  A005950  A005960  A005980\n",
       "2020-09-14   9370.0   9400.0  11200.0    671.0\n",
       "2020-09-16   9530.0   9080.0  11250.0    671.0\n",
       "2020-09-18   9320.0   9070.0  10850.0    671.0"
      ],
      "text/html": [
       "<div>\n",
       "<style scoped>\n",
       "    .dataframe tbody tr th:only-of-type {\n",
       "        vertical-align: middle;\n",
       "    }\n",
       "\n",
       "    .dataframe tbody tr th {\n",
       "        vertical-align: top;\n",
       "    }\n",
       "\n",
       "    .dataframe thead th {\n",
       "        text-align: right;\n",
       "    }\n",
       "</style>\n",
       "<table border=\"1\" class=\"dataframe\">\n",
       "  <thead>\n",
       "    <tr style=\"text-align: right;\">\n",
       "      <th>Symbol</th>\n",
       "      <th>A005940</th>\n",
       "      <th>A005950</th>\n",
       "      <th>A005960</th>\n",
       "      <th>A005980</th>\n",
       "    </tr>\n",
       "  </thead>\n",
       "  <tbody>\n",
       "    <tr>\n",
       "      <th>2020-09-14</th>\n",
       "      <td>9370.0</td>\n",
       "      <td>9400.0</td>\n",
       "      <td>11200.0</td>\n",
       "      <td>671.0</td>\n",
       "    </tr>\n",
       "    <tr>\n",
       "      <th>2020-09-16</th>\n",
       "      <td>9530.0</td>\n",
       "      <td>9080.0</td>\n",
       "      <td>11250.0</td>\n",
       "      <td>671.0</td>\n",
       "    </tr>\n",
       "    <tr>\n",
       "      <th>2020-09-18</th>\n",
       "      <td>9320.0</td>\n",
       "      <td>9070.0</td>\n",
       "      <td>10850.0</td>\n",
       "      <td>671.0</td>\n",
       "    </tr>\n",
       "  </tbody>\n",
       "</table>\n",
       "</div>"
      ]
     },
     "metadata": {},
     "execution_count": 99
    }
   ],
   "metadata": {}
  },
  {
   "cell_type": "code",
   "execution_count": 100,
   "source": [
    "# .iloc [ index, column slice ]  으로 접근  →  Series 반환\n",
    "my_df.iloc[0, 3:]  "
   ],
   "outputs": [
    {
     "output_type": "execute_result",
     "data": {
      "text/plain": [
       "Symbol\n",
       "A005960    11000.0\n",
       "A005980      671.0\n",
       "A005990     7990.0\n",
       "Name: 2020-09-09, dtype: float64"
      ]
     },
     "metadata": {},
     "execution_count": 100
    }
   ],
   "metadata": {}
  },
  {
   "cell_type": "code",
   "execution_count": 101,
   "source": [
    "#  .iloc [ index slice, column slice ]  →  DataFrame 반환\n",
    "my_df.iloc[4:7:2, 1:4]"
   ],
   "outputs": [
    {
     "output_type": "execute_result",
     "data": {
      "text/plain": [
       "Symbol      A005940  A005950  A005960\n",
       "2020-09-15   9470.0   9390.0  11350.0\n",
       "2020-09-17   9320.0   8880.0  11000.0"
      ],
      "text/html": [
       "<div>\n",
       "<style scoped>\n",
       "    .dataframe tbody tr th:only-of-type {\n",
       "        vertical-align: middle;\n",
       "    }\n",
       "\n",
       "    .dataframe tbody tr th {\n",
       "        vertical-align: top;\n",
       "    }\n",
       "\n",
       "    .dataframe thead th {\n",
       "        text-align: right;\n",
       "    }\n",
       "</style>\n",
       "<table border=\"1\" class=\"dataframe\">\n",
       "  <thead>\n",
       "    <tr style=\"text-align: right;\">\n",
       "      <th>Symbol</th>\n",
       "      <th>A005940</th>\n",
       "      <th>A005950</th>\n",
       "      <th>A005960</th>\n",
       "    </tr>\n",
       "  </thead>\n",
       "  <tbody>\n",
       "    <tr>\n",
       "      <th>2020-09-15</th>\n",
       "      <td>9470.0</td>\n",
       "      <td>9390.0</td>\n",
       "      <td>11350.0</td>\n",
       "    </tr>\n",
       "    <tr>\n",
       "      <th>2020-09-17</th>\n",
       "      <td>9320.0</td>\n",
       "      <td>8880.0</td>\n",
       "      <td>11000.0</td>\n",
       "    </tr>\n",
       "  </tbody>\n",
       "</table>\n",
       "</div>"
      ]
     },
     "metadata": {},
     "execution_count": 101
    }
   ],
   "metadata": {}
  },
  {
   "cell_type": "markdown",
   "source": [
    "##### <연습문제 2-2>\n",
    "my_df에서 A005950 종목의  2020-09-16의 주가를 뽑아보세요"
   ],
   "metadata": {}
  },
  {
   "cell_type": "code",
   "execution_count": 103,
   "source": [
    "my_df[\"A005950\"].loc[\"2020-09-16\"]"
   ],
   "outputs": [
    {
     "output_type": "execute_result",
     "data": {
      "text/plain": [
       "9080.0"
      ]
     },
     "metadata": {},
     "execution_count": 103
    }
   ],
   "metadata": {}
  },
  {
   "cell_type": "markdown",
   "source": [
    "##### <연습문제 2-3>\n",
    "my_df에서 A005950 종목의  2020-09-10 ~ 2020-09-15 의 주가를 뽑아보세요"
   ],
   "metadata": {}
  },
  {
   "cell_type": "code",
   "execution_count": 104,
   "source": [
    "my_df[\"A005950\"].loc[\"2020-09-10\":\"2020-09-15\"]"
   ],
   "outputs": [
    {
     "output_type": "execute_result",
     "data": {
      "text/plain": [
       "2020-09-10    9280.0\n",
       "2020-09-11    9360.0\n",
       "2020-09-14    9400.0\n",
       "2020-09-15    9390.0\n",
       "Name: A005950, dtype: float64"
      ]
     },
     "metadata": {},
     "execution_count": 104
    }
   ],
   "metadata": {}
  },
  {
   "cell_type": "markdown",
   "source": [
    "##### <연습문제 2-4>\n",
    "my_df에서 A005930과 A005950 종목의  2020-09-10 ~ 2020-09-17 의 주가를 **이틀 간격**으로 뽑아보세요"
   ],
   "metadata": {}
  },
  {
   "cell_type": "code",
   "execution_count": 108,
   "source": [
    "my_df[[\"A005930\",\"A005950\"]].loc[\"2020-09-10\":\"2020-09-17\":2]"
   ],
   "outputs": [
    {
     "output_type": "execute_result",
     "data": {
      "text/plain": [
       "Symbol      A005930  A005950\n",
       "2020-09-10  59200.0   9280.0\n",
       "2020-09-14  60400.0   9400.0\n",
       "2020-09-16  61000.0   9080.0"
      ],
      "text/html": [
       "<div>\n",
       "<style scoped>\n",
       "    .dataframe tbody tr th:only-of-type {\n",
       "        vertical-align: middle;\n",
       "    }\n",
       "\n",
       "    .dataframe tbody tr th {\n",
       "        vertical-align: top;\n",
       "    }\n",
       "\n",
       "    .dataframe thead th {\n",
       "        text-align: right;\n",
       "    }\n",
       "</style>\n",
       "<table border=\"1\" class=\"dataframe\">\n",
       "  <thead>\n",
       "    <tr style=\"text-align: right;\">\n",
       "      <th>Symbol</th>\n",
       "      <th>A005930</th>\n",
       "      <th>A005950</th>\n",
       "    </tr>\n",
       "  </thead>\n",
       "  <tbody>\n",
       "    <tr>\n",
       "      <th>2020-09-10</th>\n",
       "      <td>59200.0</td>\n",
       "      <td>9280.0</td>\n",
       "    </tr>\n",
       "    <tr>\n",
       "      <th>2020-09-14</th>\n",
       "      <td>60400.0</td>\n",
       "      <td>9400.0</td>\n",
       "    </tr>\n",
       "    <tr>\n",
       "      <th>2020-09-16</th>\n",
       "      <td>61000.0</td>\n",
       "      <td>9080.0</td>\n",
       "    </tr>\n",
       "  </tbody>\n",
       "</table>\n",
       "</div>"
      ]
     },
     "metadata": {},
     "execution_count": 108
    }
   ],
   "metadata": {}
  },
  {
   "cell_type": "markdown",
   "source": [
    "#### pandas 기본 5. 『 DataFrame 』  접근 2,  연산"
   ],
   "metadata": {}
  },
  {
   "cell_type": "code",
   "execution_count": 109,
   "source": [
    "# ::으로 모든 원소 지칭\n",
    "my_df.loc[::, 'A005930']"
   ],
   "outputs": [
    {
     "output_type": "execute_result",
     "data": {
      "text/plain": [
       "2020-09-09    58400.0\n",
       "2020-09-10    59200.0\n",
       "2020-09-11    59000.0\n",
       "2020-09-14    60400.0\n",
       "2020-09-15    61000.0\n",
       "2020-09-16    61000.0\n",
       "2020-09-17    59500.0\n",
       "2020-09-18    59300.0\n",
       "Name: A005930, dtype: float64"
      ]
     },
     "metadata": {},
     "execution_count": 109
    }
   ],
   "metadata": {}
  },
  {
   "cell_type": "code",
   "execution_count": 110,
   "source": [
    "# : 한번만 사용 가능\n",
    "my_df.iloc[5, :]"
   ],
   "outputs": [
    {
     "output_type": "execute_result",
     "data": {
      "text/plain": [
       "Symbol\n",
       "A005930    61000.0\n",
       "A005940     9530.0\n",
       "A005950     9080.0\n",
       "A005960    11250.0\n",
       "A005980      671.0\n",
       "A005990     8180.0\n",
       "Name: 2020-09-16, dtype: float64"
      ]
     },
     "metadata": {},
     "execution_count": 110
    }
   ],
   "metadata": {}
  },
  {
   "cell_type": "code",
   "execution_count": 111,
   "source": [
    "# shape 보기\n",
    "my_df.iloc[5, :].shape"
   ],
   "outputs": [
    {
     "output_type": "execute_result",
     "data": {
      "text/plain": [
       "(6,)"
      ]
     },
     "metadata": {},
     "execution_count": 111
    }
   ],
   "metadata": {}
  },
  {
   "cell_type": "code",
   "execution_count": 112,
   "source": [
    "my_df.iloc[5:, ::3]"
   ],
   "outputs": [
    {
     "output_type": "execute_result",
     "data": {
      "text/plain": [
       "Symbol      A005930  A005960\n",
       "2020-09-16  61000.0  11250.0\n",
       "2020-09-17  59500.0  11000.0\n",
       "2020-09-18  59300.0  10850.0"
      ],
      "text/html": [
       "<div>\n",
       "<style scoped>\n",
       "    .dataframe tbody tr th:only-of-type {\n",
       "        vertical-align: middle;\n",
       "    }\n",
       "\n",
       "    .dataframe tbody tr th {\n",
       "        vertical-align: top;\n",
       "    }\n",
       "\n",
       "    .dataframe thead th {\n",
       "        text-align: right;\n",
       "    }\n",
       "</style>\n",
       "<table border=\"1\" class=\"dataframe\">\n",
       "  <thead>\n",
       "    <tr style=\"text-align: right;\">\n",
       "      <th>Symbol</th>\n",
       "      <th>A005930</th>\n",
       "      <th>A005960</th>\n",
       "    </tr>\n",
       "  </thead>\n",
       "  <tbody>\n",
       "    <tr>\n",
       "      <th>2020-09-16</th>\n",
       "      <td>61000.0</td>\n",
       "      <td>11250.0</td>\n",
       "    </tr>\n",
       "    <tr>\n",
       "      <th>2020-09-17</th>\n",
       "      <td>59500.0</td>\n",
       "      <td>11000.0</td>\n",
       "    </tr>\n",
       "    <tr>\n",
       "      <th>2020-09-18</th>\n",
       "      <td>59300.0</td>\n",
       "      <td>10850.0</td>\n",
       "    </tr>\n",
       "  </tbody>\n",
       "</table>\n",
       "</div>"
      ]
     },
     "metadata": {},
     "execution_count": 112
    }
   ],
   "metadata": {}
  },
  {
   "cell_type": "code",
   "execution_count": 113,
   "source": [
    "my_df.iloc[5:, ::3].shape"
   ],
   "outputs": [
    {
     "output_type": "execute_result",
     "data": {
      "text/plain": [
       "(3, 2)"
      ]
     },
     "metadata": {},
     "execution_count": 113
    }
   ],
   "metadata": {}
  },
  {
   "cell_type": "code",
   "execution_count": 114,
   "source": [
    "my_df.iloc[::4].loc[:, 'A005950':]"
   ],
   "outputs": [
    {
     "output_type": "execute_result",
     "data": {
      "text/plain": [
       "Symbol      A005950  A005960  A005980  A005990\n",
       "2020-09-09   9080.0  11000.0    671.0   7990.0\n",
       "2020-09-15   9390.0  11350.0    671.0   8180.0"
      ],
      "text/html": [
       "<div>\n",
       "<style scoped>\n",
       "    .dataframe tbody tr th:only-of-type {\n",
       "        vertical-align: middle;\n",
       "    }\n",
       "\n",
       "    .dataframe tbody tr th {\n",
       "        vertical-align: top;\n",
       "    }\n",
       "\n",
       "    .dataframe thead th {\n",
       "        text-align: right;\n",
       "    }\n",
       "</style>\n",
       "<table border=\"1\" class=\"dataframe\">\n",
       "  <thead>\n",
       "    <tr style=\"text-align: right;\">\n",
       "      <th>Symbol</th>\n",
       "      <th>A005950</th>\n",
       "      <th>A005960</th>\n",
       "      <th>A005980</th>\n",
       "      <th>A005990</th>\n",
       "    </tr>\n",
       "  </thead>\n",
       "  <tbody>\n",
       "    <tr>\n",
       "      <th>2020-09-09</th>\n",
       "      <td>9080.0</td>\n",
       "      <td>11000.0</td>\n",
       "      <td>671.0</td>\n",
       "      <td>7990.0</td>\n",
       "    </tr>\n",
       "    <tr>\n",
       "      <th>2020-09-15</th>\n",
       "      <td>9390.0</td>\n",
       "      <td>11350.0</td>\n",
       "      <td>671.0</td>\n",
       "      <td>8180.0</td>\n",
       "    </tr>\n",
       "  </tbody>\n",
       "</table>\n",
       "</div>"
      ]
     },
     "metadata": {},
     "execution_count": 114
    }
   ],
   "metadata": {}
  },
  {
   "cell_type": "code",
   "execution_count": 115,
   "source": [
    "my_df.loc['2020-09-09'::4].iloc[:,2:]"
   ],
   "outputs": [
    {
     "output_type": "execute_result",
     "data": {
      "text/plain": [
       "Symbol      A005950  A005960  A005980  A005990\n",
       "2020-09-09   9080.0  11000.0    671.0   7990.0\n",
       "2020-09-15   9390.0  11350.0    671.0   8180.0"
      ],
      "text/html": [
       "<div>\n",
       "<style scoped>\n",
       "    .dataframe tbody tr th:only-of-type {\n",
       "        vertical-align: middle;\n",
       "    }\n",
       "\n",
       "    .dataframe tbody tr th {\n",
       "        vertical-align: top;\n",
       "    }\n",
       "\n",
       "    .dataframe thead th {\n",
       "        text-align: right;\n",
       "    }\n",
       "</style>\n",
       "<table border=\"1\" class=\"dataframe\">\n",
       "  <thead>\n",
       "    <tr style=\"text-align: right;\">\n",
       "      <th>Symbol</th>\n",
       "      <th>A005950</th>\n",
       "      <th>A005960</th>\n",
       "      <th>A005980</th>\n",
       "      <th>A005990</th>\n",
       "    </tr>\n",
       "  </thead>\n",
       "  <tbody>\n",
       "    <tr>\n",
       "      <th>2020-09-09</th>\n",
       "      <td>9080.0</td>\n",
       "      <td>11000.0</td>\n",
       "      <td>671.0</td>\n",
       "      <td>7990.0</td>\n",
       "    </tr>\n",
       "    <tr>\n",
       "      <th>2020-09-15</th>\n",
       "      <td>9390.0</td>\n",
       "      <td>11350.0</td>\n",
       "      <td>671.0</td>\n",
       "      <td>8180.0</td>\n",
       "    </tr>\n",
       "  </tbody>\n",
       "</table>\n",
       "</div>"
      ]
     },
     "metadata": {},
     "execution_count": 115
    }
   ],
   "metadata": {}
  },
  {
   "cell_type": "code",
   "execution_count": 116,
   "source": [
    "my_df_2 = my_df.loc[:'2020-09-11','A005960':]"
   ],
   "outputs": [],
   "metadata": {}
  },
  {
   "cell_type": "code",
   "execution_count": 117,
   "source": [
    "my_df_2"
   ],
   "outputs": [
    {
     "output_type": "execute_result",
     "data": {
      "text/plain": [
       "Symbol      A005960  A005980  A005990\n",
       "2020-09-09  11000.0    671.0   7990.0\n",
       "2020-09-10  11150.0    671.0   7960.0\n",
       "2020-09-11  11050.0    671.0   8120.0"
      ],
      "text/html": [
       "<div>\n",
       "<style scoped>\n",
       "    .dataframe tbody tr th:only-of-type {\n",
       "        vertical-align: middle;\n",
       "    }\n",
       "\n",
       "    .dataframe tbody tr th {\n",
       "        vertical-align: top;\n",
       "    }\n",
       "\n",
       "    .dataframe thead th {\n",
       "        text-align: right;\n",
       "    }\n",
       "</style>\n",
       "<table border=\"1\" class=\"dataframe\">\n",
       "  <thead>\n",
       "    <tr style=\"text-align: right;\">\n",
       "      <th>Symbol</th>\n",
       "      <th>A005960</th>\n",
       "      <th>A005980</th>\n",
       "      <th>A005990</th>\n",
       "    </tr>\n",
       "  </thead>\n",
       "  <tbody>\n",
       "    <tr>\n",
       "      <th>2020-09-09</th>\n",
       "      <td>11000.0</td>\n",
       "      <td>671.0</td>\n",
       "      <td>7990.0</td>\n",
       "    </tr>\n",
       "    <tr>\n",
       "      <th>2020-09-10</th>\n",
       "      <td>11150.0</td>\n",
       "      <td>671.0</td>\n",
       "      <td>7960.0</td>\n",
       "    </tr>\n",
       "    <tr>\n",
       "      <th>2020-09-11</th>\n",
       "      <td>11050.0</td>\n",
       "      <td>671.0</td>\n",
       "      <td>8120.0</td>\n",
       "    </tr>\n",
       "  </tbody>\n",
       "</table>\n",
       "</div>"
      ]
     },
     "metadata": {},
     "execution_count": 117
    }
   ],
   "metadata": {}
  },
  {
   "cell_type": "code",
   "execution_count": 118,
   "source": [
    "my_df_2 * 1.30   # Broadcasting"
   ],
   "outputs": [
    {
     "output_type": "execute_result",
     "data": {
      "text/plain": [
       "Symbol      A005960  A005980  A005990\n",
       "2020-09-09  14300.0    872.3  10387.0\n",
       "2020-09-10  14495.0    872.3  10348.0\n",
       "2020-09-11  14365.0    872.3  10556.0"
      ],
      "text/html": [
       "<div>\n",
       "<style scoped>\n",
       "    .dataframe tbody tr th:only-of-type {\n",
       "        vertical-align: middle;\n",
       "    }\n",
       "\n",
       "    .dataframe tbody tr th {\n",
       "        vertical-align: top;\n",
       "    }\n",
       "\n",
       "    .dataframe thead th {\n",
       "        text-align: right;\n",
       "    }\n",
       "</style>\n",
       "<table border=\"1\" class=\"dataframe\">\n",
       "  <thead>\n",
       "    <tr style=\"text-align: right;\">\n",
       "      <th>Symbol</th>\n",
       "      <th>A005960</th>\n",
       "      <th>A005980</th>\n",
       "      <th>A005990</th>\n",
       "    </tr>\n",
       "  </thead>\n",
       "  <tbody>\n",
       "    <tr>\n",
       "      <th>2020-09-09</th>\n",
       "      <td>14300.0</td>\n",
       "      <td>872.3</td>\n",
       "      <td>10387.0</td>\n",
       "    </tr>\n",
       "    <tr>\n",
       "      <th>2020-09-10</th>\n",
       "      <td>14495.0</td>\n",
       "      <td>872.3</td>\n",
       "      <td>10348.0</td>\n",
       "    </tr>\n",
       "    <tr>\n",
       "      <th>2020-09-11</th>\n",
       "      <td>14365.0</td>\n",
       "      <td>872.3</td>\n",
       "      <td>10556.0</td>\n",
       "    </tr>\n",
       "  </tbody>\n",
       "</table>\n",
       "</div>"
      ]
     },
     "metadata": {},
     "execution_count": 118
    }
   ],
   "metadata": {}
  },
  {
   "cell_type": "code",
   "execution_count": 119,
   "source": [
    "my_df_2.mean(axis=0)  # 평균 Agg"
   ],
   "outputs": [
    {
     "output_type": "execute_result",
     "data": {
      "text/plain": [
       "Symbol\n",
       "A005960    11066.666667\n",
       "A005980      671.000000\n",
       "A005990     8023.333333\n",
       "dtype: float64"
      ]
     },
     "metadata": {},
     "execution_count": 119
    }
   ],
   "metadata": {}
  },
  {
   "cell_type": "markdown",
   "source": [
    "##### <연습문제 2-5>\n",
    "my_df에서 A005950종목의 전체 기간의 주가의 평균을 구해보시오"
   ],
   "metadata": {}
  },
  {
   "cell_type": "code",
   "execution_count": 121,
   "source": [
    "my_df[\"A005950\"].mean(axis=0)"
   ],
   "outputs": [
    {
     "output_type": "execute_result",
     "data": {
      "text/plain": [
       "9192.5"
      ]
     },
     "metadata": {},
     "execution_count": 121
    }
   ],
   "metadata": {}
  },
  {
   "cell_type": "markdown",
   "source": [
    "##### <연습문제 2-6>\n",
    "my_df에서 A005980종목 2020-09-14 이후 주가의 일별 상한가를 구해보세요 (상한가: 30% 상승)"
   ],
   "metadata": {}
  },
  {
   "cell_type": "code",
   "execution_count": 123,
   "source": [
    "my_df[\"A005980\"].loc[\"2020-09-14\":]"
   ],
   "outputs": [
    {
     "output_type": "execute_result",
     "data": {
      "text/plain": [
       "2020-09-14    671.0\n",
       "2020-09-15    671.0\n",
       "2020-09-16    671.0\n",
       "2020-09-17    671.0\n",
       "2020-09-18    671.0\n",
       "Name: A005980, dtype: float64"
      ]
     },
     "metadata": {},
     "execution_count": 123
    }
   ],
   "metadata": {}
  },
  {
   "cell_type": "markdown",
   "source": [
    "##### <연습문제 2-7>\n",
    "my_df에서 모든 종목의 2020-09-17 ~ 2020-09-24 기간의 수익률을 구해보세요 (% 단위)"
   ],
   "metadata": {}
  },
  {
   "cell_type": "code",
   "execution_count": 128,
   "source": [
    "my_df.loc[\"2020-09-17\":\"2020-09-24\"]\n",
    "round((my_df.loc[\"2020-09-18\"]- my_df.loc[\"2020-09-17\"])/my_df.loc[\"2020-09-18\"]*100,2)"
   ],
   "outputs": [
    {
     "output_type": "execute_result",
     "data": {
      "text/plain": [
       "Symbol\n",
       "A005930   -0.34\n",
       "A005940    0.00\n",
       "A005950    2.09\n",
       "A005960   -1.38\n",
       "A005980    0.00\n",
       "A005990    0.25\n",
       "dtype: float64"
      ]
     },
     "metadata": {},
     "execution_count": 128
    }
   ],
   "metadata": {}
  },
  {
   "cell_type": "markdown",
   "source": [
    "#### pandas 기본 6. 『 DataFrame 』  연산 2,  정렬"
   ],
   "metadata": {}
  },
  {
   "cell_type": "markdown",
   "source": [
    "#### pandas 기본 7. 『 DataFrame 』  만들기,  행 열 추가하기"
   ],
   "metadata": {}
  },
  {
   "cell_type": "code",
   "execution_count": 42,
   "source": [
    "# 데이터 인덱스, 컬럼으로 DataFrame 생성하기\n",
    "pd.DataFrame([[0,1,2],[3,4,5]], \n",
    "             index=['00','11'],\n",
    "             columns=['a','b','c'])"
   ],
   "outputs": [
    {
     "output_type": "execute_result",
     "data": {
      "text/plain": [
       "    a  b  c\n",
       "00  0  1  2\n",
       "11  3  4  5"
      ],
      "text/html": [
       "<div>\n",
       "<style scoped>\n",
       "    .dataframe tbody tr th:only-of-type {\n",
       "        vertical-align: middle;\n",
       "    }\n",
       "\n",
       "    .dataframe tbody tr th {\n",
       "        vertical-align: top;\n",
       "    }\n",
       "\n",
       "    .dataframe thead th {\n",
       "        text-align: right;\n",
       "    }\n",
       "</style>\n",
       "<table border=\"1\" class=\"dataframe\">\n",
       "  <thead>\n",
       "    <tr style=\"text-align: right;\">\n",
       "      <th></th>\n",
       "      <th>a</th>\n",
       "      <th>b</th>\n",
       "      <th>c</th>\n",
       "    </tr>\n",
       "  </thead>\n",
       "  <tbody>\n",
       "    <tr>\n",
       "      <th>00</th>\n",
       "      <td>0</td>\n",
       "      <td>1</td>\n",
       "      <td>2</td>\n",
       "    </tr>\n",
       "    <tr>\n",
       "      <th>11</th>\n",
       "      <td>3</td>\n",
       "      <td>4</td>\n",
       "      <td>5</td>\n",
       "    </tr>\n",
       "  </tbody>\n",
       "</table>\n",
       "</div>"
      ]
     },
     "metadata": {},
     "execution_count": 42
    }
   ],
   "metadata": {}
  },
  {
   "cell_type": "code",
   "execution_count": 43,
   "source": [
    "# 넘파이 배열로 DataFrame 생성하기\n",
    "pd.DataFrame(np.ones((3,5)))"
   ],
   "outputs": [
    {
     "output_type": "execute_result",
     "data": {
      "text/plain": [
       "     0    1    2    3    4\n",
       "0  1.0  1.0  1.0  1.0  1.0\n",
       "1  1.0  1.0  1.0  1.0  1.0\n",
       "2  1.0  1.0  1.0  1.0  1.0"
      ],
      "text/html": [
       "<div>\n",
       "<style scoped>\n",
       "    .dataframe tbody tr th:only-of-type {\n",
       "        vertical-align: middle;\n",
       "    }\n",
       "\n",
       "    .dataframe tbody tr th {\n",
       "        vertical-align: top;\n",
       "    }\n",
       "\n",
       "    .dataframe thead th {\n",
       "        text-align: right;\n",
       "    }\n",
       "</style>\n",
       "<table border=\"1\" class=\"dataframe\">\n",
       "  <thead>\n",
       "    <tr style=\"text-align: right;\">\n",
       "      <th></th>\n",
       "      <th>0</th>\n",
       "      <th>1</th>\n",
       "      <th>2</th>\n",
       "      <th>3</th>\n",
       "      <th>4</th>\n",
       "    </tr>\n",
       "  </thead>\n",
       "  <tbody>\n",
       "    <tr>\n",
       "      <th>0</th>\n",
       "      <td>1.0</td>\n",
       "      <td>1.0</td>\n",
       "      <td>1.0</td>\n",
       "      <td>1.0</td>\n",
       "      <td>1.0</td>\n",
       "    </tr>\n",
       "    <tr>\n",
       "      <th>1</th>\n",
       "      <td>1.0</td>\n",
       "      <td>1.0</td>\n",
       "      <td>1.0</td>\n",
       "      <td>1.0</td>\n",
       "      <td>1.0</td>\n",
       "    </tr>\n",
       "    <tr>\n",
       "      <th>2</th>\n",
       "      <td>1.0</td>\n",
       "      <td>1.0</td>\n",
       "      <td>1.0</td>\n",
       "      <td>1.0</td>\n",
       "      <td>1.0</td>\n",
       "    </tr>\n",
       "  </tbody>\n",
       "</table>\n",
       "</div>"
      ]
     },
     "metadata": {},
     "execution_count": 43
    }
   ],
   "metadata": {}
  },
  {
   "cell_type": "code",
   "execution_count": 44,
   "source": [
    "trafic_data = pd.DataFrame(\n",
    "    [[9800,5500],[10200,6600]],\n",
    "    index=['10/22','10/23'],\n",
    "    columns=['원티드','사람인'])\n",
    "trafic_data   # trafic_data 라는 DataFrame 생성"
   ],
   "outputs": [
    {
     "output_type": "execute_result",
     "data": {
      "text/plain": [
       "         원티드   사람인\n",
       "10/22   9800  5500\n",
       "10/23  10200  6600"
      ],
      "text/html": [
       "<div>\n",
       "<style scoped>\n",
       "    .dataframe tbody tr th:only-of-type {\n",
       "        vertical-align: middle;\n",
       "    }\n",
       "\n",
       "    .dataframe tbody tr th {\n",
       "        vertical-align: top;\n",
       "    }\n",
       "\n",
       "    .dataframe thead th {\n",
       "        text-align: right;\n",
       "    }\n",
       "</style>\n",
       "<table border=\"1\" class=\"dataframe\">\n",
       "  <thead>\n",
       "    <tr style=\"text-align: right;\">\n",
       "      <th></th>\n",
       "      <th>원티드</th>\n",
       "      <th>사람인</th>\n",
       "    </tr>\n",
       "  </thead>\n",
       "  <tbody>\n",
       "    <tr>\n",
       "      <th>10/22</th>\n",
       "      <td>9800</td>\n",
       "      <td>5500</td>\n",
       "    </tr>\n",
       "    <tr>\n",
       "      <th>10/23</th>\n",
       "      <td>10200</td>\n",
       "      <td>6600</td>\n",
       "    </tr>\n",
       "  </tbody>\n",
       "</table>\n",
       "</div>"
      ]
     },
     "metadata": {},
     "execution_count": 44
    }
   ],
   "metadata": {}
  },
  {
   "cell_type": "markdown",
   "source": [
    "##### 새로운 열 추가"
   ],
   "metadata": {}
  },
  {
   "cell_type": "code",
   "execution_count": 45,
   "source": [
    "# 새로운 '잡플래닛' 열 (빈 데이터) 추가하기\n",
    "trafic_data.loc[:,'잡플래닛'] = np.nan\n",
    "trafic_data"
   ],
   "outputs": [
    {
     "output_type": "execute_result",
     "data": {
      "text/plain": [
       "         원티드   사람인  잡플래닛\n",
       "10/22   9800  5500   NaN\n",
       "10/23  10200  6600   NaN"
      ],
      "text/html": [
       "<div>\n",
       "<style scoped>\n",
       "    .dataframe tbody tr th:only-of-type {\n",
       "        vertical-align: middle;\n",
       "    }\n",
       "\n",
       "    .dataframe tbody tr th {\n",
       "        vertical-align: top;\n",
       "    }\n",
       "\n",
       "    .dataframe thead th {\n",
       "        text-align: right;\n",
       "    }\n",
       "</style>\n",
       "<table border=\"1\" class=\"dataframe\">\n",
       "  <thead>\n",
       "    <tr style=\"text-align: right;\">\n",
       "      <th></th>\n",
       "      <th>원티드</th>\n",
       "      <th>사람인</th>\n",
       "      <th>잡플래닛</th>\n",
       "    </tr>\n",
       "  </thead>\n",
       "  <tbody>\n",
       "    <tr>\n",
       "      <th>10/22</th>\n",
       "      <td>9800</td>\n",
       "      <td>5500</td>\n",
       "      <td>NaN</td>\n",
       "    </tr>\n",
       "    <tr>\n",
       "      <th>10/23</th>\n",
       "      <td>10200</td>\n",
       "      <td>6600</td>\n",
       "      <td>NaN</td>\n",
       "    </tr>\n",
       "  </tbody>\n",
       "</table>\n",
       "</div>"
      ]
     },
     "metadata": {},
     "execution_count": 45
    }
   ],
   "metadata": {}
  },
  {
   "cell_type": "code",
   "execution_count": 46,
   "source": [
    "# 새로운 '잡코리아' 열 데이터 추가하기\n",
    "trafic_data.loc[:,'잡코리아'] = [980, 1020]\n",
    "trafic_data"
   ],
   "outputs": [
    {
     "output_type": "execute_result",
     "data": {
      "text/plain": [
       "         원티드   사람인  잡플래닛  잡코리아\n",
       "10/22   9800  5500   NaN   980\n",
       "10/23  10200  6600   NaN  1020"
      ],
      "text/html": [
       "<div>\n",
       "<style scoped>\n",
       "    .dataframe tbody tr th:only-of-type {\n",
       "        vertical-align: middle;\n",
       "    }\n",
       "\n",
       "    .dataframe tbody tr th {\n",
       "        vertical-align: top;\n",
       "    }\n",
       "\n",
       "    .dataframe thead th {\n",
       "        text-align: right;\n",
       "    }\n",
       "</style>\n",
       "<table border=\"1\" class=\"dataframe\">\n",
       "  <thead>\n",
       "    <tr style=\"text-align: right;\">\n",
       "      <th></th>\n",
       "      <th>원티드</th>\n",
       "      <th>사람인</th>\n",
       "      <th>잡플래닛</th>\n",
       "      <th>잡코리아</th>\n",
       "    </tr>\n",
       "  </thead>\n",
       "  <tbody>\n",
       "    <tr>\n",
       "      <th>10/22</th>\n",
       "      <td>9800</td>\n",
       "      <td>5500</td>\n",
       "      <td>NaN</td>\n",
       "      <td>980</td>\n",
       "    </tr>\n",
       "    <tr>\n",
       "      <th>10/23</th>\n",
       "      <td>10200</td>\n",
       "      <td>6600</td>\n",
       "      <td>NaN</td>\n",
       "      <td>1020</td>\n",
       "    </tr>\n",
       "  </tbody>\n",
       "</table>\n",
       "</div>"
      ]
     },
     "metadata": {},
     "execution_count": 46
    }
   ],
   "metadata": {}
  },
  {
   "cell_type": "code",
   "execution_count": 47,
   "source": [
    "# 숫자를 하나만 주면 broadcast 된다.\n",
    "trafic_data.loc[:,'스펙업'] = 20000\n",
    "trafic_data"
   ],
   "outputs": [
    {
     "output_type": "execute_result",
     "data": {
      "text/plain": [
       "         원티드   사람인  잡플래닛  잡코리아    스펙업\n",
       "10/22   9800  5500   NaN   980  20000\n",
       "10/23  10200  6600   NaN  1020  20000"
      ],
      "text/html": [
       "<div>\n",
       "<style scoped>\n",
       "    .dataframe tbody tr th:only-of-type {\n",
       "        vertical-align: middle;\n",
       "    }\n",
       "\n",
       "    .dataframe tbody tr th {\n",
       "        vertical-align: top;\n",
       "    }\n",
       "\n",
       "    .dataframe thead th {\n",
       "        text-align: right;\n",
       "    }\n",
       "</style>\n",
       "<table border=\"1\" class=\"dataframe\">\n",
       "  <thead>\n",
       "    <tr style=\"text-align: right;\">\n",
       "      <th></th>\n",
       "      <th>원티드</th>\n",
       "      <th>사람인</th>\n",
       "      <th>잡플래닛</th>\n",
       "      <th>잡코리아</th>\n",
       "      <th>스펙업</th>\n",
       "    </tr>\n",
       "  </thead>\n",
       "  <tbody>\n",
       "    <tr>\n",
       "      <th>10/22</th>\n",
       "      <td>9800</td>\n",
       "      <td>5500</td>\n",
       "      <td>NaN</td>\n",
       "      <td>980</td>\n",
       "      <td>20000</td>\n",
       "    </tr>\n",
       "    <tr>\n",
       "      <th>10/23</th>\n",
       "      <td>10200</td>\n",
       "      <td>6600</td>\n",
       "      <td>NaN</td>\n",
       "      <td>1020</td>\n",
       "      <td>20000</td>\n",
       "    </tr>\n",
       "  </tbody>\n",
       "</table>\n",
       "</div>"
      ]
     },
     "metadata": {},
     "execution_count": 47
    }
   ],
   "metadata": {}
  },
  {
   "cell_type": "markdown",
   "source": [
    "##### 새로운 행 추가"
   ],
   "metadata": {}
  },
  {
   "cell_type": "code",
   "execution_count": 48,
   "source": [
    "# 새로운 10/24 행 데이터추가하기\n",
    "trafic_data.loc['10/24'] = [12500,4520,3000,\n",
    "                           780, 21000]\n",
    "trafic_data"
   ],
   "outputs": [
    {
     "output_type": "execute_result",
     "data": {
      "text/plain": [
       "         원티드   사람인    잡플래닛  잡코리아    스펙업\n",
       "10/22   9800  5500     NaN   980  20000\n",
       "10/23  10200  6600     NaN  1020  20000\n",
       "10/24  12500  4520  3000.0   780  21000"
      ],
      "text/html": [
       "<div>\n",
       "<style scoped>\n",
       "    .dataframe tbody tr th:only-of-type {\n",
       "        vertical-align: middle;\n",
       "    }\n",
       "\n",
       "    .dataframe tbody tr th {\n",
       "        vertical-align: top;\n",
       "    }\n",
       "\n",
       "    .dataframe thead th {\n",
       "        text-align: right;\n",
       "    }\n",
       "</style>\n",
       "<table border=\"1\" class=\"dataframe\">\n",
       "  <thead>\n",
       "    <tr style=\"text-align: right;\">\n",
       "      <th></th>\n",
       "      <th>원티드</th>\n",
       "      <th>사람인</th>\n",
       "      <th>잡플래닛</th>\n",
       "      <th>잡코리아</th>\n",
       "      <th>스펙업</th>\n",
       "    </tr>\n",
       "  </thead>\n",
       "  <tbody>\n",
       "    <tr>\n",
       "      <th>10/22</th>\n",
       "      <td>9800</td>\n",
       "      <td>5500</td>\n",
       "      <td>NaN</td>\n",
       "      <td>980</td>\n",
       "      <td>20000</td>\n",
       "    </tr>\n",
       "    <tr>\n",
       "      <th>10/23</th>\n",
       "      <td>10200</td>\n",
       "      <td>6600</td>\n",
       "      <td>NaN</td>\n",
       "      <td>1020</td>\n",
       "      <td>20000</td>\n",
       "    </tr>\n",
       "    <tr>\n",
       "      <th>10/24</th>\n",
       "      <td>12500</td>\n",
       "      <td>4520</td>\n",
       "      <td>3000.0</td>\n",
       "      <td>780</td>\n",
       "      <td>21000</td>\n",
       "    </tr>\n",
       "  </tbody>\n",
       "</table>\n",
       "</div>"
      ]
     },
     "metadata": {},
     "execution_count": 48
    }
   ],
   "metadata": {}
  },
  {
   "cell_type": "code",
   "execution_count": 49,
   "source": [
    "# 값을 하나만 지정하면, broadcast 된다\n",
    "trafic_data.loc['10/25'] = 2000\n",
    "trafic_data"
   ],
   "outputs": [
    {
     "output_type": "execute_result",
     "data": {
      "text/plain": [
       "         원티드   사람인    잡플래닛  잡코리아    스펙업\n",
       "10/22   9800  5500     NaN   980  20000\n",
       "10/23  10200  6600     NaN  1020  20000\n",
       "10/24  12500  4520  3000.0   780  21000\n",
       "10/25   2000  2000  2000.0  2000   2000"
      ],
      "text/html": [
       "<div>\n",
       "<style scoped>\n",
       "    .dataframe tbody tr th:only-of-type {\n",
       "        vertical-align: middle;\n",
       "    }\n",
       "\n",
       "    .dataframe tbody tr th {\n",
       "        vertical-align: top;\n",
       "    }\n",
       "\n",
       "    .dataframe thead th {\n",
       "        text-align: right;\n",
       "    }\n",
       "</style>\n",
       "<table border=\"1\" class=\"dataframe\">\n",
       "  <thead>\n",
       "    <tr style=\"text-align: right;\">\n",
       "      <th></th>\n",
       "      <th>원티드</th>\n",
       "      <th>사람인</th>\n",
       "      <th>잡플래닛</th>\n",
       "      <th>잡코리아</th>\n",
       "      <th>스펙업</th>\n",
       "    </tr>\n",
       "  </thead>\n",
       "  <tbody>\n",
       "    <tr>\n",
       "      <th>10/22</th>\n",
       "      <td>9800</td>\n",
       "      <td>5500</td>\n",
       "      <td>NaN</td>\n",
       "      <td>980</td>\n",
       "      <td>20000</td>\n",
       "    </tr>\n",
       "    <tr>\n",
       "      <th>10/23</th>\n",
       "      <td>10200</td>\n",
       "      <td>6600</td>\n",
       "      <td>NaN</td>\n",
       "      <td>1020</td>\n",
       "      <td>20000</td>\n",
       "    </tr>\n",
       "    <tr>\n",
       "      <th>10/24</th>\n",
       "      <td>12500</td>\n",
       "      <td>4520</td>\n",
       "      <td>3000.0</td>\n",
       "      <td>780</td>\n",
       "      <td>21000</td>\n",
       "    </tr>\n",
       "    <tr>\n",
       "      <th>10/25</th>\n",
       "      <td>2000</td>\n",
       "      <td>2000</td>\n",
       "      <td>2000.0</td>\n",
       "      <td>2000</td>\n",
       "      <td>2000</td>\n",
       "    </tr>\n",
       "  </tbody>\n",
       "</table>\n",
       "</div>"
      ]
     },
     "metadata": {},
     "execution_count": 49
    }
   ],
   "metadata": {}
  },
  {
   "cell_type": "code",
   "execution_count": 50,
   "source": [
    "trafic_data.loc['10/22', '잡플래닛'] = 99\n",
    "trafic_data"
   ],
   "outputs": [
    {
     "output_type": "execute_result",
     "data": {
      "text/plain": [
       "         원티드   사람인    잡플래닛  잡코리아    스펙업\n",
       "10/22   9800  5500    99.0   980  20000\n",
       "10/23  10200  6600     NaN  1020  20000\n",
       "10/24  12500  4520  3000.0   780  21000\n",
       "10/25   2000  2000  2000.0  2000   2000"
      ],
      "text/html": [
       "<div>\n",
       "<style scoped>\n",
       "    .dataframe tbody tr th:only-of-type {\n",
       "        vertical-align: middle;\n",
       "    }\n",
       "\n",
       "    .dataframe tbody tr th {\n",
       "        vertical-align: top;\n",
       "    }\n",
       "\n",
       "    .dataframe thead th {\n",
       "        text-align: right;\n",
       "    }\n",
       "</style>\n",
       "<table border=\"1\" class=\"dataframe\">\n",
       "  <thead>\n",
       "    <tr style=\"text-align: right;\">\n",
       "      <th></th>\n",
       "      <th>원티드</th>\n",
       "      <th>사람인</th>\n",
       "      <th>잡플래닛</th>\n",
       "      <th>잡코리아</th>\n",
       "      <th>스펙업</th>\n",
       "    </tr>\n",
       "  </thead>\n",
       "  <tbody>\n",
       "    <tr>\n",
       "      <th>10/22</th>\n",
       "      <td>9800</td>\n",
       "      <td>5500</td>\n",
       "      <td>99.0</td>\n",
       "      <td>980</td>\n",
       "      <td>20000</td>\n",
       "    </tr>\n",
       "    <tr>\n",
       "      <th>10/23</th>\n",
       "      <td>10200</td>\n",
       "      <td>6600</td>\n",
       "      <td>NaN</td>\n",
       "      <td>1020</td>\n",
       "      <td>20000</td>\n",
       "    </tr>\n",
       "    <tr>\n",
       "      <th>10/24</th>\n",
       "      <td>12500</td>\n",
       "      <td>4520</td>\n",
       "      <td>3000.0</td>\n",
       "      <td>780</td>\n",
       "      <td>21000</td>\n",
       "    </tr>\n",
       "    <tr>\n",
       "      <th>10/25</th>\n",
       "      <td>2000</td>\n",
       "      <td>2000</td>\n",
       "      <td>2000.0</td>\n",
       "      <td>2000</td>\n",
       "      <td>2000</td>\n",
       "    </tr>\n",
       "  </tbody>\n",
       "</table>\n",
       "</div>"
      ]
     },
     "metadata": {},
     "execution_count": 50
    }
   ],
   "metadata": {}
  },
  {
   "cell_type": "markdown",
   "source": [
    "##### <연습문제 2-10>\n",
    "trafic_data에  '중고나라' 열 데이터를 추가하고, 50000으로 값을 지정해주세요"
   ],
   "metadata": {}
  },
  {
   "cell_type": "code",
   "execution_count": 51,
   "source": [
    "trafic_data[\"중고나라\"] = 50000"
   ],
   "outputs": [],
   "metadata": {}
  },
  {
   "cell_type": "markdown",
   "source": [
    "##### <연습문제 2-11>\n",
    "trafic_data의  '중고나라', 10/24, 10/25 트래픽을 75000의 값을 지정해주세요"
   ],
   "metadata": {}
  },
  {
   "cell_type": "code",
   "execution_count": 52,
   "source": [
    "trafic_data.loc[\"10/24\",\"중고나라\"] = 75000 \n",
    "trafic_data.loc[\"10/25\",\"중고나라\"] = 75000 \n",
    "trafic_data"
   ],
   "outputs": [
    {
     "output_type": "execute_result",
     "data": {
      "text/plain": [
       "         원티드   사람인    잡플래닛  잡코리아    스펙업   중고나라\n",
       "10/22   9800  5500    99.0   980  20000  50000\n",
       "10/23  10200  6600     NaN  1020  20000  50000\n",
       "10/24  12500  4520  3000.0   780  21000  75000\n",
       "10/25   2000  2000  2000.0  2000   2000  75000"
      ],
      "text/html": [
       "<div>\n",
       "<style scoped>\n",
       "    .dataframe tbody tr th:only-of-type {\n",
       "        vertical-align: middle;\n",
       "    }\n",
       "\n",
       "    .dataframe tbody tr th {\n",
       "        vertical-align: top;\n",
       "    }\n",
       "\n",
       "    .dataframe thead th {\n",
       "        text-align: right;\n",
       "    }\n",
       "</style>\n",
       "<table border=\"1\" class=\"dataframe\">\n",
       "  <thead>\n",
       "    <tr style=\"text-align: right;\">\n",
       "      <th></th>\n",
       "      <th>원티드</th>\n",
       "      <th>사람인</th>\n",
       "      <th>잡플래닛</th>\n",
       "      <th>잡코리아</th>\n",
       "      <th>스펙업</th>\n",
       "      <th>중고나라</th>\n",
       "    </tr>\n",
       "  </thead>\n",
       "  <tbody>\n",
       "    <tr>\n",
       "      <th>10/22</th>\n",
       "      <td>9800</td>\n",
       "      <td>5500</td>\n",
       "      <td>99.0</td>\n",
       "      <td>980</td>\n",
       "      <td>20000</td>\n",
       "      <td>50000</td>\n",
       "    </tr>\n",
       "    <tr>\n",
       "      <th>10/23</th>\n",
       "      <td>10200</td>\n",
       "      <td>6600</td>\n",
       "      <td>NaN</td>\n",
       "      <td>1020</td>\n",
       "      <td>20000</td>\n",
       "      <td>50000</td>\n",
       "    </tr>\n",
       "    <tr>\n",
       "      <th>10/24</th>\n",
       "      <td>12500</td>\n",
       "      <td>4520</td>\n",
       "      <td>3000.0</td>\n",
       "      <td>780</td>\n",
       "      <td>21000</td>\n",
       "      <td>75000</td>\n",
       "    </tr>\n",
       "    <tr>\n",
       "      <th>10/25</th>\n",
       "      <td>2000</td>\n",
       "      <td>2000</td>\n",
       "      <td>2000.0</td>\n",
       "      <td>2000</td>\n",
       "      <td>2000</td>\n",
       "      <td>75000</td>\n",
       "    </tr>\n",
       "  </tbody>\n",
       "</table>\n",
       "</div>"
      ]
     },
     "metadata": {},
     "execution_count": 52
    }
   ],
   "metadata": {}
  },
  {
   "cell_type": "markdown",
   "source": [
    "#### matplotlib으로 그래프 그리기"
   ],
   "metadata": {}
  },
  {
   "cell_type": "code",
   "execution_count": 129,
   "source": [
    "# matplotlib 임포트,  주피터 출력설정,  한글 글꼴 지정\n",
    "import matplotlib.pyplot as plt\n",
    "%matplotlib inline\n",
    "\n",
    "# plt.rcParams['font.family'] = 'Malgun Gothic'  # (Windows 용) 한글 출력을 위한 글꼴 설정\n",
    "plt.rcParams['font.family'] = 'AppleGothic'  # (MAC, 리눅스 용)"
   ],
   "outputs": [],
   "metadata": {}
  },
  {
   "cell_type": "code",
   "execution_count": 130,
   "source": [
    "my_df.loc[:,'A005930'].plot();  # Series 그래프"
   ],
   "outputs": [
    {
     "output_type": "display_data",
     "data": {
      "text/plain": [
       "<Figure size 432x288 with 1 Axes>"
      ],
      "image/svg+xml": "<?xml version=\"1.0\" encoding=\"utf-8\" standalone=\"no\"?>\n<!DOCTYPE svg PUBLIC \"-//W3C//DTD SVG 1.1//EN\"\n  \"http://www.w3.org/Graphics/SVG/1.1/DTD/svg11.dtd\">\n<svg height=\"251.857031pt\" version=\"1.1\" viewBox=\"0 0 416.301818 251.857031\" width=\"416.301818pt\" xmlns=\"http://www.w3.org/2000/svg\" xmlns:xlink=\"http://www.w3.org/1999/xlink\">\n <metadata>\n  <rdf:RDF xmlns:cc=\"http://creativecommons.org/ns#\" xmlns:dc=\"http://purl.org/dc/elements/1.1/\" xmlns:rdf=\"http://www.w3.org/1999/02/22-rdf-syntax-ns#\">\n   <cc:Work>\n    <dc:type rdf:resource=\"http://purl.org/dc/dcmitype/StillImage\"/>\n    <dc:date>2021-08-23T11:42:05.083801</dc:date>\n    <dc:format>image/svg+xml</dc:format>\n    <dc:creator>\n     <cc:Agent>\n      <dc:title>Matplotlib v3.4.2, https://matplotlib.org/</dc:title>\n     </cc:Agent>\n    </dc:creator>\n   </cc:Work>\n  </rdf:RDF>\n </metadata>\n <defs>\n  <style type=\"text/css\">*{stroke-linecap:butt;stroke-linejoin:round;}</style>\n </defs>\n <g id=\"figure_1\">\n  <g id=\"patch_1\">\n   <path d=\"M 0 251.857031 \nL 416.301818 251.857031 \nL 416.301818 0 \nL 0 0 \nz\n\" style=\"fill:none;\"/>\n  </g>\n  <g id=\"axes_1\">\n   <g id=\"patch_2\">\n    <path d=\"M 54.1 224.64 \nL 388.9 224.64 \nL 388.9 7.2 \nL 54.1 7.2 \nz\n\" style=\"fill:#eaeaf2;\"/>\n   </g>\n   <g id=\"matplotlib.axis_1\">\n    <g id=\"xtick_1\">\n     <g id=\"line2d_1\">\n      <path clip-path=\"url(#pcf1c321893)\" d=\"M 69.318182 224.64 \nL 69.318182 7.2 \n\" style=\"fill:none;stroke:#ffffff;stroke-linecap:round;\"/>\n     </g>\n     <g id=\"text_1\">\n      <!-- 2020-09-09 -->\n      <g style=\"fill:#262626;\" transform=\"translate(33.898182 242.764688)scale(0.11 -0.11)\">\n       <defs>\n        <path d=\"M 1101 429 \nL 3942 429 \nL 3942 0 \nL 653 0 \nL 653 205 \nQ 653 1018 1344 1664 \nQ 1670 1894 1990 2124 \nQ 2310 2355 2637 2592 \nQ 3334 3098 3334 3597 \nQ 3334 3994 3014 4218 \nQ 2867 4326 2694 4377 \nQ 2522 4429 2317 4429 \nQ 2016 4429 1741 4352 \nQ 1325 4224 883 3910 \nL 883 4435 \nQ 1325 4659 1667 4758 \nQ 2010 4858 2317 4858 \nQ 2963 4858 3405 4525 \nQ 3840 4198 3840 3622 \nQ 3840 2995 3168 2438 \nQ 2848 2214 2531 2000 \nQ 2214 1786 1894 1562 \nQ 1178 1024 1101 429 \nz\n\" id=\"AppleGothic-32\" transform=\"scale(0.015625)\"/>\n        <path d=\"M 2227 -83 \nQ 1414 -83 934 576 \nQ 461 1229 461 2387 \nQ 461 3552 973 4218 \nQ 1453 4858 2221 4858 \nQ 3027 4858 3482 4173 \nQ 3955 3494 3955 2394 \nQ 3955 1248 3462 582 \nQ 2976 -83 2227 -83 \nz\nM 2176 346 \nQ 2861 346 3200 992 \nQ 3462 1536 3462 2400 \nQ 3462 3315 3162 3859 \nQ 2822 4429 2214 4429 \nQ 1574 4429 1248 3821 \nQ 960 3283 960 2374 \nQ 960 1478 1248 941 \nQ 1574 346 2176 346 \nz\n\" id=\"AppleGothic-30\" transform=\"scale(0.015625)\"/>\n        <path d=\"M 256 1958 \nL 2349 1958 \nL 2349 1491 \nL 256 1491 \nL 256 1958 \nz\n\" id=\"AppleGothic-2d\" transform=\"scale(0.015625)\"/>\n        <path d=\"M 928 211 \nL 928 762 \nQ 1050 672 1155 601 \nQ 1261 531 1363 480 \nQ 1702 320 2016 320 \nQ 2291 320 2541 435 \nQ 2739 525 2908 675 \nQ 3078 826 3213 1037 \nQ 3456 1408 3552 1843 \nQ 3616 2144 3616 2573 \nQ 3315 2272 3066 2125 \nQ 2605 1850 2093 1850 \nQ 1459 1850 1037 2214 \nQ 589 2598 589 3270 \nQ 589 3987 1082 4416 \nQ 1549 4832 2234 4832 \nQ 2970 4832 3494 4301 \nQ 4122 3661 4122 2528 \nQ 4122 1325 3475 582 \nQ 2874 -109 2035 -109 \nQ 1722 -109 1357 19 \nQ 1254 51 1148 102 \nQ 1043 154 928 211 \nz\nM 3578 3066 \nQ 3462 3718 3053 4077 \nQ 2675 4403 2227 4403 \nQ 1715 4403 1402 4083 \nQ 1082 3750 1082 3302 \nQ 1082 2861 1370 2566 \nQ 1658 2278 2125 2278 \nQ 2573 2278 2915 2473 \nQ 3258 2669 3578 3066 \nz\n\" id=\"AppleGothic-39\" transform=\"scale(0.015625)\"/>\n       </defs>\n       <use xlink:href=\"#AppleGothic-32\"/>\n       <use x=\"67.999985\" xlink:href=\"#AppleGothic-30\"/>\n       <use x=\"135.999969\" xlink:href=\"#AppleGothic-32\"/>\n       <use x=\"203.999954\" xlink:href=\"#AppleGothic-30\"/>\n       <use x=\"271.999939\" xlink:href=\"#AppleGothic-2d\"/>\n       <use x=\"321.999924\" xlink:href=\"#AppleGothic-30\"/>\n       <use x=\"389.999908\" xlink:href=\"#AppleGothic-39\"/>\n       <use x=\"457.999893\" xlink:href=\"#AppleGothic-2d\"/>\n       <use x=\"507.999878\" xlink:href=\"#AppleGothic-30\"/>\n       <use x=\"575.999863\" xlink:href=\"#AppleGothic-39\"/>\n      </g>\n     </g>\n    </g>\n    <g id=\"xtick_2\">\n     <g id=\"line2d_2\">\n      <path clip-path=\"url(#pcf1c321893)\" d=\"M 112.798701 224.64 \nL 112.798701 7.2 \n\" style=\"fill:none;stroke:#ffffff;stroke-linecap:round;\"/>\n     </g>\n     <g id=\"text_2\">\n      <!-- 2020-09-10 -->\n      <g style=\"fill:#262626;\" transform=\"translate(77.378701 242.764688)scale(0.11 -0.11)\">\n       <defs>\n        <path d=\"M 2342 4774 \nL 2752 4774 \nL 2752 0 \nL 2285 0 \nL 2285 3526 \nL 1158 3526 \nL 1158 3885 \nL 1414 3885 \nQ 1990 3885 2214 4205 \nQ 2342 4410 2342 4774 \nz\n\" id=\"AppleGothic-31\" transform=\"scale(0.015625)\"/>\n       </defs>\n       <use xlink:href=\"#AppleGothic-32\"/>\n       <use x=\"67.999985\" xlink:href=\"#AppleGothic-30\"/>\n       <use x=\"135.999969\" xlink:href=\"#AppleGothic-32\"/>\n       <use x=\"203.999954\" xlink:href=\"#AppleGothic-30\"/>\n       <use x=\"271.999939\" xlink:href=\"#AppleGothic-2d\"/>\n       <use x=\"321.999924\" xlink:href=\"#AppleGothic-30\"/>\n       <use x=\"389.999908\" xlink:href=\"#AppleGothic-39\"/>\n       <use x=\"457.999893\" xlink:href=\"#AppleGothic-2d\"/>\n       <use x=\"507.999878\" xlink:href=\"#AppleGothic-31\"/>\n       <use x=\"575.999863\" xlink:href=\"#AppleGothic-30\"/>\n      </g>\n     </g>\n    </g>\n    <g id=\"xtick_3\">\n     <g id=\"line2d_3\">\n      <path clip-path=\"url(#pcf1c321893)\" d=\"M 156.279221 224.64 \nL 156.279221 7.2 \n\" style=\"fill:none;stroke:#ffffff;stroke-linecap:round;\"/>\n     </g>\n     <g id=\"text_3\">\n      <!-- 2020-09-11 -->\n      <g style=\"fill:#262626;\" transform=\"translate(120.859221 242.764688)scale(0.11 -0.11)\">\n       <use xlink:href=\"#AppleGothic-32\"/>\n       <use x=\"67.999985\" xlink:href=\"#AppleGothic-30\"/>\n       <use x=\"135.999969\" xlink:href=\"#AppleGothic-32\"/>\n       <use x=\"203.999954\" xlink:href=\"#AppleGothic-30\"/>\n       <use x=\"271.999939\" xlink:href=\"#AppleGothic-2d\"/>\n       <use x=\"321.999924\" xlink:href=\"#AppleGothic-30\"/>\n       <use x=\"389.999908\" xlink:href=\"#AppleGothic-39\"/>\n       <use x=\"457.999893\" xlink:href=\"#AppleGothic-2d\"/>\n       <use x=\"507.999878\" xlink:href=\"#AppleGothic-31\"/>\n       <use x=\"575.999863\" xlink:href=\"#AppleGothic-31\"/>\n      </g>\n     </g>\n    </g>\n    <g id=\"xtick_4\">\n     <g id=\"line2d_4\">\n      <path clip-path=\"url(#pcf1c321893)\" d=\"M 199.75974 224.64 \nL 199.75974 7.2 \n\" style=\"fill:none;stroke:#ffffff;stroke-linecap:round;\"/>\n     </g>\n     <g id=\"text_4\">\n      <!-- 2020-09-14 -->\n      <g style=\"fill:#262626;\" transform=\"translate(164.33974 242.764688)scale(0.11 -0.11)\">\n       <defs>\n        <path d=\"M 2662 4774 \nL 3130 4774 \nL 3130 1811 \nL 4000 1811 \nL 4000 1382 \nL 3130 1382 \nL 3130 0 \nL 2662 0 \nL 2662 1382 \nL 352 1382 \nL 352 1811 \nL 2662 4774 \nz\nM 2662 1811 \nL 2662 4166 \nL 838 1811 \nL 2662 1811 \nz\n\" id=\"AppleGothic-34\" transform=\"scale(0.015625)\"/>\n       </defs>\n       <use xlink:href=\"#AppleGothic-32\"/>\n       <use x=\"67.999985\" xlink:href=\"#AppleGothic-30\"/>\n       <use x=\"135.999969\" xlink:href=\"#AppleGothic-32\"/>\n       <use x=\"203.999954\" xlink:href=\"#AppleGothic-30\"/>\n       <use x=\"271.999939\" xlink:href=\"#AppleGothic-2d\"/>\n       <use x=\"321.999924\" xlink:href=\"#AppleGothic-30\"/>\n       <use x=\"389.999908\" xlink:href=\"#AppleGothic-39\"/>\n       <use x=\"457.999893\" xlink:href=\"#AppleGothic-2d\"/>\n       <use x=\"507.999878\" xlink:href=\"#AppleGothic-31\"/>\n       <use x=\"575.999863\" xlink:href=\"#AppleGothic-34\"/>\n      </g>\n     </g>\n    </g>\n    <g id=\"xtick_5\">\n     <g id=\"line2d_5\">\n      <path clip-path=\"url(#pcf1c321893)\" d=\"M 243.24026 224.64 \nL 243.24026 7.2 \n\" style=\"fill:none;stroke:#ffffff;stroke-linecap:round;\"/>\n     </g>\n     <g id=\"text_5\">\n      <!-- 2020-09-15 -->\n      <g style=\"fill:#262626;\" transform=\"translate(207.82026 242.764688)scale(0.11 -0.11)\">\n       <defs>\n        <path d=\"M 621 4768 \nL 3488 4768 \nL 3488 4339 \nL 1088 4339 \nL 1088 2707 \nQ 1184 2771 1293 2819 \nQ 1402 2867 1510 2912 \nQ 1862 3040 2259 3040 \nQ 2989 3040 3424 2605 \nQ 3827 2202 3827 1581 \nQ 3827 870 3296 397 \nQ 2765 -83 2010 -83 \nQ 1651 -83 1248 45 \nQ 1158 77 1001 137 \nQ 845 198 621 301 \nL 621 838 \nQ 928 640 1203 525 \nQ 1408 435 1613 390 \nQ 1818 346 2010 346 \nQ 2528 346 2906 666 \nQ 3322 1011 3322 1536 \nQ 3322 1990 3021 2291 \nQ 2701 2611 2144 2611 \nQ 1856 2611 1587 2528 \nQ 1318 2445 1088 2272 \nL 621 2272 \nL 621 4768 \nz\n\" id=\"AppleGothic-35\" transform=\"scale(0.015625)\"/>\n       </defs>\n       <use xlink:href=\"#AppleGothic-32\"/>\n       <use x=\"67.999985\" xlink:href=\"#AppleGothic-30\"/>\n       <use x=\"135.999969\" xlink:href=\"#AppleGothic-32\"/>\n       <use x=\"203.999954\" xlink:href=\"#AppleGothic-30\"/>\n       <use x=\"271.999939\" xlink:href=\"#AppleGothic-2d\"/>\n       <use x=\"321.999924\" xlink:href=\"#AppleGothic-30\"/>\n       <use x=\"389.999908\" xlink:href=\"#AppleGothic-39\"/>\n       <use x=\"457.999893\" xlink:href=\"#AppleGothic-2d\"/>\n       <use x=\"507.999878\" xlink:href=\"#AppleGothic-31\"/>\n       <use x=\"575.999863\" xlink:href=\"#AppleGothic-35\"/>\n      </g>\n     </g>\n    </g>\n    <g id=\"xtick_6\">\n     <g id=\"line2d_6\">\n      <path clip-path=\"url(#pcf1c321893)\" d=\"M 286.720779 224.64 \nL 286.720779 7.2 \n\" style=\"fill:none;stroke:#ffffff;stroke-linecap:round;\"/>\n     </g>\n     <g id=\"text_6\">\n      <!-- 2020-09-16 -->\n      <g style=\"fill:#262626;\" transform=\"translate(251.300779 242.764688)scale(0.11 -0.11)\">\n       <defs>\n        <path d=\"M 3699 4557 \nL 3699 4013 \nQ 3584 4102 3475 4163 \nQ 3366 4224 3258 4275 \nQ 3085 4358 2918 4393 \nQ 2752 4429 2586 4429 \nQ 2470 4429 2352 4409 \nQ 2234 4390 2118 4339 \nQ 1670 4154 1395 3738 \nQ 1011 3149 1011 2189 \nQ 1312 2490 1568 2656 \nQ 2022 2931 2534 2931 \nQ 3162 2931 3584 2566 \nQ 4038 2163 4038 1491 \nQ 4038 806 3558 358 \nQ 3078 -83 2394 -83 \nQ 1670 -83 1146 454 \nQ 518 1088 518 2253 \nQ 518 3411 1120 4134 \nQ 1715 4858 2605 4858 \nQ 2938 4858 3226 4762 \nQ 3309 4730 3427 4682 \nQ 3546 4634 3699 4557 \nz\nM 1062 1702 \nQ 1152 1152 1498 768 \nQ 1882 346 2419 346 \nQ 2899 346 3213 659 \nQ 3539 973 3539 1459 \nQ 3539 1920 3226 2214 \nQ 2918 2502 2496 2502 \nQ 1990 2502 1542 2176 \nQ 1414 2080 1292 1965 \nQ 1171 1850 1062 1702 \nz\n\" id=\"AppleGothic-36\" transform=\"scale(0.015625)\"/>\n       </defs>\n       <use xlink:href=\"#AppleGothic-32\"/>\n       <use x=\"67.999985\" xlink:href=\"#AppleGothic-30\"/>\n       <use x=\"135.999969\" xlink:href=\"#AppleGothic-32\"/>\n       <use x=\"203.999954\" xlink:href=\"#AppleGothic-30\"/>\n       <use x=\"271.999939\" xlink:href=\"#AppleGothic-2d\"/>\n       <use x=\"321.999924\" xlink:href=\"#AppleGothic-30\"/>\n       <use x=\"389.999908\" xlink:href=\"#AppleGothic-39\"/>\n       <use x=\"457.999893\" xlink:href=\"#AppleGothic-2d\"/>\n       <use x=\"507.999878\" xlink:href=\"#AppleGothic-31\"/>\n       <use x=\"575.999863\" xlink:href=\"#AppleGothic-36\"/>\n      </g>\n     </g>\n    </g>\n    <g id=\"xtick_7\">\n     <g id=\"line2d_7\">\n      <path clip-path=\"url(#pcf1c321893)\" d=\"M 330.201299 224.64 \nL 330.201299 7.2 \n\" style=\"fill:none;stroke:#ffffff;stroke-linecap:round;\"/>\n     </g>\n     <g id=\"text_7\">\n      <!-- 2020-09-17 -->\n      <g style=\"fill:#262626;\" transform=\"translate(294.781299 242.764688)scale(0.11 -0.11)\">\n       <defs>\n        <path d=\"M 595 4774 \nL 3802 4774 \nL 3802 4410 \nL 1734 0 \nL 1235 0 \nL 3277 4352 \nL 595 4352 \nL 595 4774 \nz\n\" id=\"AppleGothic-37\" transform=\"scale(0.015625)\"/>\n       </defs>\n       <use xlink:href=\"#AppleGothic-32\"/>\n       <use x=\"67.999985\" xlink:href=\"#AppleGothic-30\"/>\n       <use x=\"135.999969\" xlink:href=\"#AppleGothic-32\"/>\n       <use x=\"203.999954\" xlink:href=\"#AppleGothic-30\"/>\n       <use x=\"271.999939\" xlink:href=\"#AppleGothic-2d\"/>\n       <use x=\"321.999924\" xlink:href=\"#AppleGothic-30\"/>\n       <use x=\"389.999908\" xlink:href=\"#AppleGothic-39\"/>\n       <use x=\"457.999893\" xlink:href=\"#AppleGothic-2d\"/>\n       <use x=\"507.999878\" xlink:href=\"#AppleGothic-31\"/>\n       <use x=\"575.999863\" xlink:href=\"#AppleGothic-37\"/>\n      </g>\n     </g>\n    </g>\n    <g id=\"xtick_8\">\n     <g id=\"line2d_8\">\n      <path clip-path=\"url(#pcf1c321893)\" d=\"M 373.681818 224.64 \nL 373.681818 7.2 \n\" style=\"fill:none;stroke:#ffffff;stroke-linecap:round;\"/>\n     </g>\n     <g id=\"text_8\">\n      <!-- 2020-09-18 -->\n      <g style=\"fill:#262626;\" transform=\"translate(338.261818 242.764688)scale(0.11 -0.11)\">\n       <defs>\n        <path d=\"M 2957 2605 \nQ 3219 2528 3404 2445 \nQ 3590 2362 3706 2272 \nQ 4192 1926 4192 1370 \nQ 4192 749 3642 333 \nQ 3098 -83 2285 -83 \nQ 1434 -83 947 326 \nQ 512 691 512 1229 \nQ 512 1798 998 2125 \nQ 1146 2227 1341 2304 \nQ 1536 2381 1779 2451 \nQ 1574 2534 1430 2617 \nQ 1286 2701 1197 2784 \nQ 819 3104 819 3603 \nQ 819 4173 1261 4512 \nQ 1702 4858 2381 4858 \nQ 3014 4858 3437 4570 \nQ 3898 4262 3898 3738 \nQ 3898 3373 3670 3081 \nQ 3443 2790 2957 2605 \nz\nM 2406 2752 \nQ 2624 2835 2781 2915 \nQ 2938 2995 3040 3066 \nQ 3398 3322 3398 3667 \nQ 3398 3994 3104 4205 \nQ 2822 4429 2362 4429 \nQ 1894 4429 1613 4205 \nQ 1325 3994 1325 3635 \nQ 1325 3322 1581 3098 \nQ 1696 3002 1901 2912 \nQ 2106 2822 2406 2752 \nz\nM 2368 2304 \nQ 2061 2202 1840 2106 \nQ 1619 2010 1472 1920 \nQ 1011 1626 1011 1235 \nQ 1011 845 1376 595 \nQ 1728 346 2310 346 \nQ 2938 346 3315 640 \nQ 3693 934 3693 1338 \nQ 3693 1741 3238 1997 \nQ 3104 2067 2886 2147 \nQ 2669 2227 2368 2304 \nz\n\" id=\"AppleGothic-38\" transform=\"scale(0.015625)\"/>\n       </defs>\n       <use xlink:href=\"#AppleGothic-32\"/>\n       <use x=\"67.999985\" xlink:href=\"#AppleGothic-30\"/>\n       <use x=\"135.999969\" xlink:href=\"#AppleGothic-32\"/>\n       <use x=\"203.999954\" xlink:href=\"#AppleGothic-30\"/>\n       <use x=\"271.999939\" xlink:href=\"#AppleGothic-2d\"/>\n       <use x=\"321.999924\" xlink:href=\"#AppleGothic-30\"/>\n       <use x=\"389.999908\" xlink:href=\"#AppleGothic-39\"/>\n       <use x=\"457.999893\" xlink:href=\"#AppleGothic-2d\"/>\n       <use x=\"507.999878\" xlink:href=\"#AppleGothic-31\"/>\n       <use x=\"575.999863\" xlink:href=\"#AppleGothic-38\"/>\n      </g>\n     </g>\n    </g>\n   </g>\n   <g id=\"matplotlib.axis_2\">\n    <g id=\"ytick_1\">\n     <g id=\"line2d_9\">\n      <path clip-path=\"url(#pcf1c321893)\" d=\"M 54.1 207.153566 \nL 388.9 207.153566 \n\" style=\"fill:none;stroke:#ffffff;stroke-linecap:round;\"/>\n     </g>\n     <g id=\"text_9\">\n      <!-- 58500 -->\n      <g style=\"fill:#262626;\" transform=\"translate(7.2 211.46591)scale(0.11 -0.11)\">\n       <use xlink:href=\"#AppleGothic-35\"/>\n       <use x=\"67.999985\" xlink:href=\"#AppleGothic-38\"/>\n       <use x=\"135.999969\" xlink:href=\"#AppleGothic-35\"/>\n       <use x=\"203.999954\" xlink:href=\"#AppleGothic-30\"/>\n       <use x=\"271.999939\" xlink:href=\"#AppleGothic-30\"/>\n      </g>\n     </g>\n    </g>\n    <g id=\"ytick_2\">\n     <g id=\"line2d_10\">\n      <path clip-path=\"url(#pcf1c321893)\" d=\"M 54.1 169.13958 \nL 388.9 169.13958 \n\" style=\"fill:none;stroke:#ffffff;stroke-linecap:round;\"/>\n     </g>\n     <g id=\"text_10\">\n      <!-- 59000 -->\n      <g style=\"fill:#262626;\" transform=\"translate(7.2 173.451924)scale(0.11 -0.11)\">\n       <use xlink:href=\"#AppleGothic-35\"/>\n       <use x=\"67.999985\" xlink:href=\"#AppleGothic-39\"/>\n       <use x=\"135.999969\" xlink:href=\"#AppleGothic-30\"/>\n       <use x=\"203.999954\" xlink:href=\"#AppleGothic-30\"/>\n       <use x=\"271.999939\" xlink:href=\"#AppleGothic-30\"/>\n      </g>\n     </g>\n    </g>\n    <g id=\"ytick_3\">\n     <g id=\"line2d_11\">\n      <path clip-path=\"url(#pcf1c321893)\" d=\"M 54.1 131.125594 \nL 388.9 131.125594 \n\" style=\"fill:none;stroke:#ffffff;stroke-linecap:round;\"/>\n     </g>\n     <g id=\"text_11\">\n      <!-- 59500 -->\n      <g style=\"fill:#262626;\" transform=\"translate(7.2 135.437938)scale(0.11 -0.11)\">\n       <use xlink:href=\"#AppleGothic-35\"/>\n       <use x=\"67.999985\" xlink:href=\"#AppleGothic-39\"/>\n       <use x=\"135.999969\" xlink:href=\"#AppleGothic-35\"/>\n       <use x=\"203.999954\" xlink:href=\"#AppleGothic-30\"/>\n       <use x=\"271.999939\" xlink:href=\"#AppleGothic-30\"/>\n      </g>\n     </g>\n    </g>\n    <g id=\"ytick_4\">\n     <g id=\"line2d_12\">\n      <path clip-path=\"url(#pcf1c321893)\" d=\"M 54.1 93.111608 \nL 388.9 93.111608 \n\" style=\"fill:none;stroke:#ffffff;stroke-linecap:round;\"/>\n     </g>\n     <g id=\"text_12\">\n      <!-- 60000 -->\n      <g style=\"fill:#262626;\" transform=\"translate(7.2 97.423952)scale(0.11 -0.11)\">\n       <use xlink:href=\"#AppleGothic-36\"/>\n       <use x=\"67.999985\" xlink:href=\"#AppleGothic-30\"/>\n       <use x=\"135.999969\" xlink:href=\"#AppleGothic-30\"/>\n       <use x=\"203.999954\" xlink:href=\"#AppleGothic-30\"/>\n       <use x=\"271.999939\" xlink:href=\"#AppleGothic-30\"/>\n      </g>\n     </g>\n    </g>\n    <g id=\"ytick_5\">\n     <g id=\"line2d_13\">\n      <path clip-path=\"url(#pcf1c321893)\" d=\"M 54.1 55.097622 \nL 388.9 55.097622 \n\" style=\"fill:none;stroke:#ffffff;stroke-linecap:round;\"/>\n     </g>\n     <g id=\"text_13\">\n      <!-- 60500 -->\n      <g style=\"fill:#262626;\" transform=\"translate(7.2 59.409966)scale(0.11 -0.11)\">\n       <use xlink:href=\"#AppleGothic-36\"/>\n       <use x=\"67.999985\" xlink:href=\"#AppleGothic-30\"/>\n       <use x=\"135.999969\" xlink:href=\"#AppleGothic-35\"/>\n       <use x=\"203.999954\" xlink:href=\"#AppleGothic-30\"/>\n       <use x=\"271.999939\" xlink:href=\"#AppleGothic-30\"/>\n      </g>\n     </g>\n    </g>\n    <g id=\"ytick_6\">\n     <g id=\"line2d_14\">\n      <path clip-path=\"url(#pcf1c321893)\" d=\"M 54.1 17.083636 \nL 388.9 17.083636 \n\" style=\"fill:none;stroke:#ffffff;stroke-linecap:round;\"/>\n     </g>\n     <g id=\"text_14\">\n      <!-- 61000 -->\n      <g style=\"fill:#262626;\" transform=\"translate(7.2 21.39598)scale(0.11 -0.11)\">\n       <use xlink:href=\"#AppleGothic-36\"/>\n       <use x=\"67.999985\" xlink:href=\"#AppleGothic-31\"/>\n       <use x=\"135.999969\" xlink:href=\"#AppleGothic-30\"/>\n       <use x=\"203.999954\" xlink:href=\"#AppleGothic-30\"/>\n       <use x=\"271.999939\" xlink:href=\"#AppleGothic-30\"/>\n      </g>\n     </g>\n    </g>\n   </g>\n   <g id=\"line2d_15\">\n    <path clip-path=\"url(#pcf1c321893)\" d=\"M 69.318182 214.756364 \nL 112.798701 153.933986 \nL 156.279221 169.13958 \nL 199.75974 62.70042 \nL 243.24026 17.083636 \nL 286.720779 17.083636 \nL 330.201299 131.125594 \nL 373.681818 146.331189 \n\" style=\"fill:none;stroke:#4c72b0;stroke-linecap:round;stroke-width:1.5;\"/>\n   </g>\n   <g id=\"patch_3\">\n    <path d=\"M 54.1 224.64 \nL 54.1 7.2 \n\" style=\"fill:none;stroke:#ffffff;stroke-linecap:square;stroke-linejoin:miter;stroke-width:1.25;\"/>\n   </g>\n   <g id=\"patch_4\">\n    <path d=\"M 388.9 224.64 \nL 388.9 7.2 \n\" style=\"fill:none;stroke:#ffffff;stroke-linecap:square;stroke-linejoin:miter;stroke-width:1.25;\"/>\n   </g>\n   <g id=\"patch_5\">\n    <path d=\"M 54.1 224.64 \nL 388.9 224.64 \n\" style=\"fill:none;stroke:#ffffff;stroke-linecap:square;stroke-linejoin:miter;stroke-width:1.25;\"/>\n   </g>\n   <g id=\"patch_6\">\n    <path d=\"M 54.1 7.2 \nL 388.9 7.2 \n\" style=\"fill:none;stroke:#ffffff;stroke-linecap:square;stroke-linejoin:miter;stroke-width:1.25;\"/>\n   </g>\n  </g>\n </g>\n <defs>\n  <clipPath id=\"pcf1c321893\">\n   <rect height=\"217.44\" width=\"334.8\" x=\"54.1\" y=\"7.2\"/>\n  </clipPath>\n </defs>\n</svg>\n",
      "image/png": "[encoded data removed]"
     },
     "metadata": {
      "needs_background": "light"
     }
    }
   ],
   "metadata": {}
  },
  {
   "cell_type": "code",
   "execution_count": 131,
   "source": [
    "my_df.plot(grid=True);  # DataFrame 그래프"
   ],
   "outputs": [
    {
     "output_type": "display_data",
     "data": {
      "text/plain": [
       "<Figure size 432x288 with 1 Axes>"
      ],
      "image/svg+xml": "<?xml version=\"1.0\" encoding=\"utf-8\" standalone=\"no\"?>\n<!DOCTYPE svg PUBLIC \"-//W3C//DTD SVG 1.1//EN\"\n  \"http://www.w3.org/Graphics/SVG/1.1/DTD/svg11.dtd\">\n<svg height=\"251.857031pt\" version=\"1.1\" viewBox=\"0 0 416.301818 251.857031\" width=\"416.301818pt\" xmlns=\"http://www.w3.org/2000/svg\" xmlns:xlink=\"http://www.w3.org/1999/xlink\">\n <metadata>\n  <rdf:RDF xmlns:cc=\"http://creativecommons.org/ns#\" xmlns:dc=\"http://purl.org/dc/elements/1.1/\" xmlns:rdf=\"http://www.w3.org/1999/02/22-rdf-syntax-ns#\">\n   <cc:Work>\n    <dc:type rdf:resource=\"http://purl.org/dc/dcmitype/StillImage\"/>\n    <dc:date>2021-08-23T11:42:11.706597</dc:date>\n    <dc:format>image/svg+xml</dc:format>\n    <dc:creator>\n     <cc:Agent>\n      <dc:title>Matplotlib v3.4.2, https://matplotlib.org/</dc:title>\n     </cc:Agent>\n    </dc:creator>\n   </cc:Work>\n  </rdf:RDF>\n </metadata>\n <defs>\n  <style type=\"text/css\">*{stroke-linecap:butt;stroke-linejoin:round;}</style>\n </defs>\n <g id=\"figure_1\">\n  <g id=\"patch_1\">\n   <path d=\"M 0 251.857031 \nL 416.301818 251.857031 \nL 416.301818 0 \nL 0 0 \nz\n\" style=\"fill:none;\"/>\n  </g>\n  <g id=\"axes_1\">\n   <g id=\"patch_2\">\n    <path d=\"M 54.1 224.64 \nL 388.9 224.64 \nL 388.9 7.2 \nL 54.1 7.2 \nz\n\" style=\"fill:#eaeaf2;\"/>\n   </g>\n   <g id=\"matplotlib.axis_1\">\n    <g id=\"xtick_1\">\n     <g id=\"line2d_1\">\n      <path clip-path=\"url(#p1e558fc0af)\" d=\"M 69.318182 224.64 \nL 69.318182 7.2 \n\" style=\"fill:none;stroke:#ffffff;stroke-linecap:round;\"/>\n     </g>\n     <g id=\"text_1\">\n      <!-- 2020-09-09 -->\n      <g style=\"fill:#262626;\" transform=\"translate(33.898182 242.764688)scale(0.11 -0.11)\">\n       <defs>\n        <path d=\"M 1101 429 \nL 3942 429 \nL 3942 0 \nL 653 0 \nL 653 205 \nQ 653 1018 1344 1664 \nQ 1670 1894 1990 2124 \nQ 2310 2355 2637 2592 \nQ 3334 3098 3334 3597 \nQ 3334 3994 3014 4218 \nQ 2867 4326 2694 4377 \nQ 2522 4429 2317 4429 \nQ 2016 4429 1741 4352 \nQ 1325 4224 883 3910 \nL 883 4435 \nQ 1325 4659 1667 4758 \nQ 2010 4858 2317 4858 \nQ 2963 4858 3405 4525 \nQ 3840 4198 3840 3622 \nQ 3840 2995 3168 2438 \nQ 2848 2214 2531 2000 \nQ 2214 1786 1894 1562 \nQ 1178 1024 1101 429 \nz\n\" id=\"AppleGothic-32\" transform=\"scale(0.015625)\"/>\n        <path d=\"M 2227 -83 \nQ 1414 -83 934 576 \nQ 461 1229 461 2387 \nQ 461 3552 973 4218 \nQ 1453 4858 2221 4858 \nQ 3027 4858 3482 4173 \nQ 3955 3494 3955 2394 \nQ 3955 1248 3462 582 \nQ 2976 -83 2227 -83 \nz\nM 2176 346 \nQ 2861 346 3200 992 \nQ 3462 1536 3462 2400 \nQ 3462 3315 3162 3859 \nQ 2822 4429 2214 4429 \nQ 1574 4429 1248 3821 \nQ 960 3283 960 2374 \nQ 960 1478 1248 941 \nQ 1574 346 2176 346 \nz\n\" id=\"AppleGothic-30\" transform=\"scale(0.015625)\"/>\n        <path d=\"M 256 1958 \nL 2349 1958 \nL 2349 1491 \nL 256 1491 \nL 256 1958 \nz\n\" id=\"AppleGothic-2d\" transform=\"scale(0.015625)\"/>\n        <path d=\"M 928 211 \nL 928 762 \nQ 1050 672 1155 601 \nQ 1261 531 1363 480 \nQ 1702 320 2016 320 \nQ 2291 320 2541 435 \nQ 2739 525 2908 675 \nQ 3078 826 3213 1037 \nQ 3456 1408 3552 1843 \nQ 3616 2144 3616 2573 \nQ 3315 2272 3066 2125 \nQ 2605 1850 2093 1850 \nQ 1459 1850 1037 2214 \nQ 589 2598 589 3270 \nQ 589 3987 1082 4416 \nQ 1549 4832 2234 4832 \nQ 2970 4832 3494 4301 \nQ 4122 3661 4122 2528 \nQ 4122 1325 3475 582 \nQ 2874 -109 2035 -109 \nQ 1722 -109 1357 19 \nQ 1254 51 1148 102 \nQ 1043 154 928 211 \nz\nM 3578 3066 \nQ 3462 3718 3053 4077 \nQ 2675 4403 2227 4403 \nQ 1715 4403 1402 4083 \nQ 1082 3750 1082 3302 \nQ 1082 2861 1370 2566 \nQ 1658 2278 2125 2278 \nQ 2573 2278 2915 2473 \nQ 3258 2669 3578 3066 \nz\n\" id=\"AppleGothic-39\" transform=\"scale(0.015625)\"/>\n       </defs>\n       <use xlink:href=\"#AppleGothic-32\"/>\n       <use x=\"67.999985\" xlink:href=\"#AppleGothic-30\"/>\n       <use x=\"135.999969\" xlink:href=\"#AppleGothic-32\"/>\n       <use x=\"203.999954\" xlink:href=\"#AppleGothic-30\"/>\n       <use x=\"271.999939\" xlink:href=\"#AppleGothic-2d\"/>\n       <use x=\"321.999924\" xlink:href=\"#AppleGothic-30\"/>\n       <use x=\"389.999908\" xlink:href=\"#AppleGothic-39\"/>\n       <use x=\"457.999893\" xlink:href=\"#AppleGothic-2d\"/>\n       <use x=\"507.999878\" xlink:href=\"#AppleGothic-30\"/>\n       <use x=\"575.999863\" xlink:href=\"#AppleGothic-39\"/>\n      </g>\n     </g>\n    </g>\n    <g id=\"xtick_2\">\n     <g id=\"line2d_2\">\n      <path clip-path=\"url(#p1e558fc0af)\" d=\"M 112.798701 224.64 \nL 112.798701 7.2 \n\" style=\"fill:none;stroke:#ffffff;stroke-linecap:round;\"/>\n     </g>\n     <g id=\"text_2\">\n      <!-- 2020-09-10 -->\n      <g style=\"fill:#262626;\" transform=\"translate(77.378701 242.764688)scale(0.11 -0.11)\">\n       <defs>\n        <path d=\"M 2342 4774 \nL 2752 4774 \nL 2752 0 \nL 2285 0 \nL 2285 3526 \nL 1158 3526 \nL 1158 3885 \nL 1414 3885 \nQ 1990 3885 2214 4205 \nQ 2342 4410 2342 4774 \nz\n\" id=\"AppleGothic-31\" transform=\"scale(0.015625)\"/>\n       </defs>\n       <use xlink:href=\"#AppleGothic-32\"/>\n       <use x=\"67.999985\" xlink:href=\"#AppleGothic-30\"/>\n       <use x=\"135.999969\" xlink:href=\"#AppleGothic-32\"/>\n       <use x=\"203.999954\" xlink:href=\"#AppleGothic-30\"/>\n       <use x=\"271.999939\" xlink:href=\"#AppleGothic-2d\"/>\n       <use x=\"321.999924\" xlink:href=\"#AppleGothic-30\"/>\n       <use x=\"389.999908\" xlink:href=\"#AppleGothic-39\"/>\n       <use x=\"457.999893\" xlink:href=\"#AppleGothic-2d\"/>\n       <use x=\"507.999878\" xlink:href=\"#AppleGothic-31\"/>\n       <use x=\"575.999863\" xlink:href=\"#AppleGothic-30\"/>\n      </g>\n     </g>\n    </g>\n    <g id=\"xtick_3\">\n     <g id=\"line2d_3\">\n      <path clip-path=\"url(#p1e558fc0af)\" d=\"M 156.279221 224.64 \nL 156.279221 7.2 \n\" style=\"fill:none;stroke:#ffffff;stroke-linecap:round;\"/>\n     </g>\n     <g id=\"text_3\">\n      <!-- 2020-09-11 -->\n      <g style=\"fill:#262626;\" transform=\"translate(120.859221 242.764688)scale(0.11 -0.11)\">\n       <use xlink:href=\"#AppleGothic-32\"/>\n       <use x=\"67.999985\" xlink:href=\"#AppleGothic-30\"/>\n       <use x=\"135.999969\" xlink:href=\"#AppleGothic-32\"/>\n       <use x=\"203.999954\" xlink:href=\"#AppleGothic-30\"/>\n       <use x=\"271.999939\" xlink:href=\"#AppleGothic-2d\"/>\n       <use x=\"321.999924\" xlink:href=\"#AppleGothic-30\"/>\n       <use x=\"389.999908\" xlink:href=\"#AppleGothic-39\"/>\n       <use x=\"457.999893\" xlink:href=\"#AppleGothic-2d\"/>\n       <use x=\"507.999878\" xlink:href=\"#AppleGothic-31\"/>\n       <use x=\"575.999863\" xlink:href=\"#AppleGothic-31\"/>\n      </g>\n     </g>\n    </g>\n    <g id=\"xtick_4\">\n     <g id=\"line2d_4\">\n      <path clip-path=\"url(#p1e558fc0af)\" d=\"M 199.75974 224.64 \nL 199.75974 7.2 \n\" style=\"fill:none;stroke:#ffffff;stroke-linecap:round;\"/>\n     </g>\n     <g id=\"text_4\">\n      <!-- 2020-09-14 -->\n      <g style=\"fill:#262626;\" transform=\"translate(164.33974 242.764688)scale(0.11 -0.11)\">\n       <defs>\n        <path d=\"M 2662 4774 \nL 3130 4774 \nL 3130 1811 \nL 4000 1811 \nL 4000 1382 \nL 3130 1382 \nL 3130 0 \nL 2662 0 \nL 2662 1382 \nL 352 1382 \nL 352 1811 \nL 2662 4774 \nz\nM 2662 1811 \nL 2662 4166 \nL 838 1811 \nL 2662 1811 \nz\n\" id=\"AppleGothic-34\" transform=\"scale(0.015625)\"/>\n       </defs>\n       <use xlink:href=\"#AppleGothic-32\"/>\n       <use x=\"67.999985\" xlink:href=\"#AppleGothic-30\"/>\n       <use x=\"135.999969\" xlink:href=\"#AppleGothic-32\"/>\n       <use x=\"203.999954\" xlink:href=\"#AppleGothic-30\"/>\n       <use x=\"271.999939\" xlink:href=\"#AppleGothic-2d\"/>\n       <use x=\"321.999924\" xlink:href=\"#AppleGothic-30\"/>\n       <use x=\"389.999908\" xlink:href=\"#AppleGothic-39\"/>\n       <use x=\"457.999893\" xlink:href=\"#AppleGothic-2d\"/>\n       <use x=\"507.999878\" xlink:href=\"#AppleGothic-31\"/>\n       <use x=\"575.999863\" xlink:href=\"#AppleGothic-34\"/>\n      </g>\n     </g>\n    </g>\n    <g id=\"xtick_5\">\n     <g id=\"line2d_5\">\n      <path clip-path=\"url(#p1e558fc0af)\" d=\"M 243.24026 224.64 \nL 243.24026 7.2 \n\" style=\"fill:none;stroke:#ffffff;stroke-linecap:round;\"/>\n     </g>\n     <g id=\"text_5\">\n      <!-- 2020-09-15 -->\n      <g style=\"fill:#262626;\" transform=\"translate(207.82026 242.764688)scale(0.11 -0.11)\">\n       <defs>\n        <path d=\"M 621 4768 \nL 3488 4768 \nL 3488 4339 \nL 1088 4339 \nL 1088 2707 \nQ 1184 2771 1293 2819 \nQ 1402 2867 1510 2912 \nQ 1862 3040 2259 3040 \nQ 2989 3040 3424 2605 \nQ 3827 2202 3827 1581 \nQ 3827 870 3296 397 \nQ 2765 -83 2010 -83 \nQ 1651 -83 1248 45 \nQ 1158 77 1001 137 \nQ 845 198 621 301 \nL 621 838 \nQ 928 640 1203 525 \nQ 1408 435 1613 390 \nQ 1818 346 2010 346 \nQ 2528 346 2906 666 \nQ 3322 1011 3322 1536 \nQ 3322 1990 3021 2291 \nQ 2701 2611 2144 2611 \nQ 1856 2611 1587 2528 \nQ 1318 2445 1088 2272 \nL 621 2272 \nL 621 4768 \nz\n\" id=\"AppleGothic-35\" transform=\"scale(0.015625)\"/>\n       </defs>\n       <use xlink:href=\"#AppleGothic-32\"/>\n       <use x=\"67.999985\" xlink:href=\"#AppleGothic-30\"/>\n       <use x=\"135.999969\" xlink:href=\"#AppleGothic-32\"/>\n       <use x=\"203.999954\" xlink:href=\"#AppleGothic-30\"/>\n       <use x=\"271.999939\" xlink:href=\"#AppleGothic-2d\"/>\n       <use x=\"321.999924\" xlink:href=\"#AppleGothic-30\"/>\n       <use x=\"389.999908\" xlink:href=\"#AppleGothic-39\"/>\n       <use x=\"457.999893\" xlink:href=\"#AppleGothic-2d\"/>\n       <use x=\"507.999878\" xlink:href=\"#AppleGothic-31\"/>\n       <use x=\"575.999863\" xlink:href=\"#AppleGothic-35\"/>\n      </g>\n     </g>\n    </g>\n    <g id=\"xtick_6\">\n     <g id=\"line2d_6\">\n      <path clip-path=\"url(#p1e558fc0af)\" d=\"M 286.720779 224.64 \nL 286.720779 7.2 \n\" style=\"fill:none;stroke:#ffffff;stroke-linecap:round;\"/>\n     </g>\n     <g id=\"text_6\">\n      <!-- 2020-09-16 -->\n      <g style=\"fill:#262626;\" transform=\"translate(251.300779 242.764688)scale(0.11 -0.11)\">\n       <defs>\n        <path d=\"M 3699 4557 \nL 3699 4013 \nQ 3584 4102 3475 4163 \nQ 3366 4224 3258 4275 \nQ 3085 4358 2918 4393 \nQ 2752 4429 2586 4429 \nQ 2470 4429 2352 4409 \nQ 2234 4390 2118 4339 \nQ 1670 4154 1395 3738 \nQ 1011 3149 1011 2189 \nQ 1312 2490 1568 2656 \nQ 2022 2931 2534 2931 \nQ 3162 2931 3584 2566 \nQ 4038 2163 4038 1491 \nQ 4038 806 3558 358 \nQ 3078 -83 2394 -83 \nQ 1670 -83 1146 454 \nQ 518 1088 518 2253 \nQ 518 3411 1120 4134 \nQ 1715 4858 2605 4858 \nQ 2938 4858 3226 4762 \nQ 3309 4730 3427 4682 \nQ 3546 4634 3699 4557 \nz\nM 1062 1702 \nQ 1152 1152 1498 768 \nQ 1882 346 2419 346 \nQ 2899 346 3213 659 \nQ 3539 973 3539 1459 \nQ 3539 1920 3226 2214 \nQ 2918 2502 2496 2502 \nQ 1990 2502 1542 2176 \nQ 1414 2080 1292 1965 \nQ 1171 1850 1062 1702 \nz\n\" id=\"AppleGothic-36\" transform=\"scale(0.015625)\"/>\n       </defs>\n       <use xlink:href=\"#AppleGothic-32\"/>\n       <use x=\"67.999985\" xlink:href=\"#AppleGothic-30\"/>\n       <use x=\"135.999969\" xlink:href=\"#AppleGothic-32\"/>\n       <use x=\"203.999954\" xlink:href=\"#AppleGothic-30\"/>\n       <use x=\"271.999939\" xlink:href=\"#AppleGothic-2d\"/>\n       <use x=\"321.999924\" xlink:href=\"#AppleGothic-30\"/>\n       <use x=\"389.999908\" xlink:href=\"#AppleGothic-39\"/>\n       <use x=\"457.999893\" xlink:href=\"#AppleGothic-2d\"/>\n       <use x=\"507.999878\" xlink:href=\"#AppleGothic-31\"/>\n       <use x=\"575.999863\" xlink:href=\"#AppleGothic-36\"/>\n      </g>\n     </g>\n    </g>\n    <g id=\"xtick_7\">\n     <g id=\"line2d_7\">\n      <path clip-path=\"url(#p1e558fc0af)\" d=\"M 330.201299 224.64 \nL 330.201299 7.2 \n\" style=\"fill:none;stroke:#ffffff;stroke-linecap:round;\"/>\n     </g>\n     <g id=\"text_7\">\n      <!-- 2020-09-17 -->\n      <g style=\"fill:#262626;\" transform=\"translate(294.781299 242.764688)scale(0.11 -0.11)\">\n       <defs>\n        <path d=\"M 595 4774 \nL 3802 4774 \nL 3802 4410 \nL 1734 0 \nL 1235 0 \nL 3277 4352 \nL 595 4352 \nL 595 4774 \nz\n\" id=\"AppleGothic-37\" transform=\"scale(0.015625)\"/>\n       </defs>\n       <use xlink:href=\"#AppleGothic-32\"/>\n       <use x=\"67.999985\" xlink:href=\"#AppleGothic-30\"/>\n       <use x=\"135.999969\" xlink:href=\"#AppleGothic-32\"/>\n       <use x=\"203.999954\" xlink:href=\"#AppleGothic-30\"/>\n       <use x=\"271.999939\" xlink:href=\"#AppleGothic-2d\"/>\n       <use x=\"321.999924\" xlink:href=\"#AppleGothic-30\"/>\n       <use x=\"389.999908\" xlink:href=\"#AppleGothic-39\"/>\n       <use x=\"457.999893\" xlink:href=\"#AppleGothic-2d\"/>\n       <use x=\"507.999878\" xlink:href=\"#AppleGothic-31\"/>\n       <use x=\"575.999863\" xlink:href=\"#AppleGothic-37\"/>\n      </g>\n     </g>\n    </g>\n    <g id=\"xtick_8\">\n     <g id=\"line2d_8\">\n      <path clip-path=\"url(#p1e558fc0af)\" d=\"M 373.681818 224.64 \nL 373.681818 7.2 \n\" style=\"fill:none;stroke:#ffffff;stroke-linecap:round;\"/>\n     </g>\n     <g id=\"text_8\">\n      <!-- 2020-09-18 -->\n      <g style=\"fill:#262626;\" transform=\"translate(338.261818 242.764688)scale(0.11 -0.11)\">\n       <defs>\n        <path d=\"M 2957 2605 \nQ 3219 2528 3404 2445 \nQ 3590 2362 3706 2272 \nQ 4192 1926 4192 1370 \nQ 4192 749 3642 333 \nQ 3098 -83 2285 -83 \nQ 1434 -83 947 326 \nQ 512 691 512 1229 \nQ 512 1798 998 2125 \nQ 1146 2227 1341 2304 \nQ 1536 2381 1779 2451 \nQ 1574 2534 1430 2617 \nQ 1286 2701 1197 2784 \nQ 819 3104 819 3603 \nQ 819 4173 1261 4512 \nQ 1702 4858 2381 4858 \nQ 3014 4858 3437 4570 \nQ 3898 4262 3898 3738 \nQ 3898 3373 3670 3081 \nQ 3443 2790 2957 2605 \nz\nM 2406 2752 \nQ 2624 2835 2781 2915 \nQ 2938 2995 3040 3066 \nQ 3398 3322 3398 3667 \nQ 3398 3994 3104 4205 \nQ 2822 4429 2362 4429 \nQ 1894 4429 1613 4205 \nQ 1325 3994 1325 3635 \nQ 1325 3322 1581 3098 \nQ 1696 3002 1901 2912 \nQ 2106 2822 2406 2752 \nz\nM 2368 2304 \nQ 2061 2202 1840 2106 \nQ 1619 2010 1472 1920 \nQ 1011 1626 1011 1235 \nQ 1011 845 1376 595 \nQ 1728 346 2310 346 \nQ 2938 346 3315 640 \nQ 3693 934 3693 1338 \nQ 3693 1741 3238 1997 \nQ 3104 2067 2886 2147 \nQ 2669 2227 2368 2304 \nz\n\" id=\"AppleGothic-38\" transform=\"scale(0.015625)\"/>\n       </defs>\n       <use xlink:href=\"#AppleGothic-32\"/>\n       <use x=\"67.999985\" xlink:href=\"#AppleGothic-30\"/>\n       <use x=\"135.999969\" xlink:href=\"#AppleGothic-32\"/>\n       <use x=\"203.999954\" xlink:href=\"#AppleGothic-30\"/>\n       <use x=\"271.999939\" xlink:href=\"#AppleGothic-2d\"/>\n       <use x=\"321.999924\" xlink:href=\"#AppleGothic-30\"/>\n       <use x=\"389.999908\" xlink:href=\"#AppleGothic-39\"/>\n       <use x=\"457.999893\" xlink:href=\"#AppleGothic-2d\"/>\n       <use x=\"507.999878\" xlink:href=\"#AppleGothic-31\"/>\n       <use x=\"575.999863\" xlink:href=\"#AppleGothic-38\"/>\n      </g>\n     </g>\n    </g>\n   </g>\n   <g id=\"matplotlib.axis_2\">\n    <g id=\"ytick_1\">\n     <g id=\"line2d_9\">\n      <path clip-path=\"url(#p1e558fc0af)\" d=\"M 54.1 216.954948 \nL 388.9 216.954948 \n\" style=\"fill:none;stroke:#ffffff;stroke-linecap:round;\"/>\n     </g>\n     <g id=\"text_9\">\n      <!-- 0 -->\n      <g style=\"fill:#262626;\" transform=\"translate(37.12 221.267292)scale(0.11 -0.11)\">\n       <use xlink:href=\"#AppleGothic-30\"/>\n      </g>\n     </g>\n    </g>\n    <g id=\"ytick_2\">\n     <g id=\"line2d_10\">\n      <path clip-path=\"url(#p1e558fc0af)\" d=\"M 54.1 184.189159 \nL 388.9 184.189159 \n\" style=\"fill:none;stroke:#ffffff;stroke-linecap:round;\"/>\n     </g>\n     <g id=\"text_10\">\n      <!-- 10000 -->\n      <g style=\"fill:#262626;\" transform=\"translate(7.2 188.501503)scale(0.11 -0.11)\">\n       <use xlink:href=\"#AppleGothic-31\"/>\n       <use x=\"67.999985\" xlink:href=\"#AppleGothic-30\"/>\n       <use x=\"135.999969\" xlink:href=\"#AppleGothic-30\"/>\n       <use x=\"203.999954\" xlink:href=\"#AppleGothic-30\"/>\n       <use x=\"271.999939\" xlink:href=\"#AppleGothic-30\"/>\n      </g>\n     </g>\n    </g>\n    <g id=\"ytick_3\">\n     <g id=\"line2d_11\">\n      <path clip-path=\"url(#p1e558fc0af)\" d=\"M 54.1 151.42337 \nL 388.9 151.42337 \n\" style=\"fill:none;stroke:#ffffff;stroke-linecap:round;\"/>\n     </g>\n     <g id=\"text_11\">\n      <!-- 20000 -->\n      <g style=\"fill:#262626;\" transform=\"translate(7.2 155.735714)scale(0.11 -0.11)\">\n       <use xlink:href=\"#AppleGothic-32\"/>\n       <use x=\"67.999985\" xlink:href=\"#AppleGothic-30\"/>\n       <use x=\"135.999969\" xlink:href=\"#AppleGothic-30\"/>\n       <use x=\"203.999954\" xlink:href=\"#AppleGothic-30\"/>\n       <use x=\"271.999939\" xlink:href=\"#AppleGothic-30\"/>\n      </g>\n     </g>\n    </g>\n    <g id=\"ytick_4\">\n     <g id=\"line2d_12\">\n      <path clip-path=\"url(#p1e558fc0af)\" d=\"M 54.1 118.657582 \nL 388.9 118.657582 \n\" style=\"fill:none;stroke:#ffffff;stroke-linecap:round;\"/>\n     </g>\n     <g id=\"text_12\">\n      <!-- 30000 -->\n      <g style=\"fill:#262626;\" transform=\"translate(7.2 122.969925)scale(0.11 -0.11)\">\n       <defs>\n        <path d=\"M 550 333 \nL 550 870 \nQ 883 621 1235 483 \nQ 1587 346 1971 346 \nQ 2522 346 2861 666 \nQ 3219 992 3219 1421 \nQ 3219 1869 2842 2099 \nQ 2515 2304 1965 2304 \nL 992 2304 \nL 992 2701 \nL 1658 2701 \nQ 2298 2701 2662 2928 \nQ 3027 3155 3027 3584 \nQ 3027 3936 2752 4173 \nQ 2458 4429 1978 4429 \nQ 1786 4429 1597 4393 \nQ 1408 4358 1222 4282 \nQ 890 4141 531 3872 \nL 531 4422 \nQ 736 4531 912 4608 \nQ 1088 4685 1254 4736 \nQ 1626 4858 2022 4858 \nQ 2650 4858 3066 4531 \nQ 3488 4211 3488 3642 \nQ 3488 3168 3168 2861 \nQ 2976 2675 2643 2554 \nQ 2874 2522 3053 2448 \nQ 3232 2374 3366 2266 \nQ 3718 1971 3718 1434 \nQ 3718 813 3219 365 \nQ 2714 -83 1965 -83 \nQ 1549 -83 1126 70 \nQ 1024 102 880 166 \nQ 736 230 550 333 \nz\n\" id=\"AppleGothic-33\" transform=\"scale(0.015625)\"/>\n       </defs>\n       <use xlink:href=\"#AppleGothic-33\"/>\n       <use x=\"67.999985\" xlink:href=\"#AppleGothic-30\"/>\n       <use x=\"135.999969\" xlink:href=\"#AppleGothic-30\"/>\n       <use x=\"203.999954\" xlink:href=\"#AppleGothic-30\"/>\n       <use x=\"271.999939\" xlink:href=\"#AppleGothic-30\"/>\n      </g>\n     </g>\n    </g>\n    <g id=\"ytick_5\">\n     <g id=\"line2d_13\">\n      <path clip-path=\"url(#p1e558fc0af)\" d=\"M 54.1 85.891793 \nL 388.9 85.891793 \n\" style=\"fill:none;stroke:#ffffff;stroke-linecap:round;\"/>\n     </g>\n     <g id=\"text_13\">\n      <!-- 40000 -->\n      <g style=\"fill:#262626;\" transform=\"translate(7.2 90.204137)scale(0.11 -0.11)\">\n       <use xlink:href=\"#AppleGothic-34\"/>\n       <use x=\"67.999985\" xlink:href=\"#AppleGothic-30\"/>\n       <use x=\"135.999969\" xlink:href=\"#AppleGothic-30\"/>\n       <use x=\"203.999954\" xlink:href=\"#AppleGothic-30\"/>\n       <use x=\"271.999939\" xlink:href=\"#AppleGothic-30\"/>\n      </g>\n     </g>\n    </g>\n    <g id=\"ytick_6\">\n     <g id=\"line2d_14\">\n      <path clip-path=\"url(#p1e558fc0af)\" d=\"M 54.1 53.126004 \nL 388.9 53.126004 \n\" style=\"fill:none;stroke:#ffffff;stroke-linecap:round;\"/>\n     </g>\n     <g id=\"text_14\">\n      <!-- 50000 -->\n      <g style=\"fill:#262626;\" transform=\"translate(7.2 57.438348)scale(0.11 -0.11)\">\n       <use xlink:href=\"#AppleGothic-35\"/>\n       <use x=\"67.999985\" xlink:href=\"#AppleGothic-30\"/>\n       <use x=\"135.999969\" xlink:href=\"#AppleGothic-30\"/>\n       <use x=\"203.999954\" xlink:href=\"#AppleGothic-30\"/>\n       <use x=\"271.999939\" xlink:href=\"#AppleGothic-30\"/>\n      </g>\n     </g>\n    </g>\n    <g id=\"ytick_7\">\n     <g id=\"line2d_15\">\n      <path clip-path=\"url(#p1e558fc0af)\" d=\"M 54.1 20.360215 \nL 388.9 20.360215 \n\" style=\"fill:none;stroke:#ffffff;stroke-linecap:round;\"/>\n     </g>\n     <g id=\"text_15\">\n      <!-- 60000 -->\n      <g style=\"fill:#262626;\" transform=\"translate(7.2 24.672559)scale(0.11 -0.11)\">\n       <use xlink:href=\"#AppleGothic-36\"/>\n       <use x=\"67.999985\" xlink:href=\"#AppleGothic-30\"/>\n       <use x=\"135.999969\" xlink:href=\"#AppleGothic-30\"/>\n       <use x=\"203.999954\" xlink:href=\"#AppleGothic-30\"/>\n       <use x=\"271.999939\" xlink:href=\"#AppleGothic-30\"/>\n      </g>\n     </g>\n    </g>\n   </g>\n   <g id=\"line2d_16\">\n    <path clip-path=\"url(#p1e558fc0af)\" d=\"M 69.318182 25.602741 \nL 112.798701 22.981478 \nL 156.279221 23.636794 \nL 199.75974 19.049584 \nL 243.24026 17.083636 \nL 286.720779 17.083636 \nL 330.201299 21.998505 \nL 373.681818 22.65382 \n\" style=\"fill:none;stroke:#4c72b0;stroke-linecap:round;stroke-width:1.5;\"/>\n   </g>\n   <g id=\"line2d_17\">\n    <path clip-path=\"url(#p1e558fc0af)\" d=\"M 69.318182 186.843188 \nL 112.798701 186.548296 \nL 156.279221 186.581062 \nL 199.75974 186.253404 \nL 243.24026 185.925746 \nL 286.720779 185.729151 \nL 330.201299 186.417233 \nL 373.681818 186.417233 \n\" style=\"fill:none;stroke:#dd8452;stroke-linecap:round;stroke-width:1.5;\"/>\n   </g>\n   <g id=\"line2d_18\">\n    <path clip-path=\"url(#p1e558fc0af)\" d=\"M 69.318182 187.203612 \nL 112.798701 186.548296 \nL 156.279221 186.28617 \nL 199.75974 186.155107 \nL 243.24026 186.187872 \nL 286.720779 187.203612 \nL 330.201299 187.858928 \nL 373.681818 187.236378 \n\" style=\"fill:none;stroke:#55a868;stroke-linecap:round;stroke-width:1.5;\"/>\n   </g>\n   <g id=\"line2d_19\">\n    <path clip-path=\"url(#p1e558fc0af)\" d=\"M 69.318182 180.91258 \nL 112.798701 180.421094 \nL 156.279221 180.748751 \nL 199.75974 180.257265 \nL 243.24026 179.765778 \nL 286.720779 180.093436 \nL 330.201299 180.91258 \nL 373.681818 181.404067 \n\" style=\"fill:none;stroke:#c44e52;stroke-linecap:round;stroke-width:1.5;\"/>\n   </g>\n   <g id=\"line2d_20\">\n    <path clip-path=\"url(#p1e558fc0af)\" d=\"M 69.318182 214.756364 \nL 112.798701 214.756364 \nL 156.279221 214.756364 \nL 199.75974 214.756364 \nL 243.24026 214.756364 \nL 286.720779 214.756364 \nL 330.201299 214.756364 \nL 373.681818 214.756364 \n\" style=\"fill:none;stroke:#8172b3;stroke-linecap:round;stroke-width:1.5;\"/>\n   </g>\n   <g id=\"line2d_21\">\n    <path clip-path=\"url(#p1e558fc0af)\" d=\"M 69.318182 190.775083 \nL 112.798701 190.87338 \nL 156.279221 190.349128 \nL 199.75974 190.087001 \nL 243.24026 190.152533 \nL 286.720779 190.152533 \nL 330.201299 190.742317 \nL 373.681818 190.676785 \n\" style=\"fill:none;stroke:#937860;stroke-linecap:round;stroke-width:1.5;\"/>\n   </g>\n   <g id=\"patch_3\">\n    <path d=\"M 54.1 224.64 \nL 54.1 7.2 \n\" style=\"fill:none;stroke:#ffffff;stroke-linecap:square;stroke-linejoin:miter;stroke-width:1.25;\"/>\n   </g>\n   <g id=\"patch_4\">\n    <path d=\"M 388.9 224.64 \nL 388.9 7.2 \n\" style=\"fill:none;stroke:#ffffff;stroke-linecap:square;stroke-linejoin:miter;stroke-width:1.25;\"/>\n   </g>\n   <g id=\"patch_5\">\n    <path d=\"M 54.1 224.64 \nL 388.9 224.64 \n\" style=\"fill:none;stroke:#ffffff;stroke-linecap:square;stroke-linejoin:miter;stroke-width:1.25;\"/>\n   </g>\n   <g id=\"patch_6\">\n    <path d=\"M 54.1 7.2 \nL 388.9 7.2 \n\" style=\"fill:none;stroke:#ffffff;stroke-linecap:square;stroke-linejoin:miter;stroke-width:1.25;\"/>\n   </g>\n   <g id=\"legend_1\">\n    <g id=\"patch_7\">\n     <path d=\"M 293.134688 174.208906 \nL 381.2 174.208906 \nQ 383.4 174.208906 383.4 172.008906 \nL 383.4 59.831094 \nQ 383.4 57.631094 381.2 57.631094 \nL 293.134688 57.631094 \nQ 290.934688 57.631094 290.934688 59.831094 \nL 290.934688 172.008906 \nQ 290.934688 174.208906 293.134688 174.208906 \nz\n\" style=\"fill:#eaeaf2;opacity:0.8;stroke:#cccccc;stroke-linejoin:miter;\"/>\n    </g>\n    <g id=\"text_16\">\n     <!-- Symbol -->\n     <g style=\"fill:#262626;\" transform=\"translate(316.802969 71.595469)scale(0.12 -0.12)\">\n      <defs>\n       <path d=\"M 3418 4666 \nL 3418 4019 \nQ 3251 4160 3081 4269 \nQ 2912 4378 2746 4448 \nQ 2362 4627 1965 4627 \nQ 1466 4627 1139 4378 \nQ 806 4122 806 3770 \nQ 806 3258 1562 3002 \nQ 1914 2880 2262 2768 \nQ 2611 2656 2970 2541 \nQ 3731 2176 3731 1453 \nQ 3731 749 3187 320 \nQ 2669 -83 1901 -83 \nQ 1389 -83 915 115 \nQ 640 224 262 474 \nL 262 1126 \nQ 755 685 1261 506 \nQ 1427 442 1587 416 \nQ 1747 390 1907 390 \nQ 2419 390 2771 646 \nQ 3162 928 3162 1382 \nQ 3162 1933 2419 2221 \nQ 2061 2330 1715 2445 \nQ 1370 2560 1024 2669 \nQ 275 3014 275 3731 \nQ 275 4333 749 4710 \nQ 1235 5101 1965 5101 \nQ 2413 5101 2861 4934 \nQ 3091 4858 3418 4666 \nz\n\" id=\"AppleGothic-53\" transform=\"scale(0.015625)\"/>\n       <path d=\"M 179 3424 \nL 691 3424 \nL 1869 531 \nL 2874 3424 \nL 3379 3424 \nL 1952 -397 \nQ 1798 -806 1555 -979 \nQ 1338 -1126 1037 -1126 \nQ 883 -1126 780 -1104 \nQ 678 -1082 582 -1043 \nL 582 -602 \nQ 672 -646 784 -678 \nQ 896 -710 986 -710 \nQ 1210 -710 1334 -595 \nQ 1459 -480 1555 -230 \nL 1632 32 \nL 179 3424 \nz\n\" id=\"AppleGothic-79\" transform=\"scale(0.015625)\"/>\n       <path d=\"M 5389 2195 \nL 5389 0 \nL 4922 0 \nL 4922 2304 \nQ 4922 2669 4672 2893 \nQ 4461 3085 4173 3085 \nQ 3744 3085 3405 2688 \nQ 3072 2298 3072 1722 \nL 3072 0 \nL 2605 0 \nL 2605 2304 \nQ 2605 2650 2368 2861 \nQ 2144 3085 1856 3085 \nQ 1440 3085 1114 2714 \nQ 755 2304 755 1702 \nL 755 0 \nL 288 0 \nL 288 3424 \nL 723 3424 \nL 742 2880 \nQ 928 3181 1274 3354 \nQ 1581 3501 1894 3501 \nQ 2381 3501 2714 3219 \nQ 2957 3008 3021 2797 \nQ 3149 3034 3386 3226 \nQ 3757 3501 4205 3501 \nQ 4749 3501 5050 3174 \nQ 5389 2803 5389 2195 \nz\n\" id=\"AppleGothic-6d\" transform=\"scale(0.015625)\"/>\n       <path d=\"M 288 5018 \nL 755 5018 \nL 755 2848 \nQ 845 2982 931 3078 \nQ 1018 3174 1107 3245 \nQ 1440 3501 1882 3501 \nQ 2547 3501 2976 2995 \nQ 3418 2483 3418 1754 \nQ 3418 1005 2976 480 \nQ 2502 -83 1792 -83 \nQ 1402 -83 1114 90 \nQ 928 192 755 384 \nL 634 0 \nL 288 0 \nL 288 5018 \nz\nM 755 1862 \nL 755 870 \nQ 845 762 934 678 \nQ 1024 595 1101 538 \nQ 1382 339 1741 339 \nQ 2234 339 2554 742 \nQ 2874 1158 2874 1747 \nQ 2874 2362 2515 2752 \nQ 2208 3085 1805 3085 \nQ 1370 3085 1056 2714 \nQ 755 2355 755 1862 \nz\n\" id=\"AppleGothic-62\" transform=\"scale(0.015625)\"/>\n       <path d=\"M 1888 -83 \nQ 1229 -83 730 397 \nQ 198 902 198 1709 \nQ 198 2470 666 2982 \nQ 1146 3501 1850 3501 \nQ 2547 3501 3027 2982 \nQ 3501 2470 3501 1715 \nQ 3501 922 2989 403 \nQ 2515 -83 1888 -83 \nz\nM 1843 339 \nQ 2304 339 2662 723 \nQ 3008 1114 3008 1715 \nQ 3008 2336 2637 2726 \nQ 2298 3085 1850 3085 \nQ 1389 3085 1062 2714 \nQ 704 2304 704 1709 \nQ 704 1107 1056 704 \nQ 1382 339 1843 339 \nz\n\" id=\"AppleGothic-6f\" transform=\"scale(0.015625)\"/>\n       <path d=\"M 288 5018 \nL 749 5018 \nL 749 0 \nL 288 0 \nL 288 5018 \nz\n\" id=\"AppleGothic-6c\" transform=\"scale(0.015625)\"/>\n      </defs>\n      <use xlink:href=\"#AppleGothic-53\"/>\n      <use x=\"63.199997\" xlink:href=\"#AppleGothic-79\"/>\n      <use x=\"118.899994\" xlink:href=\"#AppleGothic-6d\"/>\n      <use x=\"208.199982\" xlink:href=\"#AppleGothic-62\"/>\n      <use x=\"264.399979\" xlink:href=\"#AppleGothic-6f\"/>\n      <use x=\"322.699966\" xlink:href=\"#AppleGothic-6c\"/>\n     </g>\n    </g>\n    <g id=\"line2d_22\">\n     <path d=\"M 295.334688 83.981406 \nL 317.334688 83.981406 \n\" style=\"fill:none;stroke:#4c72b0;stroke-linecap:round;stroke-width:1.5;\"/>\n    </g>\n    <g id=\"line2d_23\"/>\n    <g id=\"text_17\">\n     <!-- A005930 -->\n     <g style=\"fill:#262626;\" transform=\"translate(326.134688 87.831406)scale(0.11 -0.11)\">\n      <defs>\n       <path d=\"M 2086 5018 \nL 2579 5018 \nL 4448 0 \nL 3859 0 \nL 3258 1715 \nL 1350 1715 \nL 723 0 \nL 166 0 \nL 2086 5018 \nz\nM 3117 2157 \nL 2342 4416 \nL 1504 2157 \nL 3117 2157 \nz\n\" id=\"AppleGothic-41\" transform=\"scale(0.015625)\"/>\n      </defs>\n      <use xlink:href=\"#AppleGothic-41\"/>\n      <use x=\"72.599991\" xlink:href=\"#AppleGothic-30\"/>\n      <use x=\"140.599976\" xlink:href=\"#AppleGothic-30\"/>\n      <use x=\"208.59996\" xlink:href=\"#AppleGothic-35\"/>\n      <use x=\"276.599945\" xlink:href=\"#AppleGothic-39\"/>\n      <use x=\"344.59993\" xlink:href=\"#AppleGothic-33\"/>\n      <use x=\"412.599915\" xlink:href=\"#AppleGothic-30\"/>\n     </g>\n    </g>\n    <g id=\"line2d_24\">\n     <path d=\"M 295.334688 99.998437 \nL 317.334688 99.998437 \n\" style=\"fill:none;stroke:#dd8452;stroke-linecap:round;stroke-width:1.5;\"/>\n    </g>\n    <g id=\"line2d_25\"/>\n    <g id=\"text_18\">\n     <!-- A005940 -->\n     <g style=\"fill:#262626;\" transform=\"translate(326.134688 103.848437)scale(0.11 -0.11)\">\n      <use xlink:href=\"#AppleGothic-41\"/>\n      <use x=\"72.599991\" xlink:href=\"#AppleGothic-30\"/>\n      <use x=\"140.599976\" xlink:href=\"#AppleGothic-30\"/>\n      <use x=\"208.59996\" xlink:href=\"#AppleGothic-35\"/>\n      <use x=\"276.599945\" xlink:href=\"#AppleGothic-39\"/>\n      <use x=\"344.59993\" xlink:href=\"#AppleGothic-34\"/>\n      <use x=\"412.599915\" xlink:href=\"#AppleGothic-30\"/>\n     </g>\n    </g>\n    <g id=\"line2d_26\">\n     <path d=\"M 295.334688 116.015469 \nL 317.334688 116.015469 \n\" style=\"fill:none;stroke:#55a868;stroke-linecap:round;stroke-width:1.5;\"/>\n    </g>\n    <g id=\"line2d_27\"/>\n    <g id=\"text_19\">\n     <!-- A005950 -->\n     <g style=\"fill:#262626;\" transform=\"translate(326.134688 119.865469)scale(0.11 -0.11)\">\n      <use xlink:href=\"#AppleGothic-41\"/>\n      <use x=\"72.599991\" xlink:href=\"#AppleGothic-30\"/>\n      <use x=\"140.599976\" xlink:href=\"#AppleGothic-30\"/>\n      <use x=\"208.59996\" xlink:href=\"#AppleGothic-35\"/>\n      <use x=\"276.599945\" xlink:href=\"#AppleGothic-39\"/>\n      <use x=\"344.59993\" xlink:href=\"#AppleGothic-35\"/>\n      <use x=\"412.599915\" xlink:href=\"#AppleGothic-30\"/>\n     </g>\n    </g>\n    <g id=\"line2d_28\">\n     <path d=\"M 295.334688 132.0325 \nL 317.334688 132.0325 \n\" style=\"fill:none;stroke:#c44e52;stroke-linecap:round;stroke-width:1.5;\"/>\n    </g>\n    <g id=\"line2d_29\"/>\n    <g id=\"text_20\">\n     <!-- A005960 -->\n     <g style=\"fill:#262626;\" transform=\"translate(326.134688 135.8825)scale(0.11 -0.11)\">\n      <use xlink:href=\"#AppleGothic-41\"/>\n      <use x=\"72.599991\" xlink:href=\"#AppleGothic-30\"/>\n      <use x=\"140.599976\" xlink:href=\"#AppleGothic-30\"/>\n      <use x=\"208.59996\" xlink:href=\"#AppleGothic-35\"/>\n      <use x=\"276.599945\" xlink:href=\"#AppleGothic-39\"/>\n      <use x=\"344.59993\" xlink:href=\"#AppleGothic-36\"/>\n      <use x=\"412.599915\" xlink:href=\"#AppleGothic-30\"/>\n     </g>\n    </g>\n    <g id=\"line2d_30\">\n     <path d=\"M 295.334688 148.049531 \nL 317.334688 148.049531 \n\" style=\"fill:none;stroke:#8172b3;stroke-linecap:round;stroke-width:1.5;\"/>\n    </g>\n    <g id=\"line2d_31\"/>\n    <g id=\"text_21\">\n     <!-- A005980 -->\n     <g style=\"fill:#262626;\" transform=\"translate(326.134688 151.899531)scale(0.11 -0.11)\">\n      <use xlink:href=\"#AppleGothic-41\"/>\n      <use x=\"72.599991\" xlink:href=\"#AppleGothic-30\"/>\n      <use x=\"140.599976\" xlink:href=\"#AppleGothic-30\"/>\n      <use x=\"208.59996\" xlink:href=\"#AppleGothic-35\"/>\n      <use x=\"276.599945\" xlink:href=\"#AppleGothic-39\"/>\n      <use x=\"344.59993\" xlink:href=\"#AppleGothic-38\"/>\n      <use x=\"412.599915\" xlink:href=\"#AppleGothic-30\"/>\n     </g>\n    </g>\n    <g id=\"line2d_32\">\n     <path d=\"M 295.334688 164.066562 \nL 317.334688 164.066562 \n\" style=\"fill:none;stroke:#937860;stroke-linecap:round;stroke-width:1.5;\"/>\n    </g>\n    <g id=\"line2d_33\"/>\n    <g id=\"text_22\">\n     <!-- A005990 -->\n     <g style=\"fill:#262626;\" transform=\"translate(326.134688 167.916562)scale(0.11 -0.11)\">\n      <use xlink:href=\"#AppleGothic-41\"/>\n      <use x=\"72.599991\" xlink:href=\"#AppleGothic-30\"/>\n      <use x=\"140.599976\" xlink:href=\"#AppleGothic-30\"/>\n      <use x=\"208.59996\" xlink:href=\"#AppleGothic-35\"/>\n      <use x=\"276.599945\" xlink:href=\"#AppleGothic-39\"/>\n      <use x=\"344.59993\" xlink:href=\"#AppleGothic-39\"/>\n      <use x=\"412.599915\" xlink:href=\"#AppleGothic-30\"/>\n     </g>\n    </g>\n   </g>\n  </g>\n </g>\n <defs>\n  <clipPath id=\"p1e558fc0af\">\n   <rect height=\"217.44\" width=\"334.8\" x=\"54.1\" y=\"7.2\"/>\n  </clipPath>\n </defs>\n</svg>\n",
      "image/png": "[encoded data removed]"
     },
     "metadata": {
      "needs_background": "light"
     }
    }
   ],
   "metadata": {}
  },
  {
   "cell_type": "code",
   "execution_count": 132,
   "source": [
    "my_df_2.plot(kind='bar', title='주가 흐름');"
   ],
   "outputs": [
    {
     "output_type": "display_data",
     "data": {
      "text/plain": [
       "<Figure size 432x288 with 1 Axes>"
      ],
      "image/svg+xml": "<?xml version=\"1.0\" encoding=\"utf-8\" standalone=\"no\"?>\n<!DOCTYPE svg PUBLIC \"-//W3C//DTD SVG 1.1//EN\"\n  \"http://www.w3.org/Graphics/SVG/1.1/DTD/svg11.dtd\">\n<svg height=\"327.58875pt\" version=\"1.1\" viewBox=\"0 0 396.1 327.58875\" width=\"396.1pt\" xmlns=\"http://www.w3.org/2000/svg\" xmlns:xlink=\"http://www.w3.org/1999/xlink\">\n <metadata>\n  <rdf:RDF xmlns:cc=\"http://creativecommons.org/ns#\" xmlns:dc=\"http://purl.org/dc/elements/1.1/\" xmlns:rdf=\"http://www.w3.org/1999/02/22-rdf-syntax-ns#\">\n   <cc:Work>\n    <dc:type rdf:resource=\"http://purl.org/dc/dcmitype/StillImage\"/>\n    <dc:date>2021-08-23T11:42:12.110365</dc:date>\n    <dc:format>image/svg+xml</dc:format>\n    <dc:creator>\n     <cc:Agent>\n      <dc:title>Matplotlib v3.4.2, https://matplotlib.org/</dc:title>\n     </cc:Agent>\n    </dc:creator>\n   </cc:Work>\n  </rdf:RDF>\n </metadata>\n <defs>\n  <style type=\"text/css\">*{stroke-linecap:butt;stroke-linejoin:round;}</style>\n </defs>\n <g id=\"figure_1\">\n  <g id=\"patch_1\">\n   <path d=\"M 0 327.58875 \nL 396.1 327.58875 \nL 396.1 0 \nL 0 0 \nz\n\" style=\"fill:none;\"/>\n  </g>\n  <g id=\"axes_1\">\n   <g id=\"patch_2\">\n    <path d=\"M 54.1 240.04875 \nL 388.9 240.04875 \nL 388.9 22.60875 \nL 54.1 22.60875 \nz\n\" style=\"fill:#eaeaf2;\"/>\n   </g>\n   <g id=\"matplotlib.axis_1\">\n    <g id=\"xtick_1\">\n     <g id=\"line2d_1\">\n      <path clip-path=\"url(#pada614df83)\" d=\"M 109.9 240.04875 \nL 109.9 22.60875 \n\" style=\"fill:none;stroke:#ffffff;stroke-linecap:round;\"/>\n     </g>\n     <g id=\"text_1\">\n      <!-- 2020-09-09 -->\n      <g style=\"fill:#262626;\" transform=\"translate(113.266172 320.38875)rotate(-90)scale(0.11 -0.11)\">\n       <defs>\n        <path d=\"M 1101 429 \nL 3942 429 \nL 3942 0 \nL 653 0 \nL 653 205 \nQ 653 1018 1344 1664 \nQ 1670 1894 1990 2124 \nQ 2310 2355 2637 2592 \nQ 3334 3098 3334 3597 \nQ 3334 3994 3014 4218 \nQ 2867 4326 2694 4377 \nQ 2522 4429 2317 4429 \nQ 2016 4429 1741 4352 \nQ 1325 4224 883 3910 \nL 883 4435 \nQ 1325 4659 1667 4758 \nQ 2010 4858 2317 4858 \nQ 2963 4858 3405 4525 \nQ 3840 4198 3840 3622 \nQ 3840 2995 3168 2438 \nQ 2848 2214 2531 2000 \nQ 2214 1786 1894 1562 \nQ 1178 1024 1101 429 \nz\n\" id=\"AppleGothic-32\" transform=\"scale(0.015625)\"/>\n        <path d=\"M 2227 -83 \nQ 1414 -83 934 576 \nQ 461 1229 461 2387 \nQ 461 3552 973 4218 \nQ 1453 4858 2221 4858 \nQ 3027 4858 3482 4173 \nQ 3955 3494 3955 2394 \nQ 3955 1248 3462 582 \nQ 2976 -83 2227 -83 \nz\nM 2176 346 \nQ 2861 346 3200 992 \nQ 3462 1536 3462 2400 \nQ 3462 3315 3162 3859 \nQ 2822 4429 2214 4429 \nQ 1574 4429 1248 3821 \nQ 960 3283 960 2374 \nQ 960 1478 1248 941 \nQ 1574 346 2176 346 \nz\n\" id=\"AppleGothic-30\" transform=\"scale(0.015625)\"/>\n        <path d=\"M 256 1958 \nL 2349 1958 \nL 2349 1491 \nL 256 1491 \nL 256 1958 \nz\n\" id=\"AppleGothic-2d\" transform=\"scale(0.015625)\"/>\n        <path d=\"M 928 211 \nL 928 762 \nQ 1050 672 1155 601 \nQ 1261 531 1363 480 \nQ 1702 320 2016 320 \nQ 2291 320 2541 435 \nQ 2739 525 2908 675 \nQ 3078 826 3213 1037 \nQ 3456 1408 3552 1843 \nQ 3616 2144 3616 2573 \nQ 3315 2272 3066 2125 \nQ 2605 1850 2093 1850 \nQ 1459 1850 1037 2214 \nQ 589 2598 589 3270 \nQ 589 3987 1082 4416 \nQ 1549 4832 2234 4832 \nQ 2970 4832 3494 4301 \nQ 4122 3661 4122 2528 \nQ 4122 1325 3475 582 \nQ 2874 -109 2035 -109 \nQ 1722 -109 1357 19 \nQ 1254 51 1148 102 \nQ 1043 154 928 211 \nz\nM 3578 3066 \nQ 3462 3718 3053 4077 \nQ 2675 4403 2227 4403 \nQ 1715 4403 1402 4083 \nQ 1082 3750 1082 3302 \nQ 1082 2861 1370 2566 \nQ 1658 2278 2125 2278 \nQ 2573 2278 2915 2473 \nQ 3258 2669 3578 3066 \nz\n\" id=\"AppleGothic-39\" transform=\"scale(0.015625)\"/>\n       </defs>\n       <use xlink:href=\"#AppleGothic-32\"/>\n       <use x=\"67.999985\" xlink:href=\"#AppleGothic-30\"/>\n       <use x=\"135.999969\" xlink:href=\"#AppleGothic-32\"/>\n       <use x=\"203.999954\" xlink:href=\"#AppleGothic-30\"/>\n       <use x=\"271.999939\" xlink:href=\"#AppleGothic-2d\"/>\n       <use x=\"321.999924\" xlink:href=\"#AppleGothic-30\"/>\n       <use x=\"389.999908\" xlink:href=\"#AppleGothic-39\"/>\n       <use x=\"457.999893\" xlink:href=\"#AppleGothic-2d\"/>\n       <use x=\"507.999878\" xlink:href=\"#AppleGothic-30\"/>\n       <use x=\"575.999863\" xlink:href=\"#AppleGothic-39\"/>\n      </g>\n     </g>\n    </g>\n    <g id=\"xtick_2\">\n     <g id=\"line2d_2\">\n      <path clip-path=\"url(#pada614df83)\" d=\"M 221.5 240.04875 \nL 221.5 22.60875 \n\" style=\"fill:none;stroke:#ffffff;stroke-linecap:round;\"/>\n     </g>\n     <g id=\"text_2\">\n      <!-- 2020-09-10 -->\n      <g style=\"fill:#262626;\" transform=\"translate(224.866172 320.38875)rotate(-90)scale(0.11 -0.11)\">\n       <defs>\n        <path d=\"M 2342 4774 \nL 2752 4774 \nL 2752 0 \nL 2285 0 \nL 2285 3526 \nL 1158 3526 \nL 1158 3885 \nL 1414 3885 \nQ 1990 3885 2214 4205 \nQ 2342 4410 2342 4774 \nz\n\" id=\"AppleGothic-31\" transform=\"scale(0.015625)\"/>\n       </defs>\n       <use xlink:href=\"#AppleGothic-32\"/>\n       <use x=\"67.999985\" xlink:href=\"#AppleGothic-30\"/>\n       <use x=\"135.999969\" xlink:href=\"#AppleGothic-32\"/>\n       <use x=\"203.999954\" xlink:href=\"#AppleGothic-30\"/>\n       <use x=\"271.999939\" xlink:href=\"#AppleGothic-2d\"/>\n       <use x=\"321.999924\" xlink:href=\"#AppleGothic-30\"/>\n       <use x=\"389.999908\" xlink:href=\"#AppleGothic-39\"/>\n       <use x=\"457.999893\" xlink:href=\"#AppleGothic-2d\"/>\n       <use x=\"507.999878\" xlink:href=\"#AppleGothic-31\"/>\n       <use x=\"575.999863\" xlink:href=\"#AppleGothic-30\"/>\n      </g>\n     </g>\n    </g>\n    <g id=\"xtick_3\">\n     <g id=\"line2d_3\">\n      <path clip-path=\"url(#pada614df83)\" d=\"M 333.1 240.04875 \nL 333.1 22.60875 \n\" style=\"fill:none;stroke:#ffffff;stroke-linecap:round;\"/>\n     </g>\n     <g id=\"text_3\">\n      <!-- 2020-09-11 -->\n      <g style=\"fill:#262626;\" transform=\"translate(336.466172 320.38875)rotate(-90)scale(0.11 -0.11)\">\n       <use xlink:href=\"#AppleGothic-32\"/>\n       <use x=\"67.999985\" xlink:href=\"#AppleGothic-30\"/>\n       <use x=\"135.999969\" xlink:href=\"#AppleGothic-32\"/>\n       <use x=\"203.999954\" xlink:href=\"#AppleGothic-30\"/>\n       <use x=\"271.999939\" xlink:href=\"#AppleGothic-2d\"/>\n       <use x=\"321.999924\" xlink:href=\"#AppleGothic-30\"/>\n       <use x=\"389.999908\" xlink:href=\"#AppleGothic-39\"/>\n       <use x=\"457.999893\" xlink:href=\"#AppleGothic-2d\"/>\n       <use x=\"507.999878\" xlink:href=\"#AppleGothic-31\"/>\n       <use x=\"575.999863\" xlink:href=\"#AppleGothic-31\"/>\n      </g>\n     </g>\n    </g>\n   </g>\n   <g id=\"matplotlib.axis_2\">\n    <g id=\"ytick_1\">\n     <g id=\"line2d_4\">\n      <path clip-path=\"url(#pada614df83)\" d=\"M 54.1 240.04875 \nL 388.9 240.04875 \n\" style=\"fill:none;stroke:#ffffff;stroke-linecap:round;\"/>\n     </g>\n     <g id=\"text_4\">\n      <!-- 0 -->\n      <g style=\"fill:#262626;\" transform=\"translate(37.12 244.361094)scale(0.11 -0.11)\">\n       <use xlink:href=\"#AppleGothic-30\"/>\n      </g>\n     </g>\n    </g>\n    <g id=\"ytick_2\">\n     <g id=\"line2d_5\">\n      <path clip-path=\"url(#pada614df83)\" d=\"M 54.1 202.90333 \nL 388.9 202.90333 \n\" style=\"fill:none;stroke:#ffffff;stroke-linecap:round;\"/>\n     </g>\n     <g id=\"text_5\">\n      <!-- 2000 -->\n      <g style=\"fill:#262626;\" transform=\"translate(14.68 207.215674)scale(0.11 -0.11)\">\n       <use xlink:href=\"#AppleGothic-32\"/>\n       <use x=\"67.999985\" xlink:href=\"#AppleGothic-30\"/>\n       <use x=\"135.999969\" xlink:href=\"#AppleGothic-30\"/>\n       <use x=\"203.999954\" xlink:href=\"#AppleGothic-30\"/>\n      </g>\n     </g>\n    </g>\n    <g id=\"ytick_3\">\n     <g id=\"line2d_6\">\n      <path clip-path=\"url(#pada614df83)\" d=\"M 54.1 165.757911 \nL 388.9 165.757911 \n\" style=\"fill:none;stroke:#ffffff;stroke-linecap:round;\"/>\n     </g>\n     <g id=\"text_6\">\n      <!-- 4000 -->\n      <g style=\"fill:#262626;\" transform=\"translate(14.68 170.070255)scale(0.11 -0.11)\">\n       <defs>\n        <path d=\"M 2662 4774 \nL 3130 4774 \nL 3130 1811 \nL 4000 1811 \nL 4000 1382 \nL 3130 1382 \nL 3130 0 \nL 2662 0 \nL 2662 1382 \nL 352 1382 \nL 352 1811 \nL 2662 4774 \nz\nM 2662 1811 \nL 2662 4166 \nL 838 1811 \nL 2662 1811 \nz\n\" id=\"AppleGothic-34\" transform=\"scale(0.015625)\"/>\n       </defs>\n       <use xlink:href=\"#AppleGothic-34\"/>\n       <use x=\"67.999985\" xlink:href=\"#AppleGothic-30\"/>\n       <use x=\"135.999969\" xlink:href=\"#AppleGothic-30\"/>\n       <use x=\"203.999954\" xlink:href=\"#AppleGothic-30\"/>\n      </g>\n     </g>\n    </g>\n    <g id=\"ytick_4\">\n     <g id=\"line2d_7\">\n      <path clip-path=\"url(#pada614df83)\" d=\"M 54.1 128.612491 \nL 388.9 128.612491 \n\" style=\"fill:none;stroke:#ffffff;stroke-linecap:round;\"/>\n     </g>\n     <g id=\"text_7\">\n      <!-- 6000 -->\n      <g style=\"fill:#262626;\" transform=\"translate(14.68 132.924835)scale(0.11 -0.11)\">\n       <defs>\n        <path d=\"M 3699 4557 \nL 3699 4013 \nQ 3584 4102 3475 4163 \nQ 3366 4224 3258 4275 \nQ 3085 4358 2918 4393 \nQ 2752 4429 2586 4429 \nQ 2470 4429 2352 4409 \nQ 2234 4390 2118 4339 \nQ 1670 4154 1395 3738 \nQ 1011 3149 1011 2189 \nQ 1312 2490 1568 2656 \nQ 2022 2931 2534 2931 \nQ 3162 2931 3584 2566 \nQ 4038 2163 4038 1491 \nQ 4038 806 3558 358 \nQ 3078 -83 2394 -83 \nQ 1670 -83 1146 454 \nQ 518 1088 518 2253 \nQ 518 3411 1120 4134 \nQ 1715 4858 2605 4858 \nQ 2938 4858 3226 4762 \nQ 3309 4730 3427 4682 \nQ 3546 4634 3699 4557 \nz\nM 1062 1702 \nQ 1152 1152 1498 768 \nQ 1882 346 2419 346 \nQ 2899 346 3213 659 \nQ 3539 973 3539 1459 \nQ 3539 1920 3226 2214 \nQ 2918 2502 2496 2502 \nQ 1990 2502 1542 2176 \nQ 1414 2080 1292 1965 \nQ 1171 1850 1062 1702 \nz\n\" id=\"AppleGothic-36\" transform=\"scale(0.015625)\"/>\n       </defs>\n       <use xlink:href=\"#AppleGothic-36\"/>\n       <use x=\"67.999985\" xlink:href=\"#AppleGothic-30\"/>\n       <use x=\"135.999969\" xlink:href=\"#AppleGothic-30\"/>\n       <use x=\"203.999954\" xlink:href=\"#AppleGothic-30\"/>\n      </g>\n     </g>\n    </g>\n    <g id=\"ytick_5\">\n     <g id=\"line2d_8\">\n      <path clip-path=\"url(#pada614df83)\" d=\"M 54.1 91.467072 \nL 388.9 91.467072 \n\" style=\"fill:none;stroke:#ffffff;stroke-linecap:round;\"/>\n     </g>\n     <g id=\"text_8\">\n      <!-- 8000 -->\n      <g style=\"fill:#262626;\" transform=\"translate(14.68 95.779415)scale(0.11 -0.11)\">\n       <defs>\n        <path d=\"M 2957 2605 \nQ 3219 2528 3404 2445 \nQ 3590 2362 3706 2272 \nQ 4192 1926 4192 1370 \nQ 4192 749 3642 333 \nQ 3098 -83 2285 -83 \nQ 1434 -83 947 326 \nQ 512 691 512 1229 \nQ 512 1798 998 2125 \nQ 1146 2227 1341 2304 \nQ 1536 2381 1779 2451 \nQ 1574 2534 1430 2617 \nQ 1286 2701 1197 2784 \nQ 819 3104 819 3603 \nQ 819 4173 1261 4512 \nQ 1702 4858 2381 4858 \nQ 3014 4858 3437 4570 \nQ 3898 4262 3898 3738 \nQ 3898 3373 3670 3081 \nQ 3443 2790 2957 2605 \nz\nM 2406 2752 \nQ 2624 2835 2781 2915 \nQ 2938 2995 3040 3066 \nQ 3398 3322 3398 3667 \nQ 3398 3994 3104 4205 \nQ 2822 4429 2362 4429 \nQ 1894 4429 1613 4205 \nQ 1325 3994 1325 3635 \nQ 1325 3322 1581 3098 \nQ 1696 3002 1901 2912 \nQ 2106 2822 2406 2752 \nz\nM 2368 2304 \nQ 2061 2202 1840 2106 \nQ 1619 2010 1472 1920 \nQ 1011 1626 1011 1235 \nQ 1011 845 1376 595 \nQ 1728 346 2310 346 \nQ 2938 346 3315 640 \nQ 3693 934 3693 1338 \nQ 3693 1741 3238 1997 \nQ 3104 2067 2886 2147 \nQ 2669 2227 2368 2304 \nz\n\" id=\"AppleGothic-38\" transform=\"scale(0.015625)\"/>\n       </defs>\n       <use xlink:href=\"#AppleGothic-38\"/>\n       <use x=\"67.999985\" xlink:href=\"#AppleGothic-30\"/>\n       <use x=\"135.999969\" xlink:href=\"#AppleGothic-30\"/>\n       <use x=\"203.999954\" xlink:href=\"#AppleGothic-30\"/>\n      </g>\n     </g>\n    </g>\n    <g id=\"ytick_6\">\n     <g id=\"line2d_9\">\n      <path clip-path=\"url(#pada614df83)\" d=\"M 54.1 54.321652 \nL 388.9 54.321652 \n\" style=\"fill:none;stroke:#ffffff;stroke-linecap:round;\"/>\n     </g>\n     <g id=\"text_9\">\n      <!-- 10000 -->\n      <g style=\"fill:#262626;\" transform=\"translate(7.2 58.633996)scale(0.11 -0.11)\">\n       <use xlink:href=\"#AppleGothic-31\"/>\n       <use x=\"67.999985\" xlink:href=\"#AppleGothic-30\"/>\n       <use x=\"135.999969\" xlink:href=\"#AppleGothic-30\"/>\n       <use x=\"203.999954\" xlink:href=\"#AppleGothic-30\"/>\n       <use x=\"271.999939\" xlink:href=\"#AppleGothic-30\"/>\n      </g>\n     </g>\n    </g>\n   </g>\n   <g id=\"patch_3\">\n    <path clip-path=\"url(#pada614df83)\" d=\"M 82 240.04875 \nL 100.6 240.04875 \nL 100.6 35.748942 \nL 82 35.748942 \nz\n\" style=\"fill:#4c72b0;stroke:#ffffff;stroke-linejoin:miter;\"/>\n   </g>\n   <g id=\"patch_4\">\n    <path clip-path=\"url(#pada614df83)\" d=\"M 193.6 240.04875 \nL 212.2 240.04875 \nL 212.2 32.963036 \nL 193.6 32.963036 \nz\n\" style=\"fill:#4c72b0;stroke:#ffffff;stroke-linejoin:miter;\"/>\n   </g>\n   <g id=\"patch_5\">\n    <path clip-path=\"url(#pada614df83)\" d=\"M 305.2 240.04875 \nL 323.8 240.04875 \nL 323.8 34.820307 \nL 305.2 34.820307 \nz\n\" style=\"fill:#4c72b0;stroke:#ffffff;stroke-linejoin:miter;\"/>\n   </g>\n   <g id=\"patch_6\">\n    <path clip-path=\"url(#pada614df83)\" d=\"M 100.6 240.04875 \nL 119.2 240.04875 \nL 119.2 227.586462 \nL 100.6 227.586462 \nz\n\" style=\"fill:#dd8452;stroke:#ffffff;stroke-linejoin:miter;\"/>\n   </g>\n   <g id=\"patch_7\">\n    <path clip-path=\"url(#pada614df83)\" d=\"M 212.2 240.04875 \nL 230.8 240.04875 \nL 230.8 227.586462 \nL 212.2 227.586462 \nz\n\" style=\"fill:#dd8452;stroke:#ffffff;stroke-linejoin:miter;\"/>\n   </g>\n   <g id=\"patch_8\">\n    <path clip-path=\"url(#pada614df83)\" d=\"M 323.8 240.04875 \nL 342.4 240.04875 \nL 342.4 227.586462 \nL 323.8 227.586462 \nz\n\" style=\"fill:#dd8452;stroke:#ffffff;stroke-linejoin:miter;\"/>\n   </g>\n   <g id=\"patch_9\">\n    <path clip-path=\"url(#pada614df83)\" d=\"M 119.2 240.04875 \nL 137.8 240.04875 \nL 137.8 91.652799 \nL 119.2 91.652799 \nz\n\" style=\"fill:#55a868;stroke:#ffffff;stroke-linejoin:miter;\"/>\n   </g>\n   <g id=\"patch_10\">\n    <path clip-path=\"url(#pada614df83)\" d=\"M 230.8 240.04875 \nL 249.4 240.04875 \nL 249.4 92.20998 \nL 230.8 92.20998 \nz\n\" style=\"fill:#55a868;stroke:#ffffff;stroke-linejoin:miter;\"/>\n   </g>\n   <g id=\"patch_11\">\n    <path clip-path=\"url(#pada614df83)\" d=\"M 342.4 240.04875 \nL 361 240.04875 \nL 361 89.238346 \nL 342.4 89.238346 \nz\n\" style=\"fill:#55a868;stroke:#ffffff;stroke-linejoin:miter;\"/>\n   </g>\n   <g id=\"patch_12\">\n    <path d=\"M 54.1 240.04875 \nL 54.1 22.60875 \n\" style=\"fill:none;stroke:#ffffff;stroke-linecap:square;stroke-linejoin:miter;stroke-width:1.25;\"/>\n   </g>\n   <g id=\"patch_13\">\n    <path d=\"M 388.9 240.04875 \nL 388.9 22.60875 \n\" style=\"fill:none;stroke:#ffffff;stroke-linecap:square;stroke-linejoin:miter;stroke-width:1.25;\"/>\n   </g>\n   <g id=\"patch_14\">\n    <path d=\"M 54.1 240.04875 \nL 388.9 240.04875 \n\" style=\"fill:none;stroke:#ffffff;stroke-linecap:square;stroke-linejoin:miter;stroke-width:1.25;\"/>\n   </g>\n   <g id=\"patch_15\">\n    <path d=\"M 54.1 22.60875 \nL 388.9 22.60875 \n\" style=\"fill:none;stroke:#ffffff;stroke-linecap:square;stroke-linejoin:miter;stroke-width:1.25;\"/>\n   </g>\n   <g id=\"text_10\">\n    <!-- 주가 흐름 -->\n    <g style=\"fill:#262626;\" transform=\"translate(195.58 16.60875)scale(0.12 -0.12)\">\n     <defs>\n      <path d=\"M 5984 1850 \nL 3482 1850 \nL 3501 -570 \nL 3008 -602 \nQ 3014 -480 3014 -345 \nQ 3014 -211 3014 -58 \nQ 3021 90 3021 211 \nQ 3021 333 3021 422 \nL 3027 1850 \nL 1837 1824 \nL 410 1811 \nL 410 2214 \nQ 518 2208 649 2208 \nQ 781 2208 947 2202 \nL 1536 2202 \nL 3232 2214 \nQ 3821 2214 4256 2217 \nQ 4691 2221 4986 2227 \nQ 5581 2246 5984 2266 \nL 5984 1850 \nz\nM 5562 3123 \nQ 5562 3104 5485 3056 \nQ 5408 3008 5382 2976 \nL 5229 2790 \nQ 5062 2822 4928 2857 \nQ 4794 2893 4678 2938 \nQ 4499 3008 4320 3104 \nQ 4141 3200 3955 3328 \nQ 3629 3539 3392 3853 \nQ 3219 4134 3213 4134 \nQ 3187 4083 3168 4041 \nQ 3149 4000 3130 3968 \nQ 2880 3552 2381 3245 \nQ 2182 3117 1971 3024 \nQ 1760 2931 1536 2861 \nQ 1466 2835 1370 2816 \nQ 1274 2797 1165 2778 \nL 1005 2938 \nQ 973 2970 896 3027 \nQ 806 3085 806 3098 \nQ 813 3123 832 3123 \nQ 928 3136 1014 3145 \nQ 1101 3155 1171 3168 \nQ 1978 3334 2470 3789 \nQ 2746 4026 2886 4365 \nQ 2931 4454 2982 4646 \nL 2048 4627 \nL 1030 4627 \nL 1030 5005 \nQ 1101 5005 1251 5001 \nQ 1402 4998 1645 4992 \nQ 1888 4986 2080 4986 \nQ 2272 4986 2406 4986 \nL 5293 5030 \nL 5293 4653 \nL 4403 4659 \nL 3450 4646 \nQ 3456 4570 3469 4512 \nQ 3571 4192 3955 3827 \nQ 4346 3462 4973 3270 \nQ 5082 3238 5219 3209 \nQ 5357 3181 5530 3149 \nL 5562 3123 \nz\n\" id=\"AppleGothic-c8fc\" transform=\"scale(0.015625)\"/>\n      <path d=\"M 6189 1965 \nL 5133 1965 \nL 5133 -538 \nL 4685 -538 \nL 4691 3232 \nQ 4691 3750 4691 4086 \nQ 4691 4422 4685 4576 \nQ 4678 4730 4675 4883 \nQ 4672 5037 4659 5190 \nL 4800 5190 \nQ 4966 5190 5065 5174 \nQ 5165 5158 5165 5094 \nQ 5165 5075 5149 4998 \nQ 5133 4922 5133 4890 \nL 5133 2355 \nL 6189 2368 \nL 6189 1965 \nz\nM 3264 4205 \nQ 3264 3802 3162 3392 \nQ 3008 2733 2630 2131 \nQ 2253 1530 1728 1069 \nQ 1530 902 1331 764 \nQ 1133 627 928 512 \nQ 627 352 576 352 \nL 262 717 \nQ 301 717 570 845 \nQ 960 1030 1286 1280 \nQ 1760 1645 2106 2138 \nQ 2253 2349 2368 2569 \nQ 2483 2790 2573 3027 \nQ 2637 3194 2681 3350 \nQ 2726 3507 2752 3667 \nQ 2758 3738 2764 3802 \nQ 2771 3866 2784 3930 \nL 1690 3930 \nQ 1421 3930 1225 3930 \nQ 1030 3930 902 3923 \nQ 774 3917 675 3913 \nQ 576 3910 499 3904 \nL 499 4352 \nQ 704 4339 992 4326 \nQ 1280 4314 1702 4314 \nL 1843 4314 \nQ 2406 4314 2729 4320 \nQ 3053 4326 3258 4339 \nL 3264 4205 \nz\n\" id=\"AppleGothic-ac00\" transform=\"scale(0.015625)\"/>\n      <path id=\"AppleGothic-20\" transform=\"scale(0.015625)\"/>\n      <path d=\"M 4422 2266 \nQ 4422 2509 4128 2640 \nQ 3834 2771 3194 2771 \nQ 2464 2771 2202 2592 \nQ 2022 2490 2022 2266 \nQ 2022 1984 2387 1843 \nQ 2547 1779 2755 1753 \nQ 2963 1728 3232 1728 \nQ 3853 1728 4137 1872 \nQ 4422 2016 4422 2266 \nz\nM 5997 224 \nQ 5472 237 4825 243 \nQ 4179 250 3501 250 \nL 3187 250 \nQ 2944 250 2704 250 \nQ 2464 250 2240 243 \nQ 2010 237 1667 230 \nQ 1325 224 877 211 \nQ 755 205 640 205 \nQ 525 205 403 198 \nL 403 685 \nQ 480 685 643 681 \nQ 806 678 1069 672 \nQ 1331 666 1619 666 \nQ 1907 666 2234 659 \nQ 2560 653 2793 653 \nQ 3027 653 3162 653 \nQ 3398 653 3628 653 \nQ 3859 653 4090 659 \nQ 4320 666 4579 666 \nQ 4838 666 5146 672 \nQ 5446 685 5657 688 \nQ 5869 691 5997 698 \nL 5997 224 \nz\nM 4864 2246 \nQ 4864 1818 4493 1581 \nQ 4077 1325 3226 1325 \nQ 2515 1325 2067 1523 \nQ 1542 1773 1542 2291 \nQ 1542 2752 1974 2963 \nQ 2406 3174 3206 3174 \nQ 4864 3174 4864 2246 \nz\nM 5434 3494 \nQ 5274 3501 5152 3501 \nQ 5030 3501 4934 3501 \nQ 4250 3514 3802 3520 \nQ 3354 3526 3142 3526 \nQ 2451 3526 1894 3510 \nQ 1338 3494 960 3482 \nL 960 3955 \nQ 1197 3949 1481 3942 \nQ 1766 3936 2099 3930 \nQ 2432 3923 2681 3923 \nQ 2931 3923 3098 3923 \nQ 3814 3923 4374 3936 \nQ 4934 3949 5434 3968 \nL 5434 3494 \nz\nM 4083 4320 \nQ 4038 4320 3920 4323 \nQ 3802 4326 3610 4333 \nQ 3226 4352 3149 4352 \nQ 2899 4352 2688 4336 \nQ 2477 4320 2323 4307 \nL 2317 4755 \nL 3142 4749 \nQ 3386 4749 3600 4758 \nQ 3814 4768 4083 4781 \nL 4083 4320 \nz\n\" id=\"AppleGothic-d750\" transform=\"scale(0.015625)\"/>\n      <path d=\"M 4691 13 \nL 4691 1056 \nL 3533 1062 \nL 1811 1050 \nL 1811 6 \nL 3290 -13 \nQ 3827 -13 4150 -6 \nQ 4474 0 4691 13 \nz\nM 5158 -480 \nL 4685 -493 \nL 4685 -320 \nL 3264 -314 \nL 1811 -326 \nL 1811 -486 \nL 1363 -506 \nL 1395 378 \nL 1395 1382 \nL 3270 1370 \nQ 3955 1370 4393 1376 \nQ 4832 1382 5133 1395 \nL 5126 710 \nL 5158 -480 \nz\nM 5997 1965 \nQ 5786 1971 5456 1971 \nQ 5126 1971 4685 1978 \nQ 4243 1984 3875 1984 \nQ 3507 1984 3213 1984 \nQ 2771 1984 2444 1984 \nQ 2118 1984 1888 1978 \nQ 1664 1978 1443 1971 \nQ 1222 1965 1024 1961 \nQ 826 1958 666 1952 \nQ 506 1946 403 1946 \nL 403 2291 \nQ 410 2291 515 2288 \nQ 621 2285 826 2278 \nQ 1037 2278 1273 2275 \nQ 1510 2272 1798 2269 \nQ 2086 2266 2432 2266 \nQ 2778 2266 3200 2266 \nQ 3718 2266 4214 2272 \nQ 4710 2278 5190 2291 \nQ 5517 2298 5997 2330 \nL 5997 1965 \nz\nM 5133 2803 \nQ 4947 2810 4736 2810 \nQ 4525 2810 4282 2810 \nQ 4038 2816 3843 2816 \nQ 3648 2816 3501 2816 \nL 1286 2803 \nL 1306 3443 \nQ 1306 3578 1306 3670 \nQ 1306 3763 1302 3833 \nQ 1299 3904 1296 3955 \nQ 1293 4006 1286 4064 \nQ 1395 4058 1548 4058 \nQ 1702 4058 1914 4051 \nQ 2125 4045 2304 4045 \nQ 2483 4045 2630 4045 \nL 4640 4045 \nL 4640 4634 \nL 3226 4640 \nQ 2605 4640 2131 4627 \nQ 1658 4614 1299 4602 \nL 1299 4947 \nL 3590 4941 \nL 4518 4941 \nQ 4806 4947 5056 4960 \nL 5043 4403 \nL 5056 3738 \nL 4019 3750 \nQ 3872 3750 3673 3747 \nQ 3475 3744 3232 3738 \nL 1760 3738 \nL 1760 3117 \nL 3507 3117 \nQ 3859 3117 4192 3126 \nQ 4525 3136 4851 3149 \nQ 4960 3149 5133 3168 \nL 5133 2803 \nz\n\" id=\"AppleGothic-b984\" transform=\"scale(0.015625)\"/>\n     </defs>\n     <use xlink:href=\"#AppleGothic-c8fc\"/>\n     <use x=\"99.999985\" xlink:href=\"#AppleGothic-ac00\"/>\n     <use x=\"199.999969\" xlink:href=\"#AppleGothic-20\"/>\n     <use x=\"231.999954\" xlink:href=\"#AppleGothic-d750\"/>\n     <use x=\"331.999939\" xlink:href=\"#AppleGothic-b984\"/>\n    </g>\n   </g>\n   <g id=\"legend_1\">\n    <g id=\"patch_16\">\n     <path d=\"M 293.134688 96.635469 \nL 381.2 96.635469 \nQ 383.4 96.635469 383.4 94.435469 \nL 383.4 30.30875 \nQ 383.4 28.10875 381.2 28.10875 \nL 293.134688 28.10875 \nQ 290.934688 28.10875 290.934688 30.30875 \nL 290.934688 94.435469 \nQ 290.934688 96.635469 293.134688 96.635469 \nz\n\" style=\"fill:#eaeaf2;opacity:0.8;stroke:#cccccc;stroke-linejoin:miter;\"/>\n    </g>\n    <g id=\"text_11\">\n     <!-- Symbol -->\n     <g style=\"fill:#262626;\" transform=\"translate(316.802969 42.073125)scale(0.12 -0.12)\">\n      <defs>\n       <path d=\"M 3418 4666 \nL 3418 4019 \nQ 3251 4160 3081 4269 \nQ 2912 4378 2746 4448 \nQ 2362 4627 1965 4627 \nQ 1466 4627 1139 4378 \nQ 806 4122 806 3770 \nQ 806 3258 1562 3002 \nQ 1914 2880 2262 2768 \nQ 2611 2656 2970 2541 \nQ 3731 2176 3731 1453 \nQ 3731 749 3187 320 \nQ 2669 -83 1901 -83 \nQ 1389 -83 915 115 \nQ 640 224 262 474 \nL 262 1126 \nQ 755 685 1261 506 \nQ 1427 442 1587 416 \nQ 1747 390 1907 390 \nQ 2419 390 2771 646 \nQ 3162 928 3162 1382 \nQ 3162 1933 2419 2221 \nQ 2061 2330 1715 2445 \nQ 1370 2560 1024 2669 \nQ 275 3014 275 3731 \nQ 275 4333 749 4710 \nQ 1235 5101 1965 5101 \nQ 2413 5101 2861 4934 \nQ 3091 4858 3418 4666 \nz\n\" id=\"AppleGothic-53\" transform=\"scale(0.015625)\"/>\n       <path d=\"M 179 3424 \nL 691 3424 \nL 1869 531 \nL 2874 3424 \nL 3379 3424 \nL 1952 -397 \nQ 1798 -806 1555 -979 \nQ 1338 -1126 1037 -1126 \nQ 883 -1126 780 -1104 \nQ 678 -1082 582 -1043 \nL 582 -602 \nQ 672 -646 784 -678 \nQ 896 -710 986 -710 \nQ 1210 -710 1334 -595 \nQ 1459 -480 1555 -230 \nL 1632 32 \nL 179 3424 \nz\n\" id=\"AppleGothic-79\" transform=\"scale(0.015625)\"/>\n       <path d=\"M 5389 2195 \nL 5389 0 \nL 4922 0 \nL 4922 2304 \nQ 4922 2669 4672 2893 \nQ 4461 3085 4173 3085 \nQ 3744 3085 3405 2688 \nQ 3072 2298 3072 1722 \nL 3072 0 \nL 2605 0 \nL 2605 2304 \nQ 2605 2650 2368 2861 \nQ 2144 3085 1856 3085 \nQ 1440 3085 1114 2714 \nQ 755 2304 755 1702 \nL 755 0 \nL 288 0 \nL 288 3424 \nL 723 3424 \nL 742 2880 \nQ 928 3181 1274 3354 \nQ 1581 3501 1894 3501 \nQ 2381 3501 2714 3219 \nQ 2957 3008 3021 2797 \nQ 3149 3034 3386 3226 \nQ 3757 3501 4205 3501 \nQ 4749 3501 5050 3174 \nQ 5389 2803 5389 2195 \nz\n\" id=\"AppleGothic-6d\" transform=\"scale(0.015625)\"/>\n       <path d=\"M 288 5018 \nL 755 5018 \nL 755 2848 \nQ 845 2982 931 3078 \nQ 1018 3174 1107 3245 \nQ 1440 3501 1882 3501 \nQ 2547 3501 2976 2995 \nQ 3418 2483 3418 1754 \nQ 3418 1005 2976 480 \nQ 2502 -83 1792 -83 \nQ 1402 -83 1114 90 \nQ 928 192 755 384 \nL 634 0 \nL 288 0 \nL 288 5018 \nz\nM 755 1862 \nL 755 870 \nQ 845 762 934 678 \nQ 1024 595 1101 538 \nQ 1382 339 1741 339 \nQ 2234 339 2554 742 \nQ 2874 1158 2874 1747 \nQ 2874 2362 2515 2752 \nQ 2208 3085 1805 3085 \nQ 1370 3085 1056 2714 \nQ 755 2355 755 1862 \nz\n\" id=\"AppleGothic-62\" transform=\"scale(0.015625)\"/>\n       <path d=\"M 1888 -83 \nQ 1229 -83 730 397 \nQ 198 902 198 1709 \nQ 198 2470 666 2982 \nQ 1146 3501 1850 3501 \nQ 2547 3501 3027 2982 \nQ 3501 2470 3501 1715 \nQ 3501 922 2989 403 \nQ 2515 -83 1888 -83 \nz\nM 1843 339 \nQ 2304 339 2662 723 \nQ 3008 1114 3008 1715 \nQ 3008 2336 2637 2726 \nQ 2298 3085 1850 3085 \nQ 1389 3085 1062 2714 \nQ 704 2304 704 1709 \nQ 704 1107 1056 704 \nQ 1382 339 1843 339 \nz\n\" id=\"AppleGothic-6f\" transform=\"scale(0.015625)\"/>\n       <path d=\"M 288 5018 \nL 749 5018 \nL 749 0 \nL 288 0 \nL 288 5018 \nz\n\" id=\"AppleGothic-6c\" transform=\"scale(0.015625)\"/>\n      </defs>\n      <use xlink:href=\"#AppleGothic-53\"/>\n      <use x=\"63.199997\" xlink:href=\"#AppleGothic-79\"/>\n      <use x=\"118.899994\" xlink:href=\"#AppleGothic-6d\"/>\n      <use x=\"208.199982\" xlink:href=\"#AppleGothic-62\"/>\n      <use x=\"264.399979\" xlink:href=\"#AppleGothic-6f\"/>\n      <use x=\"322.699966\" xlink:href=\"#AppleGothic-6c\"/>\n     </g>\n    </g>\n    <g id=\"patch_17\">\n     <path d=\"M 295.334688 58.309062 \nL 317.334688 58.309062 \nL 317.334688 50.609062 \nL 295.334688 50.609062 \nz\n\" style=\"fill:#4c72b0;stroke:#ffffff;stroke-linejoin:miter;\"/>\n    </g>\n    <g id=\"text_12\">\n     <!-- A005960 -->\n     <g style=\"fill:#262626;\" transform=\"translate(326.134688 58.309062)scale(0.11 -0.11)\">\n      <defs>\n       <path d=\"M 2086 5018 \nL 2579 5018 \nL 4448 0 \nL 3859 0 \nL 3258 1715 \nL 1350 1715 \nL 723 0 \nL 166 0 \nL 2086 5018 \nz\nM 3117 2157 \nL 2342 4416 \nL 1504 2157 \nL 3117 2157 \nz\n\" id=\"AppleGothic-41\" transform=\"scale(0.015625)\"/>\n       <path d=\"M 621 4768 \nL 3488 4768 \nL 3488 4339 \nL 1088 4339 \nL 1088 2707 \nQ 1184 2771 1293 2819 \nQ 1402 2867 1510 2912 \nQ 1862 3040 2259 3040 \nQ 2989 3040 3424 2605 \nQ 3827 2202 3827 1581 \nQ 3827 870 3296 397 \nQ 2765 -83 2010 -83 \nQ 1651 -83 1248 45 \nQ 1158 77 1001 137 \nQ 845 198 621 301 \nL 621 838 \nQ 928 640 1203 525 \nQ 1408 435 1613 390 \nQ 1818 346 2010 346 \nQ 2528 346 2906 666 \nQ 3322 1011 3322 1536 \nQ 3322 1990 3021 2291 \nQ 2701 2611 2144 2611 \nQ 1856 2611 1587 2528 \nQ 1318 2445 1088 2272 \nL 621 2272 \nL 621 4768 \nz\n\" id=\"AppleGothic-35\" transform=\"scale(0.015625)\"/>\n      </defs>\n      <use xlink:href=\"#AppleGothic-41\"/>\n      <use x=\"72.599991\" xlink:href=\"#AppleGothic-30\"/>\n      <use x=\"140.599976\" xlink:href=\"#AppleGothic-30\"/>\n      <use x=\"208.59996\" xlink:href=\"#AppleGothic-35\"/>\n      <use x=\"276.599945\" xlink:href=\"#AppleGothic-39\"/>\n      <use x=\"344.59993\" xlink:href=\"#AppleGothic-36\"/>\n      <use x=\"412.599915\" xlink:href=\"#AppleGothic-30\"/>\n     </g>\n    </g>\n    <g id=\"patch_18\">\n     <path d=\"M 295.334688 74.326094 \nL 317.334688 74.326094 \nL 317.334688 66.626094 \nL 295.334688 66.626094 \nz\n\" style=\"fill:#dd8452;stroke:#ffffff;stroke-linejoin:miter;\"/>\n    </g>\n    <g id=\"text_13\">\n     <!-- A005980 -->\n     <g style=\"fill:#262626;\" transform=\"translate(326.134688 74.326094)scale(0.11 -0.11)\">\n      <use xlink:href=\"#AppleGothic-41\"/>\n      <use x=\"72.599991\" xlink:href=\"#AppleGothic-30\"/>\n      <use x=\"140.599976\" xlink:href=\"#AppleGothic-30\"/>\n      <use x=\"208.59996\" xlink:href=\"#AppleGothic-35\"/>\n      <use x=\"276.599945\" xlink:href=\"#AppleGothic-39\"/>\n      <use x=\"344.59993\" xlink:href=\"#AppleGothic-38\"/>\n      <use x=\"412.599915\" xlink:href=\"#AppleGothic-30\"/>\n     </g>\n    </g>\n    <g id=\"patch_19\">\n     <path d=\"M 295.334688 90.343125 \nL 317.334688 90.343125 \nL 317.334688 82.643125 \nL 295.334688 82.643125 \nz\n\" style=\"fill:#55a868;stroke:#ffffff;stroke-linejoin:miter;\"/>\n    </g>\n    <g id=\"text_14\">\n     <!-- A005990 -->\n     <g style=\"fill:#262626;\" transform=\"translate(326.134688 90.343125)scale(0.11 -0.11)\">\n      <use xlink:href=\"#AppleGothic-41\"/>\n      <use x=\"72.599991\" xlink:href=\"#AppleGothic-30\"/>\n      <use x=\"140.599976\" xlink:href=\"#AppleGothic-30\"/>\n      <use x=\"208.59996\" xlink:href=\"#AppleGothic-35\"/>\n      <use x=\"276.599945\" xlink:href=\"#AppleGothic-39\"/>\n      <use x=\"344.59993\" xlink:href=\"#AppleGothic-39\"/>\n      <use x=\"412.599915\" xlink:href=\"#AppleGothic-30\"/>\n     </g>\n    </g>\n   </g>\n  </g>\n </g>\n <defs>\n  <clipPath id=\"pada614df83\">\n   <rect height=\"217.44\" width=\"334.8\" x=\"54.1\" y=\"22.60875\"/>\n  </clipPath>\n </defs>\n</svg>\n",
      "image/png": "[encoded data removed]"
     },
     "metadata": {
      "needs_background": "light"
     }
    }
   ],
   "metadata": {}
  },
  {
   "cell_type": "code",
   "execution_count": 133,
   "source": [
    "trafic_data.plot(kind='scatter', grid=True,\n",
    "                 x='원티드', y='사람인');"
   ],
   "outputs": [
    {
     "output_type": "stream",
     "name": "stderr",
     "text": [
      "*c* argument looks like a single numeric RGB or RGBA sequence, which should be avoided as value-mapping will have precedence in case its length matches with *x* & *y*.  Please use the *color* keyword-argument or provide a 2D array with a single row if you intend to specify the same RGB or RGBA value for all points.\n"
     ]
    },
    {
     "output_type": "display_data",
     "data": {
      "text/plain": [
       "<Figure size 432x288 with 1 Axes>"
      ],
      "image/svg+xml": "<?xml version=\"1.0\" encoding=\"utf-8\" standalone=\"no\"?>\n<!DOCTYPE svg PUBLIC \"-//W3C//DTD SVG 1.1//EN\"\n  \"http://www.w3.org/Graphics/SVG/1.1/DTD/svg11.dtd\">\n<svg height=\"267.330156pt\" version=\"1.1\" viewBox=\"0 0 404.093125 267.330156\" width=\"404.093125pt\" xmlns=\"http://www.w3.org/2000/svg\" xmlns:xlink=\"http://www.w3.org/1999/xlink\">\n <metadata>\n  <rdf:RDF xmlns:cc=\"http://creativecommons.org/ns#\" xmlns:dc=\"http://purl.org/dc/elements/1.1/\" xmlns:rdf=\"http://www.w3.org/1999/02/22-rdf-syntax-ns#\">\n   <cc:Work>\n    <dc:type rdf:resource=\"http://purl.org/dc/dcmitype/StillImage\"/>\n    <dc:date>2021-08-23T11:42:13.141109</dc:date>\n    <dc:format>image/svg+xml</dc:format>\n    <dc:creator>\n     <cc:Agent>\n      <dc:title>Matplotlib v3.4.2, https://matplotlib.org/</dc:title>\n     </cc:Agent>\n    </dc:creator>\n   </cc:Work>\n  </rdf:RDF>\n </metadata>\n <defs>\n  <style type=\"text/css\">*{stroke-linecap:butt;stroke-linejoin:round;}</style>\n </defs>\n <g id=\"figure_1\">\n  <g id=\"patch_1\">\n   <path d=\"M 0 267.330156 \nL 404.093125 267.330156 \nL 404.093125 0 \nL 0 0 \nz\n\" style=\"fill:none;\"/>\n  </g>\n  <g id=\"axes_1\">\n   <g id=\"patch_2\">\n    <path d=\"M 62.093125 224.64 \nL 396.893125 224.64 \nL 396.893125 7.2 \nL 62.093125 7.2 \nz\n\" style=\"fill:#eaeaf2;\"/>\n   </g>\n   <g id=\"matplotlib.axis_1\">\n    <g id=\"xtick_1\">\n     <g id=\"line2d_1\">\n      <path clip-path=\"url(#p467627a0e5)\" d=\"M 77.311307 224.64 \nL 77.311307 7.2 \n\" style=\"fill:none;stroke:#ffffff;stroke-linecap:round;\"/>\n     </g>\n     <g id=\"text_1\">\n      <!-- 2000 -->\n      <g style=\"fill:#262626;\" transform=\"translate(62.351307 242.764688)scale(0.11 -0.11)\">\n       <defs>\n        <path d=\"M 1101 429 \nL 3942 429 \nL 3942 0 \nL 653 0 \nL 653 205 \nQ 653 1018 1344 1664 \nQ 1670 1894 1990 2124 \nQ 2310 2355 2637 2592 \nQ 3334 3098 3334 3597 \nQ 3334 3994 3014 4218 \nQ 2867 4326 2694 4377 \nQ 2522 4429 2317 4429 \nQ 2016 4429 1741 4352 \nQ 1325 4224 883 3910 \nL 883 4435 \nQ 1325 4659 1667 4758 \nQ 2010 4858 2317 4858 \nQ 2963 4858 3405 4525 \nQ 3840 4198 3840 3622 \nQ 3840 2995 3168 2438 \nQ 2848 2214 2531 2000 \nQ 2214 1786 1894 1562 \nQ 1178 1024 1101 429 \nz\n\" id=\"AppleGothic-32\" transform=\"scale(0.015625)\"/>\n        <path d=\"M 2227 -83 \nQ 1414 -83 934 576 \nQ 461 1229 461 2387 \nQ 461 3552 973 4218 \nQ 1453 4858 2221 4858 \nQ 3027 4858 3482 4173 \nQ 3955 3494 3955 2394 \nQ 3955 1248 3462 582 \nQ 2976 -83 2227 -83 \nz\nM 2176 346 \nQ 2861 346 3200 992 \nQ 3462 1536 3462 2400 \nQ 3462 3315 3162 3859 \nQ 2822 4429 2214 4429 \nQ 1574 4429 1248 3821 \nQ 960 3283 960 2374 \nQ 960 1478 1248 941 \nQ 1574 346 2176 346 \nz\n\" id=\"AppleGothic-30\" transform=\"scale(0.015625)\"/>\n       </defs>\n       <use xlink:href=\"#AppleGothic-32\"/>\n       <use x=\"67.999985\" xlink:href=\"#AppleGothic-30\"/>\n       <use x=\"135.999969\" xlink:href=\"#AppleGothic-30\"/>\n       <use x=\"203.999954\" xlink:href=\"#AppleGothic-30\"/>\n      </g>\n     </g>\n    </g>\n    <g id=\"xtick_2\">\n     <g id=\"line2d_2\">\n      <path clip-path=\"url(#p467627a0e5)\" d=\"M 135.285333 224.64 \nL 135.285333 7.2 \n\" style=\"fill:none;stroke:#ffffff;stroke-linecap:round;\"/>\n     </g>\n     <g id=\"text_2\">\n      <!-- 4000 -->\n      <g style=\"fill:#262626;\" transform=\"translate(120.325333 242.764688)scale(0.11 -0.11)\">\n       <defs>\n        <path d=\"M 2662 4774 \nL 3130 4774 \nL 3130 1811 \nL 4000 1811 \nL 4000 1382 \nL 3130 1382 \nL 3130 0 \nL 2662 0 \nL 2662 1382 \nL 352 1382 \nL 352 1811 \nL 2662 4774 \nz\nM 2662 1811 \nL 2662 4166 \nL 838 1811 \nL 2662 1811 \nz\n\" id=\"AppleGothic-34\" transform=\"scale(0.015625)\"/>\n       </defs>\n       <use xlink:href=\"#AppleGothic-34\"/>\n       <use x=\"67.999985\" xlink:href=\"#AppleGothic-30\"/>\n       <use x=\"135.999969\" xlink:href=\"#AppleGothic-30\"/>\n       <use x=\"203.999954\" xlink:href=\"#AppleGothic-30\"/>\n      </g>\n     </g>\n    </g>\n    <g id=\"xtick_3\">\n     <g id=\"line2d_3\">\n      <path clip-path=\"url(#p467627a0e5)\" d=\"M 193.259359 224.64 \nL 193.259359 7.2 \n\" style=\"fill:none;stroke:#ffffff;stroke-linecap:round;\"/>\n     </g>\n     <g id=\"text_3\">\n      <!-- 6000 -->\n      <g style=\"fill:#262626;\" transform=\"translate(178.299359 242.764688)scale(0.11 -0.11)\">\n       <defs>\n        <path d=\"M 3699 4557 \nL 3699 4013 \nQ 3584 4102 3475 4163 \nQ 3366 4224 3258 4275 \nQ 3085 4358 2918 4393 \nQ 2752 4429 2586 4429 \nQ 2470 4429 2352 4409 \nQ 2234 4390 2118 4339 \nQ 1670 4154 1395 3738 \nQ 1011 3149 1011 2189 \nQ 1312 2490 1568 2656 \nQ 2022 2931 2534 2931 \nQ 3162 2931 3584 2566 \nQ 4038 2163 4038 1491 \nQ 4038 806 3558 358 \nQ 3078 -83 2394 -83 \nQ 1670 -83 1146 454 \nQ 518 1088 518 2253 \nQ 518 3411 1120 4134 \nQ 1715 4858 2605 4858 \nQ 2938 4858 3226 4762 \nQ 3309 4730 3427 4682 \nQ 3546 4634 3699 4557 \nz\nM 1062 1702 \nQ 1152 1152 1498 768 \nQ 1882 346 2419 346 \nQ 2899 346 3213 659 \nQ 3539 973 3539 1459 \nQ 3539 1920 3226 2214 \nQ 2918 2502 2496 2502 \nQ 1990 2502 1542 2176 \nQ 1414 2080 1292 1965 \nQ 1171 1850 1062 1702 \nz\n\" id=\"AppleGothic-36\" transform=\"scale(0.015625)\"/>\n       </defs>\n       <use xlink:href=\"#AppleGothic-36\"/>\n       <use x=\"67.999985\" xlink:href=\"#AppleGothic-30\"/>\n       <use x=\"135.999969\" xlink:href=\"#AppleGothic-30\"/>\n       <use x=\"203.999954\" xlink:href=\"#AppleGothic-30\"/>\n      </g>\n     </g>\n    </g>\n    <g id=\"xtick_4\">\n     <g id=\"line2d_4\">\n      <path clip-path=\"url(#p467627a0e5)\" d=\"M 251.233385 224.64 \nL 251.233385 7.2 \n\" style=\"fill:none;stroke:#ffffff;stroke-linecap:round;\"/>\n     </g>\n     <g id=\"text_4\">\n      <!-- 8000 -->\n      <g style=\"fill:#262626;\" transform=\"translate(236.273385 242.764688)scale(0.11 -0.11)\">\n       <defs>\n        <path d=\"M 2957 2605 \nQ 3219 2528 3404 2445 \nQ 3590 2362 3706 2272 \nQ 4192 1926 4192 1370 \nQ 4192 749 3642 333 \nQ 3098 -83 2285 -83 \nQ 1434 -83 947 326 \nQ 512 691 512 1229 \nQ 512 1798 998 2125 \nQ 1146 2227 1341 2304 \nQ 1536 2381 1779 2451 \nQ 1574 2534 1430 2617 \nQ 1286 2701 1197 2784 \nQ 819 3104 819 3603 \nQ 819 4173 1261 4512 \nQ 1702 4858 2381 4858 \nQ 3014 4858 3437 4570 \nQ 3898 4262 3898 3738 \nQ 3898 3373 3670 3081 \nQ 3443 2790 2957 2605 \nz\nM 2406 2752 \nQ 2624 2835 2781 2915 \nQ 2938 2995 3040 3066 \nQ 3398 3322 3398 3667 \nQ 3398 3994 3104 4205 \nQ 2822 4429 2362 4429 \nQ 1894 4429 1613 4205 \nQ 1325 3994 1325 3635 \nQ 1325 3322 1581 3098 \nQ 1696 3002 1901 2912 \nQ 2106 2822 2406 2752 \nz\nM 2368 2304 \nQ 2061 2202 1840 2106 \nQ 1619 2010 1472 1920 \nQ 1011 1626 1011 1235 \nQ 1011 845 1376 595 \nQ 1728 346 2310 346 \nQ 2938 346 3315 640 \nQ 3693 934 3693 1338 \nQ 3693 1741 3238 1997 \nQ 3104 2067 2886 2147 \nQ 2669 2227 2368 2304 \nz\n\" id=\"AppleGothic-38\" transform=\"scale(0.015625)\"/>\n       </defs>\n       <use xlink:href=\"#AppleGothic-38\"/>\n       <use x=\"67.999985\" xlink:href=\"#AppleGothic-30\"/>\n       <use x=\"135.999969\" xlink:href=\"#AppleGothic-30\"/>\n       <use x=\"203.999954\" xlink:href=\"#AppleGothic-30\"/>\n      </g>\n     </g>\n    </g>\n    <g id=\"xtick_5\">\n     <g id=\"line2d_5\">\n      <path clip-path=\"url(#p467627a0e5)\" d=\"M 309.207411 224.64 \nL 309.207411 7.2 \n\" style=\"fill:none;stroke:#ffffff;stroke-linecap:round;\"/>\n     </g>\n     <g id=\"text_5\">\n      <!-- 10000 -->\n      <g style=\"fill:#262626;\" transform=\"translate(290.507411 242.764688)scale(0.11 -0.11)\">\n       <defs>\n        <path d=\"M 2342 4774 \nL 2752 4774 \nL 2752 0 \nL 2285 0 \nL 2285 3526 \nL 1158 3526 \nL 1158 3885 \nL 1414 3885 \nQ 1990 3885 2214 4205 \nQ 2342 4410 2342 4774 \nz\n\" id=\"AppleGothic-31\" transform=\"scale(0.015625)\"/>\n       </defs>\n       <use xlink:href=\"#AppleGothic-31\"/>\n       <use x=\"67.999985\" xlink:href=\"#AppleGothic-30\"/>\n       <use x=\"135.999969\" xlink:href=\"#AppleGothic-30\"/>\n       <use x=\"203.999954\" xlink:href=\"#AppleGothic-30\"/>\n       <use x=\"271.999939\" xlink:href=\"#AppleGothic-30\"/>\n      </g>\n     </g>\n    </g>\n    <g id=\"xtick_6\">\n     <g id=\"line2d_6\">\n      <path clip-path=\"url(#p467627a0e5)\" d=\"M 367.181437 224.64 \nL 367.181437 7.2 \n\" style=\"fill:none;stroke:#ffffff;stroke-linecap:round;\"/>\n     </g>\n     <g id=\"text_6\">\n      <!-- 12000 -->\n      <g style=\"fill:#262626;\" transform=\"translate(348.481437 242.764688)scale(0.11 -0.11)\">\n       <use xlink:href=\"#AppleGothic-31\"/>\n       <use x=\"67.999985\" xlink:href=\"#AppleGothic-32\"/>\n       <use x=\"135.999969\" xlink:href=\"#AppleGothic-30\"/>\n       <use x=\"203.999954\" xlink:href=\"#AppleGothic-30\"/>\n       <use x=\"271.999939\" xlink:href=\"#AppleGothic-30\"/>\n      </g>\n     </g>\n    </g>\n    <g id=\"text_7\">\n     <!-- 원티드 -->\n     <g style=\"fill:#262626;\" transform=\"translate(211.493125 258.065781)scale(0.12 -0.12)\">\n      <defs>\n       <path d=\"M 3533 3853 \nQ 3533 4141 3280 4307 \nQ 3027 4474 2554 4474 \nQ 2125 4474 1862 4352 \nQ 1530 4186 1530 3846 \nQ 1530 3571 1843 3392 \nQ 2125 3245 2541 3245 \nQ 2950 3245 3238 3398 \nQ 3533 3565 3533 3853 \nz\nM 5600 -371 \nL 3725 -358 \nQ 3226 -358 2611 -364 \nQ 1997 -371 1357 -384 \nL 1376 448 \nQ 1376 608 1376 713 \nQ 1376 819 1370 870 \nQ 1370 922 1366 970 \nQ 1363 1018 1357 1062 \nQ 1510 1062 1696 1043 \nQ 1875 1024 1875 973 \nQ 1875 954 1846 877 \nQ 1818 800 1818 742 \nL 1818 -6 \nL 3725 -6 \nQ 4077 -6 4358 -3 \nQ 4640 0 4867 6 \nQ 5094 13 5273 19 \nQ 5453 26 5600 32 \nL 5600 -371 \nz\nM 4538 2266 \nQ 4467 2253 4416 2249 \nQ 4365 2246 4314 2240 \nQ 4166 2227 4016 2217 \nQ 3866 2208 3712 2208 \nQ 3546 2208 3386 2198 \nQ 3226 2189 3059 2176 \nQ 2938 2163 2778 2138 \nL 2758 1594 \nL 2758 1126 \nQ 2765 1018 2778 934 \nL 2298 915 \nQ 2298 947 2298 1017 \nQ 2298 1088 2304 1203 \nQ 2310 1312 2313 1389 \nQ 2317 1466 2317 1504 \nL 2310 2112 \nQ 2291 2099 1837 2093 \nQ 1613 2086 1373 2083 \nQ 1133 2080 883 2080 \nQ 838 2080 764 2064 \nQ 691 2048 678 2048 \nQ 621 2048 608 2138 \nL 582 2470 \nQ 678 2477 764 2477 \nQ 851 2477 922 2477 \nQ 1408 2490 1801 2496 \nQ 2195 2502 2502 2502 \nQ 2867 2502 3225 2518 \nQ 3584 2534 3949 2566 \nQ 4070 2579 4211 2595 \nQ 4352 2611 4518 2637 \nL 4538 2266 \nz\nM 5440 5094 \nQ 5440 5082 5437 5069 \nQ 5434 5056 5427 5030 \nQ 5395 4915 5395 4851 \nL 5389 2682 \nQ 5389 2285 5389 1981 \nQ 5389 1677 5395 1459 \nQ 5402 1242 5405 1040 \nQ 5408 838 5414 646 \nL 4941 621 \nL 4947 1466 \nL 4358 1485 \nQ 3872 1485 3693 1466 \nL 3693 1830 \nL 4371 1818 \nL 4960 1843 \nL 4960 3738 \nQ 4960 4096 4957 4342 \nQ 4954 4589 4947 4730 \nQ 4941 4877 4937 4989 \nQ 4934 5101 4922 5190 \nL 5030 5190 \nQ 5216 5190 5328 5174 \nQ 5440 5158 5440 5094 \nz\nM 4000 3846 \nQ 4000 3405 3597 3149 \nQ 3194 2899 2560 2899 \nQ 1971 2899 1536 3136 \nQ 1069 3411 1069 3846 \nQ 1069 4326 1517 4602 \nQ 1920 4851 2522 4851 \nQ 3123 4851 3539 4602 \nQ 4000 4314 4000 3846 \nz\n\" id=\"AppleGothic-c6d0\" transform=\"scale(0.015625)\"/>\n       <path d=\"M 5478 5050 \nQ 5478 5050 5472 5014 \nQ 5466 4979 5459 4934 \nQ 5453 4890 5446 4842 \nQ 5440 4794 5440 4762 \nQ 5434 4672 5434 4589 \nQ 5434 4506 5434 4435 \nQ 5414 3424 5414 2682 \nL 5434 -563 \nL 4909 -563 \nQ 4909 -467 4909 -332 \nQ 4909 -198 4915 -13 \nQ 4922 352 4934 1024 \nQ 4934 1370 4937 1658 \nQ 4941 1946 4941 2189 \nQ 4941 3008 4941 3542 \nQ 4941 4077 4934 4346 \nQ 4934 4870 4915 5190 \nL 4973 5190 \nQ 5178 5190 5328 5164 \nQ 5478 5139 5478 5050 \nz\nM 4518 979 \nQ 4301 947 4115 921 \nQ 3930 896 3770 870 \nQ 3443 826 3145 790 \nQ 2848 755 2573 723 \nQ 2035 678 1331 646 \nQ 1107 640 762 627 \nL 774 2483 \nL 762 4371 \nL 2682 4352 \nQ 3046 4352 3372 4358 \nQ 3699 4365 3968 4378 \nL 3968 3942 \nL 2592 3955 \nQ 2259 3955 1907 3948 \nQ 1555 3942 1248 3930 \nL 1248 2778 \nL 2438 2765 \nL 3782 2778 \nL 3782 2336 \nL 2464 2355 \nL 1248 2342 \nL 1248 1050 \nQ 1363 1056 1459 1056 \nQ 1555 1056 1645 1062 \nQ 1888 1075 2173 1094 \nQ 2458 1114 2803 1146 \nQ 3149 1178 3446 1210 \nQ 3744 1242 4013 1286 \nQ 4109 1299 4224 1318 \nQ 4339 1338 4467 1370 \nL 4518 979 \nz\n\" id=\"AppleGothic-d2f0\" transform=\"scale(0.015625)\"/>\n       <path d=\"M 6029 314 \nL 3187 320 \nQ 2349 320 1667 307 \nQ 986 294 378 275 \nL 378 736 \nQ 474 730 608 730 \nQ 742 730 915 723 \nQ 1254 723 1769 720 \nQ 2285 717 2848 710 \nL 3162 710 \nQ 3398 710 3628 710 \nQ 3859 710 4083 717 \nQ 4314 723 4579 726 \nQ 4845 730 5158 736 \nQ 5466 749 5683 752 \nQ 5901 755 6029 762 \nL 6029 314 \nz\nM 5184 2099 \nL 1248 2080 \nL 1261 3181 \nL 1248 4384 \nL 3443 4378 \nL 5107 4397 \nL 5107 3968 \nL 3392 3974 \nL 1734 3955 \nQ 1734 3885 1731 3824 \nQ 1728 3763 1728 3712 \nQ 1709 3347 1709 3258 \nQ 1709 2995 1728 2662 \nQ 1728 2630 1731 2588 \nQ 1734 2547 1734 2496 \nL 3514 2502 \nQ 3923 2502 4361 2512 \nQ 4800 2522 5184 2534 \nL 5184 2099 \nz\n\" id=\"AppleGothic-b4dc\" transform=\"scale(0.015625)\"/>\n      </defs>\n      <use xlink:href=\"#AppleGothic-c6d0\"/>\n      <use x=\"99.999985\" xlink:href=\"#AppleGothic-d2f0\"/>\n      <use x=\"199.999969\" xlink:href=\"#AppleGothic-b4dc\"/>\n     </g>\n    </g>\n   </g>\n   <g id=\"matplotlib.axis_2\">\n    <g id=\"ytick_1\">\n     <g id=\"line2d_7\">\n      <path clip-path=\"url(#p467627a0e5)\" d=\"M 62.093125 214.756364 \nL 396.893125 214.756364 \n\" style=\"fill:none;stroke:#ffffff;stroke-linecap:round;\"/>\n     </g>\n     <g id=\"text_8\">\n      <!-- 2000 -->\n      <g style=\"fill:#262626;\" transform=\"translate(22.673125 219.068707)scale(0.11 -0.11)\">\n       <use xlink:href=\"#AppleGothic-32\"/>\n       <use x=\"67.999985\" xlink:href=\"#AppleGothic-30\"/>\n       <use x=\"135.999969\" xlink:href=\"#AppleGothic-30\"/>\n       <use x=\"203.999954\" xlink:href=\"#AppleGothic-30\"/>\n      </g>\n     </g>\n    </g>\n    <g id=\"ytick_2\">\n     <g id=\"line2d_8\">\n      <path clip-path=\"url(#p467627a0e5)\" d=\"M 62.093125 171.784032 \nL 396.893125 171.784032 \n\" style=\"fill:none;stroke:#ffffff;stroke-linecap:round;\"/>\n     </g>\n     <g id=\"text_9\">\n      <!-- 3000 -->\n      <g style=\"fill:#262626;\" transform=\"translate(22.673125 176.096375)scale(0.11 -0.11)\">\n       <defs>\n        <path d=\"M 550 333 \nL 550 870 \nQ 883 621 1235 483 \nQ 1587 346 1971 346 \nQ 2522 346 2861 666 \nQ 3219 992 3219 1421 \nQ 3219 1869 2842 2099 \nQ 2515 2304 1965 2304 \nL 992 2304 \nL 992 2701 \nL 1658 2701 \nQ 2298 2701 2662 2928 \nQ 3027 3155 3027 3584 \nQ 3027 3936 2752 4173 \nQ 2458 4429 1978 4429 \nQ 1786 4429 1597 4393 \nQ 1408 4358 1222 4282 \nQ 890 4141 531 3872 \nL 531 4422 \nQ 736 4531 912 4608 \nQ 1088 4685 1254 4736 \nQ 1626 4858 2022 4858 \nQ 2650 4858 3066 4531 \nQ 3488 4211 3488 3642 \nQ 3488 3168 3168 2861 \nQ 2976 2675 2643 2554 \nQ 2874 2522 3053 2448 \nQ 3232 2374 3366 2266 \nQ 3718 1971 3718 1434 \nQ 3718 813 3219 365 \nQ 2714 -83 1965 -83 \nQ 1549 -83 1126 70 \nQ 1024 102 880 166 \nQ 736 230 550 333 \nz\n\" id=\"AppleGothic-33\" transform=\"scale(0.015625)\"/>\n       </defs>\n       <use xlink:href=\"#AppleGothic-33\"/>\n       <use x=\"67.999985\" xlink:href=\"#AppleGothic-30\"/>\n       <use x=\"135.999969\" xlink:href=\"#AppleGothic-30\"/>\n       <use x=\"203.999954\" xlink:href=\"#AppleGothic-30\"/>\n      </g>\n     </g>\n    </g>\n    <g id=\"ytick_3\">\n     <g id=\"line2d_9\">\n      <path clip-path=\"url(#p467627a0e5)\" d=\"M 62.093125 128.8117 \nL 396.893125 128.8117 \n\" style=\"fill:none;stroke:#ffffff;stroke-linecap:round;\"/>\n     </g>\n     <g id=\"text_10\">\n      <!-- 4000 -->\n      <g style=\"fill:#262626;\" transform=\"translate(22.673125 133.124043)scale(0.11 -0.11)\">\n       <use xlink:href=\"#AppleGothic-34\"/>\n       <use x=\"67.999985\" xlink:href=\"#AppleGothic-30\"/>\n       <use x=\"135.999969\" xlink:href=\"#AppleGothic-30\"/>\n       <use x=\"203.999954\" xlink:href=\"#AppleGothic-30\"/>\n      </g>\n     </g>\n    </g>\n    <g id=\"ytick_4\">\n     <g id=\"line2d_10\">\n      <path clip-path=\"url(#p467627a0e5)\" d=\"M 62.093125 85.839368 \nL 396.893125 85.839368 \n\" style=\"fill:none;stroke:#ffffff;stroke-linecap:round;\"/>\n     </g>\n     <g id=\"text_11\">\n      <!-- 5000 -->\n      <g style=\"fill:#262626;\" transform=\"translate(22.673125 90.151711)scale(0.11 -0.11)\">\n       <defs>\n        <path d=\"M 621 4768 \nL 3488 4768 \nL 3488 4339 \nL 1088 4339 \nL 1088 2707 \nQ 1184 2771 1293 2819 \nQ 1402 2867 1510 2912 \nQ 1862 3040 2259 3040 \nQ 2989 3040 3424 2605 \nQ 3827 2202 3827 1581 \nQ 3827 870 3296 397 \nQ 2765 -83 2010 -83 \nQ 1651 -83 1248 45 \nQ 1158 77 1001 137 \nQ 845 198 621 301 \nL 621 838 \nQ 928 640 1203 525 \nQ 1408 435 1613 390 \nQ 1818 346 2010 346 \nQ 2528 346 2906 666 \nQ 3322 1011 3322 1536 \nQ 3322 1990 3021 2291 \nQ 2701 2611 2144 2611 \nQ 1856 2611 1587 2528 \nQ 1318 2445 1088 2272 \nL 621 2272 \nL 621 4768 \nz\n\" id=\"AppleGothic-35\" transform=\"scale(0.015625)\"/>\n       </defs>\n       <use xlink:href=\"#AppleGothic-35\"/>\n       <use x=\"67.999985\" xlink:href=\"#AppleGothic-30\"/>\n       <use x=\"135.999969\" xlink:href=\"#AppleGothic-30\"/>\n       <use x=\"203.999954\" xlink:href=\"#AppleGothic-30\"/>\n      </g>\n     </g>\n    </g>\n    <g id=\"ytick_5\">\n     <g id=\"line2d_11\">\n      <path clip-path=\"url(#p467627a0e5)\" d=\"M 62.093125 42.867036 \nL 396.893125 42.867036 \n\" style=\"fill:none;stroke:#ffffff;stroke-linecap:round;\"/>\n     </g>\n     <g id=\"text_12\">\n      <!-- 6000 -->\n      <g style=\"fill:#262626;\" transform=\"translate(22.673125 47.179379)scale(0.11 -0.11)\">\n       <use xlink:href=\"#AppleGothic-36\"/>\n       <use x=\"67.999985\" xlink:href=\"#AppleGothic-30\"/>\n       <use x=\"135.999969\" xlink:href=\"#AppleGothic-30\"/>\n       <use x=\"203.999954\" xlink:href=\"#AppleGothic-30\"/>\n      </g>\n     </g>\n    </g>\n    <g id=\"text_13\">\n     <!-- 사람인 -->\n     <g style=\"fill:#262626;\" transform=\"translate(16.60875 133.92)rotate(-90)scale(0.12 -0.12)\">\n      <defs>\n       <path d=\"M 6093 2061 \nL 5139 2061 \nL 5133 1024 \nQ 5133 640 5139 240 \nQ 5146 -160 5158 -493 \nL 4685 -538 \nQ 4685 -397 4685 -73 \nQ 4685 250 4691 755 \nQ 4698 1274 4701 1651 \nQ 4704 2029 4704 2285 \nQ 4704 2874 4697 3478 \nQ 4691 4083 4685 4704 \nQ 4685 4877 4675 4992 \nQ 4666 5107 4653 5190 \nQ 4877 5190 5037 5158 \nQ 5197 5126 5197 5069 \nQ 5152 4954 5152 4870 \nL 5133 3955 \nL 5139 2477 \nL 6093 2477 \nL 6093 2061 \nz\nM 3923 1331 \nQ 3917 1312 3898 1293 \nQ 3878 1267 3852 1244 \nQ 3827 1222 3782 1197 \nL 3584 1018 \nQ 3533 1050 3491 1078 \nQ 3450 1107 3418 1133 \nQ 3014 1446 2675 1946 \nQ 2605 2042 2541 2170 \nQ 2477 2298 2406 2451 \nQ 2336 2605 2291 2736 \nQ 2246 2867 2221 2976 \nQ 2106 2438 1581 1786 \nQ 1312 1466 1059 1245 \nQ 806 1024 544 896 \nQ 518 909 476 941 \nQ 435 973 371 1030 \nQ 211 1165 211 1184 \nQ 250 1222 256 1235 \nQ 301 1235 557 1421 \nQ 922 1683 1203 2010 \nQ 1606 2477 1818 3078 \nQ 1933 3405 1993 3830 \nQ 2054 4256 2054 4640 \nQ 2106 4640 2186 4630 \nQ 2266 4621 2368 4595 \nQ 2573 4550 2573 4486 \nQ 2560 4454 2521 4361 \nQ 2483 4269 2490 4173 \nL 2432 3750 \nQ 2458 3648 2474 3574 \nQ 2490 3501 2502 3437 \nQ 2598 3053 2829 2547 \nQ 3072 2061 3494 1677 \nQ 3565 1613 3657 1539 \nQ 3750 1466 3872 1389 \nQ 3885 1376 3897 1360 \nQ 3910 1344 3923 1331 \nz\n\" id=\"AppleGothic-c0ac\" transform=\"scale(0.015625)\"/>\n       <path d=\"M 4698 38 \nL 4698 1037 \nL 1805 1018 \nL 1805 6 \nL 3264 6 \nQ 3699 6 4035 12 \nQ 4371 19 4698 38 \nz\nM 5178 -461 \nL 4717 -461 \nL 4691 -365 \nL 3149 -365 \nL 2374 -365 \nQ 2240 -371 2099 -374 \nQ 1958 -378 1818 -384 \nL 1805 -486 \nL 1325 -506 \nL 1331 461 \nL 1318 1421 \nL 5158 1446 \nL 5158 627 \nL 5178 -461 \nz\nM 4173 1997 \nQ 3802 1939 3379 1897 \nQ 2957 1856 2445 1856 \nL 640 1741 \nL 640 3603 \nL 3066 3603 \nL 3059 4435 \nL 2016 4435 \nQ 1530 4435 1200 4428 \nQ 870 4422 627 4410 \nL 627 4838 \nL 1971 4826 \nL 3514 4858 \nL 3488 3194 \nL 2464 3206 \nL 1114 3194 \nL 1101 2675 \nL 1114 2176 \nQ 1222 2176 1683 2214 \nQ 2144 2253 2541 2253 \nQ 3296 2317 3699 2349 \nQ 4102 2381 4173 2381 \nL 4173 1997 \nz\nM 6035 3021 \nL 5139 3034 \nL 5152 1645 \nL 4698 1632 \nL 4685 4691 \nQ 4685 4826 4678 4947 \nQ 4672 5069 4659 5190 \nL 4768 5190 \nQ 4954 5190 5066 5171 \nQ 5178 5152 5178 5094 \nQ 5178 5075 5158 4995 \nQ 5139 4915 5139 4858 \nL 5139 3443 \nL 6035 3450 \nL 6035 3021 \nz\n\" id=\"AppleGothic-b78c\" transform=\"scale(0.015625)\"/>\n       <path d=\"M 3347 3251 \nQ 3347 3686 3014 3936 \nQ 2714 4160 2266 4160 \nQ 1805 4160 1491 3930 \nQ 1146 3680 1146 3245 \nQ 1146 2854 1459 2605 \nQ 1773 2368 2246 2368 \nQ 2714 2368 3027 2586 \nQ 3347 2822 3347 3251 \nz\nM 5587 -13 \nL 5562 -410 \nL 4634 -403 \nQ 4269 -403 3821 -406 \nQ 3373 -410 2816 -416 \nQ 1722 -435 1562 -435 \nL 1568 230 \nL 1542 1274 \nL 1664 1274 \nQ 1850 1274 1965 1254 \nQ 2080 1235 2080 1184 \nQ 2080 1165 2054 1081 \nQ 2029 998 2029 941 \nL 2029 -32 \nL 2893 -45 \nQ 2950 -45 3043 -45 \nQ 3136 -45 3270 -38 \nQ 3398 -32 3497 -32 \nQ 3597 -32 3667 -32 \nL 5587 -13 \nz\nM 5453 5062 \nQ 5453 5024 5421 4944 \nQ 5389 4864 5389 4832 \nL 5389 3040 \nQ 5389 2362 5398 1770 \nQ 5408 1178 5421 762 \nL 4934 749 \nL 4947 3187 \nL 4915 5190 \nL 4979 5190 \nQ 5190 5190 5321 5171 \nQ 5453 5152 5453 5062 \nz\nM 3789 3264 \nQ 3789 2694 3328 2330 \nQ 2893 1997 2259 1997 \nQ 1619 1997 1190 2304 \nQ 710 2650 710 3194 \nQ 710 3814 1171 4192 \nQ 1600 4544 2234 4544 \nQ 2906 4544 3347 4192 \nQ 3789 3846 3789 3264 \nz\n\" id=\"AppleGothic-c778\" transform=\"scale(0.015625)\"/>\n      </defs>\n      <use xlink:href=\"#AppleGothic-c0ac\"/>\n      <use x=\"99.999985\" xlink:href=\"#AppleGothic-b78c\"/>\n      <use x=\"199.999969\" xlink:href=\"#AppleGothic-c778\"/>\n     </g>\n    </g>\n   </g>\n   <g id=\"PathCollection_1\">\n    <defs>\n     <path d=\"M 0 2.236068 \nC 0.593012 2.236068 1.161816 2.000462 1.581139 1.581139 \nC 2.000462 1.161816 2.236068 0.593012 2.236068 0 \nC 2.236068 -0.593012 2.000462 -1.161816 1.581139 -1.581139 \nC 1.161816 -2.000462 0.593012 -2.236068 0 -2.236068 \nC -0.593012 -2.236068 -1.161816 -2.000462 -1.581139 -1.581139 \nC -2.000462 -1.161816 -2.236068 -0.593012 -2.236068 0 \nC -2.236068 0.593012 -2.000462 1.161816 -1.581139 1.581139 \nC -1.161816 2.000462 -0.593012 2.236068 0 2.236068 \nz\n\" id=\"m33bfa39160\" style=\"stroke:#4c72b0;\"/>\n    </defs>\n    <g clip-path=\"url(#p467627a0e5)\">\n     <use style=\"fill:#4c72b0;stroke:#4c72b0;\" x=\"303.410008\" xlink:href=\"#m33bfa39160\" y=\"64.353202\"/>\n     <use style=\"fill:#4c72b0;stroke:#4c72b0;\" x=\"315.004813\" xlink:href=\"#m33bfa39160\" y=\"17.083636\"/>\n     <use style=\"fill:#4c72b0;stroke:#4c72b0;\" x=\"381.674943\" xlink:href=\"#m33bfa39160\" y=\"106.466087\"/>\n     <use style=\"fill:#4c72b0;stroke:#4c72b0;\" x=\"77.311307\" xlink:href=\"#m33bfa39160\" y=\"214.756364\"/>\n    </g>\n   </g>\n   <g id=\"patch_3\">\n    <path d=\"M 62.093125 224.64 \nL 62.093125 7.2 \n\" style=\"fill:none;stroke:#ffffff;stroke-linecap:square;stroke-linejoin:miter;stroke-width:1.25;\"/>\n   </g>\n   <g id=\"patch_4\">\n    <path d=\"M 396.893125 224.64 \nL 396.893125 7.2 \n\" style=\"fill:none;stroke:#ffffff;stroke-linecap:square;stroke-linejoin:miter;stroke-width:1.25;\"/>\n   </g>\n   <g id=\"patch_5\">\n    <path d=\"M 62.093125 224.64 \nL 396.893125 224.64 \n\" style=\"fill:none;stroke:#ffffff;stroke-linecap:square;stroke-linejoin:miter;stroke-width:1.25;\"/>\n   </g>\n   <g id=\"patch_6\">\n    <path d=\"M 62.093125 7.2 \nL 396.893125 7.2 \n\" style=\"fill:none;stroke:#ffffff;stroke-linecap:square;stroke-linejoin:miter;stroke-width:1.25;\"/>\n   </g>\n  </g>\n </g>\n <defs>\n  <clipPath id=\"p467627a0e5\">\n   <rect height=\"217.44\" width=\"334.8\" x=\"62.093125\" y=\"7.2\"/>\n  </clipPath>\n </defs>\n</svg>\n",
      "image/png": "[encoded data removed]"
     },
     "metadata": {
      "needs_background": "light"
     }
    }
   ],
   "metadata": {}
  },
  {
   "cell_type": "code",
   "execution_count": 134,
   "source": [
    "trafic_data.plot(subplots=True);"
   ],
   "outputs": [
    {
     "output_type": "display_data",
     "data": {
      "text/plain": [
       "<Figure size 432x288 with 6 Axes>"
      ],
      "image/svg+xml": "<?xml version=\"1.0\" encoding=\"utf-8\" standalone=\"no\"?>\n<!DOCTYPE svg PUBLIC \"-//W3C//DTD SVG 1.1//EN\"\n  \"http://www.w3.org/Graphics/SVG/1.1/DTD/svg11.dtd\">\n<svg height=\"251.857031pt\" version=\"1.1\" viewBox=\"0 0 398.591818 251.857031\" width=\"398.591818pt\" xmlns=\"http://www.w3.org/2000/svg\" xmlns:xlink=\"http://www.w3.org/1999/xlink\">\n <metadata>\n  <rdf:RDF xmlns:cc=\"http://creativecommons.org/ns#\" xmlns:dc=\"http://purl.org/dc/elements/1.1/\" xmlns:rdf=\"http://www.w3.org/1999/02/22-rdf-syntax-ns#\">\n   <cc:Work>\n    <dc:type rdf:resource=\"http://purl.org/dc/dcmitype/StillImage\"/>\n    <dc:date>2021-08-23T11:42:13.841104</dc:date>\n    <dc:format>image/svg+xml</dc:format>\n    <dc:creator>\n     <cc:Agent>\n      <dc:title>Matplotlib v3.4.2, https://matplotlib.org/</dc:title>\n     </cc:Agent>\n    </dc:creator>\n   </cc:Work>\n  </rdf:RDF>\n </metadata>\n <defs>\n  <style type=\"text/css\">*{stroke-linecap:butt;stroke-linejoin:round;}</style>\n </defs>\n <g id=\"figure_1\">\n  <g id=\"patch_1\">\n   <path d=\"M 0 251.857031 \nL 398.591818 251.857031 \nL 398.591818 0 \nL 0 0 \nz\n\" style=\"fill:none;\"/>\n  </g>\n  <g id=\"axes_1\">\n   <g id=\"patch_2\">\n    <path d=\"M 54.1 38.262857 \nL 388.9 38.262857 \nL 388.9 7.2 \nL 54.1 7.2 \nz\n\" style=\"fill:#eaeaf2;\"/>\n   </g>\n   <g id=\"matplotlib.axis_1\">\n    <g id=\"xtick_1\">\n     <g id=\"line2d_1\">\n      <path clip-path=\"url(#p082ccc94aa)\" d=\"M 69.318182 38.262857 \nL 69.318182 7.2 \n\" style=\"fill:none;stroke:#ffffff;stroke-linecap:round;\"/>\n     </g>\n    </g>\n    <g id=\"xtick_2\">\n     <g id=\"line2d_2\">\n      <path clip-path=\"url(#p082ccc94aa)\" d=\"M 120.045455 38.262857 \nL 120.045455 7.2 \n\" style=\"fill:none;stroke:#ffffff;stroke-linecap:round;\"/>\n     </g>\n    </g>\n    <g id=\"xtick_3\">\n     <g id=\"line2d_3\">\n      <path clip-path=\"url(#p082ccc94aa)\" d=\"M 170.772727 38.262857 \nL 170.772727 7.2 \n\" style=\"fill:none;stroke:#ffffff;stroke-linecap:round;\"/>\n     </g>\n    </g>\n    <g id=\"xtick_4\">\n     <g id=\"line2d_4\">\n      <path clip-path=\"url(#p082ccc94aa)\" d=\"M 221.5 38.262857 \nL 221.5 7.2 \n\" style=\"fill:none;stroke:#ffffff;stroke-linecap:round;\"/>\n     </g>\n    </g>\n    <g id=\"xtick_5\">\n     <g id=\"line2d_5\">\n      <path clip-path=\"url(#p082ccc94aa)\" d=\"M 272.227273 38.262857 \nL 272.227273 7.2 \n\" style=\"fill:none;stroke:#ffffff;stroke-linecap:round;\"/>\n     </g>\n    </g>\n    <g id=\"xtick_6\">\n     <g id=\"line2d_6\">\n      <path clip-path=\"url(#p082ccc94aa)\" d=\"M 322.954545 38.262857 \nL 322.954545 7.2 \n\" style=\"fill:none;stroke:#ffffff;stroke-linecap:round;\"/>\n     </g>\n    </g>\n    <g id=\"xtick_7\">\n     <g id=\"line2d_7\">\n      <path clip-path=\"url(#p082ccc94aa)\" d=\"M 373.681818 38.262857 \nL 373.681818 7.2 \n\" style=\"fill:none;stroke:#ffffff;stroke-linecap:round;\"/>\n     </g>\n    </g>\n   </g>\n   <g id=\"matplotlib.axis_2\">\n    <g id=\"ytick_1\">\n     <g id=\"line2d_8\">\n      <path clip-path=\"url(#p082ccc94aa)\" d=\"M 54.1 28.782635 \nL 388.9 28.782635 \n\" style=\"fill:none;stroke:#ffffff;stroke-linecap:round;\"/>\n     </g>\n     <g id=\"text_1\">\n      <!-- 5000 -->\n      <g style=\"fill:#262626;\" transform=\"translate(14.68 33.094978)scale(0.11 -0.11)\">\n       <defs>\n        <path d=\"M 621 4768 \nL 3488 4768 \nL 3488 4339 \nL 1088 4339 \nL 1088 2707 \nQ 1184 2771 1293 2819 \nQ 1402 2867 1510 2912 \nQ 1862 3040 2259 3040 \nQ 2989 3040 3424 2605 \nQ 3827 2202 3827 1581 \nQ 3827 870 3296 397 \nQ 2765 -83 2010 -83 \nQ 1651 -83 1248 45 \nQ 1158 77 1001 137 \nQ 845 198 621 301 \nL 621 838 \nQ 928 640 1203 525 \nQ 1408 435 1613 390 \nQ 1818 346 2010 346 \nQ 2528 346 2906 666 \nQ 3322 1011 3322 1536 \nQ 3322 1990 3021 2291 \nQ 2701 2611 2144 2611 \nQ 1856 2611 1587 2528 \nQ 1318 2445 1088 2272 \nL 621 2272 \nL 621 4768 \nz\n\" id=\"AppleGothic-35\" transform=\"scale(0.015625)\"/>\n        <path d=\"M 2227 -83 \nQ 1414 -83 934 576 \nQ 461 1229 461 2387 \nQ 461 3552 973 4218 \nQ 1453 4858 2221 4858 \nQ 3027 4858 3482 4173 \nQ 3955 3494 3955 2394 \nQ 3955 1248 3462 582 \nQ 2976 -83 2227 -83 \nz\nM 2176 346 \nQ 2861 346 3200 992 \nQ 3462 1536 3462 2400 \nQ 3462 3315 3162 3859 \nQ 2822 4429 2214 4429 \nQ 1574 4429 1248 3821 \nQ 960 3283 960 2374 \nQ 960 1478 1248 941 \nQ 1574 346 2176 346 \nz\n\" id=\"AppleGothic-30\" transform=\"scale(0.015625)\"/>\n       </defs>\n       <use xlink:href=\"#AppleGothic-35\"/>\n       <use x=\"67.999985\" xlink:href=\"#AppleGothic-30\"/>\n       <use x=\"135.999969\" xlink:href=\"#AppleGothic-30\"/>\n       <use x=\"203.999954\" xlink:href=\"#AppleGothic-30\"/>\n      </g>\n     </g>\n    </g>\n    <g id=\"ytick_2\">\n     <g id=\"line2d_9\">\n      <path clip-path=\"url(#p082ccc94aa)\" d=\"M 54.1 15.33551 \nL 388.9 15.33551 \n\" style=\"fill:none;stroke:#ffffff;stroke-linecap:round;\"/>\n     </g>\n     <g id=\"text_2\">\n      <!-- 10000 -->\n      <g style=\"fill:#262626;\" transform=\"translate(7.2 19.647854)scale(0.11 -0.11)\">\n       <defs>\n        <path d=\"M 2342 4774 \nL 2752 4774 \nL 2752 0 \nL 2285 0 \nL 2285 3526 \nL 1158 3526 \nL 1158 3885 \nL 1414 3885 \nQ 1990 3885 2214 4205 \nQ 2342 4410 2342 4774 \nz\n\" id=\"AppleGothic-31\" transform=\"scale(0.015625)\"/>\n       </defs>\n       <use xlink:href=\"#AppleGothic-31\"/>\n       <use x=\"67.999985\" xlink:href=\"#AppleGothic-30\"/>\n       <use x=\"135.999969\" xlink:href=\"#AppleGothic-30\"/>\n       <use x=\"203.999954\" xlink:href=\"#AppleGothic-30\"/>\n       <use x=\"271.999939\" xlink:href=\"#AppleGothic-30\"/>\n      </g>\n     </g>\n    </g>\n   </g>\n   <g id=\"line2d_10\">\n    <path clip-path=\"url(#p082ccc94aa)\" d=\"M 69.318182 15.873395 \nL 170.772727 14.797625 \nL 272.227273 8.611948 \nL 373.681818 36.850909 \n\" style=\"fill:none;stroke:#4c72b0;stroke-linecap:round;stroke-width:1.5;\"/>\n   </g>\n   <g id=\"patch_3\">\n    <path d=\"M 54.1 38.262857 \nL 54.1 7.2 \n\" style=\"fill:none;stroke:#ffffff;stroke-linecap:square;stroke-linejoin:miter;stroke-width:1.25;\"/>\n   </g>\n   <g id=\"patch_4\">\n    <path d=\"M 388.9 38.262857 \nL 388.9 7.2 \n\" style=\"fill:none;stroke:#ffffff;stroke-linecap:square;stroke-linejoin:miter;stroke-width:1.25;\"/>\n   </g>\n   <g id=\"patch_5\">\n    <path d=\"M 54.1 38.262857 \nL 388.9 38.262857 \n\" style=\"fill:none;stroke:#ffffff;stroke-linecap:square;stroke-linejoin:miter;stroke-width:1.25;\"/>\n   </g>\n   <g id=\"patch_6\">\n    <path d=\"M 54.1 7.2 \nL 388.9 7.2 \n\" style=\"fill:none;stroke:#ffffff;stroke-linecap:square;stroke-linejoin:miter;stroke-width:1.25;\"/>\n   </g>\n   <g id=\"legend_1\">\n    <g id=\"patch_7\">\n     <path d=\"M 313 32.017031 \nL 381.2 32.017031 \nQ 383.4 32.017031 383.4 29.817031 \nL 383.4 14.9 \nQ 383.4 12.7 381.2 12.7 \nL 313 12.7 \nQ 310.8 12.7 310.8 14.9 \nL 310.8 29.817031 \nQ 310.8 32.017031 313 32.017031 \nz\n\" style=\"fill:#eaeaf2;opacity:0.8;stroke:#cccccc;stroke-linejoin:miter;\"/>\n    </g>\n    <g id=\"line2d_11\">\n     <path d=\"M 315.2 21.874687 \nL 337.2 21.874687 \n\" style=\"fill:none;stroke:#4c72b0;stroke-linecap:round;stroke-width:1.5;\"/>\n    </g>\n    <g id=\"line2d_12\"/>\n    <g id=\"text_3\">\n     <!-- 원티드 -->\n     <g style=\"fill:#262626;\" transform=\"translate(346 25.724687)scale(0.11 -0.11)\">\n      <defs>\n       <path d=\"M 3533 3853 \nQ 3533 4141 3280 4307 \nQ 3027 4474 2554 4474 \nQ 2125 4474 1862 4352 \nQ 1530 4186 1530 3846 \nQ 1530 3571 1843 3392 \nQ 2125 3245 2541 3245 \nQ 2950 3245 3238 3398 \nQ 3533 3565 3533 3853 \nz\nM 5600 -371 \nL 3725 -358 \nQ 3226 -358 2611 -364 \nQ 1997 -371 1357 -384 \nL 1376 448 \nQ 1376 608 1376 713 \nQ 1376 819 1370 870 \nQ 1370 922 1366 970 \nQ 1363 1018 1357 1062 \nQ 1510 1062 1696 1043 \nQ 1875 1024 1875 973 \nQ 1875 954 1846 877 \nQ 1818 800 1818 742 \nL 1818 -6 \nL 3725 -6 \nQ 4077 -6 4358 -3 \nQ 4640 0 4867 6 \nQ 5094 13 5273 19 \nQ 5453 26 5600 32 \nL 5600 -371 \nz\nM 4538 2266 \nQ 4467 2253 4416 2249 \nQ 4365 2246 4314 2240 \nQ 4166 2227 4016 2217 \nQ 3866 2208 3712 2208 \nQ 3546 2208 3386 2198 \nQ 3226 2189 3059 2176 \nQ 2938 2163 2778 2138 \nL 2758 1594 \nL 2758 1126 \nQ 2765 1018 2778 934 \nL 2298 915 \nQ 2298 947 2298 1017 \nQ 2298 1088 2304 1203 \nQ 2310 1312 2313 1389 \nQ 2317 1466 2317 1504 \nL 2310 2112 \nQ 2291 2099 1837 2093 \nQ 1613 2086 1373 2083 \nQ 1133 2080 883 2080 \nQ 838 2080 764 2064 \nQ 691 2048 678 2048 \nQ 621 2048 608 2138 \nL 582 2470 \nQ 678 2477 764 2477 \nQ 851 2477 922 2477 \nQ 1408 2490 1801 2496 \nQ 2195 2502 2502 2502 \nQ 2867 2502 3225 2518 \nQ 3584 2534 3949 2566 \nQ 4070 2579 4211 2595 \nQ 4352 2611 4518 2637 \nL 4538 2266 \nz\nM 5440 5094 \nQ 5440 5082 5437 5069 \nQ 5434 5056 5427 5030 \nQ 5395 4915 5395 4851 \nL 5389 2682 \nQ 5389 2285 5389 1981 \nQ 5389 1677 5395 1459 \nQ 5402 1242 5405 1040 \nQ 5408 838 5414 646 \nL 4941 621 \nL 4947 1466 \nL 4358 1485 \nQ 3872 1485 3693 1466 \nL 3693 1830 \nL 4371 1818 \nL 4960 1843 \nL 4960 3738 \nQ 4960 4096 4957 4342 \nQ 4954 4589 4947 4730 \nQ 4941 4877 4937 4989 \nQ 4934 5101 4922 5190 \nL 5030 5190 \nQ 5216 5190 5328 5174 \nQ 5440 5158 5440 5094 \nz\nM 4000 3846 \nQ 4000 3405 3597 3149 \nQ 3194 2899 2560 2899 \nQ 1971 2899 1536 3136 \nQ 1069 3411 1069 3846 \nQ 1069 4326 1517 4602 \nQ 1920 4851 2522 4851 \nQ 3123 4851 3539 4602 \nQ 4000 4314 4000 3846 \nz\n\" id=\"AppleGothic-c6d0\" transform=\"scale(0.015625)\"/>\n       <path d=\"M 5478 5050 \nQ 5478 5050 5472 5014 \nQ 5466 4979 5459 4934 \nQ 5453 4890 5446 4842 \nQ 5440 4794 5440 4762 \nQ 5434 4672 5434 4589 \nQ 5434 4506 5434 4435 \nQ 5414 3424 5414 2682 \nL 5434 -563 \nL 4909 -563 \nQ 4909 -467 4909 -332 \nQ 4909 -198 4915 -13 \nQ 4922 352 4934 1024 \nQ 4934 1370 4937 1658 \nQ 4941 1946 4941 2189 \nQ 4941 3008 4941 3542 \nQ 4941 4077 4934 4346 \nQ 4934 4870 4915 5190 \nL 4973 5190 \nQ 5178 5190 5328 5164 \nQ 5478 5139 5478 5050 \nz\nM 4518 979 \nQ 4301 947 4115 921 \nQ 3930 896 3770 870 \nQ 3443 826 3145 790 \nQ 2848 755 2573 723 \nQ 2035 678 1331 646 \nQ 1107 640 762 627 \nL 774 2483 \nL 762 4371 \nL 2682 4352 \nQ 3046 4352 3372 4358 \nQ 3699 4365 3968 4378 \nL 3968 3942 \nL 2592 3955 \nQ 2259 3955 1907 3948 \nQ 1555 3942 1248 3930 \nL 1248 2778 \nL 2438 2765 \nL 3782 2778 \nL 3782 2336 \nL 2464 2355 \nL 1248 2342 \nL 1248 1050 \nQ 1363 1056 1459 1056 \nQ 1555 1056 1645 1062 \nQ 1888 1075 2173 1094 \nQ 2458 1114 2803 1146 \nQ 3149 1178 3446 1210 \nQ 3744 1242 4013 1286 \nQ 4109 1299 4224 1318 \nQ 4339 1338 4467 1370 \nL 4518 979 \nz\n\" id=\"AppleGothic-d2f0\" transform=\"scale(0.015625)\"/>\n       <path d=\"M 6029 314 \nL 3187 320 \nQ 2349 320 1667 307 \nQ 986 294 378 275 \nL 378 736 \nQ 474 730 608 730 \nQ 742 730 915 723 \nQ 1254 723 1769 720 \nQ 2285 717 2848 710 \nL 3162 710 \nQ 3398 710 3628 710 \nQ 3859 710 4083 717 \nQ 4314 723 4579 726 \nQ 4845 730 5158 736 \nQ 5466 749 5683 752 \nQ 5901 755 6029 762 \nL 6029 314 \nz\nM 5184 2099 \nL 1248 2080 \nL 1261 3181 \nL 1248 4384 \nL 3443 4378 \nL 5107 4397 \nL 5107 3968 \nL 3392 3974 \nL 1734 3955 \nQ 1734 3885 1731 3824 \nQ 1728 3763 1728 3712 \nQ 1709 3347 1709 3258 \nQ 1709 2995 1728 2662 \nQ 1728 2630 1731 2588 \nQ 1734 2547 1734 2496 \nL 3514 2502 \nQ 3923 2502 4361 2512 \nQ 4800 2522 5184 2534 \nL 5184 2099 \nz\n\" id=\"AppleGothic-b4dc\" transform=\"scale(0.015625)\"/>\n      </defs>\n      <use xlink:href=\"#AppleGothic-c6d0\"/>\n      <use x=\"99.999985\" xlink:href=\"#AppleGothic-d2f0\"/>\n      <use x=\"199.999969\" xlink:href=\"#AppleGothic-b4dc\"/>\n     </g>\n    </g>\n   </g>\n  </g>\n  <g id=\"axes_2\">\n   <g id=\"patch_8\">\n    <path d=\"M 54.1 75.538286 \nL 388.9 75.538286 \nL 388.9 44.475429 \nL 54.1 44.475429 \nz\n\" style=\"fill:#eaeaf2;\"/>\n   </g>\n   <g id=\"matplotlib.axis_3\">\n    <g id=\"xtick_8\">\n     <g id=\"line2d_13\">\n      <path clip-path=\"url(#p1ab639d80a)\" d=\"M 69.318182 75.538286 \nL 69.318182 44.475429 \n\" style=\"fill:none;stroke:#ffffff;stroke-linecap:round;\"/>\n     </g>\n    </g>\n    <g id=\"xtick_9\">\n     <g id=\"line2d_14\">\n      <path clip-path=\"url(#p1ab639d80a)\" d=\"M 120.045455 75.538286 \nL 120.045455 44.475429 \n\" style=\"fill:none;stroke:#ffffff;stroke-linecap:round;\"/>\n     </g>\n    </g>\n    <g id=\"xtick_10\">\n     <g id=\"line2d_15\">\n      <path clip-path=\"url(#p1ab639d80a)\" d=\"M 170.772727 75.538286 \nL 170.772727 44.475429 \n\" style=\"fill:none;stroke:#ffffff;stroke-linecap:round;\"/>\n     </g>\n    </g>\n    <g id=\"xtick_11\">\n     <g id=\"line2d_16\">\n      <path clip-path=\"url(#p1ab639d80a)\" d=\"M 221.5 75.538286 \nL 221.5 44.475429 \n\" style=\"fill:none;stroke:#ffffff;stroke-linecap:round;\"/>\n     </g>\n    </g>\n    <g id=\"xtick_12\">\n     <g id=\"line2d_17\">\n      <path clip-path=\"url(#p1ab639d80a)\" d=\"M 272.227273 75.538286 \nL 272.227273 44.475429 \n\" style=\"fill:none;stroke:#ffffff;stroke-linecap:round;\"/>\n     </g>\n    </g>\n    <g id=\"xtick_13\">\n     <g id=\"line2d_18\">\n      <path clip-path=\"url(#p1ab639d80a)\" d=\"M 322.954545 75.538286 \nL 322.954545 44.475429 \n\" style=\"fill:none;stroke:#ffffff;stroke-linecap:round;\"/>\n     </g>\n    </g>\n    <g id=\"xtick_14\">\n     <g id=\"line2d_19\">\n      <path clip-path=\"url(#p1ab639d80a)\" d=\"M 373.681818 75.538286 \nL 373.681818 44.475429 \n\" style=\"fill:none;stroke:#ffffff;stroke-linecap:round;\"/>\n     </g>\n    </g>\n   </g>\n   <g id=\"matplotlib.axis_4\">\n    <g id=\"ytick_3\">\n     <g id=\"line2d_20\">\n      <path clip-path=\"url(#p1ab639d80a)\" d=\"M 54.1 71.056885 \nL 388.9 71.056885 \n\" style=\"fill:none;stroke:#ffffff;stroke-linecap:round;\"/>\n     </g>\n     <g id=\"text_4\">\n      <!-- 2500 -->\n      <g style=\"fill:#262626;\" transform=\"translate(14.68 75.369229)scale(0.11 -0.11)\">\n       <defs>\n        <path d=\"M 1101 429 \nL 3942 429 \nL 3942 0 \nL 653 0 \nL 653 205 \nQ 653 1018 1344 1664 \nQ 1670 1894 1990 2124 \nQ 2310 2355 2637 2592 \nQ 3334 3098 3334 3597 \nQ 3334 3994 3014 4218 \nQ 2867 4326 2694 4377 \nQ 2522 4429 2317 4429 \nQ 2016 4429 1741 4352 \nQ 1325 4224 883 3910 \nL 883 4435 \nQ 1325 4659 1667 4758 \nQ 2010 4858 2317 4858 \nQ 2963 4858 3405 4525 \nQ 3840 4198 3840 3622 \nQ 3840 2995 3168 2438 \nQ 2848 2214 2531 2000 \nQ 2214 1786 1894 1562 \nQ 1178 1024 1101 429 \nz\n\" id=\"AppleGothic-32\" transform=\"scale(0.015625)\"/>\n       </defs>\n       <use xlink:href=\"#AppleGothic-32\"/>\n       <use x=\"67.999985\" xlink:href=\"#AppleGothic-35\"/>\n       <use x=\"135.999969\" xlink:href=\"#AppleGothic-30\"/>\n       <use x=\"203.999954\" xlink:href=\"#AppleGothic-30\"/>\n      </g>\n     </g>\n    </g>\n    <g id=\"ytick_4\">\n     <g id=\"line2d_21\">\n      <path clip-path=\"url(#p1ab639d80a)\" d=\"M 54.1 55.709624 \nL 388.9 55.709624 \n\" style=\"fill:none;stroke:#ffffff;stroke-linecap:round;\"/>\n     </g>\n     <g id=\"text_5\">\n      <!-- 5000 -->\n      <g style=\"fill:#262626;\" transform=\"translate(14.68 60.021968)scale(0.11 -0.11)\">\n       <use xlink:href=\"#AppleGothic-35\"/>\n       <use x=\"67.999985\" xlink:href=\"#AppleGothic-30\"/>\n       <use x=\"135.999969\" xlink:href=\"#AppleGothic-30\"/>\n       <use x=\"203.999954\" xlink:href=\"#AppleGothic-30\"/>\n      </g>\n     </g>\n    </g>\n   </g>\n   <g id=\"line2d_22\">\n    <path clip-path=\"url(#p1ab639d80a)\" d=\"M 69.318182 52.640172 \nL 170.772727 45.887377 \nL 272.227273 58.656298 \nL 373.681818 74.126338 \n\" style=\"fill:none;stroke:#dd8452;stroke-linecap:round;stroke-width:1.5;\"/>\n   </g>\n   <g id=\"patch_9\">\n    <path d=\"M 54.1 75.538286 \nL 54.1 44.475429 \n\" style=\"fill:none;stroke:#ffffff;stroke-linecap:square;stroke-linejoin:miter;stroke-width:1.25;\"/>\n   </g>\n   <g id=\"patch_10\">\n    <path d=\"M 388.9 75.538286 \nL 388.9 44.475429 \n\" style=\"fill:none;stroke:#ffffff;stroke-linecap:square;stroke-linejoin:miter;stroke-width:1.25;\"/>\n   </g>\n   <g id=\"patch_11\">\n    <path d=\"M 54.1 75.538286 \nL 388.9 75.538286 \n\" style=\"fill:none;stroke:#ffffff;stroke-linecap:square;stroke-linejoin:miter;stroke-width:1.25;\"/>\n   </g>\n   <g id=\"patch_12\">\n    <path d=\"M 54.1 44.475429 \nL 388.9 44.475429 \n\" style=\"fill:none;stroke:#ffffff;stroke-linecap:square;stroke-linejoin:miter;stroke-width:1.25;\"/>\n   </g>\n   <g id=\"legend_2\">\n    <g id=\"patch_13\">\n     <path d=\"M 313 69.29246 \nL 381.2 69.29246 \nQ 383.4 69.29246 383.4 67.09246 \nL 383.4 52.175429 \nQ 383.4 49.975429 381.2 49.975429 \nL 313 49.975429 \nQ 310.8 49.975429 310.8 52.175429 \nL 310.8 67.09246 \nQ 310.8 69.29246 313 69.29246 \nz\n\" style=\"fill:#eaeaf2;opacity:0.8;stroke:#cccccc;stroke-linejoin:miter;\"/>\n    </g>\n    <g id=\"line2d_23\">\n     <path d=\"M 315.2 59.150116 \nL 337.2 59.150116 \n\" style=\"fill:none;stroke:#dd8452;stroke-linecap:round;stroke-width:1.5;\"/>\n    </g>\n    <g id=\"line2d_24\"/>\n    <g id=\"text_6\">\n     <!-- 사람인 -->\n     <g style=\"fill:#262626;\" transform=\"translate(346 63.000116)scale(0.11 -0.11)\">\n      <defs>\n       <path d=\"M 6093 2061 \nL 5139 2061 \nL 5133 1024 \nQ 5133 640 5139 240 \nQ 5146 -160 5158 -493 \nL 4685 -538 \nQ 4685 -397 4685 -73 \nQ 4685 250 4691 755 \nQ 4698 1274 4701 1651 \nQ 4704 2029 4704 2285 \nQ 4704 2874 4697 3478 \nQ 4691 4083 4685 4704 \nQ 4685 4877 4675 4992 \nQ 4666 5107 4653 5190 \nQ 4877 5190 5037 5158 \nQ 5197 5126 5197 5069 \nQ 5152 4954 5152 4870 \nL 5133 3955 \nL 5139 2477 \nL 6093 2477 \nL 6093 2061 \nz\nM 3923 1331 \nQ 3917 1312 3898 1293 \nQ 3878 1267 3852 1244 \nQ 3827 1222 3782 1197 \nL 3584 1018 \nQ 3533 1050 3491 1078 \nQ 3450 1107 3418 1133 \nQ 3014 1446 2675 1946 \nQ 2605 2042 2541 2170 \nQ 2477 2298 2406 2451 \nQ 2336 2605 2291 2736 \nQ 2246 2867 2221 2976 \nQ 2106 2438 1581 1786 \nQ 1312 1466 1059 1245 \nQ 806 1024 544 896 \nQ 518 909 476 941 \nQ 435 973 371 1030 \nQ 211 1165 211 1184 \nQ 250 1222 256 1235 \nQ 301 1235 557 1421 \nQ 922 1683 1203 2010 \nQ 1606 2477 1818 3078 \nQ 1933 3405 1993 3830 \nQ 2054 4256 2054 4640 \nQ 2106 4640 2186 4630 \nQ 2266 4621 2368 4595 \nQ 2573 4550 2573 4486 \nQ 2560 4454 2521 4361 \nQ 2483 4269 2490 4173 \nL 2432 3750 \nQ 2458 3648 2474 3574 \nQ 2490 3501 2502 3437 \nQ 2598 3053 2829 2547 \nQ 3072 2061 3494 1677 \nQ 3565 1613 3657 1539 \nQ 3750 1466 3872 1389 \nQ 3885 1376 3897 1360 \nQ 3910 1344 3923 1331 \nz\n\" id=\"AppleGothic-c0ac\" transform=\"scale(0.015625)\"/>\n       <path d=\"M 4698 38 \nL 4698 1037 \nL 1805 1018 \nL 1805 6 \nL 3264 6 \nQ 3699 6 4035 12 \nQ 4371 19 4698 38 \nz\nM 5178 -461 \nL 4717 -461 \nL 4691 -365 \nL 3149 -365 \nL 2374 -365 \nQ 2240 -371 2099 -374 \nQ 1958 -378 1818 -384 \nL 1805 -486 \nL 1325 -506 \nL 1331 461 \nL 1318 1421 \nL 5158 1446 \nL 5158 627 \nL 5178 -461 \nz\nM 4173 1997 \nQ 3802 1939 3379 1897 \nQ 2957 1856 2445 1856 \nL 640 1741 \nL 640 3603 \nL 3066 3603 \nL 3059 4435 \nL 2016 4435 \nQ 1530 4435 1200 4428 \nQ 870 4422 627 4410 \nL 627 4838 \nL 1971 4826 \nL 3514 4858 \nL 3488 3194 \nL 2464 3206 \nL 1114 3194 \nL 1101 2675 \nL 1114 2176 \nQ 1222 2176 1683 2214 \nQ 2144 2253 2541 2253 \nQ 3296 2317 3699 2349 \nQ 4102 2381 4173 2381 \nL 4173 1997 \nz\nM 6035 3021 \nL 5139 3034 \nL 5152 1645 \nL 4698 1632 \nL 4685 4691 \nQ 4685 4826 4678 4947 \nQ 4672 5069 4659 5190 \nL 4768 5190 \nQ 4954 5190 5066 5171 \nQ 5178 5152 5178 5094 \nQ 5178 5075 5158 4995 \nQ 5139 4915 5139 4858 \nL 5139 3443 \nL 6035 3450 \nL 6035 3021 \nz\n\" id=\"AppleGothic-b78c\" transform=\"scale(0.015625)\"/>\n       <path d=\"M 3347 3251 \nQ 3347 3686 3014 3936 \nQ 2714 4160 2266 4160 \nQ 1805 4160 1491 3930 \nQ 1146 3680 1146 3245 \nQ 1146 2854 1459 2605 \nQ 1773 2368 2246 2368 \nQ 2714 2368 3027 2586 \nQ 3347 2822 3347 3251 \nz\nM 5587 -13 \nL 5562 -410 \nL 4634 -403 \nQ 4269 -403 3821 -406 \nQ 3373 -410 2816 -416 \nQ 1722 -435 1562 -435 \nL 1568 230 \nL 1542 1274 \nL 1664 1274 \nQ 1850 1274 1965 1254 \nQ 2080 1235 2080 1184 \nQ 2080 1165 2054 1081 \nQ 2029 998 2029 941 \nL 2029 -32 \nL 2893 -45 \nQ 2950 -45 3043 -45 \nQ 3136 -45 3270 -38 \nQ 3398 -32 3497 -32 \nQ 3597 -32 3667 -32 \nL 5587 -13 \nz\nM 5453 5062 \nQ 5453 5024 5421 4944 \nQ 5389 4864 5389 4832 \nL 5389 3040 \nQ 5389 2362 5398 1770 \nQ 5408 1178 5421 762 \nL 4934 749 \nL 4947 3187 \nL 4915 5190 \nL 4979 5190 \nQ 5190 5190 5321 5171 \nQ 5453 5152 5453 5062 \nz\nM 3789 3264 \nQ 3789 2694 3328 2330 \nQ 2893 1997 2259 1997 \nQ 1619 1997 1190 2304 \nQ 710 2650 710 3194 \nQ 710 3814 1171 4192 \nQ 1600 4544 2234 4544 \nQ 2906 4544 3347 4192 \nQ 3789 3846 3789 3264 \nz\n\" id=\"AppleGothic-c778\" transform=\"scale(0.015625)\"/>\n      </defs>\n      <use xlink:href=\"#AppleGothic-c0ac\"/>\n      <use x=\"99.999985\" xlink:href=\"#AppleGothic-b78c\"/>\n      <use x=\"199.999969\" xlink:href=\"#AppleGothic-c778\"/>\n     </g>\n    </g>\n   </g>\n  </g>\n  <g id=\"axes_3\">\n   <g id=\"patch_14\">\n    <path d=\"M 54.1 112.813714 \nL 388.9 112.813714 \nL 388.9 81.750857 \nL 54.1 81.750857 \nz\n\" style=\"fill:#eaeaf2;\"/>\n   </g>\n   <g id=\"matplotlib.axis_5\">\n    <g id=\"xtick_15\">\n     <g id=\"line2d_25\">\n      <path clip-path=\"url(#p3c180a1e5b)\" d=\"M 69.318182 112.813714 \nL 69.318182 81.750857 \n\" style=\"fill:none;stroke:#ffffff;stroke-linecap:round;\"/>\n     </g>\n    </g>\n    <g id=\"xtick_16\">\n     <g id=\"line2d_26\">\n      <path clip-path=\"url(#p3c180a1e5b)\" d=\"M 120.045455 112.813714 \nL 120.045455 81.750857 \n\" style=\"fill:none;stroke:#ffffff;stroke-linecap:round;\"/>\n     </g>\n    </g>\n    <g id=\"xtick_17\">\n     <g id=\"line2d_27\">\n      <path clip-path=\"url(#p3c180a1e5b)\" d=\"M 170.772727 112.813714 \nL 170.772727 81.750857 \n\" style=\"fill:none;stroke:#ffffff;stroke-linecap:round;\"/>\n     </g>\n    </g>\n    <g id=\"xtick_18\">\n     <g id=\"line2d_28\">\n      <path clip-path=\"url(#p3c180a1e5b)\" d=\"M 221.5 112.813714 \nL 221.5 81.750857 \n\" style=\"fill:none;stroke:#ffffff;stroke-linecap:round;\"/>\n     </g>\n    </g>\n    <g id=\"xtick_19\">\n     <g id=\"line2d_29\">\n      <path clip-path=\"url(#p3c180a1e5b)\" d=\"M 272.227273 112.813714 \nL 272.227273 81.750857 \n\" style=\"fill:none;stroke:#ffffff;stroke-linecap:round;\"/>\n     </g>\n    </g>\n    <g id=\"xtick_20\">\n     <g id=\"line2d_30\">\n      <path clip-path=\"url(#p3c180a1e5b)\" d=\"M 322.954545 112.813714 \nL 322.954545 81.750857 \n\" style=\"fill:none;stroke:#ffffff;stroke-linecap:round;\"/>\n     </g>\n    </g>\n    <g id=\"xtick_21\">\n     <g id=\"line2d_31\">\n      <path clip-path=\"url(#p3c180a1e5b)\" d=\"M 373.681818 112.813714 \nL 373.681818 81.750857 \n\" style=\"fill:none;stroke:#ffffff;stroke-linecap:round;\"/>\n     </g>\n    </g>\n   </g>\n   <g id=\"matplotlib.axis_6\">\n    <g id=\"ytick_5\">\n     <g id=\"line2d_32\">\n      <path clip-path=\"url(#p3c180a1e5b)\" d=\"M 54.1 112.365454 \nL 388.9 112.365454 \n\" style=\"fill:none;stroke:#ffffff;stroke-linecap:round;\"/>\n     </g>\n     <g id=\"text_7\">\n      <!-- 0 -->\n      <g style=\"fill:#262626;\" transform=\"translate(37.12 116.677797)scale(0.11 -0.11)\">\n       <use xlink:href=\"#AppleGothic-30\"/>\n      </g>\n     </g>\n    </g>\n    <g id=\"ytick_6\">\n     <g id=\"line2d_33\">\n      <path clip-path=\"url(#p3c180a1e5b)\" d=\"M 54.1 88.029913 \nL 388.9 88.029913 \n\" style=\"fill:none;stroke:#ffffff;stroke-linecap:round;\"/>\n     </g>\n     <g id=\"text_8\">\n      <!-- 2500 -->\n      <g style=\"fill:#262626;\" transform=\"translate(14.68 92.342257)scale(0.11 -0.11)\">\n       <use xlink:href=\"#AppleGothic-32\"/>\n       <use x=\"67.999985\" xlink:href=\"#AppleGothic-35\"/>\n       <use x=\"135.999969\" xlink:href=\"#AppleGothic-30\"/>\n       <use x=\"203.999954\" xlink:href=\"#AppleGothic-30\"/>\n      </g>\n     </g>\n    </g>\n   </g>\n   <g id=\"line2d_34\">\n    <path clip-path=\"url(#p3c180a1e5b)\" d=\"M 69.318182 111.401766 \nM 272.227273 83.162805 \nL 373.681818 92.897021 \n\" style=\"fill:none;stroke:#55a868;stroke-linecap:round;stroke-width:1.5;\"/>\n   </g>\n   <g id=\"patch_15\">\n    <path d=\"M 54.1 112.813714 \nL 54.1 81.750857 \n\" style=\"fill:none;stroke:#ffffff;stroke-linecap:square;stroke-linejoin:miter;stroke-width:1.25;\"/>\n   </g>\n   <g id=\"patch_16\">\n    <path d=\"M 388.9 112.813714 \nL 388.9 81.750857 \n\" style=\"fill:none;stroke:#ffffff;stroke-linecap:square;stroke-linejoin:miter;stroke-width:1.25;\"/>\n   </g>\n   <g id=\"patch_17\">\n    <path d=\"M 54.1 112.813714 \nL 388.9 112.813714 \n\" style=\"fill:none;stroke:#ffffff;stroke-linecap:square;stroke-linejoin:miter;stroke-width:1.25;\"/>\n   </g>\n   <g id=\"patch_18\">\n    <path d=\"M 54.1 81.750857 \nL 388.9 81.750857 \n\" style=\"fill:none;stroke:#ffffff;stroke-linecap:square;stroke-linejoin:miter;stroke-width:1.25;\"/>\n   </g>\n   <g id=\"legend_3\">\n    <g id=\"patch_19\">\n     <path d=\"M 61.8 106.567888 \nL 141 106.567888 \nQ 143.2 106.567888 143.2 104.367888 \nL 143.2 89.450857 \nQ 143.2 87.250857 141 87.250857 \nL 61.8 87.250857 \nQ 59.6 87.250857 59.6 89.450857 \nL 59.6 104.367888 \nQ 59.6 106.567888 61.8 106.567888 \nz\n\" style=\"fill:#eaeaf2;opacity:0.8;stroke:#cccccc;stroke-linejoin:miter;\"/>\n    </g>\n    <g id=\"line2d_35\">\n     <path d=\"M 64 96.425545 \nL 86 96.425545 \n\" style=\"fill:none;stroke:#55a868;stroke-linecap:round;stroke-width:1.5;\"/>\n    </g>\n    <g id=\"line2d_36\"/>\n    <g id=\"text_9\">\n     <!-- 잡플래닛 -->\n     <g style=\"fill:#262626;\" transform=\"translate(94.8 100.275545)scale(0.11 -0.11)\">\n      <defs>\n       <path d=\"M 4653 26 \nL 4653 730 \nL 3130 730 \nQ 2771 730 2448 723 \nQ 2125 717 1856 704 \nL 1856 6 \nL 3366 -6 \nQ 3750 -6 4057 0 \nQ 4365 6 4653 26 \nz\nM 5139 1638 \nQ 5139 1619 5113 1548 \nQ 5088 1478 5088 1427 \nL 5094 -486 \nL 4646 -493 \nL 4634 -352 \nQ 4550 -346 4419 -346 \nQ 4288 -346 4096 -339 \nQ 3910 -333 3721 -333 \nQ 3533 -333 3347 -333 \nQ 2893 -333 2541 -339 \nQ 2189 -346 1856 -365 \nL 1830 -499 \nL 1408 -506 \nQ 1414 -410 1424 -109 \nQ 1434 192 1434 602 \nQ 1434 934 1434 1142 \nQ 1434 1350 1427 1440 \nQ 1427 1523 1424 1590 \nQ 1421 1658 1414 1709 \nL 1453 1709 \nQ 1530 1709 1606 1705 \nQ 1683 1702 1744 1692 \nQ 1805 1683 1846 1667 \nQ 1888 1651 1888 1626 \nQ 1888 1613 1872 1539 \nQ 1856 1466 1856 1434 \nL 1856 1062 \nQ 2182 1062 2441 1062 \nQ 2701 1062 2906 1069 \nQ 3712 1082 4147 1088 \nQ 4582 1094 4659 1094 \nL 4659 1510 \nL 4646 1715 \nL 4730 1715 \nQ 4934 1715 5036 1702 \nQ 5139 1690 5139 1638 \nz\nM 4083 2291 \nL 3936 2144 \nQ 3866 2061 3821 2019 \nQ 3776 1978 3763 1965 \nQ 3622 2022 3526 2074 \nQ 3219 2253 2842 2605 \nQ 2726 2714 2617 2845 \nQ 2509 2976 2406 3142 \nQ 2374 3194 2332 3270 \nQ 2291 3347 2246 3437 \nQ 2189 3328 2141 3245 \nQ 2093 3162 2048 3091 \nQ 1920 2886 1789 2726 \nQ 1658 2566 1517 2435 \nQ 1376 2304 1229 2195 \nQ 1082 2086 922 1984 \nQ 870 1952 806 1913 \nQ 742 1875 666 1830 \nQ 640 1856 448 1990 \nQ 416 2003 377 2035 \nQ 339 2067 275 2112 \nL 282 2131 \nQ 397 2182 496 2230 \nQ 595 2278 672 2330 \nQ 909 2477 1123 2662 \nQ 1338 2848 1536 3072 \nQ 1760 3341 1888 3689 \nQ 2016 4038 2016 4384 \nL 640 4384 \nL 640 4774 \nQ 826 4768 1037 4768 \nQ 1248 4768 1478 4762 \nL 2234 4762 \nL 3322 4762 \nQ 3482 4768 3629 4771 \nQ 3776 4774 3910 4781 \nL 3910 4384 \nL 3226 4390 \nL 2477 4371 \nQ 2477 4115 2534 3866 \nQ 2630 3482 2867 3174 \nQ 3206 2739 3667 2490 \nQ 3821 2400 4070 2310 \nL 4083 2291 \nz\nM 6010 2982 \nL 5536 3002 \nL 5107 2995 \nL 5114 2317 \nL 5101 1926 \nL 4659 1914 \nQ 4672 2099 4678 2470 \nQ 4685 2842 4685 3328 \nQ 4685 3827 4685 4163 \nQ 4685 4499 4678 4666 \nQ 4672 4986 4659 5190 \nQ 4813 5190 4979 5171 \nQ 5158 5152 5158 5082 \nQ 5114 4966 5114 4870 \nL 5114 3373 \nL 5402 3360 \nL 6010 3366 \nL 6010 2982 \nz\n\" id=\"AppleGothic-c7a1\" transform=\"scale(0.015625)\"/>\n       <path d=\"M 5222 -358 \nL 3200 -339 \nL 1286 -358 \nL 1299 160 \nL 1286 858 \nL 3149 851 \nL 4614 864 \nL 4614 1363 \nL 3123 1376 \nQ 2912 1376 2621 1369 \nQ 2330 1363 1952 1350 \nQ 1824 1344 1657 1341 \nQ 1491 1338 1280 1325 \nL 1280 1696 \nQ 1453 1690 1677 1690 \nQ 1901 1690 2170 1683 \nL 3130 1683 \nL 5075 1696 \nL 5062 1114 \nL 5075 531 \nL 1734 531 \nL 1734 -13 \nQ 1978 -26 2298 -32 \nQ 2618 -38 3008 -38 \nL 3187 -38 \nQ 3629 -38 3942 -35 \nQ 4256 -32 4461 -26 \nQ 4858 -19 5222 13 \nL 5222 -358 \nz\nM 6022 2138 \nQ 5875 2144 5756 2144 \nQ 5638 2144 5530 2150 \nQ 4800 2176 4224 2185 \nQ 3648 2195 3213 2195 \nQ 3002 2195 2742 2192 \nQ 2483 2189 2176 2182 \nQ 1862 2176 1571 2176 \nQ 1280 2176 998 2170 \nQ 723 2163 566 2163 \nQ 410 2163 378 2163 \nL 378 2560 \nQ 474 2554 656 2547 \nQ 838 2541 1164 2534 \nQ 1491 2528 1987 2521 \nQ 2483 2515 3200 2515 \nQ 3699 2515 4108 2515 \nQ 4518 2515 4845 2522 \nQ 5165 2528 5459 2531 \nQ 5754 2534 6022 2541 \nL 6022 2138 \nz\nM 5331 3014 \nQ 5242 3021 5168 3021 \nQ 5094 3021 5024 3021 \nQ 4045 3040 3232 3040 \nL 1018 3027 \nL 1018 3398 \nL 2150 3354 \nQ 2138 3405 2131 3446 \nQ 2125 3488 2118 3520 \nQ 2080 3706 2042 3834 \nQ 2029 3891 2006 3961 \nQ 1984 4032 1952 4122 \nQ 1888 4275 1888 4339 \nQ 1888 4384 1933 4393 \nQ 1978 4403 2086 4403 \nL 2259 4403 \nQ 2394 4403 2394 4326 \nQ 2394 4218 2406 4093 \nQ 2419 3968 2438 3837 \nQ 2458 3706 2486 3581 \nQ 2515 3456 2547 3354 \nL 3162 3341 \nL 3808 3354 \nQ 3878 3597 3913 3869 \nQ 3949 4141 3949 4442 \nQ 4051 4442 4237 4403 \nQ 4429 4358 4429 4294 \nQ 4429 4269 4406 4221 \nQ 4384 4173 4378 4154 \nL 4211 3347 \nQ 4339 3347 4496 3350 \nQ 4653 3354 4858 3360 \nQ 5261 3379 5331 3379 \nL 5331 3014 \nz\nM 5350 4595 \nQ 5114 4608 4928 4614 \nQ 4742 4621 4602 4627 \nQ 4173 4640 3830 4649 \nQ 3488 4659 3219 4659 \nQ 2502 4659 1955 4646 \nQ 1408 4634 1030 4627 \nL 1030 5037 \nQ 1197 5030 1424 5024 \nQ 1651 5018 1958 5011 \nQ 2266 5005 2570 5001 \nQ 2874 4998 3187 4998 \nL 4467 4998 \nQ 4915 5005 5350 5018 \nL 5350 4595 \nz\n\" id=\"AppleGothic-d50c\" transform=\"scale(0.015625)\"/>\n       <path d=\"M 5690 5082 \nQ 5670 5005 5651 4937 \nQ 5632 4870 5632 4800 \nL 5619 2496 \nQ 5619 1933 5619 1536 \nQ 5619 1139 5626 896 \nQ 5632 653 5632 422 \nQ 5632 192 5638 -19 \nQ 5645 -442 5658 -442 \nL 5184 -461 \nQ 5197 -218 5203 218 \nQ 5203 442 5206 662 \nQ 5210 883 5210 1107 \nL 5197 2246 \nL 4371 2246 \nL 4390 -179 \nL 3942 -205 \nL 3974 3142 \nQ 3974 3622 3974 3952 \nQ 3974 4282 3968 4467 \nQ 3962 4653 3958 4806 \nQ 3955 4960 3942 5082 \nQ 4154 5082 4301 5043 \nQ 4448 5005 4448 4947 \nQ 4448 4915 4413 4825 \nQ 4378 4736 4378 4666 \nL 4371 2618 \nL 5203 2618 \nL 5203 3853 \nL 5178 5190 \nL 5248 5190 \nQ 5440 5190 5565 5171 \nQ 5690 5152 5690 5082 \nz\nM 3546 1030 \nQ 3424 1005 3328 982 \nQ 3232 960 3142 947 \nQ 2880 902 2595 860 \nQ 2310 819 2003 787 \nQ 1888 774 1699 761 \nQ 1510 749 1242 736 \nQ 1171 730 1072 726 \nQ 973 723 858 717 \nQ 858 781 858 915 \nQ 858 1050 864 1254 \nQ 870 1466 873 1587 \nQ 877 1709 877 1741 \nL 864 2854 \nL 1574 2848 \nL 2656 2867 \nL 2656 4000 \nL 1811 4000 \nQ 1491 4000 1248 3993 \nQ 1005 3987 819 3974 \nL 819 4403 \nL 1850 4384 \nL 3085 4397 \nL 3072 3603 \nL 3091 2490 \nL 1293 2477 \nL 1280 1805 \nL 1293 1146 \nL 1613 1146 \nQ 1696 1152 1824 1161 \nQ 1952 1171 2131 1190 \nQ 2406 1216 2662 1251 \nQ 2918 1286 3162 1331 \nQ 3245 1344 3341 1363 \nQ 3437 1382 3546 1414 \nL 3546 1030 \nz\n\" id=\"AppleGothic-b798\" transform=\"scale(0.015625)\"/>\n       <path d=\"M 5843 -64 \nQ 5837 -83 5824 -96 \nQ 5798 -128 5760 -160 \nQ 5722 -192 5613 -346 \nQ 5600 -371 5574 -400 \nQ 5549 -429 5517 -474 \nQ 4960 -358 4384 32 \nQ 3744 454 3520 928 \nQ 3354 678 3334 659 \nQ 3091 339 2694 51 \nQ 2253 -282 1766 -442 \nQ 1728 -454 1677 -470 \nQ 1626 -486 1555 -506 \nQ 1498 -448 1459 -409 \nQ 1421 -371 1389 -346 \nQ 1216 -173 1216 -154 \nQ 1216 -141 1286 -109 \nQ 1664 -26 2000 137 \nQ 2336 301 2630 550 \nQ 3322 1133 3322 1818 \nQ 3418 1818 3648 1760 \nQ 3878 1715 3878 1632 \nQ 3878 1619 3843 1536 \nQ 3808 1453 3808 1402 \nQ 3808 1331 3930 1120 \nQ 4032 966 4166 809 \nQ 4301 653 4486 506 \nQ 4819 237 5293 83 \nQ 5376 58 5472 32 \nQ 5568 6 5696 -19 \nQ 5747 -26 5795 -29 \nQ 5843 -32 5843 -64 \nz\nM 5446 5165 \nQ 5446 5146 5420 5056 \nQ 5395 4966 5395 4896 \nL 5389 3629 \nL 5414 1523 \nL 4928 1485 \nQ 4941 1894 4944 2387 \nQ 4947 2880 4947 3341 \nL 4947 3603 \nQ 4947 4064 4944 4365 \nQ 4941 4666 4934 4813 \nQ 4922 5114 4915 5242 \nL 5075 5242 \nQ 5229 5242 5337 5229 \nQ 5446 5216 5446 5165 \nz\nM 4512 2822 \nL 2701 2592 \nQ 2438 2560 2128 2534 \nQ 1818 2509 1453 2477 \nQ 1325 2464 1152 2454 \nQ 979 2445 762 2432 \nL 768 3648 \nQ 768 3904 768 4093 \nQ 768 4282 762 4410 \nQ 762 4538 758 4662 \nQ 755 4787 749 4909 \nL 915 4909 \nQ 1101 4909 1190 4889 \nQ 1280 4870 1280 4800 \nQ 1280 4768 1251 4669 \nQ 1222 4570 1222 4518 \nL 1222 2861 \nQ 1357 2867 1469 2873 \nQ 1581 2880 1677 2886 \nQ 1933 2906 2233 2934 \nQ 2534 2963 2886 3008 \nQ 3238 3053 3539 3088 \nQ 3840 3123 4090 3155 \nQ 4269 3174 4486 3213 \nL 4512 2822 \nz\n\" id=\"AppleGothic-b2db\" transform=\"scale(0.015625)\"/>\n      </defs>\n      <use xlink:href=\"#AppleGothic-c7a1\"/>\n      <use x=\"99.999985\" xlink:href=\"#AppleGothic-d50c\"/>\n      <use x=\"199.999969\" xlink:href=\"#AppleGothic-b798\"/>\n      <use x=\"299.999954\" xlink:href=\"#AppleGothic-b2db\"/>\n     </g>\n    </g>\n   </g>\n  </g>\n  <g id=\"axes_4\">\n   <g id=\"patch_20\">\n    <path d=\"M 54.1 150.089143 \nL 388.9 150.089143 \nL 388.9 119.026286 \nL 54.1 119.026286 \nz\n\" style=\"fill:#eaeaf2;\"/>\n   </g>\n   <g id=\"matplotlib.axis_7\">\n    <g id=\"xtick_22\">\n     <g id=\"line2d_37\">\n      <path clip-path=\"url(#p372f4d4a1d)\" d=\"M 69.318182 150.089143 \nL 69.318182 119.026286 \n\" style=\"fill:none;stroke:#ffffff;stroke-linecap:round;\"/>\n     </g>\n    </g>\n    <g id=\"xtick_23\">\n     <g id=\"line2d_38\">\n      <path clip-path=\"url(#p372f4d4a1d)\" d=\"M 120.045455 150.089143 \nL 120.045455 119.026286 \n\" style=\"fill:none;stroke:#ffffff;stroke-linecap:round;\"/>\n     </g>\n    </g>\n    <g id=\"xtick_24\">\n     <g id=\"line2d_39\">\n      <path clip-path=\"url(#p372f4d4a1d)\" d=\"M 170.772727 150.089143 \nL 170.772727 119.026286 \n\" style=\"fill:none;stroke:#ffffff;stroke-linecap:round;\"/>\n     </g>\n    </g>\n    <g id=\"xtick_25\">\n     <g id=\"line2d_40\">\n      <path clip-path=\"url(#p372f4d4a1d)\" d=\"M 221.5 150.089143 \nL 221.5 119.026286 \n\" style=\"fill:none;stroke:#ffffff;stroke-linecap:round;\"/>\n     </g>\n    </g>\n    <g id=\"xtick_26\">\n     <g id=\"line2d_41\">\n      <path clip-path=\"url(#p372f4d4a1d)\" d=\"M 272.227273 150.089143 \nL 272.227273 119.026286 \n\" style=\"fill:none;stroke:#ffffff;stroke-linecap:round;\"/>\n     </g>\n    </g>\n    <g id=\"xtick_27\">\n     <g id=\"line2d_42\">\n      <path clip-path=\"url(#p372f4d4a1d)\" d=\"M 322.954545 150.089143 \nL 322.954545 119.026286 \n\" style=\"fill:none;stroke:#ffffff;stroke-linecap:round;\"/>\n     </g>\n    </g>\n    <g id=\"xtick_28\">\n     <g id=\"line2d_43\">\n      <path clip-path=\"url(#p372f4d4a1d)\" d=\"M 373.681818 150.089143 \nL 373.681818 119.026286 \n\" style=\"fill:none;stroke:#ffffff;stroke-linecap:round;\"/>\n     </g>\n    </g>\n   </g>\n   <g id=\"matplotlib.axis_8\">\n    <g id=\"ytick_7\">\n     <g id=\"line2d_44\">\n      <path clip-path=\"url(#p372f4d4a1d)\" d=\"M 54.1 143.584923 \nL 388.9 143.584923 \n\" style=\"fill:none;stroke:#ffffff;stroke-linecap:round;\"/>\n     </g>\n     <g id=\"text_10\">\n      <!-- 1000 -->\n      <g style=\"fill:#262626;\" transform=\"translate(14.68 147.897267)scale(0.11 -0.11)\">\n       <use xlink:href=\"#AppleGothic-31\"/>\n       <use x=\"67.999985\" xlink:href=\"#AppleGothic-30\"/>\n       <use x=\"135.999969\" xlink:href=\"#AppleGothic-30\"/>\n       <use x=\"203.999954\" xlink:href=\"#AppleGothic-30\"/>\n      </g>\n     </g>\n    </g>\n    <g id=\"ytick_8\">\n     <g id=\"line2d_45\">\n      <path clip-path=\"url(#p372f4d4a1d)\" d=\"M 54.1 120.438234 \nL 388.9 120.438234 \n\" style=\"fill:none;stroke:#ffffff;stroke-linecap:round;\"/>\n     </g>\n     <g id=\"text_11\">\n      <!-- 2000 -->\n      <g style=\"fill:#262626;\" transform=\"translate(14.68 124.750578)scale(0.11 -0.11)\">\n       <use xlink:href=\"#AppleGothic-32\"/>\n       <use x=\"67.999985\" xlink:href=\"#AppleGothic-30\"/>\n       <use x=\"135.999969\" xlink:href=\"#AppleGothic-30\"/>\n       <use x=\"203.999954\" xlink:href=\"#AppleGothic-30\"/>\n      </g>\n     </g>\n    </g>\n   </g>\n   <g id=\"line2d_46\">\n    <path clip-path=\"url(#p372f4d4a1d)\" d=\"M 69.318182 144.047857 \nL 170.772727 143.121989 \nL 272.227273 148.677195 \nL 373.681818 120.438234 \n\" style=\"fill:none;stroke:#c44e52;stroke-linecap:round;stroke-width:1.5;\"/>\n   </g>\n   <g id=\"patch_21\">\n    <path d=\"M 54.1 150.089143 \nL 54.1 119.026286 \n\" style=\"fill:none;stroke:#ffffff;stroke-linecap:square;stroke-linejoin:miter;stroke-width:1.25;\"/>\n   </g>\n   <g id=\"patch_22\">\n    <path d=\"M 388.9 150.089143 \nL 388.9 119.026286 \n\" style=\"fill:none;stroke:#ffffff;stroke-linecap:square;stroke-linejoin:miter;stroke-width:1.25;\"/>\n   </g>\n   <g id=\"patch_23\">\n    <path d=\"M 54.1 150.089143 \nL 388.9 150.089143 \n\" style=\"fill:none;stroke:#ffffff;stroke-linecap:square;stroke-linejoin:miter;stroke-width:1.25;\"/>\n   </g>\n   <g id=\"patch_24\">\n    <path d=\"M 54.1 119.026286 \nL 388.9 119.026286 \n\" style=\"fill:none;stroke:#ffffff;stroke-linecap:square;stroke-linejoin:miter;stroke-width:1.25;\"/>\n   </g>\n   <g id=\"legend_4\">\n    <g id=\"patch_25\">\n     <path d=\"M 302 143.843317 \nL 381.2 143.843317 \nQ 383.4 143.843317 383.4 141.643317 \nL 383.4 126.726286 \nQ 383.4 124.526286 381.2 124.526286 \nL 302 124.526286 \nQ 299.8 124.526286 299.8 126.726286 \nL 299.8 141.643317 \nQ 299.8 143.843317 302 143.843317 \nz\n\" style=\"fill:#eaeaf2;opacity:0.8;stroke:#cccccc;stroke-linejoin:miter;\"/>\n    </g>\n    <g id=\"line2d_47\">\n     <path d=\"M 304.2 133.700973 \nL 326.2 133.700973 \n\" style=\"fill:none;stroke:#c44e52;stroke-linecap:round;stroke-width:1.5;\"/>\n    </g>\n    <g id=\"line2d_48\"/>\n    <g id=\"text_12\">\n     <!-- 잡코리아 -->\n     <g style=\"fill:#262626;\" transform=\"translate(335 137.550973)scale(0.11 -0.11)\">\n      <defs>\n       <path d=\"M 6035 243 \nL 5510 243 \nQ 5178 250 4611 256 \nQ 4045 262 3386 269 \nL 365 243 \nL 365 698 \nQ 544 691 745 684 \nQ 947 678 1171 666 \nQ 1395 666 1526 662 \nQ 1658 659 1690 659 \nL 2765 659 \nL 2778 1491 \nL 2765 2003 \nL 2797 2003 \nQ 3002 2003 3149 1980 \nQ 3296 1958 3296 1882 \nQ 3296 1856 3270 1782 \nQ 3245 1709 3245 1670 \nL 3258 659 \nL 4582 659 \nQ 4998 659 5353 668 \nQ 5709 678 6035 698 \nL 6035 243 \nz\nM 5344 4410 \nQ 5344 4083 5286 3424 \nQ 5229 2758 5171 2381 \nQ 5139 2189 5094 1958 \nQ 5050 1728 4986 1453 \nQ 4973 1402 4960 1341 \nQ 4947 1280 4934 1203 \nL 4480 1216 \nL 4614 1830 \nQ 4627 1914 4649 2035 \nQ 4672 2157 4698 2330 \nQ 4704 2381 4717 2448 \nQ 4730 2515 4742 2605 \nQ 4589 2573 4393 2547 \nQ 4198 2522 3968 2490 \nQ 3738 2464 3539 2451 \nQ 3341 2438 3174 2438 \nQ 2963 2419 2691 2400 \nQ 2419 2381 2080 2368 \nQ 1971 2362 1820 2358 \nQ 1670 2355 1478 2342 \nQ 1440 2342 1382 2323 \nQ 1248 2278 1216 2278 \nQ 1139 2278 1075 2470 \nQ 1011 2656 1011 2765 \nL 1466 2758 \nQ 1510 2758 1676 2764 \nQ 1843 2771 2131 2784 \nQ 2419 2797 2614 2800 \nQ 2810 2803 2918 2803 \nQ 3315 2803 3660 2822 \nQ 4006 2842 4314 2886 \nQ 4416 2899 4534 2921 \nQ 4653 2944 4781 2976 \nL 4826 3398 \nL 4845 4013 \nL 3386 4026 \nL 1120 4013 \nL 1120 4416 \nQ 1216 4410 1296 4410 \nQ 1376 4410 1446 4410 \nQ 2349 4390 2758 4390 \nL 5344 4410 \nz\n\" id=\"AppleGothic-cf54\" transform=\"scale(0.015625)\"/>\n       <path d=\"M 5427 5069 \nQ 5427 5050 5408 4963 \nQ 5389 4877 5389 4813 \nL 5382 2342 \nL 5395 -493 \nL 4922 -499 \nQ 4922 -358 4922 -147 \nQ 4922 64 4928 352 \nQ 4934 640 4934 931 \nQ 4934 1222 4941 1530 \nQ 4947 1837 4950 2016 \nQ 4954 2195 4954 2246 \nQ 4954 3507 4934 4045 \nQ 4934 4314 4928 4598 \nQ 4922 4883 4915 5190 \nL 5005 5190 \nQ 5171 5190 5299 5168 \nQ 5427 5146 5427 5069 \nz\nM 4461 813 \nQ 4333 781 4217 761 \nQ 4102 742 4006 730 \nQ 3706 685 3405 669 \nQ 3104 653 2784 653 \nQ 2432 653 2073 640 \nQ 1715 627 1344 602 \nQ 1216 595 1053 582 \nQ 890 570 698 544 \nL 717 1523 \nL 704 2816 \nL 1978 2810 \nL 2605 2810 \nQ 2720 2816 2829 2819 \nQ 2938 2822 3046 2835 \nL 3059 3450 \nL 3046 4115 \nL 2016 4122 \nQ 1530 4122 1222 4115 \nQ 915 4109 704 4096 \nL 704 4512 \nQ 1050 4499 1453 4492 \nQ 1856 4486 2227 4486 \nL 3494 4499 \nL 3482 3411 \nL 3494 2445 \nQ 3373 2438 3213 2438 \nQ 3053 2438 2848 2432 \nL 2125 2432 \nQ 1901 2432 1741 2432 \nQ 1581 2432 1478 2426 \nQ 1280 2426 1158 2406 \nL 1158 979 \nL 1408 973 \nQ 1414 973 1542 979 \nQ 1670 986 1933 998 \nQ 2189 1011 2381 1017 \nQ 2573 1024 2694 1024 \nQ 3046 1024 3369 1046 \nQ 3693 1069 3981 1114 \nQ 4083 1126 4195 1148 \nQ 4307 1171 4435 1203 \nL 4461 813 \nz\n\" id=\"AppleGothic-b9ac\" transform=\"scale(0.015625)\"/>\n       <path d=\"M 3174 2509 \nQ 3174 3309 2848 3725 \nQ 2560 4102 2048 4102 \nQ 1786 4102 1587 3990 \nQ 1389 3878 1251 3667 \nQ 1114 3456 1043 3155 \nQ 973 2854 973 2483 \nQ 973 1747 1277 1353 \nQ 1581 960 2125 960 \nQ 2675 960 2944 1453 \nQ 3174 1862 3174 2509 \nz\nM 6042 2048 \nL 5107 2054 \nL 5152 -595 \nL 4672 -595 \nL 4691 2483 \nQ 4691 2893 4691 3203 \nQ 4691 3514 4685 3725 \nQ 4672 4154 4666 4666 \nQ 4666 5190 4659 5190 \nL 4685 5190 \nQ 4870 5190 5008 5171 \nQ 5146 5152 5146 5082 \nQ 5146 5043 5139 5030 \nQ 5107 4915 5107 4902 \nL 5107 2432 \nL 6042 2458 \nL 6042 2048 \nz\nM 3597 2534 \nQ 3597 1696 3245 1178 \nQ 2842 582 2048 582 \nQ 1299 582 902 1171 \nQ 531 1709 531 2534 \nQ 531 3341 909 3866 \nQ 1331 4448 2061 4448 \nQ 2880 4448 3264 3885 \nQ 3597 3398 3597 2534 \nz\n\" id=\"AppleGothic-c544\" transform=\"scale(0.015625)\"/>\n      </defs>\n      <use xlink:href=\"#AppleGothic-c7a1\"/>\n      <use x=\"99.999985\" xlink:href=\"#AppleGothic-cf54\"/>\n      <use x=\"199.999969\" xlink:href=\"#AppleGothic-b9ac\"/>\n      <use x=\"299.999954\" xlink:href=\"#AppleGothic-c544\"/>\n     </g>\n    </g>\n   </g>\n  </g>\n  <g id=\"axes_5\">\n   <g id=\"patch_26\">\n    <path d=\"M 54.1 187.364571 \nL 388.9 187.364571 \nL 388.9 156.301714 \nL 54.1 156.301714 \nz\n\" style=\"fill:#eaeaf2;\"/>\n   </g>\n   <g id=\"matplotlib.axis_9\">\n    <g id=\"xtick_29\">\n     <g id=\"line2d_49\">\n      <path clip-path=\"url(#p6ef8d086ac)\" d=\"M 69.318182 187.364571 \nL 69.318182 156.301714 \n\" style=\"fill:none;stroke:#ffffff;stroke-linecap:round;\"/>\n     </g>\n    </g>\n    <g id=\"xtick_30\">\n     <g id=\"line2d_50\">\n      <path clip-path=\"url(#p6ef8d086ac)\" d=\"M 120.045455 187.364571 \nL 120.045455 156.301714 \n\" style=\"fill:none;stroke:#ffffff;stroke-linecap:round;\"/>\n     </g>\n    </g>\n    <g id=\"xtick_31\">\n     <g id=\"line2d_51\">\n      <path clip-path=\"url(#p6ef8d086ac)\" d=\"M 170.772727 187.364571 \nL 170.772727 156.301714 \n\" style=\"fill:none;stroke:#ffffff;stroke-linecap:round;\"/>\n     </g>\n    </g>\n    <g id=\"xtick_32\">\n     <g id=\"line2d_52\">\n      <path clip-path=\"url(#p6ef8d086ac)\" d=\"M 221.5 187.364571 \nL 221.5 156.301714 \n\" style=\"fill:none;stroke:#ffffff;stroke-linecap:round;\"/>\n     </g>\n    </g>\n    <g id=\"xtick_33\">\n     <g id=\"line2d_53\">\n      <path clip-path=\"url(#p6ef8d086ac)\" d=\"M 272.227273 187.364571 \nL 272.227273 156.301714 \n\" style=\"fill:none;stroke:#ffffff;stroke-linecap:round;\"/>\n     </g>\n    </g>\n    <g id=\"xtick_34\">\n     <g id=\"line2d_54\">\n      <path clip-path=\"url(#p6ef8d086ac)\" d=\"M 322.954545 187.364571 \nL 322.954545 156.301714 \n\" style=\"fill:none;stroke:#ffffff;stroke-linecap:round;\"/>\n     </g>\n    </g>\n    <g id=\"xtick_35\">\n     <g id=\"line2d_55\">\n      <path clip-path=\"url(#p6ef8d086ac)\" d=\"M 373.681818 187.364571 \nL 373.681818 156.301714 \n\" style=\"fill:none;stroke:#ffffff;stroke-linecap:round;\"/>\n     </g>\n    </g>\n   </g>\n   <g id=\"matplotlib.axis_10\">\n    <g id=\"ytick_9\">\n     <g id=\"line2d_56\">\n      <path clip-path=\"url(#p6ef8d086ac)\" d=\"M 54.1 174.062535 \nL 388.9 174.062535 \n\" style=\"fill:none;stroke:#ffffff;stroke-linecap:round;\"/>\n     </g>\n     <g id=\"text_13\">\n      <!-- 10000 -->\n      <g style=\"fill:#262626;\" transform=\"translate(7.2 178.374878)scale(0.11 -0.11)\">\n       <use xlink:href=\"#AppleGothic-31\"/>\n       <use x=\"67.999985\" xlink:href=\"#AppleGothic-30\"/>\n       <use x=\"135.999969\" xlink:href=\"#AppleGothic-30\"/>\n       <use x=\"203.999954\" xlink:href=\"#AppleGothic-30\"/>\n       <use x=\"271.999939\" xlink:href=\"#AppleGothic-30\"/>\n      </g>\n     </g>\n    </g>\n    <g id=\"ytick_10\">\n     <g id=\"line2d_57\">\n      <path clip-path=\"url(#p6ef8d086ac)\" d=\"M 54.1 159.199923 \nL 388.9 159.199923 \n\" style=\"fill:none;stroke:#ffffff;stroke-linecap:round;\"/>\n     </g>\n     <g id=\"text_14\">\n      <!-- 20000 -->\n      <g style=\"fill:#262626;\" transform=\"translate(7.2 163.512267)scale(0.11 -0.11)\">\n       <use xlink:href=\"#AppleGothic-32\"/>\n       <use x=\"67.999985\" xlink:href=\"#AppleGothic-30\"/>\n       <use x=\"135.999969\" xlink:href=\"#AppleGothic-30\"/>\n       <use x=\"203.999954\" xlink:href=\"#AppleGothic-30\"/>\n       <use x=\"271.999939\" xlink:href=\"#AppleGothic-30\"/>\n      </g>\n     </g>\n    </g>\n   </g>\n   <g id=\"line2d_58\">\n    <path clip-path=\"url(#p6ef8d086ac)\" d=\"M 69.318182 159.199923 \nL 170.772727 159.199923 \nL 272.227273 157.713662 \nL 373.681818 185.952623 \n\" style=\"fill:none;stroke:#8172b3;stroke-linecap:round;stroke-width:1.5;\"/>\n   </g>\n   <g id=\"patch_27\">\n    <path d=\"M 54.1 187.364571 \nL 54.1 156.301714 \n\" style=\"fill:none;stroke:#ffffff;stroke-linecap:square;stroke-linejoin:miter;stroke-width:1.25;\"/>\n   </g>\n   <g id=\"patch_28\">\n    <path d=\"M 388.9 187.364571 \nL 388.9 156.301714 \n\" style=\"fill:none;stroke:#ffffff;stroke-linecap:square;stroke-linejoin:miter;stroke-width:1.25;\"/>\n   </g>\n   <g id=\"patch_29\">\n    <path d=\"M 54.1 187.364571 \nL 388.9 187.364571 \n\" style=\"fill:none;stroke:#ffffff;stroke-linecap:square;stroke-linejoin:miter;stroke-width:1.25;\"/>\n   </g>\n   <g id=\"patch_30\">\n    <path d=\"M 54.1 156.301714 \nL 388.9 156.301714 \n\" style=\"fill:none;stroke:#ffffff;stroke-linecap:square;stroke-linejoin:miter;stroke-width:1.25;\"/>\n   </g>\n   <g id=\"legend_5\">\n    <g id=\"patch_31\">\n     <path d=\"M 61.8 181.118746 \nL 130 181.118746 \nQ 132.2 181.118746 132.2 178.918746 \nL 132.2 164.001714 \nQ 132.2 161.801714 130 161.801714 \nL 61.8 161.801714 \nQ 59.6 161.801714 59.6 164.001714 \nL 59.6 178.918746 \nQ 59.6 181.118746 61.8 181.118746 \nz\n\" style=\"fill:#eaeaf2;opacity:0.8;stroke:#cccccc;stroke-linejoin:miter;\"/>\n    </g>\n    <g id=\"line2d_59\">\n     <path d=\"M 64 170.976402 \nL 86 170.976402 \n\" style=\"fill:none;stroke:#8172b3;stroke-linecap:round;stroke-width:1.5;\"/>\n    </g>\n    <g id=\"line2d_60\"/>\n    <g id=\"text_15\">\n     <!-- 스펙업 -->\n     <g style=\"fill:#262626;\" transform=\"translate(94.8 174.826402)scale(0.11 -0.11)\">\n      <defs>\n       <path d=\"M 5990 70 \nL 5504 70 \nQ 5184 70 4579 73 \nQ 3974 77 3226 83 \nQ 2810 83 2349 76 \nQ 1888 70 1376 58 \nQ 1190 51 950 44 \nQ 710 38 410 26 \nL 410 506 \nQ 480 499 544 499 \nQ 608 499 672 499 \nQ 1178 486 1814 476 \nQ 2451 467 3226 467 \nQ 3712 467 4080 467 \nQ 4448 467 4691 474 \nQ 5670 499 5990 531 \nL 5990 70 \nz\nM 5818 2310 \nQ 5818 2298 5763 2246 \nQ 5709 2195 5690 2163 \nL 5510 1920 \nQ 5382 1952 5280 1981 \nQ 5178 2010 5094 2029 \nQ 4589 2195 4169 2451 \nQ 3750 2707 3424 3162 \nQ 3322 3309 3181 3565 \nQ 3072 3315 2976 3162 \nQ 2662 2688 2131 2349 \nQ 1734 2093 1280 1958 \nQ 1203 1933 1104 1907 \nQ 1005 1882 883 1856 \nL 595 2246 \nQ 653 2259 659 2266 \nQ 826 2298 954 2336 \nQ 1082 2374 1184 2406 \nQ 1792 2618 2214 2963 \nQ 2682 3341 2861 3885 \nQ 2976 4218 2976 4550 \nQ 3181 4550 3341 4521 \nQ 3501 4493 3501 4442 \nQ 3501 4416 3482 4397 \nQ 3475 4390 3472 4390 \nQ 3469 4390 3462 4384 \nQ 3462 4378 3459 4346 \nQ 3456 4314 3453 4275 \nQ 3450 4237 3446 4195 \nQ 3443 4154 3443 4134 \nQ 3501 3834 3712 3488 \nQ 3923 3155 4243 2906 \nQ 4659 2598 5261 2445 \nQ 5363 2419 5494 2393 \nQ 5626 2368 5792 2336 \nQ 5811 2336 5818 2310 \nz\n\" id=\"AppleGothic-c2a4\" transform=\"scale(0.015625)\"/>\n       <path d=\"M 5619 -525 \nL 5139 -550 \nL 5158 576 \nL 5152 1114 \nL 3469 1107 \nQ 2848 1107 2393 1100 \nQ 1939 1094 1600 1082 \nL 1600 1517 \nQ 1779 1504 2330 1498 \nQ 2611 1491 2902 1491 \nQ 3194 1491 3514 1491 \nQ 4096 1491 4630 1497 \nQ 5165 1504 5594 1517 \nL 5594 499 \nQ 5594 250 5600 -22 \nQ 5606 -294 5619 -525 \nz\nM 3642 2054 \nQ 3462 1990 3110 1952 \nQ 2944 1939 2697 1929 \nQ 2451 1920 2125 1920 \nL 832 1818 \nQ 781 1805 733 1792 \nQ 685 1779 640 1766 \nQ 563 1766 518 1939 \nQ 467 2125 467 2208 \nL 960 2208 \nQ 1094 2208 1174 2214 \nQ 1254 2221 1318 2234 \nQ 1312 2272 1309 2307 \nQ 1306 2342 1306 2374 \nQ 1293 2541 1273 2681 \nQ 1254 2822 1242 2931 \nQ 1184 3373 1126 3648 \nQ 1114 3699 1101 3750 \nQ 1088 3802 1075 3859 \nL 1446 3866 \nQ 1568 3866 1568 3808 \nL 1568 3622 \nQ 1581 3603 1626 3206 \nQ 1722 2387 1722 2259 \nL 2355 2298 \nQ 2426 2682 2470 2941 \nQ 2515 3200 2534 3347 \nQ 2547 3494 2556 3632 \nQ 2566 3770 2566 3904 \nQ 2771 3904 2921 3872 \nQ 3072 3840 3072 3782 \nQ 3072 3744 3049 3696 \nQ 3027 3648 2995 3597 \nL 2886 2963 \nQ 2874 2886 2858 2784 \nQ 2842 2682 2816 2547 \nQ 2803 2464 2778 2323 \nQ 2848 2323 2957 2336 \nQ 3066 2349 3213 2374 \nQ 3360 2400 3459 2413 \nQ 3558 2426 3610 2426 \nL 3642 2054 \nz\nM 4582 4915 \nQ 4582 4870 4576 4851 \nQ 4544 4704 4544 4666 \nL 4544 2771 \nL 4544 2074 \nQ 4550 1901 4563 1766 \nL 4122 1754 \nQ 4128 1894 4131 2060 \nQ 4134 2227 4134 2362 \nL 4134 3072 \nL 3725 3078 \nL 3347 3066 \nL 3347 3456 \nQ 3386 3456 3450 3453 \nQ 3514 3450 3571 3446 \nQ 3629 3443 3677 3440 \nQ 3725 3437 3738 3437 \nL 4134 3450 \nL 4102 4998 \nL 4262 5005 \nQ 4390 5005 4486 4985 \nQ 4582 4966 4582 4915 \nz\nM 5651 5082 \nQ 5651 5050 5628 4957 \nQ 5606 4864 5606 4813 \nQ 5600 4755 5600 4704 \nQ 5600 4653 5600 4614 \nQ 5581 3968 5581 3437 \nL 5581 3162 \nL 5581 2234 \nQ 5587 2086 5590 1964 \nQ 5594 1843 5606 1741 \nL 5139 1734 \nL 5152 3187 \nL 5146 5190 \nL 5242 5190 \nQ 5434 5190 5542 5171 \nQ 5651 5152 5651 5082 \nz\nM 3552 4179 \nQ 3539 4179 3398 4179 \nQ 3258 4179 2989 4186 \nQ 2720 4192 2496 4195 \nQ 2272 4198 2099 4205 \nQ 1370 4198 989 4195 \nQ 608 4192 563 4192 \nL 563 4576 \nQ 640 4576 1037 4560 \nQ 1434 4544 2074 4544 \nQ 2419 4544 2659 4544 \nQ 2899 4544 3046 4550 \nQ 3194 4557 3318 4563 \nQ 3443 4570 3552 4576 \nL 3552 4179 \nz\n\" id=\"AppleGothic-d399\" transform=\"scale(0.015625)\"/>\n       <path d=\"M 4928 26 \nL 4928 800 \nQ 4819 794 4729 794 \nQ 4640 794 4570 794 \nQ 4070 781 3731 774 \nQ 3392 768 3200 768 \nQ 2771 768 2489 761 \nQ 2208 755 1965 736 \nL 1965 -32 \nL 3283 -45 \nQ 3507 -45 3769 -35 \nQ 4032 -26 4346 -13 \nQ 4550 -6 4928 26 \nz\nM 3187 3392 \nQ 3187 3846 2861 4128 \nQ 2566 4371 2144 4371 \nQ 1715 4371 1414 4128 \nQ 1082 3846 1082 3392 \nQ 1082 2963 1363 2720 \nQ 1645 2477 2106 2477 \nQ 2630 2477 2918 2765 \nQ 3187 3014 3187 3392 \nz\nM 5395 1651 \nQ 5395 1613 5389 1600 \nQ 5357 1485 5357 1453 \nL 5382 -461 \nL 4947 -499 \nL 4922 -365 \nL 3296 -365 \nQ 2848 -365 2550 -371 \nQ 2253 -378 1990 -397 \nL 1958 -525 \nL 1523 -557 \nQ 1530 -410 1533 -176 \nQ 1536 58 1536 474 \nQ 1536 800 1536 1021 \nQ 1536 1242 1530 1357 \nQ 1523 1472 1520 1568 \nQ 1517 1664 1504 1734 \nL 1683 1741 \nQ 1830 1741 1916 1725 \nQ 2003 1709 2003 1658 \nQ 2003 1651 1984 1584 \nQ 1965 1517 1965 1478 \nL 1965 1101 \nQ 2035 1094 2150 1094 \nQ 2266 1094 2413 1088 \nQ 2566 1082 2700 1082 \nQ 2835 1082 2944 1082 \nL 4928 1120 \nL 4915 1734 \nQ 4992 1734 5072 1734 \nQ 5152 1734 5229 1728 \nQ 5395 1715 5395 1651 \nz\nM 3616 3386 \nQ 3616 2816 3238 2477 \nQ 2829 2099 2106 2099 \nQ 1382 2099 979 2534 \nQ 640 2893 640 3386 \nQ 640 3968 1056 4346 \nQ 1472 4723 2106 4723 \nQ 2790 4723 3206 4358 \nQ 3616 3994 3616 3386 \nz\nM 5414 5082 \nQ 5414 5075 5382 4988 \nQ 5350 4902 5350 4806 \nL 5357 3366 \nL 5357 2541 \nQ 5363 2426 5366 2320 \nQ 5370 2214 5376 2112 \nL 4915 2074 \nQ 4915 2214 4918 2380 \nQ 4922 2547 4928 2752 \nQ 4934 2957 4937 3075 \nQ 4941 3194 4941 3226 \nL 4352 3238 \nQ 4224 3238 4083 3232 \nQ 3942 3226 3827 3213 \nL 3827 3616 \nQ 3872 3610 3942 3610 \nQ 4013 3610 4109 3603 \nL 4397 3603 \nQ 4640 3603 4752 3606 \nQ 4864 3610 4928 3622 \nL 4928 4762 \nL 4915 5190 \nQ 4998 5190 5088 5187 \nQ 5178 5184 5248 5171 \nQ 5318 5158 5366 5139 \nQ 5414 5120 5414 5082 \nz\n\" id=\"AppleGothic-c5c5\" transform=\"scale(0.015625)\"/>\n      </defs>\n      <use xlink:href=\"#AppleGothic-c2a4\"/>\n      <use x=\"99.999985\" xlink:href=\"#AppleGothic-d399\"/>\n      <use x=\"199.999969\" xlink:href=\"#AppleGothic-c5c5\"/>\n     </g>\n    </g>\n   </g>\n  </g>\n  <g id=\"axes_6\">\n   <g id=\"patch_32\">\n    <path d=\"M 54.1 224.64 \nL 388.9 224.64 \nL 388.9 193.577143 \nL 54.1 193.577143 \nz\n\" style=\"fill:#eaeaf2;\"/>\n   </g>\n   <g id=\"matplotlib.axis_11\">\n    <g id=\"xtick_36\">\n     <g id=\"line2d_61\">\n      <path clip-path=\"url(#p7e85171295)\" d=\"M 69.318182 224.64 \nL 69.318182 193.577143 \n\" style=\"fill:none;stroke:#ffffff;stroke-linecap:round;\"/>\n     </g>\n     <g id=\"text_16\">\n      <!-- 10/22 -->\n      <g style=\"fill:#262626;\" transform=\"translate(51.608182 242.764688)scale(0.11 -0.11)\">\n       <defs>\n        <path d=\"M 1965 5018 \nL 2368 5018 \nL 493 -672 \nL 90 -672 \nL 1965 5018 \nz\n\" id=\"AppleGothic-2f\" transform=\"scale(0.015625)\"/>\n       </defs>\n       <use xlink:href=\"#AppleGothic-31\"/>\n       <use x=\"67.999985\" xlink:href=\"#AppleGothic-30\"/>\n       <use x=\"135.999969\" xlink:href=\"#AppleGothic-2f\"/>\n       <use x=\"185.999954\" xlink:href=\"#AppleGothic-32\"/>\n       <use x=\"253.999939\" xlink:href=\"#AppleGothic-32\"/>\n      </g>\n     </g>\n    </g>\n    <g id=\"xtick_37\">\n     <g id=\"line2d_62\">\n      <path clip-path=\"url(#p7e85171295)\" d=\"M 120.045455 224.64 \nL 120.045455 193.577143 \n\" style=\"fill:none;stroke:#ffffff;stroke-linecap:round;\"/>\n     </g>\n    </g>\n    <g id=\"xtick_38\">\n     <g id=\"line2d_63\">\n      <path clip-path=\"url(#p7e85171295)\" d=\"M 170.772727 224.64 \nL 170.772727 193.577143 \n\" style=\"fill:none;stroke:#ffffff;stroke-linecap:round;\"/>\n     </g>\n     <g id=\"text_17\">\n      <!-- 10/23 -->\n      <g style=\"fill:#262626;\" transform=\"translate(153.062727 242.764688)scale(0.11 -0.11)\">\n       <defs>\n        <path d=\"M 550 333 \nL 550 870 \nQ 883 621 1235 483 \nQ 1587 346 1971 346 \nQ 2522 346 2861 666 \nQ 3219 992 3219 1421 \nQ 3219 1869 2842 2099 \nQ 2515 2304 1965 2304 \nL 992 2304 \nL 992 2701 \nL 1658 2701 \nQ 2298 2701 2662 2928 \nQ 3027 3155 3027 3584 \nQ 3027 3936 2752 4173 \nQ 2458 4429 1978 4429 \nQ 1786 4429 1597 4393 \nQ 1408 4358 1222 4282 \nQ 890 4141 531 3872 \nL 531 4422 \nQ 736 4531 912 4608 \nQ 1088 4685 1254 4736 \nQ 1626 4858 2022 4858 \nQ 2650 4858 3066 4531 \nQ 3488 4211 3488 3642 \nQ 3488 3168 3168 2861 \nQ 2976 2675 2643 2554 \nQ 2874 2522 3053 2448 \nQ 3232 2374 3366 2266 \nQ 3718 1971 3718 1434 \nQ 3718 813 3219 365 \nQ 2714 -83 1965 -83 \nQ 1549 -83 1126 70 \nQ 1024 102 880 166 \nQ 736 230 550 333 \nz\n\" id=\"AppleGothic-33\" transform=\"scale(0.015625)\"/>\n       </defs>\n       <use xlink:href=\"#AppleGothic-31\"/>\n       <use x=\"67.999985\" xlink:href=\"#AppleGothic-30\"/>\n       <use x=\"135.999969\" xlink:href=\"#AppleGothic-2f\"/>\n       <use x=\"185.999954\" xlink:href=\"#AppleGothic-32\"/>\n       <use x=\"253.999939\" xlink:href=\"#AppleGothic-33\"/>\n      </g>\n     </g>\n    </g>\n    <g id=\"xtick_39\">\n     <g id=\"line2d_64\">\n      <path clip-path=\"url(#p7e85171295)\" d=\"M 221.5 224.64 \nL 221.5 193.577143 \n\" style=\"fill:none;stroke:#ffffff;stroke-linecap:round;\"/>\n     </g>\n    </g>\n    <g id=\"xtick_40\">\n     <g id=\"line2d_65\">\n      <path clip-path=\"url(#p7e85171295)\" d=\"M 272.227273 224.64 \nL 272.227273 193.577143 \n\" style=\"fill:none;stroke:#ffffff;stroke-linecap:round;\"/>\n     </g>\n     <g id=\"text_18\">\n      <!-- 10/24 -->\n      <g style=\"fill:#262626;\" transform=\"translate(254.517273 242.764688)scale(0.11 -0.11)\">\n       <defs>\n        <path d=\"M 2662 4774 \nL 3130 4774 \nL 3130 1811 \nL 4000 1811 \nL 4000 1382 \nL 3130 1382 \nL 3130 0 \nL 2662 0 \nL 2662 1382 \nL 352 1382 \nL 352 1811 \nL 2662 4774 \nz\nM 2662 1811 \nL 2662 4166 \nL 838 1811 \nL 2662 1811 \nz\n\" id=\"AppleGothic-34\" transform=\"scale(0.015625)\"/>\n       </defs>\n       <use xlink:href=\"#AppleGothic-31\"/>\n       <use x=\"67.999985\" xlink:href=\"#AppleGothic-30\"/>\n       <use x=\"135.999969\" xlink:href=\"#AppleGothic-2f\"/>\n       <use x=\"185.999954\" xlink:href=\"#AppleGothic-32\"/>\n       <use x=\"253.999939\" xlink:href=\"#AppleGothic-34\"/>\n      </g>\n     </g>\n    </g>\n    <g id=\"xtick_41\">\n     <g id=\"line2d_66\">\n      <path clip-path=\"url(#p7e85171295)\" d=\"M 322.954545 224.64 \nL 322.954545 193.577143 \n\" style=\"fill:none;stroke:#ffffff;stroke-linecap:round;\"/>\n     </g>\n    </g>\n    <g id=\"xtick_42\">\n     <g id=\"line2d_67\">\n      <path clip-path=\"url(#p7e85171295)\" d=\"M 373.681818 224.64 \nL 373.681818 193.577143 \n\" style=\"fill:none;stroke:#ffffff;stroke-linecap:round;\"/>\n     </g>\n     <g id=\"text_19\">\n      <!-- 10/25 -->\n      <g style=\"fill:#262626;\" transform=\"translate(355.971818 242.764688)scale(0.11 -0.11)\">\n       <use xlink:href=\"#AppleGothic-31\"/>\n       <use x=\"67.999985\" xlink:href=\"#AppleGothic-30\"/>\n       <use x=\"135.999969\" xlink:href=\"#AppleGothic-2f\"/>\n       <use x=\"185.999954\" xlink:href=\"#AppleGothic-32\"/>\n       <use x=\"253.999939\" xlink:href=\"#AppleGothic-35\"/>\n      </g>\n     </g>\n    </g>\n   </g>\n   <g id=\"matplotlib.axis_12\">\n    <g id=\"ytick_11\">\n     <g id=\"line2d_68\">\n      <path clip-path=\"url(#p7e85171295)\" d=\"M 54.1 223.228052 \nL 388.9 223.228052 \n\" style=\"fill:none;stroke:#ffffff;stroke-linecap:round;\"/>\n     </g>\n     <g id=\"text_20\">\n      <!-- 50000 -->\n      <g style=\"fill:#262626;\" transform=\"translate(7.2 227.540396)scale(0.11 -0.11)\">\n       <use xlink:href=\"#AppleGothic-35\"/>\n       <use x=\"67.999985\" xlink:href=\"#AppleGothic-30\"/>\n       <use x=\"135.999969\" xlink:href=\"#AppleGothic-30\"/>\n       <use x=\"203.999954\" xlink:href=\"#AppleGothic-30\"/>\n       <use x=\"271.999939\" xlink:href=\"#AppleGothic-30\"/>\n      </g>\n     </g>\n    </g>\n    <g id=\"ytick_12\">\n     <g id=\"line2d_69\">\n      <path clip-path=\"url(#p7e85171295)\" d=\"M 54.1 194.989091 \nL 388.9 194.989091 \n\" style=\"fill:none;stroke:#ffffff;stroke-linecap:round;\"/>\n     </g>\n     <g id=\"text_21\">\n      <!-- 75000 -->\n      <g style=\"fill:#262626;\" transform=\"translate(7.2 199.301435)scale(0.11 -0.11)\">\n       <defs>\n        <path d=\"M 595 4774 \nL 3802 4774 \nL 3802 4410 \nL 1734 0 \nL 1235 0 \nL 3277 4352 \nL 595 4352 \nL 595 4774 \nz\n\" id=\"AppleGothic-37\" transform=\"scale(0.015625)\"/>\n       </defs>\n       <use xlink:href=\"#AppleGothic-37\"/>\n       <use x=\"67.999985\" xlink:href=\"#AppleGothic-35\"/>\n       <use x=\"135.999969\" xlink:href=\"#AppleGothic-30\"/>\n       <use x=\"203.999954\" xlink:href=\"#AppleGothic-30\"/>\n       <use x=\"271.999939\" xlink:href=\"#AppleGothic-30\"/>\n      </g>\n     </g>\n    </g>\n   </g>\n   <g id=\"line2d_70\">\n    <path clip-path=\"url(#p7e85171295)\" d=\"M 69.318182 223.228052 \nL 170.772727 223.228052 \nL 272.227273 194.989091 \nL 373.681818 194.989091 \n\" style=\"fill:none;stroke:#937860;stroke-linecap:round;stroke-width:1.5;\"/>\n   </g>\n   <g id=\"patch_33\">\n    <path d=\"M 54.1 224.64 \nL 54.1 193.577143 \n\" style=\"fill:none;stroke:#ffffff;stroke-linecap:square;stroke-linejoin:miter;stroke-width:1.25;\"/>\n   </g>\n   <g id=\"patch_34\">\n    <path d=\"M 388.9 224.64 \nL 388.9 193.577143 \n\" style=\"fill:none;stroke:#ffffff;stroke-linecap:square;stroke-linejoin:miter;stroke-width:1.25;\"/>\n   </g>\n   <g id=\"patch_35\">\n    <path d=\"M 54.1 224.64 \nL 388.9 224.64 \n\" style=\"fill:none;stroke:#ffffff;stroke-linecap:square;stroke-linejoin:miter;stroke-width:1.25;\"/>\n   </g>\n   <g id=\"patch_36\">\n    <path d=\"M 54.1 193.577143 \nL 388.9 193.577143 \n\" style=\"fill:none;stroke:#ffffff;stroke-linecap:square;stroke-linejoin:miter;stroke-width:1.25;\"/>\n   </g>\n   <g id=\"legend_6\">\n    <g id=\"patch_37\">\n     <path d=\"M 302 218.394174 \nL 381.2 218.394174 \nQ 383.4 218.394174 383.4 216.194174 \nL 383.4 201.277143 \nQ 383.4 199.077143 381.2 199.077143 \nL 302 199.077143 \nQ 299.8 199.077143 299.8 201.277143 \nL 299.8 216.194174 \nQ 299.8 218.394174 302 218.394174 \nz\n\" style=\"fill:#eaeaf2;opacity:0.8;stroke:#cccccc;stroke-linejoin:miter;\"/>\n    </g>\n    <g id=\"line2d_71\">\n     <path d=\"M 304.2 208.25183 \nL 326.2 208.25183 \n\" style=\"fill:none;stroke:#937860;stroke-linecap:round;stroke-width:1.5;\"/>\n    </g>\n    <g id=\"line2d_72\"/>\n    <g id=\"text_22\">\n     <!-- 중고나라 -->\n     <g style=\"fill:#262626;\" transform=\"translate(335 212.10183)scale(0.11 -0.11)\">\n      <defs>\n       <path d=\"M 4762 429 \nQ 4762 723 4352 883 \nQ 4122 973 3818 1017 \nQ 3514 1062 3136 1062 \nQ 2445 1062 2003 896 \nQ 1568 723 1568 435 \nQ 1568 166 1984 19 \nQ 2400 -128 3130 -128 \nQ 3437 -128 3683 -105 \nQ 3930 -83 4134 -38 \nQ 4762 109 4762 429 \nz\nM 6010 2170 \nL 4755 2208 \nL 3373 2208 \nL 3373 1434 \nQ 4205 1434 4717 1184 \nQ 5235 934 5235 435 \nQ 5235 -26 4675 -259 \nQ 4115 -493 3136 -493 \nQ 2214 -493 1677 -269 \nQ 1101 -26 1101 435 \nQ 1101 1069 1914 1299 \nQ 2112 1363 2874 1434 \nL 2880 2208 \nL 1786 2208 \nQ 1446 2208 1075 2195 \nQ 704 2182 390 2170 \nL 390 2566 \nQ 403 2566 524 2563 \nQ 646 2560 877 2554 \nQ 1344 2547 1917 2540 \nQ 2490 2534 3168 2534 \nQ 3904 2534 4608 2540 \nQ 5312 2547 6010 2566 \nL 6010 2170 \nz\nM 5568 3424 \nQ 5562 3411 5562 3404 \nQ 5562 3398 5555 3392 \nQ 5536 3360 5491 3328 \nQ 5446 3296 5376 3181 \nQ 5363 3168 5347 3139 \nQ 5331 3110 5306 3072 \nQ 5139 3091 5011 3113 \nQ 4883 3136 4774 3162 \nQ 4154 3328 3712 3648 \nQ 3584 3750 3478 3849 \nQ 3373 3949 3296 4058 \nQ 3270 4090 3244 4131 \nQ 3219 4173 3194 4224 \nQ 3168 4179 3145 4144 \nQ 3123 4109 3098 4077 \nQ 2822 3706 2310 3411 \nQ 1971 3226 1459 3117 \nQ 1370 3104 1261 3091 \nQ 1152 3078 1005 3066 \nQ 973 3098 953 3126 \nQ 934 3155 922 3174 \nQ 826 3290 774 3334 \nQ 755 3347 723 3392 \nQ 710 3405 704 3424 \nQ 730 3443 749 3443 \nL 909 3443 \nQ 1030 3456 1129 3465 \nQ 1229 3475 1306 3488 \nQ 1536 3533 1757 3606 \nQ 1978 3680 2182 3789 \nQ 2598 4006 2803 4378 \nQ 2861 4499 2912 4691 \nL 2445 4698 \nL 973 4666 \nL 973 5075 \nQ 1094 5069 1190 5069 \nQ 1286 5069 1370 5069 \nQ 1920 5056 2313 5049 \nQ 2707 5043 2950 5043 \nL 5312 5075 \nL 5312 4666 \nL 4307 4691 \nL 3392 4691 \nQ 3392 4544 3520 4368 \nQ 3648 4192 3872 4006 \nQ 4269 3693 4870 3552 \nQ 4966 3526 5097 3507 \nQ 5229 3488 5395 3462 \nQ 5568 3462 5568 3424 \nz\n\" id=\"AppleGothic-c911\" transform=\"scale(0.015625)\"/>\n       <path d=\"M 6035 243 \nL 5485 243 \nL 4435 243 \nQ 4090 250 3718 250 \nQ 3347 250 2931 256 \nQ 2400 256 2032 256 \nQ 1664 256 1440 250 \nQ 998 243 739 233 \nQ 480 224 352 218 \nL 352 698 \nL 1606 666 \nL 2656 672 \nL 2656 2291 \nL 2637 2765 \nL 2669 2765 \nQ 2880 2765 3027 2742 \nQ 3174 2720 3174 2643 \nQ 3174 2598 3168 2579 \nQ 3136 2451 3136 2438 \nL 3123 1363 \nL 3136 666 \nL 6035 704 \nL 6035 243 \nz\nM 5306 4608 \nQ 5306 3834 5219 3075 \nQ 5133 2317 4954 1459 \nL 4518 1523 \nQ 4544 1651 4563 1750 \nQ 4582 1850 4595 1933 \nQ 4646 2240 4684 2461 \nQ 4723 2682 4736 2829 \nQ 4755 2976 4771 3193 \nQ 4787 3411 4800 3699 \nQ 4806 3878 4819 4179 \nL 3642 4192 \nQ 3411 4192 3059 4185 \nQ 2707 4179 2234 4166 \nQ 1280 4147 947 4147 \nL 947 4589 \nL 2528 4576 \nL 5306 4608 \nz\n\" id=\"AppleGothic-ace0\" transform=\"scale(0.015625)\"/>\n       <path d=\"M 6093 2029 \nL 5133 2029 \nL 5133 -493 \nL 4672 -506 \nL 4685 4717 \nQ 4685 4960 4678 5059 \nQ 4672 5158 4659 5197 \nQ 4832 5197 5005 5178 \nQ 5190 5158 5190 5094 \nQ 5190 5069 5161 4992 \nQ 5133 4915 5133 4883 \nL 5133 2432 \nL 6093 2445 \nL 6093 2029 \nz\nM 4250 1472 \nQ 4211 1485 4211 1485 \nQ 4147 1498 4102 1498 \nQ 3898 1498 3430 1459 \nQ 3334 1446 3116 1424 \nQ 2899 1402 2554 1363 \nQ 2362 1338 2054 1309 \nQ 1747 1280 1318 1242 \nQ 1190 1229 1024 1216 \nQ 858 1203 646 1190 \nL 646 4115 \nL 634 4435 \nQ 755 4435 947 4397 \nQ 1158 4346 1158 4269 \nQ 1158 4230 1129 4153 \nQ 1101 4077 1101 4058 \nL 1101 1632 \nQ 1376 1638 1709 1651 \nQ 2042 1664 2541 1715 \nQ 3053 1766 3462 1811 \nQ 3872 1856 4077 1856 \nQ 4128 1856 4192 1843 \nQ 4205 1843 4237 1824 \nL 4250 1472 \nz\n\" id=\"AppleGothic-b098\" transform=\"scale(0.015625)\"/>\n       <path d=\"M 6016 2336 \nL 5133 2336 \nL 5139 -493 \nL 4666 -518 \nL 4666 38 \nQ 4666 390 4672 969 \nQ 4678 1549 4685 2208 \nQ 4685 2771 4685 3200 \nQ 4685 3629 4678 3936 \nQ 4672 4243 4672 4476 \nQ 4672 4710 4672 4870 \nQ 4672 5056 4666 5190 \nQ 4832 5190 5005 5171 \nQ 5184 5152 5184 5082 \nQ 5184 5062 5158 5001 \nQ 5133 4941 5133 4890 \nL 5133 2758 \nL 6016 2765 \nL 6016 2336 \nz\nM 4154 1050 \nQ 4019 1024 3900 1008 \nQ 3782 992 3680 979 \nQ 3373 941 3053 902 \nQ 2733 864 2387 832 \nQ 2157 806 1862 790 \nQ 1568 774 1203 762 \nQ 1088 755 944 755 \nQ 800 755 614 749 \nL 640 1734 \nL 627 3046 \nQ 736 3040 877 3033 \nQ 1018 3027 1203 3021 \nQ 1389 3014 1568 3014 \nQ 1747 3014 1914 3014 \nQ 2253 3014 2515 3014 \nQ 2778 3014 2989 3027 \nL 2989 4269 \nQ 2842 4282 2630 4288 \nQ 2419 4294 2093 4294 \nL 634 4262 \nL 634 4685 \nQ 730 4678 813 4678 \nQ 896 4678 954 4678 \nQ 1843 4659 2150 4659 \nL 3469 4672 \nQ 3462 4602 3462 4544 \nQ 3462 4486 3462 4442 \nQ 3443 3770 3443 3584 \nL 3456 2630 \nQ 3443 2630 3382 2630 \nQ 3322 2630 3219 2637 \nQ 3110 2643 2896 2643 \nQ 2682 2643 2336 2643 \nQ 2067 2643 1868 2643 \nQ 1670 2643 1526 2640 \nQ 1382 2637 1276 2633 \nQ 1171 2630 1088 2630 \nL 1088 1165 \nL 1318 1158 \nQ 1331 1158 1443 1164 \nQ 1555 1171 1760 1184 \nQ 1971 1197 2118 1200 \nQ 2266 1203 2355 1203 \nQ 2739 1235 3062 1273 \nQ 3386 1312 3648 1350 \nQ 3834 1376 4115 1427 \nL 4154 1050 \nz\n\" id=\"AppleGothic-b77c\" transform=\"scale(0.015625)\"/>\n      </defs>\n      <use xlink:href=\"#AppleGothic-c911\"/>\n      <use x=\"99.999985\" xlink:href=\"#AppleGothic-ace0\"/>\n      <use x=\"199.999969\" xlink:href=\"#AppleGothic-b098\"/>\n      <use x=\"299.999954\" xlink:href=\"#AppleGothic-b77c\"/>\n     </g>\n    </g>\n   </g>\n  </g>\n </g>\n <defs>\n  <clipPath id=\"p082ccc94aa\">\n   <rect height=\"31.062857\" width=\"334.8\" x=\"54.1\" y=\"7.2\"/>\n  </clipPath>\n  <clipPath id=\"p1ab639d80a\">\n   <rect height=\"31.062857\" width=\"334.8\" x=\"54.1\" y=\"44.475429\"/>\n  </clipPath>\n  <clipPath id=\"p3c180a1e5b\">\n   <rect height=\"31.062857\" width=\"334.8\" x=\"54.1\" y=\"81.750857\"/>\n  </clipPath>\n  <clipPath id=\"p372f4d4a1d\">\n   <rect height=\"31.062857\" width=\"334.8\" x=\"54.1\" y=\"119.026286\"/>\n  </clipPath>\n  <clipPath id=\"p6ef8d086ac\">\n   <rect height=\"31.062857\" width=\"334.8\" x=\"54.1\" y=\"156.301714\"/>\n  </clipPath>\n  <clipPath id=\"p7e85171295\">\n   <rect height=\"31.062857\" width=\"334.8\" x=\"54.1\" y=\"193.577143\"/>\n  </clipPath>\n </defs>\n</svg>\n",
      "image/png": "[encoded data removed]"
     },
     "metadata": {
      "needs_background": "light"
     }
    }
   ],
   "metadata": {}
  },
  {
   "cell_type": "markdown",
   "source": [
    "##### <연습문제 2-12>\n",
    "trafic_data에서  '중고나라'의 일자별 Bar 그래프를 그려보세요"
   ],
   "metadata": {}
  },
  {
   "cell_type": "markdown",
   "source": [
    "#### seaborn 으로 데이터 분포 살펴보기"
   ],
   "metadata": {}
  },
  {
   "cell_type": "code",
   "execution_count": 135,
   "source": [
    "# seaborn 임포트,  한글 글꼴 지정\n",
    "import seaborn as sns\n",
    "sns.set()\n",
    "plt.rc('font', family='Malgun Gothic')"
   ],
   "outputs": [],
   "metadata": {}
  },
  {
   "cell_type": "code",
   "execution_count": 136,
   "source": [
    "tips = sns.load_dataset('tips')  # 내장 데이터 셋 불러오기"
   ],
   "outputs": [],
   "metadata": {}
  },
  {
   "cell_type": "code",
   "execution_count": 137,
   "source": [
    "tips.head()    # dataframe의 앞부분만 살펴보기"
   ],
   "outputs": [
    {
     "output_type": "execute_result",
     "data": {
      "text/plain": [
       "   total_bill   tip     sex smoker  day    time  size\n",
       "0       16.99  1.01  Female     No  Sun  Dinner     2\n",
       "1       10.34  1.66    Male     No  Sun  Dinner     3\n",
       "2       21.01  3.50    Male     No  Sun  Dinner     3\n",
       "3       23.68  3.31    Male     No  Sun  Dinner     2\n",
       "4       24.59  3.61  Female     No  Sun  Dinner     4"
      ],
      "text/html": [
       "<div>\n",
       "<style scoped>\n",
       "    .dataframe tbody tr th:only-of-type {\n",
       "        vertical-align: middle;\n",
       "    }\n",
       "\n",
       "    .dataframe tbody tr th {\n",
       "        vertical-align: top;\n",
       "    }\n",
       "\n",
       "    .dataframe thead th {\n",
       "        text-align: right;\n",
       "    }\n",
       "</style>\n",
       "<table border=\"1\" class=\"dataframe\">\n",
       "  <thead>\n",
       "    <tr style=\"text-align: right;\">\n",
       "      <th></th>\n",
       "      <th>total_bill</th>\n",
       "      <th>tip</th>\n",
       "      <th>sex</th>\n",
       "      <th>smoker</th>\n",
       "      <th>day</th>\n",
       "      <th>time</th>\n",
       "      <th>size</th>\n",
       "    </tr>\n",
       "  </thead>\n",
       "  <tbody>\n",
       "    <tr>\n",
       "      <th>0</th>\n",
       "      <td>16.99</td>\n",
       "      <td>1.01</td>\n",
       "      <td>Female</td>\n",
       "      <td>No</td>\n",
       "      <td>Sun</td>\n",
       "      <td>Dinner</td>\n",
       "      <td>2</td>\n",
       "    </tr>\n",
       "    <tr>\n",
       "      <th>1</th>\n",
       "      <td>10.34</td>\n",
       "      <td>1.66</td>\n",
       "      <td>Male</td>\n",
       "      <td>No</td>\n",
       "      <td>Sun</td>\n",
       "      <td>Dinner</td>\n",
       "      <td>3</td>\n",
       "    </tr>\n",
       "    <tr>\n",
       "      <th>2</th>\n",
       "      <td>21.01</td>\n",
       "      <td>3.50</td>\n",
       "      <td>Male</td>\n",
       "      <td>No</td>\n",
       "      <td>Sun</td>\n",
       "      <td>Dinner</td>\n",
       "      <td>3</td>\n",
       "    </tr>\n",
       "    <tr>\n",
       "      <th>3</th>\n",
       "      <td>23.68</td>\n",
       "      <td>3.31</td>\n",
       "      <td>Male</td>\n",
       "      <td>No</td>\n",
       "      <td>Sun</td>\n",
       "      <td>Dinner</td>\n",
       "      <td>2</td>\n",
       "    </tr>\n",
       "    <tr>\n",
       "      <th>4</th>\n",
       "      <td>24.59</td>\n",
       "      <td>3.61</td>\n",
       "      <td>Female</td>\n",
       "      <td>No</td>\n",
       "      <td>Sun</td>\n",
       "      <td>Dinner</td>\n",
       "      <td>4</td>\n",
       "    </tr>\n",
       "  </tbody>\n",
       "</table>\n",
       "</div>"
      ]
     },
     "metadata": {},
     "execution_count": 137
    }
   ],
   "metadata": {}
  },
  {
   "cell_type": "code",
   "execution_count": 68,
   "source": [
    "sns.countplot(data=tips, x='day');\n",
    "plt.title('요일별 팁을 준 횟수');"
   ],
   "outputs": [
    {
     "output_type": "display_data",
     "data": {
      "text/plain": [
       "<Figure size 432x288 with 1 Axes>"
      ],
      "image/svg+xml": "<?xml version=\"1.0\" encoding=\"utf-8\" standalone=\"no\"?>\n<!DOCTYPE svg PUBLIC \"-//W3C//DTD SVG 1.1//EN\"\n  \"http://www.w3.org/Graphics/SVG/1.1/DTD/svg11.dtd\">\n<svg height=\"282.785781pt\" version=\"1.1\" viewBox=\"0 0 389.133125 282.785781\" width=\"389.133125pt\" xmlns=\"http://www.w3.org/2000/svg\" xmlns:xlink=\"http://www.w3.org/1999/xlink\">\n <metadata>\n  <rdf:RDF xmlns:cc=\"http://creativecommons.org/ns#\" xmlns:dc=\"http://purl.org/dc/elements/1.1/\" xmlns:rdf=\"http://www.w3.org/1999/02/22-rdf-syntax-ns#\">\n   <cc:Work>\n    <dc:type rdf:resource=\"http://purl.org/dc/dcmitype/StillImage\"/>\n    <dc:date>2021-08-23T11:25:25.198013</dc:date>\n    <dc:format>image/svg+xml</dc:format>\n    <dc:creator>\n     <cc:Agent>\n      <dc:title>Matplotlib v3.4.2, https://matplotlib.org/</dc:title>\n     </cc:Agent>\n    </dc:creator>\n   </cc:Work>\n  </rdf:RDF>\n </metadata>\n <defs>\n  <style type=\"text/css\">*{stroke-linecap:butt;stroke-linejoin:round;}</style>\n </defs>\n <g id=\"figure_1\">\n  <g id=\"patch_1\">\n   <path d=\"M 0 282.785781 \nL 389.133125 282.785781 \nL 389.133125 0 \nL 0 0 \nz\n\" style=\"fill:none;\"/>\n  </g>\n  <g id=\"axes_1\">\n   <g id=\"patch_2\">\n    <path d=\"M 47.133125 240.04875 \nL 381.933125 240.04875 \nL 381.933125 22.60875 \nL 47.133125 22.60875 \nz\n\" style=\"fill:#eaeaf2;\"/>\n   </g>\n   <g id=\"matplotlib.axis_1\">\n    <g id=\"xtick_1\">\n     <g id=\"text_1\">\n      <!-- Thur -->\n      <g style=\"fill:#262626;\" transform=\"translate(77.488125 258.173438)scale(0.11 -0.11)\">\n       <defs>\n        <path d=\"M 166 5018 \nL 4038 5018 \nL 4038 4576 \nL 2355 4576 \nL 2355 0 \nL 1856 0 \nL 1856 4576 \nL 166 4576 \nL 166 5018 \nz\n\" id=\"AppleGothic-54\" transform=\"scale(0.015625)\"/>\n        <path d=\"M 288 5018 \nL 749 5018 \nL 749 2810 \nQ 909 3066 1139 3238 \nQ 1491 3501 1926 3501 \nQ 2195 3501 2409 3424 \nQ 2624 3347 2803 3200 \nQ 3181 2867 3181 2266 \nL 3181 0 \nL 2714 0 \nL 2714 2202 \nQ 2714 2573 2477 2829 \nQ 2240 3085 1901 3085 \nQ 1408 3085 1082 2694 \nQ 749 2291 749 1773 \nL 749 0 \nL 288 0 \nL 288 5018 \nz\n\" id=\"AppleGothic-68\" transform=\"scale(0.015625)\"/>\n        <path d=\"M 262 3424 \nL 730 3424 \nL 730 1242 \nQ 730 877 941 627 \nQ 1171 339 1594 339 \nQ 2080 339 2426 730 \nQ 2784 1139 2784 1632 \nL 2784 3424 \nL 3245 3424 \nL 3245 0 \nL 2842 0 \nL 2810 582 \nQ 2707 442 2592 330 \nQ 2477 218 2342 134 \nQ 1984 -83 1555 -83 \nQ 966 -83 614 282 \nQ 262 653 262 1184 \nL 262 3424 \nz\n\" id=\"AppleGothic-75\" transform=\"scale(0.015625)\"/>\n        <path d=\"M 2125 3424 \nL 2125 2963 \nQ 2054 2989 2009 3005 \nQ 1965 3021 1933 3027 \nQ 1901 3034 1865 3037 \nQ 1830 3040 1773 3040 \nQ 1306 3040 1005 2586 \nQ 749 2170 749 1658 \nL 749 0 \nL 288 0 \nL 288 3424 \nL 710 3424 \nL 742 2835 \nQ 902 3104 1043 3219 \nQ 1331 3456 1734 3456 \nQ 1843 3456 1936 3449 \nQ 2029 3443 2125 3424 \nz\n\" id=\"AppleGothic-72\" transform=\"scale(0.015625)\"/>\n       </defs>\n       <use xlink:href=\"#AppleGothic-54\"/>\n       <use x=\"66.099991\" xlink:href=\"#AppleGothic-68\"/>\n       <use x=\"118.299988\" xlink:href=\"#AppleGothic-75\"/>\n       <use x=\"173.799973\" xlink:href=\"#AppleGothic-72\"/>\n      </g>\n     </g>\n    </g>\n    <g id=\"xtick_2\">\n     <g id=\"text_2\">\n      <!-- Fri -->\n      <g style=\"fill:#262626;\" transform=\"translate(166.670938 258.173438)scale(0.11 -0.11)\">\n       <defs>\n        <path d=\"M 339 5018 \nL 3462 5018 \nL 3462 4576 \nL 845 4576 \nL 845 2714 \nL 3354 2714 \nL 3354 2304 \nL 845 2304 \nL 845 0 \nL 339 0 \nL 339 5018 \nz\n\" id=\"AppleGothic-46\" transform=\"scale(0.015625)\"/>\n        <path d=\"M 256 3424 \nL 717 3424 \nL 717 0 \nL 256 0 \nL 256 3424 \nz\nM 480 4870 \nQ 614 4870 704 4780 \nQ 794 4691 794 4525 \nQ 794 4358 710 4268 \nQ 627 4179 480 4179 \nQ 333 4179 253 4281 \nQ 173 4384 173 4518 \nQ 173 4730 269 4800 \nQ 365 4870 480 4870 \nz\n\" id=\"AppleGothic-69\" transform=\"scale(0.015625)\"/>\n       </defs>\n       <use xlink:href=\"#AppleGothic-46\"/>\n       <use x=\"58.199997\" xlink:href=\"#AppleGothic-72\"/>\n       <use x=\"93.399994\" xlink:href=\"#AppleGothic-69\"/>\n      </g>\n     </g>\n    </g>\n    <g id=\"xtick_3\">\n     <g id=\"text_3\">\n      <!-- Sat -->\n      <g style=\"fill:#262626;\" transform=\"translate(247.918281 258.173438)scale(0.11 -0.11)\">\n       <defs>\n        <path d=\"M 3418 4666 \nL 3418 4019 \nQ 3251 4160 3081 4269 \nQ 2912 4378 2746 4448 \nQ 2362 4627 1965 4627 \nQ 1466 4627 1139 4378 \nQ 806 4122 806 3770 \nQ 806 3258 1562 3002 \nQ 1914 2880 2262 2768 \nQ 2611 2656 2970 2541 \nQ 3731 2176 3731 1453 \nQ 3731 749 3187 320 \nQ 2669 -83 1901 -83 \nQ 1389 -83 915 115 \nQ 640 224 262 474 \nL 262 1126 \nQ 755 685 1261 506 \nQ 1427 442 1587 416 \nQ 1747 390 1907 390 \nQ 2419 390 2771 646 \nQ 3162 928 3162 1382 \nQ 3162 1933 2419 2221 \nQ 2061 2330 1715 2445 \nQ 1370 2560 1024 2669 \nQ 275 3014 275 3731 \nQ 275 4333 749 4710 \nQ 1235 5101 1965 5101 \nQ 2413 5101 2861 4934 \nQ 3091 4858 3418 4666 \nz\n\" id=\"AppleGothic-53\" transform=\"scale(0.015625)\"/>\n        <path d=\"M 2950 2214 \nL 2950 602 \nQ 2950 493 2998 413 \nQ 3046 333 3174 333 \nQ 3213 333 3238 336 \nQ 3264 339 3290 346 \nQ 3328 358 3357 371 \nQ 3386 384 3405 390 \nL 3405 32 \nQ 3290 -6 3174 -22 \nQ 3059 -38 2995 -38 \nQ 2669 -38 2566 134 \nQ 2483 243 2483 602 \nQ 2400 461 2317 355 \nQ 2234 250 2150 179 \nQ 1818 -83 1376 -83 \nQ 909 -83 563 192 \nQ 205 486 205 941 \nQ 205 1510 781 1779 \nQ 992 1882 1341 1958 \nQ 1690 2035 2176 2099 \nL 2483 2131 \nQ 2483 2579 2256 2832 \nQ 2029 3085 1587 3085 \nQ 1421 3085 1257 3043 \nQ 1094 3002 928 2912 \nQ 838 2861 729 2790 \nQ 621 2720 493 2611 \nL 493 3136 \nQ 1037 3501 1664 3501 \nQ 2304 3501 2650 3098 \nQ 2950 2746 2950 2214 \nz\nM 2483 1542 \nL 2483 1747 \nL 2266 1722 \nQ 1466 1638 1139 1498 \nQ 704 1325 704 934 \nQ 704 819 755 713 \nQ 806 608 896 525 \nQ 986 442 1117 390 \nQ 1248 339 1408 339 \nQ 1843 339 2170 691 \nQ 2483 1050 2483 1542 \nz\n\" id=\"AppleGothic-61\" transform=\"scale(0.015625)\"/>\n        <path d=\"M 691 4435 \nL 1114 4435 \nL 1114 3430 \nL 2016 3430 \nL 2016 3014 \nL 1114 3014 \nL 1114 838 \nQ 1114 570 1213 454 \nQ 1312 339 1555 339 \nQ 1696 339 1795 371 \nQ 1894 403 2016 454 \nL 2016 38 \nQ 1914 6 1770 -22 \nQ 1626 -51 1478 -51 \nQ 1094 -51 883 122 \nQ 646 301 646 698 \nL 646 3014 \nL 70 3014 \nL 70 3430 \nL 646 3430 \nL 691 4435 \nz\n\" id=\"AppleGothic-74\" transform=\"scale(0.015625)\"/>\n       </defs>\n       <use xlink:href=\"#AppleGothic-53\"/>\n       <use x=\"63.199997\" xlink:href=\"#AppleGothic-61\"/>\n       <use x=\"119.699982\" xlink:href=\"#AppleGothic-74\"/>\n      </g>\n     </g>\n    </g>\n    <g id=\"xtick_4\">\n     <g id=\"text_4\">\n      <!-- Sun -->\n      <g style=\"fill:#262626;\" transform=\"translate(330.479609 258.173438)scale(0.11 -0.11)\">\n       <defs>\n        <path d=\"M 3264 2291 \nL 3264 0 \nL 2803 0 \nL 2803 2259 \nQ 2803 2618 2541 2848 \nQ 2278 3085 1914 3085 \nQ 1427 3085 1075 2682 \nQ 723 2272 723 1760 \nL 723 0 \nL 288 0 \nL 288 3424 \nL 691 3424 \nL 710 2784 \nQ 883 3046 1114 3219 \nQ 1491 3501 1965 3501 \nQ 2515 3501 2886 3168 \nQ 3264 2842 3264 2291 \nz\n\" id=\"AppleGothic-6e\" transform=\"scale(0.015625)\"/>\n       </defs>\n       <use xlink:href=\"#AppleGothic-53\"/>\n       <use x=\"63.199997\" xlink:href=\"#AppleGothic-75\"/>\n       <use x=\"118.699982\" xlink:href=\"#AppleGothic-6e\"/>\n      </g>\n     </g>\n    </g>\n    <g id=\"text_5\">\n     <!-- day -->\n     <g style=\"fill:#262626;\" transform=\"translate(204.560938 273.474531)scale(0.12 -0.12)\">\n      <defs>\n       <path d=\"M 2682 5018 \nL 3174 5018 \nL 3174 0 \nL 2733 0 \nL 2688 557 \nQ 2598 429 2508 329 \nQ 2419 230 2330 160 \nQ 2010 -83 1587 -83 \nQ 928 -83 493 429 \nQ 64 941 64 1670 \nQ 64 2426 518 2957 \nQ 979 3501 1670 3501 \nQ 1958 3501 2208 3398 \nQ 2298 3360 2416 3296 \nQ 2534 3232 2682 3142 \nL 2682 5018 \nz\nM 2682 1658 \nL 2682 2643 \nQ 2381 2906 2157 2995 \nQ 1933 3085 1722 3085 \nQ 1197 3085 870 2643 \nQ 563 2227 563 1677 \nQ 563 1088 902 698 \nQ 1216 339 1645 339 \nQ 2067 339 2374 710 \nQ 2682 1082 2682 1658 \nz\n\" id=\"AppleGothic-64\" transform=\"scale(0.015625)\"/>\n       <path d=\"M 179 3424 \nL 691 3424 \nL 1869 531 \nL 2874 3424 \nL 3379 3424 \nL 1952 -397 \nQ 1798 -806 1555 -979 \nQ 1338 -1126 1037 -1126 \nQ 883 -1126 780 -1104 \nQ 678 -1082 582 -1043 \nL 582 -602 \nQ 672 -646 784 -678 \nQ 896 -710 986 -710 \nQ 1210 -710 1334 -595 \nQ 1459 -480 1555 -230 \nL 1632 32 \nL 179 3424 \nz\n\" id=\"AppleGothic-79\" transform=\"scale(0.015625)\"/>\n      </defs>\n      <use xlink:href=\"#AppleGothic-64\"/>\n      <use x=\"53.999985\" xlink:href=\"#AppleGothic-61\"/>\n      <use x=\"110.499969\" xlink:href=\"#AppleGothic-79\"/>\n     </g>\n    </g>\n   </g>\n   <g id=\"matplotlib.axis_2\">\n    <g id=\"ytick_1\">\n     <g id=\"line2d_1\">\n      <path clip-path=\"url(#p690ae3595f)\" d=\"M 47.133125 240.04875 \nL 381.933125 240.04875 \n\" style=\"fill:none;stroke:#ffffff;stroke-linecap:round;\"/>\n     </g>\n     <g id=\"text_6\">\n      <!-- 0 -->\n      <g style=\"fill:#262626;\" transform=\"translate(30.153125 244.361094)scale(0.11 -0.11)\">\n       <defs>\n        <path d=\"M 2227 -83 \nQ 1414 -83 934 576 \nQ 461 1229 461 2387 \nQ 461 3552 973 4218 \nQ 1453 4858 2221 4858 \nQ 3027 4858 3482 4173 \nQ 3955 3494 3955 2394 \nQ 3955 1248 3462 582 \nQ 2976 -83 2227 -83 \nz\nM 2176 346 \nQ 2861 346 3200 992 \nQ 3462 1536 3462 2400 \nQ 3462 3315 3162 3859 \nQ 2822 4429 2214 4429 \nQ 1574 4429 1248 3821 \nQ 960 3283 960 2374 \nQ 960 1478 1248 941 \nQ 1574 346 2176 346 \nz\n\" id=\"AppleGothic-30\" transform=\"scale(0.015625)\"/>\n       </defs>\n       <use xlink:href=\"#AppleGothic-30\"/>\n      </g>\n     </g>\n    </g>\n    <g id=\"ytick_2\">\n     <g id=\"line2d_2\">\n      <path clip-path=\"url(#p690ae3595f)\" d=\"M 47.133125 192.442839 \nL 381.933125 192.442839 \n\" style=\"fill:none;stroke:#ffffff;stroke-linecap:round;\"/>\n     </g>\n     <g id=\"text_7\">\n      <!-- 20 -->\n      <g style=\"fill:#262626;\" transform=\"translate(22.673125 196.755182)scale(0.11 -0.11)\">\n       <defs>\n        <path d=\"M 1101 429 \nL 3942 429 \nL 3942 0 \nL 653 0 \nL 653 205 \nQ 653 1018 1344 1664 \nQ 1670 1894 1990 2124 \nQ 2310 2355 2637 2592 \nQ 3334 3098 3334 3597 \nQ 3334 3994 3014 4218 \nQ 2867 4326 2694 4377 \nQ 2522 4429 2317 4429 \nQ 2016 4429 1741 4352 \nQ 1325 4224 883 3910 \nL 883 4435 \nQ 1325 4659 1667 4758 \nQ 2010 4858 2317 4858 \nQ 2963 4858 3405 4525 \nQ 3840 4198 3840 3622 \nQ 3840 2995 3168 2438 \nQ 2848 2214 2531 2000 \nQ 2214 1786 1894 1562 \nQ 1178 1024 1101 429 \nz\n\" id=\"AppleGothic-32\" transform=\"scale(0.015625)\"/>\n       </defs>\n       <use xlink:href=\"#AppleGothic-32\"/>\n       <use x=\"67.999985\" xlink:href=\"#AppleGothic-30\"/>\n      </g>\n     </g>\n    </g>\n    <g id=\"ytick_3\">\n     <g id=\"line2d_3\">\n      <path clip-path=\"url(#p690ae3595f)\" d=\"M 47.133125 144.836927 \nL 381.933125 144.836927 \n\" style=\"fill:none;stroke:#ffffff;stroke-linecap:round;\"/>\n     </g>\n     <g id=\"text_8\">\n      <!-- 40 -->\n      <g style=\"fill:#262626;\" transform=\"translate(22.673125 149.149271)scale(0.11 -0.11)\">\n       <defs>\n        <path d=\"M 2662 4774 \nL 3130 4774 \nL 3130 1811 \nL 4000 1811 \nL 4000 1382 \nL 3130 1382 \nL 3130 0 \nL 2662 0 \nL 2662 1382 \nL 352 1382 \nL 352 1811 \nL 2662 4774 \nz\nM 2662 1811 \nL 2662 4166 \nL 838 1811 \nL 2662 1811 \nz\n\" id=\"AppleGothic-34\" transform=\"scale(0.015625)\"/>\n       </defs>\n       <use xlink:href=\"#AppleGothic-34\"/>\n       <use x=\"67.999985\" xlink:href=\"#AppleGothic-30\"/>\n      </g>\n     </g>\n    </g>\n    <g id=\"ytick_4\">\n     <g id=\"line2d_4\">\n      <path clip-path=\"url(#p690ae3595f)\" d=\"M 47.133125 97.231016 \nL 381.933125 97.231016 \n\" style=\"fill:none;stroke:#ffffff;stroke-linecap:round;\"/>\n     </g>\n     <g id=\"text_9\">\n      <!-- 60 -->\n      <g style=\"fill:#262626;\" transform=\"translate(22.673125 101.54336)scale(0.11 -0.11)\">\n       <defs>\n        <path d=\"M 3699 4557 \nL 3699 4013 \nQ 3584 4102 3475 4163 \nQ 3366 4224 3258 4275 \nQ 3085 4358 2918 4393 \nQ 2752 4429 2586 4429 \nQ 2470 4429 2352 4409 \nQ 2234 4390 2118 4339 \nQ 1670 4154 1395 3738 \nQ 1011 3149 1011 2189 \nQ 1312 2490 1568 2656 \nQ 2022 2931 2534 2931 \nQ 3162 2931 3584 2566 \nQ 4038 2163 4038 1491 \nQ 4038 806 3558 358 \nQ 3078 -83 2394 -83 \nQ 1670 -83 1146 454 \nQ 518 1088 518 2253 \nQ 518 3411 1120 4134 \nQ 1715 4858 2605 4858 \nQ 2938 4858 3226 4762 \nQ 3309 4730 3427 4682 \nQ 3546 4634 3699 4557 \nz\nM 1062 1702 \nQ 1152 1152 1498 768 \nQ 1882 346 2419 346 \nQ 2899 346 3213 659 \nQ 3539 973 3539 1459 \nQ 3539 1920 3226 2214 \nQ 2918 2502 2496 2502 \nQ 1990 2502 1542 2176 \nQ 1414 2080 1292 1965 \nQ 1171 1850 1062 1702 \nz\n\" id=\"AppleGothic-36\" transform=\"scale(0.015625)\"/>\n       </defs>\n       <use xlink:href=\"#AppleGothic-36\"/>\n       <use x=\"67.999985\" xlink:href=\"#AppleGothic-30\"/>\n      </g>\n     </g>\n    </g>\n    <g id=\"ytick_5\">\n     <g id=\"line2d_5\">\n      <path clip-path=\"url(#p690ae3595f)\" d=\"M 47.133125 49.625105 \nL 381.933125 49.625105 \n\" style=\"fill:none;stroke:#ffffff;stroke-linecap:round;\"/>\n     </g>\n     <g id=\"text_10\">\n      <!-- 80 -->\n      <g style=\"fill:#262626;\" transform=\"translate(22.673125 53.937448)scale(0.11 -0.11)\">\n       <defs>\n        <path d=\"M 2957 2605 \nQ 3219 2528 3404 2445 \nQ 3590 2362 3706 2272 \nQ 4192 1926 4192 1370 \nQ 4192 749 3642 333 \nQ 3098 -83 2285 -83 \nQ 1434 -83 947 326 \nQ 512 691 512 1229 \nQ 512 1798 998 2125 \nQ 1146 2227 1341 2304 \nQ 1536 2381 1779 2451 \nQ 1574 2534 1430 2617 \nQ 1286 2701 1197 2784 \nQ 819 3104 819 3603 \nQ 819 4173 1261 4512 \nQ 1702 4858 2381 4858 \nQ 3014 4858 3437 4570 \nQ 3898 4262 3898 3738 \nQ 3898 3373 3670 3081 \nQ 3443 2790 2957 2605 \nz\nM 2406 2752 \nQ 2624 2835 2781 2915 \nQ 2938 2995 3040 3066 \nQ 3398 3322 3398 3667 \nQ 3398 3994 3104 4205 \nQ 2822 4429 2362 4429 \nQ 1894 4429 1613 4205 \nQ 1325 3994 1325 3635 \nQ 1325 3322 1581 3098 \nQ 1696 3002 1901 2912 \nQ 2106 2822 2406 2752 \nz\nM 2368 2304 \nQ 2061 2202 1840 2106 \nQ 1619 2010 1472 1920 \nQ 1011 1626 1011 1235 \nQ 1011 845 1376 595 \nQ 1728 346 2310 346 \nQ 2938 346 3315 640 \nQ 3693 934 3693 1338 \nQ 3693 1741 3238 1997 \nQ 3104 2067 2886 2147 \nQ 2669 2227 2368 2304 \nz\n\" id=\"AppleGothic-38\" transform=\"scale(0.015625)\"/>\n       </defs>\n       <use xlink:href=\"#AppleGothic-38\"/>\n       <use x=\"67.999985\" xlink:href=\"#AppleGothic-30\"/>\n      </g>\n     </g>\n    </g>\n    <g id=\"text_11\">\n     <!-- count -->\n     <g style=\"fill:#262626;\" transform=\"translate(16.60875 146.6775)rotate(-90)scale(0.12 -0.12)\">\n      <defs>\n       <path d=\"M 3085 3123 \nL 3085 2522 \nQ 2726 2861 2349 3008 \nQ 2240 3053 2125 3069 \nQ 2010 3085 1894 3085 \nQ 1363 3085 1024 2688 \nQ 685 2278 685 1715 \nQ 685 1139 1037 730 \nQ 1389 339 1920 339 \nQ 2253 339 2528 483 \nQ 2803 627 3085 915 \nL 3085 307 \nQ 2746 96 2470 6 \nQ 2195 -83 1914 -83 \nQ 1197 -83 685 429 \nQ 186 960 186 1709 \nQ 186 2445 678 2976 \nQ 1178 3501 1920 3501 \nQ 2298 3501 2624 3373 \nQ 2816 3302 3085 3123 \nz\n\" id=\"AppleGothic-63\" transform=\"scale(0.015625)\"/>\n       <path d=\"M 1888 -83 \nQ 1229 -83 730 397 \nQ 198 902 198 1709 \nQ 198 2470 666 2982 \nQ 1146 3501 1850 3501 \nQ 2547 3501 3027 2982 \nQ 3501 2470 3501 1715 \nQ 3501 922 2989 403 \nQ 2515 -83 1888 -83 \nz\nM 1843 339 \nQ 2304 339 2662 723 \nQ 3008 1114 3008 1715 \nQ 3008 2336 2637 2726 \nQ 2298 3085 1850 3085 \nQ 1389 3085 1062 2714 \nQ 704 2304 704 1709 \nQ 704 1107 1056 704 \nQ 1382 339 1843 339 \nz\n\" id=\"AppleGothic-6f\" transform=\"scale(0.015625)\"/>\n      </defs>\n      <use xlink:href=\"#AppleGothic-63\"/>\n      <use x=\"51.899994\" xlink:href=\"#AppleGothic-6f\"/>\n      <use x=\"110.199982\" xlink:href=\"#AppleGothic-75\"/>\n      <use x=\"165.699966\" xlink:href=\"#AppleGothic-6e\"/>\n      <use x=\"221.59996\" xlink:href=\"#AppleGothic-74\"/>\n     </g>\n    </g>\n   </g>\n   <g id=\"patch_3\">\n    <path clip-path=\"url(#p690ae3595f)\" d=\"M 55.503125 240.04875 \nL 122.463125 240.04875 \nL 122.463125 92.470425 \nL 55.503125 92.470425 \nz\n\" style=\"fill:#5875a4;stroke:#ffffff;stroke-linejoin:miter;\"/>\n   </g>\n   <g id=\"patch_4\">\n    <path clip-path=\"url(#p690ae3595f)\" d=\"M 139.203125 240.04875 \nL 206.163125 240.04875 \nL 206.163125 194.823134 \nL 139.203125 194.823134 \nz\n\" style=\"fill:#cc8963;stroke:#ffffff;stroke-linejoin:miter;\"/>\n   </g>\n   <g id=\"patch_5\">\n    <path clip-path=\"url(#p690ae3595f)\" d=\"M 222.903125 240.04875 \nL 289.863125 240.04875 \nL 289.863125 32.963036 \nL 222.903125 32.963036 \nz\n\" style=\"fill:#5f9e6e;stroke:#ffffff;stroke-linejoin:miter;\"/>\n   </g>\n   <g id=\"patch_6\">\n    <path clip-path=\"url(#p690ae3595f)\" d=\"M 306.603125 240.04875 \nL 373.563125 240.04875 \nL 373.563125 59.146287 \nL 306.603125 59.146287 \nz\n\" style=\"fill:#b55d60;stroke:#ffffff;stroke-linejoin:miter;\"/>\n   </g>\n   <g id=\"patch_7\">\n    <path d=\"M 47.133125 240.04875 \nL 47.133125 22.60875 \n\" style=\"fill:none;stroke:#ffffff;stroke-linecap:square;stroke-linejoin:miter;stroke-width:1.25;\"/>\n   </g>\n   <g id=\"patch_8\">\n    <path d=\"M 381.933125 240.04875 \nL 381.933125 22.60875 \n\" style=\"fill:none;stroke:#ffffff;stroke-linecap:square;stroke-linejoin:miter;stroke-width:1.25;\"/>\n   </g>\n   <g id=\"patch_9\">\n    <path d=\"M 47.133125 240.04875 \nL 381.933125 240.04875 \n\" style=\"fill:none;stroke:#ffffff;stroke-linecap:square;stroke-linejoin:miter;stroke-width:1.25;\"/>\n   </g>\n   <g id=\"patch_10\">\n    <path d=\"M 47.133125 22.60875 \nL 381.933125 22.60875 \n\" style=\"fill:none;stroke:#ffffff;stroke-linecap:square;stroke-linejoin:miter;stroke-width:1.25;\"/>\n   </g>\n   <g id=\"text_12\">\n    <!-- 요일별 팁을 준 횟수 -->\n    <g style=\"fill:#262626;\" transform=\"translate(160.773125 16.60875)scale(0.12 -0.12)\">\n     <defs>\n      <path d=\"M 4800 3334 \nQ 4800 3878 4288 4160 \nQ 4064 4288 3792 4349 \nQ 3520 4410 3187 4410 \nQ 2419 4410 1984 4144 \nQ 1549 3878 1549 3379 \nQ 1549 2778 2157 2528 \nQ 2534 2368 3110 2368 \nQ 3462 2368 3747 2422 \nQ 4032 2477 4262 2586 \nQ 4800 2842 4800 3334 \nz\nM 6016 307 \nL 3238 307 \nQ 2835 307 2371 300 \nQ 1907 294 1376 282 \nQ 1184 275 934 268 \nQ 685 262 378 250 \nL 378 691 \nL 1363 678 \nL 2022 685 \nL 2022 1466 \nL 1997 1760 \nL 2138 1760 \nQ 2310 1760 2416 1744 \nQ 2522 1728 2522 1670 \nQ 2522 1632 2493 1552 \nQ 2464 1472 2464 1440 \nL 2464 685 \nL 3853 685 \nQ 3859 736 3862 829 \nQ 3866 922 3866 960 \nL 3821 1760 \nL 3930 1760 \nQ 4115 1760 4233 1741 \nQ 4352 1722 4352 1670 \nQ 4352 1658 4333 1584 \nQ 4314 1510 4314 1440 \nL 4314 678 \nQ 4442 678 4598 684 \nQ 4755 691 4947 704 \nQ 5798 762 6016 762 \nL 6016 307 \nz\nM 5248 3347 \nQ 5248 2675 4602 2310 \nQ 4045 2003 3251 2003 \nQ 2842 2003 2512 2054 \nQ 2182 2106 1920 2214 \nQ 1094 2547 1094 3366 \nQ 1094 4109 1792 4461 \nQ 2336 4742 3162 4742 \nQ 4045 4742 4589 4442 \nQ 5248 4077 5248 3347 \nz\n\" id=\"AppleGothic-c694\" transform=\"scale(0.015625)\"/>\n      <path d=\"M 3379 3494 \nQ 3379 3910 3027 4160 \nQ 2701 4390 2246 4390 \nQ 1792 4390 1478 4166 \nQ 1139 3923 1139 3482 \nQ 1139 3104 1459 2867 \nQ 1786 2637 2202 2637 \nQ 2694 2637 3021 2848 \nQ 3379 3085 3379 3494 \nz\nM 5504 -435 \nQ 5331 -429 5091 -429 \nQ 4851 -429 4544 -422 \nQ 4237 -416 4051 -416 \nQ 3866 -416 3795 -416 \nL 1549 -416 \nL 1562 166 \nL 1555 864 \nQ 1651 864 1859 861 \nQ 2067 858 2394 851 \nQ 2720 845 2947 845 \nQ 3174 845 3302 845 \nL 4237 845 \nQ 4410 851 4579 854 \nQ 4749 858 4922 864 \nL 4922 1414 \nL 4634 1414 \nQ 3565 1434 3462 1434 \nL 3232 1434 \nQ 2803 1434 2339 1421 \nQ 1875 1408 1485 1395 \nL 1485 1760 \nQ 1606 1754 1795 1754 \nQ 1984 1754 2253 1747 \nQ 2515 1741 2761 1741 \nQ 3008 1741 3245 1741 \nL 4467 1741 \nQ 4698 1747 4931 1750 \nQ 5165 1754 5395 1760 \nL 5389 1146 \nL 5408 544 \nL 2035 518 \nL 2035 -77 \nQ 2202 -83 2387 -83 \nQ 2573 -83 2784 -83 \nQ 2995 -90 3171 -90 \nQ 3347 -90 3482 -90 \nQ 3923 -90 4246 -86 \nQ 4570 -83 4781 -77 \nQ 4992 -70 5174 -64 \nQ 5357 -58 5504 -45 \nL 5504 -435 \nz\nM 3821 3494 \nQ 3821 3194 3702 2973 \nQ 3584 2752 3354 2586 \nQ 2931 2298 2266 2298 \nQ 1536 2298 1107 2682 \nQ 710 3027 710 3520 \nQ 710 4000 1082 4339 \nQ 1491 4710 2202 4710 \nQ 2573 4710 2873 4627 \nQ 3174 4544 3385 4390 \nQ 3597 4237 3709 4009 \nQ 3821 3782 3821 3494 \nz\nM 5434 5075 \nQ 5434 5056 5414 4982 \nQ 5395 4909 5395 4858 \nL 5382 3680 \nQ 5382 3283 5388 2854 \nQ 5395 2426 5408 2061 \nL 4928 2061 \nL 4941 3686 \nQ 4941 4051 4937 4451 \nQ 4934 4851 4922 5190 \nL 4947 5190 \nQ 5210 5190 5322 5161 \nQ 5434 5133 5434 5075 \nz\n\" id=\"AppleGothic-c77c\" transform=\"scale(0.015625)\"/>\n      <path d=\"M 3027 2739 \nL 3027 3680 \nL 2150 3693 \nL 1293 3680 \nL 1293 2739 \nL 2144 2720 \nL 3027 2739 \nz\nM 5440 -531 \nQ 5178 -525 4906 -518 \nQ 4634 -512 4339 -506 \nQ 4038 -499 3801 -496 \nQ 3565 -493 3379 -493 \nL 1446 -493 \nQ 1453 -422 1456 -336 \nQ 1459 -250 1466 -141 \nQ 1466 -45 1469 19 \nQ 1472 83 1472 115 \nL 1459 762 \nL 3354 749 \nL 4845 774 \nL 4845 1382 \nL 1446 1370 \nL 1446 1734 \nQ 1658 1734 1888 1728 \nQ 2118 1722 2374 1715 \nQ 2630 1709 2864 1705 \nQ 3098 1702 3322 1702 \nL 5299 1715 \nL 5280 1094 \nL 5293 410 \nL 3373 429 \nL 1901 416 \nL 1901 -128 \nQ 1978 -134 2134 -134 \nQ 2291 -134 2522 -134 \nQ 2752 -141 2969 -144 \nQ 3187 -147 3392 -147 \nQ 3846 -147 4380 -137 \nQ 4915 -128 5440 -109 \nL 5440 -531 \nz\nM 5440 5062 \nQ 5440 5024 5414 4937 \nQ 5389 4851 5389 4813 \nQ 5382 4589 5372 4224 \nQ 5363 3859 5363 3334 \nQ 5363 3008 5363 2784 \nQ 5363 2560 5370 2445 \nQ 5376 2323 5376 2220 \nQ 5376 2118 5382 2029 \nL 4922 2029 \nQ 4941 2189 4941 2394 \nL 4941 2822 \nL 3878 2803 \nL 3878 3174 \nL 4941 3162 \nL 4941 3917 \nL 3859 3904 \nL 3859 4269 \nL 4941 4256 \nL 4941 4685 \nQ 4941 4909 4934 5021 \nQ 4928 5133 4915 5190 \nL 5056 5190 \nQ 5222 5190 5331 5164 \nQ 5440 5139 5440 5062 \nz\nM 3488 4877 \nL 3469 4710 \nL 3456 3462 \nL 3469 2362 \nL 851 2362 \nQ 851 2630 857 2944 \nQ 864 3258 870 3578 \nQ 870 3853 870 4061 \nQ 870 4269 864 4416 \nQ 858 4570 858 4704 \nQ 858 4838 851 4966 \nL 979 4966 \nQ 1146 4966 1242 4950 \nQ 1338 4934 1338 4864 \nQ 1338 4838 1315 4761 \nQ 1293 4685 1293 4653 \nL 1293 4051 \nL 2157 4032 \nL 3027 4051 \nL 3014 4998 \nL 3072 4998 \nQ 3264 4998 3376 4976 \nQ 3488 4954 3488 4877 \nz\n\" id=\"AppleGothic-bcc4\" transform=\"scale(0.015625)\"/>\n      <path id=\"AppleGothic-20\" transform=\"scale(0.015625)\"/>\n      <path d=\"M 4954 32 \nL 4954 736 \nL 3232 736 \nQ 3002 736 2829 736 \nQ 2656 736 2528 730 \nQ 2400 730 2278 726 \nQ 2157 723 2029 717 \nL 2029 -26 \nL 3418 -26 \nQ 3898 -26 4294 -6 \nQ 4691 13 4954 32 \nz\nM 5446 1677 \nQ 5446 1658 5433 1578 \nQ 5421 1498 5421 1427 \nL 5414 538 \nL 5414 -90 \nQ 5421 -198 5424 -304 \nQ 5427 -410 5434 -506 \nL 4960 -506 \nL 4954 -339 \nL 2048 -403 \nL 2022 -531 \nL 1562 -538 \nQ 1562 -480 1562 -355 \nQ 1562 -230 1568 -32 \nQ 1574 160 1577 294 \nQ 1581 429 1581 499 \nQ 1581 806 1574 1113 \nQ 1568 1421 1555 1683 \nL 1965 1677 \nQ 2054 1677 2054 1594 \nQ 2054 1568 2041 1494 \nQ 2029 1421 2029 1408 \nL 2029 1107 \nQ 2240 1094 2505 1088 \nQ 2771 1082 3059 1082 \nL 4954 1126 \nL 4960 1434 \nL 4941 1773 \nL 5082 1773 \nQ 5286 1773 5366 1750 \nQ 5446 1728 5446 1677 \nz\nM 4448 2182 \nQ 4333 2170 4233 2157 \nQ 4134 2144 4045 2138 \nQ 3750 2112 3462 2099 \nQ 3174 2086 2874 2086 \nQ 2605 2086 2291 2080 \nQ 1978 2074 1626 2061 \nQ 1498 2054 1331 2048 \nQ 1165 2042 954 2029 \nL 973 3283 \nL 954 4582 \nL 2573 4589 \nQ 2899 4589 3305 4605 \nQ 3712 4621 4064 4640 \nL 4064 4237 \nL 3162 4250 \nQ 3014 4250 2796 4243 \nQ 2579 4237 2278 4224 \nQ 1984 4211 1766 4204 \nQ 1549 4198 1402 4198 \nL 1402 3552 \nL 1760 3546 \nQ 1926 3546 2204 3555 \nQ 2483 3565 2874 3578 \nQ 3264 3597 3517 3603 \nQ 3770 3610 3885 3610 \nL 3885 3187 \nL 2477 3200 \nQ 2131 3200 1881 3193 \nQ 1632 3187 1408 3168 \nL 1408 2458 \nL 2886 2470 \nQ 3258 2470 3872 2509 \nQ 3981 2515 4115 2521 \nQ 4250 2528 4422 2541 \nL 4448 2182 \nz\nM 5466 5062 \nQ 5466 5043 5440 4934 \nQ 5421 4819 5421 4749 \nL 5421 4531 \nQ 5402 3706 5402 3558 \nL 5421 1939 \nL 4928 1920 \nQ 4934 1997 4934 2067 \nQ 4934 2138 4934 2195 \nQ 4954 2970 4954 3341 \nL 4954 3539 \nQ 4941 4358 4931 4768 \nQ 4922 5178 4922 5190 \nL 5152 5197 \nQ 5299 5197 5382 5171 \nQ 5466 5146 5466 5062 \nz\n\" id=\"AppleGothic-d301\" transform=\"scale(0.015625)\"/>\n      <path d=\"M 4794 4013 \nQ 4794 4365 4365 4525 \nQ 3942 4685 3232 4685 \nQ 2400 4685 1997 4521 \nQ 1594 4358 1594 4058 \nQ 1594 3642 2189 3462 \nQ 2579 3341 3226 3341 \nQ 3936 3341 4339 3488 \nQ 4794 3661 4794 4013 \nz\nM 5222 -467 \nL 3238 -448 \nL 1280 -454 \nL 1293 109 \nL 1280 800 \nL 2938 787 \nL 4621 800 \nL 4621 1382 \nL 1286 1357 \nL 1286 1715 \nQ 1421 1709 1849 1699 \nQ 2278 1690 3040 1690 \nQ 3411 1690 3715 1693 \nQ 4019 1696 4265 1699 \nQ 4512 1702 4713 1705 \nQ 4915 1709 5094 1709 \nL 5094 474 \nL 3635 480 \nL 1754 461 \nL 1754 -128 \nL 3187 -128 \nQ 3629 -128 3955 -125 \nQ 4282 -122 4493 -115 \nQ 4710 -109 4892 -102 \nQ 5075 -96 5222 -83 \nL 5222 -467 \nz\nM 5990 2144 \nQ 5811 2150 5667 2150 \nQ 5523 2150 5414 2150 \nQ 4621 2163 4093 2169 \nQ 3565 2176 3290 2176 \nQ 2746 2176 2323 2176 \nQ 1901 2176 1581 2170 \nQ 1261 2163 973 2160 \nQ 685 2157 416 2144 \nL 416 2534 \nQ 467 2534 598 2534 \nQ 730 2534 934 2528 \nQ 1331 2522 2042 2509 \nQ 2400 2502 2701 2502 \nQ 3002 2502 3251 2502 \nQ 3616 2502 3901 2502 \nQ 4186 2502 4397 2509 \nQ 4602 2515 4826 2515 \nQ 5050 2515 5280 2522 \nQ 5517 2528 5693 2531 \nQ 5869 2534 5990 2534 \nL 5990 2144 \nz\nM 5261 3994 \nQ 5261 3469 4723 3219 \nQ 4211 2982 3264 2982 \nQ 2822 2982 2470 3033 \nQ 2118 3085 1850 3181 \nQ 1152 3437 1152 4013 \nQ 1152 4582 1798 4845 \nQ 2054 4941 2403 4992 \nQ 2752 5043 3213 5043 \nQ 4109 5043 4659 4794 \nQ 5261 4518 5261 3994 \nz\n\" id=\"AppleGothic-c744\" transform=\"scale(0.015625)\"/>\n      <path d=\"M 5440 -454 \nQ 5011 -442 4339 -435 \nQ 3994 -429 3696 -429 \nQ 3398 -429 3130 -429 \nL 1261 -448 \nL 1274 410 \nL 1261 1069 \nL 1478 1075 \nQ 1581 1075 1677 1062 \nQ 1773 1050 1773 986 \nQ 1773 966 1753 905 \nQ 1734 845 1734 813 \nL 1722 397 \nL 1722 -19 \nL 3110 -32 \nQ 3642 -32 4237 -22 \nQ 4832 -13 5440 -6 \nL 5440 -454 \nz\nM 5971 1952 \nQ 5555 1952 4730 1971 \nQ 3904 1990 3494 1990 \nL 3501 666 \nQ 3501 563 3366 557 \nQ 3309 550 3264 547 \nQ 3219 544 3194 544 \nQ 3008 544 3008 621 \nL 3014 1990 \nL 1677 1978 \nQ 1414 1978 1222 1978 \nQ 1030 1978 896 1971 \nQ 755 1965 636 1961 \nQ 518 1958 410 1946 \nL 410 2387 \nQ 480 2387 643 2384 \nQ 806 2381 1069 2374 \nQ 1331 2368 1619 2365 \nQ 1907 2362 2240 2355 \nQ 2573 2349 2813 2349 \nQ 3053 2349 3206 2349 \nQ 4051 2349 4720 2361 \nQ 5389 2374 5971 2394 \nL 5971 1952 \nz\nM 5485 3213 \nQ 5478 3200 5478 3187 \nQ 5472 3162 5440 3123 \nL 5197 2816 \nQ 5069 2848 4966 2873 \nQ 4864 2899 4781 2925 \nQ 4294 3091 3910 3340 \nQ 3526 3590 3302 3936 \nQ 3258 4006 3213 4083 \nQ 3149 3994 3101 3930 \nQ 3053 3866 3008 3814 \nQ 2451 3181 1562 2886 \nQ 1414 2835 1197 2790 \nL 1088 2899 \nQ 954 3046 902 3085 \nQ 864 3123 858 3142 \nQ 851 3149 851 3155 \nQ 851 3162 966 3200 \nQ 1088 3219 1184 3238 \nQ 1280 3258 1363 3277 \nQ 1594 3334 1805 3433 \nQ 2016 3533 2208 3661 \nQ 2656 3962 2854 4333 \nQ 2886 4390 2912 4467 \nQ 2938 4544 2963 4634 \nL 2080 4634 \nL 1024 4614 \nL 1024 5030 \nQ 1459 5018 2019 5011 \nQ 2579 5005 3238 5005 \nQ 3885 5005 4419 5011 \nQ 4954 5018 5370 5030 \nL 5370 4614 \nL 4429 4634 \nL 3488 4627 \nQ 3488 4544 3520 4429 \nQ 3635 4064 4045 3776 \nQ 4435 3501 4947 3347 \nQ 5037 3328 5142 3305 \nQ 5248 3283 5389 3258 \nQ 5414 3251 5427 3248 \nQ 5440 3245 5453 3245 \nQ 5485 3232 5485 3213 \nz\n\" id=\"AppleGothic-c900\" transform=\"scale(0.015625)\"/>\n      <path d=\"M 3398 3142 \nQ 3398 3405 2963 3469 \nQ 2816 3494 2592 3494 \nL 2541 3494 \nQ 2163 3494 2003 3450 \nQ 1658 3366 1658 3136 \nQ 1658 2950 1866 2860 \nQ 2074 2771 2541 2771 \nQ 2707 2771 2832 2784 \nQ 2957 2797 3059 2816 \nQ 3398 2899 3398 3142 \nz\nM 5658 -141 \nQ 5658 -186 5542 -269 \nQ 5510 -294 5472 -345 \nQ 5434 -397 5382 -467 \nQ 5370 -499 5344 -544 \nQ 5216 -512 5107 -477 \nQ 4998 -442 4922 -410 \nQ 4422 -224 4032 83 \nQ 3904 179 3795 284 \nQ 3686 390 3597 499 \nQ 3494 634 3398 838 \nQ 3379 794 3360 762 \nQ 3341 730 3328 698 \nQ 3098 358 2624 0 \nQ 2458 -128 2269 -233 \nQ 2080 -339 1856 -429 \nQ 1709 -486 1491 -563 \nQ 1478 -550 1417 -492 \nQ 1357 -435 1235 -326 \nQ 1216 -314 1190 -285 \nQ 1165 -256 1133 -224 \nQ 1133 -205 1158 -198 \nL 1210 -179 \nQ 1293 -166 1357 -150 \nQ 1421 -134 1472 -122 \nQ 1792 -26 2061 115 \nQ 2330 256 2547 442 \nQ 2867 710 3030 995 \nQ 3194 1280 3194 1491 \nQ 3226 1491 3274 1488 \nQ 3322 1485 3379 1478 \nQ 3699 1453 3699 1382 \nQ 3654 1293 3654 1242 \nQ 3667 1203 3680 1164 \nQ 3693 1126 3706 1094 \nQ 3878 730 4307 397 \nQ 4634 134 5069 -13 \nQ 5139 -38 5228 -57 \nQ 5318 -77 5427 -102 \nQ 5440 -109 5549 -109 \nQ 5658 -109 5658 -141 \nz\nM 4403 1882 \nQ 4243 1856 4108 1840 \nQ 3974 1824 3866 1811 \nQ 3155 1734 2541 1734 \nQ 2342 1734 2073 1728 \nQ 1805 1722 1459 1702 \nQ 1229 1696 838 1664 \nL 634 1606 \nQ 576 1606 547 1718 \nQ 518 1830 518 2016 \nQ 557 2016 633 2013 \nQ 710 2010 838 2003 \nL 1139 2003 \nL 2330 2035 \nL 2323 2490 \nQ 2138 2522 1952 2550 \nQ 1766 2579 1581 2611 \nQ 1261 2778 1261 3130 \nQ 1261 3533 1670 3686 \nQ 1920 3789 2374 3789 \nL 2720 3789 \nQ 3162 3789 3398 3699 \nQ 3782 3552 3782 3155 \nQ 3782 2701 3296 2547 \nQ 2771 2490 2758 2483 \nL 2758 2042 \nL 3578 2093 \nL 4378 2163 \nL 4403 1882 \nz\nM 5434 5069 \nQ 5382 4934 5382 4883 \nQ 5370 4544 5363 4144 \nQ 5357 3744 5357 3373 \nL 5363 1171 \nL 4928 1171 \nQ 4934 1395 4934 1628 \nQ 4934 1862 4941 2125 \nQ 4947 2387 4947 2624 \nQ 4947 2861 4947 3072 \nL 4947 3475 \nQ 4947 3936 4947 4227 \nQ 4947 4518 4941 4666 \nQ 4941 4813 4937 4941 \nQ 4934 5069 4934 5178 \nL 5037 5178 \nQ 5222 5178 5328 5158 \nQ 5434 5139 5434 5069 \nz\nM 4282 3974 \nQ 3949 3987 3520 3993 \nQ 3091 4000 2579 4000 \nL 2419 4000 \nQ 1997 4000 1587 3993 \nQ 1178 3987 845 3974 \nL 845 4358 \nQ 1178 4346 1590 4333 \nQ 2003 4320 2445 4320 \nL 2586 4320 \nQ 3098 4320 3523 4333 \nQ 3949 4346 4282 4358 \nL 4282 3974 \nz\nM 3155 4666 \nL 2534 4678 \nL 1811 4666 \nL 1811 4998 \nL 2541 4979 \nL 3155 4998 \nL 3155 4666 \nz\n\" id=\"AppleGothic-d69f\" transform=\"scale(0.015625)\"/>\n      <path d=\"M 6022 1952 \nL 3411 1952 \nL 3424 896 \nL 3462 -582 \nL 2982 -582 \nL 2982 1952 \nQ 2912 1952 2774 1949 \nQ 2637 1946 2419 1939 \nQ 2208 1933 2086 1933 \nQ 1965 1933 1933 1933 \nL 378 1894 \nL 378 2304 \nL 3206 2298 \nQ 3706 2298 4202 2307 \nQ 4698 2317 5184 2330 \nQ 5536 2342 6022 2368 \nL 6022 1952 \nz\nM 5792 3482 \nQ 5792 3450 5747 3402 \nQ 5702 3354 5658 3315 \nL 5523 3117 \nQ 5453 3123 5395 3126 \nQ 5338 3130 5286 3142 \nQ 4685 3251 4090 3610 \nQ 3699 3846 3411 4250 \nQ 3360 4320 3312 4409 \nQ 3264 4499 3206 4621 \nQ 3149 4512 3097 4422 \nQ 3046 4333 2995 4262 \nQ 2688 3846 2208 3552 \nQ 2054 3450 1875 3370 \nQ 1696 3290 1498 3219 \nQ 1382 3181 1232 3142 \nQ 1082 3104 896 3072 \nQ 896 3072 873 3101 \nQ 851 3130 828 3162 \nQ 806 3194 780 3226 \nQ 755 3258 749 3270 \nQ 736 3290 678 3347 \nQ 621 3405 621 3424 \nL 640 3443 \nQ 730 3450 810 3453 \nQ 890 3456 954 3469 \nQ 1338 3526 1674 3676 \nQ 2010 3827 2298 4077 \nQ 2605 4326 2790 4659 \nQ 2842 4755 2886 4880 \nQ 2931 5005 2970 5171 \nL 3411 5133 \nQ 3475 5133 3475 5075 \nQ 3475 5056 3472 5037 \nQ 3469 5018 3462 4992 \nQ 3462 4973 3443 4947 \nQ 3482 4832 3520 4755 \nQ 3738 4301 4230 3974 \nQ 4659 3686 5261 3571 \nQ 5363 3552 5488 3536 \nQ 5613 3520 5766 3507 \nQ 5786 3507 5792 3482 \nz\n\" id=\"AppleGothic-c218\" transform=\"scale(0.015625)\"/>\n     </defs>\n     <use xlink:href=\"#AppleGothic-c694\"/>\n     <use x=\"99.999985\" xlink:href=\"#AppleGothic-c77c\"/>\n     <use x=\"199.999969\" xlink:href=\"#AppleGothic-bcc4\"/>\n     <use x=\"299.999954\" xlink:href=\"#AppleGothic-20\"/>\n     <use x=\"331.999939\" xlink:href=\"#AppleGothic-d301\"/>\n     <use x=\"431.999924\" xlink:href=\"#AppleGothic-c744\"/>\n     <use x=\"531.999908\" xlink:href=\"#AppleGothic-20\"/>\n     <use x=\"563.999893\" xlink:href=\"#AppleGothic-c900\"/>\n     <use x=\"663.999878\" xlink:href=\"#AppleGothic-20\"/>\n     <use x=\"695.999863\" xlink:href=\"#AppleGothic-d69f\"/>\n     <use x=\"795.999847\" xlink:href=\"#AppleGothic-c218\"/>\n    </g>\n   </g>\n  </g>\n </g>\n <defs>\n  <clipPath id=\"p690ae3595f\">\n   <rect height=\"217.44\" width=\"334.8\" x=\"47.133125\" y=\"22.60875\"/>\n  </clipPath>\n </defs>\n</svg>\n",
      "image/png": "[encoded data removed]"
     },
     "metadata": {
      "needs_background": "light"
     }
    }
   ],
   "metadata": {}
  },
  {
   "cell_type": "code",
   "execution_count": 69,
   "source": [
    "sns.boxplot(data=tips, x='day', y='tip');\n",
    "plt.title('요일별 팁의 Box Plot');"
   ],
   "outputs": [
    {
     "output_type": "display_data",
     "data": {
      "text/plain": [
       "<Figure size 432x288 with 1 Axes>"
      ],
      "image/svg+xml": "<?xml version=\"1.0\" encoding=\"utf-8\" standalone=\"no\"?>\n<!DOCTYPE svg PUBLIC \"-//W3C//DTD SVG 1.1//EN\"\n  \"http://www.w3.org/Graphics/SVG/1.1/DTD/svg11.dtd\">\n<svg height=\"282.785781pt\" version=\"1.1\" viewBox=\"0 0 389.133125 282.785781\" width=\"389.133125pt\" xmlns=\"http://www.w3.org/2000/svg\" xmlns:xlink=\"http://www.w3.org/1999/xlink\">\n <metadata>\n  <rdf:RDF xmlns:cc=\"http://creativecommons.org/ns#\" xmlns:dc=\"http://purl.org/dc/elements/1.1/\" xmlns:rdf=\"http://www.w3.org/1999/02/22-rdf-syntax-ns#\">\n   <cc:Work>\n    <dc:type rdf:resource=\"http://purl.org/dc/dcmitype/StillImage\"/>\n    <dc:date>2021-08-23T11:25:27.205581</dc:date>\n    <dc:format>image/svg+xml</dc:format>\n    <dc:creator>\n     <cc:Agent>\n      <dc:title>Matplotlib v3.4.2, https://matplotlib.org/</dc:title>\n     </cc:Agent>\n    </dc:creator>\n   </cc:Work>\n  </rdf:RDF>\n </metadata>\n <defs>\n  <style type=\"text/css\">*{stroke-linecap:butt;stroke-linejoin:round;}</style>\n </defs>\n <g id=\"figure_1\">\n  <g id=\"patch_1\">\n   <path d=\"M 0 282.785781 \nL 389.133125 282.785781 \nL 389.133125 0 \nL 0 0 \nz\n\" style=\"fill:none;\"/>\n  </g>\n  <g id=\"axes_1\">\n   <g id=\"patch_2\">\n    <path d=\"M 47.133125 240.04875 \nL 381.933125 240.04875 \nL 381.933125 22.60875 \nL 47.133125 22.60875 \nz\n\" style=\"fill:#eaeaf2;\"/>\n   </g>\n   <g id=\"matplotlib.axis_1\">\n    <g id=\"xtick_1\">\n     <g id=\"text_1\">\n      <!-- Thur -->\n      <g style=\"fill:#262626;\" transform=\"translate(77.488125 258.173438)scale(0.11 -0.11)\">\n       <defs>\n        <path d=\"M 166 5018 \nL 4038 5018 \nL 4038 4576 \nL 2355 4576 \nL 2355 0 \nL 1856 0 \nL 1856 4576 \nL 166 4576 \nL 166 5018 \nz\n\" id=\"AppleGothic-54\" transform=\"scale(0.015625)\"/>\n        <path d=\"M 288 5018 \nL 749 5018 \nL 749 2810 \nQ 909 3066 1139 3238 \nQ 1491 3501 1926 3501 \nQ 2195 3501 2409 3424 \nQ 2624 3347 2803 3200 \nQ 3181 2867 3181 2266 \nL 3181 0 \nL 2714 0 \nL 2714 2202 \nQ 2714 2573 2477 2829 \nQ 2240 3085 1901 3085 \nQ 1408 3085 1082 2694 \nQ 749 2291 749 1773 \nL 749 0 \nL 288 0 \nL 288 5018 \nz\n\" id=\"AppleGothic-68\" transform=\"scale(0.015625)\"/>\n        <path d=\"M 262 3424 \nL 730 3424 \nL 730 1242 \nQ 730 877 941 627 \nQ 1171 339 1594 339 \nQ 2080 339 2426 730 \nQ 2784 1139 2784 1632 \nL 2784 3424 \nL 3245 3424 \nL 3245 0 \nL 2842 0 \nL 2810 582 \nQ 2707 442 2592 330 \nQ 2477 218 2342 134 \nQ 1984 -83 1555 -83 \nQ 966 -83 614 282 \nQ 262 653 262 1184 \nL 262 3424 \nz\n\" id=\"AppleGothic-75\" transform=\"scale(0.015625)\"/>\n        <path d=\"M 2125 3424 \nL 2125 2963 \nQ 2054 2989 2009 3005 \nQ 1965 3021 1933 3027 \nQ 1901 3034 1865 3037 \nQ 1830 3040 1773 3040 \nQ 1306 3040 1005 2586 \nQ 749 2170 749 1658 \nL 749 0 \nL 288 0 \nL 288 3424 \nL 710 3424 \nL 742 2835 \nQ 902 3104 1043 3219 \nQ 1331 3456 1734 3456 \nQ 1843 3456 1936 3449 \nQ 2029 3443 2125 3424 \nz\n\" id=\"AppleGothic-72\" transform=\"scale(0.015625)\"/>\n       </defs>\n       <use xlink:href=\"#AppleGothic-54\"/>\n       <use x=\"66.099991\" xlink:href=\"#AppleGothic-68\"/>\n       <use x=\"118.299988\" xlink:href=\"#AppleGothic-75\"/>\n       <use x=\"173.799973\" xlink:href=\"#AppleGothic-72\"/>\n      </g>\n     </g>\n    </g>\n    <g id=\"xtick_2\">\n     <g id=\"text_2\">\n      <!-- Fri -->\n      <g style=\"fill:#262626;\" transform=\"translate(166.670938 258.173438)scale(0.11 -0.11)\">\n       <defs>\n        <path d=\"M 339 5018 \nL 3462 5018 \nL 3462 4576 \nL 845 4576 \nL 845 2714 \nL 3354 2714 \nL 3354 2304 \nL 845 2304 \nL 845 0 \nL 339 0 \nL 339 5018 \nz\n\" id=\"AppleGothic-46\" transform=\"scale(0.015625)\"/>\n        <path d=\"M 256 3424 \nL 717 3424 \nL 717 0 \nL 256 0 \nL 256 3424 \nz\nM 480 4870 \nQ 614 4870 704 4780 \nQ 794 4691 794 4525 \nQ 794 4358 710 4268 \nQ 627 4179 480 4179 \nQ 333 4179 253 4281 \nQ 173 4384 173 4518 \nQ 173 4730 269 4800 \nQ 365 4870 480 4870 \nz\n\" id=\"AppleGothic-69\" transform=\"scale(0.015625)\"/>\n       </defs>\n       <use xlink:href=\"#AppleGothic-46\"/>\n       <use x=\"58.199997\" xlink:href=\"#AppleGothic-72\"/>\n       <use x=\"93.399994\" xlink:href=\"#AppleGothic-69\"/>\n      </g>\n     </g>\n    </g>\n    <g id=\"xtick_3\">\n     <g id=\"text_3\">\n      <!-- Sat -->\n      <g style=\"fill:#262626;\" transform=\"translate(247.918281 258.173438)scale(0.11 -0.11)\">\n       <defs>\n        <path d=\"M 3418 4666 \nL 3418 4019 \nQ 3251 4160 3081 4269 \nQ 2912 4378 2746 4448 \nQ 2362 4627 1965 4627 \nQ 1466 4627 1139 4378 \nQ 806 4122 806 3770 \nQ 806 3258 1562 3002 \nQ 1914 2880 2262 2768 \nQ 2611 2656 2970 2541 \nQ 3731 2176 3731 1453 \nQ 3731 749 3187 320 \nQ 2669 -83 1901 -83 \nQ 1389 -83 915 115 \nQ 640 224 262 474 \nL 262 1126 \nQ 755 685 1261 506 \nQ 1427 442 1587 416 \nQ 1747 390 1907 390 \nQ 2419 390 2771 646 \nQ 3162 928 3162 1382 \nQ 3162 1933 2419 2221 \nQ 2061 2330 1715 2445 \nQ 1370 2560 1024 2669 \nQ 275 3014 275 3731 \nQ 275 4333 749 4710 \nQ 1235 5101 1965 5101 \nQ 2413 5101 2861 4934 \nQ 3091 4858 3418 4666 \nz\n\" id=\"AppleGothic-53\" transform=\"scale(0.015625)\"/>\n        <path d=\"M 2950 2214 \nL 2950 602 \nQ 2950 493 2998 413 \nQ 3046 333 3174 333 \nQ 3213 333 3238 336 \nQ 3264 339 3290 346 \nQ 3328 358 3357 371 \nQ 3386 384 3405 390 \nL 3405 32 \nQ 3290 -6 3174 -22 \nQ 3059 -38 2995 -38 \nQ 2669 -38 2566 134 \nQ 2483 243 2483 602 \nQ 2400 461 2317 355 \nQ 2234 250 2150 179 \nQ 1818 -83 1376 -83 \nQ 909 -83 563 192 \nQ 205 486 205 941 \nQ 205 1510 781 1779 \nQ 992 1882 1341 1958 \nQ 1690 2035 2176 2099 \nL 2483 2131 \nQ 2483 2579 2256 2832 \nQ 2029 3085 1587 3085 \nQ 1421 3085 1257 3043 \nQ 1094 3002 928 2912 \nQ 838 2861 729 2790 \nQ 621 2720 493 2611 \nL 493 3136 \nQ 1037 3501 1664 3501 \nQ 2304 3501 2650 3098 \nQ 2950 2746 2950 2214 \nz\nM 2483 1542 \nL 2483 1747 \nL 2266 1722 \nQ 1466 1638 1139 1498 \nQ 704 1325 704 934 \nQ 704 819 755 713 \nQ 806 608 896 525 \nQ 986 442 1117 390 \nQ 1248 339 1408 339 \nQ 1843 339 2170 691 \nQ 2483 1050 2483 1542 \nz\n\" id=\"AppleGothic-61\" transform=\"scale(0.015625)\"/>\n        <path d=\"M 691 4435 \nL 1114 4435 \nL 1114 3430 \nL 2016 3430 \nL 2016 3014 \nL 1114 3014 \nL 1114 838 \nQ 1114 570 1213 454 \nQ 1312 339 1555 339 \nQ 1696 339 1795 371 \nQ 1894 403 2016 454 \nL 2016 38 \nQ 1914 6 1770 -22 \nQ 1626 -51 1478 -51 \nQ 1094 -51 883 122 \nQ 646 301 646 698 \nL 646 3014 \nL 70 3014 \nL 70 3430 \nL 646 3430 \nL 691 4435 \nz\n\" id=\"AppleGothic-74\" transform=\"scale(0.015625)\"/>\n       </defs>\n       <use xlink:href=\"#AppleGothic-53\"/>\n       <use x=\"63.199997\" xlink:href=\"#AppleGothic-61\"/>\n       <use x=\"119.699982\" xlink:href=\"#AppleGothic-74\"/>\n      </g>\n     </g>\n    </g>\n    <g id=\"xtick_4\">\n     <g id=\"text_4\">\n      <!-- Sun -->\n      <g style=\"fill:#262626;\" transform=\"translate(330.479609 258.173438)scale(0.11 -0.11)\">\n       <defs>\n        <path d=\"M 3264 2291 \nL 3264 0 \nL 2803 0 \nL 2803 2259 \nQ 2803 2618 2541 2848 \nQ 2278 3085 1914 3085 \nQ 1427 3085 1075 2682 \nQ 723 2272 723 1760 \nL 723 0 \nL 288 0 \nL 288 3424 \nL 691 3424 \nL 710 2784 \nQ 883 3046 1114 3219 \nQ 1491 3501 1965 3501 \nQ 2515 3501 2886 3168 \nQ 3264 2842 3264 2291 \nz\n\" id=\"AppleGothic-6e\" transform=\"scale(0.015625)\"/>\n       </defs>\n       <use xlink:href=\"#AppleGothic-53\"/>\n       <use x=\"63.199997\" xlink:href=\"#AppleGothic-75\"/>\n       <use x=\"118.699982\" xlink:href=\"#AppleGothic-6e\"/>\n      </g>\n     </g>\n    </g>\n    <g id=\"text_5\">\n     <!-- day -->\n     <g style=\"fill:#262626;\" transform=\"translate(204.560938 273.474531)scale(0.12 -0.12)\">\n      <defs>\n       <path d=\"M 2682 5018 \nL 3174 5018 \nL 3174 0 \nL 2733 0 \nL 2688 557 \nQ 2598 429 2508 329 \nQ 2419 230 2330 160 \nQ 2010 -83 1587 -83 \nQ 928 -83 493 429 \nQ 64 941 64 1670 \nQ 64 2426 518 2957 \nQ 979 3501 1670 3501 \nQ 1958 3501 2208 3398 \nQ 2298 3360 2416 3296 \nQ 2534 3232 2682 3142 \nL 2682 5018 \nz\nM 2682 1658 \nL 2682 2643 \nQ 2381 2906 2157 2995 \nQ 1933 3085 1722 3085 \nQ 1197 3085 870 2643 \nQ 563 2227 563 1677 \nQ 563 1088 902 698 \nQ 1216 339 1645 339 \nQ 2067 339 2374 710 \nQ 2682 1082 2682 1658 \nz\n\" id=\"AppleGothic-64\" transform=\"scale(0.015625)\"/>\n       <path d=\"M 179 3424 \nL 691 3424 \nL 1869 531 \nL 2874 3424 \nL 3379 3424 \nL 1952 -397 \nQ 1798 -806 1555 -979 \nQ 1338 -1126 1037 -1126 \nQ 883 -1126 780 -1104 \nQ 678 -1082 582 -1043 \nL 582 -602 \nQ 672 -646 784 -678 \nQ 896 -710 986 -710 \nQ 1210 -710 1334 -595 \nQ 1459 -480 1555 -230 \nL 1632 32 \nL 179 3424 \nz\n\" id=\"AppleGothic-79\" transform=\"scale(0.015625)\"/>\n      </defs>\n      <use xlink:href=\"#AppleGothic-64\"/>\n      <use x=\"53.999985\" xlink:href=\"#AppleGothic-61\"/>\n      <use x=\"110.499969\" xlink:href=\"#AppleGothic-79\"/>\n     </g>\n    </g>\n   </g>\n   <g id=\"matplotlib.axis_2\">\n    <g id=\"ytick_1\">\n     <g id=\"line2d_1\">\n      <path clip-path=\"url(#p1dbbbfe53d)\" d=\"M 47.133125 208.201477 \nL 381.933125 208.201477 \n\" style=\"fill:none;stroke:#ffffff;stroke-linecap:round;\"/>\n     </g>\n     <g id=\"text_6\">\n      <!-- 2 -->\n      <g style=\"fill:#262626;\" transform=\"translate(30.153125 212.513821)scale(0.11 -0.11)\">\n       <defs>\n        <path d=\"M 1101 429 \nL 3942 429 \nL 3942 0 \nL 653 0 \nL 653 205 \nQ 653 1018 1344 1664 \nQ 1670 1894 1990 2124 \nQ 2310 2355 2637 2592 \nQ 3334 3098 3334 3597 \nQ 3334 3994 3014 4218 \nQ 2867 4326 2694 4377 \nQ 2522 4429 2317 4429 \nQ 2016 4429 1741 4352 \nQ 1325 4224 883 3910 \nL 883 4435 \nQ 1325 4659 1667 4758 \nQ 2010 4858 2317 4858 \nQ 2963 4858 3405 4525 \nQ 3840 4198 3840 3622 \nQ 3840 2995 3168 2438 \nQ 2848 2214 2531 2000 \nQ 2214 1786 1894 1562 \nQ 1178 1024 1101 429 \nz\n\" id=\"AppleGothic-32\" transform=\"scale(0.015625)\"/>\n       </defs>\n       <use xlink:href=\"#AppleGothic-32\"/>\n      </g>\n     </g>\n    </g>\n    <g id=\"ytick_2\">\n     <g id=\"line2d_2\">\n      <path clip-path=\"url(#p1dbbbfe53d)\" d=\"M 47.133125 164.274205 \nL 381.933125 164.274205 \n\" style=\"fill:none;stroke:#ffffff;stroke-linecap:round;\"/>\n     </g>\n     <g id=\"text_7\">\n      <!-- 4 -->\n      <g style=\"fill:#262626;\" transform=\"translate(30.153125 168.586548)scale(0.11 -0.11)\">\n       <defs>\n        <path d=\"M 2662 4774 \nL 3130 4774 \nL 3130 1811 \nL 4000 1811 \nL 4000 1382 \nL 3130 1382 \nL 3130 0 \nL 2662 0 \nL 2662 1382 \nL 352 1382 \nL 352 1811 \nL 2662 4774 \nz\nM 2662 1811 \nL 2662 4166 \nL 838 1811 \nL 2662 1811 \nz\n\" id=\"AppleGothic-34\" transform=\"scale(0.015625)\"/>\n       </defs>\n       <use xlink:href=\"#AppleGothic-34\"/>\n      </g>\n     </g>\n    </g>\n    <g id=\"ytick_3\">\n     <g id=\"line2d_3\">\n      <path clip-path=\"url(#p1dbbbfe53d)\" d=\"M 47.133125 120.346932 \nL 381.933125 120.346932 \n\" style=\"fill:none;stroke:#ffffff;stroke-linecap:round;\"/>\n     </g>\n     <g id=\"text_8\">\n      <!-- 6 -->\n      <g style=\"fill:#262626;\" transform=\"translate(30.153125 124.659276)scale(0.11 -0.11)\">\n       <defs>\n        <path d=\"M 3699 4557 \nL 3699 4013 \nQ 3584 4102 3475 4163 \nQ 3366 4224 3258 4275 \nQ 3085 4358 2918 4393 \nQ 2752 4429 2586 4429 \nQ 2470 4429 2352 4409 \nQ 2234 4390 2118 4339 \nQ 1670 4154 1395 3738 \nQ 1011 3149 1011 2189 \nQ 1312 2490 1568 2656 \nQ 2022 2931 2534 2931 \nQ 3162 2931 3584 2566 \nQ 4038 2163 4038 1491 \nQ 4038 806 3558 358 \nQ 3078 -83 2394 -83 \nQ 1670 -83 1146 454 \nQ 518 1088 518 2253 \nQ 518 3411 1120 4134 \nQ 1715 4858 2605 4858 \nQ 2938 4858 3226 4762 \nQ 3309 4730 3427 4682 \nQ 3546 4634 3699 4557 \nz\nM 1062 1702 \nQ 1152 1152 1498 768 \nQ 1882 346 2419 346 \nQ 2899 346 3213 659 \nQ 3539 973 3539 1459 \nQ 3539 1920 3226 2214 \nQ 2918 2502 2496 2502 \nQ 1990 2502 1542 2176 \nQ 1414 2080 1292 1965 \nQ 1171 1850 1062 1702 \nz\n\" id=\"AppleGothic-36\" transform=\"scale(0.015625)\"/>\n       </defs>\n       <use xlink:href=\"#AppleGothic-36\"/>\n      </g>\n     </g>\n    </g>\n    <g id=\"ytick_4\">\n     <g id=\"line2d_4\">\n      <path clip-path=\"url(#p1dbbbfe53d)\" d=\"M 47.133125 76.419659 \nL 381.933125 76.419659 \n\" style=\"fill:none;stroke:#ffffff;stroke-linecap:round;\"/>\n     </g>\n     <g id=\"text_9\">\n      <!-- 8 -->\n      <g style=\"fill:#262626;\" transform=\"translate(30.153125 80.732003)scale(0.11 -0.11)\">\n       <defs>\n        <path d=\"M 2957 2605 \nQ 3219 2528 3404 2445 \nQ 3590 2362 3706 2272 \nQ 4192 1926 4192 1370 \nQ 4192 749 3642 333 \nQ 3098 -83 2285 -83 \nQ 1434 -83 947 326 \nQ 512 691 512 1229 \nQ 512 1798 998 2125 \nQ 1146 2227 1341 2304 \nQ 1536 2381 1779 2451 \nQ 1574 2534 1430 2617 \nQ 1286 2701 1197 2784 \nQ 819 3104 819 3603 \nQ 819 4173 1261 4512 \nQ 1702 4858 2381 4858 \nQ 3014 4858 3437 4570 \nQ 3898 4262 3898 3738 \nQ 3898 3373 3670 3081 \nQ 3443 2790 2957 2605 \nz\nM 2406 2752 \nQ 2624 2835 2781 2915 \nQ 2938 2995 3040 3066 \nQ 3398 3322 3398 3667 \nQ 3398 3994 3104 4205 \nQ 2822 4429 2362 4429 \nQ 1894 4429 1613 4205 \nQ 1325 3994 1325 3635 \nQ 1325 3322 1581 3098 \nQ 1696 3002 1901 2912 \nQ 2106 2822 2406 2752 \nz\nM 2368 2304 \nQ 2061 2202 1840 2106 \nQ 1619 2010 1472 1920 \nQ 1011 1626 1011 1235 \nQ 1011 845 1376 595 \nQ 1728 346 2310 346 \nQ 2938 346 3315 640 \nQ 3693 934 3693 1338 \nQ 3693 1741 3238 1997 \nQ 3104 2067 2886 2147 \nQ 2669 2227 2368 2304 \nz\n\" id=\"AppleGothic-38\" transform=\"scale(0.015625)\"/>\n       </defs>\n       <use xlink:href=\"#AppleGothic-38\"/>\n      </g>\n     </g>\n    </g>\n    <g id=\"ytick_5\">\n     <g id=\"line2d_5\">\n      <path clip-path=\"url(#p1dbbbfe53d)\" d=\"M 47.133125 32.492386 \nL 381.933125 32.492386 \n\" style=\"fill:none;stroke:#ffffff;stroke-linecap:round;\"/>\n     </g>\n     <g id=\"text_10\">\n      <!-- 10 -->\n      <g style=\"fill:#262626;\" transform=\"translate(22.673125 36.80473)scale(0.11 -0.11)\">\n       <defs>\n        <path d=\"M 2342 4774 \nL 2752 4774 \nL 2752 0 \nL 2285 0 \nL 2285 3526 \nL 1158 3526 \nL 1158 3885 \nL 1414 3885 \nQ 1990 3885 2214 4205 \nQ 2342 4410 2342 4774 \nz\n\" id=\"AppleGothic-31\" transform=\"scale(0.015625)\"/>\n        <path d=\"M 2227 -83 \nQ 1414 -83 934 576 \nQ 461 1229 461 2387 \nQ 461 3552 973 4218 \nQ 1453 4858 2221 4858 \nQ 3027 4858 3482 4173 \nQ 3955 3494 3955 2394 \nQ 3955 1248 3462 582 \nQ 2976 -83 2227 -83 \nz\nM 2176 346 \nQ 2861 346 3200 992 \nQ 3462 1536 3462 2400 \nQ 3462 3315 3162 3859 \nQ 2822 4429 2214 4429 \nQ 1574 4429 1248 3821 \nQ 960 3283 960 2374 \nQ 960 1478 1248 941 \nQ 1574 346 2176 346 \nz\n\" id=\"AppleGothic-30\" transform=\"scale(0.015625)\"/>\n       </defs>\n       <use xlink:href=\"#AppleGothic-31\"/>\n       <use x=\"67.999985\" xlink:href=\"#AppleGothic-30\"/>\n      </g>\n     </g>\n    </g>\n    <g id=\"text_11\">\n     <!-- tip -->\n     <g style=\"fill:#262626;\" transform=\"translate(16.60875 137.659688)rotate(-90)scale(0.12 -0.12)\">\n      <defs>\n       <path d=\"M 736 307 \nL 736 -1101 \nL 288 -1101 \nL 288 3424 \nL 704 3424 \nL 730 2803 \nQ 941 3149 1216 3325 \nQ 1491 3501 1882 3501 \nQ 2522 3501 2944 3002 \nQ 3162 2752 3270 2441 \nQ 3379 2131 3379 1747 \nQ 3379 954 2899 435 \nQ 2419 -83 1754 -83 \nQ 1421 -83 1139 58 \nQ 1056 90 960 154 \nQ 864 218 736 307 \nz\nM 736 1824 \nL 736 800 \nQ 838 704 924 637 \nQ 1011 570 1082 525 \nQ 1395 339 1715 339 \nQ 2227 339 2554 742 \nQ 2886 1165 2886 1766 \nQ 2886 2330 2579 2707 \nQ 2278 3085 1811 3085 \nQ 1331 3085 1018 2669 \nQ 736 2291 736 1824 \nz\n\" id=\"AppleGothic-70\" transform=\"scale(0.015625)\"/>\n      </defs>\n      <use xlink:href=\"#AppleGothic-74\"/>\n      <use x=\"34.199997\" xlink:href=\"#AppleGothic-69\"/>\n      <use x=\"50.099991\" xlink:href=\"#AppleGothic-70\"/>\n     </g>\n    </g>\n   </g>\n   <g id=\"patch_3\">\n    <path clip-path=\"url(#p1dbbbfe53d)\" d=\"M 55.503125 208.201477 \nL 122.463125 208.201477 \nL 122.463125 178.276023 \nL 55.503125 178.276023 \nL 55.503125 208.201477 \nz\n\" style=\"fill:#5875a4;stroke:#4c4c4c;stroke-linejoin:miter;stroke-width:1.5;\"/>\n   </g>\n   <g id=\"patch_4\">\n    <path clip-path=\"url(#p1dbbbfe53d)\" d=\"M 139.203125 209.080023 \nL 206.163125 209.080023 \nL 206.163125 178.221114 \nL 139.203125 178.221114 \nL 139.203125 209.080023 \nz\n\" style=\"fill:#cc8963;stroke:#4c4c4c;stroke-linejoin:miter;stroke-width:1.5;\"/>\n   </g>\n   <g id=\"patch_5\">\n    <path clip-path=\"url(#p1dbbbfe53d)\" d=\"M 222.903125 208.201477 \nL 289.863125 208.201477 \nL 289.863125 178.111295 \nL 222.903125 178.111295 \nL 222.903125 208.201477 \nz\n\" style=\"fill:#5f9e6e;stroke:#4c4c4c;stroke-linejoin:miter;stroke-width:1.5;\"/>\n   </g>\n   <g id=\"patch_6\">\n    <path clip-path=\"url(#p1dbbbfe53d)\" d=\"M 306.603125 207.377841 \nL 373.563125 207.377841 \nL 373.563125 164.274205 \nL 306.603125 164.274205 \nL 306.603125 207.377841 \nz\n\" style=\"fill:#b55d60;stroke:#4c4c4c;stroke-linejoin:miter;stroke-width:1.5;\"/>\n   </g>\n   <g id=\"line2d_6\">\n    <path clip-path=\"url(#p1dbbbfe53d)\" d=\"M 88.983125 208.201477 \nL 88.983125 224.674205 \n\" style=\"fill:none;stroke:#4c4c4c;stroke-linecap:round;stroke-width:1.5;\"/>\n   </g>\n   <g id=\"line2d_7\">\n    <path clip-path=\"url(#p1dbbbfe53d)\" d=\"M 88.983125 178.276023 \nL 88.983125 138.57675 \n\" style=\"fill:none;stroke:#4c4c4c;stroke-linecap:round;stroke-width:1.5;\"/>\n   </g>\n   <g id=\"line2d_8\">\n    <path clip-path=\"url(#p1dbbbfe53d)\" d=\"M 72.243125 224.674205 \nL 105.723125 224.674205 \n\" style=\"fill:none;stroke:#4c4c4c;stroke-linecap:round;stroke-width:1.5;\"/>\n   </g>\n   <g id=\"line2d_9\">\n    <path clip-path=\"url(#p1dbbbfe53d)\" d=\"M 72.243125 138.57675 \nL 105.723125 138.57675 \n\" style=\"fill:none;stroke:#4c4c4c;stroke-linecap:round;stroke-width:1.5;\"/>\n   </g>\n   <g id=\"line2d_10\">\n    <defs>\n     <path d=\"M -0 3.535534 \nL 2.12132 0 \nL -0 -3.535534 \nL -2.12132 -0 \nz\n\" id=\"me1eb3d8da4\" style=\"stroke:#4c4c4c;stroke-linejoin:miter;\"/>\n    </defs>\n    <g clip-path=\"url(#p1dbbbfe53d)\">\n     <use style=\"fill:#4c4c4c;stroke:#4c4c4c;stroke-linejoin:miter;\" x=\"88.983125\" xlink:href=\"#me1eb3d8da4\" y=\"123.641477\"/>\n     <use style=\"fill:#4c4c4c;stroke:#4c4c4c;stroke-linejoin:miter;\" x=\"88.983125\" xlink:href=\"#me1eb3d8da4\" y=\"104.972386\"/>\n    </g>\n   </g>\n   <g id=\"line2d_11\">\n    <path clip-path=\"url(#p1dbbbfe53d)\" d=\"M 172.683125 209.080023 \nL 172.683125 230.165114 \n\" style=\"fill:none;stroke:#4c4c4c;stroke-linecap:round;stroke-width:1.5;\"/>\n   </g>\n   <g id=\"line2d_12\">\n    <path clip-path=\"url(#p1dbbbfe53d)\" d=\"M 172.683125 178.221114 \nL 172.683125 148.24075 \n\" style=\"fill:none;stroke:#4c4c4c;stroke-linecap:round;stroke-width:1.5;\"/>\n   </g>\n   <g id=\"line2d_13\">\n    <path clip-path=\"url(#p1dbbbfe53d)\" d=\"M 155.943125 230.165114 \nL 189.423125 230.165114 \n\" style=\"fill:none;stroke:#4c4c4c;stroke-linecap:round;stroke-width:1.5;\"/>\n   </g>\n   <g id=\"line2d_14\">\n    <path clip-path=\"url(#p1dbbbfe53d)\" d=\"M 155.943125 148.24075 \nL 189.423125 148.24075 \n\" style=\"fill:none;stroke:#4c4c4c;stroke-linecap:round;stroke-width:1.5;\"/>\n   </g>\n   <g id=\"line2d_15\"/>\n   <g id=\"line2d_16\">\n    <path clip-path=\"url(#p1dbbbfe53d)\" d=\"M 256.383125 208.201477 \nL 256.383125 230.165114 \n\" style=\"fill:none;stroke:#4c4c4c;stroke-linecap:round;stroke-width:1.5;\"/>\n   </g>\n   <g id=\"line2d_17\">\n    <path clip-path=\"url(#p1dbbbfe53d)\" d=\"M 256.383125 178.111295 \nL 256.383125 138.796386 \n\" style=\"fill:none;stroke:#4c4c4c;stroke-linecap:round;stroke-width:1.5;\"/>\n   </g>\n   <g id=\"line2d_18\">\n    <path clip-path=\"url(#p1dbbbfe53d)\" d=\"M 239.643125 230.165114 \nL 273.123125 230.165114 \n\" style=\"fill:none;stroke:#4c4c4c;stroke-linecap:round;stroke-width:1.5;\"/>\n   </g>\n   <g id=\"line2d_19\">\n    <path clip-path=\"url(#p1dbbbfe53d)\" d=\"M 239.643125 138.796386 \nL 273.123125 138.796386 \n\" style=\"fill:none;stroke:#4c4c4c;stroke-linecap:round;stroke-width:1.5;\"/>\n   </g>\n   <g id=\"line2d_20\">\n    <g clip-path=\"url(#p1dbbbfe53d)\">\n     <use style=\"fill:#4c4c4c;stroke:#4c4c4c;stroke-linejoin:miter;\" x=\"256.383125\" xlink:href=\"#me1eb3d8da4\" y=\"85.644386\"/>\n     <use style=\"fill:#4c4c4c;stroke:#4c4c4c;stroke-linejoin:miter;\" x=\"256.383125\" xlink:href=\"#me1eb3d8da4\" y=\"104.313477\"/>\n     <use style=\"fill:#4c4c4c;stroke:#4c4c4c;stroke-linejoin:miter;\" x=\"256.383125\" xlink:href=\"#me1eb3d8da4\" y=\"32.492386\"/>\n     <use style=\"fill:#4c4c4c;stroke:#4c4c4c;stroke-linejoin:miter;\" x=\"256.383125\" xlink:href=\"#me1eb3d8da4\" y=\"54.456023\"/>\n     <use style=\"fill:#4c4c4c;stroke:#4c4c4c;stroke-linejoin:miter;\" x=\"256.383125\" xlink:href=\"#me1eb3d8da4\" y=\"109.365114\"/>\n     <use style=\"fill:#4c4c4c;stroke:#4c4c4c;stroke-linejoin:miter;\" x=\"256.383125\" xlink:href=\"#me1eb3d8da4\" y=\"122.104023\"/>\n    </g>\n   </g>\n   <g id=\"line2d_21\">\n    <path clip-path=\"url(#p1dbbbfe53d)\" d=\"M 340.083125 207.377841 \nL 340.083125 229.945477 \n\" style=\"fill:none;stroke:#4c4c4c;stroke-linecap:round;stroke-width:1.5;\"/>\n   </g>\n   <g id=\"line2d_22\">\n    <path clip-path=\"url(#p1dbbbfe53d)\" d=\"M 340.083125 164.274205 \nL 340.083125 109.365114 \n\" style=\"fill:none;stroke:#4c4c4c;stroke-linecap:round;stroke-width:1.5;\"/>\n   </g>\n   <g id=\"line2d_23\">\n    <path clip-path=\"url(#p1dbbbfe53d)\" d=\"M 323.343125 229.945477 \nL 356.823125 229.945477 \n\" style=\"fill:none;stroke:#4c4c4c;stroke-linecap:round;stroke-width:1.5;\"/>\n   </g>\n   <g id=\"line2d_24\">\n    <path clip-path=\"url(#p1dbbbfe53d)\" d=\"M 323.343125 109.365114 \nL 356.823125 109.365114 \n\" style=\"fill:none;stroke:#4c4c4c;stroke-linecap:round;stroke-width:1.5;\"/>\n   </g>\n   <g id=\"line2d_25\"/>\n   <g id=\"line2d_26\">\n    <path clip-path=\"url(#p1dbbbfe53d)\" d=\"M 55.503125 201.502568 \nL 122.463125 201.502568 \n\" style=\"fill:none;stroke:#4c4c4c;stroke-linecap:round;stroke-width:1.5;\"/>\n   </g>\n   <g id=\"line2d_27\">\n    <path clip-path=\"url(#p1dbbbfe53d)\" d=\"M 139.203125 186.237841 \nL 206.163125 186.237841 \n\" style=\"fill:none;stroke:#4c4c4c;stroke-linecap:round;stroke-width:1.5;\"/>\n   </g>\n   <g id=\"line2d_28\">\n    <path clip-path=\"url(#p1dbbbfe53d)\" d=\"M 222.903125 191.72875 \nL 289.863125 191.72875 \n\" style=\"fill:none;stroke:#4c4c4c;stroke-linecap:round;stroke-width:1.5;\"/>\n   </g>\n   <g id=\"line2d_29\">\n    <path clip-path=\"url(#p1dbbbfe53d)\" d=\"M 306.603125 182.943295 \nL 373.563125 182.943295 \n\" style=\"fill:none;stroke:#4c4c4c;stroke-linecap:round;stroke-width:1.5;\"/>\n   </g>\n   <g id=\"patch_7\">\n    <path d=\"M 47.133125 240.04875 \nL 47.133125 22.60875 \n\" style=\"fill:none;stroke:#ffffff;stroke-linecap:square;stroke-linejoin:miter;stroke-width:1.25;\"/>\n   </g>\n   <g id=\"patch_8\">\n    <path d=\"M 381.933125 240.04875 \nL 381.933125 22.60875 \n\" style=\"fill:none;stroke:#ffffff;stroke-linecap:square;stroke-linejoin:miter;stroke-width:1.25;\"/>\n   </g>\n   <g id=\"patch_9\">\n    <path d=\"M 47.133125 240.04875 \nL 381.933125 240.04875 \n\" style=\"fill:none;stroke:#ffffff;stroke-linecap:square;stroke-linejoin:miter;stroke-width:1.25;\"/>\n   </g>\n   <g id=\"patch_10\">\n    <path d=\"M 47.133125 22.60875 \nL 381.933125 22.60875 \n\" style=\"fill:none;stroke:#ffffff;stroke-linecap:square;stroke-linejoin:miter;stroke-width:1.25;\"/>\n   </g>\n   <g id=\"text_12\">\n    <!-- 요일별 팁의 Box Plot -->\n    <g style=\"fill:#262626;\" transform=\"translate(157.976562 16.60875)scale(0.12 -0.12)\">\n     <defs>\n      <path d=\"M 4800 3334 \nQ 4800 3878 4288 4160 \nQ 4064 4288 3792 4349 \nQ 3520 4410 3187 4410 \nQ 2419 4410 1984 4144 \nQ 1549 3878 1549 3379 \nQ 1549 2778 2157 2528 \nQ 2534 2368 3110 2368 \nQ 3462 2368 3747 2422 \nQ 4032 2477 4262 2586 \nQ 4800 2842 4800 3334 \nz\nM 6016 307 \nL 3238 307 \nQ 2835 307 2371 300 \nQ 1907 294 1376 282 \nQ 1184 275 934 268 \nQ 685 262 378 250 \nL 378 691 \nL 1363 678 \nL 2022 685 \nL 2022 1466 \nL 1997 1760 \nL 2138 1760 \nQ 2310 1760 2416 1744 \nQ 2522 1728 2522 1670 \nQ 2522 1632 2493 1552 \nQ 2464 1472 2464 1440 \nL 2464 685 \nL 3853 685 \nQ 3859 736 3862 829 \nQ 3866 922 3866 960 \nL 3821 1760 \nL 3930 1760 \nQ 4115 1760 4233 1741 \nQ 4352 1722 4352 1670 \nQ 4352 1658 4333 1584 \nQ 4314 1510 4314 1440 \nL 4314 678 \nQ 4442 678 4598 684 \nQ 4755 691 4947 704 \nQ 5798 762 6016 762 \nL 6016 307 \nz\nM 5248 3347 \nQ 5248 2675 4602 2310 \nQ 4045 2003 3251 2003 \nQ 2842 2003 2512 2054 \nQ 2182 2106 1920 2214 \nQ 1094 2547 1094 3366 \nQ 1094 4109 1792 4461 \nQ 2336 4742 3162 4742 \nQ 4045 4742 4589 4442 \nQ 5248 4077 5248 3347 \nz\n\" id=\"AppleGothic-c694\" transform=\"scale(0.015625)\"/>\n      <path d=\"M 3379 3494 \nQ 3379 3910 3027 4160 \nQ 2701 4390 2246 4390 \nQ 1792 4390 1478 4166 \nQ 1139 3923 1139 3482 \nQ 1139 3104 1459 2867 \nQ 1786 2637 2202 2637 \nQ 2694 2637 3021 2848 \nQ 3379 3085 3379 3494 \nz\nM 5504 -435 \nQ 5331 -429 5091 -429 \nQ 4851 -429 4544 -422 \nQ 4237 -416 4051 -416 \nQ 3866 -416 3795 -416 \nL 1549 -416 \nL 1562 166 \nL 1555 864 \nQ 1651 864 1859 861 \nQ 2067 858 2394 851 \nQ 2720 845 2947 845 \nQ 3174 845 3302 845 \nL 4237 845 \nQ 4410 851 4579 854 \nQ 4749 858 4922 864 \nL 4922 1414 \nL 4634 1414 \nQ 3565 1434 3462 1434 \nL 3232 1434 \nQ 2803 1434 2339 1421 \nQ 1875 1408 1485 1395 \nL 1485 1760 \nQ 1606 1754 1795 1754 \nQ 1984 1754 2253 1747 \nQ 2515 1741 2761 1741 \nQ 3008 1741 3245 1741 \nL 4467 1741 \nQ 4698 1747 4931 1750 \nQ 5165 1754 5395 1760 \nL 5389 1146 \nL 5408 544 \nL 2035 518 \nL 2035 -77 \nQ 2202 -83 2387 -83 \nQ 2573 -83 2784 -83 \nQ 2995 -90 3171 -90 \nQ 3347 -90 3482 -90 \nQ 3923 -90 4246 -86 \nQ 4570 -83 4781 -77 \nQ 4992 -70 5174 -64 \nQ 5357 -58 5504 -45 \nL 5504 -435 \nz\nM 3821 3494 \nQ 3821 3194 3702 2973 \nQ 3584 2752 3354 2586 \nQ 2931 2298 2266 2298 \nQ 1536 2298 1107 2682 \nQ 710 3027 710 3520 \nQ 710 4000 1082 4339 \nQ 1491 4710 2202 4710 \nQ 2573 4710 2873 4627 \nQ 3174 4544 3385 4390 \nQ 3597 4237 3709 4009 \nQ 3821 3782 3821 3494 \nz\nM 5434 5075 \nQ 5434 5056 5414 4982 \nQ 5395 4909 5395 4858 \nL 5382 3680 \nQ 5382 3283 5388 2854 \nQ 5395 2426 5408 2061 \nL 4928 2061 \nL 4941 3686 \nQ 4941 4051 4937 4451 \nQ 4934 4851 4922 5190 \nL 4947 5190 \nQ 5210 5190 5322 5161 \nQ 5434 5133 5434 5075 \nz\n\" id=\"AppleGothic-c77c\" transform=\"scale(0.015625)\"/>\n      <path d=\"M 3027 2739 \nL 3027 3680 \nL 2150 3693 \nL 1293 3680 \nL 1293 2739 \nL 2144 2720 \nL 3027 2739 \nz\nM 5440 -531 \nQ 5178 -525 4906 -518 \nQ 4634 -512 4339 -506 \nQ 4038 -499 3801 -496 \nQ 3565 -493 3379 -493 \nL 1446 -493 \nQ 1453 -422 1456 -336 \nQ 1459 -250 1466 -141 \nQ 1466 -45 1469 19 \nQ 1472 83 1472 115 \nL 1459 762 \nL 3354 749 \nL 4845 774 \nL 4845 1382 \nL 1446 1370 \nL 1446 1734 \nQ 1658 1734 1888 1728 \nQ 2118 1722 2374 1715 \nQ 2630 1709 2864 1705 \nQ 3098 1702 3322 1702 \nL 5299 1715 \nL 5280 1094 \nL 5293 410 \nL 3373 429 \nL 1901 416 \nL 1901 -128 \nQ 1978 -134 2134 -134 \nQ 2291 -134 2522 -134 \nQ 2752 -141 2969 -144 \nQ 3187 -147 3392 -147 \nQ 3846 -147 4380 -137 \nQ 4915 -128 5440 -109 \nL 5440 -531 \nz\nM 5440 5062 \nQ 5440 5024 5414 4937 \nQ 5389 4851 5389 4813 \nQ 5382 4589 5372 4224 \nQ 5363 3859 5363 3334 \nQ 5363 3008 5363 2784 \nQ 5363 2560 5370 2445 \nQ 5376 2323 5376 2220 \nQ 5376 2118 5382 2029 \nL 4922 2029 \nQ 4941 2189 4941 2394 \nL 4941 2822 \nL 3878 2803 \nL 3878 3174 \nL 4941 3162 \nL 4941 3917 \nL 3859 3904 \nL 3859 4269 \nL 4941 4256 \nL 4941 4685 \nQ 4941 4909 4934 5021 \nQ 4928 5133 4915 5190 \nL 5056 5190 \nQ 5222 5190 5331 5164 \nQ 5440 5139 5440 5062 \nz\nM 3488 4877 \nL 3469 4710 \nL 3456 3462 \nL 3469 2362 \nL 851 2362 \nQ 851 2630 857 2944 \nQ 864 3258 870 3578 \nQ 870 3853 870 4061 \nQ 870 4269 864 4416 \nQ 858 4570 858 4704 \nQ 858 4838 851 4966 \nL 979 4966 \nQ 1146 4966 1242 4950 \nQ 1338 4934 1338 4864 \nQ 1338 4838 1315 4761 \nQ 1293 4685 1293 4653 \nL 1293 4051 \nL 2157 4032 \nL 3027 4051 \nL 3014 4998 \nL 3072 4998 \nQ 3264 4998 3376 4976 \nQ 3488 4954 3488 4877 \nz\n\" id=\"AppleGothic-bcc4\" transform=\"scale(0.015625)\"/>\n      <path id=\"AppleGothic-20\" transform=\"scale(0.015625)\"/>\n      <path d=\"M 4954 32 \nL 4954 736 \nL 3232 736 \nQ 3002 736 2829 736 \nQ 2656 736 2528 730 \nQ 2400 730 2278 726 \nQ 2157 723 2029 717 \nL 2029 -26 \nL 3418 -26 \nQ 3898 -26 4294 -6 \nQ 4691 13 4954 32 \nz\nM 5446 1677 \nQ 5446 1658 5433 1578 \nQ 5421 1498 5421 1427 \nL 5414 538 \nL 5414 -90 \nQ 5421 -198 5424 -304 \nQ 5427 -410 5434 -506 \nL 4960 -506 \nL 4954 -339 \nL 2048 -403 \nL 2022 -531 \nL 1562 -538 \nQ 1562 -480 1562 -355 \nQ 1562 -230 1568 -32 \nQ 1574 160 1577 294 \nQ 1581 429 1581 499 \nQ 1581 806 1574 1113 \nQ 1568 1421 1555 1683 \nL 1965 1677 \nQ 2054 1677 2054 1594 \nQ 2054 1568 2041 1494 \nQ 2029 1421 2029 1408 \nL 2029 1107 \nQ 2240 1094 2505 1088 \nQ 2771 1082 3059 1082 \nL 4954 1126 \nL 4960 1434 \nL 4941 1773 \nL 5082 1773 \nQ 5286 1773 5366 1750 \nQ 5446 1728 5446 1677 \nz\nM 4448 2182 \nQ 4333 2170 4233 2157 \nQ 4134 2144 4045 2138 \nQ 3750 2112 3462 2099 \nQ 3174 2086 2874 2086 \nQ 2605 2086 2291 2080 \nQ 1978 2074 1626 2061 \nQ 1498 2054 1331 2048 \nQ 1165 2042 954 2029 \nL 973 3283 \nL 954 4582 \nL 2573 4589 \nQ 2899 4589 3305 4605 \nQ 3712 4621 4064 4640 \nL 4064 4237 \nL 3162 4250 \nQ 3014 4250 2796 4243 \nQ 2579 4237 2278 4224 \nQ 1984 4211 1766 4204 \nQ 1549 4198 1402 4198 \nL 1402 3552 \nL 1760 3546 \nQ 1926 3546 2204 3555 \nQ 2483 3565 2874 3578 \nQ 3264 3597 3517 3603 \nQ 3770 3610 3885 3610 \nL 3885 3187 \nL 2477 3200 \nQ 2131 3200 1881 3193 \nQ 1632 3187 1408 3168 \nL 1408 2458 \nL 2886 2470 \nQ 3258 2470 3872 2509 \nQ 3981 2515 4115 2521 \nQ 4250 2528 4422 2541 \nL 4448 2182 \nz\nM 5466 5062 \nQ 5466 5043 5440 4934 \nQ 5421 4819 5421 4749 \nL 5421 4531 \nQ 5402 3706 5402 3558 \nL 5421 1939 \nL 4928 1920 \nQ 4934 1997 4934 2067 \nQ 4934 2138 4934 2195 \nQ 4954 2970 4954 3341 \nL 4954 3539 \nQ 4941 4358 4931 4768 \nQ 4922 5178 4922 5190 \nL 5152 5197 \nQ 5299 5197 5382 5171 \nQ 5466 5146 5466 5062 \nz\n\" id=\"AppleGothic-d301\" transform=\"scale(0.015625)\"/>\n      <path d=\"M 3571 3379 \nQ 3571 4218 2573 4218 \nQ 2061 4218 1776 3987 \nQ 1491 3757 1491 3386 \nQ 1491 2970 1786 2733 \nQ 2054 2522 2509 2522 \nQ 3059 2522 3328 2765 \nQ 3571 2976 3571 3379 \nz\nM 4608 1094 \nQ 4134 1018 3872 979 \nQ 3456 928 3120 899 \nQ 2784 870 2528 870 \nL 902 813 \nQ 858 800 816 790 \nQ 774 781 730 768 \nQ 653 768 608 941 \nQ 563 1114 563 1242 \nL 2477 1248 \nQ 2938 1248 3334 1273 \nQ 3731 1299 4070 1350 \nQ 4282 1376 4576 1459 \nL 4608 1094 \nz\nM 5466 5069 \nQ 5466 5037 5437 4944 \nQ 5408 4851 5408 4813 \nL 5408 2298 \nQ 5408 2010 5411 1683 \nQ 5414 1357 5421 973 \nQ 5427 595 5433 230 \nQ 5440 -134 5453 -499 \nL 4973 -557 \nL 4973 45 \nQ 4979 237 4979 512 \nQ 4979 787 4986 1158 \nQ 4992 1523 4992 1788 \nQ 4992 2054 4992 2221 \nQ 4992 2880 4985 3357 \nQ 4979 3834 4966 4122 \nQ 4954 4410 4944 4675 \nQ 4934 4941 4922 5184 \nL 5024 5184 \nQ 5190 5184 5328 5158 \nQ 5466 5133 5466 5069 \nz\nM 4006 3328 \nQ 4006 2790 3578 2464 \nQ 3155 2138 2528 2138 \nQ 1894 2138 1504 2445 \nQ 1088 2765 1088 3341 \nQ 1088 3955 1517 4288 \nQ 1920 4602 2541 4602 \nQ 3174 4602 3597 4269 \nQ 4006 3936 4006 3354 \nL 4006 3328 \nz\n\" id=\"AppleGothic-c758\" transform=\"scale(0.015625)\"/>\n      <path d=\"M 307 5018 \nL 2029 5018 \nQ 2675 5018 3053 4755 \nQ 3494 4442 3494 3859 \nQ 3494 3373 3181 3040 \nQ 3091 2938 2960 2854 \nQ 2829 2771 2662 2694 \nQ 3322 2586 3616 2176 \nQ 3840 1862 3840 1472 \nQ 3840 838 3360 416 \nQ 2899 0 2240 0 \nL 307 0 \nL 307 5018 \nz\nM 1997 4576 \nL 813 4576 \nL 813 2854 \nL 1766 2854 \nQ 2342 2854 2649 3113 \nQ 2957 3373 2957 3782 \nQ 2957 4102 2739 4333 \nQ 2477 4576 1997 4576 \nz\nM 1907 2413 \nL 813 2413 \nL 813 442 \nL 2029 442 \nQ 2579 442 2931 717 \nQ 3283 1011 3283 1466 \nQ 3283 1926 2928 2169 \nQ 2573 2413 1907 2413 \nz\n\" id=\"AppleGothic-42\" transform=\"scale(0.015625)\"/>\n      <path d=\"M 1888 -83 \nQ 1229 -83 730 397 \nQ 198 902 198 1709 \nQ 198 2470 666 2982 \nQ 1146 3501 1850 3501 \nQ 2547 3501 3027 2982 \nQ 3501 2470 3501 1715 \nQ 3501 922 2989 403 \nQ 2515 -83 1888 -83 \nz\nM 1843 339 \nQ 2304 339 2662 723 \nQ 3008 1114 3008 1715 \nQ 3008 2336 2637 2726 \nQ 2298 3085 1850 3085 \nQ 1389 3085 1062 2714 \nQ 704 2304 704 1709 \nQ 704 1107 1056 704 \nQ 1382 339 1843 339 \nz\n\" id=\"AppleGothic-6f\" transform=\"scale(0.015625)\"/>\n      <path d=\"M 352 3424 \nL 928 3424 \nL 1754 2150 \nL 2592 3424 \nL 3130 3424 \nL 2022 1830 \nL 3270 0 \nL 2682 0 \nL 1722 1504 \nL 755 0 \nL 211 0 \nL 1466 1830 \nL 352 3424 \nz\n\" id=\"AppleGothic-78\" transform=\"scale(0.015625)\"/>\n      <path d=\"M 262 5018 \nL 1869 5018 \nQ 2560 5018 3002 4781 \nQ 3597 4448 3597 3718 \nQ 3597 3014 3104 2630 \nQ 2656 2272 1952 2272 \nL 768 2272 \nL 768 0 \nL 262 0 \nL 262 5018 \nz\nM 1862 4576 \nL 768 4576 \nL 768 2714 \nL 1901 2714 \nQ 2349 2714 2675 2950 \nQ 3040 3219 3040 3674 \nQ 3040 4186 2611 4410 \nQ 2298 4576 1862 4576 \nz\n\" id=\"AppleGothic-50\" transform=\"scale(0.015625)\"/>\n      <path d=\"M 288 5018 \nL 749 5018 \nL 749 0 \nL 288 0 \nL 288 5018 \nz\n\" id=\"AppleGothic-6c\" transform=\"scale(0.015625)\"/>\n     </defs>\n     <use xlink:href=\"#AppleGothic-c694\"/>\n     <use x=\"99.999985\" xlink:href=\"#AppleGothic-c77c\"/>\n     <use x=\"199.999969\" xlink:href=\"#AppleGothic-bcc4\"/>\n     <use x=\"299.999954\" xlink:href=\"#AppleGothic-20\"/>\n     <use x=\"331.999939\" xlink:href=\"#AppleGothic-d301\"/>\n     <use x=\"431.999924\" xlink:href=\"#AppleGothic-c758\"/>\n     <use x=\"531.999908\" xlink:href=\"#AppleGothic-20\"/>\n     <use x=\"563.999893\" xlink:href=\"#AppleGothic-42\"/>\n     <use x=\"628.399887\" xlink:href=\"#AppleGothic-6f\"/>\n     <use x=\"686.699875\" xlink:href=\"#AppleGothic-78\"/>\n     <use x=\"741.099869\" xlink:href=\"#AppleGothic-20\"/>\n     <use x=\"773.099854\" xlink:href=\"#AppleGothic-50\"/>\n     <use x=\"833.399841\" xlink:href=\"#AppleGothic-6c\"/>\n     <use x=\"850.099838\" xlink:href=\"#AppleGothic-6f\"/>\n     <use x=\"908.399826\" xlink:href=\"#AppleGothic-74\"/>\n    </g>\n   </g>\n  </g>\n </g>\n <defs>\n  <clipPath id=\"p1dbbbfe53d\">\n   <rect height=\"217.44\" width=\"334.8\" x=\"47.133125\" y=\"22.60875\"/>\n  </clipPath>\n </defs>\n</svg>\n",
      "image/png": "[encoded data removed]"
     },
     "metadata": {
      "needs_background": "light"
     }
    }
   ],
   "metadata": {}
  },
  {
   "cell_type": "code",
   "execution_count": 70,
   "source": [
    "sns.scatterplot(data=tips, x='total_bill', y='tip');\n",
    "plt.title('식사 금액과 팁의 관계');"
   ],
   "outputs": [
    {
     "output_type": "display_data",
     "data": {
      "text/plain": [
       "<Figure size 432x288 with 1 Axes>"
      ],
      "image/svg+xml": "<?xml version=\"1.0\" encoding=\"utf-8\" standalone=\"no\"?>\n<!DOCTYPE svg PUBLIC \"-//W3C//DTD SVG 1.1//EN\"\n  \"http://www.w3.org/Graphics/SVG/1.1/DTD/svg11.dtd\">\n<svg height=\"282.738906pt\" version=\"1.1\" viewBox=\"0 0 389.133125 282.738906\" width=\"389.133125pt\" xmlns=\"http://www.w3.org/2000/svg\" xmlns:xlink=\"http://www.w3.org/1999/xlink\">\n <metadata>\n  <rdf:RDF xmlns:cc=\"http://creativecommons.org/ns#\" xmlns:dc=\"http://purl.org/dc/elements/1.1/\" xmlns:rdf=\"http://www.w3.org/1999/02/22-rdf-syntax-ns#\">\n   <cc:Work>\n    <dc:type rdf:resource=\"http://purl.org/dc/dcmitype/StillImage\"/>\n    <dc:date>2021-08-23T11:25:27.492190</dc:date>\n    <dc:format>image/svg+xml</dc:format>\n    <dc:creator>\n     <cc:Agent>\n      <dc:title>Matplotlib v3.4.2, https://matplotlib.org/</dc:title>\n     </cc:Agent>\n    </dc:creator>\n   </cc:Work>\n  </rdf:RDF>\n </metadata>\n <defs>\n  <style type=\"text/css\">*{stroke-linecap:butt;stroke-linejoin:round;}</style>\n </defs>\n <g id=\"figure_1\">\n  <g id=\"patch_1\">\n   <path d=\"M 0 282.738906 \nL 389.133125 282.738906 \nL 389.133125 0 \nL 0 0 \nz\n\" style=\"fill:none;\"/>\n  </g>\n  <g id=\"axes_1\">\n   <g id=\"patch_2\">\n    <path d=\"M 47.133125 240.04875 \nL 381.933125 240.04875 \nL 381.933125 22.60875 \nL 47.133125 22.60875 \nz\n\" style=\"fill:#eaeaf2;\"/>\n   </g>\n   <g id=\"matplotlib.axis_1\">\n    <g id=\"xtick_1\">\n     <g id=\"line2d_1\">\n      <path clip-path=\"url(#p7cf5adc15b)\" d=\"M 106.533125 240.04875 \nL 106.533125 22.60875 \n\" style=\"fill:none;stroke:#ffffff;stroke-linecap:round;\"/>\n     </g>\n     <g id=\"text_1\">\n      <!-- 10 -->\n      <g style=\"fill:#262626;\" transform=\"translate(99.053125 258.173438)scale(0.11 -0.11)\">\n       <defs>\n        <path d=\"M 2342 4774 \nL 2752 4774 \nL 2752 0 \nL 2285 0 \nL 2285 3526 \nL 1158 3526 \nL 1158 3885 \nL 1414 3885 \nQ 1990 3885 2214 4205 \nQ 2342 4410 2342 4774 \nz\n\" id=\"AppleGothic-31\" transform=\"scale(0.015625)\"/>\n        <path d=\"M 2227 -83 \nQ 1414 -83 934 576 \nQ 461 1229 461 2387 \nQ 461 3552 973 4218 \nQ 1453 4858 2221 4858 \nQ 3027 4858 3482 4173 \nQ 3955 3494 3955 2394 \nQ 3955 1248 3462 582 \nQ 2976 -83 2227 -83 \nz\nM 2176 346 \nQ 2861 346 3200 992 \nQ 3462 1536 3462 2400 \nQ 3462 3315 3162 3859 \nQ 2822 4429 2214 4429 \nQ 1574 4429 1248 3821 \nQ 960 3283 960 2374 \nQ 960 1478 1248 941 \nQ 1574 346 2176 346 \nz\n\" id=\"AppleGothic-30\" transform=\"scale(0.015625)\"/>\n       </defs>\n       <use xlink:href=\"#AppleGothic-31\"/>\n       <use x=\"67.999985\" xlink:href=\"#AppleGothic-30\"/>\n      </g>\n     </g>\n    </g>\n    <g id=\"xtick_2\">\n     <g id=\"line2d_2\">\n      <path clip-path=\"url(#p7cf5adc15b)\" d=\"M 170.287552 240.04875 \nL 170.287552 22.60875 \n\" style=\"fill:none;stroke:#ffffff;stroke-linecap:round;\"/>\n     </g>\n     <g id=\"text_2\">\n      <!-- 20 -->\n      <g style=\"fill:#262626;\" transform=\"translate(162.807552 258.173438)scale(0.11 -0.11)\">\n       <defs>\n        <path d=\"M 1101 429 \nL 3942 429 \nL 3942 0 \nL 653 0 \nL 653 205 \nQ 653 1018 1344 1664 \nQ 1670 1894 1990 2124 \nQ 2310 2355 2637 2592 \nQ 3334 3098 3334 3597 \nQ 3334 3994 3014 4218 \nQ 2867 4326 2694 4377 \nQ 2522 4429 2317 4429 \nQ 2016 4429 1741 4352 \nQ 1325 4224 883 3910 \nL 883 4435 \nQ 1325 4659 1667 4758 \nQ 2010 4858 2317 4858 \nQ 2963 4858 3405 4525 \nQ 3840 4198 3840 3622 \nQ 3840 2995 3168 2438 \nQ 2848 2214 2531 2000 \nQ 2214 1786 1894 1562 \nQ 1178 1024 1101 429 \nz\n\" id=\"AppleGothic-32\" transform=\"scale(0.015625)\"/>\n       </defs>\n       <use xlink:href=\"#AppleGothic-32\"/>\n       <use x=\"67.999985\" xlink:href=\"#AppleGothic-30\"/>\n      </g>\n     </g>\n    </g>\n    <g id=\"xtick_3\">\n     <g id=\"line2d_3\">\n      <path clip-path=\"url(#p7cf5adc15b)\" d=\"M 234.04198 240.04875 \nL 234.04198 22.60875 \n\" style=\"fill:none;stroke:#ffffff;stroke-linecap:round;\"/>\n     </g>\n     <g id=\"text_3\">\n      <!-- 30 -->\n      <g style=\"fill:#262626;\" transform=\"translate(226.56198 258.173438)scale(0.11 -0.11)\">\n       <defs>\n        <path d=\"M 550 333 \nL 550 870 \nQ 883 621 1235 483 \nQ 1587 346 1971 346 \nQ 2522 346 2861 666 \nQ 3219 992 3219 1421 \nQ 3219 1869 2842 2099 \nQ 2515 2304 1965 2304 \nL 992 2304 \nL 992 2701 \nL 1658 2701 \nQ 2298 2701 2662 2928 \nQ 3027 3155 3027 3584 \nQ 3027 3936 2752 4173 \nQ 2458 4429 1978 4429 \nQ 1786 4429 1597 4393 \nQ 1408 4358 1222 4282 \nQ 890 4141 531 3872 \nL 531 4422 \nQ 736 4531 912 4608 \nQ 1088 4685 1254 4736 \nQ 1626 4858 2022 4858 \nQ 2650 4858 3066 4531 \nQ 3488 4211 3488 3642 \nQ 3488 3168 3168 2861 \nQ 2976 2675 2643 2554 \nQ 2874 2522 3053 2448 \nQ 3232 2374 3366 2266 \nQ 3718 1971 3718 1434 \nQ 3718 813 3219 365 \nQ 2714 -83 1965 -83 \nQ 1549 -83 1126 70 \nQ 1024 102 880 166 \nQ 736 230 550 333 \nz\n\" id=\"AppleGothic-33\" transform=\"scale(0.015625)\"/>\n       </defs>\n       <use xlink:href=\"#AppleGothic-33\"/>\n       <use x=\"67.999985\" xlink:href=\"#AppleGothic-30\"/>\n      </g>\n     </g>\n    </g>\n    <g id=\"xtick_4\">\n     <g id=\"line2d_4\">\n      <path clip-path=\"url(#p7cf5adc15b)\" d=\"M 297.796407 240.04875 \nL 297.796407 22.60875 \n\" style=\"fill:none;stroke:#ffffff;stroke-linecap:round;\"/>\n     </g>\n     <g id=\"text_4\">\n      <!-- 40 -->\n      <g style=\"fill:#262626;\" transform=\"translate(290.316407 258.173438)scale(0.11 -0.11)\">\n       <defs>\n        <path d=\"M 2662 4774 \nL 3130 4774 \nL 3130 1811 \nL 4000 1811 \nL 4000 1382 \nL 3130 1382 \nL 3130 0 \nL 2662 0 \nL 2662 1382 \nL 352 1382 \nL 352 1811 \nL 2662 4774 \nz\nM 2662 1811 \nL 2662 4166 \nL 838 1811 \nL 2662 1811 \nz\n\" id=\"AppleGothic-34\" transform=\"scale(0.015625)\"/>\n       </defs>\n       <use xlink:href=\"#AppleGothic-34\"/>\n       <use x=\"67.999985\" xlink:href=\"#AppleGothic-30\"/>\n      </g>\n     </g>\n    </g>\n    <g id=\"xtick_5\">\n     <g id=\"line2d_5\">\n      <path clip-path=\"url(#p7cf5adc15b)\" d=\"M 361.550835 240.04875 \nL 361.550835 22.60875 \n\" style=\"fill:none;stroke:#ffffff;stroke-linecap:round;\"/>\n     </g>\n     <g id=\"text_5\">\n      <!-- 50 -->\n      <g style=\"fill:#262626;\" transform=\"translate(354.070835 258.173438)scale(0.11 -0.11)\">\n       <defs>\n        <path d=\"M 621 4768 \nL 3488 4768 \nL 3488 4339 \nL 1088 4339 \nL 1088 2707 \nQ 1184 2771 1293 2819 \nQ 1402 2867 1510 2912 \nQ 1862 3040 2259 3040 \nQ 2989 3040 3424 2605 \nQ 3827 2202 3827 1581 \nQ 3827 870 3296 397 \nQ 2765 -83 2010 -83 \nQ 1651 -83 1248 45 \nQ 1158 77 1001 137 \nQ 845 198 621 301 \nL 621 838 \nQ 928 640 1203 525 \nQ 1408 435 1613 390 \nQ 1818 346 2010 346 \nQ 2528 346 2906 666 \nQ 3322 1011 3322 1536 \nQ 3322 1990 3021 2291 \nQ 2701 2611 2144 2611 \nQ 1856 2611 1587 2528 \nQ 1318 2445 1088 2272 \nL 621 2272 \nL 621 4768 \nz\n\" id=\"AppleGothic-35\" transform=\"scale(0.015625)\"/>\n       </defs>\n       <use xlink:href=\"#AppleGothic-35\"/>\n       <use x=\"67.999985\" xlink:href=\"#AppleGothic-30\"/>\n      </g>\n     </g>\n    </g>\n    <g id=\"text_6\">\n     <!-- total_bill -->\n     <g style=\"fill:#262626;\" transform=\"translate(193.207813 273.474531)scale(0.12 -0.12)\">\n      <defs>\n       <path d=\"M 691 4435 \nL 1114 4435 \nL 1114 3430 \nL 2016 3430 \nL 2016 3014 \nL 1114 3014 \nL 1114 838 \nQ 1114 570 1213 454 \nQ 1312 339 1555 339 \nQ 1696 339 1795 371 \nQ 1894 403 2016 454 \nL 2016 38 \nQ 1914 6 1770 -22 \nQ 1626 -51 1478 -51 \nQ 1094 -51 883 122 \nQ 646 301 646 698 \nL 646 3014 \nL 70 3014 \nL 70 3430 \nL 646 3430 \nL 691 4435 \nz\n\" id=\"AppleGothic-74\" transform=\"scale(0.015625)\"/>\n       <path d=\"M 1888 -83 \nQ 1229 -83 730 397 \nQ 198 902 198 1709 \nQ 198 2470 666 2982 \nQ 1146 3501 1850 3501 \nQ 2547 3501 3027 2982 \nQ 3501 2470 3501 1715 \nQ 3501 922 2989 403 \nQ 2515 -83 1888 -83 \nz\nM 1843 339 \nQ 2304 339 2662 723 \nQ 3008 1114 3008 1715 \nQ 3008 2336 2637 2726 \nQ 2298 3085 1850 3085 \nQ 1389 3085 1062 2714 \nQ 704 2304 704 1709 \nQ 704 1107 1056 704 \nQ 1382 339 1843 339 \nz\n\" id=\"AppleGothic-6f\" transform=\"scale(0.015625)\"/>\n       <path d=\"M 2950 2214 \nL 2950 602 \nQ 2950 493 2998 413 \nQ 3046 333 3174 333 \nQ 3213 333 3238 336 \nQ 3264 339 3290 346 \nQ 3328 358 3357 371 \nQ 3386 384 3405 390 \nL 3405 32 \nQ 3290 -6 3174 -22 \nQ 3059 -38 2995 -38 \nQ 2669 -38 2566 134 \nQ 2483 243 2483 602 \nQ 2400 461 2317 355 \nQ 2234 250 2150 179 \nQ 1818 -83 1376 -83 \nQ 909 -83 563 192 \nQ 205 486 205 941 \nQ 205 1510 781 1779 \nQ 992 1882 1341 1958 \nQ 1690 2035 2176 2099 \nL 2483 2131 \nQ 2483 2579 2256 2832 \nQ 2029 3085 1587 3085 \nQ 1421 3085 1257 3043 \nQ 1094 3002 928 2912 \nQ 838 2861 729 2790 \nQ 621 2720 493 2611 \nL 493 3136 \nQ 1037 3501 1664 3501 \nQ 2304 3501 2650 3098 \nQ 2950 2746 2950 2214 \nz\nM 2483 1542 \nL 2483 1747 \nL 2266 1722 \nQ 1466 1638 1139 1498 \nQ 704 1325 704 934 \nQ 704 819 755 713 \nQ 806 608 896 525 \nQ 986 442 1117 390 \nQ 1248 339 1408 339 \nQ 1843 339 2170 691 \nQ 2483 1050 2483 1542 \nz\n\" id=\"AppleGothic-61\" transform=\"scale(0.015625)\"/>\n       <path d=\"M 288 5018 \nL 749 5018 \nL 749 0 \nL 288 0 \nL 288 5018 \nz\n\" id=\"AppleGothic-6c\" transform=\"scale(0.015625)\"/>\n       <path d=\"M 0 -659 \nL 3200 -659 \nL 3200 -832 \nL 0 -832 \nL 0 -659 \nz\n\" id=\"AppleGothic-5f\" transform=\"scale(0.015625)\"/>\n       <path d=\"M 288 5018 \nL 755 5018 \nL 755 2848 \nQ 845 2982 931 3078 \nQ 1018 3174 1107 3245 \nQ 1440 3501 1882 3501 \nQ 2547 3501 2976 2995 \nQ 3418 2483 3418 1754 \nQ 3418 1005 2976 480 \nQ 2502 -83 1792 -83 \nQ 1402 -83 1114 90 \nQ 928 192 755 384 \nL 634 0 \nL 288 0 \nL 288 5018 \nz\nM 755 1862 \nL 755 870 \nQ 845 762 934 678 \nQ 1024 595 1101 538 \nQ 1382 339 1741 339 \nQ 2234 339 2554 742 \nQ 2874 1158 2874 1747 \nQ 2874 2362 2515 2752 \nQ 2208 3085 1805 3085 \nQ 1370 3085 1056 2714 \nQ 755 2355 755 1862 \nz\n\" id=\"AppleGothic-62\" transform=\"scale(0.015625)\"/>\n       <path d=\"M 256 3424 \nL 717 3424 \nL 717 0 \nL 256 0 \nL 256 3424 \nz\nM 480 4870 \nQ 614 4870 704 4780 \nQ 794 4691 794 4525 \nQ 794 4358 710 4268 \nQ 627 4179 480 4179 \nQ 333 4179 253 4281 \nQ 173 4384 173 4518 \nQ 173 4730 269 4800 \nQ 365 4870 480 4870 \nz\n\" id=\"AppleGothic-69\" transform=\"scale(0.015625)\"/>\n      </defs>\n      <use xlink:href=\"#AppleGothic-74\"/>\n      <use x=\"34.199997\" xlink:href=\"#AppleGothic-6f\"/>\n      <use x=\"92.499985\" xlink:href=\"#AppleGothic-74\"/>\n      <use x=\"126.699982\" xlink:href=\"#AppleGothic-61\"/>\n      <use x=\"183.199966\" xlink:href=\"#AppleGothic-6c\"/>\n      <use x=\"199.899963\" xlink:href=\"#AppleGothic-5f\"/>\n      <use x=\"249.899948\" xlink:href=\"#AppleGothic-62\"/>\n      <use x=\"306.099945\" xlink:href=\"#AppleGothic-69\"/>\n      <use x=\"321.999939\" xlink:href=\"#AppleGothic-6c\"/>\n      <use x=\"338.699936\" xlink:href=\"#AppleGothic-6c\"/>\n     </g>\n    </g>\n   </g>\n   <g id=\"matplotlib.axis_2\">\n    <g id=\"ytick_1\">\n     <g id=\"line2d_6\">\n      <path clip-path=\"url(#p7cf5adc15b)\" d=\"M 47.133125 208.201477 \nL 381.933125 208.201477 \n\" style=\"fill:none;stroke:#ffffff;stroke-linecap:round;\"/>\n     </g>\n     <g id=\"text_7\">\n      <!-- 2 -->\n      <g style=\"fill:#262626;\" transform=\"translate(30.153125 212.513821)scale(0.11 -0.11)\">\n       <use xlink:href=\"#AppleGothic-32\"/>\n      </g>\n     </g>\n    </g>\n    <g id=\"ytick_2\">\n     <g id=\"line2d_7\">\n      <path clip-path=\"url(#p7cf5adc15b)\" d=\"M 47.133125 164.274205 \nL 381.933125 164.274205 \n\" style=\"fill:none;stroke:#ffffff;stroke-linecap:round;\"/>\n     </g>\n     <g id=\"text_8\">\n      <!-- 4 -->\n      <g style=\"fill:#262626;\" transform=\"translate(30.153125 168.586548)scale(0.11 -0.11)\">\n       <use xlink:href=\"#AppleGothic-34\"/>\n      </g>\n     </g>\n    </g>\n    <g id=\"ytick_3\">\n     <g id=\"line2d_8\">\n      <path clip-path=\"url(#p7cf5adc15b)\" d=\"M 47.133125 120.346932 \nL 381.933125 120.346932 \n\" style=\"fill:none;stroke:#ffffff;stroke-linecap:round;\"/>\n     </g>\n     <g id=\"text_9\">\n      <!-- 6 -->\n      <g style=\"fill:#262626;\" transform=\"translate(30.153125 124.659276)scale(0.11 -0.11)\">\n       <defs>\n        <path d=\"M 3699 4557 \nL 3699 4013 \nQ 3584 4102 3475 4163 \nQ 3366 4224 3258 4275 \nQ 3085 4358 2918 4393 \nQ 2752 4429 2586 4429 \nQ 2470 4429 2352 4409 \nQ 2234 4390 2118 4339 \nQ 1670 4154 1395 3738 \nQ 1011 3149 1011 2189 \nQ 1312 2490 1568 2656 \nQ 2022 2931 2534 2931 \nQ 3162 2931 3584 2566 \nQ 4038 2163 4038 1491 \nQ 4038 806 3558 358 \nQ 3078 -83 2394 -83 \nQ 1670 -83 1146 454 \nQ 518 1088 518 2253 \nQ 518 3411 1120 4134 \nQ 1715 4858 2605 4858 \nQ 2938 4858 3226 4762 \nQ 3309 4730 3427 4682 \nQ 3546 4634 3699 4557 \nz\nM 1062 1702 \nQ 1152 1152 1498 768 \nQ 1882 346 2419 346 \nQ 2899 346 3213 659 \nQ 3539 973 3539 1459 \nQ 3539 1920 3226 2214 \nQ 2918 2502 2496 2502 \nQ 1990 2502 1542 2176 \nQ 1414 2080 1292 1965 \nQ 1171 1850 1062 1702 \nz\n\" id=\"AppleGothic-36\" transform=\"scale(0.015625)\"/>\n       </defs>\n       <use xlink:href=\"#AppleGothic-36\"/>\n      </g>\n     </g>\n    </g>\n    <g id=\"ytick_4\">\n     <g id=\"line2d_9\">\n      <path clip-path=\"url(#p7cf5adc15b)\" d=\"M 47.133125 76.419659 \nL 381.933125 76.419659 \n\" style=\"fill:none;stroke:#ffffff;stroke-linecap:round;\"/>\n     </g>\n     <g id=\"text_10\">\n      <!-- 8 -->\n      <g style=\"fill:#262626;\" transform=\"translate(30.153125 80.732003)scale(0.11 -0.11)\">\n       <defs>\n        <path d=\"M 2957 2605 \nQ 3219 2528 3404 2445 \nQ 3590 2362 3706 2272 \nQ 4192 1926 4192 1370 \nQ 4192 749 3642 333 \nQ 3098 -83 2285 -83 \nQ 1434 -83 947 326 \nQ 512 691 512 1229 \nQ 512 1798 998 2125 \nQ 1146 2227 1341 2304 \nQ 1536 2381 1779 2451 \nQ 1574 2534 1430 2617 \nQ 1286 2701 1197 2784 \nQ 819 3104 819 3603 \nQ 819 4173 1261 4512 \nQ 1702 4858 2381 4858 \nQ 3014 4858 3437 4570 \nQ 3898 4262 3898 3738 \nQ 3898 3373 3670 3081 \nQ 3443 2790 2957 2605 \nz\nM 2406 2752 \nQ 2624 2835 2781 2915 \nQ 2938 2995 3040 3066 \nQ 3398 3322 3398 3667 \nQ 3398 3994 3104 4205 \nQ 2822 4429 2362 4429 \nQ 1894 4429 1613 4205 \nQ 1325 3994 1325 3635 \nQ 1325 3322 1581 3098 \nQ 1696 3002 1901 2912 \nQ 2106 2822 2406 2752 \nz\nM 2368 2304 \nQ 2061 2202 1840 2106 \nQ 1619 2010 1472 1920 \nQ 1011 1626 1011 1235 \nQ 1011 845 1376 595 \nQ 1728 346 2310 346 \nQ 2938 346 3315 640 \nQ 3693 934 3693 1338 \nQ 3693 1741 3238 1997 \nQ 3104 2067 2886 2147 \nQ 2669 2227 2368 2304 \nz\n\" id=\"AppleGothic-38\" transform=\"scale(0.015625)\"/>\n       </defs>\n       <use xlink:href=\"#AppleGothic-38\"/>\n      </g>\n     </g>\n    </g>\n    <g id=\"ytick_5\">\n     <g id=\"line2d_10\">\n      <path clip-path=\"url(#p7cf5adc15b)\" d=\"M 47.133125 32.492386 \nL 381.933125 32.492386 \n\" style=\"fill:none;stroke:#ffffff;stroke-linecap:round;\"/>\n     </g>\n     <g id=\"text_11\">\n      <!-- 10 -->\n      <g style=\"fill:#262626;\" transform=\"translate(22.673125 36.80473)scale(0.11 -0.11)\">\n       <use xlink:href=\"#AppleGothic-31\"/>\n       <use x=\"67.999985\" xlink:href=\"#AppleGothic-30\"/>\n      </g>\n     </g>\n    </g>\n    <g id=\"text_12\">\n     <!-- tip -->\n     <g style=\"fill:#262626;\" transform=\"translate(16.60875 137.659688)rotate(-90)scale(0.12 -0.12)\">\n      <defs>\n       <path d=\"M 736 307 \nL 736 -1101 \nL 288 -1101 \nL 288 3424 \nL 704 3424 \nL 730 2803 \nQ 941 3149 1216 3325 \nQ 1491 3501 1882 3501 \nQ 2522 3501 2944 3002 \nQ 3162 2752 3270 2441 \nQ 3379 2131 3379 1747 \nQ 3379 954 2899 435 \nQ 2419 -83 1754 -83 \nQ 1421 -83 1139 58 \nQ 1056 90 960 154 \nQ 864 218 736 307 \nz\nM 736 1824 \nL 736 800 \nQ 838 704 924 637 \nQ 1011 570 1082 525 \nQ 1395 339 1715 339 \nQ 2227 339 2554 742 \nQ 2886 1165 2886 1766 \nQ 2886 2330 2579 2707 \nQ 2278 3085 1811 3085 \nQ 1331 3085 1018 2669 \nQ 736 2291 736 1824 \nz\n\" id=\"AppleGothic-70\" transform=\"scale(0.015625)\"/>\n      </defs>\n      <use xlink:href=\"#AppleGothic-74\"/>\n      <use x=\"34.199997\" xlink:href=\"#AppleGothic-69\"/>\n      <use x=\"50.099991\" xlink:href=\"#AppleGothic-70\"/>\n     </g>\n    </g>\n   </g>\n   <g id=\"PathCollection_1\">\n    <defs>\n     <path d=\"M 0 3 \nC 0.795609 3 1.55874 2.683901 2.12132 2.12132 \nC 2.683901 1.55874 3 0.795609 3 0 \nC 3 -0.795609 2.683901 -1.55874 2.12132 -2.12132 \nC 1.55874 -2.683901 0.795609 -3 0 -3 \nC -0.795609 -3 -1.55874 -2.683901 -2.12132 -2.12132 \nC -2.683901 -1.55874 -3 -0.795609 -3 0 \nC -3 0.795609 -2.683901 1.55874 -2.12132 2.12132 \nC -1.55874 2.683901 -0.795609 3 0 3 \nz\n\" id=\"m5ada82ccc1\" style=\"stroke:#ffffff;stroke-width:0.48;\"/>\n    </defs>\n    <g clip-path=\"url(#p7cf5adc15b)\">\n     <use style=\"fill:#4c72b0;stroke:#ffffff;stroke-width:0.48;\" x=\"151.09747\" xlink:href=\"#m5ada82ccc1\" y=\"229.945477\"/>\n     <use style=\"fill:#4c72b0;stroke:#ffffff;stroke-width:0.48;\" x=\"108.700776\" xlink:href=\"#m5ada82ccc1\" y=\"215.669114\"/>\n     <use style=\"fill:#4c72b0;stroke:#ffffff;stroke-width:0.48;\" x=\"176.72675\" xlink:href=\"#m5ada82ccc1\" y=\"175.256023\"/>\n     <use style=\"fill:#4c72b0;stroke:#ffffff;stroke-width:0.48;\" x=\"193.749182\" xlink:href=\"#m5ada82ccc1\" y=\"179.429114\"/>\n     <use style=\"fill:#4c72b0;stroke:#ffffff;stroke-width:0.48;\" x=\"199.550835\" xlink:href=\"#m5ada82ccc1\" y=\"172.840023\"/>\n     <use style=\"fill:#4c72b0;stroke:#ffffff;stroke-width:0.48;\" x=\"204.013644\" xlink:href=\"#m5ada82ccc1\" y=\"148.680023\"/>\n     <use style=\"fill:#4c72b0;stroke:#ffffff;stroke-width:0.48;\" x=\"98.69133\" xlink:href=\"#m5ada82ccc1\" y=\"208.201477\"/>\n     <use style=\"fill:#4c72b0;stroke:#ffffff;stroke-width:0.48;\" x=\"214.150598\" xlink:href=\"#m5ada82ccc1\" y=\"183.602205\"/>\n     <use style=\"fill:#4c72b0;stroke:#ffffff;stroke-width:0.48;\" x=\"138.665356\" xlink:href=\"#m5ada82ccc1\" y=\"209.080023\"/>\n     <use style=\"fill:#4c72b0;stroke:#ffffff;stroke-width:0.48;\" x=\"137.007741\" xlink:href=\"#m5ada82ccc1\" y=\"181.186205\"/>\n     <use style=\"fill:#4c72b0;stroke:#ffffff;stroke-width:0.48;\" x=\"108.254495\" xlink:href=\"#m5ada82ccc1\" y=\"214.570932\"/>\n     <use style=\"fill:#4c72b0;stroke:#ffffff;stroke-width:0.48;\" x=\"267.576809\" xlink:href=\"#m5ada82ccc1\" y=\"142.310568\"/>\n     <use style=\"fill:#4c72b0;stroke:#ffffff;stroke-width:0.48;\" x=\"141.088025\" xlink:href=\"#m5ada82ccc1\" y=\"217.645841\"/>\n     <use style=\"fill:#4c72b0;stroke:#ffffff;stroke-width:0.48;\" x=\"160.278107\" xlink:href=\"#m5ada82ccc1\" y=\"186.237841\"/>\n     <use style=\"fill:#4c72b0;stroke:#ffffff;stroke-width:0.48;\" x=\"137.326513\" xlink:href=\"#m5ada82ccc1\" y=\"185.798568\"/>\n     <use style=\"fill:#4c72b0;stroke:#ffffff;stroke-width:0.48;\" x=\"180.360752\" xlink:href=\"#m5ada82ccc1\" y=\"166.031295\"/>\n     <use style=\"fill:#4c72b0;stroke:#ffffff;stroke-width:0.48;\" x=\"108.637021\" xlink:href=\"#m5ada82ccc1\" y=\"215.449477\"/>\n     <use style=\"fill:#4c72b0;stroke:#ffffff;stroke-width:0.48;\" x=\"146.63466\" xlink:href=\"#m5ada82ccc1\" y=\"170.643659\"/>\n     <use style=\"fill:#4c72b0;stroke:#ffffff;stroke-width:0.48;\" x=\"150.969961\" xlink:href=\"#m5ada82ccc1\" y=\"175.256023\"/>\n     <use style=\"fill:#4c72b0;stroke:#ffffff;stroke-width:0.48;\" x=\"174.43159\" xlink:href=\"#m5ada82ccc1\" y=\"178.550568\"/>\n     <use style=\"fill:#4c72b0;stroke:#ffffff;stroke-width:0.48;\" x=\"157.026631\" xlink:href=\"#m5ada82ccc1\" y=\"162.517114\"/>\n     <use style=\"fill:#4c72b0;stroke:#ffffff;stroke-width:0.48;\" x=\"172.136431\" xlink:href=\"#m5ada82ccc1\" y=\"191.72875\"/>\n     <use style=\"fill:#4c72b0;stroke:#ffffff;stroke-width:0.48;\" x=\"143.31943\" xlink:href=\"#m5ada82ccc1\" y=\"203.149841\"/>\n     <use style=\"fill:#4c72b0;stroke:#ffffff;stroke-width:0.48;\" x=\"294.09865\" xlink:href=\"#m5ada82ccc1\" y=\"85.644386\"/>\n     <use style=\"fill:#4c72b0;stroke:#ffffff;stroke-width:0.48;\" x=\"169.139973\" xlink:href=\"#m5ada82ccc1\" y=\"182.284386\"/>\n     <use style=\"fill:#4c72b0;stroke:#ffffff;stroke-width:0.48;\" x=\"156.325333\" xlink:href=\"#m5ada82ccc1\" y=\"200.733841\"/>\n     <use style=\"fill:#4c72b0;stroke:#ffffff;stroke-width:0.48;\" x=\"128.018367\" xlink:href=\"#m5ada82ccc1\" y=\"208.201477\"/>\n     <use style=\"fill:#4c72b0;stroke:#ffffff;stroke-width:0.48;\" x=\"123.683066\" xlink:href=\"#m5ada82ccc1\" y=\"208.201477\"/>\n     <use style=\"fill:#4c72b0;stroke:#ffffff;stroke-width:0.48;\" x=\"181.125805\" xlink:href=\"#m5ada82ccc1\" y=\"157.685114\"/>\n     <use style=\"fill:#4c72b0;stroke:#ffffff;stroke-width:0.48;\" x=\"168.056147\" xlink:href=\"#m5ada82ccc1\" y=\"186.237841\"/>\n     <use style=\"fill:#4c72b0;stroke:#ffffff;stroke-width:0.48;\" x=\"103.664176\" xlink:href=\"#m5ada82ccc1\" y=\"220.281477\"/>\n     <use style=\"fill:#4c72b0;stroke:#ffffff;stroke-width:0.48;\" x=\"159.768072\" xlink:href=\"#m5ada82ccc1\" y=\"197.219659\"/>\n     <use style=\"fill:#4c72b0;stroke:#ffffff;stroke-width:0.48;\" x=\"138.792865\" xlink:href=\"#m5ada82ccc1\" y=\"186.237841\"/>\n     <use style=\"fill:#4c72b0;stroke:#ffffff;stroke-width:0.48;\" x=\"174.686608\" xlink:href=\"#m5ada82ccc1\" y=\"198.317841\"/>\n     <use style=\"fill:#4c72b0;stroke:#ffffff;stroke-width:0.48;\" x=\"156.13407\" xlink:href=\"#m5ada82ccc1\" y=\"180.307659\"/>\n     <use style=\"fill:#4c72b0;stroke:#ffffff;stroke-width:0.48;\" x=\"196.17185\" xlink:href=\"#m5ada82ccc1\" y=\"173.059659\"/>\n     <use style=\"fill:#4c72b0;stroke:#ffffff;stroke-width:0.48;\" x=\"146.762169\" xlink:href=\"#m5ada82ccc1\" y=\"208.201477\"/>\n     <use style=\"fill:#4c72b0;stroke:#ffffff;stroke-width:0.48;\" x=\"150.714943\" xlink:href=\"#m5ada82ccc1\" y=\"184.700386\"/>\n     <use style=\"fill:#4c72b0;stroke:#ffffff;stroke-width:0.48;\" x=\"161.935722\" xlink:href=\"#m5ada82ccc1\" y=\"201.39275\"/>\n     <use style=\"fill:#4c72b0;stroke:#ffffff;stroke-width:0.48;\" x=\"242.138792\" xlink:href=\"#m5ada82ccc1\" y=\"142.310568\"/>\n     <use style=\"fill:#4c72b0;stroke:#ffffff;stroke-width:0.48;\" x=\"145.040799\" xlink:href=\"#m5ada82ccc1\" y=\"202.930205\"/>\n     <use style=\"fill:#4c72b0;stroke:#ffffff;stroke-width:0.48;\" x=\"154.093928\" xlink:href=\"#m5ada82ccc1\" y=\"196.341114\"/>\n     <use style=\"fill:#4c72b0;stroke:#ffffff;stroke-width:0.48;\" x=\"131.652369\" xlink:href=\"#m5ada82ccc1\" y=\"184.920023\"/>\n     <use style=\"fill:#4c72b0;stroke:#ffffff;stroke-width:0.48;\" x=\"104.492983\" xlink:href=\"#m5ada82ccc1\" y=\"223.13675\"/>\n     <use style=\"fill:#4c72b0;stroke:#ffffff;stroke-width:0.48;\" x=\"236.592157\" xlink:href=\"#m5ada82ccc1\" y=\"129.132386\"/>\n     <use style=\"fill:#4c72b0;stroke:#ffffff;stroke-width:0.48;\" x=\"159.385545\" xlink:href=\"#m5ada82ccc1\" y=\"186.237841\"/>\n     <use style=\"fill:#4c72b0;stroke:#ffffff;stroke-width:0.48;\" x=\"184.50479\" xlink:href=\"#m5ada82ccc1\" y=\"142.310568\"/>\n     <use style=\"fill:#4c72b0;stroke:#ffffff;stroke-width:0.48;\" x=\"249.343042\" xlink:href=\"#m5ada82ccc1\" y=\"120.346932\"/>\n     <use style=\"fill:#4c72b0;stroke:#ffffff;stroke-width:0.48;\" x=\"224.797588\" xlink:href=\"#m5ada82ccc1\" y=\"207.103295\"/>\n     <use style=\"fill:#4c72b0;stroke:#ffffff;stroke-width:0.48;\" x=\"157.791685\" xlink:href=\"#m5ada82ccc1\" y=\"186.237841\"/>\n     <use style=\"fill:#4c72b0;stroke:#ffffff;stroke-width:0.48;\" x=\"122.72675\" xlink:href=\"#m5ada82ccc1\" y=\"197.219659\"/>\n     <use style=\"fill:#4c72b0;stroke:#ffffff;stroke-width:0.48;\" x=\"108.382003\" xlink:href=\"#m5ada82ccc1\" y=\"195.023295\"/>\n     <use style=\"fill:#4c72b0;stroke:#ffffff;stroke-width:0.48;\" x=\"264.707859\" xlink:href=\"#m5ada82ccc1\" y=\"137.917841\"/>\n     <use style=\"fill:#4c72b0;stroke:#ffffff;stroke-width:0.48;\" x=\"106.150598\" xlink:href=\"#m5ada82ccc1\" y=\"217.865477\"/>\n     <use style=\"fill:#4c72b0;stroke:#ffffff;stroke-width:0.48;\" x=\"205.735014\" xlink:href=\"#m5ada82ccc1\" y=\"156.806568\"/>\n     <use style=\"fill:#4c72b0;stroke:#ffffff;stroke-width:0.48;\" x=\"167.036077\" xlink:href=\"#m5ada82ccc1\" y=\"175.036386\"/>\n     <use style=\"fill:#4c72b0;stroke:#ffffff;stroke-width:0.48;\" x=\"285.109276\" xlink:href=\"#m5ada82ccc1\" y=\"186.237841\"/>\n     <use style=\"fill:#4c72b0;stroke:#ffffff;stroke-width:0.48;\" x=\"211.15414\" xlink:href=\"#m5ada82ccc1\" y=\"219.183295\"/>\n     <use style=\"fill:#4c72b0;stroke:#ffffff;stroke-width:0.48;\" x=\"114.438674\" xlink:href=\"#m5ada82ccc1\" y=\"213.47275\"/>\n     <use style=\"fill:#4c72b0;stroke:#ffffff;stroke-width:0.48;\" x=\"350.521319\" xlink:href=\"#m5ada82ccc1\" y=\"104.313477\"/>\n     <use style=\"fill:#4c72b0;stroke:#ffffff;stroke-width:0.48;\" x=\"172.136431\" xlink:href=\"#m5ada82ccc1\" y=\"181.625477\"/>\n     <use style=\"fill:#4c72b0;stroke:#ffffff;stroke-width:0.48;\" x=\"130.823562\" xlink:href=\"#m5ada82ccc1\" y=\"208.201477\"/>\n     <use style=\"fill:#4c72b0;stroke:#ffffff;stroke-width:0.48;\" x=\"113.036077\" xlink:href=\"#m5ada82ccc1\" y=\"208.64075\"/>\n     <use style=\"fill:#4c72b0;stroke:#ffffff;stroke-width:0.48;\" x=\"159.385545\" xlink:href=\"#m5ada82ccc1\" y=\"169.545477\"/>\n     <use style=\"fill:#4c72b0;stroke:#ffffff;stroke-width:0.48;\" x=\"154.922735\" xlink:href=\"#m5ada82ccc1\" y=\"194.14475\"/>\n     <use style=\"fill:#4c72b0;stroke:#ffffff;stroke-width:0.48;\" x=\"170.797588\" xlink:href=\"#m5ada82ccc1\" y=\"182.943295\"/>\n     <use style=\"fill:#4c72b0;stroke:#ffffff;stroke-width:0.48;\" x=\"147.654731\" xlink:href=\"#m5ada82ccc1\" y=\"197.878568\"/>\n     <use style=\"fill:#4c72b0;stroke:#ffffff;stroke-width:0.48;\" x=\"62.351307\" xlink:href=\"#m5ada82ccc1\" y=\"230.165114\"/>\n     <use style=\"fill:#4c72b0;stroke:#ffffff;stroke-width:0.48;\" x=\"171.753904\" xlink:href=\"#m5ada82ccc1\" y=\"207.981841\"/>\n     <use style=\"fill:#4c72b0;stroke:#ffffff;stroke-width:0.48;\" x=\"138.474093\" xlink:href=\"#m5ada82ccc1\" y=\"206.22475\"/>\n     <use style=\"fill:#4c72b0;stroke:#ffffff;stroke-width:0.48;\" x=\"119.411519\" xlink:href=\"#m5ada82ccc1\" y=\"208.860386\"/>\n     <use style=\"fill:#4c72b0;stroke:#ffffff;stroke-width:0.48;\" x=\"151.607505\" xlink:href=\"#m5ada82ccc1\" y=\"186.237841\"/>\n     <use style=\"fill:#4c72b0;stroke:#ffffff;stroke-width:0.48;\" x=\"214.02309\" xlink:href=\"#m5ada82ccc1\" y=\"183.162932\"/>\n     <use style=\"fill:#4c72b0;stroke:#ffffff;stroke-width:0.48;\" x=\"203.94989\" xlink:href=\"#m5ada82ccc1\" y=\"142.310568\"/>\n     <use style=\"fill:#4c72b0;stroke:#ffffff;stroke-width:0.48;\" x=\"136.688969\" xlink:href=\"#m5ada82ccc1\" y=\"203.80875\"/>\n     <use style=\"fill:#4c72b0;stroke:#ffffff;stroke-width:0.48;\" x=\"109.784601\" xlink:href=\"#m5ada82ccc1\" y=\"224.674205\"/>\n     <use style=\"fill:#4c72b0;stroke:#ffffff;stroke-width:0.48;\" x=\"157.026631\" xlink:href=\"#m5ada82ccc1\" y=\"184.48075\"/>\n     <use style=\"fill:#4c72b0;stroke:#ffffff;stroke-width:0.48;\" x=\"216.19074\" xlink:href=\"#m5ada82ccc1\" y=\"164.274205\"/>\n     <use style=\"fill:#4c72b0;stroke:#ffffff;stroke-width:0.48;\" x=\"187.883774\" xlink:href=\"#m5ada82ccc1\" y=\"186.237841\"/>\n     <use style=\"fill:#4c72b0;stroke:#ffffff;stroke-width:0.48;\" x=\"153.010103\" xlink:href=\"#m5ada82ccc1\" y=\"192.607295\"/>\n     <use style=\"fill:#4c72b0;stroke:#ffffff;stroke-width:0.48;\" x=\"166.717304\" xlink:href=\"#m5ada82ccc1\" y=\"186.237841\"/>\n     <use style=\"fill:#4c72b0;stroke:#ffffff;stroke-width:0.48;\" x=\"148.993574\" xlink:href=\"#m5ada82ccc1\" y=\"177.452386\"/>\n     <use style=\"fill:#4c72b0;stroke:#ffffff;stroke-width:0.48;\" x=\"106.979406\" xlink:href=\"#m5ada82ccc1\" y=\"211.935295\"/>\n     <use style=\"fill:#4c72b0;stroke:#ffffff;stroke-width:0.48;\" x=\"251.128166\" xlink:href=\"#m5ada82ccc1\" y=\"142.310568\"/>\n     <use style=\"fill:#4c72b0;stroke:#ffffff;stroke-width:0.48;\" x=\"144.658273\" xlink:href=\"#m5ada82ccc1\" y=\"207.542568\"/>\n     <use style=\"fill:#4c72b0;stroke:#ffffff;stroke-width:0.48;\" x=\"264.835368\" xlink:href=\"#m5ada82ccc1\" y=\"138.57675\"/>\n     <use style=\"fill:#4c72b0;stroke:#ffffff;stroke-width:0.48;\" x=\"125.850716\" xlink:href=\"#m5ada82ccc1\" y=\"208.201477\"/>\n     <use style=\"fill:#4c72b0;stroke:#ffffff;stroke-width:0.48;\" x=\"159.321791\" xlink:href=\"#m5ada82ccc1\" y=\"164.274205\"/>\n     <use style=\"fill:#4c72b0;stroke:#ffffff;stroke-width:0.48;\" x=\"200.315888\" xlink:href=\"#m5ada82ccc1\" y=\"123.641477\"/>\n     <use style=\"fill:#4c72b0;stroke:#ffffff;stroke-width:0.48;\" x=\"177.683066\" xlink:href=\"#m5ada82ccc1\" y=\"186.237841\"/>\n     <use style=\"fill:#4c72b0;stroke:#ffffff;stroke-width:0.48;\" x=\"227.475274\" xlink:href=\"#m5ada82ccc1\" y=\"186.237841\"/>\n     <use style=\"fill:#4c72b0;stroke:#ffffff;stroke-width:0.48;\" x=\"186.162405\" xlink:href=\"#m5ada82ccc1\" y=\"175.256023\"/>\n     <use style=\"fill:#4c72b0;stroke:#ffffff;stroke-width:0.48;\" x=\"79.437493\" xlink:href=\"#m5ada82ccc1\" y=\"230.165114\"/>\n     <use style=\"fill:#4c72b0;stroke:#ffffff;stroke-width:0.48;\" x=\"146.825923\" xlink:href=\"#m5ada82ccc1\" y=\"157.685114\"/>\n     <use style=\"fill:#4c72b0;stroke:#ffffff;stroke-width:0.48;\" x=\"187.82002\" xlink:href=\"#m5ada82ccc1\" y=\"180.746932\"/>\n     <use style=\"fill:#4c72b0;stroke:#ffffff;stroke-width:0.48;\" x=\"298.880232\" xlink:href=\"#m5ada82ccc1\" y=\"148.24075\"/>\n     <use style=\"fill:#4c72b0;stroke:#ffffff;stroke-width:0.48;\" x=\"216.700776\" xlink:href=\"#m5ada82ccc1\" y=\"164.274205\"/>\n     <use style=\"fill:#4c72b0;stroke:#ffffff;stroke-width:0.48;\" x=\"119.475274\" xlink:href=\"#m5ada82ccc1\" y=\"219.183295\"/>\n     <use style=\"fill:#4c72b0;stroke:#ffffff;stroke-width:0.48;\" x=\"176.72675\" xlink:href=\"#m5ada82ccc1\" y=\"186.237841\"/>\n     <use style=\"fill:#4c72b0;stroke:#ffffff;stroke-width:0.48;\" x=\"122.216714\" xlink:href=\"#m5ada82ccc1\" y=\"219.183295\"/>\n     <use style=\"fill:#4c72b0;stroke:#ffffff;stroke-width:0.48;\" x=\"115.139973\" xlink:href=\"#m5ada82ccc1\" y=\"197.219659\"/>\n     <use style=\"fill:#4c72b0;stroke:#ffffff;stroke-width:0.48;\" x=\"140.833007\" xlink:href=\"#m5ada82ccc1\" y=\"186.237841\"/>\n     <use style=\"fill:#4c72b0;stroke:#ffffff;stroke-width:0.48;\" x=\"325.210811\" xlink:href=\"#m5ada82ccc1\" y=\"197.219659\"/>\n     <use style=\"fill:#4c72b0;stroke:#ffffff;stroke-width:0.48;\" x=\"185.716124\" xlink:href=\"#m5ada82ccc1\" y=\"175.695295\"/>\n     <use style=\"fill:#4c72b0;stroke:#ffffff;stroke-width:0.48;\" x=\"176.15296\" xlink:href=\"#m5ada82ccc1\" y=\"162.517114\"/>\n     <use style=\"fill:#4c72b0;stroke:#ffffff;stroke-width:0.48;\" x=\"140.705498\" xlink:href=\"#m5ada82ccc1\" y=\"216.108386\"/>\n     <use style=\"fill:#4c72b0;stroke:#ffffff;stroke-width:0.48;\" x=\"173.411519\" xlink:href=\"#m5ada82ccc1\" y=\"162.956386\"/>\n     <use style=\"fill:#4c72b0;stroke:#ffffff;stroke-width:0.48;\" x=\"203.503609\" xlink:href=\"#m5ada82ccc1\" y=\"157.90475\"/>\n     <use style=\"fill:#4c72b0;stroke:#ffffff;stroke-width:0.48;\" x=\"159.066773\" xlink:href=\"#m5ada82ccc1\" y=\"169.545477\"/>\n     <use style=\"fill:#4c72b0;stroke:#ffffff;stroke-width:0.48;\" x=\"134.011283\" xlink:href=\"#m5ada82ccc1\" y=\"164.274205\"/>\n     <use style=\"fill:#4c72b0;stroke:#ffffff;stroke-width:0.48;\" x=\"132.034896\" xlink:href=\"#m5ada82ccc1\" y=\"186.237841\"/>\n     <use style=\"fill:#4c72b0;stroke:#ffffff;stroke-width:0.48;\" x=\"89.000657\" xlink:href=\"#m5ada82ccc1\" y=\"230.165114\"/>\n     <use style=\"fill:#4c72b0;stroke:#ffffff;stroke-width:0.48;\" x=\"285.491803\" xlink:href=\"#m5ada82ccc1\" y=\"164.274205\"/>\n     <use style=\"fill:#4c72b0;stroke:#ffffff;stroke-width:0.48;\" x=\"195.470551\" xlink:href=\"#m5ada82ccc1\" y=\"196.121477\"/>\n     <use style=\"fill:#4c72b0;stroke:#ffffff;stroke-width:0.48;\" x=\"206.69133\" xlink:href=\"#m5ada82ccc1\" y=\"164.274205\"/>\n     <use style=\"fill:#4c72b0;stroke:#ffffff;stroke-width:0.48;\" x=\"153.137611\" xlink:href=\"#m5ada82ccc1\" y=\"175.256023\"/>\n     <use style=\"fill:#4c72b0;stroke:#ffffff;stroke-width:0.48;\" x=\"233.595699\" xlink:href=\"#m5ada82ccc1\" y=\"140.773114\"/>\n     <use style=\"fill:#4c72b0;stroke:#ffffff;stroke-width:0.48;\" x=\"110.677163\" xlink:href=\"#m5ada82ccc1\" y=\"219.183295\"/>\n     <use style=\"fill:#4c72b0;stroke:#ffffff;stroke-width:0.48;\" x=\"122.025451\" xlink:href=\"#m5ada82ccc1\" y=\"212.594205\"/>\n     <use style=\"fill:#4c72b0;stroke:#ffffff;stroke-width:0.48;\" x=\"196.299359\" xlink:href=\"#m5ada82ccc1\" y=\"187.994932\"/>\n     <use style=\"fill:#4c72b0;stroke:#ffffff;stroke-width:0.48;\" x=\"117.307623\" xlink:href=\"#m5ada82ccc1\" y=\"201.39275\"/>\n     <use style=\"fill:#4c72b0;stroke:#ffffff;stroke-width:0.48;\" x=\"128.337139\" xlink:href=\"#m5ada82ccc1\" y=\"215.229841\"/>\n     <use style=\"fill:#4c72b0;stroke:#ffffff;stroke-width:0.48;\" x=\"133.692511\" xlink:href=\"#m5ada82ccc1\" y=\"197.219659\"/>\n     <use style=\"fill:#4c72b0;stroke:#ffffff;stroke-width:0.48;\" x=\"144.467009\" xlink:href=\"#m5ada82ccc1\" y=\"208.201477\"/>\n     <use style=\"fill:#4c72b0;stroke:#ffffff;stroke-width:0.48;\" x=\"122.344223\" xlink:href=\"#m5ada82ccc1\" y=\"196.780386\"/>\n     <use style=\"fill:#4c72b0;stroke:#ffffff;stroke-width:0.48;\" x=\"232.766891\" xlink:href=\"#m5ada82ccc1\" y=\"159.881477\"/>\n     <use style=\"fill:#4c72b0;stroke:#ffffff;stroke-width:0.48;\" x=\"97.09747\" xlink:href=\"#m5ada82ccc1\" y=\"219.622568\"/>\n     <use style=\"fill:#4c72b0;stroke:#ffffff;stroke-width:0.48;\" x=\"135.350126\" xlink:href=\"#m5ada82ccc1\" y=\"208.201477\"/>\n     <use style=\"fill:#4c72b0;stroke:#ffffff;stroke-width:0.48;\" x=\"115.331236\" xlink:href=\"#m5ada82ccc1\" y=\"208.201477\"/>\n     <use style=\"fill:#4c72b0;stroke:#ffffff;stroke-width:0.48;\" x=\"188.266301\" xlink:href=\"#m5ada82ccc1\" y=\"204.248023\"/>\n     <use style=\"fill:#4c72b0;stroke:#ffffff;stroke-width:0.48;\" x=\"164.422145\" xlink:href=\"#m5ada82ccc1\" y=\"219.183295\"/>\n     <use style=\"fill:#4c72b0;stroke:#ffffff;stroke-width:0.48;\" x=\"172.008922\" xlink:href=\"#m5ada82ccc1\" y=\"189.971659\"/>\n     <use style=\"fill:#4c72b0;stroke:#ffffff;stroke-width:0.48;\" x=\"113.992393\" xlink:href=\"#m5ada82ccc1\" y=\"219.183295\"/>\n     <use style=\"fill:#4c72b0;stroke:#ffffff;stroke-width:0.48;\" x=\"120.941626\" xlink:href=\"#m5ada82ccc1\" y=\"208.201477\"/>\n     <use style=\"fill:#4c72b0;stroke:#ffffff;stroke-width:0.48;\" x=\"159.194282\" xlink:href=\"#m5ada82ccc1\" y=\"180.746932\"/>\n     <use style=\"fill:#4c72b0;stroke:#ffffff;stroke-width:0.48;\" x=\"97.033715\" xlink:href=\"#m5ada82ccc1\" y=\"224.674205\"/>\n     <use style=\"fill:#4c72b0;stroke:#ffffff;stroke-width:0.48;\" x=\"108.637021\" xlink:href=\"#m5ada82ccc1\" y=\"208.201477\"/>\n     <use style=\"fill:#4c72b0;stroke:#ffffff;stroke-width:0.48;\" x=\"132.991212\" xlink:href=\"#m5ada82ccc1\" y=\"208.201477\"/>\n     <use style=\"fill:#4c72b0;stroke:#ffffff;stroke-width:0.48;\" x=\"144.785781\" xlink:href=\"#m5ada82ccc1\" y=\"208.201477\"/>\n     <use style=\"fill:#4c72b0;stroke:#ffffff;stroke-width:0.48;\" x=\"126.679524\" xlink:href=\"#m5ada82ccc1\" y=\"191.72875\"/>\n     <use style=\"fill:#4c72b0;stroke:#ffffff;stroke-width:0.48;\" x=\"154.157682\" xlink:href=\"#m5ada82ccc1\" y=\"175.256023\"/>\n     <use style=\"fill:#4c72b0;stroke:#ffffff;stroke-width:0.48;\" x=\"261.456384\" xlink:href=\"#m5ada82ccc1\" y=\"104.972386\"/>\n     <use style=\"fill:#4c72b0;stroke:#ffffff;stroke-width:0.48;\" x=\"305.383184\" xlink:href=\"#m5ada82ccc1\" y=\"142.310568\"/>\n     <use style=\"fill:#4c72b0;stroke:#ffffff;stroke-width:0.48;\" x=\"215.234424\" xlink:href=\"#m5ada82ccc1\" y=\"142.310568\"/>\n     <use style=\"fill:#4c72b0;stroke:#ffffff;stroke-width:0.48;\" x=\"147.527222\" xlink:href=\"#m5ada82ccc1\" y=\"201.612386\"/>\n     <use style=\"fill:#4c72b0;stroke:#ffffff;stroke-width:0.48;\" x=\"96.013644\" xlink:href=\"#m5ada82ccc1\" y=\"219.183295\"/>\n     <use style=\"fill:#4c72b0;stroke:#ffffff;stroke-width:0.48;\" x=\"161.61695\" xlink:href=\"#m5ada82ccc1\" y=\"222.258205\"/>\n     <use style=\"fill:#4c72b0;stroke:#ffffff;stroke-width:0.48;\" x=\"118.455203\" xlink:href=\"#m5ada82ccc1\" y=\"216.328023\"/>\n     <use style=\"fill:#4c72b0;stroke:#ffffff;stroke-width:0.48;\" x=\"105.130528\" xlink:href=\"#m5ada82ccc1\" y=\"214.131659\"/>\n     <use style=\"fill:#4c72b0;stroke:#ffffff;stroke-width:0.48;\" x=\"90.658273\" xlink:href=\"#m5ada82ccc1\" y=\"208.201477\"/>\n     <use style=\"fill:#4c72b0;stroke:#ffffff;stroke-width:0.48;\" x=\"132.481177\" xlink:href=\"#m5ada82ccc1\" y=\"197.219659\"/>\n     <use style=\"fill:#4c72b0;stroke:#ffffff;stroke-width:0.48;\" x=\"126.488261\" xlink:href=\"#m5ada82ccc1\" y=\"208.201477\"/>\n     <use style=\"fill:#4c72b0;stroke:#ffffff;stroke-width:0.48;\" x=\"152.818839\" xlink:href=\"#m5ada82ccc1\" y=\"191.948386\"/>\n     <use style=\"fill:#4c72b0;stroke:#ffffff;stroke-width:0.48;\" x=\"199.295817\" xlink:href=\"#m5ada82ccc1\" y=\"208.201477\"/>\n     <use style=\"fill:#4c72b0;stroke:#ffffff;stroke-width:0.48;\" x=\"168.821201\" xlink:href=\"#m5ada82ccc1\" y=\"208.201477\"/>\n     <use style=\"fill:#4c72b0;stroke:#ffffff;stroke-width:0.48;\" x=\"233.085663\" xlink:href=\"#m5ada82ccc1\" y=\"139.235659\"/>\n     <use style=\"fill:#4c72b0;stroke:#ffffff;stroke-width:0.48;\" x=\"349.883774\" xlink:href=\"#m5ada82ccc1\" y=\"142.310568\"/>\n     <use style=\"fill:#4c72b0;stroke:#ffffff;stroke-width:0.48;\" x=\"202.164766\" xlink:href=\"#m5ada82ccc1\" y=\"169.765114\"/>\n     <use style=\"fill:#4c72b0;stroke:#ffffff;stroke-width:0.48;\" x=\"128.145876\" xlink:href=\"#m5ada82ccc1\" y=\"194.803659\"/>\n     <use style=\"fill:#4c72b0;stroke:#ffffff;stroke-width:0.48;\" x=\"147.909748\" xlink:href=\"#m5ada82ccc1\" y=\"208.201477\"/>\n     <use style=\"fill:#4c72b0;stroke:#ffffff;stroke-width:0.48;\" x=\"179.850716\" xlink:href=\"#m5ada82ccc1\" y=\"175.256023\"/>\n     <use style=\"fill:#4c72b0;stroke:#ffffff;stroke-width:0.48;\" x=\"123.491803\" xlink:href=\"#m5ada82ccc1\" y=\"197.219659\"/>\n     <use style=\"fill:#4c72b0;stroke:#ffffff;stroke-width:0.48;\" x=\"146.124624\" xlink:href=\"#m5ada82ccc1\" y=\"208.201477\"/>\n     <use style=\"fill:#4c72b0;stroke:#ffffff;stroke-width:0.48;\" x=\"130.823562\" xlink:href=\"#m5ada82ccc1\" y=\"208.201477\"/>\n     <use style=\"fill:#4c72b0;stroke:#ffffff;stroke-width:0.48;\" x=\"154.4127\" xlink:href=\"#m5ada82ccc1\" y=\"186.237841\"/>\n     <use style=\"fill:#4c72b0;stroke:#ffffff;stroke-width:0.48;\" x=\"199.104554\" xlink:href=\"#m5ada82ccc1\" y=\"175.695295\"/>\n     <use style=\"fill:#4c72b0;stroke:#ffffff;stroke-width:0.48;\" x=\"175.132889\" xlink:href=\"#m5ada82ccc1\" y=\"202.930205\"/>\n     <use style=\"fill:#4c72b0;stroke:#ffffff;stroke-width:0.48;\" x=\"244.943987\" xlink:href=\"#m5ada82ccc1\" y=\"153.292386\"/>\n     <use style=\"fill:#4c72b0;stroke:#ffffff;stroke-width:0.48;\" x=\"110.294636\" xlink:href=\"#m5ada82ccc1\" y=\"216.767295\"/>\n     <use style=\"fill:#4c72b0;stroke:#ffffff;stroke-width:0.48;\" x=\"110.549654\" xlink:href=\"#m5ada82ccc1\" y=\"208.201477\"/>\n     <use style=\"fill:#4c72b0;stroke:#ffffff;stroke-width:0.48;\" x=\"366.714943\" xlink:href=\"#m5ada82ccc1\" y=\"32.492386\"/>\n     <use style=\"fill:#4c72b0;stroke:#ffffff;stroke-width:0.48;\" x=\"143.574447\" xlink:href=\"#m5ada82ccc1\" y=\"182.723659\"/>\n     <use style=\"fill:#4c72b0;stroke:#ffffff;stroke-width:0.48;\" x=\"89.000657\" xlink:href=\"#m5ada82ccc1\" y=\"139.016023\"/>\n     <use style=\"fill:#4c72b0;stroke:#ffffff;stroke-width:0.48;\" x=\"245.836549\" xlink:href=\"#m5ada82ccc1\" y=\"182.284386\"/>\n     <use style=\"fill:#4c72b0;stroke:#ffffff;stroke-width:0.48;\" x=\"150.013644\" xlink:href=\"#m5ada82ccc1\" y=\"164.274205\"/>\n     <use style=\"fill:#4c72b0;stroke:#ffffff;stroke-width:0.48;\" x=\"252.530764\" xlink:href=\"#m5ada82ccc1\" y=\"183.821841\"/>\n     <use style=\"fill:#4c72b0;stroke:#ffffff;stroke-width:0.48;\" x=\"156.835368\" xlink:href=\"#m5ada82ccc1\" y=\"208.201477\"/>\n     <use style=\"fill:#4c72b0;stroke:#ffffff;stroke-width:0.48;\" x=\"135.095108\" xlink:href=\"#m5ada82ccc1\" y=\"208.201477\"/>\n     <use style=\"fill:#4c72b0;stroke:#ffffff;stroke-width:0.48;\" x=\"103.982948\" xlink:href=\"#m5ada82ccc1\" y=\"164.274205\"/>\n     <use style=\"fill:#4c72b0;stroke:#ffffff;stroke-width:0.48;\" x=\"263.56028\" xlink:href=\"#m5ada82ccc1\" y=\"174.157841\"/>\n     <use style=\"fill:#4c72b0;stroke:#ffffff;stroke-width:0.48;\" x=\"263.687789\" xlink:href=\"#m5ada82ccc1\" y=\"171.302568\"/>\n     <use style=\"fill:#4c72b0;stroke:#ffffff;stroke-width:0.48;\" x=\"191.517777\" xlink:href=\"#m5ada82ccc1\" y=\"128.034205\"/>\n     <use style=\"fill:#4c72b0;stroke:#ffffff;stroke-width:0.48;\" x=\"331.905026\" xlink:href=\"#m5ada82ccc1\" y=\"175.256023\"/>\n     <use style=\"fill:#4c72b0;stroke:#ffffff;stroke-width:0.48;\" x=\"190.497706\" xlink:href=\"#m5ada82ccc1\" y=\"109.365114\"/>\n     <use style=\"fill:#4c72b0;stroke:#ffffff;stroke-width:0.48;\" x=\"301.302901\" xlink:href=\"#m5ada82ccc1\" y=\"186.237841\"/>\n     <use style=\"fill:#4c72b0;stroke:#ffffff;stroke-width:0.48;\" x=\"174.686608\" xlink:href=\"#m5ada82ccc1\" y=\"142.310568\"/>\n     <use style=\"fill:#4c72b0;stroke:#ffffff;stroke-width:0.48;\" x=\"176.025451\" xlink:href=\"#m5ada82ccc1\" y=\"175.256023\"/>\n     <use style=\"fill:#4c72b0;stroke:#ffffff;stroke-width:0.48;\" x=\"236.974683\" xlink:href=\"#m5ada82ccc1\" y=\"208.201477\"/>\n     <use style=\"fill:#4c72b0;stroke:#ffffff;stroke-width:0.48;\" x=\"158.492983\" xlink:href=\"#m5ada82ccc1\" y=\"175.256023\"/>\n     <use style=\"fill:#4c72b0;stroke:#ffffff;stroke-width:0.48;\" x=\"190.051425\" xlink:href=\"#m5ada82ccc1\" y=\"164.274205\"/>\n     <use style=\"fill:#4c72b0;stroke:#ffffff;stroke-width:0.48;\" x=\"142.809394\" xlink:href=\"#m5ada82ccc1\" y=\"219.183295\"/>\n     <use style=\"fill:#4c72b0;stroke:#ffffff;stroke-width:0.48;\" x=\"169.076218\" xlink:href=\"#m5ada82ccc1\" y=\"160.101114\"/>\n     <use style=\"fill:#4c72b0;stroke:#ffffff;stroke-width:0.48;\" x=\"224.096289\" xlink:href=\"#m5ada82ccc1\" y=\"195.901841\"/>\n     <use style=\"fill:#4c72b0;stroke:#ffffff;stroke-width:0.48;\" x=\"141.470551\" xlink:href=\"#m5ada82ccc1\" y=\"207.762205\"/>\n     <use style=\"fill:#4c72b0;stroke:#ffffff;stroke-width:0.48;\" x=\"148.483538\" xlink:href=\"#m5ada82ccc1\" y=\"164.274205\"/>\n     <use style=\"fill:#4c72b0;stroke:#ffffff;stroke-width:0.48;\" x=\"90.977045\" xlink:href=\"#m5ada82ccc1\" y=\"220.501114\"/>\n     <use style=\"fill:#4c72b0;stroke:#ffffff;stroke-width:0.48;\" x=\"108.700776\" xlink:href=\"#m5ada82ccc1\" y=\"208.201477\"/>\n     <use style=\"fill:#4c72b0;stroke:#ffffff;stroke-width:0.48;\" x=\"317.624034\" xlink:href=\"#m5ada82ccc1\" y=\"142.310568\"/>\n     <use style=\"fill:#4c72b0;stroke:#ffffff;stroke-width:0.48;\" x=\"125.659453\" xlink:href=\"#m5ada82ccc1\" y=\"208.201477\"/>\n     <use style=\"fill:#4c72b0;stroke:#ffffff;stroke-width:0.48;\" x=\"128.910929\" xlink:href=\"#m5ada82ccc1\" y=\"208.201477\"/>\n     <use style=\"fill:#4c72b0;stroke:#ffffff;stroke-width:0.48;\" x=\"162.063231\" xlink:href=\"#m5ada82ccc1\" y=\"164.274205\"/>\n     <use style=\"fill:#4c72b0;stroke:#ffffff;stroke-width:0.48;\" x=\"124.001838\" xlink:href=\"#m5ada82ccc1\" y=\"207.981841\"/>\n     <use style=\"fill:#4c72b0;stroke:#ffffff;stroke-width:0.48;\" x=\"125.659453\" xlink:href=\"#m5ada82ccc1\" y=\"208.201477\"/>\n     <use style=\"fill:#4c72b0;stroke:#ffffff;stroke-width:0.48;\" x=\"147.335959\" xlink:href=\"#m5ada82ccc1\" y=\"197.219659\"/>\n     <use style=\"fill:#4c72b0;stroke:#ffffff;stroke-width:0.48;\" x=\"173.666537\" xlink:href=\"#m5ada82ccc1\" y=\"164.274205\"/>\n     <use style=\"fill:#4c72b0;stroke:#ffffff;stroke-width:0.48;\" x=\"147.78224\" xlink:href=\"#m5ada82ccc1\" y=\"181.186205\"/>\n     <use style=\"fill:#4c72b0;stroke:#ffffff;stroke-width:0.48;\" x=\"212.30172\" xlink:href=\"#m5ada82ccc1\" y=\"177.23275\"/>\n     <use style=\"fill:#4c72b0;stroke:#ffffff;stroke-width:0.48;\" x=\"289.699595\" xlink:href=\"#m5ada82ccc1\" y=\"186.237841\"/>\n     <use style=\"fill:#4c72b0;stroke:#ffffff;stroke-width:0.48;\" x=\"197.510693\" xlink:href=\"#m5ada82ccc1\" y=\"207.542568\"/>\n     <use style=\"fill:#4c72b0;stroke:#ffffff;stroke-width:0.48;\" x=\"124.129347\" xlink:href=\"#m5ada82ccc1\" y=\"203.149841\"/>\n     <use style=\"fill:#4c72b0;stroke:#ffffff;stroke-width:0.48;\" x=\"234.424506\" xlink:href=\"#m5ada82ccc1\" y=\"208.201477\"/>\n     <use style=\"fill:#4c72b0;stroke:#ffffff;stroke-width:0.48;\" x=\"207.83891\" xlink:href=\"#m5ada82ccc1\" y=\"138.796386\"/>\n     <use style=\"fill:#4c72b0;stroke:#ffffff;stroke-width:0.48;\" x=\"350.903845\" xlink:href=\"#m5ada82ccc1\" y=\"54.456023\"/>\n     <use style=\"fill:#4c72b0;stroke:#ffffff;stroke-width:0.48;\" x=\"127.380823\" xlink:href=\"#m5ada82ccc1\" y=\"197.219659\"/>\n     <use style=\"fill:#4c72b0;stroke:#ffffff;stroke-width:0.48;\" x=\"222.37492\" xlink:href=\"#m5ada82ccc1\" y=\"109.365114\"/>\n     <use style=\"fill:#4c72b0;stroke:#ffffff;stroke-width:0.48;\" x=\"125.021909\" xlink:href=\"#m5ada82ccc1\" y=\"227.96875\"/>\n     <use style=\"fill:#4c72b0;stroke:#ffffff;stroke-width:0.48;\" x=\"222.247411\" xlink:href=\"#m5ada82ccc1\" y=\"186.237841\"/>\n     <use style=\"fill:#4c72b0;stroke:#ffffff;stroke-width:0.48;\" x=\"116.670079\" xlink:href=\"#m5ada82ccc1\" y=\"219.183295\"/>\n     <use style=\"fill:#4c72b0;stroke:#ffffff;stroke-width:0.48;\" x=\"92.124624\" xlink:href=\"#m5ada82ccc1\" y=\"220.501114\"/>\n     <use style=\"fill:#4c72b0;stroke:#ffffff;stroke-width:0.48;\" x=\"234.934542\" xlink:href=\"#m5ada82ccc1\" y=\"184.261114\"/>\n     <use style=\"fill:#4c72b0;stroke:#ffffff;stroke-width:0.48;\" x=\"120.304081\" xlink:href=\"#m5ada82ccc1\" y=\"203.80875\"/>\n     <use style=\"fill:#4c72b0;stroke:#ffffff;stroke-width:0.48;\" x=\"128.337139\" xlink:href=\"#m5ada82ccc1\" y=\"175.695295\"/>\n     <use style=\"fill:#4c72b0;stroke:#ffffff;stroke-width:0.48;\" x=\"97.479996\" xlink:href=\"#m5ada82ccc1\" y=\"209.958568\"/>\n     <use style=\"fill:#4c72b0;stroke:#ffffff;stroke-width:0.48;\" x=\"144.658273\" xlink:href=\"#m5ada82ccc1\" y=\"186.237841\"/>\n     <use style=\"fill:#4c72b0;stroke:#ffffff;stroke-width:0.48;\" x=\"128.337139\" xlink:href=\"#m5ada82ccc1\" y=\"217.426205\"/>\n     <use style=\"fill:#4c72b0;stroke:#ffffff;stroke-width:0.48;\" x=\"146.507151\" xlink:href=\"#m5ada82ccc1\" y=\"197.219659\"/>\n     <use style=\"fill:#4c72b0;stroke:#ffffff;stroke-width:0.48;\" x=\"107.106915\" xlink:href=\"#m5ada82ccc1\" y=\"208.201477\"/>\n     <use style=\"fill:#4c72b0;stroke:#ffffff;stroke-width:0.48;\" x=\"173.156502\" xlink:href=\"#m5ada82ccc1\" y=\"186.237841\"/>\n     <use style=\"fill:#4c72b0;stroke:#ffffff;stroke-width:0.48;\" x=\"127.444577\" xlink:href=\"#m5ada82ccc1\" y=\"192.387659\"/>\n     <use style=\"fill:#4c72b0;stroke:#ffffff;stroke-width:0.48;\" x=\"183.803491\" xlink:href=\"#m5ada82ccc1\" y=\"188.873477\"/>\n     <use style=\"fill:#4c72b0;stroke:#ffffff;stroke-width:0.48;\" x=\"195.853078\" xlink:href=\"#m5ada82ccc1\" y=\"208.201477\"/>\n     <use style=\"fill:#4c72b0;stroke:#ffffff;stroke-width:0.48;\" x=\"142.809394\" xlink:href=\"#m5ada82ccc1\" y=\"186.237841\"/>\n     <use style=\"fill:#4c72b0;stroke:#ffffff;stroke-width:0.48;\" x=\"116.797588\" xlink:href=\"#m5ada82ccc1\" y=\"177.672023\"/>\n     <use style=\"fill:#4c72b0;stroke:#ffffff;stroke-width:0.48;\" x=\"111.442216\" xlink:href=\"#m5ada82ccc1\" y=\"219.842205\"/>\n     <use style=\"fill:#4c72b0;stroke:#ffffff;stroke-width:0.48;\" x=\"141.789323\" xlink:href=\"#m5ada82ccc1\" y=\"186.237841\"/>\n     <use style=\"fill:#4c72b0;stroke:#ffffff;stroke-width:0.48;\" x=\"106.979406\" xlink:href=\"#m5ada82ccc1\" y=\"224.674205\"/>\n     <use style=\"fill:#4c72b0;stroke:#ffffff;stroke-width:0.48;\" x=\"123.109276\" xlink:href=\"#m5ada82ccc1\" y=\"230.165114\"/>\n     <use style=\"fill:#4c72b0;stroke:#ffffff;stroke-width:0.48;\" x=\"252.084483\" xlink:href=\"#m5ada82ccc1\" y=\"226.431295\"/>\n     <use style=\"fill:#4c72b0;stroke:#ffffff;stroke-width:0.48;\" x=\"271.210811\" xlink:href=\"#m5ada82ccc1\" y=\"149.558568\"/>\n     <use style=\"fill:#4c72b0;stroke:#ffffff;stroke-width:0.48;\" x=\"227.8578\" xlink:href=\"#m5ada82ccc1\" y=\"122.104023\"/>\n     <use style=\"fill:#4c72b0;stroke:#ffffff;stroke-width:0.48;\" x=\"216.063231\" xlink:href=\"#m5ada82ccc1\" y=\"208.201477\"/>\n     <use style=\"fill:#4c72b0;stroke:#ffffff;stroke-width:0.48;\" x=\"187.309985\" xlink:href=\"#m5ada82ccc1\" y=\"208.201477\"/>\n     <use style=\"fill:#4c72b0;stroke:#ffffff;stroke-width:0.48;\" x=\"156.389087\" xlink:href=\"#m5ada82ccc1\" y=\"213.692386\"/>\n     <use style=\"fill:#4c72b0;stroke:#ffffff;stroke-width:0.48;\" x=\"162.509512\" xlink:href=\"#m5ada82ccc1\" y=\"186.237841\"/>\n    </g>\n   </g>\n   <g id=\"patch_3\">\n    <path d=\"M 47.133125 240.04875 \nL 47.133125 22.60875 \n\" style=\"fill:none;stroke:#ffffff;stroke-linecap:square;stroke-linejoin:miter;stroke-width:1.25;\"/>\n   </g>\n   <g id=\"patch_4\">\n    <path d=\"M 381.933125 240.04875 \nL 381.933125 22.60875 \n\" style=\"fill:none;stroke:#ffffff;stroke-linecap:square;stroke-linejoin:miter;stroke-width:1.25;\"/>\n   </g>\n   <g id=\"patch_5\">\n    <path d=\"M 47.133125 240.04875 \nL 381.933125 240.04875 \n\" style=\"fill:none;stroke:#ffffff;stroke-linecap:square;stroke-linejoin:miter;stroke-width:1.25;\"/>\n   </g>\n   <g id=\"patch_6\">\n    <path d=\"M 47.133125 22.60875 \nL 381.933125 22.60875 \n\" style=\"fill:none;stroke:#ffffff;stroke-linecap:square;stroke-linejoin:miter;stroke-width:1.25;\"/>\n   </g>\n   <g id=\"text_13\">\n    <!-- 식사 금액과 팁의 관계 -->\n    <g style=\"fill:#262626;\" transform=\"translate(154.773125 16.60875)scale(0.12 -0.12)\">\n     <defs>\n      <path d=\"M 5414 -454 \nL 4954 -480 \nL 4954 1286 \nL 1440 1242 \nL 1440 1632 \nL 3290 1632 \nQ 3526 1632 3782 1635 \nQ 4038 1638 4326 1645 \nQ 4614 1651 4880 1657 \nQ 5146 1664 5389 1670 \nL 5395 435 \nL 5414 -454 \nz\nM 4179 2464 \nQ 4179 2445 4032 2304 \nQ 3878 2170 3866 2157 \nQ 3789 2208 3725 2246 \nQ 3661 2285 3610 2323 \nQ 3302 2554 3040 2816 \nQ 2739 3130 2534 3456 \nQ 2477 3558 2400 3725 \nQ 2387 3680 2368 3645 \nQ 2349 3610 2336 3578 \nQ 2246 3392 2108 3197 \nQ 1971 3002 1786 2803 \nQ 1549 2534 1184 2278 \nQ 1120 2240 1043 2189 \nQ 966 2138 870 2074 \nQ 851 2086 832 2105 \nQ 813 2125 794 2138 \nQ 698 2214 646 2246 \nQ 506 2310 506 2336 \nQ 531 2381 557 2394 \nQ 800 2502 934 2592 \nQ 1370 2880 1693 3334 \nQ 2016 3789 2150 4422 \nQ 2176 4531 2192 4659 \nQ 2208 4787 2221 4954 \nL 2522 4902 \nQ 2765 4845 2765 4774 \nQ 2765 4755 2742 4723 \nQ 2720 4691 2694 4646 \nQ 2669 4602 2646 4544 \nQ 2624 4486 2624 4422 \nQ 2624 4211 2822 3834 \nQ 2976 3552 3168 3315 \nQ 3315 3130 3507 2960 \nQ 3699 2790 3942 2624 \nQ 3987 2592 4038 2560 \nQ 4090 2528 4160 2496 \nL 4179 2464 \nz\nM 5446 5050 \nQ 5446 5030 5420 4956 \nQ 5395 4883 5395 4832 \nL 5389 3245 \nL 5389 2483 \nQ 5395 2214 5408 1965 \nL 4947 1946 \nL 4966 3578 \nQ 4966 4013 4956 4358 \nQ 4947 4704 4934 4973 \nQ 4934 5024 4934 5075 \nQ 4934 5126 4922 5190 \nQ 5146 5190 5296 5152 \nQ 5446 5114 5446 5050 \nz\n\" id=\"AppleGothic-c2dd\" transform=\"scale(0.015625)\"/>\n      <path d=\"M 6093 2061 \nL 5139 2061 \nL 5133 1024 \nQ 5133 640 5139 240 \nQ 5146 -160 5158 -493 \nL 4685 -538 \nQ 4685 -397 4685 -73 \nQ 4685 250 4691 755 \nQ 4698 1274 4701 1651 \nQ 4704 2029 4704 2285 \nQ 4704 2874 4697 3478 \nQ 4691 4083 4685 4704 \nQ 4685 4877 4675 4992 \nQ 4666 5107 4653 5190 \nQ 4877 5190 5037 5158 \nQ 5197 5126 5197 5069 \nQ 5152 4954 5152 4870 \nL 5133 3955 \nL 5139 2477 \nL 6093 2477 \nL 6093 2061 \nz\nM 3923 1331 \nQ 3917 1312 3898 1293 \nQ 3878 1267 3852 1244 \nQ 3827 1222 3782 1197 \nL 3584 1018 \nQ 3533 1050 3491 1078 \nQ 3450 1107 3418 1133 \nQ 3014 1446 2675 1946 \nQ 2605 2042 2541 2170 \nQ 2477 2298 2406 2451 \nQ 2336 2605 2291 2736 \nQ 2246 2867 2221 2976 \nQ 2106 2438 1581 1786 \nQ 1312 1466 1059 1245 \nQ 806 1024 544 896 \nQ 518 909 476 941 \nQ 435 973 371 1030 \nQ 211 1165 211 1184 \nQ 250 1222 256 1235 \nQ 301 1235 557 1421 \nQ 922 1683 1203 2010 \nQ 1606 2477 1818 3078 \nQ 1933 3405 1993 3830 \nQ 2054 4256 2054 4640 \nQ 2106 4640 2186 4630 \nQ 2266 4621 2368 4595 \nQ 2573 4550 2573 4486 \nQ 2560 4454 2521 4361 \nQ 2483 4269 2490 4173 \nL 2432 3750 \nQ 2458 3648 2474 3574 \nQ 2490 3501 2502 3437 \nQ 2598 3053 2829 2547 \nQ 3072 2061 3494 1677 \nQ 3565 1613 3657 1539 \nQ 3750 1466 3872 1389 \nQ 3885 1376 3897 1360 \nQ 3910 1344 3923 1331 \nz\n\" id=\"AppleGothic-c0ac\" transform=\"scale(0.015625)\"/>\n      <path id=\"AppleGothic-20\" transform=\"scale(0.015625)\"/>\n      <path d=\"M 4691 134 \nL 4691 1466 \nL 3258 1459 \nQ 2746 1459 2368 1452 \nQ 1990 1446 1702 1434 \nL 1702 122 \nL 3181 115 \nQ 3603 115 3990 118 \nQ 4378 122 4691 134 \nz\nM 5139 -403 \nL 4698 -416 \nL 4678 -224 \nL 3366 -211 \nQ 2874 -211 2483 -217 \nQ 2093 -224 1728 -243 \nL 1702 -403 \nL 1280 -429 \nL 1286 1766 \nL 3264 1760 \nQ 3693 1760 3997 1760 \nQ 4301 1760 4486 1766 \nQ 4672 1773 4832 1776 \nQ 4992 1779 5126 1792 \nL 5139 -403 \nz\nM 6022 2490 \nL 2758 2490 \nQ 2374 2490 2083 2490 \nQ 1792 2490 1600 2483 \nQ 1210 2477 877 2467 \nQ 544 2458 378 2451 \nL 378 2829 \nL 2010 2822 \nL 4538 2842 \nQ 4576 2995 4595 3078 \nQ 4646 3283 4675 3440 \nQ 4704 3597 4730 3706 \nL 4858 4538 \nQ 4166 4538 3552 4518 \nQ 3238 4512 2896 4505 \nQ 2554 4499 2170 4486 \nQ 1786 4480 1498 4477 \nQ 1210 4474 1005 4474 \nL 1005 4896 \nQ 1094 4896 1280 4893 \nQ 1466 4890 1760 4883 \nQ 2061 4877 2275 4877 \nQ 2490 4877 2637 4877 \nL 2976 4877 \nQ 3597 4877 4214 4889 \nQ 4832 4902 5331 4915 \nQ 5331 4659 5197 3885 \nQ 5056 3123 4966 2854 \nL 5568 2842 \nL 6022 2861 \nL 6022 2490 \nz\n\" id=\"AppleGothic-ae08\" transform=\"scale(0.015625)\"/>\n      <path d=\"M 2790 3424 \nQ 2790 3872 2534 4128 \nQ 2310 4358 1978 4358 \nQ 1651 4358 1421 4128 \nQ 1165 3872 1165 3424 \nQ 1165 3040 1376 2771 \nQ 1581 2490 1990 2490 \nQ 2362 2490 2576 2746 \nQ 2790 3002 2790 3424 \nz\nM 5638 1408 \nQ 5632 1325 5632 1197 \nQ 5632 1069 5626 896 \nQ 5619 723 5619 569 \nQ 5619 416 5619 282 \nL 5626 -525 \nL 5165 -544 \nL 5190 730 \nL 5184 1018 \nL 3635 1030 \nQ 3130 1030 2576 1017 \nQ 2022 1005 1549 992 \nL 1549 1408 \nQ 1638 1402 1712 1402 \nQ 1786 1402 1850 1402 \nQ 2272 1389 2595 1382 \nQ 2918 1376 3149 1376 \nL 5638 1408 \nz\nM 3232 3418 \nQ 3232 2848 2880 2464 \nQ 2534 2086 1984 2086 \nQ 1472 2086 1114 2445 \nQ 730 2829 730 3418 \nQ 730 3936 1062 4326 \nQ 1414 4736 1965 4736 \nQ 2477 4736 2854 4371 \nQ 3232 4006 3232 3418 \nz\nM 5664 5082 \nQ 5664 5069 5638 4976 \nQ 5613 4883 5613 4787 \nL 5606 3002 \nL 5606 2016 \nQ 5619 1837 5626 1773 \nL 5184 1734 \nL 5184 2970 \nL 4397 2963 \nL 4390 2195 \nQ 4390 1990 4390 1923 \nQ 4390 1856 4403 1805 \nL 3949 1766 \nQ 3962 1971 3971 2384 \nQ 3981 2797 3981 3347 \nQ 3981 3667 3981 3910 \nQ 3981 4154 3974 4333 \nQ 3974 4685 3955 5043 \nQ 4109 5043 4275 5024 \nQ 4442 5005 4442 4941 \nQ 4442 4928 4422 4845 \nQ 4403 4762 4403 4685 \nQ 4403 4621 4403 4528 \nQ 4403 4435 4397 4314 \nQ 4390 4186 4390 4109 \nQ 4390 4032 4390 3987 \nL 4397 3322 \nL 5197 3328 \nL 5197 4691 \nQ 5197 5043 5171 5190 \nQ 5395 5190 5529 5174 \nQ 5664 5158 5664 5082 \nz\n\" id=\"AppleGothic-c561\" transform=\"scale(0.015625)\"/>\n      <path d=\"M 4339 1184 \nQ 4198 1165 4086 1152 \nQ 3974 1139 3885 1126 \nQ 3373 1062 2973 1014 \nQ 2573 966 2266 934 \nQ 1965 909 1680 883 \nQ 1395 858 1120 826 \nQ 966 813 876 803 \nQ 787 794 762 794 \nQ 710 781 668 774 \nQ 627 768 582 755 \nQ 499 755 454 934 \nQ 429 1024 419 1091 \nQ 410 1158 410 1210 \nL 1030 1229 \nL 1638 1274 \nL 1651 2381 \nL 1638 3302 \nL 1677 3302 \nQ 1850 3302 1990 3283 \nQ 2131 3264 2131 3206 \nQ 2131 3174 2099 3100 \nQ 2067 3027 2067 2982 \nL 2080 2189 \nL 2067 1293 \nL 3174 1408 \nL 4320 1536 \nL 4339 1184 \nz\nM 6061 2035 \nL 5126 2042 \nL 5114 1050 \nL 5126 -486 \nL 4653 -506 \nQ 4653 -397 4653 -233 \nQ 4653 -70 4659 141 \nQ 4666 365 4666 659 \nQ 4666 954 4666 1331 \nQ 4672 1715 4675 2214 \nQ 4678 2714 4678 3347 \nL 4678 4691 \nQ 4678 4870 4675 4985 \nQ 4672 5101 4659 5184 \nL 4800 5184 \nQ 5011 5184 5100 5158 \nQ 5190 5133 5190 5082 \nQ 5190 5082 5180 5050 \nQ 5171 5018 5161 4973 \nQ 5152 4928 5142 4880 \nQ 5133 4832 5133 4794 \nL 5120 4051 \nL 5126 2445 \nL 6061 2451 \nL 6061 2035 \nz\nM 3718 4499 \nQ 3718 4371 3715 4262 \nQ 3712 4154 3706 4064 \nQ 3699 3974 3686 3779 \nQ 3674 3584 3642 3283 \nQ 3610 2982 3597 2793 \nQ 3584 2605 3571 2515 \nQ 3546 2330 3533 2211 \nQ 3520 2093 3507 2042 \nL 3078 2054 \nQ 3085 2157 3098 2227 \nQ 3130 2483 3155 2710 \nQ 3181 2938 3200 3142 \nL 3264 4109 \nL 2042 4109 \nQ 1562 4109 1267 4102 \nQ 973 4096 768 4083 \nL 768 4480 \nL 3718 4499 \nz\n\" id=\"AppleGothic-acfc\" transform=\"scale(0.015625)\"/>\n      <path d=\"M 4954 32 \nL 4954 736 \nL 3232 736 \nQ 3002 736 2829 736 \nQ 2656 736 2528 730 \nQ 2400 730 2278 726 \nQ 2157 723 2029 717 \nL 2029 -26 \nL 3418 -26 \nQ 3898 -26 4294 -6 \nQ 4691 13 4954 32 \nz\nM 5446 1677 \nQ 5446 1658 5433 1578 \nQ 5421 1498 5421 1427 \nL 5414 538 \nL 5414 -90 \nQ 5421 -198 5424 -304 \nQ 5427 -410 5434 -506 \nL 4960 -506 \nL 4954 -339 \nL 2048 -403 \nL 2022 -531 \nL 1562 -538 \nQ 1562 -480 1562 -355 \nQ 1562 -230 1568 -32 \nQ 1574 160 1577 294 \nQ 1581 429 1581 499 \nQ 1581 806 1574 1113 \nQ 1568 1421 1555 1683 \nL 1965 1677 \nQ 2054 1677 2054 1594 \nQ 2054 1568 2041 1494 \nQ 2029 1421 2029 1408 \nL 2029 1107 \nQ 2240 1094 2505 1088 \nQ 2771 1082 3059 1082 \nL 4954 1126 \nL 4960 1434 \nL 4941 1773 \nL 5082 1773 \nQ 5286 1773 5366 1750 \nQ 5446 1728 5446 1677 \nz\nM 4448 2182 \nQ 4333 2170 4233 2157 \nQ 4134 2144 4045 2138 \nQ 3750 2112 3462 2099 \nQ 3174 2086 2874 2086 \nQ 2605 2086 2291 2080 \nQ 1978 2074 1626 2061 \nQ 1498 2054 1331 2048 \nQ 1165 2042 954 2029 \nL 973 3283 \nL 954 4582 \nL 2573 4589 \nQ 2899 4589 3305 4605 \nQ 3712 4621 4064 4640 \nL 4064 4237 \nL 3162 4250 \nQ 3014 4250 2796 4243 \nQ 2579 4237 2278 4224 \nQ 1984 4211 1766 4204 \nQ 1549 4198 1402 4198 \nL 1402 3552 \nL 1760 3546 \nQ 1926 3546 2204 3555 \nQ 2483 3565 2874 3578 \nQ 3264 3597 3517 3603 \nQ 3770 3610 3885 3610 \nL 3885 3187 \nL 2477 3200 \nQ 2131 3200 1881 3193 \nQ 1632 3187 1408 3168 \nL 1408 2458 \nL 2886 2470 \nQ 3258 2470 3872 2509 \nQ 3981 2515 4115 2521 \nQ 4250 2528 4422 2541 \nL 4448 2182 \nz\nM 5466 5062 \nQ 5466 5043 5440 4934 \nQ 5421 4819 5421 4749 \nL 5421 4531 \nQ 5402 3706 5402 3558 \nL 5421 1939 \nL 4928 1920 \nQ 4934 1997 4934 2067 \nQ 4934 2138 4934 2195 \nQ 4954 2970 4954 3341 \nL 4954 3539 \nQ 4941 4358 4931 4768 \nQ 4922 5178 4922 5190 \nL 5152 5197 \nQ 5299 5197 5382 5171 \nQ 5466 5146 5466 5062 \nz\n\" id=\"AppleGothic-d301\" transform=\"scale(0.015625)\"/>\n      <path d=\"M 3571 3379 \nQ 3571 4218 2573 4218 \nQ 2061 4218 1776 3987 \nQ 1491 3757 1491 3386 \nQ 1491 2970 1786 2733 \nQ 2054 2522 2509 2522 \nQ 3059 2522 3328 2765 \nQ 3571 2976 3571 3379 \nz\nM 4608 1094 \nQ 4134 1018 3872 979 \nQ 3456 928 3120 899 \nQ 2784 870 2528 870 \nL 902 813 \nQ 858 800 816 790 \nQ 774 781 730 768 \nQ 653 768 608 941 \nQ 563 1114 563 1242 \nL 2477 1248 \nQ 2938 1248 3334 1273 \nQ 3731 1299 4070 1350 \nQ 4282 1376 4576 1459 \nL 4608 1094 \nz\nM 5466 5069 \nQ 5466 5037 5437 4944 \nQ 5408 4851 5408 4813 \nL 5408 2298 \nQ 5408 2010 5411 1683 \nQ 5414 1357 5421 973 \nQ 5427 595 5433 230 \nQ 5440 -134 5453 -499 \nL 4973 -557 \nL 4973 45 \nQ 4979 237 4979 512 \nQ 4979 787 4986 1158 \nQ 4992 1523 4992 1788 \nQ 4992 2054 4992 2221 \nQ 4992 2880 4985 3357 \nQ 4979 3834 4966 4122 \nQ 4954 4410 4944 4675 \nQ 4934 4941 4922 5184 \nL 5024 5184 \nQ 5190 5184 5328 5158 \nQ 5466 5133 5466 5069 \nz\nM 4006 3328 \nQ 4006 2790 3578 2464 \nQ 3155 2138 2528 2138 \nQ 1894 2138 1504 2445 \nQ 1088 2765 1088 3341 \nQ 1088 3955 1517 4288 \nQ 1920 4602 2541 4602 \nQ 3174 4602 3597 4269 \nQ 4006 3936 4006 3354 \nL 4006 3328 \nz\n\" id=\"AppleGothic-c758\" transform=\"scale(0.015625)\"/>\n      <path d=\"M 5248 -435 \nL 3558 -454 \nL 1376 -442 \nL 1389 352 \nL 1370 992 \nQ 1446 992 1526 989 \nQ 1606 986 1673 976 \nQ 1741 966 1785 947 \nQ 1830 928 1830 902 \nQ 1830 890 1811 819 \nQ 1792 749 1792 678 \nL 1792 -77 \nL 3341 -96 \nL 5248 -83 \nL 5248 -435 \nz\nM 4346 1651 \nQ 4333 1651 3680 1613 \nQ 3354 1600 2979 1581 \nQ 2605 1562 2163 1549 \nQ 1722 1536 1363 1526 \nQ 1005 1517 717 1517 \nQ 685 1517 643 1507 \nQ 602 1498 560 1488 \nQ 518 1478 486 1472 \nQ 454 1466 448 1466 \nQ 403 1466 384 1530 \nL 326 1907 \nQ 435 1888 547 1881 \nQ 659 1875 755 1875 \nQ 858 1875 989 1878 \nQ 1120 1882 1286 1888 \nQ 1613 1907 1683 1907 \nL 1658 3386 \nQ 1882 3386 2003 3363 \nQ 2125 3341 2125 3302 \nQ 2125 3309 2112 3245 \nQ 2080 3130 2080 3066 \nL 2074 1914 \nQ 2310 1914 2521 1917 \nQ 2733 1920 2925 1926 \nQ 3590 1952 3942 1961 \nQ 4294 1971 4346 1971 \nL 4346 1651 \nz\nM 6112 2240 \nQ 6061 2246 5987 2246 \nQ 5914 2246 5818 2253 \nQ 5728 2259 5667 2259 \nQ 5606 2259 5574 2259 \nL 5107 2253 \nL 5107 518 \nL 4659 518 \nQ 4659 966 4672 2028 \nQ 4685 3091 4685 4832 \nQ 4685 5005 4678 5078 \nQ 4672 5152 4659 5190 \nL 4736 5190 \nQ 4909 5190 5043 5174 \nQ 5178 5158 5178 5101 \nQ 5178 5088 5146 4998 \nQ 5114 4909 5114 4838 \nL 5101 2637 \nL 5568 2618 \nL 6112 2630 \nL 6112 2240 \nz\nM 3622 4550 \nQ 3616 4480 3616 4425 \nQ 3616 4371 3610 4320 \nQ 3571 3616 3571 3110 \nQ 3571 2976 3561 2841 \nQ 3552 2707 3539 2566 \nQ 3533 2528 3526 2473 \nQ 3520 2419 3507 2349 \nL 3091 2362 \nQ 3104 2413 3107 2457 \nQ 3110 2502 3117 2534 \nQ 3174 2944 3174 3283 \nQ 3174 3494 3180 3635 \nQ 3187 3776 3194 3904 \nQ 3194 4051 3190 4105 \nQ 3187 4160 3181 4192 \nL 2125 4186 \nQ 1773 4186 1389 4173 \nQ 1005 4160 678 4147 \nL 678 4544 \nQ 774 4538 908 4538 \nQ 1043 4538 1216 4531 \nQ 1402 4525 1530 4525 \nQ 1658 4525 1747 4525 \nL 3622 4550 \nz\n\" id=\"AppleGothic-ad00\" transform=\"scale(0.015625)\"/>\n      <path d=\"M 5670 5075 \nQ 5670 5062 5638 4963 \nQ 5606 4864 5606 4762 \nQ 5600 4653 5600 4505 \nQ 5600 4358 5594 4173 \nQ 5594 3987 5594 3747 \nQ 5594 3507 5587 3200 \nQ 5587 2899 5587 2582 \nQ 5587 2266 5581 1926 \nQ 5581 1658 5584 1322 \nQ 5587 986 5594 570 \nQ 5613 -256 5613 -384 \nL 5171 -410 \nL 5171 422 \nQ 5178 691 5178 1075 \nQ 5178 1459 5184 1978 \nQ 5190 2496 5190 2877 \nQ 5190 3258 5190 3514 \nL 5171 5190 \nQ 5254 5190 5344 5187 \nQ 5434 5184 5507 5171 \nQ 5581 5158 5625 5136 \nQ 5670 5114 5670 5075 \nz\nM 4326 4832 \nQ 4326 4819 4297 4726 \nQ 4269 4634 4269 4576 \nL 4256 659 \nQ 4256 499 4256 390 \nQ 4256 282 4259 198 \nQ 4262 115 4265 51 \nQ 4269 -13 4275 -77 \nL 3840 -115 \nL 3846 1670 \nL 3354 1690 \nL 2810 1683 \nL 2810 2067 \nL 3354 2054 \nL 3846 2061 \nL 3846 2886 \nL 2861 2874 \nL 2861 3296 \nQ 2970 3290 3110 3286 \nQ 3251 3283 3334 3283 \nL 3846 3277 \nL 3853 4627 \nL 3840 4947 \nQ 4026 4947 4176 4928 \nQ 4326 4909 4326 4832 \nz\nM 2938 4461 \nQ 2931 4384 2928 4301 \nQ 2925 4218 2918 4134 \nQ 2867 3718 2765 3315 \nQ 2611 2765 2326 2259 \nQ 2042 1754 1626 1325 \nQ 1338 1024 998 787 \nQ 762 614 723 614 \nQ 710 627 678 649 \nQ 646 672 582 704 \nQ 320 864 320 877 \nL 339 909 \nQ 1178 1235 1824 2214 \nQ 2490 3200 2490 4109 \nL 1843 4115 \nL 717 4090 \nL 717 4493 \nQ 1222 4493 2022 4474 \nQ 2426 4467 2650 4464 \nQ 2874 4461 2938 4461 \nz\n\" id=\"AppleGothic-acc4\" transform=\"scale(0.015625)\"/>\n     </defs>\n     <use xlink:href=\"#AppleGothic-c2dd\"/>\n     <use x=\"99.999985\" xlink:href=\"#AppleGothic-c0ac\"/>\n     <use x=\"199.999969\" xlink:href=\"#AppleGothic-20\"/>\n     <use x=\"231.999954\" xlink:href=\"#AppleGothic-ae08\"/>\n     <use x=\"331.999939\" xlink:href=\"#AppleGothic-c561\"/>\n     <use x=\"431.999924\" xlink:href=\"#AppleGothic-acfc\"/>\n     <use x=\"531.999908\" xlink:href=\"#AppleGothic-20\"/>\n     <use x=\"563.999893\" xlink:href=\"#AppleGothic-d301\"/>\n     <use x=\"663.999878\" xlink:href=\"#AppleGothic-c758\"/>\n     <use x=\"763.999863\" xlink:href=\"#AppleGothic-20\"/>\n     <use x=\"795.999847\" xlink:href=\"#AppleGothic-ad00\"/>\n     <use x=\"895.999832\" xlink:href=\"#AppleGothic-acc4\"/>\n    </g>\n   </g>\n  </g>\n </g>\n <defs>\n  <clipPath id=\"p7cf5adc15b\">\n   <rect height=\"217.44\" width=\"334.8\" x=\"47.133125\" y=\"22.60875\"/>\n  </clipPath>\n </defs>\n</svg>\n",
      "image/png": "[encoded data removed]"
     },
     "metadata": {
      "needs_background": "light"
     }
    }
   ],
   "metadata": {}
  },
  {
   "cell_type": "code",
   "execution_count": 71,
   "source": [
    "sns.jointplot(data=tips, x=\"total_bill\", y=\"tip\");\n",
    "plt.suptitle(\"식사 금액과 팁의 관계 Joint Plot\", y=1.02);"
   ],
   "outputs": [
    {
     "output_type": "display_data",
     "data": {
      "text/plain": [
       "<Figure size 432x432 with 3 Axes>"
      ],
      "image/svg+xml": "<?xml version=\"1.0\" encoding=\"utf-8\" standalone=\"no\"?>\n<!DOCTYPE svg PUBLIC \"-//W3C//DTD SVG 1.1//EN\"\n  \"http://www.w3.org/Graphics/SVG/1.1/DTD/svg11.dtd\">\n<svg height=\"443.230156pt\" version=\"1.1\" viewBox=\"0 0 420.483125 443.230156\" width=\"420.483125pt\" xmlns=\"http://www.w3.org/2000/svg\" xmlns:xlink=\"http://www.w3.org/1999/xlink\">\n <metadata>\n  <rdf:RDF xmlns:cc=\"http://creativecommons.org/ns#\" xmlns:dc=\"http://purl.org/dc/elements/1.1/\" xmlns:rdf=\"http://www.w3.org/1999/02/22-rdf-syntax-ns#\">\n   <cc:Work>\n    <dc:type rdf:resource=\"http://purl.org/dc/dcmitype/StillImage\"/>\n    <dc:date>2021-08-23T11:25:27.843251</dc:date>\n    <dc:format>image/svg+xml</dc:format>\n    <dc:creator>\n     <cc:Agent>\n      <dc:title>Matplotlib v3.4.2, https://matplotlib.org/</dc:title>\n     </cc:Agent>\n    </dc:creator>\n   </cc:Work>\n  </rdf:RDF>\n </metadata>\n <defs>\n  <style type=\"text/css\">*{stroke-linecap:butt;stroke-linejoin:round;}</style>\n </defs>\n <g id=\"figure_1\">\n  <g id=\"patch_1\">\n   <path d=\"M 0 443.230156 \nL 420.483125 443.230156 \nL 420.483125 -0 \nL 0 -0 \nz\n\" style=\"fill:none;\"/>\n  </g>\n  <g id=\"axes_1\">\n   <g id=\"patch_2\">\n    <path d=\"M 47.133125 400.54 \nL 350.514554 400.54 \nL 350.514554 90.737143 \nL 47.133125 90.737143 \nz\n\" style=\"fill:#eaeaf2;\"/>\n   </g>\n   <g id=\"matplotlib.axis_1\">\n    <g id=\"xtick_1\">\n     <g id=\"line2d_1\">\n      <path clip-path=\"url(#pde31759458)\" d=\"M 100.958862 400.54 \nL 100.958862 90.737143 \n\" style=\"fill:none;stroke:#ffffff;stroke-linecap:round;\"/>\n     </g>\n     <g id=\"text_1\">\n      <!-- 10 -->\n      <g style=\"fill:#262626;\" transform=\"translate(93.478862 418.664687)scale(0.11 -0.11)\">\n       <defs>\n        <path d=\"M 2342 4774 \nL 2752 4774 \nL 2752 0 \nL 2285 0 \nL 2285 3526 \nL 1158 3526 \nL 1158 3885 \nL 1414 3885 \nQ 1990 3885 2214 4205 \nQ 2342 4410 2342 4774 \nz\n\" id=\"AppleGothic-31\" transform=\"scale(0.015625)\"/>\n        <path d=\"M 2227 -83 \nQ 1414 -83 934 576 \nQ 461 1229 461 2387 \nQ 461 3552 973 4218 \nQ 1453 4858 2221 4858 \nQ 3027 4858 3482 4173 \nQ 3955 3494 3955 2394 \nQ 3955 1248 3462 582 \nQ 2976 -83 2227 -83 \nz\nM 2176 346 \nQ 2861 346 3200 992 \nQ 3462 1536 3462 2400 \nQ 3462 3315 3162 3859 \nQ 2822 4429 2214 4429 \nQ 1574 4429 1248 3821 \nQ 960 3283 960 2374 \nQ 960 1478 1248 941 \nQ 1574 346 2176 346 \nz\n\" id=\"AppleGothic-30\" transform=\"scale(0.015625)\"/>\n       </defs>\n       <use xlink:href=\"#AppleGothic-31\"/>\n       <use x=\"67.999985\" xlink:href=\"#AppleGothic-30\"/>\n      </g>\n     </g>\n    </g>\n    <g id=\"xtick_2\">\n     <g id=\"line2d_2\">\n      <path clip-path=\"url(#pde31759458)\" d=\"M 158.730395 400.54 \nL 158.730395 90.737143 \n\" style=\"fill:none;stroke:#ffffff;stroke-linecap:round;\"/>\n     </g>\n     <g id=\"text_2\">\n      <!-- 20 -->\n      <g style=\"fill:#262626;\" transform=\"translate(151.250395 418.664687)scale(0.11 -0.11)\">\n       <defs>\n        <path d=\"M 1101 429 \nL 3942 429 \nL 3942 0 \nL 653 0 \nL 653 205 \nQ 653 1018 1344 1664 \nQ 1670 1894 1990 2124 \nQ 2310 2355 2637 2592 \nQ 3334 3098 3334 3597 \nQ 3334 3994 3014 4218 \nQ 2867 4326 2694 4377 \nQ 2522 4429 2317 4429 \nQ 2016 4429 1741 4352 \nQ 1325 4224 883 3910 \nL 883 4435 \nQ 1325 4659 1667 4758 \nQ 2010 4858 2317 4858 \nQ 2963 4858 3405 4525 \nQ 3840 4198 3840 3622 \nQ 3840 2995 3168 2438 \nQ 2848 2214 2531 2000 \nQ 2214 1786 1894 1562 \nQ 1178 1024 1101 429 \nz\n\" id=\"AppleGothic-32\" transform=\"scale(0.015625)\"/>\n       </defs>\n       <use xlink:href=\"#AppleGothic-32\"/>\n       <use x=\"67.999985\" xlink:href=\"#AppleGothic-30\"/>\n      </g>\n     </g>\n    </g>\n    <g id=\"xtick_3\">\n     <g id=\"line2d_3\">\n      <path clip-path=\"url(#pde31759458)\" d=\"M 216.501928 400.54 \nL 216.501928 90.737143 \n\" style=\"fill:none;stroke:#ffffff;stroke-linecap:round;\"/>\n     </g>\n     <g id=\"text_3\">\n      <!-- 30 -->\n      <g style=\"fill:#262626;\" transform=\"translate(209.021928 418.664687)scale(0.11 -0.11)\">\n       <defs>\n        <path d=\"M 550 333 \nL 550 870 \nQ 883 621 1235 483 \nQ 1587 346 1971 346 \nQ 2522 346 2861 666 \nQ 3219 992 3219 1421 \nQ 3219 1869 2842 2099 \nQ 2515 2304 1965 2304 \nL 992 2304 \nL 992 2701 \nL 1658 2701 \nQ 2298 2701 2662 2928 \nQ 3027 3155 3027 3584 \nQ 3027 3936 2752 4173 \nQ 2458 4429 1978 4429 \nQ 1786 4429 1597 4393 \nQ 1408 4358 1222 4282 \nQ 890 4141 531 3872 \nL 531 4422 \nQ 736 4531 912 4608 \nQ 1088 4685 1254 4736 \nQ 1626 4858 2022 4858 \nQ 2650 4858 3066 4531 \nQ 3488 4211 3488 3642 \nQ 3488 3168 3168 2861 \nQ 2976 2675 2643 2554 \nQ 2874 2522 3053 2448 \nQ 3232 2374 3366 2266 \nQ 3718 1971 3718 1434 \nQ 3718 813 3219 365 \nQ 2714 -83 1965 -83 \nQ 1549 -83 1126 70 \nQ 1024 102 880 166 \nQ 736 230 550 333 \nz\n\" id=\"AppleGothic-33\" transform=\"scale(0.015625)\"/>\n       </defs>\n       <use xlink:href=\"#AppleGothic-33\"/>\n       <use x=\"67.999985\" xlink:href=\"#AppleGothic-30\"/>\n      </g>\n     </g>\n    </g>\n    <g id=\"xtick_4\">\n     <g id=\"line2d_4\">\n      <path clip-path=\"url(#pde31759458)\" d=\"M 274.273461 400.54 \nL 274.273461 90.737143 \n\" style=\"fill:none;stroke:#ffffff;stroke-linecap:round;\"/>\n     </g>\n     <g id=\"text_4\">\n      <!-- 40 -->\n      <g style=\"fill:#262626;\" transform=\"translate(266.793461 418.664687)scale(0.11 -0.11)\">\n       <defs>\n        <path d=\"M 2662 4774 \nL 3130 4774 \nL 3130 1811 \nL 4000 1811 \nL 4000 1382 \nL 3130 1382 \nL 3130 0 \nL 2662 0 \nL 2662 1382 \nL 352 1382 \nL 352 1811 \nL 2662 4774 \nz\nM 2662 1811 \nL 2662 4166 \nL 838 1811 \nL 2662 1811 \nz\n\" id=\"AppleGothic-34\" transform=\"scale(0.015625)\"/>\n       </defs>\n       <use xlink:href=\"#AppleGothic-34\"/>\n       <use x=\"67.999985\" xlink:href=\"#AppleGothic-30\"/>\n      </g>\n     </g>\n    </g>\n    <g id=\"xtick_5\">\n     <g id=\"line2d_5\">\n      <path clip-path=\"url(#pde31759458)\" d=\"M 332.044994 400.54 \nL 332.044994 90.737143 \n\" style=\"fill:none;stroke:#ffffff;stroke-linecap:round;\"/>\n     </g>\n     <g id=\"text_5\">\n      <!-- 50 -->\n      <g style=\"fill:#262626;\" transform=\"translate(324.564994 418.664687)scale(0.11 -0.11)\">\n       <defs>\n        <path d=\"M 621 4768 \nL 3488 4768 \nL 3488 4339 \nL 1088 4339 \nL 1088 2707 \nQ 1184 2771 1293 2819 \nQ 1402 2867 1510 2912 \nQ 1862 3040 2259 3040 \nQ 2989 3040 3424 2605 \nQ 3827 2202 3827 1581 \nQ 3827 870 3296 397 \nQ 2765 -83 2010 -83 \nQ 1651 -83 1248 45 \nQ 1158 77 1001 137 \nQ 845 198 621 301 \nL 621 838 \nQ 928 640 1203 525 \nQ 1408 435 1613 390 \nQ 1818 346 2010 346 \nQ 2528 346 2906 666 \nQ 3322 1011 3322 1536 \nQ 3322 1990 3021 2291 \nQ 2701 2611 2144 2611 \nQ 1856 2611 1587 2528 \nQ 1318 2445 1088 2272 \nL 621 2272 \nL 621 4768 \nz\n\" id=\"AppleGothic-35\" transform=\"scale(0.015625)\"/>\n       </defs>\n       <use xlink:href=\"#AppleGothic-35\"/>\n       <use x=\"67.999985\" xlink:href=\"#AppleGothic-30\"/>\n      </g>\n     </g>\n    </g>\n    <g id=\"text_6\">\n     <!-- total_bill -->\n     <g style=\"fill:#262626;\" transform=\"translate(177.498527 433.965781)scale(0.12 -0.12)\">\n      <defs>\n       <path d=\"M 691 4435 \nL 1114 4435 \nL 1114 3430 \nL 2016 3430 \nL 2016 3014 \nL 1114 3014 \nL 1114 838 \nQ 1114 570 1213 454 \nQ 1312 339 1555 339 \nQ 1696 339 1795 371 \nQ 1894 403 2016 454 \nL 2016 38 \nQ 1914 6 1770 -22 \nQ 1626 -51 1478 -51 \nQ 1094 -51 883 122 \nQ 646 301 646 698 \nL 646 3014 \nL 70 3014 \nL 70 3430 \nL 646 3430 \nL 691 4435 \nz\n\" id=\"AppleGothic-74\" transform=\"scale(0.015625)\"/>\n       <path d=\"M 1888 -83 \nQ 1229 -83 730 397 \nQ 198 902 198 1709 \nQ 198 2470 666 2982 \nQ 1146 3501 1850 3501 \nQ 2547 3501 3027 2982 \nQ 3501 2470 3501 1715 \nQ 3501 922 2989 403 \nQ 2515 -83 1888 -83 \nz\nM 1843 339 \nQ 2304 339 2662 723 \nQ 3008 1114 3008 1715 \nQ 3008 2336 2637 2726 \nQ 2298 3085 1850 3085 \nQ 1389 3085 1062 2714 \nQ 704 2304 704 1709 \nQ 704 1107 1056 704 \nQ 1382 339 1843 339 \nz\n\" id=\"AppleGothic-6f\" transform=\"scale(0.015625)\"/>\n       <path d=\"M 2950 2214 \nL 2950 602 \nQ 2950 493 2998 413 \nQ 3046 333 3174 333 \nQ 3213 333 3238 336 \nQ 3264 339 3290 346 \nQ 3328 358 3357 371 \nQ 3386 384 3405 390 \nL 3405 32 \nQ 3290 -6 3174 -22 \nQ 3059 -38 2995 -38 \nQ 2669 -38 2566 134 \nQ 2483 243 2483 602 \nQ 2400 461 2317 355 \nQ 2234 250 2150 179 \nQ 1818 -83 1376 -83 \nQ 909 -83 563 192 \nQ 205 486 205 941 \nQ 205 1510 781 1779 \nQ 992 1882 1341 1958 \nQ 1690 2035 2176 2099 \nL 2483 2131 \nQ 2483 2579 2256 2832 \nQ 2029 3085 1587 3085 \nQ 1421 3085 1257 3043 \nQ 1094 3002 928 2912 \nQ 838 2861 729 2790 \nQ 621 2720 493 2611 \nL 493 3136 \nQ 1037 3501 1664 3501 \nQ 2304 3501 2650 3098 \nQ 2950 2746 2950 2214 \nz\nM 2483 1542 \nL 2483 1747 \nL 2266 1722 \nQ 1466 1638 1139 1498 \nQ 704 1325 704 934 \nQ 704 819 755 713 \nQ 806 608 896 525 \nQ 986 442 1117 390 \nQ 1248 339 1408 339 \nQ 1843 339 2170 691 \nQ 2483 1050 2483 1542 \nz\n\" id=\"AppleGothic-61\" transform=\"scale(0.015625)\"/>\n       <path d=\"M 288 5018 \nL 749 5018 \nL 749 0 \nL 288 0 \nL 288 5018 \nz\n\" id=\"AppleGothic-6c\" transform=\"scale(0.015625)\"/>\n       <path d=\"M 0 -659 \nL 3200 -659 \nL 3200 -832 \nL 0 -832 \nL 0 -659 \nz\n\" id=\"AppleGothic-5f\" transform=\"scale(0.015625)\"/>\n       <path d=\"M 288 5018 \nL 755 5018 \nL 755 2848 \nQ 845 2982 931 3078 \nQ 1018 3174 1107 3245 \nQ 1440 3501 1882 3501 \nQ 2547 3501 2976 2995 \nQ 3418 2483 3418 1754 \nQ 3418 1005 2976 480 \nQ 2502 -83 1792 -83 \nQ 1402 -83 1114 90 \nQ 928 192 755 384 \nL 634 0 \nL 288 0 \nL 288 5018 \nz\nM 755 1862 \nL 755 870 \nQ 845 762 934 678 \nQ 1024 595 1101 538 \nQ 1382 339 1741 339 \nQ 2234 339 2554 742 \nQ 2874 1158 2874 1747 \nQ 2874 2362 2515 2752 \nQ 2208 3085 1805 3085 \nQ 1370 3085 1056 2714 \nQ 755 2355 755 1862 \nz\n\" id=\"AppleGothic-62\" transform=\"scale(0.015625)\"/>\n       <path d=\"M 256 3424 \nL 717 3424 \nL 717 0 \nL 256 0 \nL 256 3424 \nz\nM 480 4870 \nQ 614 4870 704 4780 \nQ 794 4691 794 4525 \nQ 794 4358 710 4268 \nQ 627 4179 480 4179 \nQ 333 4179 253 4281 \nQ 173 4384 173 4518 \nQ 173 4730 269 4800 \nQ 365 4870 480 4870 \nz\n\" id=\"AppleGothic-69\" transform=\"scale(0.015625)\"/>\n      </defs>\n      <use xlink:href=\"#AppleGothic-74\"/>\n      <use x=\"34.199997\" xlink:href=\"#AppleGothic-6f\"/>\n      <use x=\"92.499985\" xlink:href=\"#AppleGothic-74\"/>\n      <use x=\"126.699982\" xlink:href=\"#AppleGothic-61\"/>\n      <use x=\"183.199966\" xlink:href=\"#AppleGothic-6c\"/>\n      <use x=\"199.899963\" xlink:href=\"#AppleGothic-5f\"/>\n      <use x=\"249.899948\" xlink:href=\"#AppleGothic-62\"/>\n      <use x=\"306.099945\" xlink:href=\"#AppleGothic-69\"/>\n      <use x=\"321.999939\" xlink:href=\"#AppleGothic-6c\"/>\n      <use x=\"338.699936\" xlink:href=\"#AppleGothic-6c\"/>\n     </g>\n    </g>\n   </g>\n   <g id=\"matplotlib.axis_2\">\n    <g id=\"ytick_1\">\n     <g id=\"line2d_6\">\n      <path clip-path=\"url(#pde31759458)\" d=\"M 47.133125 355.164834 \nL 350.514554 355.164834 \n\" style=\"fill:none;stroke:#ffffff;stroke-linecap:round;\"/>\n     </g>\n     <g id=\"text_7\">\n      <!-- 2 -->\n      <g style=\"fill:#262626;\" transform=\"translate(30.153125 359.477178)scale(0.11 -0.11)\">\n       <use xlink:href=\"#AppleGothic-32\"/>\n      </g>\n     </g>\n    </g>\n    <g id=\"ytick_2\">\n     <g id=\"line2d_7\">\n      <path clip-path=\"url(#pde31759458)\" d=\"M 47.133125 292.578398 \nL 350.514554 292.578398 \n\" style=\"fill:none;stroke:#ffffff;stroke-linecap:round;\"/>\n     </g>\n     <g id=\"text_8\">\n      <!-- 4 -->\n      <g style=\"fill:#262626;\" transform=\"translate(30.153125 296.890742)scale(0.11 -0.11)\">\n       <use xlink:href=\"#AppleGothic-34\"/>\n      </g>\n     </g>\n    </g>\n    <g id=\"ytick_3\">\n     <g id=\"line2d_8\">\n      <path clip-path=\"url(#pde31759458)\" d=\"M 47.133125 229.991962 \nL 350.514554 229.991962 \n\" style=\"fill:none;stroke:#ffffff;stroke-linecap:round;\"/>\n     </g>\n     <g id=\"text_9\">\n      <!-- 6 -->\n      <g style=\"fill:#262626;\" transform=\"translate(30.153125 234.304306)scale(0.11 -0.11)\">\n       <defs>\n        <path d=\"M 3699 4557 \nL 3699 4013 \nQ 3584 4102 3475 4163 \nQ 3366 4224 3258 4275 \nQ 3085 4358 2918 4393 \nQ 2752 4429 2586 4429 \nQ 2470 4429 2352 4409 \nQ 2234 4390 2118 4339 \nQ 1670 4154 1395 3738 \nQ 1011 3149 1011 2189 \nQ 1312 2490 1568 2656 \nQ 2022 2931 2534 2931 \nQ 3162 2931 3584 2566 \nQ 4038 2163 4038 1491 \nQ 4038 806 3558 358 \nQ 3078 -83 2394 -83 \nQ 1670 -83 1146 454 \nQ 518 1088 518 2253 \nQ 518 3411 1120 4134 \nQ 1715 4858 2605 4858 \nQ 2938 4858 3226 4762 \nQ 3309 4730 3427 4682 \nQ 3546 4634 3699 4557 \nz\nM 1062 1702 \nQ 1152 1152 1498 768 \nQ 1882 346 2419 346 \nQ 2899 346 3213 659 \nQ 3539 973 3539 1459 \nQ 3539 1920 3226 2214 \nQ 2918 2502 2496 2502 \nQ 1990 2502 1542 2176 \nQ 1414 2080 1292 1965 \nQ 1171 1850 1062 1702 \nz\n\" id=\"AppleGothic-36\" transform=\"scale(0.015625)\"/>\n       </defs>\n       <use xlink:href=\"#AppleGothic-36\"/>\n      </g>\n     </g>\n    </g>\n    <g id=\"ytick_4\">\n     <g id=\"line2d_9\">\n      <path clip-path=\"url(#pde31759458)\" d=\"M 47.133125 167.405527 \nL 350.514554 167.405527 \n\" style=\"fill:none;stroke:#ffffff;stroke-linecap:round;\"/>\n     </g>\n     <g id=\"text_10\">\n      <!-- 8 -->\n      <g style=\"fill:#262626;\" transform=\"translate(30.153125 171.71787)scale(0.11 -0.11)\">\n       <defs>\n        <path d=\"M 2957 2605 \nQ 3219 2528 3404 2445 \nQ 3590 2362 3706 2272 \nQ 4192 1926 4192 1370 \nQ 4192 749 3642 333 \nQ 3098 -83 2285 -83 \nQ 1434 -83 947 326 \nQ 512 691 512 1229 \nQ 512 1798 998 2125 \nQ 1146 2227 1341 2304 \nQ 1536 2381 1779 2451 \nQ 1574 2534 1430 2617 \nQ 1286 2701 1197 2784 \nQ 819 3104 819 3603 \nQ 819 4173 1261 4512 \nQ 1702 4858 2381 4858 \nQ 3014 4858 3437 4570 \nQ 3898 4262 3898 3738 \nQ 3898 3373 3670 3081 \nQ 3443 2790 2957 2605 \nz\nM 2406 2752 \nQ 2624 2835 2781 2915 \nQ 2938 2995 3040 3066 \nQ 3398 3322 3398 3667 \nQ 3398 3994 3104 4205 \nQ 2822 4429 2362 4429 \nQ 1894 4429 1613 4205 \nQ 1325 3994 1325 3635 \nQ 1325 3322 1581 3098 \nQ 1696 3002 1901 2912 \nQ 2106 2822 2406 2752 \nz\nM 2368 2304 \nQ 2061 2202 1840 2106 \nQ 1619 2010 1472 1920 \nQ 1011 1626 1011 1235 \nQ 1011 845 1376 595 \nQ 1728 346 2310 346 \nQ 2938 346 3315 640 \nQ 3693 934 3693 1338 \nQ 3693 1741 3238 1997 \nQ 3104 2067 2886 2147 \nQ 2669 2227 2368 2304 \nz\n\" id=\"AppleGothic-38\" transform=\"scale(0.015625)\"/>\n       </defs>\n       <use xlink:href=\"#AppleGothic-38\"/>\n      </g>\n     </g>\n    </g>\n    <g id=\"ytick_5\">\n     <g id=\"line2d_10\">\n      <path clip-path=\"url(#pde31759458)\" d=\"M 47.133125 104.819091 \nL 350.514554 104.819091 \n\" style=\"fill:none;stroke:#ffffff;stroke-linecap:round;\"/>\n     </g>\n     <g id=\"text_11\">\n      <!-- 10 -->\n      <g style=\"fill:#262626;\" transform=\"translate(22.673125 109.131435)scale(0.11 -0.11)\">\n       <use xlink:href=\"#AppleGothic-31\"/>\n       <use x=\"67.999985\" xlink:href=\"#AppleGothic-30\"/>\n      </g>\n     </g>\n    </g>\n    <g id=\"text_12\">\n     <!-- tip -->\n     <g style=\"fill:#262626;\" transform=\"translate(16.60875 251.969509)rotate(-90)scale(0.12 -0.12)\">\n      <defs>\n       <path d=\"M 736 307 \nL 736 -1101 \nL 288 -1101 \nL 288 3424 \nL 704 3424 \nL 730 2803 \nQ 941 3149 1216 3325 \nQ 1491 3501 1882 3501 \nQ 2522 3501 2944 3002 \nQ 3162 2752 3270 2441 \nQ 3379 2131 3379 1747 \nQ 3379 954 2899 435 \nQ 2419 -83 1754 -83 \nQ 1421 -83 1139 58 \nQ 1056 90 960 154 \nQ 864 218 736 307 \nz\nM 736 1824 \nL 736 800 \nQ 838 704 924 637 \nQ 1011 570 1082 525 \nQ 1395 339 1715 339 \nQ 2227 339 2554 742 \nQ 2886 1165 2886 1766 \nQ 2886 2330 2579 2707 \nQ 2278 3085 1811 3085 \nQ 1331 3085 1018 2669 \nQ 736 2291 736 1824 \nz\n\" id=\"AppleGothic-70\" transform=\"scale(0.015625)\"/>\n      </defs>\n      <use xlink:href=\"#AppleGothic-74\"/>\n      <use x=\"34.199997\" xlink:href=\"#AppleGothic-69\"/>\n      <use x=\"50.099991\" xlink:href=\"#AppleGothic-70\"/>\n     </g>\n    </g>\n   </g>\n   <g id=\"PathCollection_1\">\n    <defs>\n     <path d=\"M 0 3 \nC 0.795609 3 1.55874 2.683901 2.12132 2.12132 \nC 2.683901 1.55874 3 0.795609 3 0 \nC 3 -0.795609 2.683901 -1.55874 2.12132 -2.12132 \nC 1.55874 -2.683901 0.795609 -3 0 -3 \nC -0.795609 -3 -1.55874 -2.683901 -2.12132 -2.12132 \nC -2.683901 -1.55874 -3 -0.795609 -3 0 \nC -3 0.795609 -2.683901 1.55874 -2.12132 2.12132 \nC -1.55874 2.683901 -0.795609 3 0 3 \nz\n\" id=\"m8e359cdc16\" style=\"stroke:#ffffff;stroke-width:0.48;\"/>\n    </defs>\n    <g clip-path=\"url(#pde31759458)\">\n     <use style=\"fill:#4c72b0;stroke:#ffffff;stroke-width:0.48;\" x=\"141.341164\" xlink:href=\"#m8e359cdc16\" y=\"386.14512\"/>\n     <use style=\"fill:#4c72b0;stroke:#ffffff;stroke-width:0.48;\" x=\"102.923094\" xlink:href=\"#m8e359cdc16\" y=\"365.804528\"/>\n     <use style=\"fill:#4c72b0;stroke:#ffffff;stroke-width:0.48;\" x=\"164.56532\" xlink:href=\"#m8e359cdc16\" y=\"308.225007\"/>\n     <use style=\"fill:#4c72b0;stroke:#ffffff;stroke-width:0.48;\" x=\"179.99032\" xlink:href=\"#m8e359cdc16\" y=\"314.170719\"/>\n     <use style=\"fill:#4c72b0;stroke:#ffffff;stroke-width:0.48;\" x=\"185.247529\" xlink:href=\"#m8e359cdc16\" y=\"304.782753\"/>\n     <use style=\"fill:#4c72b0;stroke:#ffffff;stroke-width:0.48;\" x=\"189.291536\" xlink:href=\"#m8e359cdc16\" y=\"270.360214\"/>\n     <use style=\"fill:#4c72b0;stroke:#ffffff;stroke-width:0.48;\" x=\"93.852964\" xlink:href=\"#m8e359cdc16\" y=\"355.164834\"/>\n     <use style=\"fill:#4c72b0;stroke:#ffffff;stroke-width:0.48;\" x=\"198.47721\" xlink:href=\"#m8e359cdc16\" y=\"320.11643\"/>\n     <use style=\"fill:#4c72b0;stroke:#ffffff;stroke-width:0.48;\" x=\"130.075715\" xlink:href=\"#m8e359cdc16\" y=\"356.416563\"/>\n     <use style=\"fill:#4c72b0;stroke:#ffffff;stroke-width:0.48;\" x=\"128.573655\" xlink:href=\"#m8e359cdc16\" y=\"316.674176\"/>\n     <use style=\"fill:#4c72b0;stroke:#ffffff;stroke-width:0.48;\" x=\"102.518694\" xlink:href=\"#m8e359cdc16\" y=\"364.239867\"/>\n     <use style=\"fill:#4c72b0;stroke:#ffffff;stroke-width:0.48;\" x=\"246.889755\" xlink:href=\"#m8e359cdc16\" y=\"261.28518\"/>\n     <use style=\"fill:#4c72b0;stroke:#ffffff;stroke-width:0.48;\" x=\"132.271033\" xlink:href=\"#m8e359cdc16\" y=\"368.620918\"/>\n     <use style=\"fill:#4c72b0;stroke:#ffffff;stroke-width:0.48;\" x=\"149.660265\" xlink:href=\"#m8e359cdc16\" y=\"323.871616\"/>\n     <use style=\"fill:#4c72b0;stroke:#ffffff;stroke-width:0.48;\" x=\"128.862513\" xlink:href=\"#m8e359cdc16\" y=\"323.245752\"/>\n     <use style=\"fill:#4c72b0;stroke:#ffffff;stroke-width:0.48;\" x=\"167.858298\" xlink:href=\"#m8e359cdc16\" y=\"295.081856\"/>\n     <use style=\"fill:#4c72b0;stroke:#ffffff;stroke-width:0.48;\" x=\"102.865323\" xlink:href=\"#m8e359cdc16\" y=\"365.491596\"/>\n     <use style=\"fill:#4c72b0;stroke:#ffffff;stroke-width:0.48;\" x=\"137.297157\" xlink:href=\"#m8e359cdc16\" y=\"301.653431\"/>\n     <use style=\"fill:#4c72b0;stroke:#ffffff;stroke-width:0.48;\" x=\"141.225621\" xlink:href=\"#m8e359cdc16\" y=\"308.225007\"/>\n     <use style=\"fill:#4c72b0;stroke:#ffffff;stroke-width:0.48;\" x=\"162.485545\" xlink:href=\"#m8e359cdc16\" y=\"312.91899\"/>\n     <use style=\"fill:#4c72b0;stroke:#ffffff;stroke-width:0.48;\" x=\"146.713916\" xlink:href=\"#m8e359cdc16\" y=\"290.074941\"/>\n     <use style=\"fill:#4c72b0;stroke:#ffffff;stroke-width:0.48;\" x=\"160.40577\" xlink:href=\"#m8e359cdc16\" y=\"331.694921\"/>\n     <use style=\"fill:#4c72b0;stroke:#ffffff;stroke-width:0.48;\" x=\"134.293037\" xlink:href=\"#m8e359cdc16\" y=\"347.967394\"/>\n     <use style=\"fill:#4c72b0;stroke:#ffffff;stroke-width:0.48;\" x=\"270.922713\" xlink:href=\"#m8e359cdc16\" y=\"180.548678\"/>\n     <use style=\"fill:#4c72b0;stroke:#ffffff;stroke-width:0.48;\" x=\"157.690508\" xlink:href=\"#m8e359cdc16\" y=\"318.238837\"/>\n     <use style=\"fill:#4c72b0;stroke:#ffffff;stroke-width:0.48;\" x=\"146.07843\" xlink:href=\"#m8e359cdc16\" y=\"344.52514\"/>\n     <use style=\"fill:#4c72b0;stroke:#ffffff;stroke-width:0.48;\" x=\"120.427869\" xlink:href=\"#m8e359cdc16\" y=\"355.164834\"/>\n     <use style=\"fill:#4c72b0;stroke:#ffffff;stroke-width:0.48;\" x=\"116.499405\" xlink:href=\"#m8e359cdc16\" y=\"355.164834\"/>\n     <use style=\"fill:#4c72b0;stroke:#ffffff;stroke-width:0.48;\" x=\"168.551556\" xlink:href=\"#m8e359cdc16\" y=\"283.190433\"/>\n     <use style=\"fill:#4c72b0;stroke:#ffffff;stroke-width:0.48;\" x=\"156.708392\" xlink:href=\"#m8e359cdc16\" y=\"323.871616\"/>\n     <use style=\"fill:#4c72b0;stroke:#ffffff;stroke-width:0.48;\" x=\"98.359143\" xlink:href=\"#m8e359cdc16\" y=\"372.376104\"/>\n     <use style=\"fill:#4c72b0;stroke:#ffffff;stroke-width:0.48;\" x=\"149.198092\" xlink:href=\"#m8e359cdc16\" y=\"339.518225\"/>\n     <use style=\"fill:#4c72b0;stroke:#ffffff;stroke-width:0.48;\" x=\"130.191258\" xlink:href=\"#m8e359cdc16\" y=\"323.871616\"/>\n     <use style=\"fill:#4c72b0;stroke:#ffffff;stroke-width:0.48;\" x=\"162.716631\" xlink:href=\"#m8e359cdc16\" y=\"341.082886\"/>\n     <use style=\"fill:#4c72b0;stroke:#ffffff;stroke-width:0.48;\" x=\"145.905115\" xlink:href=\"#m8e359cdc16\" y=\"315.422447\"/>\n     <use style=\"fill:#4c72b0;stroke:#ffffff;stroke-width:0.48;\" x=\"182.185638\" xlink:href=\"#m8e359cdc16\" y=\"305.095685\"/>\n     <use style=\"fill:#4c72b0;stroke:#ffffff;stroke-width:0.48;\" x=\"137.4127\" xlink:href=\"#m8e359cdc16\" y=\"355.164834\"/>\n     <use style=\"fill:#4c72b0;stroke:#ffffff;stroke-width:0.48;\" x=\"140.994535\" xlink:href=\"#m8e359cdc16\" y=\"321.681091\"/>\n     <use style=\"fill:#4c72b0;stroke:#ffffff;stroke-width:0.48;\" x=\"151.162325\" xlink:href=\"#m8e359cdc16\" y=\"345.463937\"/>\n     <use style=\"fill:#4c72b0;stroke:#ffffff;stroke-width:0.48;\" x=\"223.838913\" xlink:href=\"#m8e359cdc16\" y=\"261.28518\"/>\n     <use style=\"fill:#4c72b0;stroke:#ffffff;stroke-width:0.48;\" x=\"135.852868\" xlink:href=\"#m8e359cdc16\" y=\"347.654462\"/>\n     <use style=\"fill:#4c72b0;stroke:#ffffff;stroke-width:0.48;\" x=\"144.056426\" xlink:href=\"#m8e359cdc16\" y=\"338.266496\"/>\n     <use style=\"fill:#4c72b0;stroke:#ffffff;stroke-width:0.48;\" x=\"123.720846\" xlink:href=\"#m8e359cdc16\" y=\"321.994023\"/>\n     <use style=\"fill:#4c72b0;stroke:#ffffff;stroke-width:0.48;\" x=\"99.110173\" xlink:href=\"#m8e359cdc16\" y=\"376.444222\"/>\n     <use style=\"fill:#4c72b0;stroke:#ffffff;stroke-width:0.48;\" x=\"218.81279\" xlink:href=\"#m8e359cdc16\" y=\"242.50925\"/>\n     <use style=\"fill:#4c72b0;stroke:#ffffff;stroke-width:0.48;\" x=\"148.851463\" xlink:href=\"#m8e359cdc16\" y=\"323.871616\"/>\n     <use style=\"fill:#4c72b0;stroke:#ffffff;stroke-width:0.48;\" x=\"171.613447\" xlink:href=\"#m8e359cdc16\" y=\"261.28518\"/>\n     <use style=\"fill:#4c72b0;stroke:#ffffff;stroke-width:0.48;\" x=\"230.367096\" xlink:href=\"#m8e359cdc16\" y=\"229.991962\"/>\n     <use style=\"fill:#4c72b0;stroke:#ffffff;stroke-width:0.48;\" x=\"208.125056\" xlink:href=\"#m8e359cdc16\" y=\"353.600173\"/>\n     <use style=\"fill:#4c72b0;stroke:#ffffff;stroke-width:0.48;\" x=\"147.407175\" xlink:href=\"#m8e359cdc16\" y=\"323.871616\"/>\n     <use style=\"fill:#4c72b0;stroke:#ffffff;stroke-width:0.48;\" x=\"115.632832\" xlink:href=\"#m8e359cdc16\" y=\"339.518225\"/>\n     <use style=\"fill:#4c72b0;stroke:#ffffff;stroke-width:0.48;\" x=\"102.634237\" xlink:href=\"#m8e359cdc16\" y=\"336.388903\"/>\n     <use style=\"fill:#4c72b0;stroke:#ffffff;stroke-width:0.48;\" x=\"244.290036\" xlink:href=\"#m8e359cdc16\" y=\"255.026537\"/>\n     <use style=\"fill:#4c72b0;stroke:#ffffff;stroke-width:0.48;\" x=\"100.612233\" xlink:href=\"#m8e359cdc16\" y=\"368.93385\"/>\n     <use style=\"fill:#4c72b0;stroke:#ffffff;stroke-width:0.48;\" x=\"190.851368\" xlink:href=\"#m8e359cdc16\" y=\"281.938704\"/>\n     <use style=\"fill:#4c72b0;stroke:#ffffff;stroke-width:0.48;\" x=\"155.784047\" xlink:href=\"#m8e359cdc16\" y=\"307.912075\"/>\n     <use style=\"fill:#4c72b0;stroke:#ffffff;stroke-width:0.48;\" x=\"262.776926\" xlink:href=\"#m8e359cdc16\" y=\"323.871616\"/>\n     <use style=\"fill:#4c72b0;stroke:#ffffff;stroke-width:0.48;\" x=\"195.761948\" xlink:href=\"#m8e359cdc16\" y=\"370.811443\"/>\n     <use style=\"fill:#4c72b0;stroke:#ffffff;stroke-width:0.48;\" x=\"108.122532\" xlink:href=\"#m8e359cdc16\" y=\"362.675206\"/>\n     <use style=\"fill:#4c72b0;stroke:#ffffff;stroke-width:0.48;\" x=\"322.050519\" xlink:href=\"#m8e359cdc16\" y=\"207.147913\"/>\n     <use style=\"fill:#4c72b0;stroke:#ffffff;stroke-width:0.48;\" x=\"160.40577\" xlink:href=\"#m8e359cdc16\" y=\"317.30004\"/>\n     <use style=\"fill:#4c72b0;stroke:#ffffff;stroke-width:0.48;\" x=\"122.969816\" xlink:href=\"#m8e359cdc16\" y=\"355.164834\"/>\n     <use style=\"fill:#4c72b0;stroke:#ffffff;stroke-width:0.48;\" x=\"106.851559\" xlink:href=\"#m8e359cdc16\" y=\"355.790698\"/>\n     <use style=\"fill:#4c72b0;stroke:#ffffff;stroke-width:0.48;\" x=\"148.851463\" xlink:href=\"#m8e359cdc16\" y=\"300.088771\"/>\n     <use style=\"fill:#4c72b0;stroke:#ffffff;stroke-width:0.48;\" x=\"144.807456\" xlink:href=\"#m8e359cdc16\" y=\"335.137175\"/>\n     <use style=\"fill:#4c72b0;stroke:#ffffff;stroke-width:0.48;\" x=\"159.192568\" xlink:href=\"#m8e359cdc16\" y=\"319.177633\"/>\n     <use style=\"fill:#4c72b0;stroke:#ffffff;stroke-width:0.48;\" x=\"138.221501\" xlink:href=\"#m8e359cdc16\" y=\"340.457022\"/>\n     <use style=\"fill:#4c72b0;stroke:#ffffff;stroke-width:0.48;\" x=\"60.92319\" xlink:href=\"#m8e359cdc16\" y=\"386.458052\"/>\n     <use style=\"fill:#4c72b0;stroke:#ffffff;stroke-width:0.48;\" x=\"160.059141\" xlink:href=\"#m8e359cdc16\" y=\"354.851902\"/>\n     <use style=\"fill:#4c72b0;stroke:#ffffff;stroke-width:0.48;\" x=\"129.9024\" xlink:href=\"#m8e359cdc16\" y=\"352.348444\"/>\n     <use style=\"fill:#4c72b0;stroke:#ffffff;stroke-width:0.48;\" x=\"112.628712\" xlink:href=\"#m8e359cdc16\" y=\"356.103631\"/>\n     <use style=\"fill:#4c72b0;stroke:#ffffff;stroke-width:0.48;\" x=\"141.803336\" xlink:href=\"#m8e359cdc16\" y=\"323.871616\"/>\n     <use style=\"fill:#4c72b0;stroke:#ffffff;stroke-width:0.48;\" x=\"198.361667\" xlink:href=\"#m8e359cdc16\" y=\"319.490566\"/>\n     <use style=\"fill:#4c72b0;stroke:#ffffff;stroke-width:0.48;\" x=\"189.233765\" xlink:href=\"#m8e359cdc16\" y=\"261.28518\"/>\n     <use style=\"fill:#4c72b0;stroke:#ffffff;stroke-width:0.48;\" x=\"128.284797\" xlink:href=\"#m8e359cdc16\" y=\"348.90619\"/>\n     <use style=\"fill:#4c72b0;stroke:#ffffff;stroke-width:0.48;\" x=\"103.905211\" xlink:href=\"#m8e359cdc16\" y=\"378.634747\"/>\n     <use style=\"fill:#4c72b0;stroke:#ffffff;stroke-width:0.48;\" x=\"146.713916\" xlink:href=\"#m8e359cdc16\" y=\"321.368159\"/>\n     <use style=\"fill:#4c72b0;stroke:#ffffff;stroke-width:0.48;\" x=\"200.325899\" xlink:href=\"#m8e359cdc16\" y=\"292.578398\"/>\n     <use style=\"fill:#4c72b0;stroke:#ffffff;stroke-width:0.48;\" x=\"174.675338\" xlink:href=\"#m8e359cdc16\" y=\"323.871616\"/>\n     <use style=\"fill:#4c72b0;stroke:#ffffff;stroke-width:0.48;\" x=\"143.07431\" xlink:href=\"#m8e359cdc16\" y=\"332.946649\"/>\n     <use style=\"fill:#4c72b0;stroke:#ffffff;stroke-width:0.48;\" x=\"155.49519\" xlink:href=\"#m8e359cdc16\" y=\"323.871616\"/>\n     <use style=\"fill:#4c72b0;stroke:#ffffff;stroke-width:0.48;\" x=\"139.434703\" xlink:href=\"#m8e359cdc16\" y=\"311.354329\"/>\n     <use style=\"fill:#4c72b0;stroke:#ffffff;stroke-width:0.48;\" x=\"101.363263\" xlink:href=\"#m8e359cdc16\" y=\"360.484681\"/>\n     <use style=\"fill:#4c72b0;stroke:#ffffff;stroke-width:0.48;\" x=\"231.984699\" xlink:href=\"#m8e359cdc16\" y=\"261.28518\"/>\n     <use style=\"fill:#4c72b0;stroke:#ffffff;stroke-width:0.48;\" x=\"135.506239\" xlink:href=\"#m8e359cdc16\" y=\"354.226038\"/>\n     <use style=\"fill:#4c72b0;stroke:#ffffff;stroke-width:0.48;\" x=\"244.405579\" xlink:href=\"#m8e359cdc16\" y=\"255.965333\"/>\n     <use style=\"fill:#4c72b0;stroke:#ffffff;stroke-width:0.48;\" x=\"118.463637\" xlink:href=\"#m8e359cdc16\" y=\"355.164834\"/>\n     <use style=\"fill:#4c72b0;stroke:#ffffff;stroke-width:0.48;\" x=\"148.793692\" xlink:href=\"#m8e359cdc16\" y=\"292.578398\"/>\n     <use style=\"fill:#4c72b0;stroke:#ffffff;stroke-width:0.48;\" x=\"185.940787\" xlink:href=\"#m8e359cdc16\" y=\"234.685945\"/>\n     <use style=\"fill:#4c72b0;stroke:#ffffff;stroke-width:0.48;\" x=\"165.431893\" xlink:href=\"#m8e359cdc16\" y=\"323.871616\"/>\n     <use style=\"fill:#4c72b0;stroke:#ffffff;stroke-width:0.48;\" x=\"210.55146\" xlink:href=\"#m8e359cdc16\" y=\"323.871616\"/>\n     <use style=\"fill:#4c72b0;stroke:#ffffff;stroke-width:0.48;\" x=\"173.115507\" xlink:href=\"#m8e359cdc16\" y=\"308.225007\"/>\n     <use style=\"fill:#4c72b0;stroke:#ffffff;stroke-width:0.48;\" x=\"76.405961\" xlink:href=\"#m8e359cdc16\" y=\"386.458052\"/>\n     <use style=\"fill:#4c72b0;stroke:#ffffff;stroke-width:0.48;\" x=\"137.470471\" xlink:href=\"#m8e359cdc16\" y=\"283.190433\"/>\n     <use style=\"fill:#4c72b0;stroke:#ffffff;stroke-width:0.48;\" x=\"174.617567\" xlink:href=\"#m8e359cdc16\" y=\"316.048312\"/>\n     <use style=\"fill:#4c72b0;stroke:#ffffff;stroke-width:0.48;\" x=\"275.255577\" xlink:href=\"#m8e359cdc16\" y=\"269.734349\"/>\n     <use style=\"fill:#4c72b0;stroke:#ffffff;stroke-width:0.48;\" x=\"200.788071\" xlink:href=\"#m8e359cdc16\" y=\"292.578398\"/>\n     <use style=\"fill:#4c72b0;stroke:#ffffff;stroke-width:0.48;\" x=\"112.686484\" xlink:href=\"#m8e359cdc16\" y=\"370.811443\"/>\n     <use style=\"fill:#4c72b0;stroke:#ffffff;stroke-width:0.48;\" x=\"164.56532\" xlink:href=\"#m8e359cdc16\" y=\"323.871616\"/>\n     <use style=\"fill:#4c72b0;stroke:#ffffff;stroke-width:0.48;\" x=\"115.170659\" xlink:href=\"#m8e359cdc16\" y=\"370.811443\"/>\n     <use style=\"fill:#4c72b0;stroke:#ffffff;stroke-width:0.48;\" x=\"108.758019\" xlink:href=\"#m8e359cdc16\" y=\"339.518225\"/>\n     <use style=\"fill:#4c72b0;stroke:#ffffff;stroke-width:0.48;\" x=\"132.039947\" xlink:href=\"#m8e359cdc16\" y=\"323.871616\"/>\n     <use style=\"fill:#4c72b0;stroke:#ffffff;stroke-width:0.48;\" x=\"299.115221\" xlink:href=\"#m8e359cdc16\" y=\"339.518225\"/>\n     <use style=\"fill:#4c72b0;stroke:#ffffff;stroke-width:0.48;\" x=\"172.711106\" xlink:href=\"#m8e359cdc16\" y=\"308.850872\"/>\n     <use style=\"fill:#4c72b0;stroke:#ffffff;stroke-width:0.48;\" x=\"164.045376\" xlink:href=\"#m8e359cdc16\" y=\"290.074941\"/>\n     <use style=\"fill:#4c72b0;stroke:#ffffff;stroke-width:0.48;\" x=\"131.924404\" xlink:href=\"#m8e359cdc16\" y=\"366.430392\"/>\n     <use style=\"fill:#4c72b0;stroke:#ffffff;stroke-width:0.48;\" x=\"161.5612\" xlink:href=\"#m8e359cdc16\" y=\"290.700805\"/>\n     <use style=\"fill:#4c72b0;stroke:#ffffff;stroke-width:0.48;\" x=\"188.829364\" xlink:href=\"#m8e359cdc16\" y=\"283.503365\"/>\n     <use style=\"fill:#4c72b0;stroke:#ffffff;stroke-width:0.48;\" x=\"148.562606\" xlink:href=\"#m8e359cdc16\" y=\"300.088771\"/>\n     <use style=\"fill:#4c72b0;stroke:#ffffff;stroke-width:0.48;\" x=\"125.858393\" xlink:href=\"#m8e359cdc16\" y=\"292.578398\"/>\n     <use style=\"fill:#4c72b0;stroke:#ffffff;stroke-width:0.48;\" x=\"124.067476\" xlink:href=\"#m8e359cdc16\" y=\"323.871616\"/>\n     <use style=\"fill:#4c72b0;stroke:#ffffff;stroke-width:0.48;\" x=\"85.071691\" xlink:href=\"#m8e359cdc16\" y=\"386.458052\"/>\n     <use style=\"fill:#4c72b0;stroke:#ffffff;stroke-width:0.48;\" x=\"263.123556\" xlink:href=\"#m8e359cdc16\" y=\"292.578398\"/>\n     <use style=\"fill:#4c72b0;stroke:#ffffff;stroke-width:0.48;\" x=\"181.550151\" xlink:href=\"#m8e359cdc16\" y=\"337.953564\"/>\n     <use style=\"fill:#4c72b0;stroke:#ffffff;stroke-width:0.48;\" x=\"191.717941\" xlink:href=\"#m8e359cdc16\" y=\"292.578398\"/>\n     <use style=\"fill:#4c72b0;stroke:#ffffff;stroke-width:0.48;\" x=\"143.189853\" xlink:href=\"#m8e359cdc16\" y=\"308.225007\"/>\n     <use style=\"fill:#4c72b0;stroke:#ffffff;stroke-width:0.48;\" x=\"216.097528\" xlink:href=\"#m8e359cdc16\" y=\"259.094655\"/>\n     <use style=\"fill:#4c72b0;stroke:#ffffff;stroke-width:0.48;\" x=\"104.714012\" xlink:href=\"#m8e359cdc16\" y=\"370.811443\"/>\n     <use style=\"fill:#4c72b0;stroke:#ffffff;stroke-width:0.48;\" x=\"114.997345\" xlink:href=\"#m8e359cdc16\" y=\"361.423478\"/>\n     <use style=\"fill:#4c72b0;stroke:#ffffff;stroke-width:0.48;\" x=\"182.301181\" xlink:href=\"#m8e359cdc16\" y=\"326.375074\"/>\n     <use style=\"fill:#4c72b0;stroke:#ffffff;stroke-width:0.48;\" x=\"110.722251\" xlink:href=\"#m8e359cdc16\" y=\"345.463937\"/>\n     <use style=\"fill:#4c72b0;stroke:#ffffff;stroke-width:0.48;\" x=\"120.716727\" xlink:href=\"#m8e359cdc16\" y=\"365.178664\"/>\n     <use style=\"fill:#4c72b0;stroke:#ffffff;stroke-width:0.48;\" x=\"125.569535\" xlink:href=\"#m8e359cdc16\" y=\"339.518225\"/>\n     <use style=\"fill:#4c72b0;stroke:#ffffff;stroke-width:0.48;\" x=\"135.332924\" xlink:href=\"#m8e359cdc16\" y=\"355.164834\"/>\n     <use style=\"fill:#4c72b0;stroke:#ffffff;stroke-width:0.48;\" x=\"115.286203\" xlink:href=\"#m8e359cdc16\" y=\"338.892361\"/>\n     <use style=\"fill:#4c72b0;stroke:#ffffff;stroke-width:0.48;\" x=\"215.346498\" xlink:href=\"#m8e359cdc16\" y=\"286.319755\"/>\n     <use style=\"fill:#4c72b0;stroke:#ffffff;stroke-width:0.48;\" x=\"92.408675\" xlink:href=\"#m8e359cdc16\" y=\"371.437307\"/>\n     <use style=\"fill:#4c72b0;stroke:#ffffff;stroke-width:0.48;\" x=\"127.071595\" xlink:href=\"#m8e359cdc16\" y=\"355.164834\"/>\n     <use style=\"fill:#4c72b0;stroke:#ffffff;stroke-width:0.48;\" x=\"108.931334\" xlink:href=\"#m8e359cdc16\" y=\"355.164834\"/>\n     <use style=\"fill:#4c72b0;stroke:#ffffff;stroke-width:0.48;\" x=\"175.021968\" xlink:href=\"#m8e359cdc16\" y=\"349.532055\"/>\n     <use style=\"fill:#4c72b0;stroke:#ffffff;stroke-width:0.48;\" x=\"153.415414\" xlink:href=\"#m8e359cdc16\" y=\"370.811443\"/>\n     <use style=\"fill:#4c72b0;stroke:#ffffff;stroke-width:0.48;\" x=\"160.290227\" xlink:href=\"#m8e359cdc16\" y=\"329.191463\"/>\n     <use style=\"fill:#4c72b0;stroke:#ffffff;stroke-width:0.48;\" x=\"107.718132\" xlink:href=\"#m8e359cdc16\" y=\"370.811443\"/>\n     <use style=\"fill:#4c72b0;stroke:#ffffff;stroke-width:0.48;\" x=\"114.015229\" xlink:href=\"#m8e359cdc16\" y=\"355.164834\"/>\n     <use style=\"fill:#4c72b0;stroke:#ffffff;stroke-width:0.48;\" x=\"148.678149\" xlink:href=\"#m8e359cdc16\" y=\"316.048312\"/>\n     <use style=\"fill:#4c72b0;stroke:#ffffff;stroke-width:0.48;\" x=\"92.350904\" xlink:href=\"#m8e359cdc16\" y=\"378.634747\"/>\n     <use style=\"fill:#4c72b0;stroke:#ffffff;stroke-width:0.48;\" x=\"102.865323\" xlink:href=\"#m8e359cdc16\" y=\"355.164834\"/>\n     <use style=\"fill:#4c72b0;stroke:#ffffff;stroke-width:0.48;\" x=\"124.934049\" xlink:href=\"#m8e359cdc16\" y=\"355.164834\"/>\n     <use style=\"fill:#4c72b0;stroke:#ffffff;stroke-width:0.48;\" x=\"135.621782\" xlink:href=\"#m8e359cdc16\" y=\"355.164834\"/>\n     <use style=\"fill:#4c72b0;stroke:#ffffff;stroke-width:0.48;\" x=\"119.214667\" xlink:href=\"#m8e359cdc16\" y=\"331.694921\"/>\n     <use style=\"fill:#4c72b0;stroke:#ffffff;stroke-width:0.48;\" x=\"144.114198\" xlink:href=\"#m8e359cdc16\" y=\"308.225007\"/>\n     <use style=\"fill:#4c72b0;stroke:#ffffff;stroke-width:0.48;\" x=\"241.343688\" xlink:href=\"#m8e359cdc16\" y=\"208.08671\"/>\n     <use style=\"fill:#4c72b0;stroke:#ffffff;stroke-width:0.48;\" x=\"281.148274\" xlink:href=\"#m8e359cdc16\" y=\"261.28518\"/>\n     <use style=\"fill:#4c72b0;stroke:#ffffff;stroke-width:0.48;\" x=\"199.459326\" xlink:href=\"#m8e359cdc16\" y=\"261.28518\"/>\n     <use style=\"fill:#4c72b0;stroke:#ffffff;stroke-width:0.48;\" x=\"138.105958\" xlink:href=\"#m8e359cdc16\" y=\"345.776869\"/>\n     <use style=\"fill:#4c72b0;stroke:#ffffff;stroke-width:0.48;\" x=\"91.426559\" xlink:href=\"#m8e359cdc16\" y=\"370.811443\"/>\n     <use style=\"fill:#4c72b0;stroke:#ffffff;stroke-width:0.48;\" x=\"150.873467\" xlink:href=\"#m8e359cdc16\" y=\"375.192494\"/>\n     <use style=\"fill:#4c72b0;stroke:#ffffff;stroke-width:0.48;\" x=\"111.762139\" xlink:href=\"#m8e359cdc16\" y=\"366.743325\"/>\n     <use style=\"fill:#4c72b0;stroke:#ffffff;stroke-width:0.48;\" x=\"99.687889\" xlink:href=\"#m8e359cdc16\" y=\"363.614003\"/>\n     <use style=\"fill:#4c72b0;stroke:#ffffff;stroke-width:0.48;\" x=\"86.573751\" xlink:href=\"#m8e359cdc16\" y=\"355.164834\"/>\n     <use style=\"fill:#4c72b0;stroke:#ffffff;stroke-width:0.48;\" x=\"124.471876\" xlink:href=\"#m8e359cdc16\" y=\"339.518225\"/>\n     <use style=\"fill:#4c72b0;stroke:#ffffff;stroke-width:0.48;\" x=\"119.041352\" xlink:href=\"#m8e359cdc16\" y=\"355.164834\"/>\n     <use style=\"fill:#4c72b0;stroke:#ffffff;stroke-width:0.48;\" x=\"142.900995\" xlink:href=\"#m8e359cdc16\" y=\"332.007853\"/>\n     <use style=\"fill:#4c72b0;stroke:#ffffff;stroke-width:0.48;\" x=\"185.016443\" xlink:href=\"#m8e359cdc16\" y=\"355.164834\"/>\n     <use style=\"fill:#4c72b0;stroke:#ffffff;stroke-width:0.48;\" x=\"157.40165\" xlink:href=\"#m8e359cdc16\" y=\"355.164834\"/>\n     <use style=\"fill:#4c72b0;stroke:#ffffff;stroke-width:0.48;\" x=\"215.635355\" xlink:href=\"#m8e359cdc16\" y=\"256.90413\"/>\n     <use style=\"fill:#4c72b0;stroke:#ffffff;stroke-width:0.48;\" x=\"321.472804\" xlink:href=\"#m8e359cdc16\" y=\"261.28518\"/>\n     <use style=\"fill:#4c72b0;stroke:#ffffff;stroke-width:0.48;\" x=\"187.616162\" xlink:href=\"#m8e359cdc16\" y=\"300.401703\"/>\n     <use style=\"fill:#4c72b0;stroke:#ffffff;stroke-width:0.48;\" x=\"120.543412\" xlink:href=\"#m8e359cdc16\" y=\"336.075971\"/>\n     <use style=\"fill:#4c72b0;stroke:#ffffff;stroke-width:0.48;\" x=\"138.452587\" xlink:href=\"#m8e359cdc16\" y=\"355.164834\"/>\n     <use style=\"fill:#4c72b0;stroke:#ffffff;stroke-width:0.48;\" x=\"167.396125\" xlink:href=\"#m8e359cdc16\" y=\"308.225007\"/>\n     <use style=\"fill:#4c72b0;stroke:#ffffff;stroke-width:0.48;\" x=\"116.32609\" xlink:href=\"#m8e359cdc16\" y=\"339.518225\"/>\n     <use style=\"fill:#4c72b0;stroke:#ffffff;stroke-width:0.48;\" x=\"136.834984\" xlink:href=\"#m8e359cdc16\" y=\"355.164834\"/>\n     <use style=\"fill:#4c72b0;stroke:#ffffff;stroke-width:0.48;\" x=\"122.969816\" xlink:href=\"#m8e359cdc16\" y=\"355.164834\"/>\n     <use style=\"fill:#4c72b0;stroke:#ffffff;stroke-width:0.48;\" x=\"144.345284\" xlink:href=\"#m8e359cdc16\" y=\"323.871616\"/>\n     <use style=\"fill:#4c72b0;stroke:#ffffff;stroke-width:0.48;\" x=\"184.843128\" xlink:href=\"#m8e359cdc16\" y=\"308.850872\"/>\n     <use style=\"fill:#4c72b0;stroke:#ffffff;stroke-width:0.48;\" x=\"163.121032\" xlink:href=\"#m8e359cdc16\" y=\"347.654462\"/>\n     <use style=\"fill:#4c72b0;stroke:#ffffff;stroke-width:0.48;\" x=\"226.380861\" xlink:href=\"#m8e359cdc16\" y=\"276.931789\"/>\n     <use style=\"fill:#4c72b0;stroke:#ffffff;stroke-width:0.48;\" x=\"104.367383\" xlink:href=\"#m8e359cdc16\" y=\"367.369189\"/>\n     <use style=\"fill:#4c72b0;stroke:#ffffff;stroke-width:0.48;\" x=\"104.598469\" xlink:href=\"#m8e359cdc16\" y=\"355.164834\"/>\n     <use style=\"fill:#4c72b0;stroke:#ffffff;stroke-width:0.48;\" x=\"336.724489\" xlink:href=\"#m8e359cdc16\" y=\"104.819091\"/>\n     <use style=\"fill:#4c72b0;stroke:#ffffff;stroke-width:0.48;\" x=\"134.524123\" xlink:href=\"#m8e359cdc16\" y=\"318.864701\"/>\n     <use style=\"fill:#4c72b0;stroke:#ffffff;stroke-width:0.48;\" x=\"85.071691\" xlink:href=\"#m8e359cdc16\" y=\"256.591198\"/>\n     <use style=\"fill:#4c72b0;stroke:#ffffff;stroke-width:0.48;\" x=\"227.189662\" xlink:href=\"#m8e359cdc16\" y=\"318.238837\"/>\n     <use style=\"fill:#4c72b0;stroke:#ffffff;stroke-width:0.48;\" x=\"140.359048\" xlink:href=\"#m8e359cdc16\" y=\"292.578398\"/>\n     <use style=\"fill:#4c72b0;stroke:#ffffff;stroke-width:0.48;\" x=\"233.255673\" xlink:href=\"#m8e359cdc16\" y=\"320.429362\"/>\n     <use style=\"fill:#4c72b0;stroke:#ffffff;stroke-width:0.48;\" x=\"146.540602\" xlink:href=\"#m8e359cdc16\" y=\"355.164834\"/>\n     <use style=\"fill:#4c72b0;stroke:#ffffff;stroke-width:0.48;\" x=\"126.840509\" xlink:href=\"#m8e359cdc16\" y=\"355.164834\"/>\n     <use style=\"fill:#4c72b0;stroke:#ffffff;stroke-width:0.48;\" x=\"98.648001\" xlink:href=\"#m8e359cdc16\" y=\"292.578398\"/>\n     <use style=\"fill:#4c72b0;stroke:#ffffff;stroke-width:0.48;\" x=\"243.250148\" xlink:href=\"#m8e359cdc16\" y=\"306.660346\"/>\n     <use style=\"fill:#4c72b0;stroke:#ffffff;stroke-width:0.48;\" x=\"243.365691\" xlink:href=\"#m8e359cdc16\" y=\"302.592228\"/>\n     <use style=\"fill:#4c72b0;stroke:#ffffff;stroke-width:0.48;\" x=\"177.968316\" xlink:href=\"#m8e359cdc16\" y=\"240.944589\"/>\n     <use style=\"fill:#4c72b0;stroke:#ffffff;stroke-width:0.48;\" x=\"305.181232\" xlink:href=\"#m8e359cdc16\" y=\"308.225007\"/>\n     <use style=\"fill:#4c72b0;stroke:#ffffff;stroke-width:0.48;\" x=\"177.043971\" xlink:href=\"#m8e359cdc16\" y=\"214.345354\"/>\n     <use style=\"fill:#4c72b0;stroke:#ffffff;stroke-width:0.48;\" x=\"277.450896\" xlink:href=\"#m8e359cdc16\" y=\"323.871616\"/>\n     <use style=\"fill:#4c72b0;stroke:#ffffff;stroke-width:0.48;\" x=\"162.716631\" xlink:href=\"#m8e359cdc16\" y=\"261.28518\"/>\n     <use style=\"fill:#4c72b0;stroke:#ffffff;stroke-width:0.48;\" x=\"163.929833\" xlink:href=\"#m8e359cdc16\" y=\"308.225007\"/>\n     <use style=\"fill:#4c72b0;stroke:#ffffff;stroke-width:0.48;\" x=\"219.159419\" xlink:href=\"#m8e359cdc16\" y=\"355.164834\"/>\n     <use style=\"fill:#4c72b0;stroke:#ffffff;stroke-width:0.48;\" x=\"148.042662\" xlink:href=\"#m8e359cdc16\" y=\"308.225007\"/>\n     <use style=\"fill:#4c72b0;stroke:#ffffff;stroke-width:0.48;\" x=\"176.639571\" xlink:href=\"#m8e359cdc16\" y=\"292.578398\"/>\n     <use style=\"fill:#4c72b0;stroke:#ffffff;stroke-width:0.48;\" x=\"133.830865\" xlink:href=\"#m8e359cdc16\" y=\"370.811443\"/>\n     <use style=\"fill:#4c72b0;stroke:#ffffff;stroke-width:0.48;\" x=\"157.632736\" xlink:href=\"#m8e359cdc16\" y=\"286.632687\"/>\n     <use style=\"fill:#4c72b0;stroke:#ffffff;stroke-width:0.48;\" x=\"207.489569\" xlink:href=\"#m8e359cdc16\" y=\"337.640632\"/>\n     <use style=\"fill:#4c72b0;stroke:#ffffff;stroke-width:0.48;\" x=\"132.617662\" xlink:href=\"#m8e359cdc16\" y=\"354.53897\"/>\n     <use style=\"fill:#4c72b0;stroke:#ffffff;stroke-width:0.48;\" x=\"138.972531\" xlink:href=\"#m8e359cdc16\" y=\"292.578398\"/>\n     <use style=\"fill:#4c72b0;stroke:#ffffff;stroke-width:0.48;\" x=\"86.862608\" xlink:href=\"#m8e359cdc16\" y=\"372.689036\"/>\n     <use style=\"fill:#4c72b0;stroke:#ffffff;stroke-width:0.48;\" x=\"102.923094\" xlink:href=\"#m8e359cdc16\" y=\"355.164834\"/>\n     <use style=\"fill:#4c72b0;stroke:#ffffff;stroke-width:0.48;\" x=\"292.240408\" xlink:href=\"#m8e359cdc16\" y=\"261.28518\"/>\n     <use style=\"fill:#4c72b0;stroke:#ffffff;stroke-width:0.48;\" x=\"118.290322\" xlink:href=\"#m8e359cdc16\" y=\"355.164834\"/>\n     <use style=\"fill:#4c72b0;stroke:#ffffff;stroke-width:0.48;\" x=\"121.23667\" xlink:href=\"#m8e359cdc16\" y=\"355.164834\"/>\n     <use style=\"fill:#4c72b0;stroke:#ffffff;stroke-width:0.48;\" x=\"151.277868\" xlink:href=\"#m8e359cdc16\" y=\"292.578398\"/>\n     <use style=\"fill:#4c72b0;stroke:#ffffff;stroke-width:0.48;\" x=\"116.788262\" xlink:href=\"#m8e359cdc16\" y=\"354.851902\"/>\n     <use style=\"fill:#4c72b0;stroke:#ffffff;stroke-width:0.48;\" x=\"118.290322\" xlink:href=\"#m8e359cdc16\" y=\"355.164834\"/>\n     <use style=\"fill:#4c72b0;stroke:#ffffff;stroke-width:0.48;\" x=\"137.932643\" xlink:href=\"#m8e359cdc16\" y=\"339.518225\"/>\n     <use style=\"fill:#4c72b0;stroke:#ffffff;stroke-width:0.48;\" x=\"161.792287\" xlink:href=\"#m8e359cdc16\" y=\"292.578398\"/>\n     <use style=\"fill:#4c72b0;stroke:#ffffff;stroke-width:0.48;\" x=\"138.337044\" xlink:href=\"#m8e359cdc16\" y=\"316.674176\"/>\n     <use style=\"fill:#4c72b0;stroke:#ffffff;stroke-width:0.48;\" x=\"196.801836\" xlink:href=\"#m8e359cdc16\" y=\"311.041397\"/>\n     <use style=\"fill:#4c72b0;stroke:#ffffff;stroke-width:0.48;\" x=\"266.936477\" xlink:href=\"#m8e359cdc16\" y=\"323.871616\"/>\n     <use style=\"fill:#4c72b0;stroke:#ffffff;stroke-width:0.48;\" x=\"183.39884\" xlink:href=\"#m8e359cdc16\" y=\"354.226038\"/>\n     <use style=\"fill:#4c72b0;stroke:#ffffff;stroke-width:0.48;\" x=\"116.903805\" xlink:href=\"#m8e359cdc16\" y=\"347.967394\"/>\n     <use style=\"fill:#4c72b0;stroke:#ffffff;stroke-width:0.48;\" x=\"216.848558\" xlink:href=\"#m8e359cdc16\" y=\"355.164834\"/>\n     <use style=\"fill:#4c72b0;stroke:#ffffff;stroke-width:0.48;\" x=\"192.757828\" xlink:href=\"#m8e359cdc16\" y=\"256.278266\"/>\n     <use style=\"fill:#4c72b0;stroke:#ffffff;stroke-width:0.48;\" x=\"322.397148\" xlink:href=\"#m8e359cdc16\" y=\"136.112309\"/>\n     <use style=\"fill:#4c72b0;stroke:#ffffff;stroke-width:0.48;\" x=\"119.850154\" xlink:href=\"#m8e359cdc16\" y=\"339.518225\"/>\n     <use style=\"fill:#4c72b0;stroke:#ffffff;stroke-width:0.48;\" x=\"205.929738\" xlink:href=\"#m8e359cdc16\" y=\"214.345354\"/>\n     <use style=\"fill:#4c72b0;stroke:#ffffff;stroke-width:0.48;\" x=\"117.712607\" xlink:href=\"#m8e359cdc16\" y=\"383.32873\"/>\n     <use style=\"fill:#4c72b0;stroke:#ffffff;stroke-width:0.48;\" x=\"205.814195\" xlink:href=\"#m8e359cdc16\" y=\"323.871616\"/>\n     <use style=\"fill:#4c72b0;stroke:#ffffff;stroke-width:0.48;\" x=\"110.144536\" xlink:href=\"#m8e359cdc16\" y=\"370.811443\"/>\n     <use style=\"fill:#4c72b0;stroke:#ffffff;stroke-width:0.48;\" x=\"87.902496\" xlink:href=\"#m8e359cdc16\" y=\"372.689036\"/>\n     <use style=\"fill:#4c72b0;stroke:#ffffff;stroke-width:0.48;\" x=\"217.31073\" xlink:href=\"#m8e359cdc16\" y=\"321.055227\"/>\n     <use style=\"fill:#4c72b0;stroke:#ffffff;stroke-width:0.48;\" x=\"113.437513\" xlink:href=\"#m8e359cdc16\" y=\"348.90619\"/>\n     <use style=\"fill:#4c72b0;stroke:#ffffff;stroke-width:0.48;\" x=\"120.716727\" xlink:href=\"#m8e359cdc16\" y=\"308.850872\"/>\n     <use style=\"fill:#4c72b0;stroke:#ffffff;stroke-width:0.48;\" x=\"92.755305\" xlink:href=\"#m8e359cdc16\" y=\"357.668291\"/>\n     <use style=\"fill:#4c72b0;stroke:#ffffff;stroke-width:0.48;\" x=\"135.506239\" xlink:href=\"#m8e359cdc16\" y=\"323.871616\"/>\n     <use style=\"fill:#4c72b0;stroke:#ffffff;stroke-width:0.48;\" x=\"120.716727\" xlink:href=\"#m8e359cdc16\" y=\"368.307986\"/>\n     <use style=\"fill:#4c72b0;stroke:#ffffff;stroke-width:0.48;\" x=\"137.181614\" xlink:href=\"#m8e359cdc16\" y=\"339.518225\"/>\n     <use style=\"fill:#4c72b0;stroke:#ffffff;stroke-width:0.48;\" x=\"101.478806\" xlink:href=\"#m8e359cdc16\" y=\"355.164834\"/>\n     <use style=\"fill:#4c72b0;stroke:#ffffff;stroke-width:0.48;\" x=\"161.330114\" xlink:href=\"#m8e359cdc16\" y=\"323.871616\"/>\n     <use style=\"fill:#4c72b0;stroke:#ffffff;stroke-width:0.48;\" x=\"119.907925\" xlink:href=\"#m8e359cdc16\" y=\"332.633717\"/>\n     <use style=\"fill:#4c72b0;stroke:#ffffff;stroke-width:0.48;\" x=\"170.97796\" xlink:href=\"#m8e359cdc16\" y=\"327.626802\"/>\n     <use style=\"fill:#4c72b0;stroke:#ffffff;stroke-width:0.48;\" x=\"181.89678\" xlink:href=\"#m8e359cdc16\" y=\"355.164834\"/>\n     <use style=\"fill:#4c72b0;stroke:#ffffff;stroke-width:0.48;\" x=\"133.830865\" xlink:href=\"#m8e359cdc16\" y=\"323.871616\"/>\n     <use style=\"fill:#4c72b0;stroke:#ffffff;stroke-width:0.48;\" x=\"110.260079\" xlink:href=\"#m8e359cdc16\" y=\"311.667261\"/>\n     <use style=\"fill:#4c72b0;stroke:#ffffff;stroke-width:0.48;\" x=\"105.40727\" xlink:href=\"#m8e359cdc16\" y=\"371.75024\"/>\n     <use style=\"fill:#4c72b0;stroke:#ffffff;stroke-width:0.48;\" x=\"132.90652\" xlink:href=\"#m8e359cdc16\" y=\"323.871616\"/>\n     <use style=\"fill:#4c72b0;stroke:#ffffff;stroke-width:0.48;\" x=\"101.363263\" xlink:href=\"#m8e359cdc16\" y=\"378.634747\"/>\n     <use style=\"fill:#4c72b0;stroke:#ffffff;stroke-width:0.48;\" x=\"115.979461\" xlink:href=\"#m8e359cdc16\" y=\"386.458052\"/>\n     <use style=\"fill:#4c72b0;stroke:#ffffff;stroke-width:0.48;\" x=\"232.851272\" xlink:href=\"#m8e359cdc16\" y=\"381.138205\"/>\n     <use style=\"fill:#4c72b0;stroke:#ffffff;stroke-width:0.48;\" x=\"250.182732\" xlink:href=\"#m8e359cdc16\" y=\"271.611942\"/>\n     <use style=\"fill:#4c72b0;stroke:#ffffff;stroke-width:0.48;\" x=\"210.89809\" xlink:href=\"#m8e359cdc16\" y=\"232.49542\"/>\n     <use style=\"fill:#4c72b0;stroke:#ffffff;stroke-width:0.48;\" x=\"200.210356\" xlink:href=\"#m8e359cdc16\" y=\"355.164834\"/>\n     <use style=\"fill:#4c72b0;stroke:#ffffff;stroke-width:0.48;\" x=\"174.155395\" xlink:href=\"#m8e359cdc16\" y=\"355.164834\"/>\n     <use style=\"fill:#4c72b0;stroke:#ffffff;stroke-width:0.48;\" x=\"146.136201\" xlink:href=\"#m8e359cdc16\" y=\"362.988139\"/>\n     <use style=\"fill:#4c72b0;stroke:#ffffff;stroke-width:0.48;\" x=\"151.682268\" xlink:href=\"#m8e359cdc16\" y=\"323.871616\"/>\n    </g>\n   </g>\n   <g id=\"patch_3\">\n    <path d=\"M 47.133125 400.54 \nL 47.133125 90.737143 \n\" style=\"fill:none;stroke:#ffffff;stroke-linecap:square;stroke-linejoin:miter;stroke-width:1.25;\"/>\n   </g>\n   <g id=\"patch_4\">\n    <path d=\"M 47.133125 400.54 \nL 350.514554 400.54 \n\" style=\"fill:none;stroke:#ffffff;stroke-linecap:square;stroke-linejoin:miter;stroke-width:1.25;\"/>\n   </g>\n  </g>\n  <g id=\"axes_2\">\n   <g id=\"patch_5\">\n    <path d=\"M 47.133125 80.054286 \nL 350.514554 80.054286 \nL 350.514554 26.64 \nL 47.133125 26.64 \nz\n\" style=\"fill:#eaeaf2;\"/>\n   </g>\n   <g id=\"matplotlib.axis_3\">\n    <g id=\"xtick_6\">\n     <g id=\"line2d_11\">\n      <path clip-path=\"url(#pa62f37e8a9)\" d=\"M 100.958862 80.054286 \nL 100.958862 26.64 \n\" style=\"fill:none;stroke:#ffffff;stroke-linecap:round;\"/>\n     </g>\n    </g>\n    <g id=\"xtick_7\">\n     <g id=\"line2d_12\">\n      <path clip-path=\"url(#pa62f37e8a9)\" d=\"M 158.730395 80.054286 \nL 158.730395 26.64 \n\" style=\"fill:none;stroke:#ffffff;stroke-linecap:round;\"/>\n     </g>\n    </g>\n    <g id=\"xtick_8\">\n     <g id=\"line2d_13\">\n      <path clip-path=\"url(#pa62f37e8a9)\" d=\"M 216.501928 80.054286 \nL 216.501928 26.64 \n\" style=\"fill:none;stroke:#ffffff;stroke-linecap:round;\"/>\n     </g>\n    </g>\n    <g id=\"xtick_9\">\n     <g id=\"line2d_14\">\n      <path clip-path=\"url(#pa62f37e8a9)\" d=\"M 274.273461 80.054286 \nL 274.273461 26.64 \n\" style=\"fill:none;stroke:#ffffff;stroke-linecap:round;\"/>\n     </g>\n    </g>\n    <g id=\"xtick_10\">\n     <g id=\"line2d_15\">\n      <path clip-path=\"url(#pa62f37e8a9)\" d=\"M 332.044994 80.054286 \nL 332.044994 26.64 \n\" style=\"fill:none;stroke:#ffffff;stroke-linecap:round;\"/>\n     </g>\n    </g>\n   </g>\n   <g id=\"matplotlib.axis_4\">\n    <g id=\"ytick_6\"/>\n    <g id=\"ytick_7\"/>\n   </g>\n   <g id=\"patch_6\">\n    <path clip-path=\"url(#pa62f37e8a9)\" d=\"M 60.92319 80.054286 \nL 80.623283 80.054286 \nL 80.623283 77.934671 \nL 60.92319 77.934671 \nz\n\" style=\"fill:#4c72b0;fill-opacity:0.75;stroke:#ffffff;stroke-linejoin:miter;\"/>\n   </g>\n   <g id=\"patch_7\">\n    <path clip-path=\"url(#pa62f37e8a9)\" d=\"M 80.623283 80.054286 \nL 100.323375 80.054286 \nL 100.323375 65.216984 \nL 80.623283 65.216984 \nz\n\" style=\"fill:#4c72b0;fill-opacity:0.75;stroke:#ffffff;stroke-linejoin:miter;\"/>\n   </g>\n   <g id=\"patch_8\">\n    <path clip-path=\"url(#pa62f37e8a9)\" d=\"M 100.323375 80.054286 \nL 120.023468 80.054286 \nL 120.023468 32.362959 \nL 100.323375 32.362959 \nz\n\" style=\"fill:#4c72b0;fill-opacity:0.75;stroke:#ffffff;stroke-linejoin:miter;\"/>\n   </g>\n   <g id=\"patch_9\">\n    <path clip-path=\"url(#pa62f37e8a9)\" d=\"M 120.023468 80.054286 \nL 139.723561 80.054286 \nL 139.723561 29.183537 \nL 120.023468 29.183537 \nz\n\" style=\"fill:#4c72b0;fill-opacity:0.75;stroke:#ffffff;stroke-linejoin:miter;\"/>\n   </g>\n   <g id=\"patch_10\">\n    <path clip-path=\"url(#pa62f37e8a9)\" d=\"M 139.723561 80.054286 \nL 159.423654 80.054286 \nL 159.423654 38.721803 \nL 139.723561 38.721803 \nz\n\" style=\"fill:#4c72b0;fill-opacity:0.75;stroke:#ffffff;stroke-linejoin:miter;\"/>\n   </g>\n   <g id=\"patch_11\">\n    <path clip-path=\"url(#pa62f37e8a9)\" d=\"M 159.423654 80.054286 \nL 179.123747 80.054286 \nL 179.123747 48.260068 \nL 159.423654 48.260068 \nz\n\" style=\"fill:#4c72b0;fill-opacity:0.75;stroke:#ffffff;stroke-linejoin:miter;\"/>\n   </g>\n   <g id=\"patch_12\">\n    <path clip-path=\"url(#pa62f37e8a9)\" d=\"M 179.123747 80.054286 \nL 198.823839 80.054286 \nL 198.823839 57.798333 \nL 179.123747 57.798333 \nz\n\" style=\"fill:#4c72b0;fill-opacity:0.75;stroke:#ffffff;stroke-linejoin:miter;\"/>\n   </g>\n   <g id=\"patch_13\">\n    <path clip-path=\"url(#pa62f37e8a9)\" d=\"M 198.823839 80.054286 \nL 218.523932 80.054286 \nL 218.523932 64.157177 \nL 198.823839 64.157177 \nz\n\" style=\"fill:#4c72b0;fill-opacity:0.75;stroke:#ffffff;stroke-linejoin:miter;\"/>\n   </g>\n   <g id=\"patch_14\">\n    <path clip-path=\"url(#pa62f37e8a9)\" d=\"M 218.523932 80.054286 \nL 238.224025 80.054286 \nL 238.224025 70.51602 \nL 218.523932 70.51602 \nz\n\" style=\"fill:#4c72b0;fill-opacity:0.75;stroke:#ffffff;stroke-linejoin:miter;\"/>\n   </g>\n   <g id=\"patch_15\">\n    <path clip-path=\"url(#pa62f37e8a9)\" d=\"M 238.224025 80.054286 \nL 257.924118 80.054286 \nL 257.924118 72.635635 \nL 238.224025 72.635635 \nz\n\" style=\"fill:#4c72b0;fill-opacity:0.75;stroke:#ffffff;stroke-linejoin:miter;\"/>\n   </g>\n   <g id=\"patch_16\">\n    <path clip-path=\"url(#pa62f37e8a9)\" d=\"M 257.924118 80.054286 \nL 277.62421 80.054286 \nL 277.62421 73.695442 \nL 257.924118 73.695442 \nz\n\" style=\"fill:#4c72b0;fill-opacity:0.75;stroke:#ffffff;stroke-linejoin:miter;\"/>\n   </g>\n   <g id=\"patch_17\">\n    <path clip-path=\"url(#pa62f37e8a9)\" d=\"M 277.62421 80.054286 \nL 297.324303 80.054286 \nL 297.324303 77.934671 \nL 277.62421 77.934671 \nz\n\" style=\"fill:#4c72b0;fill-opacity:0.75;stroke:#ffffff;stroke-linejoin:miter;\"/>\n   </g>\n   <g id=\"patch_18\">\n    <path clip-path=\"url(#pa62f37e8a9)\" d=\"M 297.324303 80.054286 \nL 317.024396 80.054286 \nL 317.024396 77.934671 \nL 297.324303 77.934671 \nz\n\" style=\"fill:#4c72b0;fill-opacity:0.75;stroke:#ffffff;stroke-linejoin:miter;\"/>\n   </g>\n   <g id=\"patch_19\">\n    <path clip-path=\"url(#pa62f37e8a9)\" d=\"M 317.024396 80.054286 \nL 336.724489 80.054286 \nL 336.724489 75.815057 \nL 317.024396 75.815057 \nz\n\" style=\"fill:#4c72b0;fill-opacity:0.75;stroke:#ffffff;stroke-linejoin:miter;\"/>\n   </g>\n   <g id=\"patch_20\">\n    <path d=\"M 47.133125 80.054286 \nL 350.514554 80.054286 \n\" style=\"fill:none;stroke:#ffffff;stroke-linecap:square;stroke-linejoin:miter;stroke-width:1.25;\"/>\n   </g>\n  </g>\n  <g id=\"axes_3\">\n   <g id=\"patch_21\">\n    <path d=\"M 360.975982 400.54 \nL 413.283125 400.54 \nL 413.283125 90.737143 \nL 360.975982 90.737143 \nz\n\" style=\"fill:#eaeaf2;\"/>\n   </g>\n   <g id=\"matplotlib.axis_5\">\n    <g id=\"xtick_11\"/>\n    <g id=\"xtick_12\"/>\n   </g>\n   <g id=\"matplotlib.axis_6\">\n    <g id=\"ytick_8\">\n     <g id=\"line2d_16\">\n      <path clip-path=\"url(#pfd08936490)\" d=\"M 360.975982 355.164834 \nL 413.283125 355.164834 \n\" style=\"fill:none;stroke:#ffffff;stroke-linecap:round;\"/>\n     </g>\n    </g>\n    <g id=\"ytick_9\">\n     <g id=\"line2d_17\">\n      <path clip-path=\"url(#pfd08936490)\" d=\"M 360.975982 292.578398 \nL 413.283125 292.578398 \n\" style=\"fill:none;stroke:#ffffff;stroke-linecap:round;\"/>\n     </g>\n    </g>\n    <g id=\"ytick_10\">\n     <g id=\"line2d_18\">\n      <path clip-path=\"url(#pfd08936490)\" d=\"M 360.975982 229.991962 \nL 413.283125 229.991962 \n\" style=\"fill:none;stroke:#ffffff;stroke-linecap:round;\"/>\n     </g>\n    </g>\n    <g id=\"ytick_11\">\n     <g id=\"line2d_19\">\n      <path clip-path=\"url(#pfd08936490)\" d=\"M 360.975982 167.405527 \nL 413.283125 167.405527 \n\" style=\"fill:none;stroke:#ffffff;stroke-linecap:round;\"/>\n     </g>\n    </g>\n    <g id=\"ytick_12\">\n     <g id=\"line2d_20\">\n      <path clip-path=\"url(#pfd08936490)\" d=\"M 360.975982 104.819091 \nL 413.283125 104.819091 \n\" style=\"fill:none;stroke:#ffffff;stroke-linecap:round;\"/>\n     </g>\n    </g>\n   </g>\n   <g id=\"patch_22\">\n    <path clip-path=\"url(#pfd08936490)\" d=\"M 360.975982 386.458052 \nL 376.954804 386.458052 \nL 376.954804 370.811443 \nL 360.975982 370.811443 \nz\n\" style=\"fill:#4c72b0;fill-opacity:0.75;stroke:#ffffff;stroke-linejoin:miter;\"/>\n   </g>\n   <g id=\"patch_23\">\n    <path clip-path=\"url(#pfd08936490)\" d=\"M 360.975982 370.811443 \nL 387.294041 370.811443 \nL 387.294041 355.164834 \nL 360.975982 355.164834 \nz\n\" style=\"fill:#4c72b0;fill-opacity:0.75;stroke:#ffffff;stroke-linejoin:miter;\"/>\n   </g>\n   <g id=\"patch_24\">\n    <path clip-path=\"url(#pfd08936490)\" d=\"M 360.975982 355.164834 \nL 410.792309 355.164834 \nL 410.792309 339.518225 \nL 360.975982 339.518225 \nz\n\" style=\"fill:#4c72b0;fill-opacity:0.75;stroke:#ffffff;stroke-linejoin:miter;\"/>\n   </g>\n   <g id=\"patch_25\">\n    <path clip-path=\"url(#pfd08936490)\" d=\"M 360.975982 339.518225 \nL 384.474249 339.518225 \nL 384.474249 323.871616 \nL 360.975982 323.871616 \nz\n\" style=\"fill:#4c72b0;fill-opacity:0.75;stroke:#ffffff;stroke-linejoin:miter;\"/>\n   </g>\n   <g id=\"patch_26\">\n    <path clip-path=\"url(#pfd08936490)\" d=\"M 360.975982 323.871616 \nL 407.032586 323.871616 \nL 407.032586 308.225007 \nL 360.975982 308.225007 \nz\n\" style=\"fill:#4c72b0;fill-opacity:0.75;stroke:#ffffff;stroke-linejoin:miter;\"/>\n   </g>\n   <g id=\"patch_27\">\n    <path clip-path=\"url(#pfd08936490)\" d=\"M 360.975982 308.225007 \nL 378.834665 308.225007 \nL 378.834665 292.578398 \nL 360.975982 292.578398 \nz\n\" style=\"fill:#4c72b0;fill-opacity:0.75;stroke:#ffffff;stroke-linejoin:miter;\"/>\n   </g>\n   <g id=\"patch_28\">\n    <path clip-path=\"url(#pfd08936490)\" d=\"M 360.975982 292.578398 \nL 380.714527 292.578398 \nL 380.714527 276.931789 \nL 360.975982 276.931789 \nz\n\" style=\"fill:#4c72b0;fill-opacity:0.75;stroke:#ffffff;stroke-linejoin:miter;\"/>\n   </g>\n   <g id=\"patch_29\">\n    <path clip-path=\"url(#pfd08936490)\" d=\"M 360.975982 276.931789 \nL 364.735705 276.931789 \nL 364.735705 261.28518 \nL 360.975982 261.28518 \nz\n\" style=\"fill:#4c72b0;fill-opacity:0.75;stroke:#ffffff;stroke-linejoin:miter;\"/>\n   </g>\n   <g id=\"patch_30\">\n    <path clip-path=\"url(#pfd08936490)\" d=\"M 360.975982 261.28518 \nL 376.014873 261.28518 \nL 376.014873 245.638571 \nL 360.975982 245.638571 \nz\n\" style=\"fill:#4c72b0;fill-opacity:0.75;stroke:#ffffff;stroke-linejoin:miter;\"/>\n   </g>\n   <g id=\"patch_31\">\n    <path clip-path=\"url(#pfd08936490)\" d=\"M 360.975982 245.638571 \nL 364.735705 245.638571 \nL 364.735705 229.991962 \nL 360.975982 229.991962 \nz\n\" style=\"fill:#4c72b0;fill-opacity:0.75;stroke:#ffffff;stroke-linejoin:miter;\"/>\n   </g>\n   <g id=\"patch_32\">\n    <path clip-path=\"url(#pfd08936490)\" d=\"M 360.975982 229.991962 \nL 361.915913 229.991962 \nL 361.915913 214.345354 \nL 360.975982 214.345354 \nz\n\" style=\"fill:#4c72b0;fill-opacity:0.75;stroke:#ffffff;stroke-linejoin:miter;\"/>\n   </g>\n   <g id=\"patch_33\">\n    <path clip-path=\"url(#pfd08936490)\" d=\"M 360.975982 214.345354 \nL 364.735705 214.345354 \nL 364.735705 198.698745 \nL 360.975982 198.698745 \nz\n\" style=\"fill:#4c72b0;fill-opacity:0.75;stroke:#ffffff;stroke-linejoin:miter;\"/>\n   </g>\n   <g id=\"patch_34\">\n    <path clip-path=\"url(#pfd08936490)\" d=\"M 360.975982 198.698745 \nL 360.975982 198.698745 \nL 360.975982 183.052136 \nL 360.975982 183.052136 \nz\n\" style=\"fill:#4c72b0;fill-opacity:0.75;stroke:#ffffff;stroke-linejoin:miter;\"/>\n   </g>\n   <g id=\"patch_35\">\n    <path clip-path=\"url(#pfd08936490)\" d=\"M 360.975982 183.052136 \nL 361.915913 183.052136 \nL 361.915913 167.405527 \nL 360.975982 167.405527 \nz\n\" style=\"fill:#4c72b0;fill-opacity:0.75;stroke:#ffffff;stroke-linejoin:miter;\"/>\n   </g>\n   <g id=\"patch_36\">\n    <path clip-path=\"url(#pfd08936490)\" d=\"M 360.975982 167.405527 \nL 360.975982 167.405527 \nL 360.975982 151.758918 \nL 360.975982 151.758918 \nz\n\" style=\"fill:#4c72b0;fill-opacity:0.75;stroke:#ffffff;stroke-linejoin:miter;\"/>\n   </g>\n   <g id=\"patch_37\">\n    <path clip-path=\"url(#pfd08936490)\" d=\"M 360.975982 151.758918 \nL 360.975982 151.758918 \nL 360.975982 136.112309 \nL 360.975982 136.112309 \nz\n\" style=\"fill:#4c72b0;fill-opacity:0.75;stroke:#ffffff;stroke-linejoin:miter;\"/>\n   </g>\n   <g id=\"patch_38\">\n    <path clip-path=\"url(#pfd08936490)\" d=\"M 360.975982 136.112309 \nL 361.915913 136.112309 \nL 361.915913 120.4657 \nL 360.975982 120.4657 \nz\n\" style=\"fill:#4c72b0;fill-opacity:0.75;stroke:#ffffff;stroke-linejoin:miter;\"/>\n   </g>\n   <g id=\"patch_39\">\n    <path clip-path=\"url(#pfd08936490)\" d=\"M 360.975982 120.4657 \nL 361.915913 120.4657 \nL 361.915913 104.819091 \nL 360.975982 104.819091 \nz\n\" style=\"fill:#4c72b0;fill-opacity:0.75;stroke:#ffffff;stroke-linejoin:miter;\"/>\n   </g>\n   <g id=\"patch_40\">\n    <path d=\"M 360.975982 400.54 \nL 360.975982 90.737143 \n\" style=\"fill:none;stroke:#ffffff;stroke-linecap:square;stroke-linejoin:miter;stroke-width:1.25;\"/>\n   </g>\n  </g>\n  <g id=\"text_13\">\n   <!-- 식사 금액과 팁의 관계 Joint Plot -->\n   <g style=\"fill:#262626;\" transform=\"translate(121.244375 16.60875)scale(0.12 -0.12)\">\n    <defs>\n     <path d=\"M 5414 -454 \nL 4954 -480 \nL 4954 1286 \nL 1440 1242 \nL 1440 1632 \nL 3290 1632 \nQ 3526 1632 3782 1635 \nQ 4038 1638 4326 1645 \nQ 4614 1651 4880 1657 \nQ 5146 1664 5389 1670 \nL 5395 435 \nL 5414 -454 \nz\nM 4179 2464 \nQ 4179 2445 4032 2304 \nQ 3878 2170 3866 2157 \nQ 3789 2208 3725 2246 \nQ 3661 2285 3610 2323 \nQ 3302 2554 3040 2816 \nQ 2739 3130 2534 3456 \nQ 2477 3558 2400 3725 \nQ 2387 3680 2368 3645 \nQ 2349 3610 2336 3578 \nQ 2246 3392 2108 3197 \nQ 1971 3002 1786 2803 \nQ 1549 2534 1184 2278 \nQ 1120 2240 1043 2189 \nQ 966 2138 870 2074 \nQ 851 2086 832 2105 \nQ 813 2125 794 2138 \nQ 698 2214 646 2246 \nQ 506 2310 506 2336 \nQ 531 2381 557 2394 \nQ 800 2502 934 2592 \nQ 1370 2880 1693 3334 \nQ 2016 3789 2150 4422 \nQ 2176 4531 2192 4659 \nQ 2208 4787 2221 4954 \nL 2522 4902 \nQ 2765 4845 2765 4774 \nQ 2765 4755 2742 4723 \nQ 2720 4691 2694 4646 \nQ 2669 4602 2646 4544 \nQ 2624 4486 2624 4422 \nQ 2624 4211 2822 3834 \nQ 2976 3552 3168 3315 \nQ 3315 3130 3507 2960 \nQ 3699 2790 3942 2624 \nQ 3987 2592 4038 2560 \nQ 4090 2528 4160 2496 \nL 4179 2464 \nz\nM 5446 5050 \nQ 5446 5030 5420 4956 \nQ 5395 4883 5395 4832 \nL 5389 3245 \nL 5389 2483 \nQ 5395 2214 5408 1965 \nL 4947 1946 \nL 4966 3578 \nQ 4966 4013 4956 4358 \nQ 4947 4704 4934 4973 \nQ 4934 5024 4934 5075 \nQ 4934 5126 4922 5190 \nQ 5146 5190 5296 5152 \nQ 5446 5114 5446 5050 \nz\n\" id=\"AppleGothic-c2dd\" transform=\"scale(0.015625)\"/>\n     <path d=\"M 6093 2061 \nL 5139 2061 \nL 5133 1024 \nQ 5133 640 5139 240 \nQ 5146 -160 5158 -493 \nL 4685 -538 \nQ 4685 -397 4685 -73 \nQ 4685 250 4691 755 \nQ 4698 1274 4701 1651 \nQ 4704 2029 4704 2285 \nQ 4704 2874 4697 3478 \nQ 4691 4083 4685 4704 \nQ 4685 4877 4675 4992 \nQ 4666 5107 4653 5190 \nQ 4877 5190 5037 5158 \nQ 5197 5126 5197 5069 \nQ 5152 4954 5152 4870 \nL 5133 3955 \nL 5139 2477 \nL 6093 2477 \nL 6093 2061 \nz\nM 3923 1331 \nQ 3917 1312 3898 1293 \nQ 3878 1267 3852 1244 \nQ 3827 1222 3782 1197 \nL 3584 1018 \nQ 3533 1050 3491 1078 \nQ 3450 1107 3418 1133 \nQ 3014 1446 2675 1946 \nQ 2605 2042 2541 2170 \nQ 2477 2298 2406 2451 \nQ 2336 2605 2291 2736 \nQ 2246 2867 2221 2976 \nQ 2106 2438 1581 1786 \nQ 1312 1466 1059 1245 \nQ 806 1024 544 896 \nQ 518 909 476 941 \nQ 435 973 371 1030 \nQ 211 1165 211 1184 \nQ 250 1222 256 1235 \nQ 301 1235 557 1421 \nQ 922 1683 1203 2010 \nQ 1606 2477 1818 3078 \nQ 1933 3405 1993 3830 \nQ 2054 4256 2054 4640 \nQ 2106 4640 2186 4630 \nQ 2266 4621 2368 4595 \nQ 2573 4550 2573 4486 \nQ 2560 4454 2521 4361 \nQ 2483 4269 2490 4173 \nL 2432 3750 \nQ 2458 3648 2474 3574 \nQ 2490 3501 2502 3437 \nQ 2598 3053 2829 2547 \nQ 3072 2061 3494 1677 \nQ 3565 1613 3657 1539 \nQ 3750 1466 3872 1389 \nQ 3885 1376 3897 1360 \nQ 3910 1344 3923 1331 \nz\n\" id=\"AppleGothic-c0ac\" transform=\"scale(0.015625)\"/>\n     <path id=\"AppleGothic-20\" transform=\"scale(0.015625)\"/>\n     <path d=\"M 4691 134 \nL 4691 1466 \nL 3258 1459 \nQ 2746 1459 2368 1452 \nQ 1990 1446 1702 1434 \nL 1702 122 \nL 3181 115 \nQ 3603 115 3990 118 \nQ 4378 122 4691 134 \nz\nM 5139 -403 \nL 4698 -416 \nL 4678 -224 \nL 3366 -211 \nQ 2874 -211 2483 -217 \nQ 2093 -224 1728 -243 \nL 1702 -403 \nL 1280 -429 \nL 1286 1766 \nL 3264 1760 \nQ 3693 1760 3997 1760 \nQ 4301 1760 4486 1766 \nQ 4672 1773 4832 1776 \nQ 4992 1779 5126 1792 \nL 5139 -403 \nz\nM 6022 2490 \nL 2758 2490 \nQ 2374 2490 2083 2490 \nQ 1792 2490 1600 2483 \nQ 1210 2477 877 2467 \nQ 544 2458 378 2451 \nL 378 2829 \nL 2010 2822 \nL 4538 2842 \nQ 4576 2995 4595 3078 \nQ 4646 3283 4675 3440 \nQ 4704 3597 4730 3706 \nL 4858 4538 \nQ 4166 4538 3552 4518 \nQ 3238 4512 2896 4505 \nQ 2554 4499 2170 4486 \nQ 1786 4480 1498 4477 \nQ 1210 4474 1005 4474 \nL 1005 4896 \nQ 1094 4896 1280 4893 \nQ 1466 4890 1760 4883 \nQ 2061 4877 2275 4877 \nQ 2490 4877 2637 4877 \nL 2976 4877 \nQ 3597 4877 4214 4889 \nQ 4832 4902 5331 4915 \nQ 5331 4659 5197 3885 \nQ 5056 3123 4966 2854 \nL 5568 2842 \nL 6022 2861 \nL 6022 2490 \nz\n\" id=\"AppleGothic-ae08\" transform=\"scale(0.015625)\"/>\n     <path d=\"M 2790 3424 \nQ 2790 3872 2534 4128 \nQ 2310 4358 1978 4358 \nQ 1651 4358 1421 4128 \nQ 1165 3872 1165 3424 \nQ 1165 3040 1376 2771 \nQ 1581 2490 1990 2490 \nQ 2362 2490 2576 2746 \nQ 2790 3002 2790 3424 \nz\nM 5638 1408 \nQ 5632 1325 5632 1197 \nQ 5632 1069 5626 896 \nQ 5619 723 5619 569 \nQ 5619 416 5619 282 \nL 5626 -525 \nL 5165 -544 \nL 5190 730 \nL 5184 1018 \nL 3635 1030 \nQ 3130 1030 2576 1017 \nQ 2022 1005 1549 992 \nL 1549 1408 \nQ 1638 1402 1712 1402 \nQ 1786 1402 1850 1402 \nQ 2272 1389 2595 1382 \nQ 2918 1376 3149 1376 \nL 5638 1408 \nz\nM 3232 3418 \nQ 3232 2848 2880 2464 \nQ 2534 2086 1984 2086 \nQ 1472 2086 1114 2445 \nQ 730 2829 730 3418 \nQ 730 3936 1062 4326 \nQ 1414 4736 1965 4736 \nQ 2477 4736 2854 4371 \nQ 3232 4006 3232 3418 \nz\nM 5664 5082 \nQ 5664 5069 5638 4976 \nQ 5613 4883 5613 4787 \nL 5606 3002 \nL 5606 2016 \nQ 5619 1837 5626 1773 \nL 5184 1734 \nL 5184 2970 \nL 4397 2963 \nL 4390 2195 \nQ 4390 1990 4390 1923 \nQ 4390 1856 4403 1805 \nL 3949 1766 \nQ 3962 1971 3971 2384 \nQ 3981 2797 3981 3347 \nQ 3981 3667 3981 3910 \nQ 3981 4154 3974 4333 \nQ 3974 4685 3955 5043 \nQ 4109 5043 4275 5024 \nQ 4442 5005 4442 4941 \nQ 4442 4928 4422 4845 \nQ 4403 4762 4403 4685 \nQ 4403 4621 4403 4528 \nQ 4403 4435 4397 4314 \nQ 4390 4186 4390 4109 \nQ 4390 4032 4390 3987 \nL 4397 3322 \nL 5197 3328 \nL 5197 4691 \nQ 5197 5043 5171 5190 \nQ 5395 5190 5529 5174 \nQ 5664 5158 5664 5082 \nz\n\" id=\"AppleGothic-c561\" transform=\"scale(0.015625)\"/>\n     <path d=\"M 4339 1184 \nQ 4198 1165 4086 1152 \nQ 3974 1139 3885 1126 \nQ 3373 1062 2973 1014 \nQ 2573 966 2266 934 \nQ 1965 909 1680 883 \nQ 1395 858 1120 826 \nQ 966 813 876 803 \nQ 787 794 762 794 \nQ 710 781 668 774 \nQ 627 768 582 755 \nQ 499 755 454 934 \nQ 429 1024 419 1091 \nQ 410 1158 410 1210 \nL 1030 1229 \nL 1638 1274 \nL 1651 2381 \nL 1638 3302 \nL 1677 3302 \nQ 1850 3302 1990 3283 \nQ 2131 3264 2131 3206 \nQ 2131 3174 2099 3100 \nQ 2067 3027 2067 2982 \nL 2080 2189 \nL 2067 1293 \nL 3174 1408 \nL 4320 1536 \nL 4339 1184 \nz\nM 6061 2035 \nL 5126 2042 \nL 5114 1050 \nL 5126 -486 \nL 4653 -506 \nQ 4653 -397 4653 -233 \nQ 4653 -70 4659 141 \nQ 4666 365 4666 659 \nQ 4666 954 4666 1331 \nQ 4672 1715 4675 2214 \nQ 4678 2714 4678 3347 \nL 4678 4691 \nQ 4678 4870 4675 4985 \nQ 4672 5101 4659 5184 \nL 4800 5184 \nQ 5011 5184 5100 5158 \nQ 5190 5133 5190 5082 \nQ 5190 5082 5180 5050 \nQ 5171 5018 5161 4973 \nQ 5152 4928 5142 4880 \nQ 5133 4832 5133 4794 \nL 5120 4051 \nL 5126 2445 \nL 6061 2451 \nL 6061 2035 \nz\nM 3718 4499 \nQ 3718 4371 3715 4262 \nQ 3712 4154 3706 4064 \nQ 3699 3974 3686 3779 \nQ 3674 3584 3642 3283 \nQ 3610 2982 3597 2793 \nQ 3584 2605 3571 2515 \nQ 3546 2330 3533 2211 \nQ 3520 2093 3507 2042 \nL 3078 2054 \nQ 3085 2157 3098 2227 \nQ 3130 2483 3155 2710 \nQ 3181 2938 3200 3142 \nL 3264 4109 \nL 2042 4109 \nQ 1562 4109 1267 4102 \nQ 973 4096 768 4083 \nL 768 4480 \nL 3718 4499 \nz\n\" id=\"AppleGothic-acfc\" transform=\"scale(0.015625)\"/>\n     <path d=\"M 4954 32 \nL 4954 736 \nL 3232 736 \nQ 3002 736 2829 736 \nQ 2656 736 2528 730 \nQ 2400 730 2278 726 \nQ 2157 723 2029 717 \nL 2029 -26 \nL 3418 -26 \nQ 3898 -26 4294 -6 \nQ 4691 13 4954 32 \nz\nM 5446 1677 \nQ 5446 1658 5433 1578 \nQ 5421 1498 5421 1427 \nL 5414 538 \nL 5414 -90 \nQ 5421 -198 5424 -304 \nQ 5427 -410 5434 -506 \nL 4960 -506 \nL 4954 -339 \nL 2048 -403 \nL 2022 -531 \nL 1562 -538 \nQ 1562 -480 1562 -355 \nQ 1562 -230 1568 -32 \nQ 1574 160 1577 294 \nQ 1581 429 1581 499 \nQ 1581 806 1574 1113 \nQ 1568 1421 1555 1683 \nL 1965 1677 \nQ 2054 1677 2054 1594 \nQ 2054 1568 2041 1494 \nQ 2029 1421 2029 1408 \nL 2029 1107 \nQ 2240 1094 2505 1088 \nQ 2771 1082 3059 1082 \nL 4954 1126 \nL 4960 1434 \nL 4941 1773 \nL 5082 1773 \nQ 5286 1773 5366 1750 \nQ 5446 1728 5446 1677 \nz\nM 4448 2182 \nQ 4333 2170 4233 2157 \nQ 4134 2144 4045 2138 \nQ 3750 2112 3462 2099 \nQ 3174 2086 2874 2086 \nQ 2605 2086 2291 2080 \nQ 1978 2074 1626 2061 \nQ 1498 2054 1331 2048 \nQ 1165 2042 954 2029 \nL 973 3283 \nL 954 4582 \nL 2573 4589 \nQ 2899 4589 3305 4605 \nQ 3712 4621 4064 4640 \nL 4064 4237 \nL 3162 4250 \nQ 3014 4250 2796 4243 \nQ 2579 4237 2278 4224 \nQ 1984 4211 1766 4204 \nQ 1549 4198 1402 4198 \nL 1402 3552 \nL 1760 3546 \nQ 1926 3546 2204 3555 \nQ 2483 3565 2874 3578 \nQ 3264 3597 3517 3603 \nQ 3770 3610 3885 3610 \nL 3885 3187 \nL 2477 3200 \nQ 2131 3200 1881 3193 \nQ 1632 3187 1408 3168 \nL 1408 2458 \nL 2886 2470 \nQ 3258 2470 3872 2509 \nQ 3981 2515 4115 2521 \nQ 4250 2528 4422 2541 \nL 4448 2182 \nz\nM 5466 5062 \nQ 5466 5043 5440 4934 \nQ 5421 4819 5421 4749 \nL 5421 4531 \nQ 5402 3706 5402 3558 \nL 5421 1939 \nL 4928 1920 \nQ 4934 1997 4934 2067 \nQ 4934 2138 4934 2195 \nQ 4954 2970 4954 3341 \nL 4954 3539 \nQ 4941 4358 4931 4768 \nQ 4922 5178 4922 5190 \nL 5152 5197 \nQ 5299 5197 5382 5171 \nQ 5466 5146 5466 5062 \nz\n\" id=\"AppleGothic-d301\" transform=\"scale(0.015625)\"/>\n     <path d=\"M 3571 3379 \nQ 3571 4218 2573 4218 \nQ 2061 4218 1776 3987 \nQ 1491 3757 1491 3386 \nQ 1491 2970 1786 2733 \nQ 2054 2522 2509 2522 \nQ 3059 2522 3328 2765 \nQ 3571 2976 3571 3379 \nz\nM 4608 1094 \nQ 4134 1018 3872 979 \nQ 3456 928 3120 899 \nQ 2784 870 2528 870 \nL 902 813 \nQ 858 800 816 790 \nQ 774 781 730 768 \nQ 653 768 608 941 \nQ 563 1114 563 1242 \nL 2477 1248 \nQ 2938 1248 3334 1273 \nQ 3731 1299 4070 1350 \nQ 4282 1376 4576 1459 \nL 4608 1094 \nz\nM 5466 5069 \nQ 5466 5037 5437 4944 \nQ 5408 4851 5408 4813 \nL 5408 2298 \nQ 5408 2010 5411 1683 \nQ 5414 1357 5421 973 \nQ 5427 595 5433 230 \nQ 5440 -134 5453 -499 \nL 4973 -557 \nL 4973 45 \nQ 4979 237 4979 512 \nQ 4979 787 4986 1158 \nQ 4992 1523 4992 1788 \nQ 4992 2054 4992 2221 \nQ 4992 2880 4985 3357 \nQ 4979 3834 4966 4122 \nQ 4954 4410 4944 4675 \nQ 4934 4941 4922 5184 \nL 5024 5184 \nQ 5190 5184 5328 5158 \nQ 5466 5133 5466 5069 \nz\nM 4006 3328 \nQ 4006 2790 3578 2464 \nQ 3155 2138 2528 2138 \nQ 1894 2138 1504 2445 \nQ 1088 2765 1088 3341 \nQ 1088 3955 1517 4288 \nQ 1920 4602 2541 4602 \nQ 3174 4602 3597 4269 \nQ 4006 3936 4006 3354 \nL 4006 3328 \nz\n\" id=\"AppleGothic-c758\" transform=\"scale(0.015625)\"/>\n     <path d=\"M 5248 -435 \nL 3558 -454 \nL 1376 -442 \nL 1389 352 \nL 1370 992 \nQ 1446 992 1526 989 \nQ 1606 986 1673 976 \nQ 1741 966 1785 947 \nQ 1830 928 1830 902 \nQ 1830 890 1811 819 \nQ 1792 749 1792 678 \nL 1792 -77 \nL 3341 -96 \nL 5248 -83 \nL 5248 -435 \nz\nM 4346 1651 \nQ 4333 1651 3680 1613 \nQ 3354 1600 2979 1581 \nQ 2605 1562 2163 1549 \nQ 1722 1536 1363 1526 \nQ 1005 1517 717 1517 \nQ 685 1517 643 1507 \nQ 602 1498 560 1488 \nQ 518 1478 486 1472 \nQ 454 1466 448 1466 \nQ 403 1466 384 1530 \nL 326 1907 \nQ 435 1888 547 1881 \nQ 659 1875 755 1875 \nQ 858 1875 989 1878 \nQ 1120 1882 1286 1888 \nQ 1613 1907 1683 1907 \nL 1658 3386 \nQ 1882 3386 2003 3363 \nQ 2125 3341 2125 3302 \nQ 2125 3309 2112 3245 \nQ 2080 3130 2080 3066 \nL 2074 1914 \nQ 2310 1914 2521 1917 \nQ 2733 1920 2925 1926 \nQ 3590 1952 3942 1961 \nQ 4294 1971 4346 1971 \nL 4346 1651 \nz\nM 6112 2240 \nQ 6061 2246 5987 2246 \nQ 5914 2246 5818 2253 \nQ 5728 2259 5667 2259 \nQ 5606 2259 5574 2259 \nL 5107 2253 \nL 5107 518 \nL 4659 518 \nQ 4659 966 4672 2028 \nQ 4685 3091 4685 4832 \nQ 4685 5005 4678 5078 \nQ 4672 5152 4659 5190 \nL 4736 5190 \nQ 4909 5190 5043 5174 \nQ 5178 5158 5178 5101 \nQ 5178 5088 5146 4998 \nQ 5114 4909 5114 4838 \nL 5101 2637 \nL 5568 2618 \nL 6112 2630 \nL 6112 2240 \nz\nM 3622 4550 \nQ 3616 4480 3616 4425 \nQ 3616 4371 3610 4320 \nQ 3571 3616 3571 3110 \nQ 3571 2976 3561 2841 \nQ 3552 2707 3539 2566 \nQ 3533 2528 3526 2473 \nQ 3520 2419 3507 2349 \nL 3091 2362 \nQ 3104 2413 3107 2457 \nQ 3110 2502 3117 2534 \nQ 3174 2944 3174 3283 \nQ 3174 3494 3180 3635 \nQ 3187 3776 3194 3904 \nQ 3194 4051 3190 4105 \nQ 3187 4160 3181 4192 \nL 2125 4186 \nQ 1773 4186 1389 4173 \nQ 1005 4160 678 4147 \nL 678 4544 \nQ 774 4538 908 4538 \nQ 1043 4538 1216 4531 \nQ 1402 4525 1530 4525 \nQ 1658 4525 1747 4525 \nL 3622 4550 \nz\n\" id=\"AppleGothic-ad00\" transform=\"scale(0.015625)\"/>\n     <path d=\"M 5670 5075 \nQ 5670 5062 5638 4963 \nQ 5606 4864 5606 4762 \nQ 5600 4653 5600 4505 \nQ 5600 4358 5594 4173 \nQ 5594 3987 5594 3747 \nQ 5594 3507 5587 3200 \nQ 5587 2899 5587 2582 \nQ 5587 2266 5581 1926 \nQ 5581 1658 5584 1322 \nQ 5587 986 5594 570 \nQ 5613 -256 5613 -384 \nL 5171 -410 \nL 5171 422 \nQ 5178 691 5178 1075 \nQ 5178 1459 5184 1978 \nQ 5190 2496 5190 2877 \nQ 5190 3258 5190 3514 \nL 5171 5190 \nQ 5254 5190 5344 5187 \nQ 5434 5184 5507 5171 \nQ 5581 5158 5625 5136 \nQ 5670 5114 5670 5075 \nz\nM 4326 4832 \nQ 4326 4819 4297 4726 \nQ 4269 4634 4269 4576 \nL 4256 659 \nQ 4256 499 4256 390 \nQ 4256 282 4259 198 \nQ 4262 115 4265 51 \nQ 4269 -13 4275 -77 \nL 3840 -115 \nL 3846 1670 \nL 3354 1690 \nL 2810 1683 \nL 2810 2067 \nL 3354 2054 \nL 3846 2061 \nL 3846 2886 \nL 2861 2874 \nL 2861 3296 \nQ 2970 3290 3110 3286 \nQ 3251 3283 3334 3283 \nL 3846 3277 \nL 3853 4627 \nL 3840 4947 \nQ 4026 4947 4176 4928 \nQ 4326 4909 4326 4832 \nz\nM 2938 4461 \nQ 2931 4384 2928 4301 \nQ 2925 4218 2918 4134 \nQ 2867 3718 2765 3315 \nQ 2611 2765 2326 2259 \nQ 2042 1754 1626 1325 \nQ 1338 1024 998 787 \nQ 762 614 723 614 \nQ 710 627 678 649 \nQ 646 672 582 704 \nQ 320 864 320 877 \nL 339 909 \nQ 1178 1235 1824 2214 \nQ 2490 3200 2490 4109 \nL 1843 4115 \nL 717 4090 \nL 717 4493 \nQ 1222 4493 2022 4474 \nQ 2426 4467 2650 4464 \nQ 2874 4461 2938 4461 \nz\n\" id=\"AppleGothic-acc4\" transform=\"scale(0.015625)\"/>\n     <path d=\"M 1555 429 \nQ 1965 429 2253 678 \nQ 2547 941 2547 1293 \nL 2547 5018 \nL 3046 5018 \nL 3046 1274 \nQ 3046 768 2598 358 \nQ 2157 -45 1587 -45 \nQ 1171 -45 710 122 \nQ 602 154 467 221 \nQ 333 288 166 378 \nL 166 960 \nQ 333 851 489 761 \nQ 646 672 806 602 \nQ 1210 429 1555 429 \nz\n\" id=\"AppleGothic-4a\" transform=\"scale(0.015625)\"/>\n     <path d=\"M 3264 2291 \nL 3264 0 \nL 2803 0 \nL 2803 2259 \nQ 2803 2618 2541 2848 \nQ 2278 3085 1914 3085 \nQ 1427 3085 1075 2682 \nQ 723 2272 723 1760 \nL 723 0 \nL 288 0 \nL 288 3424 \nL 691 3424 \nL 710 2784 \nQ 883 3046 1114 3219 \nQ 1491 3501 1965 3501 \nQ 2515 3501 2886 3168 \nQ 3264 2842 3264 2291 \nz\n\" id=\"AppleGothic-6e\" transform=\"scale(0.015625)\"/>\n     <path d=\"M 262 5018 \nL 1869 5018 \nQ 2560 5018 3002 4781 \nQ 3597 4448 3597 3718 \nQ 3597 3014 3104 2630 \nQ 2656 2272 1952 2272 \nL 768 2272 \nL 768 0 \nL 262 0 \nL 262 5018 \nz\nM 1862 4576 \nL 768 4576 \nL 768 2714 \nL 1901 2714 \nQ 2349 2714 2675 2950 \nQ 3040 3219 3040 3674 \nQ 3040 4186 2611 4410 \nQ 2298 4576 1862 4576 \nz\n\" id=\"AppleGothic-50\" transform=\"scale(0.015625)\"/>\n    </defs>\n    <use xlink:href=\"#AppleGothic-c2dd\"/>\n    <use x=\"99.999985\" xlink:href=\"#AppleGothic-c0ac\"/>\n    <use x=\"199.999969\" xlink:href=\"#AppleGothic-20\"/>\n    <use x=\"231.999954\" xlink:href=\"#AppleGothic-ae08\"/>\n    <use x=\"331.999939\" xlink:href=\"#AppleGothic-c561\"/>\n    <use x=\"431.999924\" xlink:href=\"#AppleGothic-acfc\"/>\n    <use x=\"531.999908\" xlink:href=\"#AppleGothic-20\"/>\n    <use x=\"563.999893\" xlink:href=\"#AppleGothic-d301\"/>\n    <use x=\"663.999878\" xlink:href=\"#AppleGothic-c758\"/>\n    <use x=\"763.999863\" xlink:href=\"#AppleGothic-20\"/>\n    <use x=\"795.999847\" xlink:href=\"#AppleGothic-ad00\"/>\n    <use x=\"895.999832\" xlink:href=\"#AppleGothic-acc4\"/>\n    <use x=\"995.999817\" xlink:href=\"#AppleGothic-20\"/>\n    <use x=\"1027.999802\" xlink:href=\"#AppleGothic-4a\"/>\n    <use x=\"1081.499786\" xlink:href=\"#AppleGothic-6f\"/>\n    <use x=\"1139.799774\" xlink:href=\"#AppleGothic-69\"/>\n    <use x=\"1155.699768\" xlink:href=\"#AppleGothic-6e\"/>\n    <use x=\"1211.599762\" xlink:href=\"#AppleGothic-74\"/>\n    <use x=\"1245.799759\" xlink:href=\"#AppleGothic-20\"/>\n    <use x=\"1277.799744\" xlink:href=\"#AppleGothic-50\"/>\n    <use x=\"1338.099731\" xlink:href=\"#AppleGothic-6c\"/>\n    <use x=\"1354.799728\" xlink:href=\"#AppleGothic-6f\"/>\n    <use x=\"1413.099716\" xlink:href=\"#AppleGothic-74\"/>\n   </g>\n  </g>\n </g>\n <defs>\n  <clipPath id=\"pde31759458\">\n   <rect height=\"309.802857\" width=\"303.381429\" x=\"47.133125\" y=\"90.737143\"/>\n  </clipPath>\n  <clipPath id=\"pa62f37e8a9\">\n   <rect height=\"53.414286\" width=\"303.381429\" x=\"47.133125\" y=\"26.64\"/>\n  </clipPath>\n  <clipPath id=\"pfd08936490\">\n   <rect height=\"309.802857\" width=\"52.307143\" x=\"360.975982\" y=\"90.737143\"/>\n  </clipPath>\n </defs>\n</svg>\n",
      "image/png": "[encoded data removed]"
     },
     "metadata": {
      "needs_background": "light"
     }
    }
   ],
   "metadata": {}
  },
  {
   "cell_type": "code",
   "execution_count": 72,
   "source": [
    "sns.boxplot(data=tips, x='day', y='tip');\n",
    "plt.title('요일별 팁의 Box Plot');"
   ],
   "outputs": [
    {
     "output_type": "display_data",
     "data": {
      "text/plain": [
       "<Figure size 432x288 with 1 Axes>"
      ],
      "image/svg+xml": "<?xml version=\"1.0\" encoding=\"utf-8\" standalone=\"no\"?>\n<!DOCTYPE svg PUBLIC \"-//W3C//DTD SVG 1.1//EN\"\n  \"http://www.w3.org/Graphics/SVG/1.1/DTD/svg11.dtd\">\n<svg height=\"282.785781pt\" version=\"1.1\" viewBox=\"0 0 389.133125 282.785781\" width=\"389.133125pt\" xmlns=\"http://www.w3.org/2000/svg\" xmlns:xlink=\"http://www.w3.org/1999/xlink\">\n <metadata>\n  <rdf:RDF xmlns:cc=\"http://creativecommons.org/ns#\" xmlns:dc=\"http://purl.org/dc/elements/1.1/\" xmlns:rdf=\"http://www.w3.org/1999/02/22-rdf-syntax-ns#\">\n   <cc:Work>\n    <dc:type rdf:resource=\"http://purl.org/dc/dcmitype/StillImage\"/>\n    <dc:date>2021-08-23T11:25:28.094640</dc:date>\n    <dc:format>image/svg+xml</dc:format>\n    <dc:creator>\n     <cc:Agent>\n      <dc:title>Matplotlib v3.4.2, https://matplotlib.org/</dc:title>\n     </cc:Agent>\n    </dc:creator>\n   </cc:Work>\n  </rdf:RDF>\n </metadata>\n <defs>\n  <style type=\"text/css\">*{stroke-linecap:butt;stroke-linejoin:round;}</style>\n </defs>\n <g id=\"figure_1\">\n  <g id=\"patch_1\">\n   <path d=\"M 0 282.785781 \nL 389.133125 282.785781 \nL 389.133125 0 \nL 0 0 \nz\n\" style=\"fill:none;\"/>\n  </g>\n  <g id=\"axes_1\">\n   <g id=\"patch_2\">\n    <path d=\"M 47.133125 240.04875 \nL 381.933125 240.04875 \nL 381.933125 22.60875 \nL 47.133125 22.60875 \nz\n\" style=\"fill:#eaeaf2;\"/>\n   </g>\n   <g id=\"matplotlib.axis_1\">\n    <g id=\"xtick_1\">\n     <g id=\"text_1\">\n      <!-- Thur -->\n      <g style=\"fill:#262626;\" transform=\"translate(77.488125 258.173438)scale(0.11 -0.11)\">\n       <defs>\n        <path d=\"M 166 5018 \nL 4038 5018 \nL 4038 4576 \nL 2355 4576 \nL 2355 0 \nL 1856 0 \nL 1856 4576 \nL 166 4576 \nL 166 5018 \nz\n\" id=\"AppleGothic-54\" transform=\"scale(0.015625)\"/>\n        <path d=\"M 288 5018 \nL 749 5018 \nL 749 2810 \nQ 909 3066 1139 3238 \nQ 1491 3501 1926 3501 \nQ 2195 3501 2409 3424 \nQ 2624 3347 2803 3200 \nQ 3181 2867 3181 2266 \nL 3181 0 \nL 2714 0 \nL 2714 2202 \nQ 2714 2573 2477 2829 \nQ 2240 3085 1901 3085 \nQ 1408 3085 1082 2694 \nQ 749 2291 749 1773 \nL 749 0 \nL 288 0 \nL 288 5018 \nz\n\" id=\"AppleGothic-68\" transform=\"scale(0.015625)\"/>\n        <path d=\"M 262 3424 \nL 730 3424 \nL 730 1242 \nQ 730 877 941 627 \nQ 1171 339 1594 339 \nQ 2080 339 2426 730 \nQ 2784 1139 2784 1632 \nL 2784 3424 \nL 3245 3424 \nL 3245 0 \nL 2842 0 \nL 2810 582 \nQ 2707 442 2592 330 \nQ 2477 218 2342 134 \nQ 1984 -83 1555 -83 \nQ 966 -83 614 282 \nQ 262 653 262 1184 \nL 262 3424 \nz\n\" id=\"AppleGothic-75\" transform=\"scale(0.015625)\"/>\n        <path d=\"M 2125 3424 \nL 2125 2963 \nQ 2054 2989 2009 3005 \nQ 1965 3021 1933 3027 \nQ 1901 3034 1865 3037 \nQ 1830 3040 1773 3040 \nQ 1306 3040 1005 2586 \nQ 749 2170 749 1658 \nL 749 0 \nL 288 0 \nL 288 3424 \nL 710 3424 \nL 742 2835 \nQ 902 3104 1043 3219 \nQ 1331 3456 1734 3456 \nQ 1843 3456 1936 3449 \nQ 2029 3443 2125 3424 \nz\n\" id=\"AppleGothic-72\" transform=\"scale(0.015625)\"/>\n       </defs>\n       <use xlink:href=\"#AppleGothic-54\"/>\n       <use x=\"66.099991\" xlink:href=\"#AppleGothic-68\"/>\n       <use x=\"118.299988\" xlink:href=\"#AppleGothic-75\"/>\n       <use x=\"173.799973\" xlink:href=\"#AppleGothic-72\"/>\n      </g>\n     </g>\n    </g>\n    <g id=\"xtick_2\">\n     <g id=\"text_2\">\n      <!-- Fri -->\n      <g style=\"fill:#262626;\" transform=\"translate(166.670938 258.173438)scale(0.11 -0.11)\">\n       <defs>\n        <path d=\"M 339 5018 \nL 3462 5018 \nL 3462 4576 \nL 845 4576 \nL 845 2714 \nL 3354 2714 \nL 3354 2304 \nL 845 2304 \nL 845 0 \nL 339 0 \nL 339 5018 \nz\n\" id=\"AppleGothic-46\" transform=\"scale(0.015625)\"/>\n        <path d=\"M 256 3424 \nL 717 3424 \nL 717 0 \nL 256 0 \nL 256 3424 \nz\nM 480 4870 \nQ 614 4870 704 4780 \nQ 794 4691 794 4525 \nQ 794 4358 710 4268 \nQ 627 4179 480 4179 \nQ 333 4179 253 4281 \nQ 173 4384 173 4518 \nQ 173 4730 269 4800 \nQ 365 4870 480 4870 \nz\n\" id=\"AppleGothic-69\" transform=\"scale(0.015625)\"/>\n       </defs>\n       <use xlink:href=\"#AppleGothic-46\"/>\n       <use x=\"58.199997\" xlink:href=\"#AppleGothic-72\"/>\n       <use x=\"93.399994\" xlink:href=\"#AppleGothic-69\"/>\n      </g>\n     </g>\n    </g>\n    <g id=\"xtick_3\">\n     <g id=\"text_3\">\n      <!-- Sat -->\n      <g style=\"fill:#262626;\" transform=\"translate(247.918281 258.173438)scale(0.11 -0.11)\">\n       <defs>\n        <path d=\"M 3418 4666 \nL 3418 4019 \nQ 3251 4160 3081 4269 \nQ 2912 4378 2746 4448 \nQ 2362 4627 1965 4627 \nQ 1466 4627 1139 4378 \nQ 806 4122 806 3770 \nQ 806 3258 1562 3002 \nQ 1914 2880 2262 2768 \nQ 2611 2656 2970 2541 \nQ 3731 2176 3731 1453 \nQ 3731 749 3187 320 \nQ 2669 -83 1901 -83 \nQ 1389 -83 915 115 \nQ 640 224 262 474 \nL 262 1126 \nQ 755 685 1261 506 \nQ 1427 442 1587 416 \nQ 1747 390 1907 390 \nQ 2419 390 2771 646 \nQ 3162 928 3162 1382 \nQ 3162 1933 2419 2221 \nQ 2061 2330 1715 2445 \nQ 1370 2560 1024 2669 \nQ 275 3014 275 3731 \nQ 275 4333 749 4710 \nQ 1235 5101 1965 5101 \nQ 2413 5101 2861 4934 \nQ 3091 4858 3418 4666 \nz\n\" id=\"AppleGothic-53\" transform=\"scale(0.015625)\"/>\n        <path d=\"M 2950 2214 \nL 2950 602 \nQ 2950 493 2998 413 \nQ 3046 333 3174 333 \nQ 3213 333 3238 336 \nQ 3264 339 3290 346 \nQ 3328 358 3357 371 \nQ 3386 384 3405 390 \nL 3405 32 \nQ 3290 -6 3174 -22 \nQ 3059 -38 2995 -38 \nQ 2669 -38 2566 134 \nQ 2483 243 2483 602 \nQ 2400 461 2317 355 \nQ 2234 250 2150 179 \nQ 1818 -83 1376 -83 \nQ 909 -83 563 192 \nQ 205 486 205 941 \nQ 205 1510 781 1779 \nQ 992 1882 1341 1958 \nQ 1690 2035 2176 2099 \nL 2483 2131 \nQ 2483 2579 2256 2832 \nQ 2029 3085 1587 3085 \nQ 1421 3085 1257 3043 \nQ 1094 3002 928 2912 \nQ 838 2861 729 2790 \nQ 621 2720 493 2611 \nL 493 3136 \nQ 1037 3501 1664 3501 \nQ 2304 3501 2650 3098 \nQ 2950 2746 2950 2214 \nz\nM 2483 1542 \nL 2483 1747 \nL 2266 1722 \nQ 1466 1638 1139 1498 \nQ 704 1325 704 934 \nQ 704 819 755 713 \nQ 806 608 896 525 \nQ 986 442 1117 390 \nQ 1248 339 1408 339 \nQ 1843 339 2170 691 \nQ 2483 1050 2483 1542 \nz\n\" id=\"AppleGothic-61\" transform=\"scale(0.015625)\"/>\n        <path d=\"M 691 4435 \nL 1114 4435 \nL 1114 3430 \nL 2016 3430 \nL 2016 3014 \nL 1114 3014 \nL 1114 838 \nQ 1114 570 1213 454 \nQ 1312 339 1555 339 \nQ 1696 339 1795 371 \nQ 1894 403 2016 454 \nL 2016 38 \nQ 1914 6 1770 -22 \nQ 1626 -51 1478 -51 \nQ 1094 -51 883 122 \nQ 646 301 646 698 \nL 646 3014 \nL 70 3014 \nL 70 3430 \nL 646 3430 \nL 691 4435 \nz\n\" id=\"AppleGothic-74\" transform=\"scale(0.015625)\"/>\n       </defs>\n       <use xlink:href=\"#AppleGothic-53\"/>\n       <use x=\"63.199997\" xlink:href=\"#AppleGothic-61\"/>\n       <use x=\"119.699982\" xlink:href=\"#AppleGothic-74\"/>\n      </g>\n     </g>\n    </g>\n    <g id=\"xtick_4\">\n     <g id=\"text_4\">\n      <!-- Sun -->\n      <g style=\"fill:#262626;\" transform=\"translate(330.479609 258.173438)scale(0.11 -0.11)\">\n       <defs>\n        <path d=\"M 3264 2291 \nL 3264 0 \nL 2803 0 \nL 2803 2259 \nQ 2803 2618 2541 2848 \nQ 2278 3085 1914 3085 \nQ 1427 3085 1075 2682 \nQ 723 2272 723 1760 \nL 723 0 \nL 288 0 \nL 288 3424 \nL 691 3424 \nL 710 2784 \nQ 883 3046 1114 3219 \nQ 1491 3501 1965 3501 \nQ 2515 3501 2886 3168 \nQ 3264 2842 3264 2291 \nz\n\" id=\"AppleGothic-6e\" transform=\"scale(0.015625)\"/>\n       </defs>\n       <use xlink:href=\"#AppleGothic-53\"/>\n       <use x=\"63.199997\" xlink:href=\"#AppleGothic-75\"/>\n       <use x=\"118.699982\" xlink:href=\"#AppleGothic-6e\"/>\n      </g>\n     </g>\n    </g>\n    <g id=\"text_5\">\n     <!-- day -->\n     <g style=\"fill:#262626;\" transform=\"translate(204.560938 273.474531)scale(0.12 -0.12)\">\n      <defs>\n       <path d=\"M 2682 5018 \nL 3174 5018 \nL 3174 0 \nL 2733 0 \nL 2688 557 \nQ 2598 429 2508 329 \nQ 2419 230 2330 160 \nQ 2010 -83 1587 -83 \nQ 928 -83 493 429 \nQ 64 941 64 1670 \nQ 64 2426 518 2957 \nQ 979 3501 1670 3501 \nQ 1958 3501 2208 3398 \nQ 2298 3360 2416 3296 \nQ 2534 3232 2682 3142 \nL 2682 5018 \nz\nM 2682 1658 \nL 2682 2643 \nQ 2381 2906 2157 2995 \nQ 1933 3085 1722 3085 \nQ 1197 3085 870 2643 \nQ 563 2227 563 1677 \nQ 563 1088 902 698 \nQ 1216 339 1645 339 \nQ 2067 339 2374 710 \nQ 2682 1082 2682 1658 \nz\n\" id=\"AppleGothic-64\" transform=\"scale(0.015625)\"/>\n       <path d=\"M 179 3424 \nL 691 3424 \nL 1869 531 \nL 2874 3424 \nL 3379 3424 \nL 1952 -397 \nQ 1798 -806 1555 -979 \nQ 1338 -1126 1037 -1126 \nQ 883 -1126 780 -1104 \nQ 678 -1082 582 -1043 \nL 582 -602 \nQ 672 -646 784 -678 \nQ 896 -710 986 -710 \nQ 1210 -710 1334 -595 \nQ 1459 -480 1555 -230 \nL 1632 32 \nL 179 3424 \nz\n\" id=\"AppleGothic-79\" transform=\"scale(0.015625)\"/>\n      </defs>\n      <use xlink:href=\"#AppleGothic-64\"/>\n      <use x=\"53.999985\" xlink:href=\"#AppleGothic-61\"/>\n      <use x=\"110.499969\" xlink:href=\"#AppleGothic-79\"/>\n     </g>\n    </g>\n   </g>\n   <g id=\"matplotlib.axis_2\">\n    <g id=\"ytick_1\">\n     <g id=\"line2d_1\">\n      <path clip-path=\"url(#p3ebf050f39)\" d=\"M 47.133125 208.201477 \nL 381.933125 208.201477 \n\" style=\"fill:none;stroke:#ffffff;stroke-linecap:round;\"/>\n     </g>\n     <g id=\"text_6\">\n      <!-- 2 -->\n      <g style=\"fill:#262626;\" transform=\"translate(30.153125 212.513821)scale(0.11 -0.11)\">\n       <defs>\n        <path d=\"M 1101 429 \nL 3942 429 \nL 3942 0 \nL 653 0 \nL 653 205 \nQ 653 1018 1344 1664 \nQ 1670 1894 1990 2124 \nQ 2310 2355 2637 2592 \nQ 3334 3098 3334 3597 \nQ 3334 3994 3014 4218 \nQ 2867 4326 2694 4377 \nQ 2522 4429 2317 4429 \nQ 2016 4429 1741 4352 \nQ 1325 4224 883 3910 \nL 883 4435 \nQ 1325 4659 1667 4758 \nQ 2010 4858 2317 4858 \nQ 2963 4858 3405 4525 \nQ 3840 4198 3840 3622 \nQ 3840 2995 3168 2438 \nQ 2848 2214 2531 2000 \nQ 2214 1786 1894 1562 \nQ 1178 1024 1101 429 \nz\n\" id=\"AppleGothic-32\" transform=\"scale(0.015625)\"/>\n       </defs>\n       <use xlink:href=\"#AppleGothic-32\"/>\n      </g>\n     </g>\n    </g>\n    <g id=\"ytick_2\">\n     <g id=\"line2d_2\">\n      <path clip-path=\"url(#p3ebf050f39)\" d=\"M 47.133125 164.274205 \nL 381.933125 164.274205 \n\" style=\"fill:none;stroke:#ffffff;stroke-linecap:round;\"/>\n     </g>\n     <g id=\"text_7\">\n      <!-- 4 -->\n      <g style=\"fill:#262626;\" transform=\"translate(30.153125 168.586548)scale(0.11 -0.11)\">\n       <defs>\n        <path d=\"M 2662 4774 \nL 3130 4774 \nL 3130 1811 \nL 4000 1811 \nL 4000 1382 \nL 3130 1382 \nL 3130 0 \nL 2662 0 \nL 2662 1382 \nL 352 1382 \nL 352 1811 \nL 2662 4774 \nz\nM 2662 1811 \nL 2662 4166 \nL 838 1811 \nL 2662 1811 \nz\n\" id=\"AppleGothic-34\" transform=\"scale(0.015625)\"/>\n       </defs>\n       <use xlink:href=\"#AppleGothic-34\"/>\n      </g>\n     </g>\n    </g>\n    <g id=\"ytick_3\">\n     <g id=\"line2d_3\">\n      <path clip-path=\"url(#p3ebf050f39)\" d=\"M 47.133125 120.346932 \nL 381.933125 120.346932 \n\" style=\"fill:none;stroke:#ffffff;stroke-linecap:round;\"/>\n     </g>\n     <g id=\"text_8\">\n      <!-- 6 -->\n      <g style=\"fill:#262626;\" transform=\"translate(30.153125 124.659276)scale(0.11 -0.11)\">\n       <defs>\n        <path d=\"M 3699 4557 \nL 3699 4013 \nQ 3584 4102 3475 4163 \nQ 3366 4224 3258 4275 \nQ 3085 4358 2918 4393 \nQ 2752 4429 2586 4429 \nQ 2470 4429 2352 4409 \nQ 2234 4390 2118 4339 \nQ 1670 4154 1395 3738 \nQ 1011 3149 1011 2189 \nQ 1312 2490 1568 2656 \nQ 2022 2931 2534 2931 \nQ 3162 2931 3584 2566 \nQ 4038 2163 4038 1491 \nQ 4038 806 3558 358 \nQ 3078 -83 2394 -83 \nQ 1670 -83 1146 454 \nQ 518 1088 518 2253 \nQ 518 3411 1120 4134 \nQ 1715 4858 2605 4858 \nQ 2938 4858 3226 4762 \nQ 3309 4730 3427 4682 \nQ 3546 4634 3699 4557 \nz\nM 1062 1702 \nQ 1152 1152 1498 768 \nQ 1882 346 2419 346 \nQ 2899 346 3213 659 \nQ 3539 973 3539 1459 \nQ 3539 1920 3226 2214 \nQ 2918 2502 2496 2502 \nQ 1990 2502 1542 2176 \nQ 1414 2080 1292 1965 \nQ 1171 1850 1062 1702 \nz\n\" id=\"AppleGothic-36\" transform=\"scale(0.015625)\"/>\n       </defs>\n       <use xlink:href=\"#AppleGothic-36\"/>\n      </g>\n     </g>\n    </g>\n    <g id=\"ytick_4\">\n     <g id=\"line2d_4\">\n      <path clip-path=\"url(#p3ebf050f39)\" d=\"M 47.133125 76.419659 \nL 381.933125 76.419659 \n\" style=\"fill:none;stroke:#ffffff;stroke-linecap:round;\"/>\n     </g>\n     <g id=\"text_9\">\n      <!-- 8 -->\n      <g style=\"fill:#262626;\" transform=\"translate(30.153125 80.732003)scale(0.11 -0.11)\">\n       <defs>\n        <path d=\"M 2957 2605 \nQ 3219 2528 3404 2445 \nQ 3590 2362 3706 2272 \nQ 4192 1926 4192 1370 \nQ 4192 749 3642 333 \nQ 3098 -83 2285 -83 \nQ 1434 -83 947 326 \nQ 512 691 512 1229 \nQ 512 1798 998 2125 \nQ 1146 2227 1341 2304 \nQ 1536 2381 1779 2451 \nQ 1574 2534 1430 2617 \nQ 1286 2701 1197 2784 \nQ 819 3104 819 3603 \nQ 819 4173 1261 4512 \nQ 1702 4858 2381 4858 \nQ 3014 4858 3437 4570 \nQ 3898 4262 3898 3738 \nQ 3898 3373 3670 3081 \nQ 3443 2790 2957 2605 \nz\nM 2406 2752 \nQ 2624 2835 2781 2915 \nQ 2938 2995 3040 3066 \nQ 3398 3322 3398 3667 \nQ 3398 3994 3104 4205 \nQ 2822 4429 2362 4429 \nQ 1894 4429 1613 4205 \nQ 1325 3994 1325 3635 \nQ 1325 3322 1581 3098 \nQ 1696 3002 1901 2912 \nQ 2106 2822 2406 2752 \nz\nM 2368 2304 \nQ 2061 2202 1840 2106 \nQ 1619 2010 1472 1920 \nQ 1011 1626 1011 1235 \nQ 1011 845 1376 595 \nQ 1728 346 2310 346 \nQ 2938 346 3315 640 \nQ 3693 934 3693 1338 \nQ 3693 1741 3238 1997 \nQ 3104 2067 2886 2147 \nQ 2669 2227 2368 2304 \nz\n\" id=\"AppleGothic-38\" transform=\"scale(0.015625)\"/>\n       </defs>\n       <use xlink:href=\"#AppleGothic-38\"/>\n      </g>\n     </g>\n    </g>\n    <g id=\"ytick_5\">\n     <g id=\"line2d_5\">\n      <path clip-path=\"url(#p3ebf050f39)\" d=\"M 47.133125 32.492386 \nL 381.933125 32.492386 \n\" style=\"fill:none;stroke:#ffffff;stroke-linecap:round;\"/>\n     </g>\n     <g id=\"text_10\">\n      <!-- 10 -->\n      <g style=\"fill:#262626;\" transform=\"translate(22.673125 36.80473)scale(0.11 -0.11)\">\n       <defs>\n        <path d=\"M 2342 4774 \nL 2752 4774 \nL 2752 0 \nL 2285 0 \nL 2285 3526 \nL 1158 3526 \nL 1158 3885 \nL 1414 3885 \nQ 1990 3885 2214 4205 \nQ 2342 4410 2342 4774 \nz\n\" id=\"AppleGothic-31\" transform=\"scale(0.015625)\"/>\n        <path d=\"M 2227 -83 \nQ 1414 -83 934 576 \nQ 461 1229 461 2387 \nQ 461 3552 973 4218 \nQ 1453 4858 2221 4858 \nQ 3027 4858 3482 4173 \nQ 3955 3494 3955 2394 \nQ 3955 1248 3462 582 \nQ 2976 -83 2227 -83 \nz\nM 2176 346 \nQ 2861 346 3200 992 \nQ 3462 1536 3462 2400 \nQ 3462 3315 3162 3859 \nQ 2822 4429 2214 4429 \nQ 1574 4429 1248 3821 \nQ 960 3283 960 2374 \nQ 960 1478 1248 941 \nQ 1574 346 2176 346 \nz\n\" id=\"AppleGothic-30\" transform=\"scale(0.015625)\"/>\n       </defs>\n       <use xlink:href=\"#AppleGothic-31\"/>\n       <use x=\"67.999985\" xlink:href=\"#AppleGothic-30\"/>\n      </g>\n     </g>\n    </g>\n    <g id=\"text_11\">\n     <!-- tip -->\n     <g style=\"fill:#262626;\" transform=\"translate(16.60875 137.659688)rotate(-90)scale(0.12 -0.12)\">\n      <defs>\n       <path d=\"M 736 307 \nL 736 -1101 \nL 288 -1101 \nL 288 3424 \nL 704 3424 \nL 730 2803 \nQ 941 3149 1216 3325 \nQ 1491 3501 1882 3501 \nQ 2522 3501 2944 3002 \nQ 3162 2752 3270 2441 \nQ 3379 2131 3379 1747 \nQ 3379 954 2899 435 \nQ 2419 -83 1754 -83 \nQ 1421 -83 1139 58 \nQ 1056 90 960 154 \nQ 864 218 736 307 \nz\nM 736 1824 \nL 736 800 \nQ 838 704 924 637 \nQ 1011 570 1082 525 \nQ 1395 339 1715 339 \nQ 2227 339 2554 742 \nQ 2886 1165 2886 1766 \nQ 2886 2330 2579 2707 \nQ 2278 3085 1811 3085 \nQ 1331 3085 1018 2669 \nQ 736 2291 736 1824 \nz\n\" id=\"AppleGothic-70\" transform=\"scale(0.015625)\"/>\n      </defs>\n      <use xlink:href=\"#AppleGothic-74\"/>\n      <use x=\"34.199997\" xlink:href=\"#AppleGothic-69\"/>\n      <use x=\"50.099991\" xlink:href=\"#AppleGothic-70\"/>\n     </g>\n    </g>\n   </g>\n   <g id=\"patch_3\">\n    <path clip-path=\"url(#p3ebf050f39)\" d=\"M 55.503125 208.201477 \nL 122.463125 208.201477 \nL 122.463125 178.276023 \nL 55.503125 178.276023 \nL 55.503125 208.201477 \nz\n\" style=\"fill:#5875a4;stroke:#4c4c4c;stroke-linejoin:miter;stroke-width:1.5;\"/>\n   </g>\n   <g id=\"patch_4\">\n    <path clip-path=\"url(#p3ebf050f39)\" d=\"M 139.203125 209.080023 \nL 206.163125 209.080023 \nL 206.163125 178.221114 \nL 139.203125 178.221114 \nL 139.203125 209.080023 \nz\n\" style=\"fill:#cc8963;stroke:#4c4c4c;stroke-linejoin:miter;stroke-width:1.5;\"/>\n   </g>\n   <g id=\"patch_5\">\n    <path clip-path=\"url(#p3ebf050f39)\" d=\"M 222.903125 208.201477 \nL 289.863125 208.201477 \nL 289.863125 178.111295 \nL 222.903125 178.111295 \nL 222.903125 208.201477 \nz\n\" style=\"fill:#5f9e6e;stroke:#4c4c4c;stroke-linejoin:miter;stroke-width:1.5;\"/>\n   </g>\n   <g id=\"patch_6\">\n    <path clip-path=\"url(#p3ebf050f39)\" d=\"M 306.603125 207.377841 \nL 373.563125 207.377841 \nL 373.563125 164.274205 \nL 306.603125 164.274205 \nL 306.603125 207.377841 \nz\n\" style=\"fill:#b55d60;stroke:#4c4c4c;stroke-linejoin:miter;stroke-width:1.5;\"/>\n   </g>\n   <g id=\"line2d_6\">\n    <path clip-path=\"url(#p3ebf050f39)\" d=\"M 88.983125 208.201477 \nL 88.983125 224.674205 \n\" style=\"fill:none;stroke:#4c4c4c;stroke-linecap:round;stroke-width:1.5;\"/>\n   </g>\n   <g id=\"line2d_7\">\n    <path clip-path=\"url(#p3ebf050f39)\" d=\"M 88.983125 178.276023 \nL 88.983125 138.57675 \n\" style=\"fill:none;stroke:#4c4c4c;stroke-linecap:round;stroke-width:1.5;\"/>\n   </g>\n   <g id=\"line2d_8\">\n    <path clip-path=\"url(#p3ebf050f39)\" d=\"M 72.243125 224.674205 \nL 105.723125 224.674205 \n\" style=\"fill:none;stroke:#4c4c4c;stroke-linecap:round;stroke-width:1.5;\"/>\n   </g>\n   <g id=\"line2d_9\">\n    <path clip-path=\"url(#p3ebf050f39)\" d=\"M 72.243125 138.57675 \nL 105.723125 138.57675 \n\" style=\"fill:none;stroke:#4c4c4c;stroke-linecap:round;stroke-width:1.5;\"/>\n   </g>\n   <g id=\"line2d_10\">\n    <defs>\n     <path d=\"M -0 3.535534 \nL 2.12132 0 \nL -0 -3.535534 \nL -2.12132 -0 \nz\n\" id=\"me86cd1d085\" style=\"stroke:#4c4c4c;stroke-linejoin:miter;\"/>\n    </defs>\n    <g clip-path=\"url(#p3ebf050f39)\">\n     <use style=\"fill:#4c4c4c;stroke:#4c4c4c;stroke-linejoin:miter;\" x=\"88.983125\" xlink:href=\"#me86cd1d085\" y=\"123.641477\"/>\n     <use style=\"fill:#4c4c4c;stroke:#4c4c4c;stroke-linejoin:miter;\" x=\"88.983125\" xlink:href=\"#me86cd1d085\" y=\"104.972386\"/>\n    </g>\n   </g>\n   <g id=\"line2d_11\">\n    <path clip-path=\"url(#p3ebf050f39)\" d=\"M 172.683125 209.080023 \nL 172.683125 230.165114 \n\" style=\"fill:none;stroke:#4c4c4c;stroke-linecap:round;stroke-width:1.5;\"/>\n   </g>\n   <g id=\"line2d_12\">\n    <path clip-path=\"url(#p3ebf050f39)\" d=\"M 172.683125 178.221114 \nL 172.683125 148.24075 \n\" style=\"fill:none;stroke:#4c4c4c;stroke-linecap:round;stroke-width:1.5;\"/>\n   </g>\n   <g id=\"line2d_13\">\n    <path clip-path=\"url(#p3ebf050f39)\" d=\"M 155.943125 230.165114 \nL 189.423125 230.165114 \n\" style=\"fill:none;stroke:#4c4c4c;stroke-linecap:round;stroke-width:1.5;\"/>\n   </g>\n   <g id=\"line2d_14\">\n    <path clip-path=\"url(#p3ebf050f39)\" d=\"M 155.943125 148.24075 \nL 189.423125 148.24075 \n\" style=\"fill:none;stroke:#4c4c4c;stroke-linecap:round;stroke-width:1.5;\"/>\n   </g>\n   <g id=\"line2d_15\"/>\n   <g id=\"line2d_16\">\n    <path clip-path=\"url(#p3ebf050f39)\" d=\"M 256.383125 208.201477 \nL 256.383125 230.165114 \n\" style=\"fill:none;stroke:#4c4c4c;stroke-linecap:round;stroke-width:1.5;\"/>\n   </g>\n   <g id=\"line2d_17\">\n    <path clip-path=\"url(#p3ebf050f39)\" d=\"M 256.383125 178.111295 \nL 256.383125 138.796386 \n\" style=\"fill:none;stroke:#4c4c4c;stroke-linecap:round;stroke-width:1.5;\"/>\n   </g>\n   <g id=\"line2d_18\">\n    <path clip-path=\"url(#p3ebf050f39)\" d=\"M 239.643125 230.165114 \nL 273.123125 230.165114 \n\" style=\"fill:none;stroke:#4c4c4c;stroke-linecap:round;stroke-width:1.5;\"/>\n   </g>\n   <g id=\"line2d_19\">\n    <path clip-path=\"url(#p3ebf050f39)\" d=\"M 239.643125 138.796386 \nL 273.123125 138.796386 \n\" style=\"fill:none;stroke:#4c4c4c;stroke-linecap:round;stroke-width:1.5;\"/>\n   </g>\n   <g id=\"line2d_20\">\n    <g clip-path=\"url(#p3ebf050f39)\">\n     <use style=\"fill:#4c4c4c;stroke:#4c4c4c;stroke-linejoin:miter;\" x=\"256.383125\" xlink:href=\"#me86cd1d085\" y=\"85.644386\"/>\n     <use style=\"fill:#4c4c4c;stroke:#4c4c4c;stroke-linejoin:miter;\" x=\"256.383125\" xlink:href=\"#me86cd1d085\" y=\"104.313477\"/>\n     <use style=\"fill:#4c4c4c;stroke:#4c4c4c;stroke-linejoin:miter;\" x=\"256.383125\" xlink:href=\"#me86cd1d085\" y=\"32.492386\"/>\n     <use style=\"fill:#4c4c4c;stroke:#4c4c4c;stroke-linejoin:miter;\" x=\"256.383125\" xlink:href=\"#me86cd1d085\" y=\"54.456023\"/>\n     <use style=\"fill:#4c4c4c;stroke:#4c4c4c;stroke-linejoin:miter;\" x=\"256.383125\" xlink:href=\"#me86cd1d085\" y=\"109.365114\"/>\n     <use style=\"fill:#4c4c4c;stroke:#4c4c4c;stroke-linejoin:miter;\" x=\"256.383125\" xlink:href=\"#me86cd1d085\" y=\"122.104023\"/>\n    </g>\n   </g>\n   <g id=\"line2d_21\">\n    <path clip-path=\"url(#p3ebf050f39)\" d=\"M 340.083125 207.377841 \nL 340.083125 229.945477 \n\" style=\"fill:none;stroke:#4c4c4c;stroke-linecap:round;stroke-width:1.5;\"/>\n   </g>\n   <g id=\"line2d_22\">\n    <path clip-path=\"url(#p3ebf050f39)\" d=\"M 340.083125 164.274205 \nL 340.083125 109.365114 \n\" style=\"fill:none;stroke:#4c4c4c;stroke-linecap:round;stroke-width:1.5;\"/>\n   </g>\n   <g id=\"line2d_23\">\n    <path clip-path=\"url(#p3ebf050f39)\" d=\"M 323.343125 229.945477 \nL 356.823125 229.945477 \n\" style=\"fill:none;stroke:#4c4c4c;stroke-linecap:round;stroke-width:1.5;\"/>\n   </g>\n   <g id=\"line2d_24\">\n    <path clip-path=\"url(#p3ebf050f39)\" d=\"M 323.343125 109.365114 \nL 356.823125 109.365114 \n\" style=\"fill:none;stroke:#4c4c4c;stroke-linecap:round;stroke-width:1.5;\"/>\n   </g>\n   <g id=\"line2d_25\"/>\n   <g id=\"line2d_26\">\n    <path clip-path=\"url(#p3ebf050f39)\" d=\"M 55.503125 201.502568 \nL 122.463125 201.502568 \n\" style=\"fill:none;stroke:#4c4c4c;stroke-linecap:round;stroke-width:1.5;\"/>\n   </g>\n   <g id=\"line2d_27\">\n    <path clip-path=\"url(#p3ebf050f39)\" d=\"M 139.203125 186.237841 \nL 206.163125 186.237841 \n\" style=\"fill:none;stroke:#4c4c4c;stroke-linecap:round;stroke-width:1.5;\"/>\n   </g>\n   <g id=\"line2d_28\">\n    <path clip-path=\"url(#p3ebf050f39)\" d=\"M 222.903125 191.72875 \nL 289.863125 191.72875 \n\" style=\"fill:none;stroke:#4c4c4c;stroke-linecap:round;stroke-width:1.5;\"/>\n   </g>\n   <g id=\"line2d_29\">\n    <path clip-path=\"url(#p3ebf050f39)\" d=\"M 306.603125 182.943295 \nL 373.563125 182.943295 \n\" style=\"fill:none;stroke:#4c4c4c;stroke-linecap:round;stroke-width:1.5;\"/>\n   </g>\n   <g id=\"patch_7\">\n    <path d=\"M 47.133125 240.04875 \nL 47.133125 22.60875 \n\" style=\"fill:none;stroke:#ffffff;stroke-linecap:square;stroke-linejoin:miter;stroke-width:1.25;\"/>\n   </g>\n   <g id=\"patch_8\">\n    <path d=\"M 381.933125 240.04875 \nL 381.933125 22.60875 \n\" style=\"fill:none;stroke:#ffffff;stroke-linecap:square;stroke-linejoin:miter;stroke-width:1.25;\"/>\n   </g>\n   <g id=\"patch_9\">\n    <path d=\"M 47.133125 240.04875 \nL 381.933125 240.04875 \n\" style=\"fill:none;stroke:#ffffff;stroke-linecap:square;stroke-linejoin:miter;stroke-width:1.25;\"/>\n   </g>\n   <g id=\"patch_10\">\n    <path d=\"M 47.133125 22.60875 \nL 381.933125 22.60875 \n\" style=\"fill:none;stroke:#ffffff;stroke-linecap:square;stroke-linejoin:miter;stroke-width:1.25;\"/>\n   </g>\n   <g id=\"text_12\">\n    <!-- 요일별 팁의 Box Plot -->\n    <g style=\"fill:#262626;\" transform=\"translate(157.976562 16.60875)scale(0.12 -0.12)\">\n     <defs>\n      <path d=\"M 4800 3334 \nQ 4800 3878 4288 4160 \nQ 4064 4288 3792 4349 \nQ 3520 4410 3187 4410 \nQ 2419 4410 1984 4144 \nQ 1549 3878 1549 3379 \nQ 1549 2778 2157 2528 \nQ 2534 2368 3110 2368 \nQ 3462 2368 3747 2422 \nQ 4032 2477 4262 2586 \nQ 4800 2842 4800 3334 \nz\nM 6016 307 \nL 3238 307 \nQ 2835 307 2371 300 \nQ 1907 294 1376 282 \nQ 1184 275 934 268 \nQ 685 262 378 250 \nL 378 691 \nL 1363 678 \nL 2022 685 \nL 2022 1466 \nL 1997 1760 \nL 2138 1760 \nQ 2310 1760 2416 1744 \nQ 2522 1728 2522 1670 \nQ 2522 1632 2493 1552 \nQ 2464 1472 2464 1440 \nL 2464 685 \nL 3853 685 \nQ 3859 736 3862 829 \nQ 3866 922 3866 960 \nL 3821 1760 \nL 3930 1760 \nQ 4115 1760 4233 1741 \nQ 4352 1722 4352 1670 \nQ 4352 1658 4333 1584 \nQ 4314 1510 4314 1440 \nL 4314 678 \nQ 4442 678 4598 684 \nQ 4755 691 4947 704 \nQ 5798 762 6016 762 \nL 6016 307 \nz\nM 5248 3347 \nQ 5248 2675 4602 2310 \nQ 4045 2003 3251 2003 \nQ 2842 2003 2512 2054 \nQ 2182 2106 1920 2214 \nQ 1094 2547 1094 3366 \nQ 1094 4109 1792 4461 \nQ 2336 4742 3162 4742 \nQ 4045 4742 4589 4442 \nQ 5248 4077 5248 3347 \nz\n\" id=\"AppleGothic-c694\" transform=\"scale(0.015625)\"/>\n      <path d=\"M 3379 3494 \nQ 3379 3910 3027 4160 \nQ 2701 4390 2246 4390 \nQ 1792 4390 1478 4166 \nQ 1139 3923 1139 3482 \nQ 1139 3104 1459 2867 \nQ 1786 2637 2202 2637 \nQ 2694 2637 3021 2848 \nQ 3379 3085 3379 3494 \nz\nM 5504 -435 \nQ 5331 -429 5091 -429 \nQ 4851 -429 4544 -422 \nQ 4237 -416 4051 -416 \nQ 3866 -416 3795 -416 \nL 1549 -416 \nL 1562 166 \nL 1555 864 \nQ 1651 864 1859 861 \nQ 2067 858 2394 851 \nQ 2720 845 2947 845 \nQ 3174 845 3302 845 \nL 4237 845 \nQ 4410 851 4579 854 \nQ 4749 858 4922 864 \nL 4922 1414 \nL 4634 1414 \nQ 3565 1434 3462 1434 \nL 3232 1434 \nQ 2803 1434 2339 1421 \nQ 1875 1408 1485 1395 \nL 1485 1760 \nQ 1606 1754 1795 1754 \nQ 1984 1754 2253 1747 \nQ 2515 1741 2761 1741 \nQ 3008 1741 3245 1741 \nL 4467 1741 \nQ 4698 1747 4931 1750 \nQ 5165 1754 5395 1760 \nL 5389 1146 \nL 5408 544 \nL 2035 518 \nL 2035 -77 \nQ 2202 -83 2387 -83 \nQ 2573 -83 2784 -83 \nQ 2995 -90 3171 -90 \nQ 3347 -90 3482 -90 \nQ 3923 -90 4246 -86 \nQ 4570 -83 4781 -77 \nQ 4992 -70 5174 -64 \nQ 5357 -58 5504 -45 \nL 5504 -435 \nz\nM 3821 3494 \nQ 3821 3194 3702 2973 \nQ 3584 2752 3354 2586 \nQ 2931 2298 2266 2298 \nQ 1536 2298 1107 2682 \nQ 710 3027 710 3520 \nQ 710 4000 1082 4339 \nQ 1491 4710 2202 4710 \nQ 2573 4710 2873 4627 \nQ 3174 4544 3385 4390 \nQ 3597 4237 3709 4009 \nQ 3821 3782 3821 3494 \nz\nM 5434 5075 \nQ 5434 5056 5414 4982 \nQ 5395 4909 5395 4858 \nL 5382 3680 \nQ 5382 3283 5388 2854 \nQ 5395 2426 5408 2061 \nL 4928 2061 \nL 4941 3686 \nQ 4941 4051 4937 4451 \nQ 4934 4851 4922 5190 \nL 4947 5190 \nQ 5210 5190 5322 5161 \nQ 5434 5133 5434 5075 \nz\n\" id=\"AppleGothic-c77c\" transform=\"scale(0.015625)\"/>\n      <path d=\"M 3027 2739 \nL 3027 3680 \nL 2150 3693 \nL 1293 3680 \nL 1293 2739 \nL 2144 2720 \nL 3027 2739 \nz\nM 5440 -531 \nQ 5178 -525 4906 -518 \nQ 4634 -512 4339 -506 \nQ 4038 -499 3801 -496 \nQ 3565 -493 3379 -493 \nL 1446 -493 \nQ 1453 -422 1456 -336 \nQ 1459 -250 1466 -141 \nQ 1466 -45 1469 19 \nQ 1472 83 1472 115 \nL 1459 762 \nL 3354 749 \nL 4845 774 \nL 4845 1382 \nL 1446 1370 \nL 1446 1734 \nQ 1658 1734 1888 1728 \nQ 2118 1722 2374 1715 \nQ 2630 1709 2864 1705 \nQ 3098 1702 3322 1702 \nL 5299 1715 \nL 5280 1094 \nL 5293 410 \nL 3373 429 \nL 1901 416 \nL 1901 -128 \nQ 1978 -134 2134 -134 \nQ 2291 -134 2522 -134 \nQ 2752 -141 2969 -144 \nQ 3187 -147 3392 -147 \nQ 3846 -147 4380 -137 \nQ 4915 -128 5440 -109 \nL 5440 -531 \nz\nM 5440 5062 \nQ 5440 5024 5414 4937 \nQ 5389 4851 5389 4813 \nQ 5382 4589 5372 4224 \nQ 5363 3859 5363 3334 \nQ 5363 3008 5363 2784 \nQ 5363 2560 5370 2445 \nQ 5376 2323 5376 2220 \nQ 5376 2118 5382 2029 \nL 4922 2029 \nQ 4941 2189 4941 2394 \nL 4941 2822 \nL 3878 2803 \nL 3878 3174 \nL 4941 3162 \nL 4941 3917 \nL 3859 3904 \nL 3859 4269 \nL 4941 4256 \nL 4941 4685 \nQ 4941 4909 4934 5021 \nQ 4928 5133 4915 5190 \nL 5056 5190 \nQ 5222 5190 5331 5164 \nQ 5440 5139 5440 5062 \nz\nM 3488 4877 \nL 3469 4710 \nL 3456 3462 \nL 3469 2362 \nL 851 2362 \nQ 851 2630 857 2944 \nQ 864 3258 870 3578 \nQ 870 3853 870 4061 \nQ 870 4269 864 4416 \nQ 858 4570 858 4704 \nQ 858 4838 851 4966 \nL 979 4966 \nQ 1146 4966 1242 4950 \nQ 1338 4934 1338 4864 \nQ 1338 4838 1315 4761 \nQ 1293 4685 1293 4653 \nL 1293 4051 \nL 2157 4032 \nL 3027 4051 \nL 3014 4998 \nL 3072 4998 \nQ 3264 4998 3376 4976 \nQ 3488 4954 3488 4877 \nz\n\" id=\"AppleGothic-bcc4\" transform=\"scale(0.015625)\"/>\n      <path id=\"AppleGothic-20\" transform=\"scale(0.015625)\"/>\n      <path d=\"M 4954 32 \nL 4954 736 \nL 3232 736 \nQ 3002 736 2829 736 \nQ 2656 736 2528 730 \nQ 2400 730 2278 726 \nQ 2157 723 2029 717 \nL 2029 -26 \nL 3418 -26 \nQ 3898 -26 4294 -6 \nQ 4691 13 4954 32 \nz\nM 5446 1677 \nQ 5446 1658 5433 1578 \nQ 5421 1498 5421 1427 \nL 5414 538 \nL 5414 -90 \nQ 5421 -198 5424 -304 \nQ 5427 -410 5434 -506 \nL 4960 -506 \nL 4954 -339 \nL 2048 -403 \nL 2022 -531 \nL 1562 -538 \nQ 1562 -480 1562 -355 \nQ 1562 -230 1568 -32 \nQ 1574 160 1577 294 \nQ 1581 429 1581 499 \nQ 1581 806 1574 1113 \nQ 1568 1421 1555 1683 \nL 1965 1677 \nQ 2054 1677 2054 1594 \nQ 2054 1568 2041 1494 \nQ 2029 1421 2029 1408 \nL 2029 1107 \nQ 2240 1094 2505 1088 \nQ 2771 1082 3059 1082 \nL 4954 1126 \nL 4960 1434 \nL 4941 1773 \nL 5082 1773 \nQ 5286 1773 5366 1750 \nQ 5446 1728 5446 1677 \nz\nM 4448 2182 \nQ 4333 2170 4233 2157 \nQ 4134 2144 4045 2138 \nQ 3750 2112 3462 2099 \nQ 3174 2086 2874 2086 \nQ 2605 2086 2291 2080 \nQ 1978 2074 1626 2061 \nQ 1498 2054 1331 2048 \nQ 1165 2042 954 2029 \nL 973 3283 \nL 954 4582 \nL 2573 4589 \nQ 2899 4589 3305 4605 \nQ 3712 4621 4064 4640 \nL 4064 4237 \nL 3162 4250 \nQ 3014 4250 2796 4243 \nQ 2579 4237 2278 4224 \nQ 1984 4211 1766 4204 \nQ 1549 4198 1402 4198 \nL 1402 3552 \nL 1760 3546 \nQ 1926 3546 2204 3555 \nQ 2483 3565 2874 3578 \nQ 3264 3597 3517 3603 \nQ 3770 3610 3885 3610 \nL 3885 3187 \nL 2477 3200 \nQ 2131 3200 1881 3193 \nQ 1632 3187 1408 3168 \nL 1408 2458 \nL 2886 2470 \nQ 3258 2470 3872 2509 \nQ 3981 2515 4115 2521 \nQ 4250 2528 4422 2541 \nL 4448 2182 \nz\nM 5466 5062 \nQ 5466 5043 5440 4934 \nQ 5421 4819 5421 4749 \nL 5421 4531 \nQ 5402 3706 5402 3558 \nL 5421 1939 \nL 4928 1920 \nQ 4934 1997 4934 2067 \nQ 4934 2138 4934 2195 \nQ 4954 2970 4954 3341 \nL 4954 3539 \nQ 4941 4358 4931 4768 \nQ 4922 5178 4922 5190 \nL 5152 5197 \nQ 5299 5197 5382 5171 \nQ 5466 5146 5466 5062 \nz\n\" id=\"AppleGothic-d301\" transform=\"scale(0.015625)\"/>\n      <path d=\"M 3571 3379 \nQ 3571 4218 2573 4218 \nQ 2061 4218 1776 3987 \nQ 1491 3757 1491 3386 \nQ 1491 2970 1786 2733 \nQ 2054 2522 2509 2522 \nQ 3059 2522 3328 2765 \nQ 3571 2976 3571 3379 \nz\nM 4608 1094 \nQ 4134 1018 3872 979 \nQ 3456 928 3120 899 \nQ 2784 870 2528 870 \nL 902 813 \nQ 858 800 816 790 \nQ 774 781 730 768 \nQ 653 768 608 941 \nQ 563 1114 563 1242 \nL 2477 1248 \nQ 2938 1248 3334 1273 \nQ 3731 1299 4070 1350 \nQ 4282 1376 4576 1459 \nL 4608 1094 \nz\nM 5466 5069 \nQ 5466 5037 5437 4944 \nQ 5408 4851 5408 4813 \nL 5408 2298 \nQ 5408 2010 5411 1683 \nQ 5414 1357 5421 973 \nQ 5427 595 5433 230 \nQ 5440 -134 5453 -499 \nL 4973 -557 \nL 4973 45 \nQ 4979 237 4979 512 \nQ 4979 787 4986 1158 \nQ 4992 1523 4992 1788 \nQ 4992 2054 4992 2221 \nQ 4992 2880 4985 3357 \nQ 4979 3834 4966 4122 \nQ 4954 4410 4944 4675 \nQ 4934 4941 4922 5184 \nL 5024 5184 \nQ 5190 5184 5328 5158 \nQ 5466 5133 5466 5069 \nz\nM 4006 3328 \nQ 4006 2790 3578 2464 \nQ 3155 2138 2528 2138 \nQ 1894 2138 1504 2445 \nQ 1088 2765 1088 3341 \nQ 1088 3955 1517 4288 \nQ 1920 4602 2541 4602 \nQ 3174 4602 3597 4269 \nQ 4006 3936 4006 3354 \nL 4006 3328 \nz\n\" id=\"AppleGothic-c758\" transform=\"scale(0.015625)\"/>\n      <path d=\"M 307 5018 \nL 2029 5018 \nQ 2675 5018 3053 4755 \nQ 3494 4442 3494 3859 \nQ 3494 3373 3181 3040 \nQ 3091 2938 2960 2854 \nQ 2829 2771 2662 2694 \nQ 3322 2586 3616 2176 \nQ 3840 1862 3840 1472 \nQ 3840 838 3360 416 \nQ 2899 0 2240 0 \nL 307 0 \nL 307 5018 \nz\nM 1997 4576 \nL 813 4576 \nL 813 2854 \nL 1766 2854 \nQ 2342 2854 2649 3113 \nQ 2957 3373 2957 3782 \nQ 2957 4102 2739 4333 \nQ 2477 4576 1997 4576 \nz\nM 1907 2413 \nL 813 2413 \nL 813 442 \nL 2029 442 \nQ 2579 442 2931 717 \nQ 3283 1011 3283 1466 \nQ 3283 1926 2928 2169 \nQ 2573 2413 1907 2413 \nz\n\" id=\"AppleGothic-42\" transform=\"scale(0.015625)\"/>\n      <path d=\"M 1888 -83 \nQ 1229 -83 730 397 \nQ 198 902 198 1709 \nQ 198 2470 666 2982 \nQ 1146 3501 1850 3501 \nQ 2547 3501 3027 2982 \nQ 3501 2470 3501 1715 \nQ 3501 922 2989 403 \nQ 2515 -83 1888 -83 \nz\nM 1843 339 \nQ 2304 339 2662 723 \nQ 3008 1114 3008 1715 \nQ 3008 2336 2637 2726 \nQ 2298 3085 1850 3085 \nQ 1389 3085 1062 2714 \nQ 704 2304 704 1709 \nQ 704 1107 1056 704 \nQ 1382 339 1843 339 \nz\n\" id=\"AppleGothic-6f\" transform=\"scale(0.015625)\"/>\n      <path d=\"M 352 3424 \nL 928 3424 \nL 1754 2150 \nL 2592 3424 \nL 3130 3424 \nL 2022 1830 \nL 3270 0 \nL 2682 0 \nL 1722 1504 \nL 755 0 \nL 211 0 \nL 1466 1830 \nL 352 3424 \nz\n\" id=\"AppleGothic-78\" transform=\"scale(0.015625)\"/>\n      <path d=\"M 262 5018 \nL 1869 5018 \nQ 2560 5018 3002 4781 \nQ 3597 4448 3597 3718 \nQ 3597 3014 3104 2630 \nQ 2656 2272 1952 2272 \nL 768 2272 \nL 768 0 \nL 262 0 \nL 262 5018 \nz\nM 1862 4576 \nL 768 4576 \nL 768 2714 \nL 1901 2714 \nQ 2349 2714 2675 2950 \nQ 3040 3219 3040 3674 \nQ 3040 4186 2611 4410 \nQ 2298 4576 1862 4576 \nz\n\" id=\"AppleGothic-50\" transform=\"scale(0.015625)\"/>\n      <path d=\"M 288 5018 \nL 749 5018 \nL 749 0 \nL 288 0 \nL 288 5018 \nz\n\" id=\"AppleGothic-6c\" transform=\"scale(0.015625)\"/>\n     </defs>\n     <use xlink:href=\"#AppleGothic-c694\"/>\n     <use x=\"99.999985\" xlink:href=\"#AppleGothic-c77c\"/>\n     <use x=\"199.999969\" xlink:href=\"#AppleGothic-bcc4\"/>\n     <use x=\"299.999954\" xlink:href=\"#AppleGothic-20\"/>\n     <use x=\"331.999939\" xlink:href=\"#AppleGothic-d301\"/>\n     <use x=\"431.999924\" xlink:href=\"#AppleGothic-c758\"/>\n     <use x=\"531.999908\" xlink:href=\"#AppleGothic-20\"/>\n     <use x=\"563.999893\" xlink:href=\"#AppleGothic-42\"/>\n     <use x=\"628.399887\" xlink:href=\"#AppleGothic-6f\"/>\n     <use x=\"686.699875\" xlink:href=\"#AppleGothic-78\"/>\n     <use x=\"741.099869\" xlink:href=\"#AppleGothic-20\"/>\n     <use x=\"773.099854\" xlink:href=\"#AppleGothic-50\"/>\n     <use x=\"833.399841\" xlink:href=\"#AppleGothic-6c\"/>\n     <use x=\"850.099838\" xlink:href=\"#AppleGothic-6f\"/>\n     <use x=\"908.399826\" xlink:href=\"#AppleGothic-74\"/>\n    </g>\n   </g>\n  </g>\n </g>\n <defs>\n  <clipPath id=\"p3ebf050f39\">\n   <rect height=\"217.44\" width=\"334.8\" x=\"47.133125\" y=\"22.60875\"/>\n  </clipPath>\n </defs>\n</svg>\n",
      "image/png": "[encoded data removed]"
     },
     "metadata": {
      "needs_background": "light"
     }
    }
   ],
   "metadata": {}
  },
  {
   "cell_type": "code",
   "execution_count": 73,
   "source": [
    "sns.violinplot(data=tips, x=\"day\", y=\"tip\", hue=\"sex\")\n",
    "plt.title(\"요일 별, 성별 팁의 Violin Plot\")\n",
    "plt.show()"
   ],
   "outputs": [
    {
     "output_type": "display_data",
     "data": {
      "text/plain": [
       "<Figure size 432x288 with 1 Axes>"
      ],
      "image/svg+xml": "<?xml version=\"1.0\" encoding=\"utf-8\" standalone=\"no\"?>\n<!DOCTYPE svg PUBLIC \"-//W3C//DTD SVG 1.1//EN\"\n  \"http://www.w3.org/Graphics/SVG/1.1/DTD/svg11.dtd\">\n<svg height=\"282.821406pt\" version=\"1.1\" viewBox=\"0 0 389.133125 282.821406\" width=\"389.133125pt\" xmlns=\"http://www.w3.org/2000/svg\" xmlns:xlink=\"http://www.w3.org/1999/xlink\">\n <metadata>\n  <rdf:RDF xmlns:cc=\"http://creativecommons.org/ns#\" xmlns:dc=\"http://purl.org/dc/elements/1.1/\" xmlns:rdf=\"http://www.w3.org/1999/02/22-rdf-syntax-ns#\">\n   <cc:Work>\n    <dc:type rdf:resource=\"http://purl.org/dc/dcmitype/StillImage\"/>\n    <dc:date>2021-08-23T11:25:28.492171</dc:date>\n    <dc:format>image/svg+xml</dc:format>\n    <dc:creator>\n     <cc:Agent>\n      <dc:title>Matplotlib v3.4.2, https://matplotlib.org/</dc:title>\n     </cc:Agent>\n    </dc:creator>\n   </cc:Work>\n  </rdf:RDF>\n </metadata>\n <defs>\n  <style type=\"text/css\">*{stroke-linecap:butt;stroke-linejoin:round;}</style>\n </defs>\n <g id=\"figure_1\">\n  <g id=\"patch_1\">\n   <path d=\"M 0 282.821406 \nL 389.133125 282.821406 \nL 389.133125 0 \nL 0 0 \nz\n\" style=\"fill:none;\"/>\n  </g>\n  <g id=\"axes_1\">\n   <g id=\"patch_2\">\n    <path d=\"M 47.133125 240.084375 \nL 381.933125 240.084375 \nL 381.933125 22.644375 \nL 47.133125 22.644375 \nz\n\" style=\"fill:#eaeaf2;\"/>\n   </g>\n   <g id=\"matplotlib.axis_1\">\n    <g id=\"xtick_1\">\n     <g id=\"text_1\">\n      <!-- Thur -->\n      <g style=\"fill:#262626;\" transform=\"translate(77.488125 258.209062)scale(0.11 -0.11)\">\n       <defs>\n        <path d=\"M 166 5018 \nL 4038 5018 \nL 4038 4576 \nL 2355 4576 \nL 2355 0 \nL 1856 0 \nL 1856 4576 \nL 166 4576 \nL 166 5018 \nz\n\" id=\"AppleGothic-54\" transform=\"scale(0.015625)\"/>\n        <path d=\"M 288 5018 \nL 749 5018 \nL 749 2810 \nQ 909 3066 1139 3238 \nQ 1491 3501 1926 3501 \nQ 2195 3501 2409 3424 \nQ 2624 3347 2803 3200 \nQ 3181 2867 3181 2266 \nL 3181 0 \nL 2714 0 \nL 2714 2202 \nQ 2714 2573 2477 2829 \nQ 2240 3085 1901 3085 \nQ 1408 3085 1082 2694 \nQ 749 2291 749 1773 \nL 749 0 \nL 288 0 \nL 288 5018 \nz\n\" id=\"AppleGothic-68\" transform=\"scale(0.015625)\"/>\n        <path d=\"M 262 3424 \nL 730 3424 \nL 730 1242 \nQ 730 877 941 627 \nQ 1171 339 1594 339 \nQ 2080 339 2426 730 \nQ 2784 1139 2784 1632 \nL 2784 3424 \nL 3245 3424 \nL 3245 0 \nL 2842 0 \nL 2810 582 \nQ 2707 442 2592 330 \nQ 2477 218 2342 134 \nQ 1984 -83 1555 -83 \nQ 966 -83 614 282 \nQ 262 653 262 1184 \nL 262 3424 \nz\n\" id=\"AppleGothic-75\" transform=\"scale(0.015625)\"/>\n        <path d=\"M 2125 3424 \nL 2125 2963 \nQ 2054 2989 2009 3005 \nQ 1965 3021 1933 3027 \nQ 1901 3034 1865 3037 \nQ 1830 3040 1773 3040 \nQ 1306 3040 1005 2586 \nQ 749 2170 749 1658 \nL 749 0 \nL 288 0 \nL 288 3424 \nL 710 3424 \nL 742 2835 \nQ 902 3104 1043 3219 \nQ 1331 3456 1734 3456 \nQ 1843 3456 1936 3449 \nQ 2029 3443 2125 3424 \nz\n\" id=\"AppleGothic-72\" transform=\"scale(0.015625)\"/>\n       </defs>\n       <use xlink:href=\"#AppleGothic-54\"/>\n       <use x=\"66.099991\" xlink:href=\"#AppleGothic-68\"/>\n       <use x=\"118.299988\" xlink:href=\"#AppleGothic-75\"/>\n       <use x=\"173.799973\" xlink:href=\"#AppleGothic-72\"/>\n      </g>\n     </g>\n    </g>\n    <g id=\"xtick_2\">\n     <g id=\"text_2\">\n      <!-- Fri -->\n      <g style=\"fill:#262626;\" transform=\"translate(166.670938 258.209062)scale(0.11 -0.11)\">\n       <defs>\n        <path d=\"M 339 5018 \nL 3462 5018 \nL 3462 4576 \nL 845 4576 \nL 845 2714 \nL 3354 2714 \nL 3354 2304 \nL 845 2304 \nL 845 0 \nL 339 0 \nL 339 5018 \nz\n\" id=\"AppleGothic-46\" transform=\"scale(0.015625)\"/>\n        <path d=\"M 256 3424 \nL 717 3424 \nL 717 0 \nL 256 0 \nL 256 3424 \nz\nM 480 4870 \nQ 614 4870 704 4780 \nQ 794 4691 794 4525 \nQ 794 4358 710 4268 \nQ 627 4179 480 4179 \nQ 333 4179 253 4281 \nQ 173 4384 173 4518 \nQ 173 4730 269 4800 \nQ 365 4870 480 4870 \nz\n\" id=\"AppleGothic-69\" transform=\"scale(0.015625)\"/>\n       </defs>\n       <use xlink:href=\"#AppleGothic-46\"/>\n       <use x=\"58.199997\" xlink:href=\"#AppleGothic-72\"/>\n       <use x=\"93.399994\" xlink:href=\"#AppleGothic-69\"/>\n      </g>\n     </g>\n    </g>\n    <g id=\"xtick_3\">\n     <g id=\"text_3\">\n      <!-- Sat -->\n      <g style=\"fill:#262626;\" transform=\"translate(247.918281 258.209062)scale(0.11 -0.11)\">\n       <defs>\n        <path d=\"M 3418 4666 \nL 3418 4019 \nQ 3251 4160 3081 4269 \nQ 2912 4378 2746 4448 \nQ 2362 4627 1965 4627 \nQ 1466 4627 1139 4378 \nQ 806 4122 806 3770 \nQ 806 3258 1562 3002 \nQ 1914 2880 2262 2768 \nQ 2611 2656 2970 2541 \nQ 3731 2176 3731 1453 \nQ 3731 749 3187 320 \nQ 2669 -83 1901 -83 \nQ 1389 -83 915 115 \nQ 640 224 262 474 \nL 262 1126 \nQ 755 685 1261 506 \nQ 1427 442 1587 416 \nQ 1747 390 1907 390 \nQ 2419 390 2771 646 \nQ 3162 928 3162 1382 \nQ 3162 1933 2419 2221 \nQ 2061 2330 1715 2445 \nQ 1370 2560 1024 2669 \nQ 275 3014 275 3731 \nQ 275 4333 749 4710 \nQ 1235 5101 1965 5101 \nQ 2413 5101 2861 4934 \nQ 3091 4858 3418 4666 \nz\n\" id=\"AppleGothic-53\" transform=\"scale(0.015625)\"/>\n        <path d=\"M 2950 2214 \nL 2950 602 \nQ 2950 493 2998 413 \nQ 3046 333 3174 333 \nQ 3213 333 3238 336 \nQ 3264 339 3290 346 \nQ 3328 358 3357 371 \nQ 3386 384 3405 390 \nL 3405 32 \nQ 3290 -6 3174 -22 \nQ 3059 -38 2995 -38 \nQ 2669 -38 2566 134 \nQ 2483 243 2483 602 \nQ 2400 461 2317 355 \nQ 2234 250 2150 179 \nQ 1818 -83 1376 -83 \nQ 909 -83 563 192 \nQ 205 486 205 941 \nQ 205 1510 781 1779 \nQ 992 1882 1341 1958 \nQ 1690 2035 2176 2099 \nL 2483 2131 \nQ 2483 2579 2256 2832 \nQ 2029 3085 1587 3085 \nQ 1421 3085 1257 3043 \nQ 1094 3002 928 2912 \nQ 838 2861 729 2790 \nQ 621 2720 493 2611 \nL 493 3136 \nQ 1037 3501 1664 3501 \nQ 2304 3501 2650 3098 \nQ 2950 2746 2950 2214 \nz\nM 2483 1542 \nL 2483 1747 \nL 2266 1722 \nQ 1466 1638 1139 1498 \nQ 704 1325 704 934 \nQ 704 819 755 713 \nQ 806 608 896 525 \nQ 986 442 1117 390 \nQ 1248 339 1408 339 \nQ 1843 339 2170 691 \nQ 2483 1050 2483 1542 \nz\n\" id=\"AppleGothic-61\" transform=\"scale(0.015625)\"/>\n        <path d=\"M 691 4435 \nL 1114 4435 \nL 1114 3430 \nL 2016 3430 \nL 2016 3014 \nL 1114 3014 \nL 1114 838 \nQ 1114 570 1213 454 \nQ 1312 339 1555 339 \nQ 1696 339 1795 371 \nQ 1894 403 2016 454 \nL 2016 38 \nQ 1914 6 1770 -22 \nQ 1626 -51 1478 -51 \nQ 1094 -51 883 122 \nQ 646 301 646 698 \nL 646 3014 \nL 70 3014 \nL 70 3430 \nL 646 3430 \nL 691 4435 \nz\n\" id=\"AppleGothic-74\" transform=\"scale(0.015625)\"/>\n       </defs>\n       <use xlink:href=\"#AppleGothic-53\"/>\n       <use x=\"63.199997\" xlink:href=\"#AppleGothic-61\"/>\n       <use x=\"119.699982\" xlink:href=\"#AppleGothic-74\"/>\n      </g>\n     </g>\n    </g>\n    <g id=\"xtick_4\">\n     <g id=\"text_4\">\n      <!-- Sun -->\n      <g style=\"fill:#262626;\" transform=\"translate(330.479609 258.209062)scale(0.11 -0.11)\">\n       <defs>\n        <path d=\"M 3264 2291 \nL 3264 0 \nL 2803 0 \nL 2803 2259 \nQ 2803 2618 2541 2848 \nQ 2278 3085 1914 3085 \nQ 1427 3085 1075 2682 \nQ 723 2272 723 1760 \nL 723 0 \nL 288 0 \nL 288 3424 \nL 691 3424 \nL 710 2784 \nQ 883 3046 1114 3219 \nQ 1491 3501 1965 3501 \nQ 2515 3501 2886 3168 \nQ 3264 2842 3264 2291 \nz\n\" id=\"AppleGothic-6e\" transform=\"scale(0.015625)\"/>\n       </defs>\n       <use xlink:href=\"#AppleGothic-53\"/>\n       <use x=\"63.199997\" xlink:href=\"#AppleGothic-75\"/>\n       <use x=\"118.699982\" xlink:href=\"#AppleGothic-6e\"/>\n      </g>\n     </g>\n    </g>\n    <g id=\"text_5\">\n     <!-- day -->\n     <g style=\"fill:#262626;\" transform=\"translate(204.560938 273.510156)scale(0.12 -0.12)\">\n      <defs>\n       <path d=\"M 2682 5018 \nL 3174 5018 \nL 3174 0 \nL 2733 0 \nL 2688 557 \nQ 2598 429 2508 329 \nQ 2419 230 2330 160 \nQ 2010 -83 1587 -83 \nQ 928 -83 493 429 \nQ 64 941 64 1670 \nQ 64 2426 518 2957 \nQ 979 3501 1670 3501 \nQ 1958 3501 2208 3398 \nQ 2298 3360 2416 3296 \nQ 2534 3232 2682 3142 \nL 2682 5018 \nz\nM 2682 1658 \nL 2682 2643 \nQ 2381 2906 2157 2995 \nQ 1933 3085 1722 3085 \nQ 1197 3085 870 2643 \nQ 563 2227 563 1677 \nQ 563 1088 902 698 \nQ 1216 339 1645 339 \nQ 2067 339 2374 710 \nQ 2682 1082 2682 1658 \nz\n\" id=\"AppleGothic-64\" transform=\"scale(0.015625)\"/>\n       <path d=\"M 179 3424 \nL 691 3424 \nL 1869 531 \nL 2874 3424 \nL 3379 3424 \nL 1952 -397 \nQ 1798 -806 1555 -979 \nQ 1338 -1126 1037 -1126 \nQ 883 -1126 780 -1104 \nQ 678 -1082 582 -1043 \nL 582 -602 \nQ 672 -646 784 -678 \nQ 896 -710 986 -710 \nQ 1210 -710 1334 -595 \nQ 1459 -480 1555 -230 \nL 1632 32 \nL 179 3424 \nz\n\" id=\"AppleGothic-79\" transform=\"scale(0.015625)\"/>\n      </defs>\n      <use xlink:href=\"#AppleGothic-64\"/>\n      <use x=\"53.999985\" xlink:href=\"#AppleGothic-61\"/>\n      <use x=\"110.499969\" xlink:href=\"#AppleGothic-79\"/>\n     </g>\n    </g>\n   </g>\n   <g id=\"matplotlib.axis_2\">\n    <g id=\"ytick_1\">\n     <g id=\"line2d_1\">\n      <path clip-path=\"url(#p58629aab86)\" d=\"M 47.133125 220.698103 \nL 381.933125 220.698103 \n\" style=\"fill:none;stroke:#ffffff;stroke-linecap:round;\"/>\n     </g>\n     <g id=\"text_6\">\n      <!-- 0 -->\n      <g style=\"fill:#262626;\" transform=\"translate(30.153125 225.010446)scale(0.11 -0.11)\">\n       <defs>\n        <path d=\"M 2227 -83 \nQ 1414 -83 934 576 \nQ 461 1229 461 2387 \nQ 461 3552 973 4218 \nQ 1453 4858 2221 4858 \nQ 3027 4858 3482 4173 \nQ 3955 3494 3955 2394 \nQ 3955 1248 3462 582 \nQ 2976 -83 2227 -83 \nz\nM 2176 346 \nQ 2861 346 3200 992 \nQ 3462 1536 3462 2400 \nQ 3462 3315 3162 3859 \nQ 2822 4429 2214 4429 \nQ 1574 4429 1248 3821 \nQ 960 3283 960 2374 \nQ 960 1478 1248 941 \nQ 1574 346 2176 346 \nz\n\" id=\"AppleGothic-30\" transform=\"scale(0.015625)\"/>\n       </defs>\n       <use xlink:href=\"#AppleGothic-30\"/>\n      </g>\n     </g>\n    </g>\n    <g id=\"ytick_2\">\n     <g id=\"line2d_2\">\n      <path clip-path=\"url(#p58629aab86)\" d=\"M 47.133125 188.213111 \nL 381.933125 188.213111 \n\" style=\"fill:none;stroke:#ffffff;stroke-linecap:round;\"/>\n     </g>\n     <g id=\"text_7\">\n      <!-- 2 -->\n      <g style=\"fill:#262626;\" transform=\"translate(30.153125 192.525454)scale(0.11 -0.11)\">\n       <defs>\n        <path d=\"M 1101 429 \nL 3942 429 \nL 3942 0 \nL 653 0 \nL 653 205 \nQ 653 1018 1344 1664 \nQ 1670 1894 1990 2124 \nQ 2310 2355 2637 2592 \nQ 3334 3098 3334 3597 \nQ 3334 3994 3014 4218 \nQ 2867 4326 2694 4377 \nQ 2522 4429 2317 4429 \nQ 2016 4429 1741 4352 \nQ 1325 4224 883 3910 \nL 883 4435 \nQ 1325 4659 1667 4758 \nQ 2010 4858 2317 4858 \nQ 2963 4858 3405 4525 \nQ 3840 4198 3840 3622 \nQ 3840 2995 3168 2438 \nQ 2848 2214 2531 2000 \nQ 2214 1786 1894 1562 \nQ 1178 1024 1101 429 \nz\n\" id=\"AppleGothic-32\" transform=\"scale(0.015625)\"/>\n       </defs>\n       <use xlink:href=\"#AppleGothic-32\"/>\n      </g>\n     </g>\n    </g>\n    <g id=\"ytick_3\">\n     <g id=\"line2d_3\">\n      <path clip-path=\"url(#p58629aab86)\" d=\"M 47.133125 155.728119 \nL 381.933125 155.728119 \n\" style=\"fill:none;stroke:#ffffff;stroke-linecap:round;\"/>\n     </g>\n     <g id=\"text_8\">\n      <!-- 4 -->\n      <g style=\"fill:#262626;\" transform=\"translate(30.153125 160.040463)scale(0.11 -0.11)\">\n       <defs>\n        <path d=\"M 2662 4774 \nL 3130 4774 \nL 3130 1811 \nL 4000 1811 \nL 4000 1382 \nL 3130 1382 \nL 3130 0 \nL 2662 0 \nL 2662 1382 \nL 352 1382 \nL 352 1811 \nL 2662 4774 \nz\nM 2662 1811 \nL 2662 4166 \nL 838 1811 \nL 2662 1811 \nz\n\" id=\"AppleGothic-34\" transform=\"scale(0.015625)\"/>\n       </defs>\n       <use xlink:href=\"#AppleGothic-34\"/>\n      </g>\n     </g>\n    </g>\n    <g id=\"ytick_4\">\n     <g id=\"line2d_4\">\n      <path clip-path=\"url(#p58629aab86)\" d=\"M 47.133125 123.243127 \nL 381.933125 123.243127 \n\" style=\"fill:none;stroke:#ffffff;stroke-linecap:round;\"/>\n     </g>\n     <g id=\"text_9\">\n      <!-- 6 -->\n      <g style=\"fill:#262626;\" transform=\"translate(30.153125 127.555471)scale(0.11 -0.11)\">\n       <defs>\n        <path d=\"M 3699 4557 \nL 3699 4013 \nQ 3584 4102 3475 4163 \nQ 3366 4224 3258 4275 \nQ 3085 4358 2918 4393 \nQ 2752 4429 2586 4429 \nQ 2470 4429 2352 4409 \nQ 2234 4390 2118 4339 \nQ 1670 4154 1395 3738 \nQ 1011 3149 1011 2189 \nQ 1312 2490 1568 2656 \nQ 2022 2931 2534 2931 \nQ 3162 2931 3584 2566 \nQ 4038 2163 4038 1491 \nQ 4038 806 3558 358 \nQ 3078 -83 2394 -83 \nQ 1670 -83 1146 454 \nQ 518 1088 518 2253 \nQ 518 3411 1120 4134 \nQ 1715 4858 2605 4858 \nQ 2938 4858 3226 4762 \nQ 3309 4730 3427 4682 \nQ 3546 4634 3699 4557 \nz\nM 1062 1702 \nQ 1152 1152 1498 768 \nQ 1882 346 2419 346 \nQ 2899 346 3213 659 \nQ 3539 973 3539 1459 \nQ 3539 1920 3226 2214 \nQ 2918 2502 2496 2502 \nQ 1990 2502 1542 2176 \nQ 1414 2080 1292 1965 \nQ 1171 1850 1062 1702 \nz\n\" id=\"AppleGothic-36\" transform=\"scale(0.015625)\"/>\n       </defs>\n       <use xlink:href=\"#AppleGothic-36\"/>\n      </g>\n     </g>\n    </g>\n    <g id=\"ytick_5\">\n     <g id=\"line2d_5\">\n      <path clip-path=\"url(#p58629aab86)\" d=\"M 47.133125 90.758135 \nL 381.933125 90.758135 \n\" style=\"fill:none;stroke:#ffffff;stroke-linecap:round;\"/>\n     </g>\n     <g id=\"text_10\">\n      <!-- 8 -->\n      <g style=\"fill:#262626;\" transform=\"translate(30.153125 95.070479)scale(0.11 -0.11)\">\n       <defs>\n        <path d=\"M 2957 2605 \nQ 3219 2528 3404 2445 \nQ 3590 2362 3706 2272 \nQ 4192 1926 4192 1370 \nQ 4192 749 3642 333 \nQ 3098 -83 2285 -83 \nQ 1434 -83 947 326 \nQ 512 691 512 1229 \nQ 512 1798 998 2125 \nQ 1146 2227 1341 2304 \nQ 1536 2381 1779 2451 \nQ 1574 2534 1430 2617 \nQ 1286 2701 1197 2784 \nQ 819 3104 819 3603 \nQ 819 4173 1261 4512 \nQ 1702 4858 2381 4858 \nQ 3014 4858 3437 4570 \nQ 3898 4262 3898 3738 \nQ 3898 3373 3670 3081 \nQ 3443 2790 2957 2605 \nz\nM 2406 2752 \nQ 2624 2835 2781 2915 \nQ 2938 2995 3040 3066 \nQ 3398 3322 3398 3667 \nQ 3398 3994 3104 4205 \nQ 2822 4429 2362 4429 \nQ 1894 4429 1613 4205 \nQ 1325 3994 1325 3635 \nQ 1325 3322 1581 3098 \nQ 1696 3002 1901 2912 \nQ 2106 2822 2406 2752 \nz\nM 2368 2304 \nQ 2061 2202 1840 2106 \nQ 1619 2010 1472 1920 \nQ 1011 1626 1011 1235 \nQ 1011 845 1376 595 \nQ 1728 346 2310 346 \nQ 2938 346 3315 640 \nQ 3693 934 3693 1338 \nQ 3693 1741 3238 1997 \nQ 3104 2067 2886 2147 \nQ 2669 2227 2368 2304 \nz\n\" id=\"AppleGothic-38\" transform=\"scale(0.015625)\"/>\n       </defs>\n       <use xlink:href=\"#AppleGothic-38\"/>\n      </g>\n     </g>\n    </g>\n    <g id=\"ytick_6\">\n     <g id=\"line2d_6\">\n      <path clip-path=\"url(#p58629aab86)\" d=\"M 47.133125 58.273143 \nL 381.933125 58.273143 \n\" style=\"fill:none;stroke:#ffffff;stroke-linecap:round;\"/>\n     </g>\n     <g id=\"text_11\">\n      <!-- 10 -->\n      <g style=\"fill:#262626;\" transform=\"translate(22.673125 62.585487)scale(0.11 -0.11)\">\n       <defs>\n        <path d=\"M 2342 4774 \nL 2752 4774 \nL 2752 0 \nL 2285 0 \nL 2285 3526 \nL 1158 3526 \nL 1158 3885 \nL 1414 3885 \nQ 1990 3885 2214 4205 \nQ 2342 4410 2342 4774 \nz\n\" id=\"AppleGothic-31\" transform=\"scale(0.015625)\"/>\n       </defs>\n       <use xlink:href=\"#AppleGothic-31\"/>\n       <use x=\"67.999985\" xlink:href=\"#AppleGothic-30\"/>\n      </g>\n     </g>\n    </g>\n    <g id=\"ytick_7\">\n     <g id=\"line2d_7\">\n      <path clip-path=\"url(#p58629aab86)\" d=\"M 47.133125 25.788151 \nL 381.933125 25.788151 \n\" style=\"fill:none;stroke:#ffffff;stroke-linecap:round;\"/>\n     </g>\n     <g id=\"text_12\">\n      <!-- 12 -->\n      <g style=\"fill:#262626;\" transform=\"translate(22.673125 30.100495)scale(0.11 -0.11)\">\n       <use xlink:href=\"#AppleGothic-31\"/>\n       <use x=\"67.999985\" xlink:href=\"#AppleGothic-32\"/>\n      </g>\n     </g>\n    </g>\n    <g id=\"text_13\">\n     <!-- tip -->\n     <g style=\"fill:#262626;\" transform=\"translate(16.60875 137.695312)rotate(-90)scale(0.12 -0.12)\">\n      <defs>\n       <path d=\"M 736 307 \nL 736 -1101 \nL 288 -1101 \nL 288 3424 \nL 704 3424 \nL 730 2803 \nQ 941 3149 1216 3325 \nQ 1491 3501 1882 3501 \nQ 2522 3501 2944 3002 \nQ 3162 2752 3270 2441 \nQ 3379 2131 3379 1747 \nQ 3379 954 2899 435 \nQ 2419 -83 1754 -83 \nQ 1421 -83 1139 58 \nQ 1056 90 960 154 \nQ 864 218 736 307 \nz\nM 736 1824 \nL 736 800 \nQ 838 704 924 637 \nQ 1011 570 1082 525 \nQ 1395 339 1715 339 \nQ 2227 339 2554 742 \nQ 2886 1165 2886 1766 \nQ 2886 2330 2579 2707 \nQ 2278 3085 1811 3085 \nQ 1331 3085 1018 2669 \nQ 736 2291 736 1824 \nz\n\" id=\"AppleGothic-70\" transform=\"scale(0.015625)\"/>\n      </defs>\n      <use xlink:href=\"#AppleGothic-74\"/>\n      <use x=\"34.199997\" xlink:href=\"#AppleGothic-69\"/>\n      <use x=\"50.099991\" xlink:href=\"#AppleGothic-70\"/>\n     </g>\n    </g>\n   </g>\n   <g id=\"PolyCollection_1\">\n    <defs>\n     <path d=\"M 72.714094 -63.23882 \nL 71.772156 -63.23882 \nL 71.628188 -64.551779 \nL 71.449654 -65.864737 \nL 71.231235 -67.177695 \nL 70.967641 -68.490654 \nL 70.653866 -69.803612 \nL 70.285494 -71.116571 \nL 69.859043 -72.429529 \nL 69.372323 -73.742488 \nL 68.82479 -75.055446 \nL 68.217872 -76.368404 \nL 67.555235 -77.681363 \nL 66.842964 -78.994321 \nL 66.089628 -80.30728 \nL 65.306209 -81.620238 \nL 64.505881 -82.933196 \nL 63.703639 -84.246155 \nL 62.915783 -85.559113 \nL 62.159277 -86.872072 \nL 61.451029 -88.18503 \nL 60.807115 -89.497989 \nL 60.242021 -90.810947 \nL 59.76794 -92.123905 \nL 59.394172 -93.436864 \nL 59.126692 -94.749822 \nL 58.967889 -96.062781 \nL 58.916512 -97.375739 \nL 58.967818 -98.688698 \nL 59.113906 -100.001656 \nL 59.344214 -101.314614 \nL 59.646131 -102.627573 \nL 60.005687 -103.940531 \nL 60.408276 -105.25349 \nL 60.83936 -106.566448 \nL 61.285123 -107.879407 \nL 61.733034 -109.192365 \nL 62.172307 -110.505323 \nL 62.594234 -111.818282 \nL 62.992388 -113.13124 \nL 63.362692 -114.444199 \nL 63.703354 -115.757157 \nL 64.014694 -117.070115 \nL 64.298856 -118.383074 \nL 64.559438 -119.696032 \nL 64.801066 -121.008991 \nL 65.02893 -122.321949 \nL 65.248327 -123.634908 \nL 65.464227 -124.947866 \nL 65.680912 -126.260824 \nL 65.901691 -127.573783 \nL 66.128736 -128.886741 \nL 66.363011 -130.1997 \nL 66.60433 -131.512658 \nL 66.851495 -132.825617 \nL 67.102514 -134.138575 \nL 67.354865 -135.451533 \nL 67.605761 -136.764492 \nL 67.852417 -138.07745 \nL 68.092258 -139.390409 \nL 68.323086 -140.703367 \nL 68.543178 -142.016326 \nL 68.751317 -143.329284 \nL 68.946783 -144.642242 \nL 69.12929 -145.955201 \nL 69.298908 -147.268159 \nL 69.45598 -148.581118 \nL 69.601034 -149.894076 \nL 69.734723 -151.207034 \nL 69.857778 -152.519993 \nL 69.970979 -153.832951 \nL 70.075156 -155.14591 \nL 70.171187 -156.458868 \nL 70.260011 -157.771827 \nL 70.342639 -159.084785 \nL 70.420152 -160.397743 \nL 70.493695 -161.710702 \nL 70.56445 -163.02366 \nL 70.633603 -164.336619 \nL 70.702293 -165.649577 \nL 70.771559 -166.962536 \nL 70.842283 -168.275494 \nL 70.915138 -169.588452 \nL 70.990543 -170.901411 \nL 71.068639 -172.214369 \nL 71.149274 -173.527328 \nL 71.232015 -174.840286 \nL 71.316179 -176.153245 \nL 71.40088 -177.466203 \nL 71.485088 -178.779161 \nL 71.567702 -180.09212 \nL 71.64762 -181.405078 \nL 71.723806 -182.718037 \nL 71.795352 -184.030995 \nL 71.861521 -185.343953 \nL 71.92178 -186.656912 \nL 71.97581 -187.96987 \nL 72.023504 -189.282829 \nL 72.064954 -190.595787 \nL 72.10042 -191.908746 \nL 72.130297 -193.221704 \nL 72.355953 -193.221704 \nL 72.355953 -193.221704 \nL 72.38583 -191.908746 \nL 72.421296 -190.595787 \nL 72.462746 -189.282829 \nL 72.51044 -187.96987 \nL 72.56447 -186.656912 \nL 72.624729 -185.343953 \nL 72.690898 -184.030995 \nL 72.762444 -182.718037 \nL 72.83863 -181.405078 \nL 72.918548 -180.09212 \nL 73.001162 -178.779161 \nL 73.08537 -177.466203 \nL 73.170071 -176.153245 \nL 73.254235 -174.840286 \nL 73.336976 -173.527328 \nL 73.417611 -172.214369 \nL 73.495707 -170.901411 \nL 73.571112 -169.588452 \nL 73.643967 -168.275494 \nL 73.714691 -166.962536 \nL 73.783957 -165.649577 \nL 73.852647 -164.336619 \nL 73.9218 -163.02366 \nL 73.992555 -161.710702 \nL 74.066098 -160.397743 \nL 74.143611 -159.084785 \nL 74.226239 -157.771827 \nL 74.315063 -156.458868 \nL 74.411094 -155.14591 \nL 74.515271 -153.832951 \nL 74.628472 -152.519993 \nL 74.751527 -151.207034 \nL 74.885216 -149.894076 \nL 75.03027 -148.581118 \nL 75.187342 -147.268159 \nL 75.35696 -145.955201 \nL 75.539467 -144.642242 \nL 75.734933 -143.329284 \nL 75.943072 -142.016326 \nL 76.163164 -140.703367 \nL 76.393992 -139.390409 \nL 76.633833 -138.07745 \nL 76.880489 -136.764492 \nL 77.131385 -135.451533 \nL 77.383736 -134.138575 \nL 77.634755 -132.825617 \nL 77.88192 -131.512658 \nL 78.123239 -130.1997 \nL 78.357514 -128.886741 \nL 78.584559 -127.573783 \nL 78.805338 -126.260824 \nL 79.022023 -124.947866 \nL 79.237923 -123.634908 \nL 79.45732 -122.321949 \nL 79.685184 -121.008991 \nL 79.926812 -119.696032 \nL 80.187394 -118.383074 \nL 80.471556 -117.070115 \nL 80.782896 -115.757157 \nL 81.123558 -114.444199 \nL 81.493862 -113.13124 \nL 81.892016 -111.818282 \nL 82.313943 -110.505323 \nL 82.753216 -109.192365 \nL 83.201127 -107.879407 \nL 83.64689 -106.566448 \nL 84.077974 -105.25349 \nL 84.480563 -103.940531 \nL 84.840119 -102.627573 \nL 85.142036 -101.314614 \nL 85.372344 -100.001656 \nL 85.518432 -98.688698 \nL 85.569738 -97.375739 \nL 85.518361 -96.062781 \nL 85.359558 -94.749822 \nL 85.092078 -93.436864 \nL 84.71831 -92.123905 \nL 84.244229 -90.810947 \nL 83.679135 -89.497989 \nL 83.035221 -88.18503 \nL 82.326973 -86.872072 \nL 81.570467 -85.559113 \nL 80.782611 -84.246155 \nL 79.980369 -82.933196 \nL 79.180041 -81.620238 \nL 78.396622 -80.30728 \nL 77.643286 -78.994321 \nL 76.931015 -77.681363 \nL 76.268378 -76.368404 \nL 75.66146 -75.055446 \nL 75.113927 -73.742488 \nL 74.627207 -72.429529 \nL 74.200756 -71.116571 \nL 73.832384 -69.803612 \nL 73.518609 -68.490654 \nL 73.255015 -67.177695 \nL 73.036596 -65.864737 \nL 72.858062 -64.551779 \nL 72.714094 -63.23882 \nz\n\" id=\"m1fb84da69f\" style=\"stroke:#4c4c4c;stroke-width:1.5;\"/>\n    </defs>\n    <g clip-path=\"url(#p58629aab86)\">\n     <use style=\"fill:#5875a4;stroke:#4c4c4c;stroke-width:1.5;\" x=\"0\" xlink:href=\"#m1fb84da69f\" y=\"282.821406\"/>\n    </g>\n   </g>\n   <g id=\"PolyCollection_2\">\n    <defs>\n     <path d=\"M 106.162383 -64.408848 \nL 105.283867 -64.408848 \nL 105.15271 -65.415977 \nL 104.990229 -66.423105 \nL 104.791342 -67.430234 \nL 104.550799 -68.437363 \nL 104.263352 -69.444491 \nL 103.923971 -70.45162 \nL 103.528088 -71.458749 \nL 103.071877 -72.465877 \nL 102.552538 -73.473006 \nL 101.968595 -74.480134 \nL 101.320171 -75.487263 \nL 100.609228 -76.494392 \nL 99.839765 -77.50152 \nL 99.017935 -78.508649 \nL 98.152083 -79.515778 \nL 97.252683 -80.522906 \nL 96.33217 -81.530035 \nL 95.404654 -82.537164 \nL 94.485547 -83.544292 \nL 93.591073 -84.551421 \nL 92.73772 -85.558549 \nL 91.941629 -86.565678 \nL 91.217967 -87.572807 \nL 90.580313 -88.579935 \nL 90.040089 -89.587064 \nL 89.606083 -90.594193 \nL 89.284083 -91.601321 \nL 89.076662 -92.60845 \nL 88.983125 -93.615579 \nL 88.99962 -94.622707 \nL 89.11942 -95.629836 \nL 89.333349 -96.636964 \nL 89.630329 -97.644093 \nL 89.998003 -98.651222 \nL 90.423395 -99.65835 \nL 90.893564 -100.665479 \nL 91.396192 -101.672608 \nL 91.920088 -102.679736 \nL 92.455558 -103.686865 \nL 92.994635 -104.693994 \nL 93.531159 -105.701122 \nL 94.060718 -106.708251 \nL 94.580467 -107.715379 \nL 95.088848 -108.722508 \nL 95.585256 -109.729637 \nL 96.069683 -110.736765 \nL 96.54237 -111.743894 \nL 97.003505 -112.751023 \nL 97.452986 -113.758151 \nL 97.890266 -114.76528 \nL 98.314283 -115.772409 \nL 98.723475 -116.779537 \nL 99.115866 -117.786666 \nL 99.489204 -118.793794 \nL 99.841132 -119.800923 \nL 100.169371 -120.808052 \nL 100.471896 -121.81518 \nL 100.747079 -122.822309 \nL 100.993802 -123.829438 \nL 101.211523 -124.836566 \nL 101.400297 -125.843695 \nL 101.560764 -126.850824 \nL 101.694103 -127.857952 \nL 101.801976 -128.865081 \nL 101.886462 -129.872209 \nL 101.949992 -130.879338 \nL 101.995299 -131.886467 \nL 102.025381 -132.893595 \nL 102.043467 -133.900724 \nL 102.052989 -134.907853 \nL 102.057555 -135.914981 \nL 102.0609 -136.92211 \nL 102.066823 -137.929239 \nL 102.079092 -138.936367 \nL 102.101331 -139.943496 \nL 102.136876 -140.950624 \nL 102.188627 -141.957753 \nL 102.258896 -142.964882 \nL 102.349266 -143.97201 \nL 102.460491 -144.979139 \nL 102.592425 -145.986268 \nL 102.744013 -146.993396 \nL 102.913333 -148.000525 \nL 103.097697 -149.007654 \nL 103.293792 -150.014782 \nL 103.497869 -151.021911 \nL 103.705944 -152.029039 \nL 103.914011 -153.036168 \nL 104.118239 -154.043297 \nL 104.315152 -155.050425 \nL 104.501765 -156.057554 \nL 104.675681 -157.064683 \nL 104.835145 -158.071811 \nL 104.979051 -159.07894 \nL 105.106911 -160.086069 \nL 105.218791 -161.093197 \nL 105.31523 -162.100326 \nL 105.397138 -163.107454 \nL 105.465699 -164.114583 \nL 105.980551 -164.114583 \nL 105.980551 -164.114583 \nL 106.049112 -163.107454 \nL 106.13102 -162.100326 \nL 106.227459 -161.093197 \nL 106.339339 -160.086069 \nL 106.467199 -159.07894 \nL 106.611105 -158.071811 \nL 106.770569 -157.064683 \nL 106.944485 -156.057554 \nL 107.131098 -155.050425 \nL 107.328011 -154.043297 \nL 107.532239 -153.036168 \nL 107.740306 -152.029039 \nL 107.948381 -151.021911 \nL 108.152458 -150.014782 \nL 108.348553 -149.007654 \nL 108.532917 -148.000525 \nL 108.702237 -146.993396 \nL 108.853825 -145.986268 \nL 108.985759 -144.979139 \nL 109.096984 -143.97201 \nL 109.187354 -142.964882 \nL 109.257623 -141.957753 \nL 109.309374 -140.950624 \nL 109.344919 -139.943496 \nL 109.367158 -138.936367 \nL 109.379427 -137.929239 \nL 109.38535 -136.92211 \nL 109.388695 -135.914981 \nL 109.393261 -134.907853 \nL 109.402783 -133.900724 \nL 109.420869 -132.893595 \nL 109.450951 -131.886467 \nL 109.496258 -130.879338 \nL 109.559788 -129.872209 \nL 109.644274 -128.865081 \nL 109.752147 -127.857952 \nL 109.885486 -126.850824 \nL 110.045953 -125.843695 \nL 110.234727 -124.836566 \nL 110.452448 -123.829438 \nL 110.699171 -122.822309 \nL 110.974354 -121.81518 \nL 111.276879 -120.808052 \nL 111.605118 -119.800923 \nL 111.957046 -118.793794 \nL 112.330384 -117.786666 \nL 112.722775 -116.779537 \nL 113.131967 -115.772409 \nL 113.555984 -114.76528 \nL 113.993264 -113.758151 \nL 114.442745 -112.751023 \nL 114.90388 -111.743894 \nL 115.376567 -110.736765 \nL 115.860994 -109.729637 \nL 116.357402 -108.722508 \nL 116.865783 -107.715379 \nL 117.385532 -106.708251 \nL 117.915091 -105.701122 \nL 118.451615 -104.693994 \nL 118.990692 -103.686865 \nL 119.526162 -102.679736 \nL 120.050058 -101.672608 \nL 120.552686 -100.665479 \nL 121.022855 -99.65835 \nL 121.448247 -98.651222 \nL 121.815921 -97.644093 \nL 122.112901 -96.636964 \nL 122.32683 -95.629836 \nL 122.44663 -94.622707 \nL 122.463125 -93.615579 \nL 122.369588 -92.60845 \nL 122.162167 -91.601321 \nL 121.840167 -90.594193 \nL 121.406161 -89.587064 \nL 120.865937 -88.579935 \nL 120.228283 -87.572807 \nL 119.504621 -86.565678 \nL 118.70853 -85.558549 \nL 117.855177 -84.551421 \nL 116.960703 -83.544292 \nL 116.041596 -82.537164 \nL 115.11408 -81.530035 \nL 114.193567 -80.522906 \nL 113.294167 -79.515778 \nL 112.428315 -78.508649 \nL 111.606485 -77.50152 \nL 110.837022 -76.494392 \nL 110.126079 -75.487263 \nL 109.477655 -74.480134 \nL 108.893712 -73.473006 \nL 108.374373 -72.465877 \nL 107.918162 -71.458749 \nL 107.522279 -70.45162 \nL 107.182898 -69.444491 \nL 106.895451 -68.437363 \nL 106.654908 -67.430234 \nL 106.456021 -66.423105 \nL 106.29354 -65.415977 \nL 106.162383 -64.408848 \nz\n\" id=\"mc5f36fe2e8\" style=\"stroke:#4c4c4c;stroke-width:1.5;\"/>\n    </defs>\n    <g clip-path=\"url(#p58629aab86)\">\n     <use style=\"fill:#cc8963;stroke:#4c4c4c;stroke-width:1.5;\" x=\"0\" xlink:href=\"#mc5f36fe2e8\" y=\"282.821406\"/>\n    </g>\n   </g>\n   <g id=\"PolyCollection_3\">\n    <defs>\n     <path d=\"M 156.934188 -63.194095 \nL 154.952062 -63.194095 \nL 154.759618 -64.194591 \nL 154.539625 -65.195088 \nL 154.290264 -66.195585 \nL 154.010022 -67.196081 \nL 153.697789 -68.196578 \nL 153.352951 -69.197074 \nL 152.97547 -70.197571 \nL 152.565968 -71.198068 \nL 152.125788 -72.198564 \nL 151.657036 -73.199061 \nL 151.162608 -74.199558 \nL 150.646178 -75.200054 \nL 150.112167 -76.200551 \nL 149.565679 -77.201048 \nL 149.012399 -78.201544 \nL 148.458476 -79.202041 \nL 147.910367 -80.202538 \nL 147.374665 -81.203034 \nL 146.85792 -82.203531 \nL 146.366437 -83.204027 \nL 145.906092 -84.204524 \nL 145.482144 -85.205021 \nL 145.099076 -86.205517 \nL 144.760454 -87.206014 \nL 144.468824 -88.206511 \nL 144.225644 -89.207007 \nL 144.03126 -90.207504 \nL 143.884921 -91.208001 \nL 143.784843 -92.208497 \nL 143.728308 -93.208994 \nL 143.711795 -94.209491 \nL 143.731143 -95.209987 \nL 143.781738 -96.210484 \nL 143.858696 -97.21098 \nL 143.957067 -98.211477 \nL 144.072013 -99.211974 \nL 144.198986 -100.21247 \nL 144.333872 -101.212967 \nL 144.473111 -102.213464 \nL 144.61378 -103.21396 \nL 144.753645 -104.214457 \nL 144.891175 -105.214954 \nL 145.025523 -106.21545 \nL 145.156475 -107.215947 \nL 145.284375 -108.216444 \nL 145.410033 -109.21694 \nL 145.534615 -110.217437 \nL 145.659529 -111.217933 \nL 145.786314 -112.21843 \nL 145.916528 -113.218927 \nL 146.051658 -114.219423 \nL 146.193033 -115.21992 \nL 146.341767 -116.220417 \nL 146.498716 -117.220913 \nL 146.664452 -118.22141 \nL 146.839263 -119.221907 \nL 147.023165 -120.222403 \nL 147.215927 -121.2229 \nL 147.417116 -122.223397 \nL 147.626136 -123.223893 \nL 147.842278 -124.22439 \nL 148.064773 -125.224887 \nL 148.292834 -126.225383 \nL 148.525694 -127.22588 \nL 148.762642 -128.226376 \nL 149.003043 -129.226873 \nL 149.246349 -130.22737 \nL 149.492101 -131.227866 \nL 149.739922 -132.228363 \nL 149.989505 -133.22886 \nL 150.240586 -134.229356 \nL 150.492921 -135.229853 \nL 150.746258 -136.23035 \nL 151.000309 -137.230846 \nL 151.254727 -138.231343 \nL 151.509079 -139.23184 \nL 151.762838 -140.232336 \nL 152.01537 -141.232833 \nL 152.265935 -142.233329 \nL 152.513692 -143.233826 \nL 152.757715 -144.234323 \nL 152.997013 -145.234819 \nL 153.230553 -146.235316 \nL 153.457293 -147.235813 \nL 153.676212 -148.236309 \nL 153.886338 -149.236806 \nL 154.086783 -150.237303 \nL 154.276766 -151.237799 \nL 154.45564 -152.238296 \nL 154.622902 -153.238793 \nL 154.778213 -154.239289 \nL 154.921396 -155.239786 \nL 155.052439 -156.240282 \nL 155.171488 -157.240779 \nL 155.278836 -158.241276 \nL 155.374902 -159.241772 \nL 155.460222 -160.242269 \nL 155.535417 -161.242766 \nL 155.601182 -162.243262 \nL 156.285068 -162.243262 \nL 156.285068 -162.243262 \nL 156.350833 -161.242766 \nL 156.426028 -160.242269 \nL 156.511348 -159.241772 \nL 156.607414 -158.241276 \nL 156.714762 -157.240779 \nL 156.833811 -156.240282 \nL 156.964854 -155.239786 \nL 157.108037 -154.239289 \nL 157.263348 -153.238793 \nL 157.43061 -152.238296 \nL 157.609484 -151.237799 \nL 157.799467 -150.237303 \nL 157.999912 -149.236806 \nL 158.210038 -148.236309 \nL 158.428957 -147.235813 \nL 158.655697 -146.235316 \nL 158.889237 -145.234819 \nL 159.128535 -144.234323 \nL 159.372558 -143.233826 \nL 159.620315 -142.233329 \nL 159.87088 -141.232833 \nL 160.123412 -140.232336 \nL 160.377171 -139.23184 \nL 160.631523 -138.231343 \nL 160.885941 -137.230846 \nL 161.139992 -136.23035 \nL 161.393329 -135.229853 \nL 161.645664 -134.229356 \nL 161.896745 -133.22886 \nL 162.146328 -132.228363 \nL 162.394149 -131.227866 \nL 162.639901 -130.22737 \nL 162.883207 -129.226873 \nL 163.123608 -128.226376 \nL 163.360556 -127.22588 \nL 163.593416 -126.225383 \nL 163.821477 -125.224887 \nL 164.043972 -124.22439 \nL 164.260114 -123.223893 \nL 164.469134 -122.223397 \nL 164.670323 -121.2229 \nL 164.863085 -120.222403 \nL 165.046987 -119.221907 \nL 165.221798 -118.22141 \nL 165.387534 -117.220913 \nL 165.544483 -116.220417 \nL 165.693217 -115.21992 \nL 165.834592 -114.219423 \nL 165.969722 -113.218927 \nL 166.099936 -112.21843 \nL 166.226721 -111.217933 \nL 166.351635 -110.217437 \nL 166.476217 -109.21694 \nL 166.601875 -108.216444 \nL 166.729775 -107.215947 \nL 166.860727 -106.21545 \nL 166.995075 -105.214954 \nL 167.132605 -104.214457 \nL 167.27247 -103.21396 \nL 167.413139 -102.213464 \nL 167.552378 -101.212967 \nL 167.687264 -100.21247 \nL 167.814237 -99.211974 \nL 167.929183 -98.211477 \nL 168.027554 -97.21098 \nL 168.104512 -96.210484 \nL 168.155107 -95.209987 \nL 168.174455 -94.209491 \nL 168.157942 -93.208994 \nL 168.101407 -92.208497 \nL 168.001329 -91.208001 \nL 167.85499 -90.207504 \nL 167.660606 -89.207007 \nL 167.417426 -88.206511 \nL 167.125796 -87.206014 \nL 166.787174 -86.205517 \nL 166.404106 -85.205021 \nL 165.980158 -84.204524 \nL 165.519813 -83.204027 \nL 165.02833 -82.203531 \nL 164.511585 -81.203034 \nL 163.975883 -80.202538 \nL 163.427774 -79.202041 \nL 162.873851 -78.201544 \nL 162.320571 -77.201048 \nL 161.774083 -76.200551 \nL 161.240072 -75.200054 \nL 160.723642 -74.199558 \nL 160.229214 -73.199061 \nL 159.760462 -72.198564 \nL 159.320282 -71.198068 \nL 158.91078 -70.197571 \nL 158.533299 -69.197074 \nL 158.188461 -68.196578 \nL 157.876228 -67.196081 \nL 157.595986 -66.195585 \nL 157.346625 -65.195088 \nL 157.126632 -64.194591 \nL 156.934188 -63.194095 \nz\n\" id=\"m381d18bd30\" style=\"stroke:#4c4c4c;stroke-width:1.5;\"/>\n    </defs>\n    <g clip-path=\"url(#p58629aab86)\">\n     <use style=\"fill:#5875a4;stroke:#4c4c4c;stroke-width:1.5;\" x=\"0\" xlink:href=\"#m381d18bd30\" y=\"282.821406\"/>\n    </g>\n   </g>\n   <g id=\"PolyCollection_4\">\n    <defs>\n     <path d=\"M 189.8419 -58.712484 \nL 189.00435 -58.712484 \nL 188.917632 -59.650937 \nL 188.818307 -60.58939 \nL 188.705769 -61.527843 \nL 188.579647 -62.466296 \nL 188.439846 -63.40475 \nL 188.286584 -64.343203 \nL 188.12042 -65.281656 \nL 187.942256 -66.220109 \nL 187.753325 -67.158562 \nL 187.555162 -68.097016 \nL 187.349549 -69.035469 \nL 187.138429 -69.973922 \nL 186.923819 -70.912375 \nL 186.707691 -71.850829 \nL 186.491851 -72.789282 \nL 186.277811 -73.727735 \nL 186.066671 -74.666188 \nL 185.859008 -75.604641 \nL 185.654793 -76.543095 \nL 185.453326 -77.481548 \nL 185.253219 -78.420001 \nL 185.052407 -79.358454 \nL 184.848204 -80.296908 \nL 184.637393 -81.235361 \nL 184.416359 -82.173814 \nL 184.181239 -83.112267 \nL 183.928107 -84.05072 \nL 183.653159 -84.989174 \nL 183.352904 -85.927627 \nL 183.02435 -86.86608 \nL 182.665163 -87.804533 \nL 182.273814 -88.742987 \nL 181.849677 -89.68144 \nL 181.393109 -90.619893 \nL 180.905483 -91.558346 \nL 180.389185 -92.496799 \nL 179.847581 -93.435253 \nL 179.284954 -94.373706 \nL 178.706413 -95.312159 \nL 178.117786 -96.250612 \nL 177.525501 -97.189065 \nL 176.936456 -98.127519 \nL 176.357882 -99.065972 \nL 175.797211 -100.004425 \nL 175.261938 -100.942878 \nL 174.759488 -101.881332 \nL 174.297078 -102.819785 \nL 173.881588 -103.758238 \nL 173.519426 -104.696691 \nL 173.216391 -105.635144 \nL 172.977549 -106.573598 \nL 172.807097 -107.512051 \nL 172.708248 -108.450504 \nL 172.683125 -109.388957 \nL 172.732665 -110.327411 \nL 172.856561 -111.265864 \nL 173.053226 -112.204317 \nL 173.319797 -113.14277 \nL 173.652184 -114.081223 \nL 174.045154 -115.019677 \nL 174.492472 -115.95813 \nL 174.987073 -116.896583 \nL 175.521273 -117.835036 \nL 176.087007 -118.77349 \nL 176.676082 -119.711943 \nL 177.280433 -120.650396 \nL 177.89237 -121.588849 \nL 178.5048 -122.527302 \nL 179.111411 -123.465756 \nL 179.706818 -124.404209 \nL 180.286653 -125.342662 \nL 180.847595 -126.281115 \nL 181.387357 -127.219569 \nL 181.904611 -128.158022 \nL 182.39888 -129.096475 \nL 182.870388 -130.034928 \nL 183.319899 -130.973381 \nL 183.748539 -131.911835 \nL 184.157624 -132.850288 \nL 184.548509 -133.788741 \nL 184.922449 -134.727194 \nL 185.280504 -135.665647 \nL 185.623467 -136.604101 \nL 185.951831 -137.542554 \nL 186.265792 -138.481007 \nL 186.565274 -139.41946 \nL 186.849981 -140.357914 \nL 187.119463 -141.296367 \nL 187.37319 -142.23482 \nL 187.610631 -143.173273 \nL 187.831317 -144.111726 \nL 188.034907 -145.05018 \nL 188.221234 -145.988633 \nL 188.390333 -146.927086 \nL 188.542456 -147.865539 \nL 188.678075 -148.803993 \nL 188.797863 -149.742446 \nL 188.90267 -150.680899 \nL 188.993496 -151.619352 \nL 189.852754 -151.619352 \nL 189.852754 -151.619352 \nL 189.94358 -150.680899 \nL 190.048387 -149.742446 \nL 190.168175 -148.803993 \nL 190.303794 -147.865539 \nL 190.455917 -146.927086 \nL 190.625016 -145.988633 \nL 190.811343 -145.05018 \nL 191.014933 -144.111726 \nL 191.235619 -143.173273 \nL 191.47306 -142.23482 \nL 191.726787 -141.296367 \nL 191.996269 -140.357914 \nL 192.280976 -139.41946 \nL 192.580458 -138.481007 \nL 192.894419 -137.542554 \nL 193.222783 -136.604101 \nL 193.565746 -135.665647 \nL 193.923801 -134.727194 \nL 194.297741 -133.788741 \nL 194.688626 -132.850288 \nL 195.097711 -131.911835 \nL 195.526351 -130.973381 \nL 195.975862 -130.034928 \nL 196.44737 -129.096475 \nL 196.941639 -128.158022 \nL 197.458893 -127.219569 \nL 197.998655 -126.281115 \nL 198.559597 -125.342662 \nL 199.139432 -124.404209 \nL 199.734839 -123.465756 \nL 200.34145 -122.527302 \nL 200.95388 -121.588849 \nL 201.565817 -120.650396 \nL 202.170168 -119.711943 \nL 202.759243 -118.77349 \nL 203.324977 -117.835036 \nL 203.859177 -116.896583 \nL 204.353778 -115.95813 \nL 204.801096 -115.019677 \nL 205.194066 -114.081223 \nL 205.526453 -113.14277 \nL 205.793024 -112.204317 \nL 205.989689 -111.265864 \nL 206.113585 -110.327411 \nL 206.163125 -109.388957 \nL 206.138002 -108.450504 \nL 206.039153 -107.512051 \nL 205.868701 -106.573598 \nL 205.629859 -105.635144 \nL 205.326824 -104.696691 \nL 204.964662 -103.758238 \nL 204.549172 -102.819785 \nL 204.086762 -101.881332 \nL 203.584312 -100.942878 \nL 203.049039 -100.004425 \nL 202.488368 -99.065972 \nL 201.909794 -98.127519 \nL 201.320749 -97.189065 \nL 200.728464 -96.250612 \nL 200.139837 -95.312159 \nL 199.561296 -94.373706 \nL 198.998669 -93.435253 \nL 198.457065 -92.496799 \nL 197.940767 -91.558346 \nL 197.453141 -90.619893 \nL 196.996573 -89.68144 \nL 196.572436 -88.742987 \nL 196.181087 -87.804533 \nL 195.8219 -86.86608 \nL 195.493346 -85.927627 \nL 195.193091 -84.989174 \nL 194.918143 -84.05072 \nL 194.665011 -83.112267 \nL 194.429891 -82.173814 \nL 194.208857 -81.235361 \nL 193.998046 -80.296908 \nL 193.793843 -79.358454 \nL 193.593031 -78.420001 \nL 193.392924 -77.481548 \nL 193.191457 -76.543095 \nL 192.987242 -75.604641 \nL 192.779579 -74.666188 \nL 192.568439 -73.727735 \nL 192.354399 -72.789282 \nL 192.138559 -71.850829 \nL 191.922431 -70.912375 \nL 191.707821 -69.973922 \nL 191.496701 -69.035469 \nL 191.291088 -68.097016 \nL 191.092925 -67.158562 \nL 190.903994 -66.220109 \nL 190.72583 -65.281656 \nL 190.559666 -64.343203 \nL 190.406404 -63.40475 \nL 190.266603 -62.466296 \nL 190.140481 -61.527843 \nL 190.027943 -60.58939 \nL 189.928618 -59.650937 \nL 189.8419 -58.712484 \nz\n\" id=\"m84d293180e\" style=\"stroke:#4c4c4c;stroke-width:1.5;\"/>\n    </defs>\n    <g clip-path=\"url(#p58629aab86)\">\n     <use style=\"fill:#cc8963;stroke:#4c4c4c;stroke-width:1.5;\" x=\"0\" xlink:href=\"#m84d293180e\" y=\"282.821406\"/>\n    </g>\n   </g>\n   <g id=\"PolyCollection_5\">\n    <defs>\n     <path d=\"M 239.893307 -52.620668 \nL 239.392943 -52.620668 \nL 239.281598 -54.617362 \nL 239.131089 -56.614056 \nL 238.932162 -58.61075 \nL 238.675078 -60.607444 \nL 238.350211 -62.604139 \nL 237.948821 -64.600833 \nL 237.463955 -66.597527 \nL 236.89141 -68.594221 \nL 236.230653 -70.590916 \nL 235.485587 -72.58761 \nL 234.665039 -74.584304 \nL 233.782854 -76.580998 \nL 232.85753 -78.577692 \nL 231.911361 -80.574387 \nL 230.969138 -82.571081 \nL 230.056515 -84.567775 \nL 229.198221 -86.564469 \nL 228.416344 -88.561163 \nL 227.728909 -90.557858 \nL 227.148954 -92.554552 \nL 226.684225 -94.551246 \nL 226.33752 -96.54794 \nL 226.107573 -98.544635 \nL 225.990297 -100.541329 \nL 225.980124 -102.538023 \nL 226.071162 -104.534717 \nL 226.257968 -106.531411 \nL 226.535799 -108.528106 \nL 226.900352 -110.5248 \nL 227.347111 -112.521494 \nL 227.870507 -114.518188 \nL 228.463127 -116.514882 \nL 229.11519 -118.511577 \nL 229.814426 -120.508271 \nL 230.546405 -122.504965 \nL 231.295262 -124.501659 \nL 232.044687 -126.498354 \nL 232.778999 -128.495048 \nL 233.484155 -130.491742 \nL 234.148531 -132.488436 \nL 234.763416 -134.48513 \nL 235.32318 -136.481825 \nL 235.825148 -138.478519 \nL 236.269248 -140.475213 \nL 236.657502 -142.471907 \nL 236.993466 -144.468601 \nL 237.281667 -146.465296 \nL 237.527112 -148.46199 \nL 237.734892 -150.458684 \nL 237.909903 -152.455378 \nL 238.056674 -154.452073 \nL 238.179294 -156.448767 \nL 238.281405 -158.445461 \nL 238.366243 -160.442155 \nL 238.436708 -162.438849 \nL 238.495418 -164.435544 \nL 238.544768 -166.432238 \nL 238.586951 -168.428932 \nL 238.623963 -170.425626 \nL 238.657578 -172.422321 \nL 238.689308 -174.419015 \nL 238.72035 -176.415709 \nL 238.751525 -178.412403 \nL 238.783241 -180.409097 \nL 238.815465 -182.405792 \nL 238.84774 -184.402486 \nL 238.879241 -186.39918 \nL 238.908875 -188.395874 \nL 238.935425 -190.392568 \nL 238.95771 -192.389263 \nL 238.974762 -194.385957 \nL 238.985969 -196.382651 \nL 238.991183 -198.379345 \nL 238.990769 -200.37604 \nL 238.985588 -202.372734 \nL 238.976925 -204.369428 \nL 238.966368 -206.366122 \nL 238.955676 -208.362816 \nL 238.946631 -210.359511 \nL 238.940919 -212.356205 \nL 238.940024 -214.352899 \nL 238.945152 -216.349593 \nL 238.957179 -218.346287 \nL 238.976607 -220.342982 \nL 239.003545 -222.339676 \nL 239.037696 -224.33637 \nL 239.07836 -226.333064 \nL 239.124473 -228.329759 \nL 239.174657 -230.326453 \nL 239.22732 -232.323147 \nL 239.28076 -234.319841 \nL 239.3333 -236.316535 \nL 239.383409 -238.31323 \nL 239.429809 -240.309924 \nL 239.47155 -242.306618 \nL 239.508049 -244.303312 \nL 239.539081 -246.300006 \nL 239.564743 -248.296701 \nL 239.58539 -250.293395 \nL 239.70086 -250.293395 \nL 239.70086 -250.293395 \nL 239.721507 -248.296701 \nL 239.747169 -246.300006 \nL 239.778201 -244.303312 \nL 239.8147 -242.306618 \nL 239.856441 -240.309924 \nL 239.902841 -238.31323 \nL 239.95295 -236.316535 \nL 240.00549 -234.319841 \nL 240.05893 -232.323147 \nL 240.111593 -230.326453 \nL 240.161777 -228.329759 \nL 240.20789 -226.333064 \nL 240.248554 -224.33637 \nL 240.282705 -222.339676 \nL 240.309643 -220.342982 \nL 240.329071 -218.346287 \nL 240.341098 -216.349593 \nL 240.346226 -214.352899 \nL 240.345331 -212.356205 \nL 240.339619 -210.359511 \nL 240.330574 -208.362816 \nL 240.319882 -206.366122 \nL 240.309325 -204.369428 \nL 240.300662 -202.372734 \nL 240.295481 -200.37604 \nL 240.295067 -198.379345 \nL 240.300281 -196.382651 \nL 240.311488 -194.385957 \nL 240.32854 -192.389263 \nL 240.350825 -190.392568 \nL 240.377375 -188.395874 \nL 240.407009 -186.39918 \nL 240.43851 -184.402486 \nL 240.470785 -182.405792 \nL 240.503009 -180.409097 \nL 240.534725 -178.412403 \nL 240.5659 -176.415709 \nL 240.596942 -174.419015 \nL 240.628672 -172.422321 \nL 240.662287 -170.425626 \nL 240.699299 -168.428932 \nL 240.741482 -166.432238 \nL 240.790832 -164.435544 \nL 240.849542 -162.438849 \nL 240.920007 -160.442155 \nL 241.004845 -158.445461 \nL 241.106956 -156.448767 \nL 241.229576 -154.452073 \nL 241.376347 -152.455378 \nL 241.551358 -150.458684 \nL 241.759138 -148.46199 \nL 242.004583 -146.465296 \nL 242.292784 -144.468601 \nL 242.628748 -142.471907 \nL 243.017002 -140.475213 \nL 243.461102 -138.478519 \nL 243.96307 -136.481825 \nL 244.522834 -134.48513 \nL 245.137719 -132.488436 \nL 245.802095 -130.491742 \nL 246.507251 -128.495048 \nL 247.241563 -126.498354 \nL 247.990988 -124.501659 \nL 248.739845 -122.504965 \nL 249.471824 -120.508271 \nL 250.17106 -118.511577 \nL 250.823123 -116.514882 \nL 251.415743 -114.518188 \nL 251.939139 -112.521494 \nL 252.385898 -110.5248 \nL 252.750451 -108.528106 \nL 253.028282 -106.531411 \nL 253.215088 -104.534717 \nL 253.306126 -102.538023 \nL 253.295953 -100.541329 \nL 253.178677 -98.544635 \nL 252.94873 -96.54794 \nL 252.602025 -94.551246 \nL 252.137296 -92.554552 \nL 251.557341 -90.557858 \nL 250.869906 -88.561163 \nL 250.088029 -86.564469 \nL 249.229735 -84.567775 \nL 248.317112 -82.571081 \nL 247.374889 -80.574387 \nL 246.42872 -78.577692 \nL 245.503396 -76.580998 \nL 244.621211 -74.584304 \nL 243.800663 -72.58761 \nL 243.055597 -70.590916 \nL 242.39484 -68.594221 \nL 241.822295 -66.597527 \nL 241.337429 -64.600833 \nL 240.936039 -62.604139 \nL 240.611172 -60.607444 \nL 240.354088 -58.61075 \nL 240.155161 -56.614056 \nL 240.004652 -54.617362 \nL 239.893307 -52.620668 \nz\n\" id=\"mbc910c506d\" style=\"stroke:#4c4c4c;stroke-width:1.5;\"/>\n    </defs>\n    <g clip-path=\"url(#p58629aab86)\">\n     <use style=\"fill:#5875a4;stroke:#4c4c4c;stroke-width:1.5;\" x=\"0\" xlink:href=\"#mbc910c506d\" y=\"282.821406\"/>\n    </g>\n   </g>\n   <g id=\"PolyCollection_6\">\n    <defs>\n     <path d=\"M 273.563587 -57.772058 \nL 272.682663 -57.772058 \nL 272.548965 -59.090454 \nL 272.385659 -60.40885 \nL 272.189589 -61.727246 \nL 271.958159 -63.045643 \nL 271.68956 -64.364039 \nL 271.382952 -65.682435 \nL 271.038585 -67.000831 \nL 270.65784 -68.319227 \nL 270.243158 -69.637623 \nL 269.797866 -70.956019 \nL 269.325903 -72.274415 \nL 268.83146 -73.592811 \nL 268.318595 -74.911207 \nL 267.790834 -76.229603 \nL 267.250849 -77.547999 \nL 266.700231 -78.866395 \nL 266.139414 -80.184791 \nL 265.567775 -81.503187 \nL 264.983896 -82.821583 \nL 264.385988 -84.13998 \nL 263.772427 -85.458376 \nL 263.142347 -86.776772 \nL 262.496216 -88.095168 \nL 261.836355 -89.413564 \nL 261.167303 -90.73196 \nL 260.496021 -92.050356 \nL 259.831885 -93.368752 \nL 259.186479 -94.687148 \nL 258.573188 -96.005544 \nL 258.006644 -97.32394 \nL 257.502034 -98.642336 \nL 257.074353 -99.960732 \nL 256.73762 -101.279128 \nL 256.504116 -102.597524 \nL 256.383683 -103.91592 \nL 256.383125 -105.234317 \nL 256.505738 -106.552713 \nL 256.751005 -107.871109 \nL 257.114474 -109.189505 \nL 257.587852 -110.507901 \nL 258.1593 -111.826297 \nL 258.813947 -113.144693 \nL 259.53458 -114.463089 \nL 260.302486 -115.781485 \nL 261.098379 -117.099881 \nL 261.903352 -118.418277 \nL 262.699784 -119.736673 \nL 263.472122 -121.055069 \nL 264.207494 -122.373465 \nL 264.896116 -123.691861 \nL 265.531458 -125.010257 \nL 266.110198 -126.328654 \nL 266.631973 -127.64705 \nL 267.098976 -128.965446 \nL 267.515443 -130.283842 \nL 267.887089 -131.602238 \nL 268.220522 -132.920634 \nL 268.5227 -134.23903 \nL 268.800429 -135.557426 \nL 269.059945 -136.875822 \nL 269.30658 -138.194218 \nL 269.54452 -139.512614 \nL 269.776657 -140.83101 \nL 270.004539 -142.149406 \nL 270.228403 -143.467802 \nL 270.447304 -144.786198 \nL 270.659313 -146.104594 \nL 270.861789 -147.422991 \nL 271.051693 -148.741387 \nL 271.225928 -150.059783 \nL 271.381683 -151.378179 \nL 271.51674 -152.696575 \nL 271.629739 -154.014971 \nL 271.720359 -155.333367 \nL 271.789406 -156.651763 \nL 271.838801 -157.970159 \nL 271.871475 -159.288555 \nL 271.89116 -160.606951 \nL 271.902126 -161.925347 \nL 271.908861 -163.243743 \nL 271.915746 -164.562139 \nL 271.92674 -165.880535 \nL 271.945116 -167.198931 \nL 271.973262 -168.517328 \nL 272.012563 -169.835724 \nL 272.063383 -171.15412 \nL 272.125122 -172.472516 \nL 272.196355 -173.790912 \nL 272.275022 -175.109308 \nL 272.358656 -176.427704 \nL 272.444613 -177.7461 \nL 272.530292 -179.064496 \nL 272.613319 -180.382892 \nL 272.691689 -181.701288 \nL 272.763852 -183.019684 \nL 272.828752 -184.33808 \nL 272.885816 -185.656476 \nL 272.93491 -186.974872 \nL 272.976263 -188.293268 \nL 273.269987 -188.293268 \nL 273.269987 -188.293268 \nL 273.31134 -186.974872 \nL 273.360434 -185.656476 \nL 273.417498 -184.33808 \nL 273.482398 -183.019684 \nL 273.554561 -181.701288 \nL 273.632931 -180.382892 \nL 273.715958 -179.064496 \nL 273.801637 -177.7461 \nL 273.887594 -176.427704 \nL 273.971228 -175.109308 \nL 274.049895 -173.790912 \nL 274.121128 -172.472516 \nL 274.182867 -171.15412 \nL 274.233687 -169.835724 \nL 274.272988 -168.517328 \nL 274.301134 -167.198931 \nL 274.31951 -165.880535 \nL 274.330504 -164.562139 \nL 274.337389 -163.243743 \nL 274.344124 -161.925347 \nL 274.35509 -160.606951 \nL 274.374775 -159.288555 \nL 274.407449 -157.970159 \nL 274.456844 -156.651763 \nL 274.525891 -155.333367 \nL 274.616511 -154.014971 \nL 274.72951 -152.696575 \nL 274.864567 -151.378179 \nL 275.020322 -150.059783 \nL 275.194557 -148.741387 \nL 275.384461 -147.422991 \nL 275.586937 -146.104594 \nL 275.798946 -144.786198 \nL 276.017847 -143.467802 \nL 276.241711 -142.149406 \nL 276.469593 -140.83101 \nL 276.70173 -139.512614 \nL 276.93967 -138.194218 \nL 277.186305 -136.875822 \nL 277.445821 -135.557426 \nL 277.72355 -134.23903 \nL 278.025728 -132.920634 \nL 278.359161 -131.602238 \nL 278.730807 -130.283842 \nL 279.147274 -128.965446 \nL 279.614277 -127.64705 \nL 280.136052 -126.328654 \nL 280.714792 -125.010257 \nL 281.350134 -123.691861 \nL 282.038756 -122.373465 \nL 282.774128 -121.055069 \nL 283.546466 -119.736673 \nL 284.342898 -118.418277 \nL 285.147871 -117.099881 \nL 285.943764 -115.781485 \nL 286.71167 -114.463089 \nL 287.432303 -113.144693 \nL 288.08695 -111.826297 \nL 288.658398 -110.507901 \nL 289.131776 -109.189505 \nL 289.495245 -107.871109 \nL 289.740512 -106.552713 \nL 289.863125 -105.234317 \nL 289.862567 -103.91592 \nL 289.742134 -102.597524 \nL 289.50863 -101.279128 \nL 289.171897 -99.960732 \nL 288.744216 -98.642336 \nL 288.239606 -97.32394 \nL 287.673062 -96.005544 \nL 287.059771 -94.687148 \nL 286.414365 -93.368752 \nL 285.750229 -92.050356 \nL 285.078947 -90.73196 \nL 284.409895 -89.413564 \nL 283.750034 -88.095168 \nL 283.103903 -86.776772 \nL 282.473823 -85.458376 \nL 281.860262 -84.13998 \nL 281.262354 -82.821583 \nL 280.678475 -81.503187 \nL 280.106836 -80.184791 \nL 279.546019 -78.866395 \nL 278.995401 -77.547999 \nL 278.455416 -76.229603 \nL 277.927655 -74.911207 \nL 277.41479 -73.592811 \nL 276.920347 -72.274415 \nL 276.448384 -70.956019 \nL 276.003092 -69.637623 \nL 275.58841 -68.319227 \nL 275.207665 -67.000831 \nL 274.863298 -65.682435 \nL 274.55669 -64.364039 \nL 274.288091 -63.045643 \nL 274.056661 -61.727246 \nL 273.860591 -60.40885 \nL 273.697285 -59.090454 \nL 273.563587 -57.772058 \nz\n\" id=\"m3b6d910906\" style=\"stroke:#4c4c4c;stroke-width:1.5;\"/>\n    </defs>\n    <g clip-path=\"url(#p58629aab86)\">\n     <use style=\"fill:#cc8963;stroke:#4c4c4c;stroke-width:1.5;\" x=\"0\" xlink:href=\"#m3b6d910906\" y=\"282.821406\"/>\n    </g>\n   </g>\n   <g id=\"PolyCollection_7\">\n    <defs>\n     <path d=\"M 323.60245 -65.231758 \nL 323.0838 -65.231758 \nL 322.987265 -66.451954 \nL 322.861876 -67.67215 \nL 322.701645 -68.892346 \nL 322.500205 -70.112542 \nL 322.251064 -71.332738 \nL 321.947941 -72.552934 \nL 321.585168 -73.773131 \nL 321.158163 -74.993327 \nL 320.663921 -76.213523 \nL 320.101512 -77.433719 \nL 319.472523 -78.653915 \nL 318.781411 -79.874111 \nL 318.035704 -81.094307 \nL 317.246013 -82.314503 \nL 316.425817 -83.534699 \nL 315.591009 -84.754895 \nL 314.759193 -85.975091 \nL 313.948782 -87.195287 \nL 313.177934 -88.415483 \nL 312.463422 -89.635679 \nL 311.81953 -90.855875 \nL 311.257077 -92.076071 \nL 310.782688 -93.296267 \nL 310.398383 -94.516463 \nL 310.101546 -95.736659 \nL 309.885298 -96.956856 \nL 309.739244 -98.177052 \nL 309.650523 -99.397248 \nL 309.605076 -100.617444 \nL 309.588976 -101.83764 \nL 309.589712 -103.057836 \nL 309.597283 -104.278032 \nL 309.605005 -105.498228 \nL 309.609943 -106.718424 \nL 309.612972 -107.93862 \nL 309.618434 -109.158816 \nL 309.633491 -110.379012 \nL 309.667218 -111.599208 \nL 309.729559 -112.819404 \nL 309.830247 -114.0396 \nL 309.977785 -115.259796 \nL 310.17859 -116.479992 \nL 310.436343 -117.700188 \nL 310.751606 -118.920384 \nL 311.121708 -120.14058 \nL 311.540889 -121.360777 \nL 312.000682 -122.580973 \nL 312.490482 -123.801169 \nL 312.998257 -125.021365 \nL 313.511334 -126.241561 \nL 314.017212 -127.461757 \nL 314.504336 -128.681953 \nL 314.96279 -129.902149 \nL 315.384855 -131.122345 \nL 315.765396 -132.342541 \nL 316.102063 -133.562737 \nL 316.395278 -134.782933 \nL 316.648028 -136.003129 \nL 316.86547 -137.223325 \nL 317.054399 -138.443521 \nL 317.222614 -139.663717 \nL 317.378247 -140.883913 \nL 317.529116 -142.104109 \nL 317.682162 -143.324305 \nL 317.843003 -144.544502 \nL 318.015664 -145.764698 \nL 318.202455 -146.984894 \nL 318.404035 -148.20509 \nL 318.619598 -149.425286 \nL 318.847171 -150.645482 \nL 319.083964 -151.865678 \nL 319.326738 -153.085874 \nL 319.572143 -154.30607 \nL 319.817002 -155.526266 \nL 320.058528 -156.746462 \nL 320.294446 -157.966658 \nL 320.523055 -159.186854 \nL 320.743211 -160.40705 \nL 320.954264 -161.627246 \nL 321.15596 -162.847442 \nL 321.348324 -164.067638 \nL 321.531544 -165.287834 \nL 321.705863 -166.50803 \nL 321.87149 -167.728227 \nL 322.02854 -168.948423 \nL 322.176998 -170.168619 \nL 322.316719 -171.388815 \nL 322.447447 -172.609011 \nL 322.568858 -173.829207 \nL 322.680613 -175.049403 \nL 322.78242 -176.269599 \nL 322.87409 -177.489795 \nL 322.955581 -178.709991 \nL 323.027028 -179.930187 \nL 323.088756 -181.150383 \nL 323.141271 -182.370579 \nL 323.185238 -183.590775 \nL 323.221445 -184.810971 \nL 323.250762 -186.031167 \nL 323.435488 -186.031167 \nL 323.435488 -186.031167 \nL 323.464805 -184.810971 \nL 323.501012 -183.590775 \nL 323.544979 -182.370579 \nL 323.597494 -181.150383 \nL 323.659222 -179.930187 \nL 323.730669 -178.709991 \nL 323.81216 -177.489795 \nL 323.90383 -176.269599 \nL 324.005637 -175.049403 \nL 324.117392 -173.829207 \nL 324.238803 -172.609011 \nL 324.369531 -171.388815 \nL 324.509252 -170.168619 \nL 324.65771 -168.948423 \nL 324.81476 -167.728227 \nL 324.980387 -166.50803 \nL 325.154706 -165.287834 \nL 325.337926 -164.067638 \nL 325.53029 -162.847442 \nL 325.731986 -161.627246 \nL 325.943039 -160.40705 \nL 326.163195 -159.186854 \nL 326.391804 -157.966658 \nL 326.627722 -156.746462 \nL 326.869248 -155.526266 \nL 327.114107 -154.30607 \nL 327.359512 -153.085874 \nL 327.602286 -151.865678 \nL 327.839079 -150.645482 \nL 328.066652 -149.425286 \nL 328.282215 -148.20509 \nL 328.483795 -146.984894 \nL 328.670586 -145.764698 \nL 328.843247 -144.544502 \nL 329.004088 -143.324305 \nL 329.157134 -142.104109 \nL 329.308003 -140.883913 \nL 329.463636 -139.663717 \nL 329.631851 -138.443521 \nL 329.82078 -137.223325 \nL 330.038222 -136.003129 \nL 330.290972 -134.782933 \nL 330.584187 -133.562737 \nL 330.920854 -132.342541 \nL 331.301395 -131.122345 \nL 331.72346 -129.902149 \nL 332.181914 -128.681953 \nL 332.669038 -127.461757 \nL 333.174916 -126.241561 \nL 333.687993 -125.021365 \nL 334.195768 -123.801169 \nL 334.685568 -122.580973 \nL 335.145361 -121.360777 \nL 335.564542 -120.14058 \nL 335.934644 -118.920384 \nL 336.249907 -117.700188 \nL 336.50766 -116.479992 \nL 336.708465 -115.259796 \nL 336.856003 -114.0396 \nL 336.956691 -112.819404 \nL 337.019032 -111.599208 \nL 337.052759 -110.379012 \nL 337.067816 -109.158816 \nL 337.073278 -107.93862 \nL 337.076307 -106.718424 \nL 337.081245 -105.498228 \nL 337.088967 -104.278032 \nL 337.096538 -103.057836 \nL 337.097274 -101.83764 \nL 337.081174 -100.617444 \nL 337.035727 -99.397248 \nL 336.947006 -98.177052 \nL 336.800952 -96.956856 \nL 336.584704 -95.736659 \nL 336.287867 -94.516463 \nL 335.903562 -93.296267 \nL 335.429173 -92.076071 \nL 334.86672 -90.855875 \nL 334.222828 -89.635679 \nL 333.508316 -88.415483 \nL 332.737468 -87.195287 \nL 331.927057 -85.975091 \nL 331.095241 -84.754895 \nL 330.260433 -83.534699 \nL 329.440237 -82.314503 \nL 328.650546 -81.094307 \nL 327.904839 -79.874111 \nL 327.213727 -78.653915 \nL 326.584738 -77.433719 \nL 326.022329 -76.213523 \nL 325.528087 -74.993327 \nL 325.101082 -73.773131 \nL 324.738309 -72.552934 \nL 324.435186 -71.332738 \nL 324.186045 -70.112542 \nL 323.984605 -68.892346 \nL 323.824374 -67.67215 \nL 323.698985 -66.451954 \nL 323.60245 -65.231758 \nz\n\" id=\"m4093716ace\" style=\"stroke:#4c4c4c;stroke-width:1.5;\"/>\n    </defs>\n    <g clip-path=\"url(#p58629aab86)\">\n     <use style=\"fill:#5875a4;stroke:#4c4c4c;stroke-width:1.5;\" x=\"0\" xlink:href=\"#m4093716ace\" y=\"282.821406\"/>\n    </g>\n   </g>\n   <g id=\"PolyCollection_8\">\n    <defs>\n     <path d=\"M 357.073724 -57.812381 \nL 356.572526 -57.812381 \nL 356.511444 -58.918317 \nL 356.439388 -60.024254 \nL 356.355377 -61.130191 \nL 356.258556 -62.236128 \nL 356.148246 -63.342065 \nL 356.02398 -64.448002 \nL 355.885542 -65.553938 \nL 355.732989 -66.659875 \nL 355.566658 -67.765812 \nL 355.387166 -68.871749 \nL 355.195387 -69.977686 \nL 354.992419 -71.083623 \nL 354.779533 -72.189559 \nL 354.558115 -73.295496 \nL 354.329597 -74.401433 \nL 354.095391 -75.50737 \nL 353.856814 -76.613307 \nL 353.615029 -77.719243 \nL 353.370981 -78.82518 \nL 353.125352 -79.931117 \nL 352.878523 -81.037054 \nL 352.630546 -82.142991 \nL 352.381129 -83.248928 \nL 352.12963 -84.354864 \nL 351.875063 -85.460801 \nL 351.616108 -86.566738 \nL 351.351138 -87.672675 \nL 351.078248 -88.778612 \nL 350.795302 -89.884549 \nL 350.499982 -90.990485 \nL 350.189861 -92.096422 \nL 349.862479 -93.202359 \nL 349.515439 -94.308296 \nL 349.146513 -95.414233 \nL 348.753764 -96.52017 \nL 348.335674 -97.626106 \nL 347.891279 -98.732043 \nL 347.420318 -99.83798 \nL 346.92337 -100.943917 \nL 346.401989 -102.049854 \nL 345.858831 -103.15579 \nL 345.297751 -104.261727 \nL 344.723876 -105.367664 \nL 344.143636 -106.473601 \nL 343.564745 -107.579538 \nL 342.996113 -108.685475 \nL 342.447697 -109.791411 \nL 341.930274 -110.897348 \nL 341.455133 -112.003285 \nL 341.033695 -113.109222 \nL 340.67708 -114.215159 \nL 340.395616 -115.321096 \nL 340.198341 -116.427032 \nL 340.092505 -117.532969 \nL 340.083125 -118.638906 \nL 340.172607 -119.744843 \nL 340.360484 -120.85078 \nL 340.643295 -121.956717 \nL 341.014605 -123.062653 \nL 341.465207 -124.16859 \nL 341.983479 -125.274527 \nL 342.555881 -126.380464 \nL 343.167591 -127.486401 \nL 343.803202 -128.592337 \nL 344.447477 -129.698274 \nL 345.086079 -130.804211 \nL 345.706255 -131.910148 \nL 346.297405 -133.016085 \nL 346.851515 -134.122022 \nL 347.363424 -135.227958 \nL 347.830892 -136.333895 \nL 348.254502 -137.439832 \nL 348.637374 -138.545769 \nL 348.984741 -139.651706 \nL 349.303405 -140.757643 \nL 349.601134 -141.863579 \nL 349.886028 -142.969516 \nL 350.165911 -144.075453 \nL 350.447796 -145.18139 \nL 350.737438 -146.287327 \nL 351.03902 -147.393264 \nL 351.354976 -148.4992 \nL 351.685954 -149.605137 \nL 352.030909 -150.711074 \nL 352.387307 -151.817011 \nL 352.751416 -152.922948 \nL 353.11865 -154.028884 \nL 353.483941 -155.134821 \nL 353.8421 -156.240758 \nL 354.188148 -157.346695 \nL 354.517597 -158.452632 \nL 354.826661 -159.558569 \nL 355.112399 -160.664505 \nL 355.372784 -161.770442 \nL 355.606703 -162.876379 \nL 355.813908 -163.982316 \nL 355.994916 -165.088253 \nL 356.150884 -166.19419 \nL 356.283467 -167.300126 \nL 357.362783 -167.300126 \nL 357.362783 -167.300126 \nL 357.495366 -166.19419 \nL 357.651334 -165.088253 \nL 357.832342 -163.982316 \nL 358.039547 -162.876379 \nL 358.273466 -161.770442 \nL 358.533851 -160.664505 \nL 358.819589 -159.558569 \nL 359.128653 -158.452632 \nL 359.458102 -157.346695 \nL 359.80415 -156.240758 \nL 360.162309 -155.134821 \nL 360.5276 -154.028884 \nL 360.894834 -152.922948 \nL 361.258943 -151.817011 \nL 361.615341 -150.711074 \nL 361.960296 -149.605137 \nL 362.291274 -148.4992 \nL 362.60723 -147.393264 \nL 362.908812 -146.287327 \nL 363.198454 -145.18139 \nL 363.480339 -144.075453 \nL 363.760222 -142.969516 \nL 364.045116 -141.863579 \nL 364.342845 -140.757643 \nL 364.661509 -139.651706 \nL 365.008876 -138.545769 \nL 365.391748 -137.439832 \nL 365.815358 -136.333895 \nL 366.282826 -135.227958 \nL 366.794735 -134.122022 \nL 367.348845 -133.016085 \nL 367.939995 -131.910148 \nL 368.560171 -130.804211 \nL 369.198773 -129.698274 \nL 369.843048 -128.592337 \nL 370.478659 -127.486401 \nL 371.090369 -126.380464 \nL 371.662771 -125.274527 \nL 372.181043 -124.16859 \nL 372.631645 -123.062653 \nL 373.002955 -121.956717 \nL 373.285766 -120.85078 \nL 373.473643 -119.744843 \nL 373.563125 -118.638906 \nL 373.553745 -117.532969 \nL 373.447909 -116.427032 \nL 373.250634 -115.321096 \nL 372.96917 -114.215159 \nL 372.612555 -113.109222 \nL 372.191117 -112.003285 \nL 371.715976 -110.897348 \nL 371.198553 -109.791411 \nL 370.650137 -108.685475 \nL 370.081505 -107.579538 \nL 369.502614 -106.473601 \nL 368.922374 -105.367664 \nL 368.348499 -104.261727 \nL 367.787419 -103.15579 \nL 367.244261 -102.049854 \nL 366.72288 -100.943917 \nL 366.225932 -99.83798 \nL 365.754971 -98.732043 \nL 365.310576 -97.626106 \nL 364.892486 -96.52017 \nL 364.499737 -95.414233 \nL 364.130811 -94.308296 \nL 363.783771 -93.202359 \nL 363.456389 -92.096422 \nL 363.146268 -90.990485 \nL 362.850948 -89.884549 \nL 362.568002 -88.778612 \nL 362.295112 -87.672675 \nL 362.030142 -86.566738 \nL 361.771187 -85.460801 \nL 361.51662 -84.354864 \nL 361.265121 -83.248928 \nL 361.015704 -82.142991 \nL 360.767727 -81.037054 \nL 360.520898 -79.931117 \nL 360.275269 -78.82518 \nL 360.031221 -77.719243 \nL 359.789436 -76.613307 \nL 359.550859 -75.50737 \nL 359.316653 -74.401433 \nL 359.088135 -73.295496 \nL 358.866717 -72.189559 \nL 358.653831 -71.083623 \nL 358.450863 -69.977686 \nL 358.259084 -68.871749 \nL 358.079592 -67.765812 \nL 357.913261 -66.659875 \nL 357.760708 -65.553938 \nL 357.62227 -64.448002 \nL 357.498004 -63.342065 \nL 357.387694 -62.236128 \nL 357.290873 -61.130191 \nL 357.206862 -60.024254 \nL 357.134806 -58.918317 \nL 357.073724 -57.812381 \nz\n\" id=\"m656dfb44ad\" style=\"stroke:#4c4c4c;stroke-width:1.5;\"/>\n    </defs>\n    <g clip-path=\"url(#p58629aab86)\">\n     <use style=\"fill:#cc8963;stroke:#4c4c4c;stroke-width:1.5;\" x=\"0\" xlink:href=\"#m656dfb44ad\" y=\"282.821406\"/>\n    </g>\n   </g>\n   <g id=\"patch_3\">\n    <path clip-path=\"url(#p58629aab86)\" d=\"M 88.983125 220.698103 \nL 88.983125 220.698103 \nL 88.983125 220.698103 \nL 88.983125 220.698103 \nz\n\" style=\"fill:#5875a4;stroke:#4c4c4c;stroke-linejoin:miter;stroke-width:0.75;\"/>\n   </g>\n   <g id=\"patch_4\">\n    <path clip-path=\"url(#p58629aab86)\" d=\"M 88.983125 220.698103 \nL 88.983125 220.698103 \nL 88.983125 220.698103 \nL 88.983125 220.698103 \nz\n\" style=\"fill:#cc8963;stroke:#4c4c4c;stroke-linejoin:miter;stroke-width:0.75;\"/>\n   </g>\n   <g id=\"line2d_8\">\n    <path clip-path=\"url(#p58629aab86)\" d=\"M 72.243125 197.308908 \nL 72.243125 111.87338 \n\" style=\"fill:none;stroke:#4c4c4c;stroke-linecap:round;stroke-width:1.5;\"/>\n   </g>\n   <g id=\"line2d_9\">\n    <path clip-path=\"url(#p58629aab86)\" d=\"M 72.243125 188.213111 \nL 72.243125 155.728119 \n\" style=\"fill:none;stroke:#4c4c4c;stroke-linecap:round;stroke-width:4.5;\"/>\n   </g>\n   <g id=\"line2d_10\">\n    <path clip-path=\"url(#p58629aab86)\" d=\"M 105.723125 200.394983 \nL 105.723125 152.47962 \n\" style=\"fill:none;stroke:#4c4c4c;stroke-linecap:round;stroke-width:1.5;\"/>\n   </g>\n   <g id=\"line2d_11\">\n    <path clip-path=\"url(#p58629aab86)\" d=\"M 105.723125 191.096154 \nL 105.723125 171.036671 \n\" style=\"fill:none;stroke:#4c4c4c;stroke-linecap:round;stroke-width:4.5;\"/>\n   </g>\n   <g id=\"line2d_12\">\n    <path clip-path=\"url(#p58629aab86)\" d=\"M 155.943125 196.334359 \nL 155.943125 143.871097 \n\" style=\"fill:none;stroke:#4c4c4c;stroke-linecap:round;stroke-width:1.5;\"/>\n   </g>\n   <g id=\"line2d_13\">\n    <path clip-path=\"url(#p58629aab86)\" d=\"M 155.943125 193.654347 \nL 155.943125 165.879679 \n\" style=\"fill:none;stroke:#4c4c4c;stroke-linecap:round;stroke-width:4.5;\"/>\n   </g>\n   <g id=\"line2d_14\">\n    <path clip-path=\"url(#p58629aab86)\" d=\"M 189.423125 188.213111 \nL 189.423125 150.85537 \n\" style=\"fill:none;stroke:#4c4c4c;stroke-linecap:round;stroke-width:1.5;\"/>\n   </g>\n   <g id=\"line2d_15\">\n    <path clip-path=\"url(#p58629aab86)\" d=\"M 189.423125 180.091863 \nL 189.423125 167.909991 \n\" style=\"fill:none;stroke:#4c4c4c;stroke-linecap:round;stroke-width:4.5;\"/>\n   </g>\n   <g id=\"line2d_16\">\n    <path clip-path=\"url(#p58629aab86)\" d=\"M 239.643125 204.455607 \nL 239.643125 136.886824 \n\" style=\"fill:none;stroke:#4c4c4c;stroke-linecap:round;stroke-width:1.5;\"/>\n   </g>\n   <g id=\"line2d_17\">\n    <path clip-path=\"url(#p58629aab86)\" d=\"M 239.643125 188.213111 \nL 239.643125 165.473616 \n\" style=\"fill:none;stroke:#4c4c4c;stroke-linecap:round;stroke-width:4.5;\"/>\n   </g>\n   <g id=\"line2d_18\">\n    <path clip-path=\"url(#p58629aab86)\" d=\"M 273.123125 204.455607 \nL 273.123125 154.428719 \n\" style=\"fill:none;stroke:#4c4c4c;stroke-linecap:round;stroke-width:1.5;\"/>\n   </g>\n   <g id=\"line2d_19\">\n    <path clip-path=\"url(#p58629aab86)\" d=\"M 273.123125 185.776736 \nL 273.123125 170.305759 \n\" style=\"fill:none;stroke:#4c4c4c;stroke-linecap:round;stroke-width:4.5;\"/>\n   </g>\n   <g id=\"line2d_20\">\n    <path clip-path=\"url(#p58629aab86)\" d=\"M 323.343125 199.258008 \nL 323.343125 115.121879 \n\" style=\"fill:none;stroke:#4c4c4c;stroke-linecap:round;stroke-width:1.5;\"/>\n   </g>\n   <g id=\"line2d_21\">\n    <path clip-path=\"url(#p58629aab86)\" d=\"M 323.343125 188.213111 \nL 323.343125 156.052969 \n\" style=\"fill:none;stroke:#4c4c4c;stroke-linecap:round;stroke-width:4.5;\"/>\n   </g>\n   <g id=\"line2d_22\">\n    <path clip-path=\"url(#p58629aab86)\" d=\"M 356.823125 204.293182 \nL 356.823125 136.237124 \n\" style=\"fill:none;stroke:#4c4c4c;stroke-linecap:round;stroke-width:1.5;\"/>\n   </g>\n   <g id=\"line2d_23\">\n    <path clip-path=\"url(#p58629aab86)\" d=\"M 356.823125 176.721545 \nL 356.823125 156.743275 \n\" style=\"fill:none;stroke:#4c4c4c;stroke-linecap:round;stroke-width:4.5;\"/>\n   </g>\n   <g id=\"patch_5\">\n    <path d=\"M 47.133125 240.084375 \nL 47.133125 22.644375 \n\" style=\"fill:none;stroke:#ffffff;stroke-linecap:square;stroke-linejoin:miter;stroke-width:1.25;\"/>\n   </g>\n   <g id=\"patch_6\">\n    <path d=\"M 381.933125 240.084375 \nL 381.933125 22.644375 \n\" style=\"fill:none;stroke:#ffffff;stroke-linecap:square;stroke-linejoin:miter;stroke-width:1.25;\"/>\n   </g>\n   <g id=\"patch_7\">\n    <path d=\"M 47.133125 240.084375 \nL 381.933125 240.084375 \n\" style=\"fill:none;stroke:#ffffff;stroke-linecap:square;stroke-linejoin:miter;stroke-width:1.25;\"/>\n   </g>\n   <g id=\"patch_8\">\n    <path d=\"M 47.133125 22.644375 \nL 381.933125 22.644375 \n\" style=\"fill:none;stroke:#ffffff;stroke-linecap:square;stroke-linejoin:miter;stroke-width:1.25;\"/>\n   </g>\n   <g id=\"PathCollection_1\">\n    <defs>\n     <path d=\"M 0 1.5 \nC 0.397805 1.5 0.77937 1.341951 1.06066 1.06066 \nC 1.341951 0.77937 1.5 0.397805 1.5 0 \nC 1.5 -0.397805 1.341951 -0.77937 1.06066 -1.06066 \nC 0.77937 -1.341951 0.397805 -1.5 0 -1.5 \nC -0.397805 -1.5 -0.77937 -1.341951 -1.06066 -1.06066 \nC -1.341951 -0.77937 -1.5 -0.397805 -1.5 0 \nC -1.5 0.397805 -1.341951 0.77937 -1.06066 1.06066 \nC -0.77937 1.341951 -0.397805 1.5 0 1.5 \nz\n\" id=\"md22d6c86ed\" style=\"stroke:#4c4c4c;\"/>\n    </defs>\n    <g clip-path=\"url(#p58629aab86)\">\n     <use style=\"fill:#ffffff;stroke:#4c4c4c;\" x=\"72.243125\" xlink:href=\"#md22d6c86ed\" y=\"179.604588\"/>\n    </g>\n   </g>\n   <g id=\"PathCollection_2\">\n    <g clip-path=\"url(#p58629aab86)\">\n     <use style=\"fill:#ffffff;stroke:#4c4c4c;\" x=\"105.723125\" xlink:href=\"#md22d6c86ed\" y=\"188.131898\"/>\n    </g>\n   </g>\n   <g id=\"PathCollection_3\">\n    <g clip-path=\"url(#p58629aab86)\">\n     <use style=\"fill:#ffffff;stroke:#4c4c4c;\" x=\"155.943125\" xlink:href=\"#md22d6c86ed\" y=\"178.467613\"/>\n    </g>\n   </g>\n   <g id=\"PathCollection_4\">\n    <g clip-path=\"url(#p58629aab86)\">\n     <use style=\"fill:#ffffff;stroke:#4c4c4c;\" x=\"189.423125\" xlink:href=\"#md22d6c86ed\" y=\"171.970615\"/>\n    </g>\n   </g>\n   <g id=\"PathCollection_5\">\n    <g clip-path=\"url(#p58629aab86)\">\n     <use style=\"fill:#ffffff;stroke:#4c4c4c;\" x=\"239.643125\" xlink:href=\"#md22d6c86ed\" y=\"171.970615\"/>\n    </g>\n   </g>\n   <g id=\"PathCollection_6\">\n    <g clip-path=\"url(#p58629aab86)\">\n     <use style=\"fill:#ffffff;stroke:#4c4c4c;\" x=\"273.123125\" xlink:href=\"#md22d6c86ed\" y=\"178.061551\"/>\n    </g>\n   </g>\n   <g id=\"PathCollection_7\">\n    <g clip-path=\"url(#p58629aab86)\">\n     <use style=\"fill:#ffffff;stroke:#4c4c4c;\" x=\"323.343125\" xlink:href=\"#md22d6c86ed\" y=\"170.590003\"/>\n    </g>\n   </g>\n   <g id=\"PathCollection_8\">\n    <g clip-path=\"url(#p58629aab86)\">\n     <use style=\"fill:#ffffff;stroke:#4c4c4c;\" x=\"356.823125\" xlink:href=\"#md22d6c86ed\" y=\"163.849367\"/>\n    </g>\n   </g>\n   <g id=\"text_14\">\n    <!-- 요일 별, 성별 팁의 Violin Plot -->\n    <g style=\"fill:#262626;\" transform=\"translate(137.036563 16.644375)scale(0.12 -0.12)\">\n     <defs>\n      <path d=\"M 4800 3334 \nQ 4800 3878 4288 4160 \nQ 4064 4288 3792 4349 \nQ 3520 4410 3187 4410 \nQ 2419 4410 1984 4144 \nQ 1549 3878 1549 3379 \nQ 1549 2778 2157 2528 \nQ 2534 2368 3110 2368 \nQ 3462 2368 3747 2422 \nQ 4032 2477 4262 2586 \nQ 4800 2842 4800 3334 \nz\nM 6016 307 \nL 3238 307 \nQ 2835 307 2371 300 \nQ 1907 294 1376 282 \nQ 1184 275 934 268 \nQ 685 262 378 250 \nL 378 691 \nL 1363 678 \nL 2022 685 \nL 2022 1466 \nL 1997 1760 \nL 2138 1760 \nQ 2310 1760 2416 1744 \nQ 2522 1728 2522 1670 \nQ 2522 1632 2493 1552 \nQ 2464 1472 2464 1440 \nL 2464 685 \nL 3853 685 \nQ 3859 736 3862 829 \nQ 3866 922 3866 960 \nL 3821 1760 \nL 3930 1760 \nQ 4115 1760 4233 1741 \nQ 4352 1722 4352 1670 \nQ 4352 1658 4333 1584 \nQ 4314 1510 4314 1440 \nL 4314 678 \nQ 4442 678 4598 684 \nQ 4755 691 4947 704 \nQ 5798 762 6016 762 \nL 6016 307 \nz\nM 5248 3347 \nQ 5248 2675 4602 2310 \nQ 4045 2003 3251 2003 \nQ 2842 2003 2512 2054 \nQ 2182 2106 1920 2214 \nQ 1094 2547 1094 3366 \nQ 1094 4109 1792 4461 \nQ 2336 4742 3162 4742 \nQ 4045 4742 4589 4442 \nQ 5248 4077 5248 3347 \nz\n\" id=\"AppleGothic-c694\" transform=\"scale(0.015625)\"/>\n      <path d=\"M 3379 3494 \nQ 3379 3910 3027 4160 \nQ 2701 4390 2246 4390 \nQ 1792 4390 1478 4166 \nQ 1139 3923 1139 3482 \nQ 1139 3104 1459 2867 \nQ 1786 2637 2202 2637 \nQ 2694 2637 3021 2848 \nQ 3379 3085 3379 3494 \nz\nM 5504 -435 \nQ 5331 -429 5091 -429 \nQ 4851 -429 4544 -422 \nQ 4237 -416 4051 -416 \nQ 3866 -416 3795 -416 \nL 1549 -416 \nL 1562 166 \nL 1555 864 \nQ 1651 864 1859 861 \nQ 2067 858 2394 851 \nQ 2720 845 2947 845 \nQ 3174 845 3302 845 \nL 4237 845 \nQ 4410 851 4579 854 \nQ 4749 858 4922 864 \nL 4922 1414 \nL 4634 1414 \nQ 3565 1434 3462 1434 \nL 3232 1434 \nQ 2803 1434 2339 1421 \nQ 1875 1408 1485 1395 \nL 1485 1760 \nQ 1606 1754 1795 1754 \nQ 1984 1754 2253 1747 \nQ 2515 1741 2761 1741 \nQ 3008 1741 3245 1741 \nL 4467 1741 \nQ 4698 1747 4931 1750 \nQ 5165 1754 5395 1760 \nL 5389 1146 \nL 5408 544 \nL 2035 518 \nL 2035 -77 \nQ 2202 -83 2387 -83 \nQ 2573 -83 2784 -83 \nQ 2995 -90 3171 -90 \nQ 3347 -90 3482 -90 \nQ 3923 -90 4246 -86 \nQ 4570 -83 4781 -77 \nQ 4992 -70 5174 -64 \nQ 5357 -58 5504 -45 \nL 5504 -435 \nz\nM 3821 3494 \nQ 3821 3194 3702 2973 \nQ 3584 2752 3354 2586 \nQ 2931 2298 2266 2298 \nQ 1536 2298 1107 2682 \nQ 710 3027 710 3520 \nQ 710 4000 1082 4339 \nQ 1491 4710 2202 4710 \nQ 2573 4710 2873 4627 \nQ 3174 4544 3385 4390 \nQ 3597 4237 3709 4009 \nQ 3821 3782 3821 3494 \nz\nM 5434 5075 \nQ 5434 5056 5414 4982 \nQ 5395 4909 5395 4858 \nL 5382 3680 \nQ 5382 3283 5388 2854 \nQ 5395 2426 5408 2061 \nL 4928 2061 \nL 4941 3686 \nQ 4941 4051 4937 4451 \nQ 4934 4851 4922 5190 \nL 4947 5190 \nQ 5210 5190 5322 5161 \nQ 5434 5133 5434 5075 \nz\n\" id=\"AppleGothic-c77c\" transform=\"scale(0.015625)\"/>\n      <path id=\"AppleGothic-20\" transform=\"scale(0.015625)\"/>\n      <path d=\"M 3027 2739 \nL 3027 3680 \nL 2150 3693 \nL 1293 3680 \nL 1293 2739 \nL 2144 2720 \nL 3027 2739 \nz\nM 5440 -531 \nQ 5178 -525 4906 -518 \nQ 4634 -512 4339 -506 \nQ 4038 -499 3801 -496 \nQ 3565 -493 3379 -493 \nL 1446 -493 \nQ 1453 -422 1456 -336 \nQ 1459 -250 1466 -141 \nQ 1466 -45 1469 19 \nQ 1472 83 1472 115 \nL 1459 762 \nL 3354 749 \nL 4845 774 \nL 4845 1382 \nL 1446 1370 \nL 1446 1734 \nQ 1658 1734 1888 1728 \nQ 2118 1722 2374 1715 \nQ 2630 1709 2864 1705 \nQ 3098 1702 3322 1702 \nL 5299 1715 \nL 5280 1094 \nL 5293 410 \nL 3373 429 \nL 1901 416 \nL 1901 -128 \nQ 1978 -134 2134 -134 \nQ 2291 -134 2522 -134 \nQ 2752 -141 2969 -144 \nQ 3187 -147 3392 -147 \nQ 3846 -147 4380 -137 \nQ 4915 -128 5440 -109 \nL 5440 -531 \nz\nM 5440 5062 \nQ 5440 5024 5414 4937 \nQ 5389 4851 5389 4813 \nQ 5382 4589 5372 4224 \nQ 5363 3859 5363 3334 \nQ 5363 3008 5363 2784 \nQ 5363 2560 5370 2445 \nQ 5376 2323 5376 2220 \nQ 5376 2118 5382 2029 \nL 4922 2029 \nQ 4941 2189 4941 2394 \nL 4941 2822 \nL 3878 2803 \nL 3878 3174 \nL 4941 3162 \nL 4941 3917 \nL 3859 3904 \nL 3859 4269 \nL 4941 4256 \nL 4941 4685 \nQ 4941 4909 4934 5021 \nQ 4928 5133 4915 5190 \nL 5056 5190 \nQ 5222 5190 5331 5164 \nQ 5440 5139 5440 5062 \nz\nM 3488 4877 \nL 3469 4710 \nL 3456 3462 \nL 3469 2362 \nL 851 2362 \nQ 851 2630 857 2944 \nQ 864 3258 870 3578 \nQ 870 3853 870 4061 \nQ 870 4269 864 4416 \nQ 858 4570 858 4704 \nQ 858 4838 851 4966 \nL 979 4966 \nQ 1146 4966 1242 4950 \nQ 1338 4934 1338 4864 \nQ 1338 4838 1315 4761 \nQ 1293 4685 1293 4653 \nL 1293 4051 \nL 2157 4032 \nL 3027 4051 \nL 3014 4998 \nL 3072 4998 \nQ 3264 4998 3376 4976 \nQ 3488 4954 3488 4877 \nz\n\" id=\"AppleGothic-bcc4\" transform=\"scale(0.015625)\"/>\n      <path d=\"M 806 -941 \nL 550 -941 \nQ 666 -698 723 -502 \nQ 781 -307 806 -64 \nQ 666 0 602 77 \nQ 525 160 525 346 \nQ 525 576 630 720 \nQ 736 864 883 864 \nQ 1030 864 1113 701 \nQ 1197 538 1197 326 \nQ 1197 141 1161 -48 \nQ 1126 -237 1056 -429 \nQ 1011 -538 950 -662 \nQ 890 -787 806 -941 \nz\n\" id=\"AppleGothic-2c\" transform=\"scale(0.015625)\"/>\n      <path d=\"M 5459 486 \nQ 5459 -38 4838 -269 \nQ 4294 -474 3347 -474 \nQ 2445 -474 1907 -262 \nQ 1293 -26 1293 442 \nQ 1293 1030 1946 1280 \nQ 2189 1382 2544 1427 \nQ 2899 1472 3354 1472 \nQ 3795 1472 4147 1427 \nQ 4499 1382 4768 1280 \nQ 5459 1024 5459 486 \nz\nM 5446 5082 \nQ 5446 5062 5420 4992 \nQ 5395 4922 5395 4870 \nL 5382 3981 \nL 5395 1664 \nL 4922 1587 \nL 4922 3315 \nL 4333 3334 \nL 3725 3315 \nL 3725 3706 \nL 4352 3686 \nL 4928 3706 \nL 4915 5190 \nL 5094 5197 \nQ 5242 5197 5344 5174 \nQ 5446 5152 5446 5082 \nz\nM 3962 2381 \nQ 3949 2362 3930 2342 \nQ 3898 2310 3878 2284 \nQ 3859 2259 3834 2240 \nL 3661 2035 \nQ 3558 2106 3475 2163 \nQ 3392 2221 3334 2266 \nQ 3136 2413 2989 2557 \nQ 2842 2701 2733 2838 \nQ 2624 2976 2541 3113 \nQ 2458 3251 2394 3386 \nQ 2349 3482 2304 3603 \nQ 2285 3565 2269 3533 \nQ 2253 3501 2240 3469 \nQ 2042 3117 1690 2707 \nQ 1568 2573 1421 2425 \nQ 1274 2278 1094 2125 \nQ 1030 2074 953 2010 \nQ 877 1946 768 1862 \nL 557 2035 \nQ 525 2067 461 2105 \nQ 397 2144 397 2163 \nQ 403 2189 410 2195 \nQ 474 2234 528 2262 \nQ 582 2291 627 2323 \nQ 883 2502 1123 2736 \nQ 1363 2970 1587 3258 \nQ 1856 3610 2009 4048 \nQ 2163 4486 2163 4928 \nL 2202 4928 \nQ 2387 4928 2534 4909 \nQ 2682 4890 2682 4826 \nQ 2682 4774 2637 4723 \nQ 2630 4710 2592 4672 \nQ 2579 4634 2576 4605 \nQ 2573 4576 2566 4550 \nQ 2541 4422 2541 4333 \nQ 2541 4250 2563 4147 \nQ 2586 4045 2630 3910 \nQ 2758 3539 3001 3193 \nQ 3245 2848 3610 2605 \nQ 3674 2560 3754 2518 \nQ 3834 2477 3930 2426 \nL 3962 2381 \nz\nM 4979 474 \nQ 4979 826 4474 979 \nQ 4058 1114 3354 1114 \nQ 2624 1114 2266 992 \nQ 1773 838 1773 448 \nQ 1850 -102 3366 -102 \nQ 4154 -102 4525 19 \nQ 4979 160 4979 474 \nz\n\" id=\"AppleGothic-c131\" transform=\"scale(0.015625)\"/>\n      <path d=\"M 4954 32 \nL 4954 736 \nL 3232 736 \nQ 3002 736 2829 736 \nQ 2656 736 2528 730 \nQ 2400 730 2278 726 \nQ 2157 723 2029 717 \nL 2029 -26 \nL 3418 -26 \nQ 3898 -26 4294 -6 \nQ 4691 13 4954 32 \nz\nM 5446 1677 \nQ 5446 1658 5433 1578 \nQ 5421 1498 5421 1427 \nL 5414 538 \nL 5414 -90 \nQ 5421 -198 5424 -304 \nQ 5427 -410 5434 -506 \nL 4960 -506 \nL 4954 -339 \nL 2048 -403 \nL 2022 -531 \nL 1562 -538 \nQ 1562 -480 1562 -355 \nQ 1562 -230 1568 -32 \nQ 1574 160 1577 294 \nQ 1581 429 1581 499 \nQ 1581 806 1574 1113 \nQ 1568 1421 1555 1683 \nL 1965 1677 \nQ 2054 1677 2054 1594 \nQ 2054 1568 2041 1494 \nQ 2029 1421 2029 1408 \nL 2029 1107 \nQ 2240 1094 2505 1088 \nQ 2771 1082 3059 1082 \nL 4954 1126 \nL 4960 1434 \nL 4941 1773 \nL 5082 1773 \nQ 5286 1773 5366 1750 \nQ 5446 1728 5446 1677 \nz\nM 4448 2182 \nQ 4333 2170 4233 2157 \nQ 4134 2144 4045 2138 \nQ 3750 2112 3462 2099 \nQ 3174 2086 2874 2086 \nQ 2605 2086 2291 2080 \nQ 1978 2074 1626 2061 \nQ 1498 2054 1331 2048 \nQ 1165 2042 954 2029 \nL 973 3283 \nL 954 4582 \nL 2573 4589 \nQ 2899 4589 3305 4605 \nQ 3712 4621 4064 4640 \nL 4064 4237 \nL 3162 4250 \nQ 3014 4250 2796 4243 \nQ 2579 4237 2278 4224 \nQ 1984 4211 1766 4204 \nQ 1549 4198 1402 4198 \nL 1402 3552 \nL 1760 3546 \nQ 1926 3546 2204 3555 \nQ 2483 3565 2874 3578 \nQ 3264 3597 3517 3603 \nQ 3770 3610 3885 3610 \nL 3885 3187 \nL 2477 3200 \nQ 2131 3200 1881 3193 \nQ 1632 3187 1408 3168 \nL 1408 2458 \nL 2886 2470 \nQ 3258 2470 3872 2509 \nQ 3981 2515 4115 2521 \nQ 4250 2528 4422 2541 \nL 4448 2182 \nz\nM 5466 5062 \nQ 5466 5043 5440 4934 \nQ 5421 4819 5421 4749 \nL 5421 4531 \nQ 5402 3706 5402 3558 \nL 5421 1939 \nL 4928 1920 \nQ 4934 1997 4934 2067 \nQ 4934 2138 4934 2195 \nQ 4954 2970 4954 3341 \nL 4954 3539 \nQ 4941 4358 4931 4768 \nQ 4922 5178 4922 5190 \nL 5152 5197 \nQ 5299 5197 5382 5171 \nQ 5466 5146 5466 5062 \nz\n\" id=\"AppleGothic-d301\" transform=\"scale(0.015625)\"/>\n      <path d=\"M 3571 3379 \nQ 3571 4218 2573 4218 \nQ 2061 4218 1776 3987 \nQ 1491 3757 1491 3386 \nQ 1491 2970 1786 2733 \nQ 2054 2522 2509 2522 \nQ 3059 2522 3328 2765 \nQ 3571 2976 3571 3379 \nz\nM 4608 1094 \nQ 4134 1018 3872 979 \nQ 3456 928 3120 899 \nQ 2784 870 2528 870 \nL 902 813 \nQ 858 800 816 790 \nQ 774 781 730 768 \nQ 653 768 608 941 \nQ 563 1114 563 1242 \nL 2477 1248 \nQ 2938 1248 3334 1273 \nQ 3731 1299 4070 1350 \nQ 4282 1376 4576 1459 \nL 4608 1094 \nz\nM 5466 5069 \nQ 5466 5037 5437 4944 \nQ 5408 4851 5408 4813 \nL 5408 2298 \nQ 5408 2010 5411 1683 \nQ 5414 1357 5421 973 \nQ 5427 595 5433 230 \nQ 5440 -134 5453 -499 \nL 4973 -557 \nL 4973 45 \nQ 4979 237 4979 512 \nQ 4979 787 4986 1158 \nQ 4992 1523 4992 1788 \nQ 4992 2054 4992 2221 \nQ 4992 2880 4985 3357 \nQ 4979 3834 4966 4122 \nQ 4954 4410 4944 4675 \nQ 4934 4941 4922 5184 \nL 5024 5184 \nQ 5190 5184 5328 5158 \nQ 5466 5133 5466 5069 \nz\nM 4006 3328 \nQ 4006 2790 3578 2464 \nQ 3155 2138 2528 2138 \nQ 1894 2138 1504 2445 \nQ 1088 2765 1088 3341 \nQ 1088 3955 1517 4288 \nQ 1920 4602 2541 4602 \nQ 3174 4602 3597 4269 \nQ 4006 3936 4006 3354 \nL 4006 3328 \nz\n\" id=\"AppleGothic-c758\" transform=\"scale(0.015625)\"/>\n      <path d=\"M 109 5018 \nL 678 5018 \nL 2310 608 \nL 3910 5018 \nL 4493 5018 \nL 2573 0 \nL 2074 0 \nL 109 5018 \nz\n\" id=\"AppleGothic-56\" transform=\"scale(0.015625)\"/>\n      <path d=\"M 1888 -83 \nQ 1229 -83 730 397 \nQ 198 902 198 1709 \nQ 198 2470 666 2982 \nQ 1146 3501 1850 3501 \nQ 2547 3501 3027 2982 \nQ 3501 2470 3501 1715 \nQ 3501 922 2989 403 \nQ 2515 -83 1888 -83 \nz\nM 1843 339 \nQ 2304 339 2662 723 \nQ 3008 1114 3008 1715 \nQ 3008 2336 2637 2726 \nQ 2298 3085 1850 3085 \nQ 1389 3085 1062 2714 \nQ 704 2304 704 1709 \nQ 704 1107 1056 704 \nQ 1382 339 1843 339 \nz\n\" id=\"AppleGothic-6f\" transform=\"scale(0.015625)\"/>\n      <path d=\"M 288 5018 \nL 749 5018 \nL 749 0 \nL 288 0 \nL 288 5018 \nz\n\" id=\"AppleGothic-6c\" transform=\"scale(0.015625)\"/>\n      <path d=\"M 262 5018 \nL 1869 5018 \nQ 2560 5018 3002 4781 \nQ 3597 4448 3597 3718 \nQ 3597 3014 3104 2630 \nQ 2656 2272 1952 2272 \nL 768 2272 \nL 768 0 \nL 262 0 \nL 262 5018 \nz\nM 1862 4576 \nL 768 4576 \nL 768 2714 \nL 1901 2714 \nQ 2349 2714 2675 2950 \nQ 3040 3219 3040 3674 \nQ 3040 4186 2611 4410 \nQ 2298 4576 1862 4576 \nz\n\" id=\"AppleGothic-50\" transform=\"scale(0.015625)\"/>\n     </defs>\n     <use xlink:href=\"#AppleGothic-c694\"/>\n     <use x=\"99.999985\" xlink:href=\"#AppleGothic-c77c\"/>\n     <use x=\"199.999969\" xlink:href=\"#AppleGothic-20\"/>\n     <use x=\"231.999954\" xlink:href=\"#AppleGothic-bcc4\"/>\n     <use x=\"331.999939\" xlink:href=\"#AppleGothic-2c\"/>\n     <use x=\"360.299927\" xlink:href=\"#AppleGothic-20\"/>\n     <use x=\"392.299911\" xlink:href=\"#AppleGothic-c131\"/>\n     <use x=\"492.299896\" xlink:href=\"#AppleGothic-bcc4\"/>\n     <use x=\"592.299881\" xlink:href=\"#AppleGothic-20\"/>\n     <use x=\"624.299866\" xlink:href=\"#AppleGothic-d301\"/>\n     <use x=\"724.29985\" xlink:href=\"#AppleGothic-c758\"/>\n     <use x=\"824.299835\" xlink:href=\"#AppleGothic-20\"/>\n     <use x=\"856.29982\" xlink:href=\"#AppleGothic-56\"/>\n     <use x=\"927.399811\" xlink:href=\"#AppleGothic-69\"/>\n     <use x=\"943.299805\" xlink:href=\"#AppleGothic-6f\"/>\n     <use x=\"1001.599792\" xlink:href=\"#AppleGothic-6c\"/>\n     <use x=\"1018.299789\" xlink:href=\"#AppleGothic-69\"/>\n     <use x=\"1034.199783\" xlink:href=\"#AppleGothic-6e\"/>\n     <use x=\"1090.099777\" xlink:href=\"#AppleGothic-20\"/>\n     <use x=\"1122.099762\" xlink:href=\"#AppleGothic-50\"/>\n     <use x=\"1182.39975\" xlink:href=\"#AppleGothic-6c\"/>\n     <use x=\"1199.099747\" xlink:href=\"#AppleGothic-6f\"/>\n     <use x=\"1257.399734\" xlink:href=\"#AppleGothic-74\"/>\n    </g>\n   </g>\n   <g id=\"legend_1\">\n    <g id=\"patch_9\">\n     <path d=\"M 302.676406 80.451562 \nL 374.233125 80.451562 \nQ 376.433125 80.451562 376.433125 78.251562 \nL 376.433125 30.344375 \nQ 376.433125 28.144375 374.233125 28.144375 \nL 302.676406 28.144375 \nQ 300.476406 28.144375 300.476406 30.344375 \nL 300.476406 78.251562 \nQ 300.476406 80.451562 302.676406 80.451562 \nz\n\" style=\"fill:#eaeaf2;opacity:0.8;stroke:#cccccc;stroke-linejoin:miter;\"/>\n    </g>\n    <g id=\"text_15\">\n     <!-- sex -->\n     <g style=\"fill:#262626;\" transform=\"translate(328.920391 41.953125)scale(0.12 -0.12)\">\n      <defs>\n       <path d=\"M 224 294 \nL 224 851 \nQ 621 531 1030 403 \nQ 1152 371 1267 355 \nQ 1382 339 1504 339 \nQ 1894 339 2150 518 \nQ 2413 710 2413 947 \nQ 2413 1075 2317 1210 \nQ 2182 1376 1600 1510 \nQ 909 1683 678 1798 \nQ 230 2054 230 2515 \nQ 230 2944 602 3219 \nQ 979 3501 1542 3501 \nQ 1798 3501 2003 3456 \nQ 2208 3411 2387 3337 \nQ 2566 3264 2720 3155 \nL 2720 2598 \nQ 2451 2822 2156 2953 \nQ 1862 3085 1536 3085 \nQ 1210 3085 973 2938 \nQ 730 2790 730 2554 \nQ 730 2240 1306 2054 \nQ 1574 1978 1836 1901 \nQ 2099 1824 2368 1747 \nQ 2950 1498 2950 992 \nQ 2950 563 2547 237 \nQ 2138 -83 1530 -83 \nQ 1261 -83 1005 -26 \nQ 595 64 224 294 \nz\n\" id=\"AppleGothic-73\" transform=\"scale(0.015625)\"/>\n       <path d=\"M 3296 1850 \nL 691 1850 \nQ 691 1114 1033 726 \nQ 1376 339 1933 339 \nQ 2355 339 2746 608 \nQ 2854 678 2976 784 \nQ 3098 890 3238 1030 \nL 3238 474 \nQ 3085 358 2953 272 \nQ 2822 186 2707 128 \nQ 2304 -83 1901 -83 \nQ 1203 -83 717 397 \nQ 192 902 192 1709 \nQ 192 2470 666 2982 \nQ 1146 3501 1850 3501 \nQ 2534 3501 2938 3002 \nQ 3296 2547 3296 1850 \nz\nM 755 2240 \nL 2758 2240 \nQ 2682 2675 2429 2889 \nQ 2176 3104 1818 3104 \nQ 1421 3104 1146 2854 \nQ 890 2624 755 2240 \nz\n\" id=\"AppleGothic-65\" transform=\"scale(0.015625)\"/>\n       <path d=\"M 352 3424 \nL 928 3424 \nL 1754 2150 \nL 2592 3424 \nL 3130 3424 \nL 2022 1830 \nL 3270 0 \nL 2682 0 \nL 1722 1504 \nL 755 0 \nL 211 0 \nL 1466 1830 \nL 352 3424 \nz\n\" id=\"AppleGothic-78\" transform=\"scale(0.015625)\"/>\n      </defs>\n      <use xlink:href=\"#AppleGothic-73\"/>\n      <use x=\"49.599991\" xlink:href=\"#AppleGothic-65\"/>\n      <use x=\"104.499985\" xlink:href=\"#AppleGothic-78\"/>\n     </g>\n    </g>\n    <g id=\"patch_10\">\n     <path d=\"M 304.876406 58.142187 \nL 326.876406 58.142187 \nL 326.876406 50.442187 \nL 304.876406 50.442187 \nz\n\" style=\"fill:#5875a4;stroke:#4c4c4c;stroke-linejoin:miter;stroke-width:0.75;\"/>\n    </g>\n    <g id=\"text_16\">\n     <!-- Male -->\n     <g style=\"fill:#262626;\" transform=\"translate(335.676406 58.142187)scale(0.11 -0.11)\">\n      <defs>\n       <path d=\"M 288 0 \nL 288 5018 \nL 947 5018 \nL 2893 864 \nL 4902 5018 \nL 5523 5018 \nL 5523 0 \nL 5069 0 \nL 5069 4358 \nL 3002 0 \nL 2784 0 \nL 749 4352 \nL 749 0 \nL 288 0 \nz\n\" id=\"AppleGothic-4d\" transform=\"scale(0.015625)\"/>\n      </defs>\n      <use xlink:href=\"#AppleGothic-4d\"/>\n      <use x=\"91.099991\" xlink:href=\"#AppleGothic-61\"/>\n      <use x=\"147.599976\" xlink:href=\"#AppleGothic-6c\"/>\n      <use x=\"164.299973\" xlink:href=\"#AppleGothic-65\"/>\n     </g>\n    </g>\n    <g id=\"patch_11\">\n     <path d=\"M 304.876406 74.159219 \nL 326.876406 74.159219 \nL 326.876406 66.459219 \nL 304.876406 66.459219 \nz\n\" style=\"fill:#cc8963;stroke:#4c4c4c;stroke-linejoin:miter;stroke-width:0.75;\"/>\n    </g>\n    <g id=\"text_17\">\n     <!-- Female -->\n     <g style=\"fill:#262626;\" transform=\"translate(335.676406 74.159219)scale(0.11 -0.11)\">\n      <defs>\n       <path d=\"M 5389 2195 \nL 5389 0 \nL 4922 0 \nL 4922 2304 \nQ 4922 2669 4672 2893 \nQ 4461 3085 4173 3085 \nQ 3744 3085 3405 2688 \nQ 3072 2298 3072 1722 \nL 3072 0 \nL 2605 0 \nL 2605 2304 \nQ 2605 2650 2368 2861 \nQ 2144 3085 1856 3085 \nQ 1440 3085 1114 2714 \nQ 755 2304 755 1702 \nL 755 0 \nL 288 0 \nL 288 3424 \nL 723 3424 \nL 742 2880 \nQ 928 3181 1274 3354 \nQ 1581 3501 1894 3501 \nQ 2381 3501 2714 3219 \nQ 2957 3008 3021 2797 \nQ 3149 3034 3386 3226 \nQ 3757 3501 4205 3501 \nQ 4749 3501 5050 3174 \nQ 5389 2803 5389 2195 \nz\n\" id=\"AppleGothic-6d\" transform=\"scale(0.015625)\"/>\n      </defs>\n      <use xlink:href=\"#AppleGothic-46\"/>\n      <use x=\"58.199997\" xlink:href=\"#AppleGothic-65\"/>\n      <use x=\"113.099991\" xlink:href=\"#AppleGothic-6d\"/>\n      <use x=\"202.399979\" xlink:href=\"#AppleGothic-61\"/>\n      <use x=\"258.899963\" xlink:href=\"#AppleGothic-6c\"/>\n      <use x=\"275.59996\" xlink:href=\"#AppleGothic-65\"/>\n     </g>\n    </g>\n   </g>\n  </g>\n </g>\n <defs>\n  <clipPath id=\"p58629aab86\">\n   <rect height=\"217.44\" width=\"334.8\" x=\"47.133125\" y=\"22.644375\"/>\n  </clipPath>\n </defs>\n</svg>\n",
      "image/png": "[encoded data removed]"
     },
     "metadata": {
      "needs_background": "light"
     }
    }
   ],
   "metadata": {}
  },
  {
   "cell_type": "code",
   "execution_count": 74,
   "source": [
    "sns.distplot(tips.tip, kde=True, rug=True);\n",
    "plt.title('팁의 분포');"
   ],
   "outputs": [
    {
     "output_type": "stream",
     "name": "stderr",
     "text": [
      "/Users/ijuyeong/miniforge3/envs/work/lib/python3.9/site-packages/seaborn/distributions.py:2557: FutureWarning: `distplot` is a deprecated function and will be removed in a future version. Please adapt your code to use either `displot` (a figure-level function with similar flexibility) or `histplot` (an axes-level function for histograms).\n",
      "  warnings.warn(msg, FutureWarning)\n",
      "/Users/ijuyeong/miniforge3/envs/work/lib/python3.9/site-packages/seaborn/distributions.py:2056: FutureWarning: The `axis` variable is no longer used and will be removed. Instead, assign variables directly to `x` or `y`.\n",
      "  warnings.warn(msg, FutureWarning)\n"
     ]
    },
    {
     "output_type": "display_data",
     "data": {
      "text/plain": [
       "<Figure size 432x288 with 1 Axes>"
      ],
      "image/svg+xml": "<?xml version=\"1.0\" encoding=\"utf-8\" standalone=\"no\"?>\n<!DOCTYPE svg PUBLIC \"-//W3C//DTD SVG 1.1//EN\"\n  \"http://www.w3.org/Graphics/SVG/1.1/DTD/svg11.dtd\">\n<svg height=\"282.738906pt\" version=\"1.1\" viewBox=\"0 0 392.98625 282.738906\" width=\"392.98625pt\" xmlns=\"http://www.w3.org/2000/svg\" xmlns:xlink=\"http://www.w3.org/1999/xlink\">\n <metadata>\n  <rdf:RDF xmlns:cc=\"http://creativecommons.org/ns#\" xmlns:dc=\"http://purl.org/dc/elements/1.1/\" xmlns:rdf=\"http://www.w3.org/1999/02/22-rdf-syntax-ns#\">\n   <cc:Work>\n    <dc:type rdf:resource=\"http://purl.org/dc/dcmitype/StillImage\"/>\n    <dc:date>2021-08-23T11:25:28.928733</dc:date>\n    <dc:format>image/svg+xml</dc:format>\n    <dc:creator>\n     <cc:Agent>\n      <dc:title>Matplotlib v3.4.2, https://matplotlib.org/</dc:title>\n     </cc:Agent>\n    </dc:creator>\n   </cc:Work>\n  </rdf:RDF>\n </metadata>\n <defs>\n  <style type=\"text/css\">*{stroke-linecap:butt;stroke-linejoin:round;}</style>\n </defs>\n <g id=\"figure_1\">\n  <g id=\"patch_1\">\n   <path d=\"M 0 282.738906 \nL 392.98625 282.738906 \nL 392.98625 0 \nL 0 0 \nz\n\" style=\"fill:none;\"/>\n  </g>\n  <g id=\"axes_1\">\n   <g id=\"patch_2\">\n    <path d=\"M 50.98625 240.04875 \nL 385.78625 240.04875 \nL 385.78625 22.60875 \nL 50.98625 22.60875 \nz\n\" style=\"fill:#eaeaf2;\"/>\n   </g>\n   <g id=\"matplotlib.axis_1\">\n    <g id=\"xtick_1\">\n     <g id=\"line2d_1\">\n      <path clip-path=\"url(#p1357b9e11a)\" d=\"M 76.09986 240.04875 \nL 76.09986 22.60875 \n\" style=\"fill:none;stroke:#ffffff;stroke-linecap:round;\"/>\n     </g>\n     <g id=\"text_1\">\n      <!-- 0 -->\n      <g style=\"fill:#262626;\" transform=\"translate(72.35986 258.173438)scale(0.11 -0.11)\">\n       <defs>\n        <path d=\"M 2227 -83 \nQ 1414 -83 934 576 \nQ 461 1229 461 2387 \nQ 461 3552 973 4218 \nQ 1453 4858 2221 4858 \nQ 3027 4858 3482 4173 \nQ 3955 3494 3955 2394 \nQ 3955 1248 3462 582 \nQ 2976 -83 2227 -83 \nz\nM 2176 346 \nQ 2861 346 3200 992 \nQ 3462 1536 3462 2400 \nQ 3462 3315 3162 3859 \nQ 2822 4429 2214 4429 \nQ 1574 4429 1248 3821 \nQ 960 3283 960 2374 \nQ 960 1478 1248 941 \nQ 1574 346 2176 346 \nz\n\" id=\"AppleGothic-30\" transform=\"scale(0.015625)\"/>\n       </defs>\n       <use xlink:href=\"#AppleGothic-30\"/>\n      </g>\n     </g>\n    </g>\n    <g id=\"xtick_2\">\n     <g id=\"line2d_2\">\n      <path clip-path=\"url(#p1357b9e11a)\" d=\"M 127.840366 240.04875 \nL 127.840366 22.60875 \n\" style=\"fill:none;stroke:#ffffff;stroke-linecap:round;\"/>\n     </g>\n     <g id=\"text_2\">\n      <!-- 2 -->\n      <g style=\"fill:#262626;\" transform=\"translate(124.100366 258.173438)scale(0.11 -0.11)\">\n       <defs>\n        <path d=\"M 1101 429 \nL 3942 429 \nL 3942 0 \nL 653 0 \nL 653 205 \nQ 653 1018 1344 1664 \nQ 1670 1894 1990 2124 \nQ 2310 2355 2637 2592 \nQ 3334 3098 3334 3597 \nQ 3334 3994 3014 4218 \nQ 2867 4326 2694 4377 \nQ 2522 4429 2317 4429 \nQ 2016 4429 1741 4352 \nQ 1325 4224 883 3910 \nL 883 4435 \nQ 1325 4659 1667 4758 \nQ 2010 4858 2317 4858 \nQ 2963 4858 3405 4525 \nQ 3840 4198 3840 3622 \nQ 3840 2995 3168 2438 \nQ 2848 2214 2531 2000 \nQ 2214 1786 1894 1562 \nQ 1178 1024 1101 429 \nz\n\" id=\"AppleGothic-32\" transform=\"scale(0.015625)\"/>\n       </defs>\n       <use xlink:href=\"#AppleGothic-32\"/>\n      </g>\n     </g>\n    </g>\n    <g id=\"xtick_3\">\n     <g id=\"line2d_3\">\n      <path clip-path=\"url(#p1357b9e11a)\" d=\"M 179.580871 240.04875 \nL 179.580871 22.60875 \n\" style=\"fill:none;stroke:#ffffff;stroke-linecap:round;\"/>\n     </g>\n     <g id=\"text_3\">\n      <!-- 4 -->\n      <g style=\"fill:#262626;\" transform=\"translate(175.840871 258.173438)scale(0.11 -0.11)\">\n       <defs>\n        <path d=\"M 2662 4774 \nL 3130 4774 \nL 3130 1811 \nL 4000 1811 \nL 4000 1382 \nL 3130 1382 \nL 3130 0 \nL 2662 0 \nL 2662 1382 \nL 352 1382 \nL 352 1811 \nL 2662 4774 \nz\nM 2662 1811 \nL 2662 4166 \nL 838 1811 \nL 2662 1811 \nz\n\" id=\"AppleGothic-34\" transform=\"scale(0.015625)\"/>\n       </defs>\n       <use xlink:href=\"#AppleGothic-34\"/>\n      </g>\n     </g>\n    </g>\n    <g id=\"xtick_4\">\n     <g id=\"line2d_4\">\n      <path clip-path=\"url(#p1357b9e11a)\" d=\"M 231.321376 240.04875 \nL 231.321376 22.60875 \n\" style=\"fill:none;stroke:#ffffff;stroke-linecap:round;\"/>\n     </g>\n     <g id=\"text_4\">\n      <!-- 6 -->\n      <g style=\"fill:#262626;\" transform=\"translate(227.581376 258.173438)scale(0.11 -0.11)\">\n       <defs>\n        <path d=\"M 3699 4557 \nL 3699 4013 \nQ 3584 4102 3475 4163 \nQ 3366 4224 3258 4275 \nQ 3085 4358 2918 4393 \nQ 2752 4429 2586 4429 \nQ 2470 4429 2352 4409 \nQ 2234 4390 2118 4339 \nQ 1670 4154 1395 3738 \nQ 1011 3149 1011 2189 \nQ 1312 2490 1568 2656 \nQ 2022 2931 2534 2931 \nQ 3162 2931 3584 2566 \nQ 4038 2163 4038 1491 \nQ 4038 806 3558 358 \nQ 3078 -83 2394 -83 \nQ 1670 -83 1146 454 \nQ 518 1088 518 2253 \nQ 518 3411 1120 4134 \nQ 1715 4858 2605 4858 \nQ 2938 4858 3226 4762 \nQ 3309 4730 3427 4682 \nQ 3546 4634 3699 4557 \nz\nM 1062 1702 \nQ 1152 1152 1498 768 \nQ 1882 346 2419 346 \nQ 2899 346 3213 659 \nQ 3539 973 3539 1459 \nQ 3539 1920 3226 2214 \nQ 2918 2502 2496 2502 \nQ 1990 2502 1542 2176 \nQ 1414 2080 1292 1965 \nQ 1171 1850 1062 1702 \nz\n\" id=\"AppleGothic-36\" transform=\"scale(0.015625)\"/>\n       </defs>\n       <use xlink:href=\"#AppleGothic-36\"/>\n      </g>\n     </g>\n    </g>\n    <g id=\"xtick_5\">\n     <g id=\"line2d_5\">\n      <path clip-path=\"url(#p1357b9e11a)\" d=\"M 283.061882 240.04875 \nL 283.061882 22.60875 \n\" style=\"fill:none;stroke:#ffffff;stroke-linecap:round;\"/>\n     </g>\n     <g id=\"text_5\">\n      <!-- 8 -->\n      <g style=\"fill:#262626;\" transform=\"translate(279.321882 258.173438)scale(0.11 -0.11)\">\n       <defs>\n        <path d=\"M 2957 2605 \nQ 3219 2528 3404 2445 \nQ 3590 2362 3706 2272 \nQ 4192 1926 4192 1370 \nQ 4192 749 3642 333 \nQ 3098 -83 2285 -83 \nQ 1434 -83 947 326 \nQ 512 691 512 1229 \nQ 512 1798 998 2125 \nQ 1146 2227 1341 2304 \nQ 1536 2381 1779 2451 \nQ 1574 2534 1430 2617 \nQ 1286 2701 1197 2784 \nQ 819 3104 819 3603 \nQ 819 4173 1261 4512 \nQ 1702 4858 2381 4858 \nQ 3014 4858 3437 4570 \nQ 3898 4262 3898 3738 \nQ 3898 3373 3670 3081 \nQ 3443 2790 2957 2605 \nz\nM 2406 2752 \nQ 2624 2835 2781 2915 \nQ 2938 2995 3040 3066 \nQ 3398 3322 3398 3667 \nQ 3398 3994 3104 4205 \nQ 2822 4429 2362 4429 \nQ 1894 4429 1613 4205 \nQ 1325 3994 1325 3635 \nQ 1325 3322 1581 3098 \nQ 1696 3002 1901 2912 \nQ 2106 2822 2406 2752 \nz\nM 2368 2304 \nQ 2061 2202 1840 2106 \nQ 1619 2010 1472 1920 \nQ 1011 1626 1011 1235 \nQ 1011 845 1376 595 \nQ 1728 346 2310 346 \nQ 2938 346 3315 640 \nQ 3693 934 3693 1338 \nQ 3693 1741 3238 1997 \nQ 3104 2067 2886 2147 \nQ 2669 2227 2368 2304 \nz\n\" id=\"AppleGothic-38\" transform=\"scale(0.015625)\"/>\n       </defs>\n       <use xlink:href=\"#AppleGothic-38\"/>\n      </g>\n     </g>\n    </g>\n    <g id=\"xtick_6\">\n     <g id=\"line2d_6\">\n      <path clip-path=\"url(#p1357b9e11a)\" d=\"M 334.802387 240.04875 \nL 334.802387 22.60875 \n\" style=\"fill:none;stroke:#ffffff;stroke-linecap:round;\"/>\n     </g>\n     <g id=\"text_6\">\n      <!-- 10 -->\n      <g style=\"fill:#262626;\" transform=\"translate(327.322387 258.173438)scale(0.11 -0.11)\">\n       <defs>\n        <path d=\"M 2342 4774 \nL 2752 4774 \nL 2752 0 \nL 2285 0 \nL 2285 3526 \nL 1158 3526 \nL 1158 3885 \nL 1414 3885 \nQ 1990 3885 2214 4205 \nQ 2342 4410 2342 4774 \nz\n\" id=\"AppleGothic-31\" transform=\"scale(0.015625)\"/>\n       </defs>\n       <use xlink:href=\"#AppleGothic-31\"/>\n       <use x=\"67.999985\" xlink:href=\"#AppleGothic-30\"/>\n      </g>\n     </g>\n    </g>\n    <g id=\"text_7\">\n     <!-- tip -->\n     <g style=\"fill:#262626;\" transform=\"translate(212.055313 273.474531)scale(0.12 -0.12)\">\n      <defs>\n       <path d=\"M 691 4435 \nL 1114 4435 \nL 1114 3430 \nL 2016 3430 \nL 2016 3014 \nL 1114 3014 \nL 1114 838 \nQ 1114 570 1213 454 \nQ 1312 339 1555 339 \nQ 1696 339 1795 371 \nQ 1894 403 2016 454 \nL 2016 38 \nQ 1914 6 1770 -22 \nQ 1626 -51 1478 -51 \nQ 1094 -51 883 122 \nQ 646 301 646 698 \nL 646 3014 \nL 70 3014 \nL 70 3430 \nL 646 3430 \nL 691 4435 \nz\n\" id=\"AppleGothic-74\" transform=\"scale(0.015625)\"/>\n       <path d=\"M 256 3424 \nL 717 3424 \nL 717 0 \nL 256 0 \nL 256 3424 \nz\nM 480 4870 \nQ 614 4870 704 4780 \nQ 794 4691 794 4525 \nQ 794 4358 710 4268 \nQ 627 4179 480 4179 \nQ 333 4179 253 4281 \nQ 173 4384 173 4518 \nQ 173 4730 269 4800 \nQ 365 4870 480 4870 \nz\n\" id=\"AppleGothic-69\" transform=\"scale(0.015625)\"/>\n       <path d=\"M 736 307 \nL 736 -1101 \nL 288 -1101 \nL 288 3424 \nL 704 3424 \nL 730 2803 \nQ 941 3149 1216 3325 \nQ 1491 3501 1882 3501 \nQ 2522 3501 2944 3002 \nQ 3162 2752 3270 2441 \nQ 3379 2131 3379 1747 \nQ 3379 954 2899 435 \nQ 2419 -83 1754 -83 \nQ 1421 -83 1139 58 \nQ 1056 90 960 154 \nQ 864 218 736 307 \nz\nM 736 1824 \nL 736 800 \nQ 838 704 924 637 \nQ 1011 570 1082 525 \nQ 1395 339 1715 339 \nQ 2227 339 2554 742 \nQ 2886 1165 2886 1766 \nQ 2886 2330 2579 2707 \nQ 2278 3085 1811 3085 \nQ 1331 3085 1018 2669 \nQ 736 2291 736 1824 \nz\n\" id=\"AppleGothic-70\" transform=\"scale(0.015625)\"/>\n      </defs>\n      <use xlink:href=\"#AppleGothic-74\"/>\n      <use x=\"34.199997\" xlink:href=\"#AppleGothic-69\"/>\n      <use x=\"50.099991\" xlink:href=\"#AppleGothic-70\"/>\n     </g>\n    </g>\n   </g>\n   <g id=\"matplotlib.axis_2\">\n    <g id=\"ytick_1\">\n     <g id=\"line2d_7\">\n      <path clip-path=\"url(#p1357b9e11a)\" d=\"M 50.98625 240.04875 \nL 385.78625 240.04875 \n\" style=\"fill:none;stroke:#ffffff;stroke-linecap:round;\"/>\n     </g>\n     <g id=\"text_8\">\n      <!-- 0.0 -->\n      <g style=\"fill:#262626;\" transform=\"translate(22.73125 244.361094)scale(0.11 -0.11)\">\n       <defs>\n        <path d=\"M 915 -19 \nQ 762 -19 653 109 \nQ 544 237 544 422 \nQ 544 614 656 745 \nQ 768 877 915 877 \nQ 1056 877 1168 758 \nQ 1280 640 1280 435 \nQ 1280 243 1171 112 \nQ 1062 -19 915 -19 \nz\n\" id=\"AppleGothic-2e\" transform=\"scale(0.015625)\"/>\n       </defs>\n       <use xlink:href=\"#AppleGothic-30\"/>\n       <use x=\"67.999985\" xlink:href=\"#AppleGothic-2e\"/>\n       <use x=\"102.499969\" xlink:href=\"#AppleGothic-30\"/>\n      </g>\n     </g>\n    </g>\n    <g id=\"ytick_2\">\n     <g id=\"line2d_8\">\n      <path clip-path=\"url(#p1357b9e11a)\" d=\"M 50.98625 194.546726 \nL 385.78625 194.546726 \n\" style=\"fill:none;stroke:#ffffff;stroke-linecap:round;\"/>\n     </g>\n     <g id=\"text_9\">\n      <!-- 0.1 -->\n      <g style=\"fill:#262626;\" transform=\"translate(22.73125 198.85907)scale(0.11 -0.11)\">\n       <use xlink:href=\"#AppleGothic-30\"/>\n       <use x=\"67.999985\" xlink:href=\"#AppleGothic-2e\"/>\n       <use x=\"102.499969\" xlink:href=\"#AppleGothic-31\"/>\n      </g>\n     </g>\n    </g>\n    <g id=\"ytick_3\">\n     <g id=\"line2d_9\">\n      <path clip-path=\"url(#p1357b9e11a)\" d=\"M 50.98625 149.044702 \nL 385.78625 149.044702 \n\" style=\"fill:none;stroke:#ffffff;stroke-linecap:round;\"/>\n     </g>\n     <g id=\"text_10\">\n      <!-- 0.2 -->\n      <g style=\"fill:#262626;\" transform=\"translate(22.73125 153.357046)scale(0.11 -0.11)\">\n       <use xlink:href=\"#AppleGothic-30\"/>\n       <use x=\"67.999985\" xlink:href=\"#AppleGothic-2e\"/>\n       <use x=\"102.499969\" xlink:href=\"#AppleGothic-32\"/>\n      </g>\n     </g>\n    </g>\n    <g id=\"ytick_4\">\n     <g id=\"line2d_10\">\n      <path clip-path=\"url(#p1357b9e11a)\" d=\"M 50.98625 103.542678 \nL 385.78625 103.542678 \n\" style=\"fill:none;stroke:#ffffff;stroke-linecap:round;\"/>\n     </g>\n     <g id=\"text_11\">\n      <!-- 0.3 -->\n      <g style=\"fill:#262626;\" transform=\"translate(22.73125 107.855022)scale(0.11 -0.11)\">\n       <defs>\n        <path d=\"M 550 333 \nL 550 870 \nQ 883 621 1235 483 \nQ 1587 346 1971 346 \nQ 2522 346 2861 666 \nQ 3219 992 3219 1421 \nQ 3219 1869 2842 2099 \nQ 2515 2304 1965 2304 \nL 992 2304 \nL 992 2701 \nL 1658 2701 \nQ 2298 2701 2662 2928 \nQ 3027 3155 3027 3584 \nQ 3027 3936 2752 4173 \nQ 2458 4429 1978 4429 \nQ 1786 4429 1597 4393 \nQ 1408 4358 1222 4282 \nQ 890 4141 531 3872 \nL 531 4422 \nQ 736 4531 912 4608 \nQ 1088 4685 1254 4736 \nQ 1626 4858 2022 4858 \nQ 2650 4858 3066 4531 \nQ 3488 4211 3488 3642 \nQ 3488 3168 3168 2861 \nQ 2976 2675 2643 2554 \nQ 2874 2522 3053 2448 \nQ 3232 2374 3366 2266 \nQ 3718 1971 3718 1434 \nQ 3718 813 3219 365 \nQ 2714 -83 1965 -83 \nQ 1549 -83 1126 70 \nQ 1024 102 880 166 \nQ 736 230 550 333 \nz\n\" id=\"AppleGothic-33\" transform=\"scale(0.015625)\"/>\n       </defs>\n       <use xlink:href=\"#AppleGothic-30\"/>\n       <use x=\"67.999985\" xlink:href=\"#AppleGothic-2e\"/>\n       <use x=\"102.499969\" xlink:href=\"#AppleGothic-33\"/>\n      </g>\n     </g>\n    </g>\n    <g id=\"ytick_5\">\n     <g id=\"line2d_11\">\n      <path clip-path=\"url(#p1357b9e11a)\" d=\"M 50.98625 58.040654 \nL 385.78625 58.040654 \n\" style=\"fill:none;stroke:#ffffff;stroke-linecap:round;\"/>\n     </g>\n     <g id=\"text_12\">\n      <!-- 0.4 -->\n      <g style=\"fill:#262626;\" transform=\"translate(22.73125 62.352998)scale(0.11 -0.11)\">\n       <use xlink:href=\"#AppleGothic-30\"/>\n       <use x=\"67.999985\" xlink:href=\"#AppleGothic-2e\"/>\n       <use x=\"102.499969\" xlink:href=\"#AppleGothic-34\"/>\n      </g>\n     </g>\n    </g>\n    <g id=\"text_13\">\n     <!-- Density -->\n     <g style=\"fill:#262626;\" transform=\"translate(16.62 151.411875)rotate(-90)scale(0.12 -0.12)\">\n      <defs>\n       <path d=\"M 358 5024 \nL 1562 5024 \nQ 2227 5024 2675 4858 \nQ 2861 4787 3027 4681 \nQ 3194 4576 3341 4429 \nQ 3693 4077 3878 3584 \nQ 4064 3091 4064 2554 \nQ 4064 1357 3379 672 \nQ 2688 0 1485 0 \nL 358 0 \nL 358 5024 \nz\nM 1363 4582 \nL 864 4582 \nL 864 442 \nL 1690 442 \nQ 2413 442 2912 941 \nQ 3494 1523 3494 2560 \nQ 3494 2765 3472 2944 \nQ 3450 3123 3405 3290 \nQ 3264 3776 2906 4122 \nQ 2643 4371 2298 4480 \nQ 1965 4582 1363 4582 \nz\n\" id=\"AppleGothic-44\" transform=\"scale(0.015625)\"/>\n       <path d=\"M 3296 1850 \nL 691 1850 \nQ 691 1114 1033 726 \nQ 1376 339 1933 339 \nQ 2355 339 2746 608 \nQ 2854 678 2976 784 \nQ 3098 890 3238 1030 \nL 3238 474 \nQ 3085 358 2953 272 \nQ 2822 186 2707 128 \nQ 2304 -83 1901 -83 \nQ 1203 -83 717 397 \nQ 192 902 192 1709 \nQ 192 2470 666 2982 \nQ 1146 3501 1850 3501 \nQ 2534 3501 2938 3002 \nQ 3296 2547 3296 1850 \nz\nM 755 2240 \nL 2758 2240 \nQ 2682 2675 2429 2889 \nQ 2176 3104 1818 3104 \nQ 1421 3104 1146 2854 \nQ 890 2624 755 2240 \nz\n\" id=\"AppleGothic-65\" transform=\"scale(0.015625)\"/>\n       <path d=\"M 3264 2291 \nL 3264 0 \nL 2803 0 \nL 2803 2259 \nQ 2803 2618 2541 2848 \nQ 2278 3085 1914 3085 \nQ 1427 3085 1075 2682 \nQ 723 2272 723 1760 \nL 723 0 \nL 288 0 \nL 288 3424 \nL 691 3424 \nL 710 2784 \nQ 883 3046 1114 3219 \nQ 1491 3501 1965 3501 \nQ 2515 3501 2886 3168 \nQ 3264 2842 3264 2291 \nz\n\" id=\"AppleGothic-6e\" transform=\"scale(0.015625)\"/>\n       <path d=\"M 224 294 \nL 224 851 \nQ 621 531 1030 403 \nQ 1152 371 1267 355 \nQ 1382 339 1504 339 \nQ 1894 339 2150 518 \nQ 2413 710 2413 947 \nQ 2413 1075 2317 1210 \nQ 2182 1376 1600 1510 \nQ 909 1683 678 1798 \nQ 230 2054 230 2515 \nQ 230 2944 602 3219 \nQ 979 3501 1542 3501 \nQ 1798 3501 2003 3456 \nQ 2208 3411 2387 3337 \nQ 2566 3264 2720 3155 \nL 2720 2598 \nQ 2451 2822 2156 2953 \nQ 1862 3085 1536 3085 \nQ 1210 3085 973 2938 \nQ 730 2790 730 2554 \nQ 730 2240 1306 2054 \nQ 1574 1978 1836 1901 \nQ 2099 1824 2368 1747 \nQ 2950 1498 2950 992 \nQ 2950 563 2547 237 \nQ 2138 -83 1530 -83 \nQ 1261 -83 1005 -26 \nQ 595 64 224 294 \nz\n\" id=\"AppleGothic-73\" transform=\"scale(0.015625)\"/>\n       <path d=\"M 179 3424 \nL 691 3424 \nL 1869 531 \nL 2874 3424 \nL 3379 3424 \nL 1952 -397 \nQ 1798 -806 1555 -979 \nQ 1338 -1126 1037 -1126 \nQ 883 -1126 780 -1104 \nQ 678 -1082 582 -1043 \nL 582 -602 \nQ 672 -646 784 -678 \nQ 896 -710 986 -710 \nQ 1210 -710 1334 -595 \nQ 1459 -480 1555 -230 \nL 1632 32 \nL 179 3424 \nz\n\" id=\"AppleGothic-79\" transform=\"scale(0.015625)\"/>\n      </defs>\n      <use xlink:href=\"#AppleGothic-44\"/>\n      <use x=\"68.499985\" xlink:href=\"#AppleGothic-65\"/>\n      <use x=\"123.399979\" xlink:href=\"#AppleGothic-6e\"/>\n      <use x=\"179.299973\" xlink:href=\"#AppleGothic-73\"/>\n      <use x=\"228.899963\" xlink:href=\"#AppleGothic-69\"/>\n      <use x=\"244.799957\" xlink:href=\"#AppleGothic-74\"/>\n      <use x=\"278.999954\" xlink:href=\"#AppleGothic-79\"/>\n     </g>\n    </g>\n   </g>\n   <g id=\"patch_3\">\n    <path clip-path=\"url(#p1357b9e11a)\" d=\"M 101.970113 240.04875 \nL 114.905239 240.04875 \nL 114.905239 176.64429 \nL 101.970113 176.64429 \nz\n\" style=\"fill:#4c72b0;opacity:0.4;stroke:#ffffff;stroke-linejoin:miter;\"/>\n   </g>\n   <g id=\"patch_4\">\n    <path clip-path=\"url(#p1357b9e11a)\" d=\"M 114.905239 240.04875 \nL 127.840366 240.04875 \nL 127.840366 135.617875 \nL 114.905239 135.617875 \nz\n\" style=\"fill:#4c72b0;opacity:0.4;stroke:#ffffff;stroke-linejoin:miter;\"/>\n   </g>\n   <g id=\"patch_5\">\n    <path clip-path=\"url(#p1357b9e11a)\" d=\"M 127.840366 240.04875 \nL 140.775492 240.04875 \nL 140.775492 42.376023 \nL 127.840366 42.376023 \nz\n\" style=\"fill:#4c72b0;opacity:0.4;stroke:#ffffff;stroke-linejoin:miter;\"/>\n   </g>\n   <g id=\"patch_6\">\n    <path clip-path=\"url(#p1357b9e11a)\" d=\"M 140.775492 240.04875 \nL 153.710618 240.04875 \nL 153.710618 146.806898 \nL 140.775492 146.806898 \nz\n\" style=\"fill:#4c72b0;opacity:0.4;stroke:#ffffff;stroke-linejoin:miter;\"/>\n   </g>\n   <g id=\"patch_7\">\n    <path clip-path=\"url(#p1357b9e11a)\" d=\"M 153.710618 240.04875 \nL 166.645745 240.04875 \nL 166.645745 57.294719 \nL 153.710618 57.294719 \nz\n\" style=\"fill:#4c72b0;opacity:0.4;stroke:#ffffff;stroke-linejoin:miter;\"/>\n   </g>\n   <g id=\"patch_8\">\n    <path clip-path=\"url(#p1357b9e11a)\" d=\"M 166.645745 240.04875 \nL 179.580871 240.04875 \nL 179.580871 169.184942 \nL 166.645745 169.184942 \nz\n\" style=\"fill:#4c72b0;opacity:0.4;stroke:#ffffff;stroke-linejoin:miter;\"/>\n   </g>\n   <g id=\"patch_9\">\n    <path clip-path=\"url(#p1357b9e11a)\" d=\"M 179.580871 240.04875 \nL 192.515997 240.04875 \nL 192.515997 161.725594 \nL 179.580871 161.725594 \nz\n\" style=\"fill:#4c72b0;opacity:0.4;stroke:#ffffff;stroke-linejoin:miter;\"/>\n   </g>\n   <g id=\"patch_10\">\n    <path clip-path=\"url(#p1357b9e11a)\" d=\"M 192.515997 240.04875 \nL 205.451124 240.04875 \nL 205.451124 225.130054 \nL 192.515997 225.130054 \nz\n\" style=\"fill:#4c72b0;opacity:0.4;stroke:#ffffff;stroke-linejoin:miter;\"/>\n   </g>\n   <g id=\"patch_11\">\n    <path clip-path=\"url(#p1357b9e11a)\" d=\"M 205.451124 240.04875 \nL 218.38625 240.04875 \nL 218.38625 180.373964 \nL 205.451124 180.373964 \nz\n\" style=\"fill:#4c72b0;opacity:0.4;stroke:#ffffff;stroke-linejoin:miter;\"/>\n   </g>\n   <g id=\"patch_12\">\n    <path clip-path=\"url(#p1357b9e11a)\" d=\"M 218.38625 240.04875 \nL 231.321376 240.04875 \nL 231.321376 225.130054 \nL 218.38625 225.130054 \nz\n\" style=\"fill:#4c72b0;opacity:0.4;stroke:#ffffff;stroke-linejoin:miter;\"/>\n   </g>\n   <g id=\"patch_13\">\n    <path clip-path=\"url(#p1357b9e11a)\" d=\"M 231.321376 240.04875 \nL 244.256503 240.04875 \nL 244.256503 236.319076 \nL 231.321376 236.319076 \nz\n\" style=\"fill:#4c72b0;opacity:0.4;stroke:#ffffff;stroke-linejoin:miter;\"/>\n   </g>\n   <g id=\"patch_14\">\n    <path clip-path=\"url(#p1357b9e11a)\" d=\"M 244.256503 240.04875 \nL 257.191629 240.04875 \nL 257.191629 225.130054 \nL 244.256503 225.130054 \nz\n\" style=\"fill:#4c72b0;opacity:0.4;stroke:#ffffff;stroke-linejoin:miter;\"/>\n   </g>\n   <g id=\"patch_15\">\n    <path clip-path=\"url(#p1357b9e11a)\" d=\"M 257.191629 240.04875 \nL 270.126755 240.04875 \nL 270.126755 240.04875 \nL 257.191629 240.04875 \nz\n\" style=\"fill:#4c72b0;opacity:0.4;stroke:#ffffff;stroke-linejoin:miter;\"/>\n   </g>\n   <g id=\"patch_16\">\n    <path clip-path=\"url(#p1357b9e11a)\" d=\"M 270.126755 240.04875 \nL 283.061882 240.04875 \nL 283.061882 236.319076 \nL 270.126755 236.319076 \nz\n\" style=\"fill:#4c72b0;opacity:0.4;stroke:#ffffff;stroke-linejoin:miter;\"/>\n   </g>\n   <g id=\"patch_17\">\n    <path clip-path=\"url(#p1357b9e11a)\" d=\"M 283.061882 240.04875 \nL 295.997008 240.04875 \nL 295.997008 240.04875 \nL 283.061882 240.04875 \nz\n\" style=\"fill:#4c72b0;opacity:0.4;stroke:#ffffff;stroke-linejoin:miter;\"/>\n   </g>\n   <g id=\"patch_18\">\n    <path clip-path=\"url(#p1357b9e11a)\" d=\"M 295.997008 240.04875 \nL 308.932134 240.04875 \nL 308.932134 240.04875 \nL 295.997008 240.04875 \nz\n\" style=\"fill:#4c72b0;opacity:0.4;stroke:#ffffff;stroke-linejoin:miter;\"/>\n   </g>\n   <g id=\"patch_19\">\n    <path clip-path=\"url(#p1357b9e11a)\" d=\"M 308.932134 240.04875 \nL 321.867261 240.04875 \nL 321.867261 236.319076 \nL 308.932134 236.319076 \nz\n\" style=\"fill:#4c72b0;opacity:0.4;stroke:#ffffff;stroke-linejoin:miter;\"/>\n   </g>\n   <g id=\"patch_20\">\n    <path clip-path=\"url(#p1357b9e11a)\" d=\"M 321.867261 240.04875 \nL 334.802387 240.04875 \nL 334.802387 236.319076 \nL 321.867261 236.319076 \nz\n\" style=\"fill:#4c72b0;opacity:0.4;stroke:#ffffff;stroke-linejoin:miter;\"/>\n   </g>\n   <g id=\"LineCollection_1\">\n    <path clip-path=\"url(#p1357b9e11a)\" d=\"M 102.228815 240.04875 \nL 102.228815 234.61275 \n\" style=\"fill:none;stroke:#4c72b0;\"/>\n    <path clip-path=\"url(#p1357b9e11a)\" d=\"M 119.04448 240.04875 \nL 119.04448 234.61275 \n\" style=\"fill:none;stroke:#4c72b0;\"/>\n    <path clip-path=\"url(#p1357b9e11a)\" d=\"M 166.645745 240.04875 \nL 166.645745 234.61275 \n\" style=\"fill:none;stroke:#4c72b0;\"/>\n    <path clip-path=\"url(#p1357b9e11a)\" d=\"M 161.730397 240.04875 \nL 161.730397 234.61275 \n\" style=\"fill:none;stroke:#4c72b0;\"/>\n    <path clip-path=\"url(#p1357b9e11a)\" d=\"M 169.491472 240.04875 \nL 169.491472 234.61275 \n\" style=\"fill:none;stroke:#4c72b0;\"/>\n    <path clip-path=\"url(#p1357b9e11a)\" d=\"M 197.94875 240.04875 \nL 197.94875 234.61275 \n\" style=\"fill:none;stroke:#4c72b0;\"/>\n    <path clip-path=\"url(#p1357b9e11a)\" d=\"M 127.840366 240.04875 \nL 127.840366 234.61275 \n\" style=\"fill:none;stroke:#4c72b0;\"/>\n    <path clip-path=\"url(#p1357b9e11a)\" d=\"M 156.815049 240.04875 \nL 156.815049 234.61275 \n\" style=\"fill:none;stroke:#4c72b0;\"/>\n    <path clip-path=\"url(#p1357b9e11a)\" d=\"M 126.805556 240.04875 \nL 126.805556 234.61275 \n\" style=\"fill:none;stroke:#4c72b0;\"/>\n    <path clip-path=\"url(#p1357b9e11a)\" d=\"M 159.660776 240.04875 \nL 159.660776 234.61275 \n\" style=\"fill:none;stroke:#4c72b0;\"/>\n    <path clip-path=\"url(#p1357b9e11a)\" d=\"M 120.337992 240.04875 \nL 120.337992 234.61275 \n\" style=\"fill:none;stroke:#4c72b0;\"/>\n    <path clip-path=\"url(#p1357b9e11a)\" d=\"M 205.451124 240.04875 \nL 205.451124 234.61275 \n\" style=\"fill:none;stroke:#4c72b0;\"/>\n    <path clip-path=\"url(#p1357b9e11a)\" d=\"M 116.716157 240.04875 \nL 116.716157 234.61275 \n\" style=\"fill:none;stroke:#4c72b0;\"/>\n    <path clip-path=\"url(#p1357b9e11a)\" d=\"M 153.710618 240.04875 \nL 153.710618 234.61275 \n\" style=\"fill:none;stroke:#4c72b0;\"/>\n    <path clip-path=\"url(#p1357b9e11a)\" d=\"M 154.228023 240.04875 \nL 154.228023 234.61275 \n\" style=\"fill:none;stroke:#4c72b0;\"/>\n    <path clip-path=\"url(#p1357b9e11a)\" d=\"M 177.511251 240.04875 \nL 177.511251 234.61275 \n\" style=\"fill:none;stroke:#4c72b0;\"/>\n    <path clip-path=\"url(#p1357b9e11a)\" d=\"M 119.303182 240.04875 \nL 119.303182 234.61275 \n\" style=\"fill:none;stroke:#4c72b0;\"/>\n    <path clip-path=\"url(#p1357b9e11a)\" d=\"M 172.078498 240.04875 \nL 172.078498 234.61275 \n\" style=\"fill:none;stroke:#4c72b0;\"/>\n    <path clip-path=\"url(#p1357b9e11a)\" d=\"M 166.645745 240.04875 \nL 166.645745 234.61275 \n\" style=\"fill:none;stroke:#4c72b0;\"/>\n    <path clip-path=\"url(#p1357b9e11a)\" d=\"M 162.765207 240.04875 \nL 162.765207 234.61275 \n\" style=\"fill:none;stroke:#4c72b0;\"/>\n    <path clip-path=\"url(#p1357b9e11a)\" d=\"M 181.650491 240.04875 \nL 181.650491 234.61275 \n\" style=\"fill:none;stroke:#4c72b0;\"/>\n    <path clip-path=\"url(#p1357b9e11a)\" d=\"M 147.243055 240.04875 \nL 147.243055 234.61275 \n\" style=\"fill:none;stroke:#4c72b0;\"/>\n    <path clip-path=\"url(#p1357b9e11a)\" d=\"M 133.790524 240.04875 \nL 133.790524 234.61275 \n\" style=\"fill:none;stroke:#4c72b0;\"/>\n    <path clip-path=\"url(#p1357b9e11a)\" d=\"M 272.196376 240.04875 \nL 272.196376 234.61275 \n\" style=\"fill:none;stroke:#4c72b0;\"/>\n    <path clip-path=\"url(#p1357b9e11a)\" d=\"M 158.367264 240.04875 \nL 158.367264 234.61275 \n\" style=\"fill:none;stroke:#4c72b0;\"/>\n    <path clip-path=\"url(#p1357b9e11a)\" d=\"M 136.636252 240.04875 \nL 136.636252 234.61275 \n\" style=\"fill:none;stroke:#4c72b0;\"/>\n    <path clip-path=\"url(#p1357b9e11a)\" d=\"M 127.840366 240.04875 \nL 127.840366 234.61275 \n\" style=\"fill:none;stroke:#4c72b0;\"/>\n    <path clip-path=\"url(#p1357b9e11a)\" d=\"M 127.840366 240.04875 \nL 127.840366 234.61275 \n\" style=\"fill:none;stroke:#4c72b0;\"/>\n    <path clip-path=\"url(#p1357b9e11a)\" d=\"M 187.341947 240.04875 \nL 187.341947 234.61275 \n\" style=\"fill:none;stroke:#4c72b0;\"/>\n    <path clip-path=\"url(#p1357b9e11a)\" d=\"M 153.710618 240.04875 \nL 153.710618 234.61275 \n\" style=\"fill:none;stroke:#4c72b0;\"/>\n    <path clip-path=\"url(#p1357b9e11a)\" d=\"M 113.611727 240.04875 \nL 113.611727 234.61275 \n\" style=\"fill:none;stroke:#4c72b0;\"/>\n    <path clip-path=\"url(#p1357b9e11a)\" d=\"M 140.775492 240.04875 \nL 140.775492 234.61275 \n\" style=\"fill:none;stroke:#4c72b0;\"/>\n    <path clip-path=\"url(#p1357b9e11a)\" d=\"M 153.710618 240.04875 \nL 153.710618 234.61275 \n\" style=\"fill:none;stroke:#4c72b0;\"/>\n    <path clip-path=\"url(#p1357b9e11a)\" d=\"M 139.481979 240.04875 \nL 139.481979 234.61275 \n\" style=\"fill:none;stroke:#4c72b0;\"/>\n    <path clip-path=\"url(#p1357b9e11a)\" d=\"M 160.695587 240.04875 \nL 160.695587 234.61275 \n\" style=\"fill:none;stroke:#4c72b0;\"/>\n    <path clip-path=\"url(#p1357b9e11a)\" d=\"M 169.23277 240.04875 \nL 169.23277 234.61275 \n\" style=\"fill:none;stroke:#4c72b0;\"/>\n    <path clip-path=\"url(#p1357b9e11a)\" d=\"M 127.840366 240.04875 \nL 127.840366 234.61275 \n\" style=\"fill:none;stroke:#4c72b0;\"/>\n    <path clip-path=\"url(#p1357b9e11a)\" d=\"M 155.521536 240.04875 \nL 155.521536 234.61275 \n\" style=\"fill:none;stroke:#4c72b0;\"/>\n    <path clip-path=\"url(#p1357b9e11a)\" d=\"M 135.860144 240.04875 \nL 135.860144 234.61275 \n\" style=\"fill:none;stroke:#4c72b0;\"/>\n    <path clip-path=\"url(#p1357b9e11a)\" d=\"M 205.451124 240.04875 \nL 205.451124 234.61275 \n\" style=\"fill:none;stroke:#4c72b0;\"/>\n    <path clip-path=\"url(#p1357b9e11a)\" d=\"M 134.049226 240.04875 \nL 134.049226 234.61275 \n\" style=\"fill:none;stroke:#4c72b0;\"/>\n    <path clip-path=\"url(#p1357b9e11a)\" d=\"M 141.810302 240.04875 \nL 141.810302 234.61275 \n\" style=\"fill:none;stroke:#4c72b0;\"/>\n    <path clip-path=\"url(#p1357b9e11a)\" d=\"M 155.262833 240.04875 \nL 155.262833 234.61275 \n\" style=\"fill:none;stroke:#4c72b0;\"/>\n    <path clip-path=\"url(#p1357b9e11a)\" d=\"M 110.248594 240.04875 \nL 110.248594 234.61275 \n\" style=\"fill:none;stroke:#4c72b0;\"/>\n    <path clip-path=\"url(#p1357b9e11a)\" d=\"M 220.973275 240.04875 \nL 220.973275 234.61275 \n\" style=\"fill:none;stroke:#4c72b0;\"/>\n    <path clip-path=\"url(#p1357b9e11a)\" d=\"M 153.710618 240.04875 \nL 153.710618 234.61275 \n\" style=\"fill:none;stroke:#4c72b0;\"/>\n    <path clip-path=\"url(#p1357b9e11a)\" d=\"M 205.451124 240.04875 \nL 205.451124 234.61275 \n\" style=\"fill:none;stroke:#4c72b0;\"/>\n    <path clip-path=\"url(#p1357b9e11a)\" d=\"M 231.321376 240.04875 \nL 231.321376 234.61275 \n\" style=\"fill:none;stroke:#4c72b0;\"/>\n    <path clip-path=\"url(#p1357b9e11a)\" d=\"M 129.133878 240.04875 \nL 129.133878 234.61275 \n\" style=\"fill:none;stroke:#4c72b0;\"/>\n    <path clip-path=\"url(#p1357b9e11a)\" d=\"M 153.710618 240.04875 \nL 153.710618 234.61275 \n\" style=\"fill:none;stroke:#4c72b0;\"/>\n    <path clip-path=\"url(#p1357b9e11a)\" d=\"M 140.775492 240.04875 \nL 140.775492 234.61275 \n\" style=\"fill:none;stroke:#4c72b0;\"/>\n    <path clip-path=\"url(#p1357b9e11a)\" d=\"M 143.362517 240.04875 \nL 143.362517 234.61275 \n\" style=\"fill:none;stroke:#4c72b0;\"/>\n    <path clip-path=\"url(#p1357b9e11a)\" d=\"M 210.625174 240.04875 \nL 210.625174 234.61275 \n\" style=\"fill:none;stroke:#4c72b0;\"/>\n    <path clip-path=\"url(#p1357b9e11a)\" d=\"M 116.457454 240.04875 \nL 116.457454 234.61275 \n\" style=\"fill:none;stroke:#4c72b0;\"/>\n    <path clip-path=\"url(#p1357b9e11a)\" d=\"M 188.376757 240.04875 \nL 188.376757 234.61275 \n\" style=\"fill:none;stroke:#4c72b0;\"/>\n    <path clip-path=\"url(#p1357b9e11a)\" d=\"M 166.904447 240.04875 \nL 166.904447 234.61275 \n\" style=\"fill:none;stroke:#4c72b0;\"/>\n    <path clip-path=\"url(#p1357b9e11a)\" d=\"M 153.710618 240.04875 \nL 153.710618 234.61275 \n\" style=\"fill:none;stroke:#4c72b0;\"/>\n    <path clip-path=\"url(#p1357b9e11a)\" d=\"M 114.905239 240.04875 \nL 114.905239 234.61275 \n\" style=\"fill:none;stroke:#4c72b0;\"/>\n    <path clip-path=\"url(#p1357b9e11a)\" d=\"M 121.631505 240.04875 \nL 121.631505 234.61275 \n\" style=\"fill:none;stroke:#4c72b0;\"/>\n    <path clip-path=\"url(#p1357b9e11a)\" d=\"M 250.206661 240.04875 \nL 250.206661 234.61275 \n\" style=\"fill:none;stroke:#4c72b0;\"/>\n    <path clip-path=\"url(#p1357b9e11a)\" d=\"M 159.143371 240.04875 \nL 159.143371 234.61275 \n\" style=\"fill:none;stroke:#4c72b0;\"/>\n    <path clip-path=\"url(#p1357b9e11a)\" d=\"M 127.840366 240.04875 \nL 127.840366 234.61275 \n\" style=\"fill:none;stroke:#4c72b0;\"/>\n    <path clip-path=\"url(#p1357b9e11a)\" d=\"M 127.322961 240.04875 \nL 127.322961 234.61275 \n\" style=\"fill:none;stroke:#4c72b0;\"/>\n    <path clip-path=\"url(#p1357b9e11a)\" d=\"M 173.37201 240.04875 \nL 173.37201 234.61275 \n\" style=\"fill:none;stroke:#4c72b0;\"/>\n    <path clip-path=\"url(#p1357b9e11a)\" d=\"M 144.397327 240.04875 \nL 144.397327 234.61275 \n\" style=\"fill:none;stroke:#4c72b0;\"/>\n    <path clip-path=\"url(#p1357b9e11a)\" d=\"M 157.591156 240.04875 \nL 157.591156 234.61275 \n\" style=\"fill:none;stroke:#4c72b0;\"/>\n    <path clip-path=\"url(#p1357b9e11a)\" d=\"M 139.999384 240.04875 \nL 139.999384 234.61275 \n\" style=\"fill:none;stroke:#4c72b0;\"/>\n    <path clip-path=\"url(#p1357b9e11a)\" d=\"M 101.970113 240.04875 \nL 101.970113 234.61275 \n\" style=\"fill:none;stroke:#4c72b0;\"/>\n    <path clip-path=\"url(#p1357b9e11a)\" d=\"M 128.099068 240.04875 \nL 128.099068 234.61275 \n\" style=\"fill:none;stroke:#4c72b0;\"/>\n    <path clip-path=\"url(#p1357b9e11a)\" d=\"M 130.168688 240.04875 \nL 130.168688 234.61275 \n\" style=\"fill:none;stroke:#4c72b0;\"/>\n    <path clip-path=\"url(#p1357b9e11a)\" d=\"M 127.064258 240.04875 \nL 127.064258 234.61275 \n\" style=\"fill:none;stroke:#4c72b0;\"/>\n    <path clip-path=\"url(#p1357b9e11a)\" d=\"M 153.710618 240.04875 \nL 153.710618 234.61275 \n\" style=\"fill:none;stroke:#4c72b0;\"/>\n    <path clip-path=\"url(#p1357b9e11a)\" d=\"M 157.332454 240.04875 \nL 157.332454 234.61275 \n\" style=\"fill:none;stroke:#4c72b0;\"/>\n    <path clip-path=\"url(#p1357b9e11a)\" d=\"M 205.451124 240.04875 \nL 205.451124 234.61275 \n\" style=\"fill:none;stroke:#4c72b0;\"/>\n    <path clip-path=\"url(#p1357b9e11a)\" d=\"M 133.014416 240.04875 \nL 133.014416 234.61275 \n\" style=\"fill:none;stroke:#4c72b0;\"/>\n    <path clip-path=\"url(#p1357b9e11a)\" d=\"M 108.437676 240.04875 \nL 108.437676 234.61275 \n\" style=\"fill:none;stroke:#4c72b0;\"/>\n    <path clip-path=\"url(#p1357b9e11a)\" d=\"M 155.780239 240.04875 \nL 155.780239 234.61275 \n\" style=\"fill:none;stroke:#4c72b0;\"/>\n    <path clip-path=\"url(#p1357b9e11a)\" d=\"M 179.580871 240.04875 \nL 179.580871 234.61275 \n\" style=\"fill:none;stroke:#4c72b0;\"/>\n    <path clip-path=\"url(#p1357b9e11a)\" d=\"M 153.710618 240.04875 \nL 153.710618 234.61275 \n\" style=\"fill:none;stroke:#4c72b0;\"/>\n    <path clip-path=\"url(#p1357b9e11a)\" d=\"M 146.208245 240.04875 \nL 146.208245 234.61275 \n\" style=\"fill:none;stroke:#4c72b0;\"/>\n    <path clip-path=\"url(#p1357b9e11a)\" d=\"M 153.710618 240.04875 \nL 153.710618 234.61275 \n\" style=\"fill:none;stroke:#4c72b0;\"/>\n    <path clip-path=\"url(#p1357b9e11a)\" d=\"M 164.058719 240.04875 \nL 164.058719 234.61275 \n\" style=\"fill:none;stroke:#4c72b0;\"/>\n    <path clip-path=\"url(#p1357b9e11a)\" d=\"M 123.442423 240.04875 \nL 123.442423 234.61275 \n\" style=\"fill:none;stroke:#4c72b0;\"/>\n    <path clip-path=\"url(#p1357b9e11a)\" d=\"M 205.451124 240.04875 \nL 205.451124 234.61275 \n\" style=\"fill:none;stroke:#4c72b0;\"/>\n    <path clip-path=\"url(#p1357b9e11a)\" d=\"M 128.616473 240.04875 \nL 128.616473 234.61275 \n\" style=\"fill:none;stroke:#4c72b0;\"/>\n    <path clip-path=\"url(#p1357b9e11a)\" d=\"M 209.849067 240.04875 \nL 209.849067 234.61275 \n\" style=\"fill:none;stroke:#4c72b0;\"/>\n    <path clip-path=\"url(#p1357b9e11a)\" d=\"M 127.840366 240.04875 \nL 127.840366 234.61275 \n\" style=\"fill:none;stroke:#4c72b0;\"/>\n    <path clip-path=\"url(#p1357b9e11a)\" d=\"M 179.580871 240.04875 \nL 179.580871 234.61275 \n\" style=\"fill:none;stroke:#4c72b0;\"/>\n    <path clip-path=\"url(#p1357b9e11a)\" d=\"M 227.440838 240.04875 \nL 227.440838 234.61275 \n\" style=\"fill:none;stroke:#4c72b0;\"/>\n    <path clip-path=\"url(#p1357b9e11a)\" d=\"M 153.710618 240.04875 \nL 153.710618 234.61275 \n\" style=\"fill:none;stroke:#4c72b0;\"/>\n    <path clip-path=\"url(#p1357b9e11a)\" d=\"M 153.710618 240.04875 \nL 153.710618 234.61275 \n\" style=\"fill:none;stroke:#4c72b0;\"/>\n    <path clip-path=\"url(#p1357b9e11a)\" d=\"M 166.645745 240.04875 \nL 166.645745 234.61275 \n\" style=\"fill:none;stroke:#4c72b0;\"/>\n    <path clip-path=\"url(#p1357b9e11a)\" d=\"M 101.970113 240.04875 \nL 101.970113 234.61275 \n\" style=\"fill:none;stroke:#4c72b0;\"/>\n    <path clip-path=\"url(#p1357b9e11a)\" d=\"M 187.341947 240.04875 \nL 187.341947 234.61275 \n\" style=\"fill:none;stroke:#4c72b0;\"/>\n    <path clip-path=\"url(#p1357b9e11a)\" d=\"M 160.178181 240.04875 \nL 160.178181 234.61275 \n\" style=\"fill:none;stroke:#4c72b0;\"/>\n    <path clip-path=\"url(#p1357b9e11a)\" d=\"M 198.466155 240.04875 \nL 198.466155 234.61275 \n\" style=\"fill:none;stroke:#4c72b0;\"/>\n    <path clip-path=\"url(#p1357b9e11a)\" d=\"M 179.580871 240.04875 \nL 179.580871 234.61275 \n\" style=\"fill:none;stroke:#4c72b0;\"/>\n    <path clip-path=\"url(#p1357b9e11a)\" d=\"M 114.905239 240.04875 \nL 114.905239 234.61275 \n\" style=\"fill:none;stroke:#4c72b0;\"/>\n    <path clip-path=\"url(#p1357b9e11a)\" d=\"M 153.710618 240.04875 \nL 153.710618 234.61275 \n\" style=\"fill:none;stroke:#4c72b0;\"/>\n    <path clip-path=\"url(#p1357b9e11a)\" d=\"M 114.905239 240.04875 \nL 114.905239 234.61275 \n\" style=\"fill:none;stroke:#4c72b0;\"/>\n    <path clip-path=\"url(#p1357b9e11a)\" d=\"M 140.775492 240.04875 \nL 140.775492 234.61275 \n\" style=\"fill:none;stroke:#4c72b0;\"/>\n    <path clip-path=\"url(#p1357b9e11a)\" d=\"M 153.710618 240.04875 \nL 153.710618 234.61275 \n\" style=\"fill:none;stroke:#4c72b0;\"/>\n    <path clip-path=\"url(#p1357b9e11a)\" d=\"M 140.775492 240.04875 \nL 140.775492 234.61275 \n\" style=\"fill:none;stroke:#4c72b0;\"/>\n    <path clip-path=\"url(#p1357b9e11a)\" d=\"M 166.12834 240.04875 \nL 166.12834 234.61275 \n\" style=\"fill:none;stroke:#4c72b0;\"/>\n    <path clip-path=\"url(#p1357b9e11a)\" d=\"M 181.650491 240.04875 \nL 181.650491 234.61275 \n\" style=\"fill:none;stroke:#4c72b0;\"/>\n    <path clip-path=\"url(#p1357b9e11a)\" d=\"M 118.527075 240.04875 \nL 118.527075 234.61275 \n\" style=\"fill:none;stroke:#4c72b0;\"/>\n    <path clip-path=\"url(#p1357b9e11a)\" d=\"M 181.133086 240.04875 \nL 181.133086 234.61275 \n\" style=\"fill:none;stroke:#4c72b0;\"/>\n    <path clip-path=\"url(#p1357b9e11a)\" d=\"M 187.083244 240.04875 \nL 187.083244 234.61275 \n\" style=\"fill:none;stroke:#4c72b0;\"/>\n    <path clip-path=\"url(#p1357b9e11a)\" d=\"M 173.37201 240.04875 \nL 173.37201 234.61275 \n\" style=\"fill:none;stroke:#4c72b0;\"/>\n    <path clip-path=\"url(#p1357b9e11a)\" d=\"M 179.580871 240.04875 \nL 179.580871 234.61275 \n\" style=\"fill:none;stroke:#4c72b0;\"/>\n    <path clip-path=\"url(#p1357b9e11a)\" d=\"M 153.710618 240.04875 \nL 153.710618 234.61275 \n\" style=\"fill:none;stroke:#4c72b0;\"/>\n    <path clip-path=\"url(#p1357b9e11a)\" d=\"M 101.970113 240.04875 \nL 101.970113 234.61275 \n\" style=\"fill:none;stroke:#4c72b0;\"/>\n    <path clip-path=\"url(#p1357b9e11a)\" d=\"M 179.580871 240.04875 \nL 179.580871 234.61275 \n\" style=\"fill:none;stroke:#4c72b0;\"/>\n    <path clip-path=\"url(#p1357b9e11a)\" d=\"M 142.069005 240.04875 \nL 142.069005 234.61275 \n\" style=\"fill:none;stroke:#4c72b0;\"/>\n    <path clip-path=\"url(#p1357b9e11a)\" d=\"M 179.580871 240.04875 \nL 179.580871 234.61275 \n\" style=\"fill:none;stroke:#4c72b0;\"/>\n    <path clip-path=\"url(#p1357b9e11a)\" d=\"M 166.645745 240.04875 \nL 166.645745 234.61275 \n\" style=\"fill:none;stroke:#4c72b0;\"/>\n    <path clip-path=\"url(#p1357b9e11a)\" d=\"M 207.262041 240.04875 \nL 207.262041 234.61275 \n\" style=\"fill:none;stroke:#4c72b0;\"/>\n    <path clip-path=\"url(#p1357b9e11a)\" d=\"M 114.905239 240.04875 \nL 114.905239 234.61275 \n\" style=\"fill:none;stroke:#4c72b0;\"/>\n    <path clip-path=\"url(#p1357b9e11a)\" d=\"M 122.666315 240.04875 \nL 122.666315 234.61275 \n\" style=\"fill:none;stroke:#4c72b0;\"/>\n    <path clip-path=\"url(#p1357b9e11a)\" d=\"M 151.640998 240.04875 \nL 151.640998 234.61275 \n\" style=\"fill:none;stroke:#4c72b0;\"/>\n    <path clip-path=\"url(#p1357b9e11a)\" d=\"M 135.860144 240.04875 \nL 135.860144 234.61275 \n\" style=\"fill:none;stroke:#4c72b0;\"/>\n    <path clip-path=\"url(#p1357b9e11a)\" d=\"M 119.561885 240.04875 \nL 119.561885 234.61275 \n\" style=\"fill:none;stroke:#4c72b0;\"/>\n    <path clip-path=\"url(#p1357b9e11a)\" d=\"M 140.775492 240.04875 \nL 140.775492 234.61275 \n\" style=\"fill:none;stroke:#4c72b0;\"/>\n    <path clip-path=\"url(#p1357b9e11a)\" d=\"M 127.840366 240.04875 \nL 127.840366 234.61275 \n\" style=\"fill:none;stroke:#4c72b0;\"/>\n    <path clip-path=\"url(#p1357b9e11a)\" d=\"M 141.292897 240.04875 \nL 141.292897 234.61275 \n\" style=\"fill:none;stroke:#4c72b0;\"/>\n    <path clip-path=\"url(#p1357b9e11a)\" d=\"M 184.754922 240.04875 \nL 184.754922 234.61275 \n\" style=\"fill:none;stroke:#4c72b0;\"/>\n    <path clip-path=\"url(#p1357b9e11a)\" d=\"M 114.387834 240.04875 \nL 114.387834 234.61275 \n\" style=\"fill:none;stroke:#4c72b0;\"/>\n    <path clip-path=\"url(#p1357b9e11a)\" d=\"M 127.840366 240.04875 \nL 127.840366 234.61275 \n\" style=\"fill:none;stroke:#4c72b0;\"/>\n    <path clip-path=\"url(#p1357b9e11a)\" d=\"M 127.840366 240.04875 \nL 127.840366 234.61275 \n\" style=\"fill:none;stroke:#4c72b0;\"/>\n    <path clip-path=\"url(#p1357b9e11a)\" d=\"M 132.497011 240.04875 \nL 132.497011 234.61275 \n\" style=\"fill:none;stroke:#4c72b0;\"/>\n    <path clip-path=\"url(#p1357b9e11a)\" d=\"M 114.905239 240.04875 \nL 114.905239 234.61275 \n\" style=\"fill:none;stroke:#4c72b0;\"/>\n    <path clip-path=\"url(#p1357b9e11a)\" d=\"M 149.312675 240.04875 \nL 149.312675 234.61275 \n\" style=\"fill:none;stroke:#4c72b0;\"/>\n    <path clip-path=\"url(#p1357b9e11a)\" d=\"M 114.905239 240.04875 \nL 114.905239 234.61275 \n\" style=\"fill:none;stroke:#4c72b0;\"/>\n    <path clip-path=\"url(#p1357b9e11a)\" d=\"M 127.840366 240.04875 \nL 127.840366 234.61275 \n\" style=\"fill:none;stroke:#4c72b0;\"/>\n    <path clip-path=\"url(#p1357b9e11a)\" d=\"M 160.178181 240.04875 \nL 160.178181 234.61275 \n\" style=\"fill:none;stroke:#4c72b0;\"/>\n    <path clip-path=\"url(#p1357b9e11a)\" d=\"M 108.437676 240.04875 \nL 108.437676 234.61275 \n\" style=\"fill:none;stroke:#4c72b0;\"/>\n    <path clip-path=\"url(#p1357b9e11a)\" d=\"M 127.840366 240.04875 \nL 127.840366 234.61275 \n\" style=\"fill:none;stroke:#4c72b0;\"/>\n    <path clip-path=\"url(#p1357b9e11a)\" d=\"M 127.840366 240.04875 \nL 127.840366 234.61275 \n\" style=\"fill:none;stroke:#4c72b0;\"/>\n    <path clip-path=\"url(#p1357b9e11a)\" d=\"M 127.840366 240.04875 \nL 127.840366 234.61275 \n\" style=\"fill:none;stroke:#4c72b0;\"/>\n    <path clip-path=\"url(#p1357b9e11a)\" d=\"M 147.243055 240.04875 \nL 147.243055 234.61275 \n\" style=\"fill:none;stroke:#4c72b0;\"/>\n    <path clip-path=\"url(#p1357b9e11a)\" d=\"M 166.645745 240.04875 \nL 166.645745 234.61275 \n\" style=\"fill:none;stroke:#4c72b0;\"/>\n    <path clip-path=\"url(#p1357b9e11a)\" d=\"M 249.430553 240.04875 \nL 249.430553 234.61275 \n\" style=\"fill:none;stroke:#4c72b0;\"/>\n    <path clip-path=\"url(#p1357b9e11a)\" d=\"M 205.451124 240.04875 \nL 205.451124 234.61275 \n\" style=\"fill:none;stroke:#4c72b0;\"/>\n    <path clip-path=\"url(#p1357b9e11a)\" d=\"M 205.451124 240.04875 \nL 205.451124 234.61275 \n\" style=\"fill:none;stroke:#4c72b0;\"/>\n    <path clip-path=\"url(#p1357b9e11a)\" d=\"M 135.601441 240.04875 \nL 135.601441 234.61275 \n\" style=\"fill:none;stroke:#4c72b0;\"/>\n    <path clip-path=\"url(#p1357b9e11a)\" d=\"M 114.905239 240.04875 \nL 114.905239 234.61275 \n\" style=\"fill:none;stroke:#4c72b0;\"/>\n    <path clip-path=\"url(#p1357b9e11a)\" d=\"M 111.283404 240.04875 \nL 111.283404 234.61275 \n\" style=\"fill:none;stroke:#4c72b0;\"/>\n    <path clip-path=\"url(#p1357b9e11a)\" d=\"M 118.268372 240.04875 \nL 118.268372 234.61275 \n\" style=\"fill:none;stroke:#4c72b0;\"/>\n    <path clip-path=\"url(#p1357b9e11a)\" d=\"M 120.855397 240.04875 \nL 120.855397 234.61275 \n\" style=\"fill:none;stroke:#4c72b0;\"/>\n    <path clip-path=\"url(#p1357b9e11a)\" d=\"M 127.840366 240.04875 \nL 127.840366 234.61275 \n\" style=\"fill:none;stroke:#4c72b0;\"/>\n    <path clip-path=\"url(#p1357b9e11a)\" d=\"M 140.775492 240.04875 \nL 140.775492 234.61275 \n\" style=\"fill:none;stroke:#4c72b0;\"/>\n    <path clip-path=\"url(#p1357b9e11a)\" d=\"M 127.840366 240.04875 \nL 127.840366 234.61275 \n\" style=\"fill:none;stroke:#4c72b0;\"/>\n    <path clip-path=\"url(#p1357b9e11a)\" d=\"M 146.984353 240.04875 \nL 146.984353 234.61275 \n\" style=\"fill:none;stroke:#4c72b0;\"/>\n    <path clip-path=\"url(#p1357b9e11a)\" d=\"M 127.840366 240.04875 \nL 127.840366 234.61275 \n\" style=\"fill:none;stroke:#4c72b0;\"/>\n    <path clip-path=\"url(#p1357b9e11a)\" d=\"M 127.840366 240.04875 \nL 127.840366 234.61275 \n\" style=\"fill:none;stroke:#4c72b0;\"/>\n    <path clip-path=\"url(#p1357b9e11a)\" d=\"M 209.072959 240.04875 \nL 209.072959 234.61275 \n\" style=\"fill:none;stroke:#4c72b0;\"/>\n    <path clip-path=\"url(#p1357b9e11a)\" d=\"M 205.451124 240.04875 \nL 205.451124 234.61275 \n\" style=\"fill:none;stroke:#4c72b0;\"/>\n    <path clip-path=\"url(#p1357b9e11a)\" d=\"M 173.113308 240.04875 \nL 173.113308 234.61275 \n\" style=\"fill:none;stroke:#4c72b0;\"/>\n    <path clip-path=\"url(#p1357b9e11a)\" d=\"M 143.62122 240.04875 \nL 143.62122 234.61275 \n\" style=\"fill:none;stroke:#4c72b0;\"/>\n    <path clip-path=\"url(#p1357b9e11a)\" d=\"M 127.840366 240.04875 \nL 127.840366 234.61275 \n\" style=\"fill:none;stroke:#4c72b0;\"/>\n    <path clip-path=\"url(#p1357b9e11a)\" d=\"M 166.645745 240.04875 \nL 166.645745 234.61275 \n\" style=\"fill:none;stroke:#4c72b0;\"/>\n    <path clip-path=\"url(#p1357b9e11a)\" d=\"M 140.775492 240.04875 \nL 140.775492 234.61275 \n\" style=\"fill:none;stroke:#4c72b0;\"/>\n    <path clip-path=\"url(#p1357b9e11a)\" d=\"M 127.840366 240.04875 \nL 127.840366 234.61275 \n\" style=\"fill:none;stroke:#4c72b0;\"/>\n    <path clip-path=\"url(#p1357b9e11a)\" d=\"M 127.840366 240.04875 \nL 127.840366 234.61275 \n\" style=\"fill:none;stroke:#4c72b0;\"/>\n    <path clip-path=\"url(#p1357b9e11a)\" d=\"M 153.710618 240.04875 \nL 153.710618 234.61275 \n\" style=\"fill:none;stroke:#4c72b0;\"/>\n    <path clip-path=\"url(#p1357b9e11a)\" d=\"M 166.12834 240.04875 \nL 166.12834 234.61275 \n\" style=\"fill:none;stroke:#4c72b0;\"/>\n    <path clip-path=\"url(#p1357b9e11a)\" d=\"M 134.049226 240.04875 \nL 134.049226 234.61275 \n\" style=\"fill:none;stroke:#4c72b0;\"/>\n    <path clip-path=\"url(#p1357b9e11a)\" d=\"M 192.515997 240.04875 \nL 192.515997 234.61275 \n\" style=\"fill:none;stroke:#4c72b0;\"/>\n    <path clip-path=\"url(#p1357b9e11a)\" d=\"M 117.750967 240.04875 \nL 117.750967 234.61275 \n\" style=\"fill:none;stroke:#4c72b0;\"/>\n    <path clip-path=\"url(#p1357b9e11a)\" d=\"M 127.840366 240.04875 \nL 127.840366 234.61275 \n\" style=\"fill:none;stroke:#4c72b0;\"/>\n    <path clip-path=\"url(#p1357b9e11a)\" d=\"M 334.802387 240.04875 \nL 334.802387 234.61275 \n\" style=\"fill:none;stroke:#4c72b0;\"/>\n    <path clip-path=\"url(#p1357b9e11a)\" d=\"M 157.849859 240.04875 \nL 157.849859 234.61275 \n\" style=\"fill:none;stroke:#4c72b0;\"/>\n    <path clip-path=\"url(#p1357b9e11a)\" d=\"M 209.331662 240.04875 \nL 209.331662 234.61275 \n\" style=\"fill:none;stroke:#4c72b0;\"/>\n    <path clip-path=\"url(#p1357b9e11a)\" d=\"M 158.367264 240.04875 \nL 158.367264 234.61275 \n\" style=\"fill:none;stroke:#4c72b0;\"/>\n    <path clip-path=\"url(#p1357b9e11a)\" d=\"M 179.580871 240.04875 \nL 179.580871 234.61275 \n\" style=\"fill:none;stroke:#4c72b0;\"/>\n    <path clip-path=\"url(#p1357b9e11a)\" d=\"M 156.556346 240.04875 \nL 156.556346 234.61275 \n\" style=\"fill:none;stroke:#4c72b0;\"/>\n    <path clip-path=\"url(#p1357b9e11a)\" d=\"M 127.840366 240.04875 \nL 127.840366 234.61275 \n\" style=\"fill:none;stroke:#4c72b0;\"/>\n    <path clip-path=\"url(#p1357b9e11a)\" d=\"M 127.840366 240.04875 \nL 127.840366 234.61275 \n\" style=\"fill:none;stroke:#4c72b0;\"/>\n    <path clip-path=\"url(#p1357b9e11a)\" d=\"M 179.580871 240.04875 \nL 179.580871 234.61275 \n\" style=\"fill:none;stroke:#4c72b0;\"/>\n    <path clip-path=\"url(#p1357b9e11a)\" d=\"M 167.939257 240.04875 \nL 167.939257 234.61275 \n\" style=\"fill:none;stroke:#4c72b0;\"/>\n    <path clip-path=\"url(#p1357b9e11a)\" d=\"M 171.30239 240.04875 \nL 171.30239 234.61275 \n\" style=\"fill:none;stroke:#4c72b0;\"/>\n    <path clip-path=\"url(#p1357b9e11a)\" d=\"M 222.266788 240.04875 \nL 222.266788 234.61275 \n\" style=\"fill:none;stroke:#4c72b0;\"/>\n    <path clip-path=\"url(#p1357b9e11a)\" d=\"M 166.645745 240.04875 \nL 166.645745 234.61275 \n\" style=\"fill:none;stroke:#4c72b0;\"/>\n    <path clip-path=\"url(#p1357b9e11a)\" d=\"M 244.256503 240.04875 \nL 244.256503 234.61275 \n\" style=\"fill:none;stroke:#4c72b0;\"/>\n    <path clip-path=\"url(#p1357b9e11a)\" d=\"M 153.710618 240.04875 \nL 153.710618 234.61275 \n\" style=\"fill:none;stroke:#4c72b0;\"/>\n    <path clip-path=\"url(#p1357b9e11a)\" d=\"M 205.451124 240.04875 \nL 205.451124 234.61275 \n\" style=\"fill:none;stroke:#4c72b0;\"/>\n    <path clip-path=\"url(#p1357b9e11a)\" d=\"M 166.645745 240.04875 \nL 166.645745 234.61275 \n\" style=\"fill:none;stroke:#4c72b0;\"/>\n    <path clip-path=\"url(#p1357b9e11a)\" d=\"M 127.840366 240.04875 \nL 127.840366 234.61275 \n\" style=\"fill:none;stroke:#4c72b0;\"/>\n    <path clip-path=\"url(#p1357b9e11a)\" d=\"M 166.645745 240.04875 \nL 166.645745 234.61275 \n\" style=\"fill:none;stroke:#4c72b0;\"/>\n    <path clip-path=\"url(#p1357b9e11a)\" d=\"M 179.580871 240.04875 \nL 179.580871 234.61275 \n\" style=\"fill:none;stroke:#4c72b0;\"/>\n    <path clip-path=\"url(#p1357b9e11a)\" d=\"M 114.905239 240.04875 \nL 114.905239 234.61275 \n\" style=\"fill:none;stroke:#4c72b0;\"/>\n    <path clip-path=\"url(#p1357b9e11a)\" d=\"M 184.496219 240.04875 \nL 184.496219 234.61275 \n\" style=\"fill:none;stroke:#4c72b0;\"/>\n    <path clip-path=\"url(#p1357b9e11a)\" d=\"M 142.327707 240.04875 \nL 142.327707 234.61275 \n\" style=\"fill:none;stroke:#4c72b0;\"/>\n    <path clip-path=\"url(#p1357b9e11a)\" d=\"M 128.357771 240.04875 \nL 128.357771 234.61275 \n\" style=\"fill:none;stroke:#4c72b0;\"/>\n    <path clip-path=\"url(#p1357b9e11a)\" d=\"M 179.580871 240.04875 \nL 179.580871 234.61275 \n\" style=\"fill:none;stroke:#4c72b0;\"/>\n    <path clip-path=\"url(#p1357b9e11a)\" d=\"M 113.353024 240.04875 \nL 113.353024 234.61275 \n\" style=\"fill:none;stroke:#4c72b0;\"/>\n    <path clip-path=\"url(#p1357b9e11a)\" d=\"M 127.840366 240.04875 \nL 127.840366 234.61275 \n\" style=\"fill:none;stroke:#4c72b0;\"/>\n    <path clip-path=\"url(#p1357b9e11a)\" d=\"M 205.451124 240.04875 \nL 205.451124 234.61275 \n\" style=\"fill:none;stroke:#4c72b0;\"/>\n    <path clip-path=\"url(#p1357b9e11a)\" d=\"M 127.840366 240.04875 \nL 127.840366 234.61275 \n\" style=\"fill:none;stroke:#4c72b0;\"/>\n    <path clip-path=\"url(#p1357b9e11a)\" d=\"M 127.840366 240.04875 \nL 127.840366 234.61275 \n\" style=\"fill:none;stroke:#4c72b0;\"/>\n    <path clip-path=\"url(#p1357b9e11a)\" d=\"M 179.580871 240.04875 \nL 179.580871 234.61275 \n\" style=\"fill:none;stroke:#4c72b0;\"/>\n    <path clip-path=\"url(#p1357b9e11a)\" d=\"M 128.099068 240.04875 \nL 128.099068 234.61275 \n\" style=\"fill:none;stroke:#4c72b0;\"/>\n    <path clip-path=\"url(#p1357b9e11a)\" d=\"M 127.840366 240.04875 \nL 127.840366 234.61275 \n\" style=\"fill:none;stroke:#4c72b0;\"/>\n    <path clip-path=\"url(#p1357b9e11a)\" d=\"M 140.775492 240.04875 \nL 140.775492 234.61275 \n\" style=\"fill:none;stroke:#4c72b0;\"/>\n    <path clip-path=\"url(#p1357b9e11a)\" d=\"M 179.580871 240.04875 \nL 179.580871 234.61275 \n\" style=\"fill:none;stroke:#4c72b0;\"/>\n    <path clip-path=\"url(#p1357b9e11a)\" d=\"M 159.660776 240.04875 \nL 159.660776 234.61275 \n\" style=\"fill:none;stroke:#4c72b0;\"/>\n    <path clip-path=\"url(#p1357b9e11a)\" d=\"M 164.317422 240.04875 \nL 164.317422 234.61275 \n\" style=\"fill:none;stroke:#4c72b0;\"/>\n    <path clip-path=\"url(#p1357b9e11a)\" d=\"M 153.710618 240.04875 \nL 153.710618 234.61275 \n\" style=\"fill:none;stroke:#4c72b0;\"/>\n    <path clip-path=\"url(#p1357b9e11a)\" d=\"M 128.616473 240.04875 \nL 128.616473 234.61275 \n\" style=\"fill:none;stroke:#4c72b0;\"/>\n    <path clip-path=\"url(#p1357b9e11a)\" d=\"M 133.790524 240.04875 \nL 133.790524 234.61275 \n\" style=\"fill:none;stroke:#4c72b0;\"/>\n    <path clip-path=\"url(#p1357b9e11a)\" d=\"M 127.840366 240.04875 \nL 127.840366 234.61275 \n\" style=\"fill:none;stroke:#4c72b0;\"/>\n    <path clip-path=\"url(#p1357b9e11a)\" d=\"M 209.590364 240.04875 \nL 209.590364 234.61275 \n\" style=\"fill:none;stroke:#4c72b0;\"/>\n    <path clip-path=\"url(#p1357b9e11a)\" d=\"M 308.932134 240.04875 \nL 308.932134 234.61275 \n\" style=\"fill:none;stroke:#4c72b0;\"/>\n    <path clip-path=\"url(#p1357b9e11a)\" d=\"M 140.775492 240.04875 \nL 140.775492 234.61275 \n\" style=\"fill:none;stroke:#4c72b0;\"/>\n    <path clip-path=\"url(#p1357b9e11a)\" d=\"M 244.256503 240.04875 \nL 244.256503 234.61275 \n\" style=\"fill:none;stroke:#4c72b0;\"/>\n    <path clip-path=\"url(#p1357b9e11a)\" d=\"M 104.557138 240.04875 \nL 104.557138 234.61275 \n\" style=\"fill:none;stroke:#4c72b0;\"/>\n    <path clip-path=\"url(#p1357b9e11a)\" d=\"M 153.710618 240.04875 \nL 153.710618 234.61275 \n\" style=\"fill:none;stroke:#4c72b0;\"/>\n    <path clip-path=\"url(#p1357b9e11a)\" d=\"M 114.905239 240.04875 \nL 114.905239 234.61275 \n\" style=\"fill:none;stroke:#4c72b0;\"/>\n    <path clip-path=\"url(#p1357b9e11a)\" d=\"M 113.353024 240.04875 \nL 113.353024 234.61275 \n\" style=\"fill:none;stroke:#4c72b0;\"/>\n    <path clip-path=\"url(#p1357b9e11a)\" d=\"M 156.038941 240.04875 \nL 156.038941 234.61275 \n\" style=\"fill:none;stroke:#4c72b0;\"/>\n    <path clip-path=\"url(#p1357b9e11a)\" d=\"M 133.014416 240.04875 \nL 133.014416 234.61275 \n\" style=\"fill:none;stroke:#4c72b0;\"/>\n    <path clip-path=\"url(#p1357b9e11a)\" d=\"M 166.12834 240.04875 \nL 166.12834 234.61275 \n\" style=\"fill:none;stroke:#4c72b0;\"/>\n    <path clip-path=\"url(#p1357b9e11a)\" d=\"M 125.770745 240.04875 \nL 125.770745 234.61275 \n\" style=\"fill:none;stroke:#4c72b0;\"/>\n    <path clip-path=\"url(#p1357b9e11a)\" d=\"M 153.710618 240.04875 \nL 153.710618 234.61275 \n\" style=\"fill:none;stroke:#4c72b0;\"/>\n    <path clip-path=\"url(#p1357b9e11a)\" d=\"M 116.974859 240.04875 \nL 116.974859 234.61275 \n\" style=\"fill:none;stroke:#4c72b0;\"/>\n    <path clip-path=\"url(#p1357b9e11a)\" d=\"M 140.775492 240.04875 \nL 140.775492 234.61275 \n\" style=\"fill:none;stroke:#4c72b0;\"/>\n    <path clip-path=\"url(#p1357b9e11a)\" d=\"M 127.840366 240.04875 \nL 127.840366 234.61275 \n\" style=\"fill:none;stroke:#4c72b0;\"/>\n    <path clip-path=\"url(#p1357b9e11a)\" d=\"M 153.710618 240.04875 \nL 153.710618 234.61275 \n\" style=\"fill:none;stroke:#4c72b0;\"/>\n    <path clip-path=\"url(#p1357b9e11a)\" d=\"M 146.466948 240.04875 \nL 146.466948 234.61275 \n\" style=\"fill:none;stroke:#4c72b0;\"/>\n    <path clip-path=\"url(#p1357b9e11a)\" d=\"M 150.606188 240.04875 \nL 150.606188 234.61275 \n\" style=\"fill:none;stroke:#4c72b0;\"/>\n    <path clip-path=\"url(#p1357b9e11a)\" d=\"M 127.840366 240.04875 \nL 127.840366 234.61275 \n\" style=\"fill:none;stroke:#4c72b0;\"/>\n    <path clip-path=\"url(#p1357b9e11a)\" d=\"M 153.710618 240.04875 \nL 153.710618 234.61275 \n\" style=\"fill:none;stroke:#4c72b0;\"/>\n    <path clip-path=\"url(#p1357b9e11a)\" d=\"M 163.800017 240.04875 \nL 163.800017 234.61275 \n\" style=\"fill:none;stroke:#4c72b0;\"/>\n    <path clip-path=\"url(#p1357b9e11a)\" d=\"M 114.129132 240.04875 \nL 114.129132 234.61275 \n\" style=\"fill:none;stroke:#4c72b0;\"/>\n    <path clip-path=\"url(#p1357b9e11a)\" d=\"M 153.710618 240.04875 \nL 153.710618 234.61275 \n\" style=\"fill:none;stroke:#4c72b0;\"/>\n    <path clip-path=\"url(#p1357b9e11a)\" d=\"M 108.437676 240.04875 \nL 108.437676 234.61275 \n\" style=\"fill:none;stroke:#4c72b0;\"/>\n    <path clip-path=\"url(#p1357b9e11a)\" d=\"M 101.970113 240.04875 \nL 101.970113 234.61275 \n\" style=\"fill:none;stroke:#4c72b0;\"/>\n    <path clip-path=\"url(#p1357b9e11a)\" d=\"M 106.368056 240.04875 \nL 106.368056 234.61275 \n\" style=\"fill:none;stroke:#4c72b0;\"/>\n    <path clip-path=\"url(#p1357b9e11a)\" d=\"M 196.91394 240.04875 \nL 196.91394 234.61275 \n\" style=\"fill:none;stroke:#4c72b0;\"/>\n    <path clip-path=\"url(#p1357b9e11a)\" d=\"M 229.251756 240.04875 \nL 229.251756 234.61275 \n\" style=\"fill:none;stroke:#4c72b0;\"/>\n    <path clip-path=\"url(#p1357b9e11a)\" d=\"M 127.840366 240.04875 \nL 127.840366 234.61275 \n\" style=\"fill:none;stroke:#4c72b0;\"/>\n    <path clip-path=\"url(#p1357b9e11a)\" d=\"M 127.840366 240.04875 \nL 127.840366 234.61275 \n\" style=\"fill:none;stroke:#4c72b0;\"/>\n    <path clip-path=\"url(#p1357b9e11a)\" d=\"M 121.372802 240.04875 \nL 121.372802 234.61275 \n\" style=\"fill:none;stroke:#4c72b0;\"/>\n    <path clip-path=\"url(#p1357b9e11a)\" d=\"M 153.710618 240.04875 \nL 153.710618 234.61275 \n\" style=\"fill:none;stroke:#4c72b0;\"/>\n   </g>\n   <g id=\"line2d_12\">\n    <path clip-path=\"url(#p1357b9e11a)\" d=\"M 66.204432 239.92555 \nL 70.792828 239.658903 \nL 73.851759 239.266813 \nL 76.91069 238.565347 \nL 78.440156 238.046665 \nL 79.969621 237.382053 \nL 81.499087 236.542414 \nL 83.028552 235.49625 \nL 84.558018 234.210292 \nL 86.087483 232.650317 \nL 87.616949 230.7821 \nL 89.146414 228.572491 \nL 90.67588 225.990539 \nL 92.205345 223.008639 \nL 93.734811 219.603642 \nL 95.264276 215.757903 \nL 96.793742 211.460244 \nL 98.323208 206.706847 \nL 99.852673 201.50207 \nL 102.911604 189.801432 \nL 105.970535 176.586518 \nL 109.029466 162.265353 \nL 115.147328 132.912177 \nL 118.206259 119.601935 \nL 119.735725 113.702149 \nL 121.26519 108.451089 \nL 122.794656 103.937898 \nL 124.324121 100.228244 \nL 125.853587 97.358857 \nL 127.383052 95.333652 \nL 128.912518 94.12203 \nL 130.441983 93.659766 \nL 131.971449 93.852657 \nL 133.500914 94.58278 \nL 135.03038 95.716934 \nL 138.089311 98.648075 \nL 141.148242 101.65697 \nL 142.677707 102.974885 \nL 144.207173 104.115714 \nL 145.736638 105.082217 \nL 148.795569 106.654017 \nL 151.8545 108.226109 \nL 153.383966 109.228963 \nL 154.913431 110.486709 \nL 156.442897 112.065485 \nL 157.972362 114.011705 \nL 159.501828 116.349348 \nL 161.031293 119.079608 \nL 162.560759 122.182702 \nL 164.090224 125.621399 \nL 167.149155 133.297946 \nL 171.737552 145.931093 \nL 177.855414 162.774966 \nL 180.914345 170.583123 \nL 183.973276 177.705952 \nL 187.032207 183.939301 \nL 188.561673 186.664092 \nL 190.091138 189.105803 \nL 191.620604 191.258515 \nL 193.150069 193.127465 \nL 194.679535 194.730432 \nL 196.209 196.097948 \nL 197.738466 197.27217 \nL 200.797397 199.251709 \nL 203.856328 201.121264 \nL 206.915259 203.283391 \nL 209.97419 205.971359 \nL 213.033121 209.194055 \nL 222.209914 219.760905 \nL 225.268845 222.678316 \nL 228.327776 225.037093 \nL 231.386707 226.844832 \nL 234.445638 228.185179 \nL 237.504569 229.183308 \nL 242.092965 230.338826 \nL 248.210827 231.834752 \nL 254.328689 233.617733 \nL 260.446552 235.414218 \nL 265.034948 236.498439 \nL 269.623345 237.296998 \nL 275.741207 238.064741 \nL 283.388534 238.770476 \nL 287.976931 239.008048 \nL 292.565327 239.035343 \nL 298.683189 238.779045 \nL 307.859982 238.296856 \nL 313.977844 238.218067 \nL 336.919827 238.357001 \nL 343.037689 238.750059 \nL 355.273413 239.678276 \nL 362.920741 239.948677 \nL 370.568068 240.030813 \nL 370.568068 240.030813 \n\" style=\"fill:none;stroke:#4c72b0;stroke-linecap:round;stroke-width:1.5;\"/>\n   </g>\n   <g id=\"patch_21\">\n    <path d=\"M 50.98625 240.04875 \nL 50.98625 22.60875 \n\" style=\"fill:none;stroke:#ffffff;stroke-linecap:square;stroke-linejoin:miter;stroke-width:1.25;\"/>\n   </g>\n   <g id=\"patch_22\">\n    <path d=\"M 385.78625 240.04875 \nL 385.78625 22.60875 \n\" style=\"fill:none;stroke:#ffffff;stroke-linecap:square;stroke-linejoin:miter;stroke-width:1.25;\"/>\n   </g>\n   <g id=\"patch_23\">\n    <path d=\"M 50.98625 240.04875 \nL 385.78625 240.04875 \n\" style=\"fill:none;stroke:#ffffff;stroke-linecap:square;stroke-linejoin:miter;stroke-width:1.25;\"/>\n   </g>\n   <g id=\"patch_24\">\n    <path d=\"M 50.98625 22.60875 \nL 385.78625 22.60875 \n\" style=\"fill:none;stroke:#ffffff;stroke-linecap:square;stroke-linejoin:miter;stroke-width:1.25;\"/>\n   </g>\n   <g id=\"text_14\">\n    <!-- 팁의 분포 -->\n    <g style=\"fill:#262626;\" transform=\"translate(192.46625 16.60875)scale(0.12 -0.12)\">\n     <defs>\n      <path d=\"M 4954 32 \nL 4954 736 \nL 3232 736 \nQ 3002 736 2829 736 \nQ 2656 736 2528 730 \nQ 2400 730 2278 726 \nQ 2157 723 2029 717 \nL 2029 -26 \nL 3418 -26 \nQ 3898 -26 4294 -6 \nQ 4691 13 4954 32 \nz\nM 5446 1677 \nQ 5446 1658 5433 1578 \nQ 5421 1498 5421 1427 \nL 5414 538 \nL 5414 -90 \nQ 5421 -198 5424 -304 \nQ 5427 -410 5434 -506 \nL 4960 -506 \nL 4954 -339 \nL 2048 -403 \nL 2022 -531 \nL 1562 -538 \nQ 1562 -480 1562 -355 \nQ 1562 -230 1568 -32 \nQ 1574 160 1577 294 \nQ 1581 429 1581 499 \nQ 1581 806 1574 1113 \nQ 1568 1421 1555 1683 \nL 1965 1677 \nQ 2054 1677 2054 1594 \nQ 2054 1568 2041 1494 \nQ 2029 1421 2029 1408 \nL 2029 1107 \nQ 2240 1094 2505 1088 \nQ 2771 1082 3059 1082 \nL 4954 1126 \nL 4960 1434 \nL 4941 1773 \nL 5082 1773 \nQ 5286 1773 5366 1750 \nQ 5446 1728 5446 1677 \nz\nM 4448 2182 \nQ 4333 2170 4233 2157 \nQ 4134 2144 4045 2138 \nQ 3750 2112 3462 2099 \nQ 3174 2086 2874 2086 \nQ 2605 2086 2291 2080 \nQ 1978 2074 1626 2061 \nQ 1498 2054 1331 2048 \nQ 1165 2042 954 2029 \nL 973 3283 \nL 954 4582 \nL 2573 4589 \nQ 2899 4589 3305 4605 \nQ 3712 4621 4064 4640 \nL 4064 4237 \nL 3162 4250 \nQ 3014 4250 2796 4243 \nQ 2579 4237 2278 4224 \nQ 1984 4211 1766 4204 \nQ 1549 4198 1402 4198 \nL 1402 3552 \nL 1760 3546 \nQ 1926 3546 2204 3555 \nQ 2483 3565 2874 3578 \nQ 3264 3597 3517 3603 \nQ 3770 3610 3885 3610 \nL 3885 3187 \nL 2477 3200 \nQ 2131 3200 1881 3193 \nQ 1632 3187 1408 3168 \nL 1408 2458 \nL 2886 2470 \nQ 3258 2470 3872 2509 \nQ 3981 2515 4115 2521 \nQ 4250 2528 4422 2541 \nL 4448 2182 \nz\nM 5466 5062 \nQ 5466 5043 5440 4934 \nQ 5421 4819 5421 4749 \nL 5421 4531 \nQ 5402 3706 5402 3558 \nL 5421 1939 \nL 4928 1920 \nQ 4934 1997 4934 2067 \nQ 4934 2138 4934 2195 \nQ 4954 2970 4954 3341 \nL 4954 3539 \nQ 4941 4358 4931 4768 \nQ 4922 5178 4922 5190 \nL 5152 5197 \nQ 5299 5197 5382 5171 \nQ 5466 5146 5466 5062 \nz\n\" id=\"AppleGothic-d301\" transform=\"scale(0.015625)\"/>\n      <path d=\"M 3571 3379 \nQ 3571 4218 2573 4218 \nQ 2061 4218 1776 3987 \nQ 1491 3757 1491 3386 \nQ 1491 2970 1786 2733 \nQ 2054 2522 2509 2522 \nQ 3059 2522 3328 2765 \nQ 3571 2976 3571 3379 \nz\nM 4608 1094 \nQ 4134 1018 3872 979 \nQ 3456 928 3120 899 \nQ 2784 870 2528 870 \nL 902 813 \nQ 858 800 816 790 \nQ 774 781 730 768 \nQ 653 768 608 941 \nQ 563 1114 563 1242 \nL 2477 1248 \nQ 2938 1248 3334 1273 \nQ 3731 1299 4070 1350 \nQ 4282 1376 4576 1459 \nL 4608 1094 \nz\nM 5466 5069 \nQ 5466 5037 5437 4944 \nQ 5408 4851 5408 4813 \nL 5408 2298 \nQ 5408 2010 5411 1683 \nQ 5414 1357 5421 973 \nQ 5427 595 5433 230 \nQ 5440 -134 5453 -499 \nL 4973 -557 \nL 4973 45 \nQ 4979 237 4979 512 \nQ 4979 787 4986 1158 \nQ 4992 1523 4992 1788 \nQ 4992 2054 4992 2221 \nQ 4992 2880 4985 3357 \nQ 4979 3834 4966 4122 \nQ 4954 4410 4944 4675 \nQ 4934 4941 4922 5184 \nL 5024 5184 \nQ 5190 5184 5328 5158 \nQ 5466 5133 5466 5069 \nz\nM 4006 3328 \nQ 4006 2790 3578 2464 \nQ 3155 2138 2528 2138 \nQ 1894 2138 1504 2445 \nQ 1088 2765 1088 3341 \nQ 1088 3955 1517 4288 \nQ 1920 4602 2541 4602 \nQ 3174 4602 3597 4269 \nQ 4006 3936 4006 3354 \nL 4006 3328 \nz\n\" id=\"AppleGothic-c758\" transform=\"scale(0.015625)\"/>\n      <path id=\"AppleGothic-20\" transform=\"scale(0.015625)\"/>\n      <path d=\"M 4557 3194 \nL 4557 4077 \nL 3130 4096 \nL 1754 4077 \nL 1754 3194 \nL 3110 3174 \nL 4557 3194 \nz\nM 5210 -429 \nL 3194 -410 \nL 1325 -429 \nL 1338 474 \nL 1325 1197 \nL 1549 1203 \nQ 1645 1203 1741 1190 \nQ 1837 1178 1837 1114 \nQ 1837 1094 1817 1030 \nQ 1798 966 1798 934 \nL 1792 -38 \nL 3194 -38 \nQ 3539 -38 3820 -38 \nQ 4102 -38 4342 -32 \nQ 4582 -26 4793 -22 \nQ 5005 -19 5210 -6 \nL 5210 -429 \nz\nM 6016 1760 \nQ 5504 1760 4614 1779 \nQ 4166 1792 3878 1798 \nQ 3590 1805 3462 1805 \nL 3475 627 \nL 2995 621 \nL 3002 1805 \nL 1670 1792 \nQ 1222 1792 915 1779 \nQ 608 1766 384 1754 \nL 384 2182 \nQ 474 2182 621 2179 \nQ 768 2176 979 2170 \nQ 1190 2163 1472 2160 \nQ 1754 2157 2099 2150 \nQ 2445 2144 2720 2141 \nQ 2995 2138 3200 2138 \nQ 3744 2138 4550 2157 \nQ 4960 2170 5213 2176 \nQ 5466 2182 5568 2189 \nQ 5677 2195 5789 2201 \nQ 5901 2208 6016 2214 \nL 6016 1760 \nz\nM 5043 5094 \nQ 5043 5069 5024 5011 \nQ 5005 4954 5005 4934 \nL 4992 4122 \nL 5011 2803 \nL 3104 2822 \nL 1306 2803 \nQ 1306 2880 1309 3005 \nQ 1312 3130 1315 3280 \nQ 1318 3430 1321 3593 \nQ 1325 3757 1325 3917 \nQ 1325 4390 1318 4678 \nQ 1312 4966 1299 5158 \nL 1472 5165 \nQ 1613 5165 1699 5142 \nQ 1786 5120 1786 5056 \nQ 1786 5024 1770 4957 \nQ 1754 4890 1754 4870 \nL 1754 4442 \nL 3136 4422 \nL 4557 4442 \nL 4544 5197 \nL 4704 5203 \nQ 4851 5203 4947 5180 \nQ 5043 5158 5043 5094 \nz\n\" id=\"AppleGothic-bd84\" transform=\"scale(0.015625)\"/>\n      <path d=\"M 6029 83 \nQ 5523 96 4883 102 \nQ 4243 109 3546 109 \nL 3213 109 \nQ 2739 109 2259 102 \nQ 1779 96 1274 83 \nQ 1094 77 870 70 \nQ 646 64 371 51 \nL 371 525 \nQ 634 512 976 499 \nQ 1318 486 1734 486 \nL 2970 486 \nL 2982 1094 \nL 2970 1734 \nL 2029 1734 \nL 1011 1696 \nL 1011 2131 \nL 1581 2118 \nL 2125 2125 \nL 2029 2874 \nQ 1997 3059 1971 3203 \nQ 1946 3347 1920 3437 \nQ 1907 3482 1894 3536 \nQ 1882 3590 1869 3648 \nL 2298 3680 \nQ 2362 3680 2400 3654 \nQ 2438 3629 2438 3552 \nQ 2438 3366 2448 3187 \nQ 2458 3008 2483 2835 \nQ 2496 2714 2512 2598 \nQ 2528 2483 2541 2368 \nQ 2547 2317 2560 2256 \nQ 2573 2195 2586 2112 \nL 3168 2099 \nL 3776 2118 \nQ 3789 2182 3801 2230 \nQ 3814 2278 3821 2317 \nQ 3853 2470 3875 2595 \nQ 3898 2720 3910 2816 \nQ 3968 3245 3987 3603 \nQ 3987 3622 3987 3648 \nQ 3987 3674 3994 3706 \nQ 4096 3706 4195 3699 \nQ 4294 3693 4371 3677 \nQ 4448 3661 4493 3641 \nQ 4538 3622 4538 3603 \nQ 4538 3571 4506 3507 \nQ 4474 3443 4461 3386 \nQ 4454 3354 4451 3322 \nQ 4448 3290 4442 3238 \nQ 4435 3187 4412 3065 \nQ 4390 2944 4358 2739 \nL 4243 2125 \nL 4704 2125 \nQ 4890 2125 5050 2137 \nQ 5210 2150 5338 2163 \nL 5338 1702 \nQ 5235 1709 5161 1712 \nQ 5088 1715 5024 1715 \nQ 4563 1734 4442 1734 \nL 3456 1734 \nL 3443 1094 \nL 3456 486 \nL 4685 493 \nL 6029 538 \nL 6029 83 \nz\nM 5344 4026 \nQ 5210 4032 5098 4032 \nQ 4986 4032 4896 4032 \nQ 4275 4045 3859 4051 \nQ 3443 4058 3226 4058 \nQ 2982 4058 2649 4051 \nQ 2317 4045 1875 4032 \nQ 1722 4026 1507 4019 \nQ 1293 4013 1011 4000 \nL 1011 4448 \nQ 1459 4435 2022 4422 \nQ 2586 4410 3226 4410 \nQ 3706 4410 4058 4413 \nQ 4410 4416 4627 4422 \nQ 4845 4435 5021 4444 \nQ 5197 4454 5344 4467 \nL 5344 4026 \nz\n\" id=\"AppleGothic-d3ec\" transform=\"scale(0.015625)\"/>\n     </defs>\n     <use xlink:href=\"#AppleGothic-d301\"/>\n     <use x=\"99.999985\" xlink:href=\"#AppleGothic-c758\"/>\n     <use x=\"199.999969\" xlink:href=\"#AppleGothic-20\"/>\n     <use x=\"231.999954\" xlink:href=\"#AppleGothic-bd84\"/>\n     <use x=\"331.999939\" xlink:href=\"#AppleGothic-d3ec\"/>\n    </g>\n   </g>\n  </g>\n </g>\n <defs>\n  <clipPath id=\"p1357b9e11a\">\n   <rect height=\"217.44\" width=\"334.8\" x=\"50.98625\" y=\"22.60875\"/>\n  </clipPath>\n </defs>\n</svg>\n",
      "image/png": "[encoded data removed]"
     },
     "metadata": {
      "needs_background": "light"
     }
    }
   ],
   "metadata": {}
  },
  {
   "cell_type": "markdown",
   "source": [
    "##### <연습문제 2-13>\n",
    "성별 별로, 팁을 준 횟수를 차트로 그려보세요"
   ],
   "metadata": {}
  },
  {
   "cell_type": "code",
   "execution_count": 75,
   "source": [
    "sns.countplot(data=tips, x='sex');\n",
    "plt.title('성별 팁을 준 횟수');"
   ],
   "outputs": [
    {
     "output_type": "display_data",
     "data": {
      "text/plain": [
       "<Figure size 432x288 with 1 Axes>"
      ],
      "image/svg+xml": "<?xml version=\"1.0\" encoding=\"utf-8\" standalone=\"no\"?>\n<!DOCTYPE svg PUBLIC \"-//W3C//DTD SVG 1.1//EN\"\n  \"http://www.w3.org/Graphics/SVG/1.1/DTD/svg11.dtd\">\n<svg height=\"282.738906pt\" version=\"1.1\" viewBox=\"0 0 396.613125 282.738906\" width=\"396.613125pt\" xmlns=\"http://www.w3.org/2000/svg\" xmlns:xlink=\"http://www.w3.org/1999/xlink\">\n <metadata>\n  <rdf:RDF xmlns:cc=\"http://creativecommons.org/ns#\" xmlns:dc=\"http://purl.org/dc/elements/1.1/\" xmlns:rdf=\"http://www.w3.org/1999/02/22-rdf-syntax-ns#\">\n   <cc:Work>\n    <dc:type rdf:resource=\"http://purl.org/dc/dcmitype/StillImage\"/>\n    <dc:date>2021-08-23T11:26:24.041670</dc:date>\n    <dc:format>image/svg+xml</dc:format>\n    <dc:creator>\n     <cc:Agent>\n      <dc:title>Matplotlib v3.4.2, https://matplotlib.org/</dc:title>\n     </cc:Agent>\n    </dc:creator>\n   </cc:Work>\n  </rdf:RDF>\n </metadata>\n <defs>\n  <style type=\"text/css\">*{stroke-linecap:butt;stroke-linejoin:round;}</style>\n </defs>\n <g id=\"figure_1\">\n  <g id=\"patch_1\">\n   <path d=\"M 0 282.738906 \nL 396.613125 282.738906 \nL 396.613125 0 \nL 0 0 \nz\n\" style=\"fill:none;\"/>\n  </g>\n  <g id=\"axes_1\">\n   <g id=\"patch_2\">\n    <path d=\"M 54.613125 240.04875 \nL 389.413125 240.04875 \nL 389.413125 22.60875 \nL 54.613125 22.60875 \nz\n\" style=\"fill:#eaeaf2;\"/>\n   </g>\n   <g id=\"matplotlib.axis_1\">\n    <g id=\"xtick_1\">\n     <g id=\"text_1\">\n      <!-- Male -->\n      <g style=\"fill:#262626;\" transform=\"translate(126.256953 258.173438)scale(0.11 -0.11)\">\n       <defs>\n        <path d=\"M 288 0 \nL 288 5018 \nL 947 5018 \nL 2893 864 \nL 4902 5018 \nL 5523 5018 \nL 5523 0 \nL 5069 0 \nL 5069 4358 \nL 3002 0 \nL 2784 0 \nL 749 4352 \nL 749 0 \nL 288 0 \nz\n\" id=\"AppleGothic-4d\" transform=\"scale(0.015625)\"/>\n        <path d=\"M 2950 2214 \nL 2950 602 \nQ 2950 493 2998 413 \nQ 3046 333 3174 333 \nQ 3213 333 3238 336 \nQ 3264 339 3290 346 \nQ 3328 358 3357 371 \nQ 3386 384 3405 390 \nL 3405 32 \nQ 3290 -6 3174 -22 \nQ 3059 -38 2995 -38 \nQ 2669 -38 2566 134 \nQ 2483 243 2483 602 \nQ 2400 461 2317 355 \nQ 2234 250 2150 179 \nQ 1818 -83 1376 -83 \nQ 909 -83 563 192 \nQ 205 486 205 941 \nQ 205 1510 781 1779 \nQ 992 1882 1341 1958 \nQ 1690 2035 2176 2099 \nL 2483 2131 \nQ 2483 2579 2256 2832 \nQ 2029 3085 1587 3085 \nQ 1421 3085 1257 3043 \nQ 1094 3002 928 2912 \nQ 838 2861 729 2790 \nQ 621 2720 493 2611 \nL 493 3136 \nQ 1037 3501 1664 3501 \nQ 2304 3501 2650 3098 \nQ 2950 2746 2950 2214 \nz\nM 2483 1542 \nL 2483 1747 \nL 2266 1722 \nQ 1466 1638 1139 1498 \nQ 704 1325 704 934 \nQ 704 819 755 713 \nQ 806 608 896 525 \nQ 986 442 1117 390 \nQ 1248 339 1408 339 \nQ 1843 339 2170 691 \nQ 2483 1050 2483 1542 \nz\n\" id=\"AppleGothic-61\" transform=\"scale(0.015625)\"/>\n        <path d=\"M 288 5018 \nL 749 5018 \nL 749 0 \nL 288 0 \nL 288 5018 \nz\n\" id=\"AppleGothic-6c\" transform=\"scale(0.015625)\"/>\n        <path d=\"M 3296 1850 \nL 691 1850 \nQ 691 1114 1033 726 \nQ 1376 339 1933 339 \nQ 2355 339 2746 608 \nQ 2854 678 2976 784 \nQ 3098 890 3238 1030 \nL 3238 474 \nQ 3085 358 2953 272 \nQ 2822 186 2707 128 \nQ 2304 -83 1901 -83 \nQ 1203 -83 717 397 \nQ 192 902 192 1709 \nQ 192 2470 666 2982 \nQ 1146 3501 1850 3501 \nQ 2534 3501 2938 3002 \nQ 3296 2547 3296 1850 \nz\nM 755 2240 \nL 2758 2240 \nQ 2682 2675 2429 2889 \nQ 2176 3104 1818 3104 \nQ 1421 3104 1146 2854 \nQ 890 2624 755 2240 \nz\n\" id=\"AppleGothic-65\" transform=\"scale(0.015625)\"/>\n       </defs>\n       <use xlink:href=\"#AppleGothic-4d\"/>\n       <use x=\"91.099991\" xlink:href=\"#AppleGothic-61\"/>\n       <use x=\"147.599976\" xlink:href=\"#AppleGothic-6c\"/>\n       <use x=\"164.299973\" xlink:href=\"#AppleGothic-65\"/>\n      </g>\n     </g>\n    </g>\n    <g id=\"xtick_2\">\n     <g id=\"text_2\">\n      <!-- Female -->\n      <g style=\"fill:#262626;\" transform=\"translate(287.534766 258.173438)scale(0.11 -0.11)\">\n       <defs>\n        <path d=\"M 339 5018 \nL 3462 5018 \nL 3462 4576 \nL 845 4576 \nL 845 2714 \nL 3354 2714 \nL 3354 2304 \nL 845 2304 \nL 845 0 \nL 339 0 \nL 339 5018 \nz\n\" id=\"AppleGothic-46\" transform=\"scale(0.015625)\"/>\n        <path d=\"M 5389 2195 \nL 5389 0 \nL 4922 0 \nL 4922 2304 \nQ 4922 2669 4672 2893 \nQ 4461 3085 4173 3085 \nQ 3744 3085 3405 2688 \nQ 3072 2298 3072 1722 \nL 3072 0 \nL 2605 0 \nL 2605 2304 \nQ 2605 2650 2368 2861 \nQ 2144 3085 1856 3085 \nQ 1440 3085 1114 2714 \nQ 755 2304 755 1702 \nL 755 0 \nL 288 0 \nL 288 3424 \nL 723 3424 \nL 742 2880 \nQ 928 3181 1274 3354 \nQ 1581 3501 1894 3501 \nQ 2381 3501 2714 3219 \nQ 2957 3008 3021 2797 \nQ 3149 3034 3386 3226 \nQ 3757 3501 4205 3501 \nQ 4749 3501 5050 3174 \nQ 5389 2803 5389 2195 \nz\n\" id=\"AppleGothic-6d\" transform=\"scale(0.015625)\"/>\n       </defs>\n       <use xlink:href=\"#AppleGothic-46\"/>\n       <use x=\"58.199997\" xlink:href=\"#AppleGothic-65\"/>\n       <use x=\"113.099991\" xlink:href=\"#AppleGothic-6d\"/>\n       <use x=\"202.399979\" xlink:href=\"#AppleGothic-61\"/>\n       <use x=\"258.899963\" xlink:href=\"#AppleGothic-6c\"/>\n       <use x=\"275.59996\" xlink:href=\"#AppleGothic-65\"/>\n      </g>\n     </g>\n    </g>\n    <g id=\"text_3\">\n     <!-- sex -->\n     <g style=\"fill:#262626;\" transform=\"translate(212.47875 273.474531)scale(0.12 -0.12)\">\n      <defs>\n       <path d=\"M 224 294 \nL 224 851 \nQ 621 531 1030 403 \nQ 1152 371 1267 355 \nQ 1382 339 1504 339 \nQ 1894 339 2150 518 \nQ 2413 710 2413 947 \nQ 2413 1075 2317 1210 \nQ 2182 1376 1600 1510 \nQ 909 1683 678 1798 \nQ 230 2054 230 2515 \nQ 230 2944 602 3219 \nQ 979 3501 1542 3501 \nQ 1798 3501 2003 3456 \nQ 2208 3411 2387 3337 \nQ 2566 3264 2720 3155 \nL 2720 2598 \nQ 2451 2822 2156 2953 \nQ 1862 3085 1536 3085 \nQ 1210 3085 973 2938 \nQ 730 2790 730 2554 \nQ 730 2240 1306 2054 \nQ 1574 1978 1836 1901 \nQ 2099 1824 2368 1747 \nQ 2950 1498 2950 992 \nQ 2950 563 2547 237 \nQ 2138 -83 1530 -83 \nQ 1261 -83 1005 -26 \nQ 595 64 224 294 \nz\n\" id=\"AppleGothic-73\" transform=\"scale(0.015625)\"/>\n       <path d=\"M 352 3424 \nL 928 3424 \nL 1754 2150 \nL 2592 3424 \nL 3130 3424 \nL 2022 1830 \nL 3270 0 \nL 2682 0 \nL 1722 1504 \nL 755 0 \nL 211 0 \nL 1466 1830 \nL 352 3424 \nz\n\" id=\"AppleGothic-78\" transform=\"scale(0.015625)\"/>\n      </defs>\n      <use xlink:href=\"#AppleGothic-73\"/>\n      <use x=\"49.599991\" xlink:href=\"#AppleGothic-65\"/>\n      <use x=\"104.499985\" xlink:href=\"#AppleGothic-78\"/>\n     </g>\n    </g>\n   </g>\n   <g id=\"matplotlib.axis_2\">\n    <g id=\"ytick_1\">\n     <g id=\"line2d_1\">\n      <path clip-path=\"url(#p3f83636dbb)\" d=\"M 54.613125 240.04875 \nL 389.413125 240.04875 \n\" style=\"fill:none;stroke:#ffffff;stroke-linecap:round;\"/>\n     </g>\n     <g id=\"text_4\">\n      <!-- 0 -->\n      <g style=\"fill:#262626;\" transform=\"translate(37.633125 244.361094)scale(0.11 -0.11)\">\n       <defs>\n        <path d=\"M 2227 -83 \nQ 1414 -83 934 576 \nQ 461 1229 461 2387 \nQ 461 3552 973 4218 \nQ 1453 4858 2221 4858 \nQ 3027 4858 3482 4173 \nQ 3955 3494 3955 2394 \nQ 3955 1248 3462 582 \nQ 2976 -83 2227 -83 \nz\nM 2176 346 \nQ 2861 346 3200 992 \nQ 3462 1536 3462 2400 \nQ 3462 3315 3162 3859 \nQ 2822 4429 2214 4429 \nQ 1574 4429 1248 3821 \nQ 960 3283 960 2374 \nQ 960 1478 1248 941 \nQ 1574 346 2176 346 \nz\n\" id=\"AppleGothic-30\" transform=\"scale(0.015625)\"/>\n       </defs>\n       <use xlink:href=\"#AppleGothic-30\"/>\n      </g>\n     </g>\n    </g>\n    <g id=\"ytick_2\">\n     <g id=\"line2d_2\">\n      <path clip-path=\"url(#p3f83636dbb)\" d=\"M 54.613125 213.668404 \nL 389.413125 213.668404 \n\" style=\"fill:none;stroke:#ffffff;stroke-linecap:round;\"/>\n     </g>\n     <g id=\"text_5\">\n      <!-- 20 -->\n      <g style=\"fill:#262626;\" transform=\"translate(30.153125 217.980748)scale(0.11 -0.11)\">\n       <defs>\n        <path d=\"M 1101 429 \nL 3942 429 \nL 3942 0 \nL 653 0 \nL 653 205 \nQ 653 1018 1344 1664 \nQ 1670 1894 1990 2124 \nQ 2310 2355 2637 2592 \nQ 3334 3098 3334 3597 \nQ 3334 3994 3014 4218 \nQ 2867 4326 2694 4377 \nQ 2522 4429 2317 4429 \nQ 2016 4429 1741 4352 \nQ 1325 4224 883 3910 \nL 883 4435 \nQ 1325 4659 1667 4758 \nQ 2010 4858 2317 4858 \nQ 2963 4858 3405 4525 \nQ 3840 4198 3840 3622 \nQ 3840 2995 3168 2438 \nQ 2848 2214 2531 2000 \nQ 2214 1786 1894 1562 \nQ 1178 1024 1101 429 \nz\n\" id=\"AppleGothic-32\" transform=\"scale(0.015625)\"/>\n       </defs>\n       <use xlink:href=\"#AppleGothic-32\"/>\n       <use x=\"67.999985\" xlink:href=\"#AppleGothic-30\"/>\n      </g>\n     </g>\n    </g>\n    <g id=\"ytick_3\">\n     <g id=\"line2d_3\">\n      <path clip-path=\"url(#p3f83636dbb)\" d=\"M 54.613125 187.288058 \nL 389.413125 187.288058 \n\" style=\"fill:none;stroke:#ffffff;stroke-linecap:round;\"/>\n     </g>\n     <g id=\"text_6\">\n      <!-- 40 -->\n      <g style=\"fill:#262626;\" transform=\"translate(30.153125 191.600402)scale(0.11 -0.11)\">\n       <defs>\n        <path d=\"M 2662 4774 \nL 3130 4774 \nL 3130 1811 \nL 4000 1811 \nL 4000 1382 \nL 3130 1382 \nL 3130 0 \nL 2662 0 \nL 2662 1382 \nL 352 1382 \nL 352 1811 \nL 2662 4774 \nz\nM 2662 1811 \nL 2662 4166 \nL 838 1811 \nL 2662 1811 \nz\n\" id=\"AppleGothic-34\" transform=\"scale(0.015625)\"/>\n       </defs>\n       <use xlink:href=\"#AppleGothic-34\"/>\n       <use x=\"67.999985\" xlink:href=\"#AppleGothic-30\"/>\n      </g>\n     </g>\n    </g>\n    <g id=\"ytick_4\">\n     <g id=\"line2d_4\">\n      <path clip-path=\"url(#p3f83636dbb)\" d=\"M 54.613125 160.907713 \nL 389.413125 160.907713 \n\" style=\"fill:none;stroke:#ffffff;stroke-linecap:round;\"/>\n     </g>\n     <g id=\"text_7\">\n      <!-- 60 -->\n      <g style=\"fill:#262626;\" transform=\"translate(30.153125 165.220056)scale(0.11 -0.11)\">\n       <defs>\n        <path d=\"M 3699 4557 \nL 3699 4013 \nQ 3584 4102 3475 4163 \nQ 3366 4224 3258 4275 \nQ 3085 4358 2918 4393 \nQ 2752 4429 2586 4429 \nQ 2470 4429 2352 4409 \nQ 2234 4390 2118 4339 \nQ 1670 4154 1395 3738 \nQ 1011 3149 1011 2189 \nQ 1312 2490 1568 2656 \nQ 2022 2931 2534 2931 \nQ 3162 2931 3584 2566 \nQ 4038 2163 4038 1491 \nQ 4038 806 3558 358 \nQ 3078 -83 2394 -83 \nQ 1670 -83 1146 454 \nQ 518 1088 518 2253 \nQ 518 3411 1120 4134 \nQ 1715 4858 2605 4858 \nQ 2938 4858 3226 4762 \nQ 3309 4730 3427 4682 \nQ 3546 4634 3699 4557 \nz\nM 1062 1702 \nQ 1152 1152 1498 768 \nQ 1882 346 2419 346 \nQ 2899 346 3213 659 \nQ 3539 973 3539 1459 \nQ 3539 1920 3226 2214 \nQ 2918 2502 2496 2502 \nQ 1990 2502 1542 2176 \nQ 1414 2080 1292 1965 \nQ 1171 1850 1062 1702 \nz\n\" id=\"AppleGothic-36\" transform=\"scale(0.015625)\"/>\n       </defs>\n       <use xlink:href=\"#AppleGothic-36\"/>\n       <use x=\"67.999985\" xlink:href=\"#AppleGothic-30\"/>\n      </g>\n     </g>\n    </g>\n    <g id=\"ytick_5\">\n     <g id=\"line2d_5\">\n      <path clip-path=\"url(#p3f83636dbb)\" d=\"M 54.613125 134.527367 \nL 389.413125 134.527367 \n\" style=\"fill:none;stroke:#ffffff;stroke-linecap:round;\"/>\n     </g>\n     <g id=\"text_8\">\n      <!-- 80 -->\n      <g style=\"fill:#262626;\" transform=\"translate(30.153125 138.839711)scale(0.11 -0.11)\">\n       <defs>\n        <path d=\"M 2957 2605 \nQ 3219 2528 3404 2445 \nQ 3590 2362 3706 2272 \nQ 4192 1926 4192 1370 \nQ 4192 749 3642 333 \nQ 3098 -83 2285 -83 \nQ 1434 -83 947 326 \nQ 512 691 512 1229 \nQ 512 1798 998 2125 \nQ 1146 2227 1341 2304 \nQ 1536 2381 1779 2451 \nQ 1574 2534 1430 2617 \nQ 1286 2701 1197 2784 \nQ 819 3104 819 3603 \nQ 819 4173 1261 4512 \nQ 1702 4858 2381 4858 \nQ 3014 4858 3437 4570 \nQ 3898 4262 3898 3738 \nQ 3898 3373 3670 3081 \nQ 3443 2790 2957 2605 \nz\nM 2406 2752 \nQ 2624 2835 2781 2915 \nQ 2938 2995 3040 3066 \nQ 3398 3322 3398 3667 \nQ 3398 3994 3104 4205 \nQ 2822 4429 2362 4429 \nQ 1894 4429 1613 4205 \nQ 1325 3994 1325 3635 \nQ 1325 3322 1581 3098 \nQ 1696 3002 1901 2912 \nQ 2106 2822 2406 2752 \nz\nM 2368 2304 \nQ 2061 2202 1840 2106 \nQ 1619 2010 1472 1920 \nQ 1011 1626 1011 1235 \nQ 1011 845 1376 595 \nQ 1728 346 2310 346 \nQ 2938 346 3315 640 \nQ 3693 934 3693 1338 \nQ 3693 1741 3238 1997 \nQ 3104 2067 2886 2147 \nQ 2669 2227 2368 2304 \nz\n\" id=\"AppleGothic-38\" transform=\"scale(0.015625)\"/>\n       </defs>\n       <use xlink:href=\"#AppleGothic-38\"/>\n       <use x=\"67.999985\" xlink:href=\"#AppleGothic-30\"/>\n      </g>\n     </g>\n    </g>\n    <g id=\"ytick_6\">\n     <g id=\"line2d_6\">\n      <path clip-path=\"url(#p3f83636dbb)\" d=\"M 54.613125 108.147021 \nL 389.413125 108.147021 \n\" style=\"fill:none;stroke:#ffffff;stroke-linecap:round;\"/>\n     </g>\n     <g id=\"text_9\">\n      <!-- 100 -->\n      <g style=\"fill:#262626;\" transform=\"translate(22.673125 112.459365)scale(0.11 -0.11)\">\n       <defs>\n        <path d=\"M 2342 4774 \nL 2752 4774 \nL 2752 0 \nL 2285 0 \nL 2285 3526 \nL 1158 3526 \nL 1158 3885 \nL 1414 3885 \nQ 1990 3885 2214 4205 \nQ 2342 4410 2342 4774 \nz\n\" id=\"AppleGothic-31\" transform=\"scale(0.015625)\"/>\n       </defs>\n       <use xlink:href=\"#AppleGothic-31\"/>\n       <use x=\"67.999985\" xlink:href=\"#AppleGothic-30\"/>\n       <use x=\"135.999969\" xlink:href=\"#AppleGothic-30\"/>\n      </g>\n     </g>\n    </g>\n    <g id=\"ytick_7\">\n     <g id=\"line2d_7\">\n      <path clip-path=\"url(#p3f83636dbb)\" d=\"M 54.613125 81.766675 \nL 389.413125 81.766675 \n\" style=\"fill:none;stroke:#ffffff;stroke-linecap:round;\"/>\n     </g>\n     <g id=\"text_10\">\n      <!-- 120 -->\n      <g style=\"fill:#262626;\" transform=\"translate(22.673125 86.079019)scale(0.11 -0.11)\">\n       <use xlink:href=\"#AppleGothic-31\"/>\n       <use x=\"67.999985\" xlink:href=\"#AppleGothic-32\"/>\n       <use x=\"135.999969\" xlink:href=\"#AppleGothic-30\"/>\n      </g>\n     </g>\n    </g>\n    <g id=\"ytick_8\">\n     <g id=\"line2d_8\">\n      <path clip-path=\"url(#p3f83636dbb)\" d=\"M 54.613125 55.38633 \nL 389.413125 55.38633 \n\" style=\"fill:none;stroke:#ffffff;stroke-linecap:round;\"/>\n     </g>\n     <g id=\"text_11\">\n      <!-- 140 -->\n      <g style=\"fill:#262626;\" transform=\"translate(22.673125 59.698673)scale(0.11 -0.11)\">\n       <use xlink:href=\"#AppleGothic-31\"/>\n       <use x=\"67.999985\" xlink:href=\"#AppleGothic-34\"/>\n       <use x=\"135.999969\" xlink:href=\"#AppleGothic-30\"/>\n      </g>\n     </g>\n    </g>\n    <g id=\"ytick_9\">\n     <g id=\"line2d_9\">\n      <path clip-path=\"url(#p3f83636dbb)\" d=\"M 54.613125 29.005984 \nL 389.413125 29.005984 \n\" style=\"fill:none;stroke:#ffffff;stroke-linecap:round;\"/>\n     </g>\n     <g id=\"text_12\">\n      <!-- 160 -->\n      <g style=\"fill:#262626;\" transform=\"translate(22.673125 33.318328)scale(0.11 -0.11)\">\n       <use xlink:href=\"#AppleGothic-31\"/>\n       <use x=\"67.999985\" xlink:href=\"#AppleGothic-36\"/>\n       <use x=\"135.999969\" xlink:href=\"#AppleGothic-30\"/>\n      </g>\n     </g>\n    </g>\n    <g id=\"text_13\">\n     <!-- count -->\n     <g style=\"fill:#262626;\" transform=\"translate(16.60875 146.6775)rotate(-90)scale(0.12 -0.12)\">\n      <defs>\n       <path d=\"M 3085 3123 \nL 3085 2522 \nQ 2726 2861 2349 3008 \nQ 2240 3053 2125 3069 \nQ 2010 3085 1894 3085 \nQ 1363 3085 1024 2688 \nQ 685 2278 685 1715 \nQ 685 1139 1037 730 \nQ 1389 339 1920 339 \nQ 2253 339 2528 483 \nQ 2803 627 3085 915 \nL 3085 307 \nQ 2746 96 2470 6 \nQ 2195 -83 1914 -83 \nQ 1197 -83 685 429 \nQ 186 960 186 1709 \nQ 186 2445 678 2976 \nQ 1178 3501 1920 3501 \nQ 2298 3501 2624 3373 \nQ 2816 3302 3085 3123 \nz\n\" id=\"AppleGothic-63\" transform=\"scale(0.015625)\"/>\n       <path d=\"M 1888 -83 \nQ 1229 -83 730 397 \nQ 198 902 198 1709 \nQ 198 2470 666 2982 \nQ 1146 3501 1850 3501 \nQ 2547 3501 3027 2982 \nQ 3501 2470 3501 1715 \nQ 3501 922 2989 403 \nQ 2515 -83 1888 -83 \nz\nM 1843 339 \nQ 2304 339 2662 723 \nQ 3008 1114 3008 1715 \nQ 3008 2336 2637 2726 \nQ 2298 3085 1850 3085 \nQ 1389 3085 1062 2714 \nQ 704 2304 704 1709 \nQ 704 1107 1056 704 \nQ 1382 339 1843 339 \nz\n\" id=\"AppleGothic-6f\" transform=\"scale(0.015625)\"/>\n       <path d=\"M 262 3424 \nL 730 3424 \nL 730 1242 \nQ 730 877 941 627 \nQ 1171 339 1594 339 \nQ 2080 339 2426 730 \nQ 2784 1139 2784 1632 \nL 2784 3424 \nL 3245 3424 \nL 3245 0 \nL 2842 0 \nL 2810 582 \nQ 2707 442 2592 330 \nQ 2477 218 2342 134 \nQ 1984 -83 1555 -83 \nQ 966 -83 614 282 \nQ 262 653 262 1184 \nL 262 3424 \nz\n\" id=\"AppleGothic-75\" transform=\"scale(0.015625)\"/>\n       <path d=\"M 3264 2291 \nL 3264 0 \nL 2803 0 \nL 2803 2259 \nQ 2803 2618 2541 2848 \nQ 2278 3085 1914 3085 \nQ 1427 3085 1075 2682 \nQ 723 2272 723 1760 \nL 723 0 \nL 288 0 \nL 288 3424 \nL 691 3424 \nL 710 2784 \nQ 883 3046 1114 3219 \nQ 1491 3501 1965 3501 \nQ 2515 3501 2886 3168 \nQ 3264 2842 3264 2291 \nz\n\" id=\"AppleGothic-6e\" transform=\"scale(0.015625)\"/>\n       <path d=\"M 691 4435 \nL 1114 4435 \nL 1114 3430 \nL 2016 3430 \nL 2016 3014 \nL 1114 3014 \nL 1114 838 \nQ 1114 570 1213 454 \nQ 1312 339 1555 339 \nQ 1696 339 1795 371 \nQ 1894 403 2016 454 \nL 2016 38 \nQ 1914 6 1770 -22 \nQ 1626 -51 1478 -51 \nQ 1094 -51 883 122 \nQ 646 301 646 698 \nL 646 3014 \nL 70 3014 \nL 70 3430 \nL 646 3430 \nL 691 4435 \nz\n\" id=\"AppleGothic-74\" transform=\"scale(0.015625)\"/>\n      </defs>\n      <use xlink:href=\"#AppleGothic-63\"/>\n      <use x=\"51.899994\" xlink:href=\"#AppleGothic-6f\"/>\n      <use x=\"110.199982\" xlink:href=\"#AppleGothic-75\"/>\n      <use x=\"165.699966\" xlink:href=\"#AppleGothic-6e\"/>\n      <use x=\"221.59996\" xlink:href=\"#AppleGothic-74\"/>\n     </g>\n    </g>\n   </g>\n   <g id=\"patch_3\">\n    <path clip-path=\"url(#p3f83636dbb)\" d=\"M 71.353125 240.04875 \nL 205.273125 240.04875 \nL 205.273125 32.963036 \nL 71.353125 32.963036 \nz\n\" style=\"fill:#5875a4;stroke:#ffffff;stroke-linejoin:miter;\"/>\n   </g>\n   <g id=\"patch_4\">\n    <path clip-path=\"url(#p3f83636dbb)\" d=\"M 238.753125 240.04875 \nL 372.673125 240.04875 \nL 372.673125 125.294246 \nL 238.753125 125.294246 \nz\n\" style=\"fill:#cc8963;stroke:#ffffff;stroke-linejoin:miter;\"/>\n   </g>\n   <g id=\"patch_5\">\n    <path d=\"M 54.613125 240.04875 \nL 54.613125 22.60875 \n\" style=\"fill:none;stroke:#ffffff;stroke-linecap:square;stroke-linejoin:miter;stroke-width:1.25;\"/>\n   </g>\n   <g id=\"patch_6\">\n    <path d=\"M 389.413125 240.04875 \nL 389.413125 22.60875 \n\" style=\"fill:none;stroke:#ffffff;stroke-linecap:square;stroke-linejoin:miter;stroke-width:1.25;\"/>\n   </g>\n   <g id=\"patch_7\">\n    <path d=\"M 54.613125 240.04875 \nL 389.413125 240.04875 \n\" style=\"fill:none;stroke:#ffffff;stroke-linecap:square;stroke-linejoin:miter;stroke-width:1.25;\"/>\n   </g>\n   <g id=\"patch_8\">\n    <path d=\"M 54.613125 22.60875 \nL 389.413125 22.60875 \n\" style=\"fill:none;stroke:#ffffff;stroke-linecap:square;stroke-linejoin:miter;stroke-width:1.25;\"/>\n   </g>\n   <g id=\"text_14\">\n    <!-- 성별 팁을 준 횟수 -->\n    <g style=\"fill:#262626;\" transform=\"translate(174.253125 16.60875)scale(0.12 -0.12)\">\n     <defs>\n      <path d=\"M 5459 486 \nQ 5459 -38 4838 -269 \nQ 4294 -474 3347 -474 \nQ 2445 -474 1907 -262 \nQ 1293 -26 1293 442 \nQ 1293 1030 1946 1280 \nQ 2189 1382 2544 1427 \nQ 2899 1472 3354 1472 \nQ 3795 1472 4147 1427 \nQ 4499 1382 4768 1280 \nQ 5459 1024 5459 486 \nz\nM 5446 5082 \nQ 5446 5062 5420 4992 \nQ 5395 4922 5395 4870 \nL 5382 3981 \nL 5395 1664 \nL 4922 1587 \nL 4922 3315 \nL 4333 3334 \nL 3725 3315 \nL 3725 3706 \nL 4352 3686 \nL 4928 3706 \nL 4915 5190 \nL 5094 5197 \nQ 5242 5197 5344 5174 \nQ 5446 5152 5446 5082 \nz\nM 3962 2381 \nQ 3949 2362 3930 2342 \nQ 3898 2310 3878 2284 \nQ 3859 2259 3834 2240 \nL 3661 2035 \nQ 3558 2106 3475 2163 \nQ 3392 2221 3334 2266 \nQ 3136 2413 2989 2557 \nQ 2842 2701 2733 2838 \nQ 2624 2976 2541 3113 \nQ 2458 3251 2394 3386 \nQ 2349 3482 2304 3603 \nQ 2285 3565 2269 3533 \nQ 2253 3501 2240 3469 \nQ 2042 3117 1690 2707 \nQ 1568 2573 1421 2425 \nQ 1274 2278 1094 2125 \nQ 1030 2074 953 2010 \nQ 877 1946 768 1862 \nL 557 2035 \nQ 525 2067 461 2105 \nQ 397 2144 397 2163 \nQ 403 2189 410 2195 \nQ 474 2234 528 2262 \nQ 582 2291 627 2323 \nQ 883 2502 1123 2736 \nQ 1363 2970 1587 3258 \nQ 1856 3610 2009 4048 \nQ 2163 4486 2163 4928 \nL 2202 4928 \nQ 2387 4928 2534 4909 \nQ 2682 4890 2682 4826 \nQ 2682 4774 2637 4723 \nQ 2630 4710 2592 4672 \nQ 2579 4634 2576 4605 \nQ 2573 4576 2566 4550 \nQ 2541 4422 2541 4333 \nQ 2541 4250 2563 4147 \nQ 2586 4045 2630 3910 \nQ 2758 3539 3001 3193 \nQ 3245 2848 3610 2605 \nQ 3674 2560 3754 2518 \nQ 3834 2477 3930 2426 \nL 3962 2381 \nz\nM 4979 474 \nQ 4979 826 4474 979 \nQ 4058 1114 3354 1114 \nQ 2624 1114 2266 992 \nQ 1773 838 1773 448 \nQ 1850 -102 3366 -102 \nQ 4154 -102 4525 19 \nQ 4979 160 4979 474 \nz\n\" id=\"AppleGothic-c131\" transform=\"scale(0.015625)\"/>\n      <path d=\"M 3027 2739 \nL 3027 3680 \nL 2150 3693 \nL 1293 3680 \nL 1293 2739 \nL 2144 2720 \nL 3027 2739 \nz\nM 5440 -531 \nQ 5178 -525 4906 -518 \nQ 4634 -512 4339 -506 \nQ 4038 -499 3801 -496 \nQ 3565 -493 3379 -493 \nL 1446 -493 \nQ 1453 -422 1456 -336 \nQ 1459 -250 1466 -141 \nQ 1466 -45 1469 19 \nQ 1472 83 1472 115 \nL 1459 762 \nL 3354 749 \nL 4845 774 \nL 4845 1382 \nL 1446 1370 \nL 1446 1734 \nQ 1658 1734 1888 1728 \nQ 2118 1722 2374 1715 \nQ 2630 1709 2864 1705 \nQ 3098 1702 3322 1702 \nL 5299 1715 \nL 5280 1094 \nL 5293 410 \nL 3373 429 \nL 1901 416 \nL 1901 -128 \nQ 1978 -134 2134 -134 \nQ 2291 -134 2522 -134 \nQ 2752 -141 2969 -144 \nQ 3187 -147 3392 -147 \nQ 3846 -147 4380 -137 \nQ 4915 -128 5440 -109 \nL 5440 -531 \nz\nM 5440 5062 \nQ 5440 5024 5414 4937 \nQ 5389 4851 5389 4813 \nQ 5382 4589 5372 4224 \nQ 5363 3859 5363 3334 \nQ 5363 3008 5363 2784 \nQ 5363 2560 5370 2445 \nQ 5376 2323 5376 2220 \nQ 5376 2118 5382 2029 \nL 4922 2029 \nQ 4941 2189 4941 2394 \nL 4941 2822 \nL 3878 2803 \nL 3878 3174 \nL 4941 3162 \nL 4941 3917 \nL 3859 3904 \nL 3859 4269 \nL 4941 4256 \nL 4941 4685 \nQ 4941 4909 4934 5021 \nQ 4928 5133 4915 5190 \nL 5056 5190 \nQ 5222 5190 5331 5164 \nQ 5440 5139 5440 5062 \nz\nM 3488 4877 \nL 3469 4710 \nL 3456 3462 \nL 3469 2362 \nL 851 2362 \nQ 851 2630 857 2944 \nQ 864 3258 870 3578 \nQ 870 3853 870 4061 \nQ 870 4269 864 4416 \nQ 858 4570 858 4704 \nQ 858 4838 851 4966 \nL 979 4966 \nQ 1146 4966 1242 4950 \nQ 1338 4934 1338 4864 \nQ 1338 4838 1315 4761 \nQ 1293 4685 1293 4653 \nL 1293 4051 \nL 2157 4032 \nL 3027 4051 \nL 3014 4998 \nL 3072 4998 \nQ 3264 4998 3376 4976 \nQ 3488 4954 3488 4877 \nz\n\" id=\"AppleGothic-bcc4\" transform=\"scale(0.015625)\"/>\n      <path id=\"AppleGothic-20\" transform=\"scale(0.015625)\"/>\n      <path d=\"M 4954 32 \nL 4954 736 \nL 3232 736 \nQ 3002 736 2829 736 \nQ 2656 736 2528 730 \nQ 2400 730 2278 726 \nQ 2157 723 2029 717 \nL 2029 -26 \nL 3418 -26 \nQ 3898 -26 4294 -6 \nQ 4691 13 4954 32 \nz\nM 5446 1677 \nQ 5446 1658 5433 1578 \nQ 5421 1498 5421 1427 \nL 5414 538 \nL 5414 -90 \nQ 5421 -198 5424 -304 \nQ 5427 -410 5434 -506 \nL 4960 -506 \nL 4954 -339 \nL 2048 -403 \nL 2022 -531 \nL 1562 -538 \nQ 1562 -480 1562 -355 \nQ 1562 -230 1568 -32 \nQ 1574 160 1577 294 \nQ 1581 429 1581 499 \nQ 1581 806 1574 1113 \nQ 1568 1421 1555 1683 \nL 1965 1677 \nQ 2054 1677 2054 1594 \nQ 2054 1568 2041 1494 \nQ 2029 1421 2029 1408 \nL 2029 1107 \nQ 2240 1094 2505 1088 \nQ 2771 1082 3059 1082 \nL 4954 1126 \nL 4960 1434 \nL 4941 1773 \nL 5082 1773 \nQ 5286 1773 5366 1750 \nQ 5446 1728 5446 1677 \nz\nM 4448 2182 \nQ 4333 2170 4233 2157 \nQ 4134 2144 4045 2138 \nQ 3750 2112 3462 2099 \nQ 3174 2086 2874 2086 \nQ 2605 2086 2291 2080 \nQ 1978 2074 1626 2061 \nQ 1498 2054 1331 2048 \nQ 1165 2042 954 2029 \nL 973 3283 \nL 954 4582 \nL 2573 4589 \nQ 2899 4589 3305 4605 \nQ 3712 4621 4064 4640 \nL 4064 4237 \nL 3162 4250 \nQ 3014 4250 2796 4243 \nQ 2579 4237 2278 4224 \nQ 1984 4211 1766 4204 \nQ 1549 4198 1402 4198 \nL 1402 3552 \nL 1760 3546 \nQ 1926 3546 2204 3555 \nQ 2483 3565 2874 3578 \nQ 3264 3597 3517 3603 \nQ 3770 3610 3885 3610 \nL 3885 3187 \nL 2477 3200 \nQ 2131 3200 1881 3193 \nQ 1632 3187 1408 3168 \nL 1408 2458 \nL 2886 2470 \nQ 3258 2470 3872 2509 \nQ 3981 2515 4115 2521 \nQ 4250 2528 4422 2541 \nL 4448 2182 \nz\nM 5466 5062 \nQ 5466 5043 5440 4934 \nQ 5421 4819 5421 4749 \nL 5421 4531 \nQ 5402 3706 5402 3558 \nL 5421 1939 \nL 4928 1920 \nQ 4934 1997 4934 2067 \nQ 4934 2138 4934 2195 \nQ 4954 2970 4954 3341 \nL 4954 3539 \nQ 4941 4358 4931 4768 \nQ 4922 5178 4922 5190 \nL 5152 5197 \nQ 5299 5197 5382 5171 \nQ 5466 5146 5466 5062 \nz\n\" id=\"AppleGothic-d301\" transform=\"scale(0.015625)\"/>\n      <path d=\"M 4794 4013 \nQ 4794 4365 4365 4525 \nQ 3942 4685 3232 4685 \nQ 2400 4685 1997 4521 \nQ 1594 4358 1594 4058 \nQ 1594 3642 2189 3462 \nQ 2579 3341 3226 3341 \nQ 3936 3341 4339 3488 \nQ 4794 3661 4794 4013 \nz\nM 5222 -467 \nL 3238 -448 \nL 1280 -454 \nL 1293 109 \nL 1280 800 \nL 2938 787 \nL 4621 800 \nL 4621 1382 \nL 1286 1357 \nL 1286 1715 \nQ 1421 1709 1849 1699 \nQ 2278 1690 3040 1690 \nQ 3411 1690 3715 1693 \nQ 4019 1696 4265 1699 \nQ 4512 1702 4713 1705 \nQ 4915 1709 5094 1709 \nL 5094 474 \nL 3635 480 \nL 1754 461 \nL 1754 -128 \nL 3187 -128 \nQ 3629 -128 3955 -125 \nQ 4282 -122 4493 -115 \nQ 4710 -109 4892 -102 \nQ 5075 -96 5222 -83 \nL 5222 -467 \nz\nM 5990 2144 \nQ 5811 2150 5667 2150 \nQ 5523 2150 5414 2150 \nQ 4621 2163 4093 2169 \nQ 3565 2176 3290 2176 \nQ 2746 2176 2323 2176 \nQ 1901 2176 1581 2170 \nQ 1261 2163 973 2160 \nQ 685 2157 416 2144 \nL 416 2534 \nQ 467 2534 598 2534 \nQ 730 2534 934 2528 \nQ 1331 2522 2042 2509 \nQ 2400 2502 2701 2502 \nQ 3002 2502 3251 2502 \nQ 3616 2502 3901 2502 \nQ 4186 2502 4397 2509 \nQ 4602 2515 4826 2515 \nQ 5050 2515 5280 2522 \nQ 5517 2528 5693 2531 \nQ 5869 2534 5990 2534 \nL 5990 2144 \nz\nM 5261 3994 \nQ 5261 3469 4723 3219 \nQ 4211 2982 3264 2982 \nQ 2822 2982 2470 3033 \nQ 2118 3085 1850 3181 \nQ 1152 3437 1152 4013 \nQ 1152 4582 1798 4845 \nQ 2054 4941 2403 4992 \nQ 2752 5043 3213 5043 \nQ 4109 5043 4659 4794 \nQ 5261 4518 5261 3994 \nz\n\" id=\"AppleGothic-c744\" transform=\"scale(0.015625)\"/>\n      <path d=\"M 5440 -454 \nQ 5011 -442 4339 -435 \nQ 3994 -429 3696 -429 \nQ 3398 -429 3130 -429 \nL 1261 -448 \nL 1274 410 \nL 1261 1069 \nL 1478 1075 \nQ 1581 1075 1677 1062 \nQ 1773 1050 1773 986 \nQ 1773 966 1753 905 \nQ 1734 845 1734 813 \nL 1722 397 \nL 1722 -19 \nL 3110 -32 \nQ 3642 -32 4237 -22 \nQ 4832 -13 5440 -6 \nL 5440 -454 \nz\nM 5971 1952 \nQ 5555 1952 4730 1971 \nQ 3904 1990 3494 1990 \nL 3501 666 \nQ 3501 563 3366 557 \nQ 3309 550 3264 547 \nQ 3219 544 3194 544 \nQ 3008 544 3008 621 \nL 3014 1990 \nL 1677 1978 \nQ 1414 1978 1222 1978 \nQ 1030 1978 896 1971 \nQ 755 1965 636 1961 \nQ 518 1958 410 1946 \nL 410 2387 \nQ 480 2387 643 2384 \nQ 806 2381 1069 2374 \nQ 1331 2368 1619 2365 \nQ 1907 2362 2240 2355 \nQ 2573 2349 2813 2349 \nQ 3053 2349 3206 2349 \nQ 4051 2349 4720 2361 \nQ 5389 2374 5971 2394 \nL 5971 1952 \nz\nM 5485 3213 \nQ 5478 3200 5478 3187 \nQ 5472 3162 5440 3123 \nL 5197 2816 \nQ 5069 2848 4966 2873 \nQ 4864 2899 4781 2925 \nQ 4294 3091 3910 3340 \nQ 3526 3590 3302 3936 \nQ 3258 4006 3213 4083 \nQ 3149 3994 3101 3930 \nQ 3053 3866 3008 3814 \nQ 2451 3181 1562 2886 \nQ 1414 2835 1197 2790 \nL 1088 2899 \nQ 954 3046 902 3085 \nQ 864 3123 858 3142 \nQ 851 3149 851 3155 \nQ 851 3162 966 3200 \nQ 1088 3219 1184 3238 \nQ 1280 3258 1363 3277 \nQ 1594 3334 1805 3433 \nQ 2016 3533 2208 3661 \nQ 2656 3962 2854 4333 \nQ 2886 4390 2912 4467 \nQ 2938 4544 2963 4634 \nL 2080 4634 \nL 1024 4614 \nL 1024 5030 \nQ 1459 5018 2019 5011 \nQ 2579 5005 3238 5005 \nQ 3885 5005 4419 5011 \nQ 4954 5018 5370 5030 \nL 5370 4614 \nL 4429 4634 \nL 3488 4627 \nQ 3488 4544 3520 4429 \nQ 3635 4064 4045 3776 \nQ 4435 3501 4947 3347 \nQ 5037 3328 5142 3305 \nQ 5248 3283 5389 3258 \nQ 5414 3251 5427 3248 \nQ 5440 3245 5453 3245 \nQ 5485 3232 5485 3213 \nz\n\" id=\"AppleGothic-c900\" transform=\"scale(0.015625)\"/>\n      <path d=\"M 3398 3142 \nQ 3398 3405 2963 3469 \nQ 2816 3494 2592 3494 \nL 2541 3494 \nQ 2163 3494 2003 3450 \nQ 1658 3366 1658 3136 \nQ 1658 2950 1866 2860 \nQ 2074 2771 2541 2771 \nQ 2707 2771 2832 2784 \nQ 2957 2797 3059 2816 \nQ 3398 2899 3398 3142 \nz\nM 5658 -141 \nQ 5658 -186 5542 -269 \nQ 5510 -294 5472 -345 \nQ 5434 -397 5382 -467 \nQ 5370 -499 5344 -544 \nQ 5216 -512 5107 -477 \nQ 4998 -442 4922 -410 \nQ 4422 -224 4032 83 \nQ 3904 179 3795 284 \nQ 3686 390 3597 499 \nQ 3494 634 3398 838 \nQ 3379 794 3360 762 \nQ 3341 730 3328 698 \nQ 3098 358 2624 0 \nQ 2458 -128 2269 -233 \nQ 2080 -339 1856 -429 \nQ 1709 -486 1491 -563 \nQ 1478 -550 1417 -492 \nQ 1357 -435 1235 -326 \nQ 1216 -314 1190 -285 \nQ 1165 -256 1133 -224 \nQ 1133 -205 1158 -198 \nL 1210 -179 \nQ 1293 -166 1357 -150 \nQ 1421 -134 1472 -122 \nQ 1792 -26 2061 115 \nQ 2330 256 2547 442 \nQ 2867 710 3030 995 \nQ 3194 1280 3194 1491 \nQ 3226 1491 3274 1488 \nQ 3322 1485 3379 1478 \nQ 3699 1453 3699 1382 \nQ 3654 1293 3654 1242 \nQ 3667 1203 3680 1164 \nQ 3693 1126 3706 1094 \nQ 3878 730 4307 397 \nQ 4634 134 5069 -13 \nQ 5139 -38 5228 -57 \nQ 5318 -77 5427 -102 \nQ 5440 -109 5549 -109 \nQ 5658 -109 5658 -141 \nz\nM 4403 1882 \nQ 4243 1856 4108 1840 \nQ 3974 1824 3866 1811 \nQ 3155 1734 2541 1734 \nQ 2342 1734 2073 1728 \nQ 1805 1722 1459 1702 \nQ 1229 1696 838 1664 \nL 634 1606 \nQ 576 1606 547 1718 \nQ 518 1830 518 2016 \nQ 557 2016 633 2013 \nQ 710 2010 838 2003 \nL 1139 2003 \nL 2330 2035 \nL 2323 2490 \nQ 2138 2522 1952 2550 \nQ 1766 2579 1581 2611 \nQ 1261 2778 1261 3130 \nQ 1261 3533 1670 3686 \nQ 1920 3789 2374 3789 \nL 2720 3789 \nQ 3162 3789 3398 3699 \nQ 3782 3552 3782 3155 \nQ 3782 2701 3296 2547 \nQ 2771 2490 2758 2483 \nL 2758 2042 \nL 3578 2093 \nL 4378 2163 \nL 4403 1882 \nz\nM 5434 5069 \nQ 5382 4934 5382 4883 \nQ 5370 4544 5363 4144 \nQ 5357 3744 5357 3373 \nL 5363 1171 \nL 4928 1171 \nQ 4934 1395 4934 1628 \nQ 4934 1862 4941 2125 \nQ 4947 2387 4947 2624 \nQ 4947 2861 4947 3072 \nL 4947 3475 \nQ 4947 3936 4947 4227 \nQ 4947 4518 4941 4666 \nQ 4941 4813 4937 4941 \nQ 4934 5069 4934 5178 \nL 5037 5178 \nQ 5222 5178 5328 5158 \nQ 5434 5139 5434 5069 \nz\nM 4282 3974 \nQ 3949 3987 3520 3993 \nQ 3091 4000 2579 4000 \nL 2419 4000 \nQ 1997 4000 1587 3993 \nQ 1178 3987 845 3974 \nL 845 4358 \nQ 1178 4346 1590 4333 \nQ 2003 4320 2445 4320 \nL 2586 4320 \nQ 3098 4320 3523 4333 \nQ 3949 4346 4282 4358 \nL 4282 3974 \nz\nM 3155 4666 \nL 2534 4678 \nL 1811 4666 \nL 1811 4998 \nL 2541 4979 \nL 3155 4998 \nL 3155 4666 \nz\n\" id=\"AppleGothic-d69f\" transform=\"scale(0.015625)\"/>\n      <path d=\"M 6022 1952 \nL 3411 1952 \nL 3424 896 \nL 3462 -582 \nL 2982 -582 \nL 2982 1952 \nQ 2912 1952 2774 1949 \nQ 2637 1946 2419 1939 \nQ 2208 1933 2086 1933 \nQ 1965 1933 1933 1933 \nL 378 1894 \nL 378 2304 \nL 3206 2298 \nQ 3706 2298 4202 2307 \nQ 4698 2317 5184 2330 \nQ 5536 2342 6022 2368 \nL 6022 1952 \nz\nM 5792 3482 \nQ 5792 3450 5747 3402 \nQ 5702 3354 5658 3315 \nL 5523 3117 \nQ 5453 3123 5395 3126 \nQ 5338 3130 5286 3142 \nQ 4685 3251 4090 3610 \nQ 3699 3846 3411 4250 \nQ 3360 4320 3312 4409 \nQ 3264 4499 3206 4621 \nQ 3149 4512 3097 4422 \nQ 3046 4333 2995 4262 \nQ 2688 3846 2208 3552 \nQ 2054 3450 1875 3370 \nQ 1696 3290 1498 3219 \nQ 1382 3181 1232 3142 \nQ 1082 3104 896 3072 \nQ 896 3072 873 3101 \nQ 851 3130 828 3162 \nQ 806 3194 780 3226 \nQ 755 3258 749 3270 \nQ 736 3290 678 3347 \nQ 621 3405 621 3424 \nL 640 3443 \nQ 730 3450 810 3453 \nQ 890 3456 954 3469 \nQ 1338 3526 1674 3676 \nQ 2010 3827 2298 4077 \nQ 2605 4326 2790 4659 \nQ 2842 4755 2886 4880 \nQ 2931 5005 2970 5171 \nL 3411 5133 \nQ 3475 5133 3475 5075 \nQ 3475 5056 3472 5037 \nQ 3469 5018 3462 4992 \nQ 3462 4973 3443 4947 \nQ 3482 4832 3520 4755 \nQ 3738 4301 4230 3974 \nQ 4659 3686 5261 3571 \nQ 5363 3552 5488 3536 \nQ 5613 3520 5766 3507 \nQ 5786 3507 5792 3482 \nz\n\" id=\"AppleGothic-c218\" transform=\"scale(0.015625)\"/>\n     </defs>\n     <use xlink:href=\"#AppleGothic-c131\"/>\n     <use x=\"99.999985\" xlink:href=\"#AppleGothic-bcc4\"/>\n     <use x=\"199.999969\" xlink:href=\"#AppleGothic-20\"/>\n     <use x=\"231.999954\" xlink:href=\"#AppleGothic-d301\"/>\n     <use x=\"331.999939\" xlink:href=\"#AppleGothic-c744\"/>\n     <use x=\"431.999924\" xlink:href=\"#AppleGothic-20\"/>\n     <use x=\"463.999908\" xlink:href=\"#AppleGothic-c900\"/>\n     <use x=\"563.999893\" xlink:href=\"#AppleGothic-20\"/>\n     <use x=\"595.999878\" xlink:href=\"#AppleGothic-d69f\"/>\n     <use x=\"695.999863\" xlink:href=\"#AppleGothic-c218\"/>\n    </g>\n   </g>\n  </g>\n </g>\n <defs>\n  <clipPath id=\"p3f83636dbb\">\n   <rect height=\"217.44\" width=\"334.8\" x=\"54.613125\" y=\"22.60875\"/>\n  </clipPath>\n </defs>\n</svg>\n",
      "image/png": "[encoded data removed]"
     },
     "metadata": {
      "needs_background": "light"
     }
    }
   ],
   "metadata": {}
  },
  {
   "cell_type": "markdown",
   "source": [
    "## 2.3. 공구세트로 데이터 분석을 시작해보자!"
   ],
   "metadata": {}
  },
  {
   "cell_type": "markdown",
   "source": [
    "#### 데이터 파일 불러오기, csv파일로 저장하기"
   ],
   "metadata": {}
  },
  {
   "cell_type": "code",
   "execution_count": 138,
   "source": [
    "# dataframe을 csv 파일로 저장\n",
    "my_df_2.to_csv('my_df_2.csv')\n",
    "\n",
    "# 한글이 포함된 경우, 엑셀을 위해 인코딩 지정\n",
    "my_df_2.to_csv('my_df_2.csv', encoding='cp949')"
   ],
   "outputs": [],
   "metadata": {}
  },
  {
   "cell_type": "code",
   "execution_count": 139,
   "source": [
    "# csv 파일을 dataframe으로 불러오기\n",
    "readed_df = pd.read_csv('my_df_2.csv')\n",
    "\n",
    "# encoding 지정하여 한글이 포함된 csv 파일 불러오기\n",
    "readed_df = pd.read_csv('my_df_2.csv', encoding='cp949',\n",
    "                       index_col=0)\n",
    "readed_df"
   ],
   "outputs": [
    {
     "output_type": "execute_result",
     "data": {
      "text/plain": [
       "            A005960  A005980  A005990\n",
       "2020-09-09  11000.0    671.0   7990.0\n",
       "2020-09-10  11150.0    671.0   7960.0\n",
       "2020-09-11  11050.0    671.0   8120.0"
      ],
      "text/html": [
       "<div>\n",
       "<style scoped>\n",
       "    .dataframe tbody tr th:only-of-type {\n",
       "        vertical-align: middle;\n",
       "    }\n",
       "\n",
       "    .dataframe tbody tr th {\n",
       "        vertical-align: top;\n",
       "    }\n",
       "\n",
       "    .dataframe thead th {\n",
       "        text-align: right;\n",
       "    }\n",
       "</style>\n",
       "<table border=\"1\" class=\"dataframe\">\n",
       "  <thead>\n",
       "    <tr style=\"text-align: right;\">\n",
       "      <th></th>\n",
       "      <th>A005960</th>\n",
       "      <th>A005980</th>\n",
       "      <th>A005990</th>\n",
       "    </tr>\n",
       "  </thead>\n",
       "  <tbody>\n",
       "    <tr>\n",
       "      <th>2020-09-09</th>\n",
       "      <td>11000.0</td>\n",
       "      <td>671.0</td>\n",
       "      <td>7990.0</td>\n",
       "    </tr>\n",
       "    <tr>\n",
       "      <th>2020-09-10</th>\n",
       "      <td>11150.0</td>\n",
       "      <td>671.0</td>\n",
       "      <td>7960.0</td>\n",
       "    </tr>\n",
       "    <tr>\n",
       "      <th>2020-09-11</th>\n",
       "      <td>11050.0</td>\n",
       "      <td>671.0</td>\n",
       "      <td>8120.0</td>\n",
       "    </tr>\n",
       "  </tbody>\n",
       "</table>\n",
       "</div>"
      ]
     },
     "metadata": {},
     "execution_count": 139
    }
   ],
   "metadata": {}
  },
  {
   "cell_type": "code",
   "execution_count": 140,
   "source": [
    "readed_df"
   ],
   "outputs": [
    {
     "output_type": "execute_result",
     "data": {
      "text/plain": [
       "            A005960  A005980  A005990\n",
       "2020-09-09  11000.0    671.0   7990.0\n",
       "2020-09-10  11150.0    671.0   7960.0\n",
       "2020-09-11  11050.0    671.0   8120.0"
      ],
      "text/html": [
       "<div>\n",
       "<style scoped>\n",
       "    .dataframe tbody tr th:only-of-type {\n",
       "        vertical-align: middle;\n",
       "    }\n",
       "\n",
       "    .dataframe tbody tr th {\n",
       "        vertical-align: top;\n",
       "    }\n",
       "\n",
       "    .dataframe thead th {\n",
       "        text-align: right;\n",
       "    }\n",
       "</style>\n",
       "<table border=\"1\" class=\"dataframe\">\n",
       "  <thead>\n",
       "    <tr style=\"text-align: right;\">\n",
       "      <th></th>\n",
       "      <th>A005960</th>\n",
       "      <th>A005980</th>\n",
       "      <th>A005990</th>\n",
       "    </tr>\n",
       "  </thead>\n",
       "  <tbody>\n",
       "    <tr>\n",
       "      <th>2020-09-09</th>\n",
       "      <td>11000.0</td>\n",
       "      <td>671.0</td>\n",
       "      <td>7990.0</td>\n",
       "    </tr>\n",
       "    <tr>\n",
       "      <th>2020-09-10</th>\n",
       "      <td>11150.0</td>\n",
       "      <td>671.0</td>\n",
       "      <td>7960.0</td>\n",
       "    </tr>\n",
       "    <tr>\n",
       "      <th>2020-09-11</th>\n",
       "      <td>11050.0</td>\n",
       "      <td>671.0</td>\n",
       "      <td>8120.0</td>\n",
       "    </tr>\n",
       "  </tbody>\n",
       "</table>\n",
       "</div>"
      ]
     },
     "metadata": {},
     "execution_count": 140
    }
   ],
   "metadata": {}
  },
  {
   "cell_type": "code",
   "execution_count": null,
   "source": [],
   "outputs": [],
   "metadata": {}
  }
 ],
 "metadata": {
  "orig_nbformat": 4,
  "language_info": {
   "name": "python",
   "version": "3.9.6",
   "mimetype": "text/x-python",
   "codemirror_mode": {
    "name": "ipython",
    "version": 3
   },
   "pygments_lexer": "ipython3",
   "nbconvert_exporter": "python",
   "file_extension": ".py"
  },
  "kernelspec": {
   "name": "python3",
   "display_name": "Python 3.9.6 64-bit ('work': conda)"
  },
  "interpreter": {
   "hash": "c63e62520d79bf01d5c1e69a957a402dab95e73f88f10f6fd0e357dcf107d99b"
  }
 },
 "nbformat": 4,
 "nbformat_minor": 2
}